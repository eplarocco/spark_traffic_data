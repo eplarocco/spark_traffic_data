{
 "cells": [
  {
   "cell_type": "markdown",
   "metadata": {},
   "source": [
    "# Research Question:\n",
    "### What are the most influential variables on the severity of accidents?"
   ]
  },
  {
   "cell_type": "markdown",
   "metadata": {},
   "source": [
    "Useful Paper:\n",
    "    https://www.sciencedirect.com/science/article/pii/S2590198223000611"
   ]
  },
  {
   "cell_type": "code",
   "execution_count": 1,
   "metadata": {
    "tags": []
   },
   "outputs": [
    {
     "data": {
      "text/html": [
       "<style>pre { white-space: pre !important; }</style>"
      ],
      "text/plain": [
       "<IPython.core.display.HTML object>"
      ]
     },
     "metadata": {},
     "output_type": "display_data"
    }
   ],
   "source": [
    "#Display Spark Output in scrollable format within jupyter notebook\n",
    "from IPython.core.display import HTML\n",
    "display(HTML(\"<style>pre { white-space: pre !important; }</style>\"))"
   ]
  },
  {
   "cell_type": "code",
   "execution_count": 2,
   "metadata": {
    "tags": []
   },
   "outputs": [],
   "source": [
    "#Supress Warnings\n",
    "import warnings\n",
    "warnings.filterwarnings(\"ignore\")"
   ]
  },
  {
   "cell_type": "code",
   "execution_count": 3,
   "metadata": {
    "tags": []
   },
   "outputs": [],
   "source": [
    "# Import Libraries\n",
    "import pandas as pd\n",
    "import numpy as np\n",
    "import os\n",
    "import pyspark\n",
    "from pyspark.sql import SparkSession\n",
    "from pyspark.sql.types import *\n",
    "from pyspark.ml.feature import VectorAssembler\n",
    "from pyspark.ml.stat import Correlation\n",
    "import seaborn as sns\n",
    "import matplotlib.pyplot as plt\n",
    "import pyspark.sql.functions as F\n",
    "from pyspark.ml.classification import RandomForestClassifier, GBTClassifier\n",
    "from pyspark.ml import Pipeline\n",
    "from pyspark.mllib.evaluation import MulticlassMetrics, BinaryClassificationMetrics\n",
    "from pyspark.ml.pipeline import PipelineModel\n",
    "from pyspark.ml.evaluation import MulticlassClassificationEvaluator\n",
    "from pyspark.ml.tuning import CrossValidator, ParamGridBuilder"
   ]
  },
  {
   "cell_type": "markdown",
   "metadata": {},
   "source": [
    "# Load Data"
   ]
  },
  {
   "cell_type": "code",
   "execution_count": 4,
   "metadata": {
    "tags": []
   },
   "outputs": [
    {
     "name": "stderr",
     "output_type": "stream",
     "text": [
      "Setting default log level to \"WARN\".\n",
      "To adjust logging level use sc.setLogLevel(newLevel). For SparkR, use setLogLevel(newLevel).\n",
      "24/11/25 16:05:10 WARN NativeCodeLoader: Unable to load native-hadoop library for your platform... using builtin-java classes where applicable\n"
     ]
    }
   ],
   "source": [
    "#Instantiate Spark Session\n",
    "spark = (SparkSession\n",
    "  .builder\n",
    "  .appName(\"US_Accidents\")\n",
    "  .getOrCreate())\n",
    "spark.sparkContext.setLogLevel(\"ERROR\") #supress warnings"
   ]
  },
  {
   "cell_type": "code",
   "execution_count": 5,
   "metadata": {
    "tags": []
   },
   "outputs": [
    {
     "name": "stderr",
     "output_type": "stream",
     "text": [
      "                                                                                \r"
     ]
    },
    {
     "name": "stdout",
     "output_type": "stream",
     "text": [
      "+-----------+--------+--------+----------+----------+-------------+-------+---------+----+----+-------------+--------------------------+--------------------+---------+-------------------+------------+-----------+--------------------+--------------------+-----------+---------------+-----------------+\n",
      "|Temperature|Humidity|Pressure|Visibility|Wind_Speed|Precipitation|Weekday|Rush_Hour|Rain|Snow|    SeasonVec|Astronomical_TwilightIndex|Interstate_Indicator|Sex_ratio|Percent_Age_65_over|MedianIncome|Urban_Ratio|Traffic_Interference|Traffic_Intersection|Destination|Severity_Binary|Percent_Age_15-24|\n",
      "+-----------+--------+--------+----------+----------+-------------+-------+---------+----+----+-------------+--------------------------+--------------------+---------+-------------------+------------+-----------+--------------------+--------------------+-----------+---------------+-----------------+\n",
      "|         21|      85|      30|         1|        10|            0|      1|        1|   0|   1|(3,[0],[1.0])|                         0|                   0|     97.6|               13.1|    104583.0|        1.0|                   0|                   1|          0|              0|             12.0|\n",
      "|         51|      29|      29|        10|         8|            0|      1|        0|   0|   0|(3,[0],[1.0])|                         1|                   0|     89.6|               12.7|    128378.0|      0.982|                   0|                   0|          0|              0|             13.5|\n",
      "|         55|      83|      30|        10|         0|            0|      1|        1|   0|   0|(3,[0],[1.0])|                         0|                   1|     94.6|               17.3|     52577.0|     0.9968|                   0|                   0|          0|              1|             12.3|\n",
      "|         52|      94|      30|        10|         9|            0|      1|        1|   0|   0|(3,[0],[1.0])|                         0|                   0|    106.8|               11.6|     48740.0|        1.0|                   0|                   0|          0|              0|             14.6|\n",
      "|         25|      96|      30|         0|         0|            0|      1|        1|   0|   0|(3,[0],[1.0])|                         0|                   0|     95.9|               14.4|     62956.0|     0.9887|                   0|                   0|          0|              0|             12.4|\n",
      "+-----------+--------+--------+----------+----------+-------------+-------+---------+----+----+-------------+--------------------------+--------------------+---------+-------------------+------------+-----------+--------------------+--------------------+-----------+---------------+-----------------+\n",
      "only showing top 5 rows\n",
      "\n"
     ]
    }
   ],
   "source": [
    "# Read in Dataset\n",
    "df = spark.read.parquet(\"final_dataset_binary.parquet\")\n",
    "df.show(5)"
   ]
  },
  {
   "cell_type": "code",
   "execution_count": 6,
   "metadata": {
    "tags": []
   },
   "outputs": [
    {
     "name": "stdout",
     "output_type": "stream",
     "text": [
      "DataFrame Rows count : 7026806\n",
      "DataFrame Columns count : 22\n"
     ]
    }
   ],
   "source": [
    "# Get row count\n",
    "rows = df.count()\n",
    "print(f\"DataFrame Rows count : {rows}\")\n",
    "\n",
    "# Get columns count\n",
    "cols = len(df.columns)\n",
    "print(f\"DataFrame Columns count : {cols}\")"
   ]
  },
  {
   "cell_type": "markdown",
   "metadata": {},
   "source": [
    "# Sampling"
   ]
  },
  {
   "cell_type": "code",
   "execution_count": 7,
   "metadata": {
    "tags": []
   },
   "outputs": [
    {
     "name": "stdout",
     "output_type": "stream",
     "text": [
      "+---------------+-------+------------------+\n",
      "|Severity_Binary|  count|           percent|\n",
      "+---------------+-------+------------------+\n",
      "|              1|1302620|18.537867702623352|\n",
      "|              0|5724186| 81.46213229737664|\n",
      "+---------------+-------+------------------+\n",
      "\n"
     ]
    }
   ],
   "source": [
    "# Check Class Imbalance\n",
    "cts = df.groupBy(\"Severity_Binary\").count().withColumn('percent', (F.col('count') / rows)*100)\n",
    "cts.show()"
   ]
  },
  {
   "cell_type": "code",
   "execution_count": 8,
   "metadata": {
    "tags": []
   },
   "outputs": [
    {
     "name": "stderr",
     "output_type": "stream",
     "text": [
      "                                                                                \r"
     ]
    }
   ],
   "source": [
    "# Undersample each class by 80% of the smallest class\n",
    "sample = (cts.select(\"count\").rdd.min()[0])*0.8\n",
    "\n",
    "class0 = sample/(cts.select(\"count\").where(cts.Severity_Binary == '0').rdd.min()[0])\n",
    "class1 = sample/(cts.select(\"count\").where(cts.Severity_Binary == '1').rdd.min()[0])\n",
    "\n",
    "# Split Data by Class - Downsampling\n",
    "\n",
    "# Create a temporary view to use SQL\n",
    "df.createOrReplaceTempView(\"data_view\")\n",
    "\n",
    "# Calculate fractions for each class\n",
    "#fractions = df.groupBy(\"Severity\").count().rdd.map(lambda row: (row[0], 0.8)).collectAsMap() #samples 80% of each class\n",
    "fractions = {0: class0, 1: class1} #downsample each class to 80% of the smallest class\n",
    "\n",
    "# Use stratified sampling to maintain class distribution\n",
    "train_data = df.sampleBy(\"Severity_Binary\", fractions, seed=42)\n",
    "test_data = df.subtract(train_data)"
   ]
  },
  {
   "cell_type": "code",
   "execution_count": 9,
   "metadata": {
    "tags": []
   },
   "outputs": [
    {
     "name": "stdout",
     "output_type": "stream",
     "text": [
      "29.68448253730073\n",
      "+---------------+-------+-----------------+\n",
      "|Severity_Binary|  count|          percent|\n",
      "+---------------+-------+-----------------+\n",
      "|              1|1042070| 49.9585065423509|\n",
      "|              0|1043801|50.04149345764911|\n",
      "+---------------+-------+-----------------+\n",
      "\n"
     ]
    }
   ],
   "source": [
    "# Print Overall % Sampled from DF\n",
    "print(train_data.count()/df.count()*100)\n",
    "\n",
    "# Print % Sampled for each class within Train Data\n",
    "train_data.groupBy(\"Severity_Binary\").count().withColumn('percent', (F.col('count') / train_data.count())*100).show()"
   ]
  },
  {
   "cell_type": "code",
   "execution_count": 10,
   "metadata": {
    "tags": []
   },
   "outputs": [
    {
     "name": "stderr",
     "output_type": "stream",
     "text": [
      "                                                                                \r"
     ]
    },
    {
     "name": "stdout",
     "output_type": "stream",
     "text": [
      "54.53338259231862\n"
     ]
    },
    {
     "name": "stderr",
     "output_type": "stream",
     "text": [
      "[Stage 68:>                                                         (0 + 8) / 9]\r"
     ]
    },
    {
     "name": "stdout",
     "output_type": "stream",
     "text": [
      "+---------------+-------+-----------------+\n",
      "|Severity_Binary|  count|          percent|\n",
      "+---------------+-------+-----------------+\n",
      "|              1| 233338|6.089267749751759|\n",
      "|              0|3598617|93.91073225024824|\n",
      "+---------------+-------+-----------------+\n",
      "\n"
     ]
    },
    {
     "name": "stderr",
     "output_type": "stream",
     "text": [
      "                                                                                \r"
     ]
    }
   ],
   "source": [
    "# Print Overall % Sampled from DF\n",
    "print(test_data.count()/df.count()*100)\n",
    "\n",
    "# Print % Sampled for each class within Train Data\n",
    "test_data.groupBy(\"Severity_Binary\").count().withColumn('percent', (F.col('count') / test_data.count())*100).show()"
   ]
  },
  {
   "cell_type": "markdown",
   "metadata": {},
   "source": [
    "# Modeling"
   ]
  },
  {
   "cell_type": "code",
   "execution_count": 11,
   "metadata": {
    "tags": []
   },
   "outputs": [],
   "source": [
    "from pyspark.ml.evaluation import MulticlassClassificationEvaluator\n",
    "from pyspark.ml.tuning import CrossValidator, ParamGridBuilder\n",
    "\n",
    "# Select all features except target variable\n",
    "feature_list = []\n",
    "for col in df.columns:\n",
    "    if col == 'Severity_Binary':\n",
    "        continue\n",
    "    else:\n",
    "        feature_list.append(col)     \n",
    "        \n",
    "# Vectorize Features\n",
    "assembler = VectorAssembler(inputCols=feature_list, outputCol='features')"
   ]
  },
  {
   "cell_type": "code",
   "execution_count": 13,
   "metadata": {
    "tags": []
   },
   "outputs": [
    {
     "name": "stderr",
     "output_type": "stream",
     "text": [
      "                                                                                \r"
     ]
    },
    {
     "name": "stdout",
     "output_type": "stream",
     "text": [
      "Recall:  0.6685580574102804\n",
      "{\n",
      "\tGBTClassifier_577ff59745aa-featuresCol: features,\n",
      "\tGBTClassifier_577ff59745aa-labelCol: Severity_Binary,\n",
      "\tGBTClassifier_577ff59745aa-maxDepth: 7,\n",
      "\tGBTClassifier_577ff59745aa-maxIter: 3\n",
      "}\n"
     ]
    }
   ],
   "source": [
    "# Create a RandomForestClassifier\n",
    "rf = GBTClassifier(labelCol=\"Severity_Binary\", featuresCol=\"features\")\n",
    "# Create a pipeline\n",
    "pipeline = Pipeline(stages=[assembler, rf])\n",
    "\n",
    "# Define the parameter grid\n",
    "paramGrid = ParamGridBuilder() \\\n",
    "    .addGrid(rf.maxIter, [3, 4, 7, 10]) \\\n",
    "    .addGrid(rf.maxDepth, [5, 6, 7]) \\\n",
    "    .build()\n",
    "\n",
    "# Create a CrossValidator\n",
    "crossval = CrossValidator(estimator=pipeline,\n",
    "                          estimatorParamMaps=paramGrid,\n",
    "                          evaluator=MulticlassClassificationEvaluator(labelCol=\"Severity_Binary\"\n",
    "                                                                      , predictionCol=\"prediction\"\n",
    "                                                                      , metricName=\"truePositiveRateByLabel\"\n",
    "                                                                      , metricLabel=1.0),\n",
    "                          numFolds=5)\n",
    "\n",
    "# Fit the model\n",
    "cvModel = crossval.fit(train_data)\n",
    "\n",
    "# Make predictions on the test set\n",
    "predictions = cvModel.transform(test_data)\n",
    "\n",
    "# Evaluate the model\n",
    "evaluator = MulticlassClassificationEvaluator(labelCol=\"Severity_Binary\", predictionCol=\"prediction\", metricName=\"truePositiveRateByLabel\", metricLabel=1.0)\n",
    "recall = evaluator.evaluate(predictions)\n",
    "print(\"Recall: \", recall)\n",
    "\n",
    "# Get and save the best model\n",
    "bestModel = cvModel.bestModel\n",
    "bestModel.save(\"best_gbt_model\")\n",
    "print(bestModel.stages[-1]._java_obj.paramMap()) \n",
    "\n",
    "#Ran in 20 minutes"
   ]
  },
  {
   "cell_type": "markdown",
   "metadata": {},
   "source": [
    "## Load Saved Best Model"
   ]
  },
  {
   "cell_type": "code",
   "execution_count": 14,
   "metadata": {
    "tags": []
   },
   "outputs": [],
   "source": [
    "# Load the saved best model\n",
    "loadedCvModel = PipelineModel.load(\"best_gbt_model\")"
   ]
  },
  {
   "cell_type": "markdown",
   "metadata": {},
   "source": [
    "## Evaluation Metrics"
   ]
  },
  {
   "cell_type": "code",
   "execution_count": 15,
   "metadata": {
    "tags": []
   },
   "outputs": [
    {
     "name": "stderr",
     "output_type": "stream",
     "text": [
      "                                                                                \r"
     ]
    },
    {
     "name": "stdout",
     "output_type": "stream",
     "text": [
      "Weighted Precision: 0.9172081024221674\n",
      "Weighted F1 Score: 0.7584867321533\n",
      "Accuracy: 0.673250599237204\n"
     ]
    },
    {
     "data": {
      "image/png": "[encoded data removed]",
      "text/plain": [
       "<Figure size 640x480 with 2 Axes>"
      ]
     },
     "metadata": {},
     "output_type": "display_data"
    },
    {
     "name": "stderr",
     "output_type": "stream",
     "text": [
      "[Stage 4863:=====================================>                  (6 + 3) / 9]\r"
     ]
    },
    {
     "name": "stdout",
     "output_type": "stream",
     "text": [
      "Area Under ROC: 0.6710564629250086\n"
     ]
    },
    {
     "name": "stderr",
     "output_type": "stream",
     "text": [
      "                                                                                \r"
     ]
    }
   ],
   "source": [
    "# Further Metrics on Best Model\n",
    "pred = loadedCvModel.transform(test_data)\n",
    "\n",
    "#Evaluate (Confusion Matrix, Accuracy, Weighted Precision, Recall, and F1 Score)\n",
    "predictionAndLabels = pred.select(\"prediction\", \"Severity_Binary\")\n",
    "rdd = predictionAndLabels.rdd.map(lambda x: tuple(map(float, x)))\n",
    "multi_metrics = MulticlassMetrics(rdd)\n",
    "\n",
    "# Get precision, recall, and F1-score for each class\n",
    "print(f'Weighted Precision: {multi_metrics.weightedPrecision}') #would expect to be good when test sample has high majority 0 class\n",
    "#print(f'Weighted Recall: {multi_metrics.weightedRecall}')\n",
    "print(f'Weighted F1 Score: {multi_metrics.weightedFMeasure()}') #would like to optimize this (balance of precision and recall)\n",
    "print(f'Accuracy: {multi_metrics.accuracy}') #could be skewed with imbalanced test set\n",
    "\n",
    "# Plot confusion matrix\n",
    "cf = multi_metrics.confusionMatrix().toArray()\n",
    "cf_df = pd.DataFrame(cf, columns=['0', '1'])\n",
    "sns.heatmap(cf_df, annot=True, cmap=\"coolwarm\")\n",
    "plt.show()\n",
    "\n",
    "# AUC Score\n",
    "binary_metrics = BinaryClassificationMetrics(rdd)\n",
    "auc = binary_metrics.areaUnderROC\n",
    "print(\"Area Under ROC:\", auc)"
   ]
  },
  {
   "cell_type": "markdown",
   "metadata": {},
   "source": [
    "## Feature Importance"
   ]
  },
  {
   "cell_type": "code",
   "execution_count": 16,
   "metadata": {
    "tags": []
   },
   "outputs": [
    {
     "name": "stdout",
     "output_type": "stream",
     "text": [
      "Percent_Age_65_over: 0.3869253739097606\n",
      "Temperature: 0.11496502687118677\n",
      "Wind_Speed: 0.0967952228806276\n",
      "Pressure: 0.08414888863658247\n",
      "Traffic_Intersection: 0.054582735204807754\n",
      "SeasonVec: 0.04565781470451271\n",
      "Percent_Age_15-24: 0.0416667123391889\n",
      "Astronomical_TwilightIndex: 0.031445598330001476\n",
      "Traffic_Interference: 0.025492008742653154\n",
      "Humidity: 0.024152231707066575\n",
      "Interstate_Indicator: 0.02117547015689948\n",
      "MedianIncome: 0.013357533080524913\n",
      "Urban_Ratio: 0.009780774679372372\n",
      "Weekday: 0.008978982826591424\n",
      "Sex_ratio: 0.00749945640397082\n",
      "Destination: 0.005080132881547842\n",
      "Rush_Hour: 0.0037161319015281656\n",
      "Rain: 0.0013884745697444625\n",
      "Visibility: 0.0013836812327231729\n",
      "Snow: 0.0001243825021023369\n",
      "Precipitation: 0.0\n"
     ]
    }
   ],
   "source": [
    "feature_importances = cvModel.bestModel.stages[-1].featureImportances\n",
    "\n",
    "# Create a mapping between feature names and their importance scores\n",
    "feature_importance_dict = {}\n",
    "feature_names = assembler.getInputCols()\n",
    "for i, feature_name in enumerate(feature_names):\n",
    "    feature_importance_dict[feature_name] = feature_importances[i]\n",
    "\n",
    "# Sort the feature importance dictionary by score in descending order\n",
    "sorted_feature_importances = sorted(feature_importance_dict.items(), key=lambda x: x[1], reverse=True)\n",
    "\n",
    "# Print the feature importances\n",
    "for feature_name, importance_score in sorted_feature_importances:\n",
    "    print(f\"{feature_name}: {importance_score}\")"
   ]
  },
  {
   "cell_type": "code",
   "execution_count": null,
   "metadata": {},
   "outputs": [],
   "source": []
  }
 ],
 "metadata": {
  "kernelspec": {
   "display_name": "Python 3 (ipykernel)",
   "language": "python",
   "name": "python3"
  },
  "language_info": {
   "codemirror_mode": {
    "name": "ipython",
    "version": 3
   },
   "file_extension": ".py",
   "mimetype": "text/x-python",
   "name": "python",
   "nbconvert_exporter": "python",
   "pygments_lexer": "ipython3",
   "version": "3.11.5"
  }
 },
 "nbformat": 4,
 "nbformat_minor": 4
}
