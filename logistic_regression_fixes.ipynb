{
 "cells": [
  {
   "cell_type": "markdown",
   "id": "a969872d-7b2d-4254-84f7-02480cefad20",
   "metadata": {},
   "source": [
    "# Fixes:\n",
    "\n",
    "### Order of pipeline\n",
    "- you did assemble -> sample -> split -> scale -> model\n",
    "- I rearranged it to split -> sample (only train) -> assemble (train and test separate) -> scale (train and test separate) -> model\n",
    "### Have to stringindex labels before modeling\n",
    "- pyspark assumes you start with class 0 so that's why you ended up with 5 classes\n",
    "### Feature Importance \n",
    "- it's likely the feature importance that is wrong not the model\n",
    "- i don't think you can have just one feature importance since it's multinomial logistic regression\n",
    "- each class has it's own feature importance since it's doing a one-versus-rest situation\n"
    "- I just used coefficient magnitude instead of permutation importance to at least check that things were working"
   ]
  },
  {
   "cell_type": "code",
   "execution_count": 1,
   "id": "5853abf8-e203-4758-aa36-44a0799eb090",
   "metadata": {
    "tags": []
   },
   "outputs": [],
   "source": [
    "# Import Libraries\n",
    "import pandas as pd\n",
    "import numpy as np\n",
    "import os\n",
    "import pyspark\n",
    "from pyspark.sql import SparkSession\n",
    "from pyspark.sql.types import *\n",
    "from pyspark.sql.functions import *\n",
    "from pyspark.ml.feature import StringIndexer, OneHotEncoder, VectorAssembler\n",
    "from pyspark.ml.stat import Correlation\n",
    "import seaborn as sns\n",
    "import matplotlib.pyplot as plt\n",
    "import pyspark.sql.functions as F\n",
    "import holidays\n",
    "from datetime import datetime, timezone\n",
    "from pyspark.ml.classification import RandomForestClassifier, BinaryLogisticRegressionSummary\n",
    "from pyspark.ml import Pipeline\n",
    "from pyspark.mllib.evaluation import MulticlassMetrics, BinaryClassificationMetrics\n",
    "from pyspark.ml.pipeline import PipelineModel"
   ]
  },
  {
   "cell_type": "code",
   "execution_count": 2,
   "id": "9aeec964-9667-4a66-98af-f7c55a9c3b96",
   "metadata": {
    "tags": []
   },
   "outputs": [
    {
     "name": "stderr",
     "output_type": "stream",
     "text": [
      "Setting default log level to \"WARN\".\n",
      "To adjust logging level use sc.setLogLevel(newLevel). For SparkR, use setLogLevel(newLevel).\n",
      "24/11/11 20:25:14 WARN NativeCodeLoader: Unable to load native-hadoop library for your platform... using builtin-java classes where applicable\n"
     ]
    }
   ],
   "source": [
    "# Instantiate Spark Session\n",
    "spark = (SparkSession\n",
    "  .builder\n",
    "  .appName(\"US_Accidents\")\n",
    "  .getOrCreate())\n",
    "spark.sparkContext.setLogLevel(\"ERROR\") #supress warnings"
   ]
  },
  {
   "cell_type": "code",
   "execution_count": 3,
   "id": "aa238c88-9dbf-4c03-949b-77dc62fb3ec5",
   "metadata": {
    "tags": []
   },
   "outputs": [
    {
     "name": "stdout",
     "output_type": "stream",
     "text": [
      "+--------+--------------+-----------+------------+--------------+---------------+-----------------+-------+---------+-------+----+----+-------------+--------------------------+--------------------+---------------------------------+-----------------+-----------------+-------------------+------------+--------------------------+-----------+--------------------+--------------------+-----------+\n",
      "|Severity|Temperature(F)|Humidity(%)|Pressure(in)|Visibility(mi)|Wind_Speed(mph)|Precipitation(in)|Weekday|Rush Hour|Holiday|Rain|Snow|    SeasonVec|Astronomical_TwilightIndex|Interstate Indicator|Sex ratio (males per 100 females)|Percent_Age_15-19|Percent_Age_20-24|Percent_Age_65_over|MedianIncome|MedianIncome_MarginOfError|Urban_Ratio|Traffic_Interference|Traffic_Intersection|Destination|\n",
      "+--------+--------------+-----------+------------+--------------+---------------+-----------------+-------+---------+-------+----+----+-------------+--------------------------+--------------------+---------------------------------+-----------------+-----------------+-------------------+------------+--------------------------+-----------+--------------------+--------------------+-----------+\n",
      "|       2|            21|         85|          30|             1|             10|                0|      1|        1|      0|   0|   1|(3,[0],[0.0])|                         0|                   0|                             97.6|              8.0|              4.0|               13.1|    104583.0|                    6161.0|        1.0|                   0|                   1|          0|\n",
      "|       2|            51|         29|          29|            10|              8|                0|      1|        0|      0|   0|   0|(3,[0],[0.0])|                         1|                   0|                             89.6|              7.7|              5.8|               12.7|    128378.0|                    7418.0|      0.982|                   0|                   0|          0|\n",
      "|       3|            55|         83|          30|            10|              0|                0|      1|        1|      0|   0|   0|(3,[0],[0.0])|                         0|                   1|                             94.6|              6.9|              5.4|               17.3|     52577.0|                    2897.0|     0.9968|                   0|                   0|          0|\n",
      "|       2|            52|         94|          30|            10|              9|                0|      1|        1|      0|   0|   0|(3,[0],[0.0])|                         0|                   0|                            106.8|              6.4|              8.2|               11.6|     48740.0|                    3484.0|        1.0|                   0|                   0|          0|\n",
      "|       2|            25|         96|          30|             0|              0|                0|      1|        1|      0|   0|   0|(3,[0],[0.0])|                         0|                   0|                             95.9|              5.6|              6.8|               14.4|     62956.0|                    2229.0|     0.9887|                   0|                   0|          0|\n",
      "+--------+--------------+-----------+------------+--------------+---------------+-----------------+-------+---------+-------+----+----+-------------+--------------------------+--------------------+---------------------------------+-----------------+-----------------+-------------------+------------+--------------------------+-----------+--------------------+--------------------+-----------+\n",
      "only showing top 5 rows\n",
      "\n"
     ]
    }
   ],
   "source": [
    "# Read in Data\n",
    "df = spark.read.parquet(\"final_dataset.parquet\")\n",
    "df.show(5)"
   ]
  },
  {
   "cell_type": "code",
   "execution_count": 4,
   "id": "8937ee7d-0f16-4258-850a-89c10f3399df",
   "metadata": {
    "tags": []
   },
   "outputs": [
    {
     "name": "stdout",
     "output_type": "stream",
     "text": [
      "+--------+--------------+-----------+------------+--------------+---------------+-----------------+-------+---------+-------+----+----+-------------+--------------------------+--------------------+---------------------------------+-----------------+-----------------+-------------------+------------+-----------+--------------------+--------------------+-----------+\n",
      "|Severity|Temperature(F)|Humidity(%)|Pressure(in)|Visibility(mi)|Wind_Speed(mph)|Precipitation(in)|Weekday|Rush Hour|Holiday|Rain|Snow|    SeasonVec|Astronomical_TwilightIndex|Interstate Indicator|Sex ratio (males per 100 females)|Percent_Age_15-19|Percent_Age_20-24|Percent_Age_65_over|MedianIncome|Urban_Ratio|Traffic_Interference|Traffic_Intersection|Destination|\n",
      "+--------+--------------+-----------+------------+--------------+---------------+-----------------+-------+---------+-------+----+----+-------------+--------------------------+--------------------+---------------------------------+-----------------+-----------------+-------------------+------------+-----------+--------------------+--------------------+-----------+\n",
      "|       2|            21|         85|          30|             1|             10|                0|      1|        1|      0|   0|   1|(3,[0],[0.0])|                         0|                   0|                             97.6|              8.0|              4.0|               13.1|    104583.0|        1.0|                   0|                   1|          0|\n",
      "|       2|            51|         29|          29|            10|              8|                0|      1|        0|      0|   0|   0|(3,[0],[0.0])|                         1|                   0|                             89.6|              7.7|              5.8|               12.7|    128378.0|      0.982|                   0|                   0|          0|\n",
      "|       3|            55|         83|          30|            10|              0|                0|      1|        1|      0|   0|   0|(3,[0],[0.0])|                         0|                   1|                             94.6|              6.9|              5.4|               17.3|     52577.0|     0.9968|                   0|                   0|          0|\n",
      "|       2|            52|         94|          30|            10|              9|                0|      1|        1|      0|   0|   0|(3,[0],[0.0])|                         0|                   0|                            106.8|              6.4|              8.2|               11.6|     48740.0|        1.0|                   0|                   0|          0|\n",
      "|       2|            25|         96|          30|             0|              0|                0|      1|        1|      0|   0|   0|(3,[0],[0.0])|                         0|                   0|                             95.9|              5.6|              6.8|               14.4|     62956.0|     0.9887|                   0|                   0|          0|\n",
      "+--------+--------------+-----------+------------+--------------+---------------+-----------------+-------+---------+-------+----+----+-------------+--------------------------+--------------------+---------------------------------+-----------------+-----------------+-------------------+------------+-----------+--------------------+--------------------+-----------+\n",
      "only showing top 5 rows\n",
      "\n"
     ]
    }
   ],
   "source": [
    "# Remove MedianIncome_MarginOfError\n",
    "df = df.drop('MedianIncome_MarginOfError')\n",
    "df.show(5)"
   ]
  },
  {
   "cell_type": "code",
   "execution_count": 20,
   "id": "ffba97a3-95ee-4465-990a-b350db19d4c4",
   "metadata": {
    "tags": []
   },
   "outputs": [],
   "source": [
    "# Assuming you used StringIndexer for encoding the 'Severity' column\n",
    "indexer = StringIndexer(inputCol=\"Severity\", outputCol=\"SeverityIndex\")\n",
    "df = indexer.fit(df).transform(df)\n",
    "# warning - indexes will not match the values"
   ]
  },
  {
   "cell_type": "code",
   "execution_count": 21,
   "id": "9a62e07d-2286-4ac9-9d29-2496667018aa",
   "metadata": {
    "tags": []
   },
   "outputs": [
    {
     "name": "stdout",
     "output_type": "stream",
     "text": [
      "+--------+--------------+-----------+------------+--------------+---------------+-----------------+-------+---------+-------+----+----+-------------+--------------------------+--------------------+---------------------------------+-----------------+-----------------+-------------------+------------+-----------+--------------------+--------------------+-----------+-------------+\n",
      "|Severity|Temperature(F)|Humidity(%)|Pressure(in)|Visibility(mi)|Wind_Speed(mph)|Precipitation(in)|Weekday|Rush Hour|Holiday|Rain|Snow|    SeasonVec|Astronomical_TwilightIndex|Interstate Indicator|Sex ratio (males per 100 females)|Percent_Age_15-19|Percent_Age_20-24|Percent_Age_65_over|MedianIncome|Urban_Ratio|Traffic_Interference|Traffic_Intersection|Destination|SeverityIndex|\n",
      "+--------+--------------+-----------+------------+--------------+---------------+-----------------+-------+---------+-------+----+----+-------------+--------------------------+--------------------+---------------------------------+-----------------+-----------------+-------------------+------------+-----------+--------------------+--------------------+-----------+-------------+\n",
      "|       2|            21|         85|          30|             1|             10|                0|      1|        1|      0|   0|   1|(3,[0],[0.0])|                         0|                   0|                             97.6|              8.0|              4.0|               13.1|    104583.0|        1.0|                   0|                   1|          0|          0.0|\n",
      "|       2|            51|         29|          29|            10|              8|                0|      1|        0|      0|   0|   0|(3,[0],[0.0])|                         1|                   0|                             89.6|              7.7|              5.8|               12.7|    128378.0|      0.982|                   0|                   0|          0|          0.0|\n",
      "|       3|            55|         83|          30|            10|              0|                0|      1|        1|      0|   0|   0|(3,[0],[0.0])|                         0|                   1|                             94.6|              6.9|              5.4|               17.3|     52577.0|     0.9968|                   0|                   0|          0|          1.0|\n",
      "|       2|            52|         94|          30|            10|              9|                0|      1|        1|      0|   0|   0|(3,[0],[0.0])|                         0|                   0|                            106.8|              6.4|              8.2|               11.6|     48740.0|        1.0|                   0|                   0|          0|          0.0|\n",
      "|       2|            25|         96|          30|             0|              0|                0|      1|        1|      0|   0|   0|(3,[0],[0.0])|                         0|                   0|                             95.9|              5.6|              6.8|               14.4|     62956.0|     0.9887|                   0|                   0|          0|          0.0|\n",
      "+--------+--------------+-----------+------------+--------------+---------------+-----------------+-------+---------+-------+----+----+-------------+--------------------------+--------------------+---------------------------------+-----------------+-----------------+-------------------+------------+-----------+--------------------+--------------------+-----------+-------------+\n",
      "only showing top 5 rows\n",
      "\n"
     ]
    }
   ],
   "source": [
    "df.show(5)"
   ]
  },
  {
   "cell_type": "code",
   "execution_count": 22,
   "id": "bcda1183-0b9a-49a7-85d3-3f595aa87a2b",
   "metadata": {
    "tags": []
   },
   "outputs": [],
   "source": [
    "# Create list of features\n",
    "feature_list = []\n",
    "for col in df.columns:\n",
    "    if col == 'Severity':\n",
    "        continue\n",
    "    elif col == 'SeverityIndex':\n",
    "        continue\n",
    "    else:\n",
    "        feature_list.append(col)"
   ]
  },
  {
   "cell_type": "code",
   "execution_count": 23,
   "id": "a4a4b7db-ed5e-428b-809b-bccdc5fb8d3a",
   "metadata": {
    "tags": []
   },
   "outputs": [],
   "source": [
    "# Split the data into train and test\n",
    "splits = df.randomSplit([0.8, 0.2], 314)\n",
    "train = splits[0]\n",
    "test = splits[1]"
   ]
  },
  {
   "cell_type": "code",
   "execution_count": 24,
   "id": "fe929590-4989-47f7-b3fb-0be8573be4f8",
   "metadata": {
    "tags": []
   },
   "outputs": [
    {
     "name": "stderr",
     "output_type": "stream",
     "text": [
      "                                                                                \r"
     ]
    },
    {
     "name": "stdout",
     "output_type": "stream",
     "text": [
      "+--------+--------------+-----------+------------+--------------+---------------+-----------------+-------+---------+-------+----+----+-------------+--------------------------+--------------------+---------------------------------+-----------------+-----------------+-------------------+------------+-----------+--------------------+--------------------+-----------+-------------+\n",
      "|Severity|Temperature(F)|Humidity(%)|Pressure(in)|Visibility(mi)|Wind_Speed(mph)|Precipitation(in)|Weekday|Rush Hour|Holiday|Rain|Snow|    SeasonVec|Astronomical_TwilightIndex|Interstate Indicator|Sex ratio (males per 100 females)|Percent_Age_15-19|Percent_Age_20-24|Percent_Age_65_over|MedianIncome|Urban_Ratio|Traffic_Interference|Traffic_Intersection|Destination|SeverityIndex|\n",
      "+--------+--------------+-----------+------------+--------------+---------------+-----------------+-------+---------+-------+----+----+-------------+--------------------------+--------------------+---------------------------------+-----------------+-----------------+-------------------+------------+-----------+--------------------+--------------------+-----------+-------------+\n",
      "|       2|           -18|         80|          28|             7|              3|                0|      1|        1|      0|   0|   0|(3,[0],[1.0])|                         0|                   0|                            105.5|              7.2|              5.1|               14.4|     43844.0|        0.0|                   0|                   1|          0|          0.0|\n",
      "|       2|           -13|         82|          29|            10|              0|                0|      1|        1|      0|   0|   0|(3,[0],[1.0])|                         0|                   0|                            100.3|              5.1|              6.6|               19.4|     62095.0|     0.7858|                   0|                   0|          0|          0.0|\n",
      "|       2|            -9|         71|          29|            10|              3|                0|      1|        1|      0|   0|   0|(3,[0],[1.0])|                         0|                   1|                             97.0|              6.8|              4.0|               20.8|     98977.0|        1.0|                   0|                   0|          0|          0.0|\n",
      "|       2|            -9|         75|          29|            10|              9|                0|      1|        1|      0|   0|   0|(3,[0],[1.0])|                         0|                   0|                            129.3|              1.6|             10.3|               11.6|     48682.0|        1.0|                   0|                   0|          0|          0.0|\n",
      "|       2|            -7|         65|          30|            10|              7|                0|      1|        0|      0|   0|   0|(3,[0],[1.0])|                         1|                   1|                            104.5|             17.6|             41.2|                4.5|     40812.0|        1.0|                   0|                   0|          0|          0.0|\n",
      "|       2|            -5|         87|          30|            10|              0|                0|      1|        1|      0|   0|   0|(3,[0],[1.0])|                         0|                   1|                            102.8|              8.2|              8.7|               15.9|     43110.0|     0.9029|                   0|                   0|          0|          0.0|\n",
      "|       2|            -3|         79|          29|             7|              3|                0|      1|        1|      0|   0|   0|(3,[0],[1.0])|                         0|                   1|                            110.0|              4.2|              5.9|               15.9|     80230.0|        1.0|                   0|                   0|          0|          0.0|\n",
      "|       2|            -2|         66|          30|            10|             12|                0|      1|        0|      0|   0|   0|(3,[0],[1.0])|                         1|                   0|                             99.4|              6.9|              5.6|                9.0|     88072.0|     0.9251|                   0|                   0|          0|          0.0|\n",
      "|       2|             0|         63|          30|             2|             15|                0|      1|        1|      1|   0|   1|(3,[0],[1.0])|                         0|                   0|                             93.7|              7.4|              8.1|               10.2|     76794.0|        1.0|                   0|                   0|          0|          0.0|\n",
      "|       2|             0|         72|          29|            10|             18|                0|      1|        0|      0|   0|   0|(3,[0],[1.0])|                         0|                   1|                            105.4|              4.8|              7.5|               25.5|     65250.0|        0.0|                   0|                   0|          0|          0.0|\n",
      "|       2|             1|         63|          29|            10|              3|                0|      1|        1|      0|   0|   0|(3,[0],[1.0])|                         0|                   0|                             95.4|              6.0|              6.7|               12.8|     85686.0|        1.0|                   0|                   1|          0|          0.0|\n",
      "|       2|             1|         75|          30|             6|              0|                0|      1|        1|      0|   0|   0|(3,[0],[1.0])|                         0|                   0|                            109.8|              7.2|              6.7|               13.7|    120341.0|     0.4073|                   0|                   0|          0|          0.0|\n",
      "|       2|             3|         50|          29|            10|             14|                0|      1|        0|      0|   0|   0|(3,[0],[1.0])|                         0|                   0|                             97.7|              5.6|              6.5|               21.0|     53743.0|      0.576|                   0|                   0|          0|          0.0|\n",
      "|       2|             4|         73|          30|             8|             13|                0|      1|        0|      0|   0|   1|(3,[0],[1.0])|                         1|                   1|                             95.2|              7.0|              2.8|               20.8|    121947.0|     0.9301|                   0|                   0|          0|          0.0|\n",
      "|       2|             4|         91|          29|            10|              5|                0|      1|        1|      0|   0|   0|(3,[0],[1.0])|                         0|                   0|                            107.7|              5.6|             11.5|                7.5|     47844.0|        1.0|                   0|                   0|          0|          0.0|\n",
      "|       2|             5|         95|          29|             6|              3|                0|      1|        0|      0|   0|   0|(3,[0],[1.0])|                         0|                   0|                            101.2|              5.1|              4.9|               15.4|     66852.0|        1.0|                   0|                   0|          0|          0.0|\n",
      "|       2|             6|         80|          29|            10|              9|                0|      1|        1|      0|   0|   0|(3,[0],[1.0])|                         0|                   1|                             96.7|              5.6|              7.9|               18.6|     51801.0|        1.0|                   0|                   0|          0|          0.0|\n",
      "|       2|             7|         61|          29|            10|             14|                0|      1|        1|      1|   0|   0|(3,[0],[1.0])|                         0|                   1|                             92.4|              5.3|              4.7|               21.6|     69018.0|        1.0|                   0|                   0|          0|          0.0|\n",
      "|       2|             7|         67|          29|            10|             13|                0|      1|        1|      0|   0|   0|(3,[0],[1.0])|                         0|                   0|                             95.5|              5.1|              4.5|               15.3|     90735.0|     0.9753|                   0|                   0|          0|          0.0|\n",
      "|       2|             7|         85|          29|            10|              5|                0|      1|        0|      0|   0|   1|(3,[0],[1.0])|                         1|                   0|                             92.6|              6.0|              3.7|               18.9|     85062.0|     0.9622|                   0|                   0|          0|          0.0|\n",
      "+--------+--------------+-----------+------------+--------------+---------------+-----------------+-------+---------+-------+----+----+-------------+--------------------------+--------------------+---------------------------------+-----------------+-----------------+-------------------+------------+-----------+--------------------+--------------------+-----------+-------------+\n",
      "only showing top 20 rows\n",
      "\n"
     ]
    },
    {
     "name": "stderr",
     "output_type": "stream",
     "text": [
      "[Stage 61:==================================================>     (29 + 3) / 32]\r"
     ]
    },
    {
     "name": "stdout",
     "output_type": "stream",
     "text": [
      "+--------+-----+\n",
      "|Severity|count|\n",
      "+--------+-----+\n",
      "|       2|52005|\n",
      "|       3|51781|\n",
      "|       1|52164|\n",
      "|       4|52237|\n",
      "+--------+-----+\n",
      "\n"
     ]
    },
    {
     "name": "stderr",
     "output_type": "stream",
     "text": [
      "                                                                                \r"
     ]
    }
   ],
   "source": [
    "# Undersampling\n",
    "from pyspark.sql import functions as F\n",
    "\n",
    "# Step 1: Group by 'Severity' and count occurrences\n",
    "class_counts = train.groupBy(\"SeverityIndex\").count()\n",
    "\n",
    "# Step 2: Use PySpark's min() function to find the minimum count\n",
    "min_class_size = class_counts.agg(F.min('count')).collect()[0][0]\n",
    "\n",
    "undersampled_train_list = []\n",
    "\n",
    "for row in class_counts.collect():\n",
    "    class_label = row['SeverityIndex']\n",
    "    class_size = row['count']\n",
    "\n",
    "    if class_size > min_class_size:\n",
    "        # Sample the data for this class to the size of the minimum class\n",
    "        class_data = train.filter(F.col(\"SeverityIndex\") == class_label)\n",
    "        class_data_undersampled = class_data.sample(withReplacement=False, fraction=min_class_size / class_size)\n",
    "    else:\n",
    "        # For classes that are already at the minimum size, keep all samples\n",
    "        class_data_undersampled = train.filter(F.col(\"SeverityIndex\") == class_label)\n",
    "\n",
    "    undersampled_train_list.append(class_data_undersampled)\n",
    "\n",
    "# Combine all the undersampled DataFrames\n",
    "undersampled_train = undersampled_train_list[0]  # start with the first one\n",
    "for df in undersampled_train_list[1:]:\n",
    "    undersampled_train = undersampled_train.union(df)\n",
    "\n",
    "# Show the result\n",
    "undersampled_train.show()\n",
    "\n",
    "# Step 4: Group by 'Severity' and count the occurrences in the undersampled DataFrame\n",
    "undersampled_class_counts = undersampled_train.groupBy(\"SeverityIndex\").count()\n",
    "\n",
    "# Show the result\n",
    "undersampled_class_counts.show()"
   ]
  },
  {
   "cell_type": "code",
   "execution_count": 25,
   "id": "b9c4ad6c-409d-4472-b1f7-8325ac3ec1f7",
   "metadata": {
    "tags": []
   },
   "outputs": [],
   "source": [
    "# Assemble data for logistic regression model\n",
    "assembler = VectorAssembler(inputCols=feature_list,\n",
    "                            outputCol=\"features\")\n",
    "\n",
    "undersampled_train = assembler.transform(undersampled_train)\n",
    "test = assembler.transform(test)"
   ]
  },
  {
   "cell_type": "code",
   "execution_count": 26,
   "id": "eba99c30-6557-4c4f-88a5-7696e4f9c90d",
   "metadata": {
    "tags": []
   },
   "outputs": [
    {
     "name": "stderr",
     "output_type": "stream",
     "text": [
      "[Stage 64:==================================================>     (29 + 3) / 32]\r"
     ]
    },
    {
     "name": "stdout",
     "output_type": "stream",
     "text": [
      "Number of unique labels in SeverityIndex: 4\n"
     ]
    },
    {
     "name": "stderr",
     "output_type": "stream",
     "text": [
      "                                                                                \r"
     ]
    }
   ],
   "source": [
    "# Confirm that there are 4 Classes after assembling\n",
    "unique_labels = undersampled_train.select(\"SeverityIndex\").distinct().count()\n",
    "print(f\"Number of unique labels in SeverityIndex: {unique_labels}\")"
   ]
  },
  {
   "cell_type": "code",
   "execution_count": 27,
   "id": "1dd8be75-6c5c-4bdc-a9f3-583cf9e2aaf9",
   "metadata": {
    "tags": []
   },
   "outputs": [
    {
     "name": "stderr",
     "output_type": "stream",
     "text": [
      "                                                                                \r"
     ]
    }
   ],
   "source": [
    "# Standardize the predictors\n",
    "from pyspark.ml.feature import StandardScaler\n",
    "scaler = StandardScaler(inputCol=\"features\", outputCol=\"scaledFeatures\")\n",
    "scalerModel = scaler.fit(undersampled_train)\n",
    "scaledTrainData = scalerModel.transform(undersampled_train)\n",
    "scalerModel = scaler.fit(test)\n",
    "scaledTestData = scalerModel.transform(test)"
   ]
  },
  {
   "cell_type": "code",
   "execution_count": 28,
   "id": "ba3f6737-b687-4447-ac1d-f13d80912d30",
   "metadata": {
    "tags": []
   },
   "outputs": [
    {
     "name": "stderr",
     "output_type": "stream",
     "text": [
      "                                                                                \r"
     ]
    }
   ],
   "source": [
    "# Fit logistic regression model with intercept\n",
    "from pyspark.ml.classification import LogisticRegression\n",
    "\n",
    "# instantiate the model\n",
    "lr = LogisticRegression(labelCol='SeverityIndex',\n",
    "                        featuresCol='scaledFeatures',\n",
    "                        #maxIter=10, \n",
    "                        #regParam=0.3, \n",
    "                        #elasticNetParam=0.8,\n",
    "                        family=\"multinomial\")\n",
    "\n",
    "# Fit the model\n",
    "lrModel = lr.fit(scaledTrainData)\n",
    "#print(f\"Detected number of classes: {lrModel.numClasses}\")\n",
    "\n",
    "# Print the coefficients and intercept for logistic regression\n",
    "#print(\"Coefficients: \" + str(lrModel.coefficientMatrix))\n",
    "#print(\"Intercept: \" + str(lrModel.interceptVector))"
   ]
  },
  {
   "cell_type": "code",
   "execution_count": 29,
   "id": "7bb0ef16-3fe8-4d07-9bca-00659de40f12",
   "metadata": {
    "tags": []
   },
   "outputs": [
    {
     "name": "stderr",
     "output_type": "stream",
     "text": [
      "                                                                                \r"
     ]
    },
    {
     "name": "stdout",
     "output_type": "stream",
     "text": [
      "+----------+\n",
      "|prediction|\n",
      "+----------+\n",
      "|       0.0|\n",
      "|       1.0|\n",
      "|       3.0|\n",
      "|       2.0|\n",
      "+----------+\n",
      "\n"
     ]
    },
    {
     "name": "stderr",
     "output_type": "stream",
     "text": [
      "[Stage 145:=====================>                                   (3 + 5) / 8]\r"
     ]
    },
    {
     "name": "stdout",
     "output_type": "stream",
     "text": [
      "Accuracy: 0.2950912519121989\n"
     ]
    },
    {
     "name": "stderr",
     "output_type": "stream",
     "text": [
      "                                                                                \r"
     ]
    }
   ],
   "source": [
    "from pyspark.ml.evaluation import MulticlassClassificationEvaluator\n",
    "\n",
    "# compute predictions. this will append column \"prediction\" to dataframe\n",
    "lrPred = lrModel.transform(scaledTestData)\n",
    "lrPred.select(\"prediction\").distinct().show()\n",
    "\n",
    "evaluator = MulticlassClassificationEvaluator(labelCol='SeverityIndex', predictionCol='prediction', metricName='accuracy')\n",
    "accuracy = evaluator.evaluate(lrPred, {evaluator.metricName: \"accuracy\"})\n",
    "print(f'Accuracy: {accuracy}')"
   ]
  },
  {
   "cell_type": "code",
   "execution_count": 30,
   "id": "2c73396e-66ff-4a34-ade8-ba6540d7f90b",
   "metadata": {
    "tags": []
   },
   "outputs": [
    {
     "name": "stderr",
     "output_type": "stream",
     "text": [
      "[Stage 151:==============>                                          (2 + 6) / 8]\r"
     ]
    },
    {
     "name": "stdout",
     "output_type": "stream",
     "text": [
      "Precision: 0.7799690015791174\n",
      "Recall: 0.295091251912199\n",
      "F1 Score: 0.30768762061450194\n"
     ]
    },
    {
     "name": "stderr",
     "output_type": "stream",
     "text": [
      "                                                                                \r"
     ]
    }
   ],
   "source": [
    "precision = evaluator.evaluate(lrPred, {evaluator.metricName: 'weightedPrecision'})\n",
    "recall = evaluator.evaluate(lrPred, {evaluator.metricName: 'weightedRecall'})\n",
    "f1_score = evaluator.evaluate(lrPred, {evaluator.metricName: 'f1'})\n",
    "#recallByLabel = evaluator.evaluate(lrPred, {evaluator.metricName: 'recallByLabel'})\n",
    "\n",
    "print(f'Precision: {precision}')\n",
    "print(f'Recall: {recall}')\n",
    "print(f'F1 Score: {f1_score}')\n",
    "#print(f'Recall by Label: {recallByLabel}')"
   ]
  },
  {
   "cell_type": "code",
   "execution_count": 31,
   "id": "98b4a317-9b06-4da6-ab72-f1353193205d",
   "metadata": {
    "tags": []
   },
   "outputs": [
    {
     "name": "stderr",
     "output_type": "stream",
     "text": [
      "[Stage 153:=====================>                                   (3 + 5) / 8]\r"
     ]
    },
    {
     "name": "stdout",
     "output_type": "stream",
     "text": [
      "+-------------+-------------------+\n",
      "|SeverityIndex|           accuracy|\n",
      "+-------------+-------------------+\n",
      "|          0.0|0.18556228506631484|\n",
      "|          1.0| 0.8231775218038146|\n",
      "|          3.0|0.45823701648944365|\n",
      "|          2.0| 0.3890416339355852|\n",
      "+-------------+-------------------+\n",
      "\n"
     ]
    },
    {
     "name": "stderr",
     "output_type": "stream",
     "text": [
      "                                                                                \r"
     ]
    }
   ],
   "source": [
    "# Add a column to indicate correct or incorrect predictions\n",
    "predictions = lrPred.withColumn(\n",
    "    'is_correct', F.expr(\"CASE WHEN SeverityIndex = prediction THEN 1 ELSE 0 END\")\n",
    ")\n",
    "\n",
    "# Calculate accuracy by class\n",
    "accuracy_by_class = predictions.groupBy('SeverityIndex').agg(\n",
    "    (F.sum('is_correct') / F.count('SeverityIndex')).alias('accuracy')\n",
    ")\n",
    "\n",
    "# Show per-class accuracy\n",
    "accuracy_by_class.show()"
   ]
  },
  {
   "cell_type": "code",
   "execution_count": 33,
   "id": "a58817fe-522d-4597-8414-33d720e21418",
   "metadata": {
    "tags": []
   },
   "outputs": [
    {
     "name": "stdout",
     "output_type": "stream",
     "text": [
      "Severity 1: {'Temperature(F)': 0.3952880282358387, 'Humidity(%)': 0.19853461318490132, 'Pressure(in)': -0.27351229363270263, 'Visibility(mi)': 0.0019478300354844498, 'Wind_Speed(mph)': -0.18762031648345473, 'Precipitation(in)': -0.00047517101927015875, 'Weekday': 0.23583293207332603, 'Rush Hour': 0.22485346066426035, 'Holiday': 0.036658367593634264, 'Rain': -0.04984545231412184, 'Snow': -0.1081221375599708, 'SeasonVec': -0.9850789278574079, 'Astronomical_TwilightIndex': -0.6435467672714597, 'Interstate Indicator': 0.16766913224238955, 'Sex ratio (males per 100 females)': -0.035746970048286454, 'Percent_Age_15-19': -0.35243944937339433, 'Percent_Age_20-24': -0.08160807533172365, 'Percent_Age_65_over': 0.0034010597742994385, 'MedianIncome': 0.012749225311766746, 'Urban_Ratio': 0.01031956650362045, 'Traffic_Interference': 0.013334278943246363, 'Traffic_Intersection': 0.10326401206458408, 'Destination': 0.016809876478187526}\n",
      "Severity 2: {'Temperature(F)': -0.004979996077321278, 'Humidity(%)': -0.07747192529048874, 'Pressure(in)': 0.03119518451955503, 'Visibility(mi)': -0.03812616354510104, 'Wind_Speed(mph)': -0.011526831167676397, 'Precipitation(in)': -0.0035930287131775923, 'Weekday': -0.03836208544628926, 'Rush Hour': -0.04231165325210805, 'Holiday': -0.013572610611773676, 'Rain': -0.012096602231882254, 'Snow': 0.03835064958843358, 'SeasonVec': 0.537260904462896, 'Astronomical_TwilightIndex': 0.3347360220004601, 'Interstate Indicator': 0.019509417309346386, 'Sex ratio (males per 100 females)': -0.010315557437487723, 'Percent_Age_15-19': -0.1012169478091996, 'Percent_Age_20-24': 0.025686253649395377, 'Percent_Age_65_over': -0.00622786406419865, 'MedianIncome': 0.006085768623011169, 'Urban_Ratio': 0.02225428050564811, 'Traffic_Interference': 0.011558015374711976, 'Traffic_Intersection': 0.041234658759044446, 'Destination': -0.011504639365751227}\n",
      "Severity 3: {'Temperature(F)': -0.14838836639377156, 'Humidity(%)': -0.07487358977784, 'Pressure(in)': 0.2255633748116077, 'Visibility(mi)': 0.005834902590881161, 'Wind_Speed(mph)': 0.13040497297958337, 'Precipitation(in)': 0.011860918660473802, 'Weekday': -0.06109326186713374, 'Rush Hour': -0.012494593194326886, 'Holiday': -0.01916240844355905, 'Rain': 0.04625192973218698, 'Snow': 0.029169101407865033, 'SeasonVec': 0.21980870948821998, 'Astronomical_TwilightIndex': 0.16179232724236003, 'Interstate Indicator': -0.1163963530526404, 'Sex ratio (males per 100 females)': -0.12412536159344734, 'Percent_Age_15-19': 0.46726385939249027, 'Percent_Age_20-24': 0.03280414591667195, 'Percent_Age_65_over': -0.05250480941428731, 'MedianIncome': 0.019280665292599718, 'Urban_Ratio': -0.13373145065929848, 'Traffic_Interference': 0.005321757183306151, 'Traffic_Intersection': 0.27452162706832944, 'Destination': 0.006120932346884812}\n",
      "Severity 4: {'Temperature(F)': -0.24191966576474583, 'Humidity(%)': -0.04618909811657256, 'Pressure(in)': 0.016753734301539876, 'Visibility(mi)': 0.03034343091873543, 'Wind_Speed(mph)': 0.06874217467154778, 'Precipitation(in)': -0.007792718928026051, 'Weekday': -0.13637758475990305, 'Rush Hour': -0.17004721421782543, 'Holiday': -0.003923348538301535, 'Rain': 0.015690124813817104, 'Snow': 0.040602386563672196, 'SeasonVec': 0.22800931390629206, 'Astronomical_TwilightIndex': 0.14701841802863955, 'Interstate Indicator': -0.07078219649909553, 'Sex ratio (males per 100 females)': 0.1701878890792215, 'Percent_Age_15-19': -0.01360746220989634, 'Percent_Age_20-24': 0.02311767576565633, 'Percent_Age_65_over': 0.05533161370418652, 'MedianIncome': -0.038115659227377634, 'Urban_Ratio': 0.10115760365002992, 'Traffic_Interference': -0.03021405150126449, 'Traffic_Intersection': -0.419020297891958, 'Destination': -0.01142616945932111}\n"
     ]
    }
   ],
   "source": [
    "# Extract coefficients\n",
    "coefficients = lrModel.coefficientMatrix.toArray()\n",
    "\n",
    "# Map coefficients to feature names\n",
    "feature_names = assembler.getInputCols()\n",
    "feature_importance_severity1 = dict(zip(feature_list, coefficients[0]))\n",
    "feature_importance_severity2 = dict(zip(feature_list, coefficients[1]))\n",
    "feature_importance_severity3 = dict(zip(feature_list, coefficients[2]))\n",
    "feature_importance_severity4 = dict(zip(feature_list, coefficients[3]))\n",
    "\n",
    "# Print feature importance\n",
    "print(f'Severity 1: {feature_importance_severity4}')\n",
    "print(f'Severity 2: {feature_importance_severity1}')\n",
    "print(f'Severity 3: {feature_importance_severity2}')\n",
    "print(f'Severity 4: {feature_importance_severity3}')\n",
    "#Indexes by highest prevalence of value as 0 then second-highest etc. so values have to get re-mapped"
   ]
  }
 ],
 "metadata": {
  "kernelspec": {
   "display_name": "Python 3 (ipykernel)",
   "language": "python",
   "name": "python3"
  },
  "language_info": {
   "codemirror_mode": {
    "name": "ipython",
    "version": 3
   },
   "file_extension": ".py",
   "mimetype": "text/x-python",
   "name": "python",
   "nbconvert_exporter": "python",
   "pygments_lexer": "ipython3",
   "version": "3.11.5"
  }
 },
 "nbformat": 4,
 "nbformat_minor": 5
}
