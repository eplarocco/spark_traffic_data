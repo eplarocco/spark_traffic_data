{
 "cells": [
  {
   "cell_type": "markdown",
   "metadata": {},
   "source": [
    "# Research Question:\n",
    "### What are the most influential variables on the severity of accidents?"
   ]
  },
  {
   "cell_type": "code",
   "execution_count": 1,
   "metadata": {
    "tags": []
   },
   "outputs": [
    {
     "data": {
      "text/html": [
       "<style>pre { white-space: pre !important; }</style>"
      ],
      "text/plain": [
       "<IPython.core.display.HTML object>"
      ]
     },
     "metadata": {},
     "output_type": "display_data"
    }
   ],
   "source": [
    "#Display Spark Output in scrollable format within jupyter notebook\n",
    "from IPython.core.display import HTML\n",
    "display(HTML(\"<style>pre { white-space: pre !important; }</style>\"))"
   ]
  },
  {
   "cell_type": "code",
   "execution_count": 2,
   "metadata": {
    "tags": []
   },
   "outputs": [],
   "source": [
    "#Supress Warnings\n",
    "import warnings\n",
    "warnings.filterwarnings(\"ignore\")"
   ]
  },
  {
   "cell_type": "code",
   "execution_count": 3,
   "metadata": {
    "tags": []
   },
   "outputs": [],
   "source": [
    "# Core libraries\n",
    "import pandas as pd\n",
    "import numpy as np\n",
    "\n",
    "# PySpark imports\n",
    "import pyspark\n",
    "from pyspark.sql import SparkSession\n",
    "from pyspark.sql.types import *\n",
    "from pyspark.sql.functions import *\n",
    "from pyspark.ml import Pipeline\n",
    "import pyspark.sql.functions as F\n",
    "from pyspark.ml.feature import VectorAssembler, StandardScaler\n",
    "from pyspark.ml.tuning import CrossValidator, ParamGridBuilder\n",
    "from pyspark.ml.stat import Correlation\n",
    "from pyspark.ml.pipeline import PipelineModel\n",
    "from pyspark.sql.functions import col\n",
    "\n",
    "# Additional libraries for visualization and analysis\n",
    "import matplotlib.pyplot as plt\n",
    "import seaborn as sns\n",
    "\n",
    "# Import Boost-specific modules for PySpark\n",
    "from pyspark.ml.classification import GBTClassifier\n",
    "from pyspark.ml.evaluation import MulticlassClassificationEvaluator,BinaryClassificationEvaluator\n",
    "from pyspark.mllib.evaluation import MulticlassMetrics, BinaryClassificationMetrics\n"
   ]
  },
  {
   "cell_type": "markdown",
   "metadata": {},
   "source": [
    "# Load Data"
   ]
  },
  {
   "cell_type": "code",
   "execution_count": 4,
   "metadata": {
    "tags": []
   },
   "outputs": [
    {
     "name": "stderr",
     "output_type": "stream",
     "text": [
      "/opt/conda/lib/python3.7/site-packages/pyspark/bin/load-spark-env.sh: line 68: ps: command not found\n",
      "Setting default log level to \"WARN\".\n",
      "To adjust logging level use sc.setLogLevel(newLevel). For SparkR, use setLogLevel(newLevel).\n"
     ]
    },
    {
     "name": "stdout",
     "output_type": "stream",
     "text": [
      "24/12/04 16:21:23 WARN NativeCodeLoader: Unable to load native-hadoop library for your platform... using builtin-java classes where applicable\n"
     ]
    }
   ],
   "source": [
    "spark = SparkSession.builder \\\n",
    "    .appName('GBoost-Traffic-Accidents') \\\n",
    "    .config(\"spark.executor.memory\", \"8g\")\\\n",
    "    .config(\"spark.executor.cores\", \"1\") \\\n",
    "    .config(\"spark.num.executors\", \"2\") \\\n",
    "    .getOrCreate()\n",
    "\n",
    "spark.sparkContext.setLogLevel(\"ERROR\")  # Suppress warnings"
   ]
  },
  {
   "cell_type": "code",
   "execution_count": 5,
   "metadata": {
    "tags": []
   },
   "outputs": [
    {
     "name": "stderr",
     "output_type": "stream",
     "text": [
      "                                                                                \r"
     ]
    },
    {
     "name": "stdout",
     "output_type": "stream",
     "text": [
      "+-----------+--------+--------+----------+----------+-------------+-------+---------+----+----+-------------+--------------------------+--------------------+---------+-------------------+------------+-----------+--------------------+--------------------+-----------+---------------+-----------------+\n",
      "|Temperature|Humidity|Pressure|Visibility|Wind_Speed|Precipitation|Weekday|Rush_Hour|Rain|Snow|    SeasonVec|Astronomical_TwilightIndex|Interstate_Indicator|Sex_ratio|Percent_Age_65_over|MedianIncome|Urban_Ratio|Traffic_Interference|Traffic_Intersection|Destination|Severity_Binary|Percent_Age_15-24|\n",
      "+-----------+--------+--------+----------+----------+-------------+-------+---------+----+----+-------------+--------------------------+--------------------+---------+-------------------+------------+-----------+--------------------+--------------------+-----------+---------------+-----------------+\n",
      "|         21|      85|      30|         1|        10|            0|      1|        1|   0|   1|(3,[0],[1.0])|                         0|                   0|     97.6|               13.1|    104583.0|        1.0|                   0|                   1|          0|              0|             12.0|\n",
      "|         51|      29|      29|        10|         8|            0|      1|        0|   0|   0|(3,[0],[1.0])|                         1|                   0|     89.6|               12.7|    128378.0|      0.982|                   0|                   0|          0|              0|             13.5|\n",
      "|         55|      83|      30|        10|         0|            0|      1|        1|   0|   0|(3,[0],[1.0])|                         0|                   1|     94.6|               17.3|     52577.0|     0.9968|                   0|                   0|          0|              1|             12.3|\n",
      "|         52|      94|      30|        10|         9|            0|      1|        1|   0|   0|(3,[0],[1.0])|                         0|                   0|    106.8|               11.6|     48740.0|        1.0|                   0|                   0|          0|              0|             14.6|\n",
      "|         25|      96|      30|         0|         0|            0|      1|        1|   0|   0|(3,[0],[1.0])|                         0|                   0|     95.9|               14.4|     62956.0|     0.9887|                   0|                   0|          0|              0|             12.4|\n",
      "+-----------+--------+--------+----------+----------+-------------+-------+---------+----+----+-------------+--------------------------+--------------------+---------+-------------------+------------+-----------+--------------------+--------------------+-----------+---------------+-----------------+\n",
      "only showing top 5 rows\n",
      "\n"
     ]
    }
   ],
   "source": [
    "# Read in Dataset\n",
    "df = spark.read.parquet(\"final_dataset_binary.parquet\")\n",
    "df.show(5)"
   ]
  },
  {
   "cell_type": "code",
   "execution_count": 6,
   "metadata": {
    "tags": []
   },
   "outputs": [
    {
     "name": "stdout",
     "output_type": "stream",
     "text": [
      "DataFrame Rows count : 7026806\n",
      "DataFrame Columns count : 22\n"
     ]
    }
   ],
   "source": [
    "# Get row count\n",
    "rows = df.count()\n",
    "print(f\"DataFrame Rows count : {rows}\")\n",
    "\n",
    "# Get columns count\n",
    "cols = len(df.columns)\n",
    "print(f\"DataFrame Columns count : {cols}\")"
   ]
  },
  {
   "cell_type": "markdown",
   "metadata": {
    "tags": []
   },
   "source": [
    "# Sampling"
   ]
  },
  {
   "cell_type": "code",
   "execution_count": 7,
   "metadata": {
    "tags": []
   },
   "outputs": [
    {
     "name": "stdout",
     "output_type": "stream",
     "text": [
      "+---------------+-------+------------------+\n",
      "|Severity_Binary|  count|           percent|\n",
      "+---------------+-------+------------------+\n",
      "|              1|1302620|18.537867702623352|\n",
      "|              0|5724186| 81.46213229737664|\n",
      "+---------------+-------+------------------+\n",
      "\n"
     ]
    }
   ],
   "source": [
    "# Check Class Imbalance\n",
    "cts = df.groupBy(\"Severity_Binary\").count().withColumn('percent', (F.col('count') / rows)*100)\n",
    "cts.show()"
   ]
  },
  {
   "cell_type": "code",
   "execution_count": 8,
   "metadata": {
    "tags": []
   },
   "outputs": [
    {
     "name": "stdout",
     "output_type": "stream",
     "text": [
      "Class Weights: {1: 5.39436366707098, 0: 1.2275642335870987}\n"
     ]
    }
   ],
   "source": [
    "class_counts = df.groupBy('Severity_Binary').count().collect()\n",
    "total_count = df.count()\n",
    "\n",
    "# Ensure that we have counts for both classes\n",
    "class_weights = {}\n",
    "for row in class_counts:\n",
    "    class_weights[row['Severity_Binary']] = total_count / row['count']\n",
    "\n",
    "print(f\"Class Weights: {class_weights}\")"
   ]
  },
  {
   "cell_type": "code",
   "execution_count": 9,
   "metadata": {
    "tags": []
   },
   "outputs": [],
   "source": [
    "df_with_weights = df.withColumn(\n",
    "    'weight', \n",
    "    F.when(df['Severity_Binary'] == 1, class_weights[1])\n",
    "     .when(df['Severity_Binary'] == 0, class_weights[0])\n",
    ")\n",
    "\n",
    "# Step 3: Drop rows with missing values in 'Severity_Binary' and 'weight' columns\n",
    "df_with_weights = df_with_weights.dropna(subset=['Severity_Binary', 'weight'])"
   ]
  },
  {
   "cell_type": "code",
   "execution_count": 10,
   "metadata": {
    "tags": []
   },
   "outputs": [
    {
     "name": "stderr",
     "output_type": "stream",
     "text": [
      "                                                                                \r"
     ]
    },
    {
     "name": "stdout",
     "output_type": "stream",
     "text": [
      "Train Class Counts (After Balancing):\n"
     ]
    },
    {
     "name": "stderr",
     "output_type": "stream",
     "text": [
      "                                                                                \r"
     ]
    },
    {
     "name": "stdout",
     "output_type": "stream",
     "text": [
      "+---------------+------+\n",
      "|Severity_Binary| count|\n",
      "+---------------+------+\n",
      "|              0|783032|\n",
      "|              1|782436|\n",
      "+---------------+------+\n",
      "\n"
     ]
    },
    {
     "name": "stderr",
     "output_type": "stream",
     "text": [
      "                                                                                \r"
     ]
    },
    {
     "name": "stdout",
     "output_type": "stream",
     "text": [
      "+---------------+-------+\n",
      "|Severity_Binary|  count|\n",
      "+---------------+-------+\n",
      "|              1| 260020|\n",
      "|              0|1143161|\n",
      "+---------------+-------+\n",
      "\n"
     ]
    },
    {
     "name": "stderr",
     "output_type": "stream",
     "text": [
      "[Stage 26:==================================================>       (7 + 1) / 8]\r"
     ]
    },
    {
     "name": "stdout",
     "output_type": "stream",
     "text": [
      "+---------------+-------+\n",
      "|Severity_Binary|  count|\n",
      "+---------------+-------+\n",
      "|              1| 260164|\n",
      "|              0|1145306|\n",
      "+---------------+-------+\n",
      "\n"
     ]
    },
    {
     "name": "stderr",
     "output_type": "stream",
     "text": [
      "                                                                                \r"
     ]
    }
   ],
   "source": [
    "# Split into train, validation, and test sets (e.g., 60% train, 20% validation, 20% test)\n",
    "train_df, val_df, test_df = df_with_weights.randomSplit([0.6, 0.2, 0.2], seed=42)\n",
    "\n",
    "# Step 2: Get counts of each class in the training set\n",
    "class_0_count = train_df.filter(train_df['Severity_Binary'] == 0).count()\n",
    "class_1_count = train_df.filter(train_df['Severity_Binary'] == 1).count()\n",
    "\n",
    "# Step 3: Downsample the majority class (class 0) to match the minority class (class 1) in the train set\n",
    "class_0_sampled = train_df.filter(train_df['Severity_Binary'] == 0) \\\n",
    "    .sample(False, class_1_count / class_0_count, seed=42)\n",
    "\n",
    "# For class 1 (minority class), no need to sample, keep all instances\n",
    "class_1_df = train_df.filter(train_df['Severity_Binary'] == 1)\n",
    "\n",
    "# Step 4: Combine the sampled data for the balanced training set\n",
    "balanced_train_df = class_0_sampled.union(class_1_df)\n",
    "\n",
    "# Check the class distribution in the balanced train set\n",
    "train_class_counts_after = balanced_train_df.groupBy(\"Severity_Binary\").count()\n",
    "print(\"Train Class Counts (After Balancing):\")\n",
    "train_class_counts_after.show()\n",
    "\n",
    "# Cache the balanced training set if needed\n",
    "balanced_train_df.cache()\n",
    "\n",
    "# Show the counts for validation, and test sets\n",
    "val_class_counts = val_df.groupBy(\"Severity_Binary\").count()\n",
    "test_class_counts = test_df.groupBy(\"Severity_Binary\").count()\n",
    "\n",
    "# Show the counts for validation, and test sets\n",
    "val_class_counts.show()\n",
    "test_class_counts.show()\n"
   ]
  },
  {
   "cell_type": "markdown",
   "metadata": {},
   "source": [
    "# Modeling"
   ]
  },
  {
   "cell_type": "code",
   "execution_count": 11,
   "metadata": {
    "tags": []
   },
   "outputs": [],
   "source": [
    "feature_list = ['Temperature', 'Humidity', 'Pressure', 'Visibility', 'Wind_Speed',\n",
    "                'Precipitation', 'Weekday', 'Rush_Hour', 'Rain', 'Snow', 'SeasonVec',\n",
    "                'Astronomical_TwilightIndex', 'Interstate_Indicator', 'Sex_ratio',\n",
    "                'Percent_Age_15-24', 'Percent_Age_65_over', 'MedianIncome',\n",
    "                'Urban_Ratio', 'Traffic_Interference', 'Traffic_Intersection', 'Destination']\n",
    "\n",
    "# Assemble the feature columns into a single vector column 'scaled_features'\n",
    "assembler = VectorAssembler(inputCols=feature_list, outputCol='features')"
   ]
  },
  {
   "cell_type": "code",
   "execution_count": 12,
   "metadata": {
    "tags": []
   },
   "outputs": [],
   "source": [
    "gbt = GBTClassifier(labelCol=\"Severity_Binary\", featuresCol=\"features\")\n",
    "\n",
    "# Step 4: Create a pipeline with the VectorAssembler and GBTClassifier\n",
    "pipeline = Pipeline(stages=[assembler, gbt])\n",
    "\n",
    "# Step 5: Handle missing values - Remove rows with missing values in the required columns\n",
    "#df_with_weights = df_with_weights.dropna(subset=['Severity_Binary', 'weight'])\n",
    "#df_with_weights.printSchema()"
   ]
  },
  {
   "cell_type": "code",
   "execution_count": 14,
   "metadata": {
    "tags": []
   },
   "outputs": [
    {
     "name": "stderr",
     "output_type": "stream",
     "text": [
      "                                                                                \r"
     ]
    },
    {
     "name": "stdout",
     "output_type": "stream",
     "text": [
      "Recall:  0.6318898546265672\n",
      "{\n",
      "\tGBTClassifier_00c70bbf7842-featuresCol: features,\n",
      "\tGBTClassifier_00c70bbf7842-labelCol: Severity_Binary,\n",
      "\tGBTClassifier_00c70bbf7842-maxDepth: 7,\n",
      "\tGBTClassifier_00c70bbf7842-maxIter: 3\n",
      "}\n"
     ]
    }
   ],
   "source": [
    "# Define the parameter grid\n",
    "paramGrid = ParamGridBuilder() \\\n",
    "    .addGrid(gbt.maxIter, [3]) \\\n",
    "    .addGrid(gbt.maxDepth, [7]) \\\n",
    "    .build()\n",
    "\n",
    "# Create a CrossValidator\n",
    "crossval = CrossValidator(estimator=pipeline,\n",
    "                          estimatorParamMaps=paramGrid,\n",
    "                          evaluator=MulticlassClassificationEvaluator(labelCol=\"Severity_Binary\"\n",
    "                                                                      , predictionCol=\"prediction\"\n",
    "                                                                      , metricName=\"truePositiveRateByLabel\"\n",
    "                                                                      , metricLabel=1.0),\n",
    "                          numFolds=5)\n",
    "\n",
    "# Fit the model\n",
    "cvModel = crossval.fit(balanced_train_df)\n",
    "\n",
    "# Make predictions on the test set\n",
    "predictions = cvModel.transform(val_df)\n",
    "\n",
    "# Evaluate the model\n",
    "evaluator = MulticlassClassificationEvaluator(labelCol=\"Severity_Binary\", predictionCol=\"prediction\", metricName=\"truePositiveRateByLabel\", metricLabel=1.0)\n",
    "recall = evaluator.evaluate(predictions)\n",
    "print(\"Recall: \", recall)\n",
    "\n",
    "# Get and save the best model\n",
    "bestModel = cvModel.bestModel\n",
    "bestModel.save(\"best_gbt_model_v5\")\n",
    "print(bestModel.stages[-1]._java_obj.paramMap()) "
   ]
  },
  {
   "cell_type": "code",
   "execution_count": 15,
   "metadata": {
    "tags": []
   },
   "outputs": [
    {
     "name": "stderr",
     "output_type": "stream",
     "text": [
      "WARNING: An illegal reflective access operation has occurred\n",
      "WARNING: Illegal reflective access by org.apache.spark.util.SizeEstimator$ (file:/opt/conda/lib/python3.7/site-packages/pyspark/jars/spark-core_2.12-3.3.1.jar) to field java.math.BigInteger.mag\n",
      "WARNING: Please consider reporting this to the maintainers of org.apache.spark.util.SizeEstimator$\n",
      "WARNING: Use --illegal-access=warn to enable warnings of further illegal reflective access operations\n",
      "WARNING: All illegal access operations will be denied in a future release\n"
     ]
    }
   ],
   "source": [
    "loadedCvModel = PipelineModel.load(\"best_gbt_model_v5\")"
   ]
  },
  {
   "cell_type": "markdown",
   "metadata": {},
   "source": [
    "# Evaluation and Metrics"
   ]
  },
  {
   "cell_type": "code",
   "execution_count": 16,
   "metadata": {
    "tags": []
   },
   "outputs": [
    {
     "name": "stderr",
     "output_type": "stream",
     "text": [
      "[Stage 628:==========================================>              (6 + 2) / 8]\r"
     ]
    },
    {
     "name": "stdout",
     "output_type": "stream",
     "text": [
      "Weighted Precision: 0.7865326433678417\n",
      "Weighted F1 Score: 0.7164733249034778\n",
      "Accuracy: 0.6845759781425431\n"
     ]
    },
    {
     "name": "stderr",
     "output_type": "stream",
     "text": [
      "                                                                                \r"
     ]
    },
    {
     "data": {
      "image/png": "[encoded data removed]",
      "text/plain": [
       "<Figure size 640x480 with 2 Axes>"
      ]
     },
     "metadata": {},
     "output_type": "display_data"
    },
    {
     "name": "stderr",
     "output_type": "stream",
     "text": [
      "[Stage 631:=================================================>       (7 + 1) / 8]\r"
     ]
    },
    {
     "name": "stdout",
     "output_type": "stream",
     "text": [
      "Area Under ROC: 0.6634089293493921\n"
     ]
    },
    {
     "name": "stderr",
     "output_type": "stream",
     "text": [
      "                                                                                \r"
     ]
    }
   ],
   "source": [
    "# Further Metrics on Best Model\n",
    "pred = loadedCvModel.transform(test_df)\n",
    "\n",
    "#Evaluate (Confusion Matrix, Accuracy, Weighted Precision, Recall, and F1 Score)\n",
    "predictionAndLabels = pred.select(\"prediction\", \"Severity_Binary\")\n",
    "rdd = predictionAndLabels.rdd.map(lambda x: tuple(map(float, x)))\n",
    "multi_metrics = MulticlassMetrics(rdd)\n",
    "\n",
    "# Get precision, recall, and F1-score for each class\n",
    "print(f'Weighted Precision: {multi_metrics.weightedPrecision}') #would expect to be good when test sample has high majority 0 class\n",
    "#print(f'Weighted Recall: {multi_metrics.weightedRecall}')\n",
    "print(f'Weighted F1 Score: {multi_metrics.weightedFMeasure()}') #would like to optimize this (balance of precision and recall)\n",
    "print(f'Accuracy: {multi_metrics.accuracy}') #could be skewed with imbalanced test set\n",
    "\n",
    "# Plot confusion matrix\n",
    "cf = multi_metrics.confusionMatrix().toArray()\n",
    "cf_df = pd.DataFrame(cf, columns=['0', '1'])\n",
    "sns.heatmap(cf_df, annot=True, cmap=\"coolwarm\")\n",
    "plt.show()\n",
    "\n",
    "# AUC Score\n",
    "binary_metrics = BinaryClassificationMetrics(rdd)\n",
    "auc = binary_metrics.areaUnderROC\n",
    "print(\"Area Under ROC:\", auc)"
   ]
  },
  {
   "cell_type": "markdown",
   "metadata": {},
   "source": [
    "## Load Saved Best Model"
   ]
  },
  {
   "cell_type": "markdown",
   "metadata": {},
   "source": [
    "## Feature Importance"
   ]
  },
  {
   "cell_type": "code",
   "execution_count": 17,
   "metadata": {
    "tags": []
   },
   "outputs": [
    {
     "name": "stdout",
     "output_type": "stream",
     "text": [
      "Percent_Age_15-24: 0.3807749047641967\n",
      "Temperature: 0.09723874472631347\n",
      "Wind_Speed: 0.0924156759505971\n",
      "Pressure: 0.08509025538029755\n",
      "Traffic_Intersection: 0.06838555971400324\n",
      "SeasonVec: 0.044480192252258785\n",
      "Astronomical_TwilightIndex: 0.034963359665166754\n",
      "Urban_Ratio: 0.0317208838497207\n",
      "Humidity: 0.024478388468449106\n",
      "Traffic_Interference: 0.022646608718401472\n",
      "Percent_Age_65_over: 0.015346639288703888\n",
      "Interstate_Indicator: 0.015001347619558668\n",
      "Sex_ratio: 0.00834292726125872\n",
      "Destination: 0.006154785139735128\n",
      "Weekday: 0.00560230439546761\n",
      "MedianIncome: 0.005083259675392934\n",
      "Rush_Hour: 0.003033902635665785\n",
      "Visibility: 0.0022737969942266466\n",
      "Rain: 0.002050753418427257\n",
      "Snow: 0.00014633837406829439\n",
      "Precipitation: 0.0\n"
     ]
    }
   ],
   "source": [
    "feature_importances = cvModel.bestModel.stages[-1].featureImportances\n",
    "\n",
    "# Create a mapping between feature names and their importance scores\n",
    "feature_importance_dict = {}\n",
    "feature_names = assembler.getInputCols()\n",
    "for i, feature_name in enumerate(feature_names):\n",
    "    feature_importance_dict[feature_name] = feature_importances[i]\n",
    "\n",
    "# Sort the feature importance dictionary by score in descending order\n",
    "sorted_feature_importances = sorted(feature_importance_dict.items(), key=lambda x: x[1], reverse=True)\n",
    "\n",
    "# Print the feature importances\n",
    "for feature_name, importance_score in sorted_feature_importances:\n",
    "    print(f\"{feature_name}: {importance_score}\")"
   ]
  },
  {
   "cell_type": "markdown",
   "metadata": {
    "tags": []
   },
   "source": [
    "## Sensitivity"
   ]
  },
  {
   "cell_type": "code",
   "execution_count": 18,
   "metadata": {
    "tags": []
   },
   "outputs": [
    {
     "name": "stderr",
     "output_type": "stream",
     "text": [
      "[Stage 1448:==========================================>             (6 + 2) / 8]\r"
     ]
    },
    {
     "name": "stdout",
     "output_type": "stream",
     "text": [
      "    maxDepth  maxIter    recall        f1  accuracy\n",
      "0        3.0      3.0  0.449889  0.761571  0.751711\n",
      "1        3.0      4.0  0.467494  0.758773  0.746586\n",
      "2        3.0      5.0  0.589597  0.716709  0.686298\n",
      "3        3.0      6.0  0.589959  0.716581  0.686126\n",
      "4        4.0      3.0  0.647641  0.686541  0.648397\n",
      "5        4.0      4.0  0.643825  0.690822  0.653520\n",
      "6        4.0      5.0  0.643533  0.691685  0.654547\n",
      "7        4.0      6.0  0.624137  0.707064  0.673395\n",
      "8        5.0      3.0  0.645535  0.691030  0.653732\n",
      "9        5.0      4.0  0.640892  0.696955  0.660857\n",
      "10       5.0      5.0  0.639516  0.699252  0.663624\n",
      "11       5.0      6.0  0.629945  0.708110  0.674484\n",
      "12       6.0      3.0  0.636302  0.707628  0.673724\n",
      "13       6.0      4.0  0.632801  0.709788  0.676419\n",
      "14       6.0      5.0  0.633189  0.710825  0.677656\n",
      "15       6.0      6.0  0.627777  0.715467  0.683424\n"
     ]
    },
    {
     "name": "stderr",
     "output_type": "stream",
     "text": [
      "                                                                                \r"
     ]
    }
   ],
   "source": [
    "train_data_s = assembler.transform(balanced_train_df)\n",
    "test_data_s = assembler.transform(test_df)\n",
    "\n",
    "# Define parameter ranges\n",
    "param_ranges = {\n",
    "    \"maxDepth\": [3,4,5,6],\n",
    "    \"maxIter\": [3,4,5,6]\n",
    "}\n",
    "\n",
    "\n",
    "# Create an evaluator\n",
    "evaluator = MulticlassClassificationEvaluator(labelCol=\"Severity_Binary\", predictionCol=\"prediction\")\n",
    "\n",
    "# Perform sensitivity analysis\n",
    "results = []\n",
    "for maxDepth in param_ranges[\"maxDepth\"]:\n",
    "    for maxIter in param_ranges[\"maxIter\"]:\n",
    "        # Create a model\n",
    "        gbt = GBTClassifier(labelCol=\"Severity_Binary\", featuresCol=\"features\", maxDepth=maxDepth, maxIter=maxIter)\n",
    "\n",
    "        # Fit the model\n",
    "        model = gbt.fit(train_data_s)\n",
    "\n",
    "        # Make predictions\n",
    "        predictions = model.transform(test_data_s)\n",
    "\n",
    "        # Evaluate the model\n",
    "        recall = evaluator.evaluate(predictions, {evaluator.metricName:\"truePositiveRateByLabel\", evaluator.metricLabel: 1.0})\n",
    "        f1 = evaluator.evaluate(predictions, {evaluator.metricName:\"f1\"})\n",
    "        accuracy = evaluator.evaluate(predictions, {evaluator.metricName:\"accuracy\"})\n",
    "\n",
    "        # Store the results\n",
    "        results.append([maxDepth, maxIter, recall, f1, accuracy])\n",
    "\n",
    "# Save and Print Results\n",
    "sensitivity_analysis = pd.DataFrame(columns=['maxDepth', 'maxIter', 'recall', 'f1', 'accuracy'])\n",
    "for i,result in enumerate(results):\n",
    "    sensitivity_analysis.loc[i] = result\n",
    "print(sensitivity_analysis)"
   ]
  },
  {
   "cell_type": "code",
   "execution_count": null,
   "metadata": {},
   "outputs": [],
   "source": []
  }
 ],
 "metadata": {
  "kernelspec": {
   "display_name": "DS7200 Spark 3.3",
   "language": "python",
   "name": "ds5110_spark3.3"
  },
  "language_info": {
   "codemirror_mode": {
    "name": "ipython",
    "version": 3
   },
   "file_extension": ".py",
   "mimetype": "text/x-python",
   "name": "python",
   "nbconvert_exporter": "python",
   "pygments_lexer": "ipython3",
   "version": "3.7.12"
  },
  "toc-showtags": false
 },
 "nbformat": 4,
 "nbformat_minor": 4
}
