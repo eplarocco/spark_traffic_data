{
 "cells": [
  {
   "cell_type": "code",
   "execution_count": 1,
   "id": "1bf6ccc1-6317-482a-ac30-72c6eab49a0b",
   "metadata": {},
   "outputs": [],
   "source": [
    "# Import Libraries\n",
    "import pandas as pd\n",
    "import numpy as np\n",
    "import os\n",
    "import pyspark\n",
    "from pyspark.sql import SparkSession\n",
    "from pyspark.sql.types import *\n",
    "from pyspark.sql.functions import *\n",
    "from pyspark.ml.feature import StringIndexer, OneHotEncoder, VectorAssembler\n",
    "from pyspark.ml.stat import Correlation\n",
    "#import seaborn as sns\n",
    "import matplotlib.pyplot as plt\n",
    "import pyspark.sql.functions as F\n",
    "#import holidays\n",
    "from datetime import datetime, timezone\n",
    "from pyspark.ml.classification import RandomForestClassifier, BinaryLogisticRegressionSummary\n",
    "from pyspark.ml import Pipeline\n",
    "from pyspark.mllib.evaluation import MulticlassMetrics, BinaryClassificationMetrics\n",
    "from pyspark.ml.pipeline import PipelineModel"
   ]
  },
  {
   "cell_type": "code",
   "execution_count": 2,
   "id": "d0709727-12cd-4322-b2e8-5ceca8b3b502",
   "metadata": {},
   "outputs": [
    {
     "name": "stderr",
     "output_type": "stream",
     "text": [
      "/opt/conda/lib/python3.7/site-packages/pyspark/bin/load-spark-env.sh: line 68: ps: command not found\n",
      "Setting default log level to \"WARN\".\n",
      "To adjust logging level use sc.setLogLevel(newLevel). For SparkR, use setLogLevel(newLevel).\n"
     ]
    },
    {
     "name": "stdout",
     "output_type": "stream",
     "text": [
      "24/11/27 15:32:04 WARN NativeCodeLoader: Unable to load native-hadoop library for your platform... using builtin-java classes where applicable\n",
      "24/11/27 15:32:05 WARN Utils: Service 'SparkUI' could not bind on port 4040. Attempting port 4041.\n",
      "24/11/27 15:32:05 WARN Utils: Service 'SparkUI' could not bind on port 4041. Attempting port 4042.\n",
      "24/11/27 15:32:05 WARN Utils: Service 'SparkUI' could not bind on port 4042. Attempting port 4043.\n",
      "24/11/27 15:32:05 WARN Utils: Service 'SparkUI' could not bind on port 4043. Attempting port 4044.\n",
      "24/11/27 15:32:05 WARN Utils: Service 'SparkUI' could not bind on port 4044. Attempting port 4045.\n",
      "24/11/27 15:32:05 WARN Utils: Service 'SparkUI' could not bind on port 4045. Attempting port 4046.\n",
      "24/11/27 15:32:05 WARN Utils: Service 'SparkUI' could not bind on port 4046. Attempting port 4047.\n"
     ]
    }
   ],
   "source": [
    "from pyspark.sql import SparkSession\n",
    "\n",
    "spark = SparkSession.builder \\\n",
    "    .appName(\"US_Accidents\") \\\n",
    "    .config(\"spark.executor.memory\", \"4g\") \\\n",
    "    .config(\"spark.driver.memory\", \"4g\") \\\n",
    "    .config(\"spark.sql.shuffle.partitions\", \"200\") \\\n",
    "    .config(\"spark.memory.offHeap.enabled\", \"true\") \\\n",
    "    .config(\"spark.memory.offHeap.size\", \"2g\") \\\n",
    "    .getOrCreate()\n",
    "spark.sparkContext.setLogLevel(\"ERROR\") #supress warnings"
   ]
  },
  {
   "cell_type": "code",
   "execution_count": 3,
   "id": "c5a537b4-0516-49a4-a9d3-9957ecf6972b",
   "metadata": {},
   "outputs": [],
   "source": [
    "# Read in Data\n",
    "df = spark.read.parquet(\"updated_dataset.parquet\")"
   ]
  },
  {
   "cell_type": "code",
   "execution_count": 4,
   "id": "c6be913b-8a20-494f-af35-4cc44879acb7",
   "metadata": {},
   "outputs": [
    {
     "name": "stderr",
     "output_type": "stream",
     "text": [
      "                                                                                \r"
     ]
    }
   ],
   "source": [
    "# Use StringIndexer for encoding the 'Severity' column\n",
    "indexer = StringIndexer(inputCol=\"Severity_Binary\", outputCol=\"SeverityIndex\")\n",
    "df = indexer.fit(df).transform(df)"
   ]
  },
  {
   "cell_type": "code",
   "execution_count": 5,
   "id": "bb96fd0f-7581-467f-a0c3-948425bd9ed5",
   "metadata": {},
   "outputs": [],
   "source": [
    "# Create list of features\n",
    "feature_list = []\n",
    "for col in df.columns:\n",
    "    if col == 'Severity':\n",
    "        continue\n",
    "    elif col == 'SeverityIndex':\n",
    "        continue\n",
    "    elif col == \"Severity_Binary\":\n",
    "        continue\n",
    "    elif col == 'Pressure':\n",
    "        continue\n",
    "    else:\n",
    "        feature_list.append(col)"
   ]
  },
  {
   "cell_type": "code",
   "execution_count": 6,
   "id": "8117f0e8-de44-4430-aa72-8899adcaeae8",
   "metadata": {},
   "outputs": [],
   "source": [
    "# Split the data into train and test\n",
    "splits = df.randomSplit([0.8, 0.2], 314)\n",
    "train = splits[0]\n",
    "test = splits[1]"
   ]
  },
  {
   "cell_type": "code",
   "execution_count": 7,
   "id": "827fa4c6-689b-4ea8-9b72-5fdbf8d7ecb4",
   "metadata": {},
   "outputs": [
    {
     "name": "stderr",
     "output_type": "stream",
     "text": [
      "                                                                                \r"
     ]
    },
    {
     "name": "stdout",
     "output_type": "stream",
     "text": [
      "+--------+-----------+--------+--------+----------+----------+-------------+-------+---------+----+----+-------------+--------------------------+--------------------+---------+-------------------+------------+-----------+--------------------+--------------------+-----------+-----------------+---------------+-------------+\n",
      "|Severity|Temperature|Humidity|Pressure|Visibility|Wind_Speed|Precipitation|Weekday|Rush_Hour|Rain|Snow|    SeasonVec|Astronomical_TwilightIndex|Interstate_Indicator|Sex_ratio|Percent_Age_65_over|MedianIncome|Urban_Ratio|Traffic_Interference|Traffic_Intersection|Destination|Percent_Age_15-24|Severity_Binary|SeverityIndex|\n",
      "+--------+-----------+--------+--------+----------+----------+-------------+-------+---------+----+----+-------------+--------------------------+--------------------+---------+-------------------+------------+-----------+--------------------+--------------------+-----------+-----------------+---------------+-------------+\n",
      "|       3|        -17|      71|      29|         4|         5|            0|      1|        1|   0|   0|(3,[0],[1.0])|                         0|                   1|     96.5|               13.0|     63184.0|        1.0|                   0|                   0|          0|             13.8|              1|          1.0|\n",
      "|       3|        -17|      81|      29|        10|         3|            0|      1|        0|   0|   0|(3,[0],[1.0])|                         1|                   0|     97.2|               19.3|     61710.0|     0.5932|                   0|                   0|          0|             11.2|              1|          1.0|\n",
      "|       3|        -17|      81|      29|        10|         3|            0|      1|        0|   0|   0|(3,[0],[1.0])|                         1|                   0|    103.6|               18.5|     60634.0|        0.0|                   0|                   0|          0|             12.0|              1|          1.0|\n",
      "|       3|        -16|      79|      29|        10|         7|            0|      1|        1|   0|   0|(3,[0],[1.0])|                         0|                   0|    112.1|                7.3|     59917.0|        1.0|                   0|                   0|          0|             17.4|              1|          1.0|\n",
      "|       3|        -16|      79|      29|        10|         7|            0|      1|        1|   0|   0|(3,[0],[1.0])|                         0|                   0|    141.0|                3.4|    103750.0|        1.0|                   0|                   1|          0|              8.4|              1|          1.0|\n",
      "|       3|        -16|      79|      30|         2|        13|            0|      1|        1|   0|   0|(3,[0],[1.0])|                         0|                   1|     91.0|                9.6|     63618.0|        1.0|                   0|                   0|          0|             19.7|              1|          1.0|\n",
      "|       3|        -15|      75|      29|        10|         6|            0|      1|        0|   0|   0|(3,[0],[1.0])|                         1|                   0|    112.6|               10.2|     58939.0|        1.0|                   0|                   0|          0|              9.2|              1|          1.0|\n",
      "|       3|        -13|      75|      29|        10|         8|            0|      1|        1|   0|   0|(3,[0],[1.0])|                         0|                   1|    103.9|                9.9|     52199.0|     0.8638|                   0|                   0|          0|             30.2|              1|          1.0|\n",
      "|       3|        -13|      75|      30|        10|         0|            0|      1|        1|   0|   0|(3,[0],[1.0])|                         0|                   0|     91.7|               16.2|     72537.0|     0.9993|                   0|                   0|          0|              9.0|              1|          1.0|\n",
      "|       3|        -12|      78|      29|        10|         5|            0|      1|        1|   0|   0|(3,[0],[1.0])|                         0|                   1|    103.9|               17.2|     78705.0|        0.0|                   0|                   0|          0|             11.3|              1|          1.0|\n",
      "|       3|        -12|      78|      30|        10|         0|            0|      1|        1|   0|   0|(3,[0],[1.0])|                         0|                   1|    107.9|               15.7|     49412.0|     0.9924|                   0|                   0|          0|             14.7|              1|          1.0|\n",
      "|       3|        -10|      74|      29|        10|        10|            0|      1|        1|   0|   0|(3,[0],[1.0])|                         0|                   0|    112.6|               10.2|     58939.0|        1.0|                   0|                   0|          0|              9.2|              1|          1.0|\n",
      "|       3|        -10|      86|      29|        10|         0|            0|      0|        1|   0|   0|(3,[0],[1.0])|                         0|                   0|     90.0|               10.9|    127570.0|     0.9978|                   0|                   0|          0|             11.0|              1|          1.0|\n",
      "|       3|         -9|      73|      30|        10|         6|            0|      1|        1|   0|   0|(3,[0],[1.0])|                         0|                   0|     82.4|               13.1|     44444.0|        1.0|                   0|                   0|          0|        15.700001|              1|          1.0|\n",
      "|       3|         -9|      73|      30|        10|         6|            0|      1|        1|   0|   0|(3,[0],[1.0])|                         0|                   1|     98.3|               12.4|     47996.0|        1.0|                   0|                   1|          0|             13.4|              1|          1.0|\n",
      "|       3|         -9|      74|      30|        10|         5|            0|      1|        1|   0|   0|(3,[0],[1.0])|                         0|                   1|    100.7|                7.4|     40885.0|        1.0|                   0|                   0|          0|             14.8|              1|          1.0|\n",
      "|       3|         -9|      75|      30|        10|         0|            0|      1|        0|   0|   0|(3,[0],[1.0])|                         1|                   0|     98.9|               10.9|    120613.0|        1.0|                   0|                   0|          0|             12.7|              1|          1.0|\n",
      "|       3|         -9|      75|      30|        10|         8|            0|      1|        1|   0|   0|(3,[0],[1.0])|                         0|                   0|     96.7|               11.0|     53034.0|        1.0|                   0|                   0|          0|        13.799999|              1|          1.0|\n",
      "|       3|         -8|      77|      30|        10|         8|            0|      1|        1|   0|   0|(3,[0],[1.0])|                         0|                   0|     99.3|               13.4|    107204.0|     0.9818|                   0|                   0|          0|             11.6|              1|          1.0|\n",
      "|       3|         -8|      84|      29|        10|         3|            0|      0|        1|   0|   0|(3,[0],[1.0])|                         0|                   1|     93.3|               22.8|     49953.0|     0.8394|                   0|                   0|          0|             10.5|              1|          1.0|\n",
      "+--------+-----------+--------+--------+----------+----------+-------------+-------+---------+----+----+-------------+--------------------------+--------------------+---------+-------------------+------------+-----------+--------------------+--------------------+-----------+-----------------+---------------+-------------+\n",
      "only showing top 20 rows\n",
      "\n"
     ]
    },
    {
     "name": "stderr",
     "output_type": "stream",
     "text": [
      "[Stage 14:=================================================>      (41 + 5) / 46]\r"
     ]
    },
    {
     "name": "stdout",
     "output_type": "stream",
     "text": [
      "+---------------+-------+\n",
      "|Severity_Binary|  count|\n",
      "+---------------+-------+\n",
      "|              1|1041410|\n",
      "|              0|1041907|\n",
      "+---------------+-------+\n",
      "\n"
     ]
    },
    {
     "name": "stderr",
     "output_type": "stream",
     "text": [
      "                                                                                \r"
     ]
    }
   ],
   "source": [
    "# Undersampling\n",
    "from pyspark.sql import functions as F\n",
    "\n",
    "# Step 1: Group by 'Severity' and count occurrences\n",
    "class_counts = train.groupBy(\"Severity_Binary\").count()\n",
    "\n",
    "# Step 2: Use PySpark's min() function to find the minimum count\n",
    "min_class_size = class_counts.agg(F.min('count')).collect()[0][0]\n",
    "\n",
    "undersampled_train_list = []\n",
    "\n",
    "for row in class_counts.collect():\n",
    "    class_label = row['Severity_Binary']\n",
    "    class_size = row['count']\n",
    "\n",
    "    if class_size > min_class_size:\n",
    "        # Sample the data for this class to the size of the minimum class\n",
    "        class_data = train.filter(F.col(\"Severity_Binary\") == class_label)\n",
    "        class_data_undersampled = class_data.sample(withReplacement=False, fraction=min_class_size / class_size)\n",
    "    else:\n",
    "        # For classes that are already at the minimum size, keep all samples\n",
    "        class_data_undersampled = train.filter(F.col(\"Severity_Binary\") == class_label)\n",
    "\n",
    "    undersampled_train_list.append(class_data_undersampled)\n",
    "\n",
    "# Combine all the undersampled DataFrames\n",
    "undersampled_train = undersampled_train_list[0]  # start with the first one\n",
    "for df in undersampled_train_list[1:]:\n",
    "    undersampled_train = undersampled_train.union(df)\n",
    "\n",
    "# Show the result\n",
    "undersampled_train.show()\n",
    "\n",
    "# Step 4: Group by 'Severity' and count the occurrences in the undersampled DataFrame\n",
    "undersampled_class_counts = undersampled_train.groupBy(\"Severity_Binary\").count()\n",
    "\n",
    "# Show the result\n",
    "undersampled_class_counts.show()"
   ]
  },
  {
   "cell_type": "code",
   "execution_count": 8,
   "id": "2d79048b-55fa-4cac-9ce6-00d115340220",
   "metadata": {},
   "outputs": [],
   "source": [
    "# Assemble data for logistic regression model\n",
    "assembler = VectorAssembler(inputCols=feature_list,\n",
    "                            outputCol=\"features\")\n",
    "\n",
    "undersampled_train = assembler.transform(undersampled_train)\n",
    "test = assembler.transform(test)"
   ]
  },
  {
   "cell_type": "code",
   "execution_count": 9,
   "id": "12d162c1-9965-4daa-b66e-4be1e2ed3501",
   "metadata": {},
   "outputs": [
    {
     "name": "stdout",
     "output_type": "stream",
     "text": [
      "['Temperature', 'Humidity', 'Visibility', 'Wind_Speed', 'Precipitation', 'Weekday', 'Rush_Hour', 'Rain', 'Snow', 'SeasonVec', 'Astronomical_TwilightIndex', 'Interstate_Indicator', 'Sex_ratio', 'Percent_Age_65_over', 'MedianIncome', 'Urban_Ratio', 'Traffic_Interference', 'Traffic_Intersection', 'Destination', 'Percent_Age_15-24']\n"
     ]
    }
   ],
   "source": [
    "print(feature_list)"
   ]
  },
  {
   "cell_type": "code",
   "execution_count": 10,
   "id": "2b5e00b4-277f-4dff-b480-5bcb8acdc8bc",
   "metadata": {},
   "outputs": [
    {
     "name": "stderr",
     "output_type": "stream",
     "text": [
      "                                                                                \r"
     ]
    }
   ],
   "source": [
    "# Standardize the predictors\n",
    "from pyspark.ml.feature import StandardScaler\n",
    "scaler = StandardScaler(inputCol=\"features\", outputCol=\"scaledFeatures\")\n",
    "scalerModel = scaler.fit(undersampled_train)\n",
    "scaledTrainData = scalerModel.transform(undersampled_train)\n",
    "scaledTestData = scalerModel.transform(test)"
   ]
  },
  {
   "cell_type": "code",
   "execution_count": 11,
   "id": "54cb60dc-688a-45e9-b2fe-bf00d4ec87f0",
   "metadata": {},
   "outputs": [
    {
     "name": "stderr",
     "output_type": "stream",
     "text": [
      "                                                                                \r"
     ]
    },
    {
     "name": "stdout",
     "output_type": "stream",
     "text": [
      "Detected number of classes: 2\n",
      "Coefficients: DenseMatrix([[-0.13156969,  0.04215108,  0.04836303,  0.14418623,  0.00587337,\n",
      "              -0.05138957, -0.00495242,  0.05093238, -0.0253914 , -0.30859217,\n",
      "              -0.17580096, -0.10224233, -0.05313435,  0.54522148,  0.02709168,\n",
      "              -0.1034482 , -0.00274357,  0.0694834 ,  0.0155273 , -0.19289974,\n",
      "              -0.13163645, -0.03090488]])\n",
      "Intercept: [0.19112187087179192]\n"
     ]
    }
   ],
   "source": [
    "# Fit logistic regression model with intercept\n",
    "from pyspark.ml.classification import LogisticRegression\n",
    "\n",
    "# instantiate the model\n",
    "lr = LogisticRegression(labelCol='SeverityIndex',\n",
    "                        featuresCol='scaledFeatures')\n",
    "\n",
    "# Fit the model\n",
    "lrModel = lr.fit(scaledTrainData)\n",
    "print(f\"Detected number of classes: {lrModel.numClasses}\")\n",
    "\n",
    "# Print the coefficients and intercept for logistic regression\n",
    "print(\"Coefficients: \" + str(lrModel.coefficientMatrix))\n",
    "print(\"Intercept: \" + str(lrModel.interceptVector))"
   ]
  },
  {
   "cell_type": "code",
   "execution_count": 12,
   "id": "c9646a1f-7a43-4a74-8e3d-e64dd3a11062",
   "metadata": {},
   "outputs": [
    {
     "name": "stderr",
     "output_type": "stream",
     "text": [
      "                                                                                \r"
     ]
    },
    {
     "name": "stdout",
     "output_type": "stream",
     "text": [
      "+----------+\n",
      "|prediction|\n",
      "+----------+\n",
      "|       0.0|\n",
      "|       1.0|\n",
      "+----------+\n",
      "\n"
     ]
    },
    {
     "name": "stderr",
     "output_type": "stream",
     "text": [
      "[Stage 57:==============================================>         (19 + 4) / 23]\r"
     ]
    },
    {
     "name": "stdout",
     "output_type": "stream",
     "text": [
      "Area Under ROC: 0.6406419551533334\n"
     ]
    },
    {
     "name": "stderr",
     "output_type": "stream",
     "text": [
      "                                                                                \r"
     ]
    }
   ],
   "source": [
    "from pyspark.ml.evaluation import BinaryClassificationEvaluator\n",
    "\n",
    "# Compute predictions. This will append the column \"prediction\" to the DataFrame.\n",
    "lrPred = lrModel.transform(scaledTestData)\n",
    "lrPred.select(\"prediction\").distinct().show()\n",
    "\n",
    "# Use BinaryClassificationEvaluator for binary classification\n",
    "evaluator = BinaryClassificationEvaluator(labelCol='SeverityIndex', rawPredictionCol='prediction', metricName='areaUnderROC')\n",
    "\n",
    "# Evaluate accuracy using area under ROC (or you can use 'areaUnderPR' for Precision-Recall)\n",
    "roc_auc = evaluator.evaluate(lrPred, {evaluator.metricName: \"areaUnderROC\"})\n",
    "print(f'Area Under ROC: {roc_auc}')"
   ]
  },
  {
   "cell_type": "code",
   "execution_count": 13,
   "id": "434bf984-ef60-4fcc-aecd-038dbc001077",
   "metadata": {},
   "outputs": [
    {
     "name": "stderr",
     "output_type": "stream",
     "text": [
      "                                                                                \r"
     ]
    },
    {
     "name": "stdout",
     "output_type": "stream",
     "text": [
      "+----------+\n",
      "|prediction|\n",
      "+----------+\n",
      "|       0.0|\n",
      "|       1.0|\n",
      "+----------+\n",
      "\n"
     ]
    },
    {
     "name": "stderr",
     "output_type": "stream",
     "text": [
      "                                                                                \r"
     ]
    },
    {
     "name": "stdout",
     "output_type": "stream",
     "text": [
      "Recall for label 1.0: 0.5647333563033574\n"
     ]
    },
    {
     "name": "stderr",
     "output_type": "stream",
     "text": [
      "[Stage 73:================================================>       (20 + 3) / 23]\r"
     ]
    },
    {
     "name": "stdout",
     "output_type": "stream",
     "text": [
      "Accuracy: 0.6883413430759119\n"
     ]
    },
    {
     "name": "stderr",
     "output_type": "stream",
     "text": [
      "                                                                                \r"
     ]
    }
   ],
   "source": [
    "from pyspark.ml.evaluation import MulticlassClassificationEvaluator\n",
    "\n",
    "# compute predictions. this will append column \"prediction\" to dataframe\n",
    "lrPred = lrModel.transform(scaledTestData)\n",
    "lrPred.select(\"prediction\").distinct().show()\n",
    "\n",
    "# Assuming `lrPred` is your predictions DataFrame\n",
    "evaluator = MulticlassClassificationEvaluator(\n",
    "    labelCol=\"Severity_Binary\",\n",
    "    predictionCol=\"prediction\",\n",
    "    metricName='truePositiveRateByLabel', \n",
    "    metricLabel=1.0\n",
    ")\n",
    "\n",
    "recall = evaluator.evaluate(lrPred)\n",
    "print(f\"Recall for label 1.0: {recall}\")\n",
    "\n",
    "accuracy = evaluator.evaluate(lrPred, {evaluator.metricName: \"accuracy\"})\n",
    "print(f'Accuracy: {accuracy}')"
   ]
  },
  {
   "cell_type": "code",
   "execution_count": 14,
   "id": "cb6f4828-4890-41b3-a8b4-309bdb011401",
   "metadata": {},
   "outputs": [
    {
     "name": "stderr",
     "output_type": "stream",
     "text": [
      "[Stage 77:===================================================>    (21 + 2) / 23]\r"
     ]
    },
    {
     "name": "stdout",
     "output_type": "stream",
     "text": [
      "Precision: 0.7731397506335927\n",
      "F1 Score: 0.7173323755499972\n"
     ]
    },
    {
     "name": "stderr",
     "output_type": "stream",
     "text": [
      "                                                                                \r"
     ]
    }
   ],
   "source": [
    "precision = evaluator.evaluate(lrPred, {evaluator.metricName: 'weightedPrecision'})\n",
    "#recall = evaluator.evaluate(lrPred, {evaluator.metricName: 'truePositiveRateByLabel'})\n",
    "f1_score = evaluator.evaluate(lrPred, {evaluator.metricName: 'f1'})\n",
    "\n",
    "print(f'Precision: {precision}')\n",
    "#print(f'Recall: {recall}')\n",
    "print(f'F1 Score: {f1_score}')"
   ]
  },
  {
   "cell_type": "code",
   "execution_count": 15,
   "id": "c83d5b4d-839c-4f83-a9c2-16313e5204b4",
   "metadata": {},
   "outputs": [
    {
     "name": "stderr",
     "output_type": "stream",
     "text": [
      "[Stage 79:===========================================>            (18 + 5) / 23]\r"
     ]
    },
    {
     "name": "stdout",
     "output_type": "stream",
     "text": [
      "+---------------+------------------+\n",
      "|Severity_Binary|          accuracy|\n",
      "+---------------+------------------+\n",
      "|              1|0.5647333563033574|\n",
      "|              0|0.7165505540033095|\n",
      "+---------------+------------------+\n",
      "\n"
     ]
    },
    {
     "name": "stderr",
     "output_type": "stream",
     "text": [
      "                                                                                \r"
     ]
    }
   ],
   "source": [
    "# Add a column to indicate correct or incorrect predictions\n",
    "predictions = lrPred.withColumn(\n",
    "    'is_correct', F.expr(\"CASE WHEN Severity_Binary = prediction THEN 1 ELSE 0 END\")\n",
    ")\n",
    "\n",
    "# Calculate accuracy by class\n",
    "accuracy_by_class = predictions.groupBy('Severity_Binary').agg(\n",
    "    (F.sum('is_correct') / F.count('Severity_Binary')).alias('accuracy')\n",
    ")\n",
    "\n",
    "# Show per-class accuracy\n",
    "accuracy_by_class.show()"
   ]
  },
  {
   "cell_type": "code",
   "execution_count": 16,
   "id": "e3e81050-0bf6-4e42-b0c8-f7ebe09b0971",
   "metadata": {},
   "outputs": [
    {
     "name": "stderr",
     "output_type": "stream",
     "text": [
      "[Stage 111:========================================>              (17 + 6) / 23]\r"
     ]
    },
    {
     "name": "stdout",
     "output_type": "stream",
     "text": [
      "Class 0 - Precision: 0.8782, Recall: 0.7166, F1 Score: 0.7892\n",
      "Class 1 - Precision: 0.3126, Recall: 0.5647, F1 Score: 0.4024\n"
     ]
    },
    {
     "name": "stderr",
     "output_type": "stream",
     "text": [
      "                                                                                \r"
     ]
    }
   ],
   "source": [
    "# Calculate metrics by class\n",
    "labels = [row['Severity_Binary'] for row in lrPred.select('Severity_Binary').distinct().orderBy('Severity_Binary').collect()]\n",
    "\n",
    "metrics = {}\n",
    "for label in labels:\n",
    "    # Filter predictions for the current label\n",
    "    true_positive = lrPred.filter((F.col('Severity_Binary') == label) & (F.col('prediction') == label)).count()\n",
    "    false_positive = lrPred.filter((F.col('Severity_Binary') != label) & (F.col('prediction') == label)).count()\n",
    "    false_negative = lrPred.filter((F.col('Severity_Binary') == label) & (F.col('prediction') != label)).count()\n",
    "    true_negative = lrPred.filter((F.col('Severity_Binary') != label) & (F.col('prediction') != label)).count()\n",
    "\n",
    "    # Precision, Recall, and F1 Score\n",
    "    precision = true_positive / (true_positive + false_positive) if (true_positive + false_positive) > 0 else 0.0\n",
    "    recall = true_positive / (true_positive + false_negative) if (true_positive + false_negative) > 0 else 0.0\n",
    "    f1_score = 2 * precision * recall / (precision + recall) if (precision + recall) > 0 else 0.0\n",
    "\n",
    "    # Store metrics\n",
    "    metrics[label] = {'precision': precision, 'recall': recall, 'f1_score': f1_score}\n",
    "\n",
    "# Print metrics for each class\n",
    "for label, metric in metrics.items():\n",
    "    print(f\"Class {label} - Precision: {metric['precision']:.4f}, Recall: {metric['recall']:.4f}, F1 Score: {metric['f1_score']:.4f}\")"
   ]
  }
 ],
 "metadata": {
  "kernelspec": {
   "display_name": "DS7200 Spark 3.3",
   "language": "python",
   "name": "ds5110_spark3.3"
  },
  "language_info": {
   "codemirror_mode": {
    "name": "ipython",
    "version": 3
   },
   "file_extension": ".py",
   "mimetype": "text/x-python",
   "name": "python",
   "nbconvert_exporter": "python",
   "pygments_lexer": "ipython3",
   "version": "3.7.12"
  }
 },
 "nbformat": 4,
 "nbformat_minor": 5
}
