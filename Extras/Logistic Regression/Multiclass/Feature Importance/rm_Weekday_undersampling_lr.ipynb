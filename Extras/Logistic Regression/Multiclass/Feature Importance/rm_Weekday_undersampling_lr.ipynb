{
 "cells": [
  {
   "cell_type": "code",
   "execution_count": 1,
   "id": "1bf6ccc1-6317-482a-ac30-72c6eab49a0b",
   "metadata": {},
   "outputs": [],
   "source": [
    "# Import Libraries\n",
    "import pandas as pd\n",
    "import numpy as np\n",
    "import os\n",
    "import pyspark\n",
    "from pyspark.sql import SparkSession\n",
    "from pyspark.sql.types import *\n",
    "from pyspark.sql.functions import *\n",
    "from pyspark.ml.feature import StringIndexer, OneHotEncoder, VectorAssembler\n",
    "from pyspark.ml.stat import Correlation\n",
    "#import seaborn as sns\n",
    "import matplotlib.pyplot as plt\n",
    "import pyspark.sql.functions as F\n",
    "#import holidays\n",
    "from datetime import datetime, timezone\n",
    "from pyspark.ml.classification import RandomForestClassifier, BinaryLogisticRegressionSummary\n",
    "from pyspark.ml import Pipeline\n",
    "from pyspark.mllib.evaluation import MulticlassMetrics, BinaryClassificationMetrics\n",
    "from pyspark.ml.pipeline import PipelineModel"
   ]
  },
  {
   "cell_type": "code",
   "execution_count": 2,
   "id": "d0709727-12cd-4322-b2e8-5ceca8b3b502",
   "metadata": {},
   "outputs": [
    {
     "name": "stderr",
     "output_type": "stream",
     "text": [
      "/opt/conda/lib/python3.7/site-packages/pyspark/bin/load-spark-env.sh: line 68: ps: command not found\n",
      "Setting default log level to \"WARN\".\n",
      "To adjust logging level use sc.setLogLevel(newLevel). For SparkR, use setLogLevel(newLevel).\n"
     ]
    },
    {
     "name": "stdout",
     "output_type": "stream",
     "text": [
      "24/11/26 13:45:20 WARN NativeCodeLoader: Unable to load native-hadoop library for your platform... using builtin-java classes where applicable\n",
      "24/11/26 13:45:21 WARN Utils: Service 'SparkUI' could not bind on port 4040. Attempting port 4041.\n",
      "24/11/26 13:45:21 WARN Utils: Service 'SparkUI' could not bind on port 4041. Attempting port 4042.\n",
      "24/11/26 13:45:21 WARN Utils: Service 'SparkUI' could not bind on port 4042. Attempting port 4043.\n",
      "24/11/26 13:45:21 WARN Utils: Service 'SparkUI' could not bind on port 4043. Attempting port 4044.\n",
      "24/11/26 13:45:21 WARN Utils: Service 'SparkUI' could not bind on port 4044. Attempting port 4045.\n"
     ]
    }
   ],
   "source": [
    "# Instantiate Spark Session\n",
    "spark = (SparkSession\n",
    "  .builder\n",
    "  .appName(\"US_Accidents\")\n",
    "  .getOrCreate())\n",
    "spark.sparkContext.setLogLevel(\"ERROR\") #supress warnings"
   ]
  },
  {
   "cell_type": "code",
   "execution_count": 3,
   "id": "c5a537b4-0516-49a4-a9d3-9957ecf6972b",
   "metadata": {},
   "outputs": [],
   "source": [
    "# Read in Data\n",
    "df = spark.read.parquet(\"updated_dataset.parquet\")"
   ]
  },
  {
   "cell_type": "code",
   "execution_count": 4,
   "id": "c6be913b-8a20-494f-af35-4cc44879acb7",
   "metadata": {},
   "outputs": [
    {
     "name": "stderr",
     "output_type": "stream",
     "text": [
      "                                                                                \r"
     ]
    }
   ],
   "source": [
    "# Use StringIndexer for encoding the 'Severity' column\n",
    "indexer = StringIndexer(inputCol=\"Severity\", outputCol=\"SeverityIndex\")\n",
    "df = indexer.fit(df).transform(df)"
   ]
  },
  {
   "cell_type": "code",
   "execution_count": 5,
   "id": "bb96fd0f-7581-467f-a0c3-948425bd9ed5",
   "metadata": {},
   "outputs": [],
   "source": [
    "# Create list of features\n",
    "feature_list = []\n",
    "for col in df.columns:\n",
    "    if col == 'Severity':\n",
    "        continue\n",
    "    elif col == 'SeverityIndex':\n",
    "        continue\n",
    "    elif col == 'Weekday':\n",
    "        continue\n",
    "    elif col == 'Severity_Binary':\n",
    "        continue\n",
    "    else:\n",
    "        feature_list.append(col)"
   ]
  },
  {
   "cell_type": "code",
   "execution_count": 6,
   "id": "8117f0e8-de44-4430-aa72-8899adcaeae8",
   "metadata": {},
   "outputs": [],
   "source": [
    "# Split the data into train and test\n",
    "splits = df.randomSplit([0.8, 0.2], 314)\n",
    "train = splits[0]\n",
    "test = splits[1]"
   ]
  },
  {
   "cell_type": "code",
   "execution_count": 7,
   "id": "827fa4c6-689b-4ea8-9b72-5fdbf8d7ecb4",
   "metadata": {},
   "outputs": [
    {
     "name": "stderr",
     "output_type": "stream",
     "text": [
      "                                                                                \r"
     ]
    },
    {
     "name": "stdout",
     "output_type": "stream",
     "text": [
      "+--------+-----------+--------+--------+----------+----------+-------------+-------+---------+----+----+-------------+--------------------------+--------------------+---------+-------------------+------------+-----------+--------------------+--------------------+-----------+-----------------+---------------+-------------+\n",
      "|Severity|Temperature|Humidity|Pressure|Visibility|Wind_Speed|Precipitation|Weekday|Rush_Hour|Rain|Snow|    SeasonVec|Astronomical_TwilightIndex|Interstate_Indicator|Sex_ratio|Percent_Age_65_over|MedianIncome|Urban_Ratio|Traffic_Interference|Traffic_Intersection|Destination|Percent_Age_15-24|Severity_Binary|SeverityIndex|\n",
      "+--------+-----------+--------+--------+----------+----------+-------------+-------+---------+----+----+-------------+--------------------------+--------------------+---------+-------------------+------------+-----------+--------------------+--------------------+-----------+-----------------+---------------+-------------+\n",
      "|       2|          0|      88|      30|        10|         0|            0|      1|        1|   0|   0|(3,[0],[1.0])|                         0|                   0|    114.9|               16.3|     96514.0|     0.9964|                   0|                   0|          0|             12.3|              0|          0.0|\n",
      "|       2|          2|      76|      24|        10|         0|            0|      1|        1|   0|   0|(3,[0],[1.0])|                         0|                   0|     98.5|               21.6|     55813.0|        0.0|                   0|                   0|          0|              9.5|              0|          0.0|\n",
      "|       2|          5|      63|      30|        10|        12|            0|      1|        1|   0|   0|(3,[0],[1.0])|                         0|                   0|     97.5|               14.4|     94934.0|     0.9912|                   0|                   1|          0|             12.5|              0|          0.0|\n",
      "|       2|          9|      77|      30|        10|         8|            0|      1|        1|   0|   0|(3,[0],[1.0])|                         0|                   1|     89.5|                8.6|     23574.0|        1.0|                   0|                   0|          0|             15.1|              0|          0.0|\n",
      "|       2|          9|      85|      30|        10|         0|            0|      1|        1|   1|   0|(3,[0],[1.0])|                         0|                   0|     87.2|               15.9|     83136.0|      0.307|                   0|                   0|          0|             14.6|              0|          0.0|\n",
      "|       2|         10|      64|      30|        10|         5|            0|      1|        1|   0|   0|(3,[0],[1.0])|                         0|                   0|    109.9|               15.2|    109245.0|        0.0|                   0|                   0|          0|             14.5|              0|          0.0|\n",
      "|       2|         10|      73|      29|         3|         0|            0|      1|        1|   0|   0|(3,[0],[1.0])|                         0|                   0|     96.7|               11.0|     53034.0|        1.0|                   0|                   0|          0|        13.799999|              0|          0.0|\n",
      "|       2|         11|      63|      29|        10|        18|            0|      1|        1|   0|   0|(3,[0],[1.0])|                         0|                   1|     96.5|               13.0|     63184.0|        1.0|                   0|                   0|          0|             13.8|              0|          0.0|\n",
      "|       2|         11|      88|      27|         6|         5|            0|      1|        1|   0|   1|(3,[0],[1.0])|                         0|                   1|     95.7|               15.3|     64455.0|     0.6487|                   0|                   0|          0|              9.6|              0|          0.0|\n",
      "|       2|         14|      88|      30|         1|        12|            0|      1|        0|   0|   1|(3,[0],[1.0])|                         1|                   0|     93.4|               21.7|     88255.0|     0.9429|                   0|                   0|          0|              8.9|              0|          0.0|\n",
      "|       2|         16|      62|      30|        10|        13|            0|      1|        1|   0|   0|(3,[0],[1.0])|                         0|                   0|    100.5|               15.6|     81953.0|     0.9663|                   0|                   1|          0|             22.9|              0|          0.0|\n",
      "|       2|         16|      77|      29|         1|        24|            0|      1|        1|   0|   1|(3,[0],[1.0])|                         0|                   0|     99.0|               14.9|    106861.0|        1.0|                   0|                   0|          0|             18.3|              0|          0.0|\n",
      "|       2|         16|      96|      29|         5|        12|            0|      1|        1|   0|   0|(3,[0],[1.0])|                         0|                   1|     96.0|               14.4|     54407.0|     0.9733|                   0|                   0|          0|             16.1|              0|          0.0|\n",
      "|       2|         18|      62|      29|        10|        13|            0|      1|        1|   0|   0|(3,[0],[1.0])|                         0|                   0|     84.5|               10.3|     31330.0|        1.0|                   0|                   0|          1|             17.9|              0|          0.0|\n",
      "|       2|         18|      62|      29|        10|        13|            0|      1|        1|   0|   0|(3,[0],[1.0])|                         0|                   0|     93.4|               17.4|     72347.0|     0.9319|                   0|                   1|          1|             11.4|              0|          0.0|\n",
      "|       2|         18|      79|      29|        10|         9|            0|      1|        1|   0|   0|(3,[0],[1.0])|                         0|                   1|     93.7|               16.2|     68762.0|     0.9606|                   0|                   0|          0|             13.7|              0|          0.0|\n",
      "|       2|         18|      84|      30|        10|         6|            0|      1|        1|   0|   0|(3,[0],[1.0])|                         0|                   0|     99.7|               19.1|     57679.0|        0.0|                   0|                   0|          0|        13.700001|              0|          0.0|\n",
      "|       2|         18|      86|      29|         5|        12|            0|      1|        1|   0|   1|(3,[0],[1.0])|                         0|                   0|     97.0|               13.0|    120214.0|     0.6274|                   0|                   1|          0|             11.7|              0|          0.0|\n",
      "|       2|         18|      86|      29|        10|         0|            0|      1|        1|   0|   0|(3,[0],[1.0])|                         0|                   0|     97.0|               20.8|     65906.0|     0.7777|                   0|                   0|          0|             14.0|              0|          0.0|\n",
      "|       2|         19|      88|      30|         3|         0|            0|      1|        0|   0|   0|(3,[0],[1.0])|                         1|                   0|     92.7|               12.9|     53626.0|        1.0|                   0|                   1|          0|             11.2|              0|          0.0|\n",
      "+--------+-----------+--------+--------+----------+----------+-------------+-------+---------+----+----+-------------+--------------------------+--------------------+---------+-------------------+------------+-----------+--------------------+--------------------+-----------+-----------------+---------------+-------------+\n",
      "only showing top 20 rows\n",
      "\n"
     ]
    },
    {
     "name": "stderr",
     "output_type": "stream",
     "text": [
      "[Stage 14:======================================================> (89 + 3) / 92]\r"
     ]
    },
    {
     "name": "stdout",
     "output_type": "stream",
     "text": [
      "+-------------+-----+\n",
      "|SeverityIndex|count|\n",
      "+-------------+-----+\n",
      "|          0.0|51822|\n",
      "|          1.0|52338|\n",
      "|          3.0|52151|\n",
      "|          2.0|52398|\n",
      "+-------------+-----+\n",
      "\n"
     ]
    },
    {
     "name": "stderr",
     "output_type": "stream",
     "text": [
      "                                                                                \r"
     ]
    }
   ],
   "source": [
    "# Undersampling\n",
    "from pyspark.sql import functions as F\n",
    "\n",
    "# Step 1: Group by 'Severity' and count occurrences\n",
    "class_counts = train.groupBy(\"SeverityIndex\").count()\n",
    "\n",
    "# Step 2: Use PySpark's min() function to find the minimum count\n",
    "min_class_size = class_counts.agg(F.min('count')).collect()[0][0]\n",
    "\n",
    "undersampled_train_list = []\n",
    "\n",
    "for row in class_counts.collect():\n",
    "    class_label = row['SeverityIndex']\n",
    "    class_size = row['count']\n",
    "\n",
    "    if class_size > min_class_size:\n",
    "        # Sample the data for this class to the size of the minimum class\n",
    "        class_data = train.filter(F.col(\"SeverityIndex\") == class_label)\n",
    "        class_data_undersampled = class_data.sample(withReplacement=False, fraction=min_class_size / class_size)\n",
    "    else:\n",
    "        # For classes that are already at the minimum size, keep all samples\n",
    "        class_data_undersampled = train.filter(F.col(\"SeverityIndex\") == class_label)\n",
    "\n",
    "    undersampled_train_list.append(class_data_undersampled)\n",
    "\n",
    "# Combine all the undersampled DataFrames\n",
    "undersampled_train = undersampled_train_list[0]  # start with the first one\n",
    "for df in undersampled_train_list[1:]:\n",
    "    undersampled_train = undersampled_train.union(df)\n",
    "\n",
    "# Show the result\n",
    "undersampled_train.show()\n",
    "\n",
    "# Step 4: Group by 'Severity' and count the occurrences in the undersampled DataFrame\n",
    "undersampled_class_counts = undersampled_train.groupBy(\"SeverityIndex\").count()\n",
    "\n",
    "# Show the result\n",
    "undersampled_class_counts.show()"
   ]
  },
  {
   "cell_type": "code",
   "execution_count": 8,
   "id": "2d79048b-55fa-4cac-9ce6-00d115340220",
   "metadata": {},
   "outputs": [],
   "source": [
    "# Assemble data for logistic regression model\n",
    "assembler = VectorAssembler(inputCols=feature_list,\n",
    "                            outputCol=\"features\")\n",
    "\n",
    "undersampled_train = assembler.transform(undersampled_train)\n",
    "test = assembler.transform(test)"
   ]
  },
  {
   "cell_type": "code",
   "execution_count": 9,
   "id": "2b5e00b4-277f-4dff-b480-5bcb8acdc8bc",
   "metadata": {},
   "outputs": [
    {
     "name": "stderr",
     "output_type": "stream",
     "text": [
      "                                                                                \r"
     ]
    }
   ],
   "source": [
    "# Standardize the predictors\n",
    "from pyspark.ml.feature import StandardScaler\n",
    "scaler = StandardScaler(inputCol=\"features\", outputCol=\"scaledFeatures\")\n",
    "scalerModel = scaler.fit(undersampled_train)\n",
    "scaledTrainData = scalerModel.transform(undersampled_train)\n",
    "scaledTestData = scalerModel.transform(test)"
   ]
  },
  {
   "cell_type": "code",
   "execution_count": 10,
   "id": "54cb60dc-688a-45e9-b2fe-bf00d4ec87f0",
   "metadata": {},
   "outputs": [
    {
     "name": "stderr",
     "output_type": "stream",
     "text": [
      "                                                                                \r"
     ]
    },
    {
     "name": "stdout",
     "output_type": "stream",
     "text": [
      "Detected number of classes: 4\n",
      "Coefficients: DenseMatrix([[-2.90282131e-02, -8.23728563e-02,  2.53741729e-02,\n",
      "              -3.93467552e-02, -2.08364831e-02,  2.47266779e-03,\n",
      "              -4.40961879e-02, -1.12709400e-02,  3.95272581e-02,\n",
      "               5.22463113e-01,  3.29701222e-01,  1.04536280e-02,\n",
      "              -3.09836435e-04, -9.55421149e-02,  2.26911628e-02,\n",
      "               3.12450979e-02,  1.63614820e-02,  3.91217978e-02,\n",
      "              -2.97140672e-03, -2.92057128e-02,  6.81354224e-02,\n",
      "               9.47258392e-03],\n",
      "             [-1.46274985e-01, -8.24413959e-02,  2.38390176e-01,\n",
      "               2.75980688e-03,  1.31697760e-01,  1.18710870e-02,\n",
      "              -1.50867986e-02,  4.15645749e-02,  3.44251847e-02,\n",
      "               2.26620889e-01,  1.54645194e-01, -1.06141904e-01,\n",
      "              -1.14647148e-01,  4.67628074e-01,  4.76402833e-02,\n",
      "              -1.29415640e-01, -9.30930700e-04,  2.81981840e-01,\n",
      "              -4.71709778e-03, -2.66037569e-01, -1.02930547e-01,\n",
      "              -3.26543095e-02],\n",
      "             [-2.41194621e-01, -4.99659480e-02,  9.82080388e-03,\n",
      "               2.50521114e-02,  7.07504937e-02, -1.52656584e-02,\n",
      "              -1.87185327e-01,  1.73769560e-02,  2.78703140e-02,\n",
      "               2.20551387e-01,  1.42790993e-01, -7.07981785e-02,\n",
      "               1.74593110e-01, -6.26487974e-03,  1.38933194e-02,\n",
      "               9.17534099e-02, -2.30984084e-02, -4.28047876e-01,\n",
      "              -9.60251808e-04, -1.96423764e-02, -1.47488035e-02,\n",
      "               9.13447359e-03],\n",
      "             [ 4.16497819e-01,  2.14780200e-01, -2.73585153e-01,\n",
      "               1.15348370e-02, -1.81611770e-01,  9.21903603e-04,\n",
      "               2.46368313e-01, -4.76705909e-02, -1.01822757e-01,\n",
      "              -9.69635389e-01, -6.27137409e-01,  1.66486454e-01,\n",
      "              -5.96361254e-02, -3.65821079e-01, -8.42247655e-02,\n",
      "               6.41713232e-03,  7.66785711e-03,  1.06944239e-01,\n",
      "               8.64875630e-03,  3.14885658e-01,  4.95439284e-02,\n",
      "               1.40472520e-02]])\n",
      "Intercept: [-0.5101513704945566,-6.206019773321071,1.5797878120788245,5.136383331736802]\n"
     ]
    }
   ],
   "source": [
    "# Fit logistic regression model with intercept\n",
    "from pyspark.ml.classification import LogisticRegression\n",
    "\n",
    "# instantiate the model\n",
    "lr = LogisticRegression(labelCol='SeverityIndex',\n",
    "                        featuresCol='scaledFeatures',\n",
    "                        #maxIter=10, \n",
    "                        #regParam=0.3, \n",
    "                        #elasticNetParam=0.8,\n",
    "                        family=\"multinomial\")\n",
    "\n",
    "# Fit the model\n",
    "lrModel = lr.fit(scaledTrainData)\n",
    "print(f\"Detected number of classes: {lrModel.numClasses}\")\n",
    "\n",
    "# Print the coefficients and intercept for logistic regression\n",
    "print(\"Coefficients: \" + str(lrModel.coefficientMatrix))\n",
    "print(\"Intercept: \" + str(lrModel.interceptVector))"
   ]
  },
  {
   "cell_type": "code",
   "execution_count": 11,
   "id": "c9646a1f-7a43-4a74-8e3d-e64dd3a11062",
   "metadata": {},
   "outputs": [
    {
     "name": "stderr",
     "output_type": "stream",
     "text": [
      "                                                                                \r"
     ]
    },
    {
     "name": "stdout",
     "output_type": "stream",
     "text": [
      "+----------+\n",
      "|prediction|\n",
      "+----------+\n",
      "|       0.0|\n",
      "|       1.0|\n",
      "|       3.0|\n",
      "|       2.0|\n",
      "+----------+\n",
      "\n"
     ]
    },
    {
     "name": "stderr",
     "output_type": "stream",
     "text": [
      "[Stage 87:================================================>       (20 + 3) / 23]\r"
     ]
    },
    {
     "name": "stdout",
     "output_type": "stream",
     "text": [
      "Accuracy: 0.38462840769731993\n"
     ]
    },
    {
     "name": "stderr",
     "output_type": "stream",
     "text": [
      "                                                                                \r"
     ]
    }
   ],
   "source": [
    "from pyspark.ml.evaluation import MulticlassClassificationEvaluator\n",
    "\n",
    "# compute predictions. this will append column \"prediction\" to dataframe\n",
    "lrPred = lrModel.transform(scaledTestData)\n",
    "lrPred.select(\"prediction\").distinct().show()\n",
    "\n",
    "evaluator = MulticlassClassificationEvaluator(labelCol='SeverityIndex', predictionCol='prediction', metricName='accuracy')\n",
    "accuracy = evaluator.evaluate(lrPred, {evaluator.metricName: \"accuracy\"})\n",
    "print(f'Accuracy: {accuracy}')"
   ]
  },
  {
   "cell_type": "code",
   "execution_count": 12,
   "id": "e3e81050-0bf6-4e42-b0c8-f7ebe09b0971",
   "metadata": {},
   "outputs": [
    {
     "name": "stderr",
     "output_type": "stream",
     "text": [
      "[Stage 93:================================================>       (20 + 3) / 23]\r"
     ]
    },
    {
     "name": "stdout",
     "output_type": "stream",
     "text": [
      "Precision: 0.7684556852189559\n",
      "Recall: 0.38462840769731993\n",
      "F1 Score: 0.47505484977816376\n"
     ]
    },
    {
     "name": "stderr",
     "output_type": "stream",
     "text": [
      "                                                                                \r"
     ]
    }
   ],
   "source": [
    "precision = evaluator.evaluate(lrPred, {evaluator.metricName: 'weightedPrecision'})\n",
    "recall = evaluator.evaluate(lrPred, {evaluator.metricName: 'weightedRecall'})\n",
    "f1_score = evaluator.evaluate(lrPred, {evaluator.metricName: 'f1'})\n",
    "\n",
    "print(f'Precision: {precision}')\n",
    "print(f'Recall: {recall}')\n",
    "print(f'F1 Score: {f1_score}')"
   ]
  },
  {
   "cell_type": "code",
   "execution_count": 13,
   "id": "05e473cd-b658-4a72-ba3a-f5d2752719eb",
   "metadata": {},
   "outputs": [
    {
     "name": "stderr",
     "output_type": "stream",
     "text": [
      "[Stage 95:================================================>       (20 + 3) / 23]\r"
     ]
    },
    {
     "name": "stdout",
     "output_type": "stream",
     "text": [
      "+-------------+-------------------+\n",
      "|SeverityIndex|           accuracy|\n",
      "+-------------+-------------------+\n",
      "|          0.0|0.35592844385805067|\n",
      "|          1.0| 0.5008119331996379|\n",
      "|          3.0|  0.770302517127242|\n",
      "|          2.0| 0.4203562056836581|\n",
      "+-------------+-------------------+\n",
      "\n"
     ]
    },
    {
     "name": "stderr",
     "output_type": "stream",
     "text": [
      "                                                                                \r"
     ]
    }
   ],
   "source": [
    "# Add a column to indicate correct or incorrect predictions\n",
    "predictions = lrPred.withColumn(\n",
    "    'is_correct', F.expr(\"CASE WHEN SeverityIndex = prediction THEN 1 ELSE 0 END\")\n",
    ")\n",
    "\n",
    "# Calculate accuracy by class\n",
    "accuracy_by_class = predictions.groupBy('SeverityIndex').agg(\n",
    "    (F.sum('is_correct') / F.count('SeverityIndex')).alias('accuracy')\n",
    ")\n",
    "\n",
    "# Show per-class accuracy\n",
    "accuracy_by_class.show()"
   ]
  },
  {
   "cell_type": "code",
   "execution_count": 14,
   "id": "3fce0c2c-f792-47cd-9e69-bdbbe886c5a5",
   "metadata": {},
   "outputs": [
    {
     "name": "stderr",
     "output_type": "stream",
     "text": [
      "[Stage 151:====================================================>  (22 + 1) / 23]\r"
     ]
    },
    {
     "name": "stdout",
     "output_type": "stream",
     "text": [
      "Class 0.0 - Precision: 0.8886, Recall: 0.3559, F1 Score: 0.5083\n",
      "Class 1.0 - Precision: 0.3203, Recall: 0.5008, F1 Score: 0.3907\n",
      "Class 2.0 - Precision: 0.0629, Recall: 0.4204, F1 Score: 0.1094\n",
      "Class 3.0 - Precision: 0.0277, Recall: 0.7703, F1 Score: 0.0535\n"
     ]
    },
    {
     "name": "stderr",
     "output_type": "stream",
     "text": [
      "                                                                                \r"
     ]
    }
   ],
   "source": [
    "# Calculate metrics by class\n",
    "labels = lrPred.select('SeverityIndex').distinct().orderBy('SeverityIndex').rdd.flatMap(lambda x: x).collect()\n",
    "\n",
    "metrics = {}\n",
    "for label in labels:\n",
    "    # Filter predictions for the current label\n",
    "    true_positive = lrPred.filter((F.col('SeverityIndex') == label) & (F.col('prediction') == label)).count()\n",
    "    false_positive = lrPred.filter((F.col('SeverityIndex') != label) & (F.col('prediction') == label)).count()\n",
    "    false_negative = lrPred.filter((F.col('SeverityIndex') == label) & (F.col('prediction') != label)).count()\n",
    "    true_negative = lrPred.filter((F.col('SeverityIndex') != label) & (F.col('prediction') != label)).count()\n",
    "\n",
    "    # Precision, Recall, and F1 Score\n",
    "    precision = true_positive / (true_positive + false_positive) if (true_positive + false_positive) > 0 else 0.0\n",
    "    recall = true_positive / (true_positive + false_negative) if (true_positive + false_negative) > 0 else 0.0\n",
    "    f1_score = 2 * precision * recall / (precision + recall) if (precision + recall) > 0 else 0.0\n",
    "\n",
    "    # Store metrics\n",
    "    metrics[label] = {'precision': precision, 'recall': recall, 'f1_score': f1_score}\n",
    "\n",
    "# Print metrics for each class\n",
    "for label, metric in metrics.items():\n",
    "    print(f\"Class {label} - Precision: {metric['precision']:.4f}, Recall: {metric['recall']:.4f}, F1 Score: {metric['f1_score']:.4f}\")"
   ]
  }
 ],
 "metadata": {
  "kernelspec": {
   "display_name": "DS7200 Spark 3.3",
   "language": "python",
   "name": "ds5110_spark3.3"
  },
  "language_info": {
   "codemirror_mode": {
    "name": "ipython",
    "version": 3
   },
   "file_extension": ".py",
   "mimetype": "text/x-python",
   "name": "python",
   "nbconvert_exporter": "python",
   "pygments_lexer": "ipython3",
   "version": "3.7.12"
  }
 },
 "nbformat": 4,
 "nbformat_minor": 5
}
