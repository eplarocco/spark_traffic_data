{
 "cells": [
  {
   "cell_type": "code",
   "execution_count": 1,
   "id": "1bf6ccc1-6317-482a-ac30-72c6eab49a0b",
   "metadata": {},
   "outputs": [],
   "source": [
    "# Import Libraries\n",
    "import pandas as pd\n",
    "import numpy as np\n",
    "import os\n",
    "import pyspark\n",
    "from pyspark.sql import SparkSession\n",
    "from pyspark.sql.types import *\n",
    "from pyspark.sql.functions import *\n",
    "from pyspark.ml.feature import StringIndexer, OneHotEncoder, VectorAssembler\n",
    "from pyspark.ml.stat import Correlation\n",
    "#import seaborn as sns\n",
    "import matplotlib.pyplot as plt\n",
    "import pyspark.sql.functions as F\n",
    "#import holidays\n",
    "from datetime import datetime, timezone\n",
    "from pyspark.ml.classification import RandomForestClassifier, BinaryLogisticRegressionSummary\n",
    "from pyspark.ml import Pipeline\n",
    "from pyspark.mllib.evaluation import MulticlassMetrics, BinaryClassificationMetrics\n",
    "from pyspark.ml.pipeline import PipelineModel"
   ]
  },
  {
   "cell_type": "code",
   "execution_count": 2,
   "id": "d0709727-12cd-4322-b2e8-5ceca8b3b502",
   "metadata": {},
   "outputs": [
    {
     "name": "stderr",
     "output_type": "stream",
     "text": [
      "/opt/conda/lib/python3.7/site-packages/pyspark/bin/load-spark-env.sh: line 68: ps: command not found\n",
      "Setting default log level to \"WARN\".\n",
      "To adjust logging level use sc.setLogLevel(newLevel). For SparkR, use setLogLevel(newLevel).\n"
     ]
    },
    {
     "name": "stdout",
     "output_type": "stream",
     "text": [
      "24/11/25 16:46:29 WARN NativeCodeLoader: Unable to load native-hadoop library for your platform... using builtin-java classes where applicable\n",
      "24/11/25 16:46:30 WARN Utils: Service 'SparkUI' could not bind on port 4040. Attempting port 4041.\n",
      "24/11/25 16:46:30 WARN Utils: Service 'SparkUI' could not bind on port 4041. Attempting port 4042.\n",
      "24/11/25 16:46:30 WARN Utils: Service 'SparkUI' could not bind on port 4042. Attempting port 4043.\n"
     ]
    }
   ],
   "source": [
    "# Instantiate Spark Session\n",
    "spark = (SparkSession\n",
    "  .builder\n",
    "  .appName(\"US_Accidents\")\n",
    "  .getOrCreate())\n",
    "spark.sparkContext.setLogLevel(\"ERROR\") #supress warnings"
   ]
  },
  {
   "cell_type": "code",
   "execution_count": 3,
   "id": "c5a537b4-0516-49a4-a9d3-9957ecf6972b",
   "metadata": {},
   "outputs": [
    {
     "name": "stderr",
     "output_type": "stream",
     "text": [
      "                                                                                \r"
     ]
    }
   ],
   "source": [
    "# Read in Data\n",
    "df = spark.read.parquet(\"updated_dataset.parquet\")"
   ]
  },
  {
   "cell_type": "code",
   "execution_count": 4,
   "id": "c6be913b-8a20-494f-af35-4cc44879acb7",
   "metadata": {},
   "outputs": [
    {
     "name": "stderr",
     "output_type": "stream",
     "text": [
      "                                                                                \r"
     ]
    }
   ],
   "source": [
    "# Use StringIndexer for encoding the 'Severity' column\n",
    "indexer = StringIndexer(inputCol=\"Severity\", outputCol=\"SeverityIndex\")\n",
    "df = indexer.fit(df).transform(df)"
   ]
  },
  {
   "cell_type": "code",
   "execution_count": 5,
   "id": "bb96fd0f-7581-467f-a0c3-948425bd9ed5",
   "metadata": {},
   "outputs": [],
   "source": [
    "# Create list of features\n",
    "feature_list = []\n",
    "for col in df.columns:\n",
    "    if col == 'Severity':\n",
    "        continue\n",
    "    elif col == 'SeverityIndex':\n",
    "        continue\n",
    "    elif col == 'Rain':\n",
    "        continue\n",
    "    elif col == 'Severity_Binary':\n",
    "        continue\n",
    "    else:\n",
    "        feature_list.append(col)"
   ]
  },
  {
   "cell_type": "code",
   "execution_count": 6,
   "id": "8117f0e8-de44-4430-aa72-8899adcaeae8",
   "metadata": {},
   "outputs": [],
   "source": [
    "# Split the data into train and test\n",
    "splits = df.randomSplit([0.8, 0.2], 314)\n",
    "train = splits[0]\n",
    "test = splits[1]"
   ]
  },
  {
   "cell_type": "code",
   "execution_count": 7,
   "id": "827fa4c6-689b-4ea8-9b72-5fdbf8d7ecb4",
   "metadata": {},
   "outputs": [
    {
     "name": "stderr",
     "output_type": "stream",
     "text": [
      "                                                                                \r"
     ]
    },
    {
     "name": "stdout",
     "output_type": "stream",
     "text": [
      "+--------+-----------+--------+--------+----------+----------+-------------+-------+---------+----+----+-------------+--------------------------+--------------------+---------+-------------------+------------+-----------+--------------------+--------------------+-----------+-----------------+---------------+-------------+\n",
      "|Severity|Temperature|Humidity|Pressure|Visibility|Wind_Speed|Precipitation|Weekday|Rush_Hour|Rain|Snow|    SeasonVec|Astronomical_TwilightIndex|Interstate_Indicator|Sex_ratio|Percent_Age_65_over|MedianIncome|Urban_Ratio|Traffic_Interference|Traffic_Intersection|Destination|Percent_Age_15-24|Severity_Binary|SeverityIndex|\n",
      "+--------+-----------+--------+--------+----------+----------+-------------+-------+---------+----+----+-------------+--------------------------+--------------------+---------+-------------------+------------+-----------+--------------------+--------------------+-----------+-----------------+---------------+-------------+\n",
      "|       2|        -14|      79|      29|        10|         9|            0|      1|        1|   0|   0|(3,[0],[1.0])|                         0|                   0|     94.0|               23.5|    138106.0|        1.0|                   0|                   0|          0|             10.2|              0|          0.0|\n",
      "|       2|          0|      69|      30|        10|         8|            0|      1|        1|   0|   0|(3,[0],[1.0])|                         0|                   0|    100.6|               24.7|     71207.0|     0.0761|                   0|                   0|          0|              9.3|              0|          0.0|\n",
      "|       2|          3|      76|      30|         6|         8|            0|      1|        1|   0|   1|(3,[0],[1.0])|                         0|                   0|     95.2|               20.8|    121947.0|     0.9301|                   0|                   1|          0|              9.8|              0|          0.0|\n",
      "|       2|          5|      61|      30|        10|         9|            0|      1|        0|   0|   0|(3,[0],[1.0])|                         0|                   0|    100.5|               15.6|     81953.0|     0.9663|                   0|                   0|          0|             22.9|              0|          0.0|\n",
      "|       2|         11|      78|      29|        10|         6|            0|      1|        0|   0|   0|(3,[0],[1.0])|                         1|                   0|    106.6|               16.9|     83766.0|     0.3601|                   0|                   0|          0|             12.1|              0|          0.0|\n",
      "|       2|         11|      84|      30|         5|         0|            0|      1|        1|   0|   0|(3,[0],[1.0])|                         0|                   0|     90.8|               14.7|     82763.0|     0.9986|                   0|                   0|          0|             11.9|              0|          0.0|\n",
      "|       2|         12|      61|      29|        10|         3|            0|      1|        1|   0|   0|(3,[0],[1.0])|                         0|                   0|     88.6|               20.7|     87545.0|        1.0|                   0|                   0|          0|             10.7|              0|          0.0|\n",
      "|       2|         13|      77|      30|         4|         0|            0|      1|        1|   0|   0|(3,[0],[1.0])|                         0|                   0|     92.5|               14.0|     47605.0|        1.0|                   0|                   1|          0|             12.5|              0|          0.0|\n",
      "|       2|         14|      74|      29|         2|         9|            0|      1|        1|   0|   1|(3,[0],[1.0])|                         0|                   0|     99.0|               14.9|    106861.0|        1.0|                   0|                   1|          0|             18.3|              0|          0.0|\n",
      "|       2|         15|      84|      30|         7|         0|            0|      1|        1|   0|   0|(3,[0],[1.0])|                         0|                   0|     89.9|               20.4|     46271.0|     0.8365|                   0|                   1|          0|             12.1|              0|          0.0|\n",
      "|       2|         16|      62|      30|        10|        18|            0|      1|        1|   0|   0|(3,[0],[1.0])|                         0|                   1|     89.5|                8.6|     23574.0|        1.0|                   0|                   0|          0|             15.1|              0|          0.0|\n",
      "|       2|         16|      81|      30|         1|         9|            0|      1|        1|   0|   1|(3,[0],[1.0])|                         0|                   0|     96.0|               25.3|     94360.0|     0.5633|                   0|                   0|          0|             12.7|              0|          0.0|\n",
      "|       2|         16|      84|      30|         1|        17|            0|      0|        1|   0|   1|(3,[0],[1.0])|                         0|                   0|     90.1|               13.9|    101473.0|        1.0|                   0|                   0|          0|             12.3|              0|          0.0|\n",
      "|       2|         16|      93|      26|         2|        13|            0|      1|        1|   0|   1|(3,[0],[1.0])|                         0|                   0|    101.0|               17.8|     69895.0|     0.9247|                   0|                   0|          0|              9.6|              0|          0.0|\n",
      "|       2|         19|      59|      29|        10|        13|            0|      1|        0|   0|   0|(3,[0],[1.0])|                         0|                   1|     95.5|               15.3|     90735.0|     0.9753|                   0|                   1|          0|              9.6|              0|          0.0|\n",
      "|       2|         19|      63|      30|        10|         0|            0|      1|        0|   0|   0|(3,[0],[1.0])|                         0|                   0|     99.5|               15.2|     62094.0|     0.8212|                   0|                   1|          0|             13.5|              0|          0.0|\n",
      "|       2|         19|      65|      24|        10|        13|            0|      1|        1|   0|   0|(3,[0],[1.0])|                         0|                   0|    147.9|               14.1|     62218.0|     0.6476|                   0|                   1|          0|             10.5|              0|          0.0|\n",
      "|       2|         20|      65|      30|         9|         8|            0|      1|        1|   0|   1|(3,[0],[1.0])|                         0|                   0|     99.1|               15.9|     69367.0|      0.986|                   0|                   0|          0|             11.2|              0|          0.0|\n",
      "|       2|         20|      71|      30|        10|         0|            0|      1|        1|   0|   0|(3,[0],[1.0])|                         0|                   0|     95.4|               21.0|     74925.0|     0.9851|                   0|                   1|          0|             11.2|              0|          0.0|\n",
      "|       2|         21|      65|      29|        10|         5|            0|      1|        1|   0|   0|(3,[0],[1.0])|                         0|                   0|     93.5|               14.5|     44909.0|        1.0|                   0|                   1|          0|             14.8|              0|          0.0|\n",
      "+--------+-----------+--------+--------+----------+----------+-------------+-------+---------+----+----+-------------+--------------------------+--------------------+---------+-------------------+------------+-----------+--------------------+--------------------+-----------+-----------------+---------------+-------------+\n",
      "only showing top 20 rows\n",
      "\n"
     ]
    },
    {
     "name": "stderr",
     "output_type": "stream",
     "text": [
      "[Stage 14:======================================================> (90 + 2) / 92]\r"
     ]
    },
    {
     "name": "stdout",
     "output_type": "stream",
     "text": [
      "+-------------+-----+\n",
      "|SeverityIndex|count|\n",
      "+-------------+-----+\n",
      "|          0.0|52238|\n",
      "|          1.0|52190|\n",
      "|          3.0|52151|\n",
      "|          2.0|52052|\n",
      "+-------------+-----+\n",
      "\n"
     ]
    },
    {
     "name": "stderr",
     "output_type": "stream",
     "text": [
      "                                                                                \r"
     ]
    }
   ],
   "source": [
    "# Undersampling\n",
    "from pyspark.sql import functions as F\n",
    "\n",
    "# Step 1: Group by 'Severity' and count occurrences\n",
    "class_counts = train.groupBy(\"SeverityIndex\").count()\n",
    "\n",
    "# Step 2: Use PySpark's min() function to find the minimum count\n",
    "min_class_size = class_counts.agg(F.min('count')).collect()[0][0]\n",
    "\n",
    "undersampled_train_list = []\n",
    "\n",
    "for row in class_counts.collect():\n",
    "    class_label = row['SeverityIndex']\n",
    "    class_size = row['count']\n",
    "\n",
    "    if class_size > min_class_size:\n",
    "        # Sample the data for this class to the size of the minimum class\n",
    "        class_data = train.filter(F.col(\"SeverityIndex\") == class_label)\n",
    "        class_data_undersampled = class_data.sample(withReplacement=False, fraction=min_class_size / class_size)\n",
    "    else:\n",
    "        # For classes that are already at the minimum size, keep all samples\n",
    "        class_data_undersampled = train.filter(F.col(\"SeverityIndex\") == class_label)\n",
    "\n",
    "    undersampled_train_list.append(class_data_undersampled)\n",
    "\n",
    "# Combine all the undersampled DataFrames\n",
    "undersampled_train = undersampled_train_list[0]  # start with the first one\n",
    "for df in undersampled_train_list[1:]:\n",
    "    undersampled_train = undersampled_train.union(df)\n",
    "\n",
    "# Show the result\n",
    "undersampled_train.show()\n",
    "\n",
    "# Step 4: Group by 'Severity' and count the occurrences in the undersampled DataFrame\n",
    "undersampled_class_counts = undersampled_train.groupBy(\"SeverityIndex\").count()\n",
    "\n",
    "# Show the result\n",
    "undersampled_class_counts.show()"
   ]
  },
  {
   "cell_type": "code",
   "execution_count": 8,
   "id": "2d79048b-55fa-4cac-9ce6-00d115340220",
   "metadata": {},
   "outputs": [],
   "source": [
    "# Assemble data for logistic regression model\n",
    "assembler = VectorAssembler(inputCols=feature_list,\n",
    "                            outputCol=\"features\")\n",
    "\n",
    "undersampled_train = assembler.transform(undersampled_train)\n",
    "test = assembler.transform(test)"
   ]
  },
  {
   "cell_type": "code",
   "execution_count": 9,
   "id": "2b5e00b4-277f-4dff-b480-5bcb8acdc8bc",
   "metadata": {},
   "outputs": [
    {
     "name": "stderr",
     "output_type": "stream",
     "text": [
      "                                                                                \r"
     ]
    }
   ],
   "source": [
    "# Standardize the predictors\n",
    "from pyspark.ml.feature import StandardScaler\n",
    "scaler = StandardScaler(inputCol=\"features\", outputCol=\"scaledFeatures\")\n",
    "scalerModel = scaler.fit(undersampled_train)\n",
    "scaledTrainData = scalerModel.transform(undersampled_train)\n",
    "scaledTestData = scalerModel.transform(test)"
   ]
  },
  {
   "cell_type": "code",
   "execution_count": 10,
   "id": "54cb60dc-688a-45e9-b2fe-bf00d4ec87f0",
   "metadata": {},
   "outputs": [
    {
     "name": "stderr",
     "output_type": "stream",
     "text": [
      "                                                                                \r"
     ]
    },
    {
     "name": "stdout",
     "output_type": "stream",
     "text": [
      "Detected number of classes: 4\n",
      "Coefficients: DenseMatrix([[-1.67149207e-02, -8.23802407e-02,  3.05603209e-02,\n",
      "              -4.83200411e-02, -1.51118948e-02,  3.99904501e-04,\n",
      "              -3.21012803e-02, -3.54277923e-02,  3.38867505e-02,\n",
      "               5.27676912e-01,  3.27206567e-01,  1.88677733e-02,\n",
      "               4.38255447e-03, -1.06192491e-01,  4.65912903e-02,\n",
      "               2.86989671e-02,  8.47251897e-03,  4.53755320e-02,\n",
      "              -8.92918669e-03, -2.96842389e-02,  5.54253518e-02,\n",
      "               3.57885908e-03],\n",
      "             [-1.43280065e-01, -6.65418343e-02,  2.38370196e-01,\n",
      "              -1.30775204e-02,  1.39184805e-01,  1.28891394e-02,\n",
      "              -5.99623484e-02, -2.01019714e-02,  2.39398736e-02,\n",
      "               2.27857296e-01,  1.54477099e-01, -1.22500956e-01,\n",
      "              -1.28356490e-01,  4.70049132e-01,  6.86109387e-02,\n",
      "              -1.24596058e-01,  2.34481663e-03,  2.92863970e-01,\n",
      "              -1.88032807e-03, -2.59205716e-01, -9.21815822e-02,\n",
      "              -2.82693705e-02],\n",
      "             [-2.47886861e-01, -3.96463252e-02,  7.97229802e-03,\n",
      "               3.59838156e-02,  6.80577029e-02, -8.30558782e-03,\n",
      "              -1.38953702e-01, -1.72925115e-01,  3.85813955e-02,\n",
      "               2.15161453e-01,  1.44787867e-01, -6.93682399e-02,\n",
      "               1.62981827e-01, -2.49299837e-04, -1.03146486e-02,\n",
      "               9.54152633e-02, -1.96009423e-02, -4.37372864e-01,\n",
      "              -1.84799565e-03, -1.93972595e-02, -1.19588575e-02,\n",
      "               1.89493551e-02],\n",
      "             [ 4.07881846e-01,  1.88568400e-01, -2.76902815e-01,\n",
      "               2.54137460e-02, -1.92130613e-01, -4.98345604e-03,\n",
      "               2.31017331e-01,  2.28454879e-01, -9.64080196e-02,\n",
      "              -9.70695661e-01, -6.26471533e-01,  1.73001422e-01,\n",
      "              -3.90078914e-02, -3.63607341e-01, -1.04887580e-01,\n",
      "               4.81827291e-04,  8.78360674e-03,  9.91333623e-02,\n",
      "               1.26575104e-02,  3.08287214e-01,  4.87150880e-02,\n",
      "               5.74115636e-03]])\n",
      "Intercept: [-0.606864597822816,-6.162477020412695,1.9526960816584709,4.81664553657704]\n"
     ]
    }
   ],
   "source": [
    "# Fit logistic regression model with intercept\n",
    "from pyspark.ml.classification import LogisticRegression\n",
    "\n",
    "# instantiate the model\n",
    "lr = LogisticRegression(labelCol='SeverityIndex',\n",
    "                        featuresCol='scaledFeatures',\n",
    "                        #maxIter=10, \n",
    "                        #regParam=0.3, \n",
    "                        #elasticNetParam=0.8,\n",
    "                        family=\"multinomial\")\n",
    "\n",
    "# Fit the model\n",
    "lrModel = lr.fit(scaledTrainData)\n",
    "print(f\"Detected number of classes: {lrModel.numClasses}\")\n",
    "\n",
    "# Print the coefficients and intercept for logistic regression\n",
    "print(\"Coefficients: \" + str(lrModel.coefficientMatrix))\n",
    "print(\"Intercept: \" + str(lrModel.interceptVector))"
   ]
  },
  {
   "cell_type": "code",
   "execution_count": 11,
   "id": "c9646a1f-7a43-4a74-8e3d-e64dd3a11062",
   "metadata": {},
   "outputs": [
    {
     "name": "stderr",
     "output_type": "stream",
     "text": [
      "                                                                                \r"
     ]
    },
    {
     "name": "stdout",
     "output_type": "stream",
     "text": [
      "+----------+\n",
      "|prediction|\n",
      "+----------+\n",
      "|       0.0|\n",
      "|       1.0|\n",
      "|       3.0|\n",
      "|       2.0|\n",
      "+----------+\n",
      "\n"
     ]
    },
    {
     "name": "stderr",
     "output_type": "stream",
     "text": [
      "[Stage 93:================================================>       (20 + 3) / 23]\r"
     ]
    },
    {
     "name": "stdout",
     "output_type": "stream",
     "text": [
      "Accuracy: 0.3889711677720965\n"
     ]
    },
    {
     "name": "stderr",
     "output_type": "stream",
     "text": [
      "                                                                                \r"
     ]
    }
   ],
   "source": [
    "from pyspark.ml.evaluation import MulticlassClassificationEvaluator\n",
    "\n",
    "# compute predictions. this will append column \"prediction\" to dataframe\n",
    "lrPred = lrModel.transform(scaledTestData)\n",
    "lrPred.select(\"prediction\").distinct().show()\n",
    "\n",
    "evaluator = MulticlassClassificationEvaluator(labelCol='SeverityIndex', predictionCol='prediction', metricName='accuracy')\n",
    "accuracy = evaluator.evaluate(lrPred, {evaluator.metricName: \"accuracy\"})\n",
    "print(f'Accuracy: {accuracy}')"
   ]
  },
  {
   "cell_type": "code",
   "execution_count": 12,
   "id": "e3e81050-0bf6-4e42-b0c8-f7ebe09b0971",
   "metadata": {},
   "outputs": [
    {
     "name": "stderr",
     "output_type": "stream",
     "text": [
      "[Stage 99:=====================================================>  (22 + 1) / 23]\r"
     ]
    },
    {
     "name": "stdout",
     "output_type": "stream",
     "text": [
      "Precision: 0.7676467797097654\n",
      "Recall: 0.3889711677720965\n",
      "F1 Score: 0.47984560850043934\n"
     ]
    },
    {
     "name": "stderr",
     "output_type": "stream",
     "text": [
      "                                                                                \r"
     ]
    }
   ],
   "source": [
    "precision = evaluator.evaluate(lrPred, {evaluator.metricName: 'weightedPrecision'})\n",
    "recall = evaluator.evaluate(lrPred, {evaluator.metricName: 'weightedRecall'})\n",
    "f1_score = evaluator.evaluate(lrPred, {evaluator.metricName: 'f1'})\n",
    "\n",
    "print(f'Precision: {precision}')\n",
    "print(f'Recall: {recall}')\n",
    "print(f'F1 Score: {f1_score}')"
   ]
  },
  {
   "cell_type": "code",
   "execution_count": 13,
   "id": "05e473cd-b658-4a72-ba3a-f5d2752719eb",
   "metadata": {},
   "outputs": [
    {
     "name": "stderr",
     "output_type": "stream",
     "text": [
      "[Stage 101:====================================================>  (22 + 1) / 23]\r"
     ]
    },
    {
     "name": "stdout",
     "output_type": "stream",
     "text": [
      "+-------------+-------------------+\n",
      "|SeverityIndex|           accuracy|\n",
      "+-------------+-------------------+\n",
      "|          0.0|0.36188909911478306|\n",
      "|          1.0|0.49681881910305786|\n",
      "|          3.0| 0.7783080594257563|\n",
      "|          2.0|0.42471107140863157|\n",
      "+-------------+-------------------+\n",
      "\n"
     ]
    },
    {
     "name": "stderr",
     "output_type": "stream",
     "text": [
      "                                                                                \r"
     ]
    }
   ],
   "source": [
    "# Add a column to indicate correct or incorrect predictions\n",
    "predictions = lrPred.withColumn(\n",
    "    'is_correct', F.expr(\"CASE WHEN SeverityIndex = prediction THEN 1 ELSE 0 END\")\n",
    ")\n",
    "\n",
    "# Calculate accuracy by class\n",
    "accuracy_by_class = predictions.groupBy('SeverityIndex').agg(\n",
    "    (F.sum('is_correct') / F.count('SeverityIndex')).alias('accuracy')\n",
    ")\n",
    "\n",
    "# Show per-class accuracy\n",
    "accuracy_by_class.show()"
   ]
  },
  {
   "cell_type": "code",
   "execution_count": 14,
   "id": "3fce0c2c-f792-47cd-9e69-bdbbe886c5a5",
   "metadata": {},
   "outputs": [
    {
     "name": "stderr",
     "output_type": "stream",
     "text": [
      "[Stage 157:===============================================>       (20 + 3) / 23]\r"
     ]
    },
    {
     "name": "stdout",
     "output_type": "stream",
     "text": [
      "Class 0.0 - Precision: 0.8870, Recall: 0.3619, F1 Score: 0.5141\n",
      "Class 1.0 - Precision: 0.3230, Recall: 0.4968, F1 Score: 0.3915\n",
      "Class 2.0 - Precision: 0.0628, Recall: 0.4247, F1 Score: 0.1094\n",
      "Class 3.0 - Precision: 0.0285, Recall: 0.7783, F1 Score: 0.0549\n"
     ]
    },
    {
     "name": "stderr",
     "output_type": "stream",
     "text": [
      "                                                                                \r"
     ]
    }
   ],
   "source": [
    "# Calculate metrics by class\n",
    "labels = lrPred.select('SeverityIndex').distinct().orderBy('SeverityIndex').rdd.flatMap(lambda x: x).collect()\n",
    "\n",
    "metrics = {}\n",
    "for label in labels:\n",
    "    # Filter predictions for the current label\n",
    "    true_positive = lrPred.filter((F.col('SeverityIndex') == label) & (F.col('prediction') == label)).count()\n",
    "    false_positive = lrPred.filter((F.col('SeverityIndex') != label) & (F.col('prediction') == label)).count()\n",
    "    false_negative = lrPred.filter((F.col('SeverityIndex') == label) & (F.col('prediction') != label)).count()\n",
    "    true_negative = lrPred.filter((F.col('SeverityIndex') != label) & (F.col('prediction') != label)).count()\n",
    "\n",
    "    # Precision, Recall, and F1 Score\n",
    "    precision = true_positive / (true_positive + false_positive) if (true_positive + false_positive) > 0 else 0.0\n",
    "    recall = true_positive / (true_positive + false_negative) if (true_positive + false_negative) > 0 else 0.0\n",
    "    f1_score = 2 * precision * recall / (precision + recall) if (precision + recall) > 0 else 0.0\n",
    "\n",
    "    # Store metrics\n",
    "    metrics[label] = {'precision': precision, 'recall': recall, 'f1_score': f1_score}\n",
    "\n",
    "# Print metrics for each class\n",
    "for label, metric in metrics.items():\n",
    "    print(f\"Class {label} - Precision: {metric['precision']:.4f}, Recall: {metric['recall']:.4f}, F1 Score: {metric['f1_score']:.4f}\")"
   ]
  }
 ],
 "metadata": {
  "kernelspec": {
   "display_name": "DS7200 Spark 3.3",
   "language": "python",
   "name": "ds5110_spark3.3"
  },
  "language_info": {
   "codemirror_mode": {
    "name": "ipython",
    "version": 3
   },
   "file_extension": ".py",
   "mimetype": "text/x-python",
   "name": "python",
   "nbconvert_exporter": "python",
   "pygments_lexer": "ipython3",
   "version": "3.7.12"
  }
 },
 "nbformat": 4,
 "nbformat_minor": 5
}
