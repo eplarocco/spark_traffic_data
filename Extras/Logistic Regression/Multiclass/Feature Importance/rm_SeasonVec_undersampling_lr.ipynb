{
 "cells": [
  {
   "cell_type": "code",
   "execution_count": 1,
   "id": "1bf6ccc1-6317-482a-ac30-72c6eab49a0b",
   "metadata": {},
   "outputs": [],
   "source": [
    "# Import Libraries\n",
    "import pandas as pd\n",
    "import numpy as np\n",
    "import os\n",
    "import pyspark\n",
    "from pyspark.sql import SparkSession\n",
    "from pyspark.sql.types import *\n",
    "from pyspark.sql.functions import *\n",
    "from pyspark.ml.feature import StringIndexer, OneHotEncoder, VectorAssembler\n",
    "from pyspark.ml.stat import Correlation\n",
    "#import seaborn as sns\n",
    "import matplotlib.pyplot as plt\n",
    "import pyspark.sql.functions as F\n",
    "#import holidays\n",
    "from datetime import datetime, timezone\n",
    "from pyspark.ml.classification import RandomForestClassifier, BinaryLogisticRegressionSummary\n",
    "from pyspark.ml import Pipeline\n",
    "from pyspark.mllib.evaluation import MulticlassMetrics, BinaryClassificationMetrics\n",
    "from pyspark.ml.pipeline import PipelineModel"
   ]
  },
  {
   "cell_type": "code",
   "execution_count": 2,
   "id": "d0709727-12cd-4322-b2e8-5ceca8b3b502",
   "metadata": {},
   "outputs": [
    {
     "name": "stderr",
     "output_type": "stream",
     "text": [
      "/opt/conda/lib/python3.7/site-packages/pyspark/bin/load-spark-env.sh: line 68: ps: command not found\n",
      "Setting default log level to \"WARN\".\n",
      "To adjust logging level use sc.setLogLevel(newLevel). For SparkR, use setLogLevel(newLevel).\n"
     ]
    },
    {
     "name": "stdout",
     "output_type": "stream",
     "text": [
      "24/11/26 14:06:27 WARN NativeCodeLoader: Unable to load native-hadoop library for your platform... using builtin-java classes where applicable\n",
      "24/11/26 14:06:28 WARN Utils: Service 'SparkUI' could not bind on port 4040. Attempting port 4041.\n",
      "24/11/26 14:06:28 WARN Utils: Service 'SparkUI' could not bind on port 4041. Attempting port 4042.\n",
      "24/11/26 14:06:28 WARN Utils: Service 'SparkUI' could not bind on port 4042. Attempting port 4043.\n",
      "24/11/26 14:06:28 WARN Utils: Service 'SparkUI' could not bind on port 4043. Attempting port 4044.\n",
      "24/11/26 14:06:28 WARN Utils: Service 'SparkUI' could not bind on port 4044. Attempting port 4045.\n",
      "24/11/26 14:06:28 WARN Utils: Service 'SparkUI' could not bind on port 4045. Attempting port 4046.\n",
      "24/11/26 14:06:28 WARN Utils: Service 'SparkUI' could not bind on port 4046. Attempting port 4047.\n",
      "24/11/26 14:06:28 WARN Utils: Service 'SparkUI' could not bind on port 4047. Attempting port 4048.\n",
      "24/11/26 14:06:28 WARN Utils: Service 'SparkUI' could not bind on port 4048. Attempting port 4049.\n",
      "24/11/26 14:06:28 WARN Utils: Service 'SparkUI' could not bind on port 4049. Attempting port 4050.\n",
      "24/11/26 14:06:28 WARN Utils: Service 'SparkUI' could not bind on port 4050. Attempting port 4051.\n"
     ]
    }
   ],
   "source": [
    "# Instantiate Spark Session\n",
    "spark = (SparkSession\n",
    "  .builder\n",
    "  .appName(\"US_Accidents\")\n",
    "  .getOrCreate())\n",
    "spark.sparkContext.setLogLevel(\"ERROR\") #supress warnings"
   ]
  },
  {
   "cell_type": "code",
   "execution_count": 3,
   "id": "c5a537b4-0516-49a4-a9d3-9957ecf6972b",
   "metadata": {},
   "outputs": [],
   "source": [
    "# Read in Data\n",
    "df = spark.read.parquet(\"updated_dataset.parquet\")"
   ]
  },
  {
   "cell_type": "code",
   "execution_count": 4,
   "id": "c6be913b-8a20-494f-af35-4cc44879acb7",
   "metadata": {},
   "outputs": [
    {
     "name": "stderr",
     "output_type": "stream",
     "text": [
      "                                                                                \r"
     ]
    }
   ],
   "source": [
    "# Use StringIndexer for encoding the 'Severity' column\n",
    "indexer = StringIndexer(inputCol=\"Severity\", outputCol=\"SeverityIndex\")\n",
    "df = indexer.fit(df).transform(df)"
   ]
  },
  {
   "cell_type": "code",
   "execution_count": 5,
   "id": "bb96fd0f-7581-467f-a0c3-948425bd9ed5",
   "metadata": {},
   "outputs": [],
   "source": [
    "# Create list of features\n",
    "feature_list = []\n",
    "for col in df.columns:\n",
    "    if col == 'Severity':\n",
    "        continue\n",
    "    elif col == 'SeverityIndex':\n",
    "        continue\n",
    "    elif col == 'SeasonVec':\n",
    "        continue\n",
    "    elif col == 'Severity_Binary':\n",
    "        continue\n",
    "    else:\n",
    "        feature_list.append(col)"
   ]
  },
  {
   "cell_type": "code",
   "execution_count": 6,
   "id": "8117f0e8-de44-4430-aa72-8899adcaeae8",
   "metadata": {},
   "outputs": [],
   "source": [
    "# Split the data into train and test\n",
    "splits = df.randomSplit([0.8, 0.2], 314)\n",
    "train = splits[0]\n",
    "test = splits[1]"
   ]
  },
  {
   "cell_type": "code",
   "execution_count": 7,
   "id": "827fa4c6-689b-4ea8-9b72-5fdbf8d7ecb4",
   "metadata": {},
   "outputs": [
    {
     "name": "stderr",
     "output_type": "stream",
     "text": [
      "                                                                                \r"
     ]
    },
    {
     "name": "stdout",
     "output_type": "stream",
     "text": [
      "+--------+-----------+--------+--------+----------+----------+-------------+-------+---------+----+----+-------------+--------------------------+--------------------+---------+-------------------+------------+-----------+--------------------+--------------------+-----------+-----------------+---------------+-------------+\n",
      "|Severity|Temperature|Humidity|Pressure|Visibility|Wind_Speed|Precipitation|Weekday|Rush_Hour|Rain|Snow|    SeasonVec|Astronomical_TwilightIndex|Interstate_Indicator|Sex_ratio|Percent_Age_65_over|MedianIncome|Urban_Ratio|Traffic_Interference|Traffic_Intersection|Destination|Percent_Age_15-24|Severity_Binary|SeverityIndex|\n",
      "+--------+-----------+--------+--------+----------+----------+-------------+-------+---------+----+----+-------------+--------------------------+--------------------+---------+-------------------+------------+-----------+--------------------+--------------------+-----------+-----------------+---------------+-------------+\n",
      "|       2|        -11|      77|      29|        10|         7|            0|      1|        1|   0|   0|(3,[0],[1.0])|                         0|                   0|    114.7|               15.8|     90581.0|       0.67|                   0|                   1|          0|             13.5|              0|          0.0|\n",
      "|       2|        -10|      73|      29|        10|         6|            0|      1|        1|   0|   0|(3,[0],[1.0])|                         0|                   0|    103.5|               11.1|    101473.0|     0.9676|                   0|                   0|          0|             13.1|              0|          0.0|\n",
      "|       2|         -4|      87|      29|        10|         0|            0|      1|        0|   0|   0|(3,[0],[1.0])|                         1|                   1|     93.9|               25.8|     70673.0|        0.0|                   0|                   0|          0|              7.1|              0|          0.0|\n",
      "|       2|          0|      72|      29|        10|         6|            0|      1|        1|   0|   0|(3,[0],[1.0])|                         0|                   0|    102.7|                9.7|     37116.0|        1.0|                   0|                   1|          1|             13.7|              0|          0.0|\n",
      "|       2|          0|      72|      30|        15|         0|            0|      1|        1|   0|   0|(3,[0],[1.0])|                         0|                   0|     99.2|               16.1|     82933.0|     0.7161|                   0|                   1|          0|             13.4|              0|          0.0|\n",
      "|       2|          3|      80|      29|         7|         0|            0|      1|        0|   0|   0|(3,[0],[1.0])|                         1|                   0|     97.9|                8.4|    119518.0|     0.9984|                   0|                   0|          0|             13.8|              0|          0.0|\n",
      "|       2|          5|      61|      30|        10|         9|            0|      1|        0|   0|   0|(3,[0],[1.0])|                         0|                   0|    104.3|               12.5|     57953.0|        1.0|                   0|                   0|          0|             12.4|              0|          0.0|\n",
      "|       2|          6|      80|      24|         1|         9|            0|      0|        0|   0|   1|(3,[0],[1.0])|                         0|                   0|    102.0|               12.7|    121716.0|     0.7096|                   0|                   0|          0|             13.0|              0|          0.0|\n",
      "|       2|          7|      70|      30|        10|         9|            0|      1|        1|   0|   0|(3,[0],[1.0])|                         0|                   0|     99.1|               14.6|     80420.0|     0.9935|                   0|                   0|          0|             11.4|              0|          0.0|\n",
      "|       2|          8|      87|      29|         4|         0|            0|      1|        1|   0|   0|(3,[0],[1.0])|                         0|                   1|     90.8|               14.9|     37143.0|        1.0|                   0|                   0|          0|             12.2|              0|          0.0|\n",
      "|       2|         10|      64|      30|        10|         3|            0|      1|        0|   0|   0|(3,[0],[1.0])|                         0|                   0|     91.2|               18.0|    102934.0|        1.0|                   0|                   0|          0|             11.5|              0|          0.0|\n",
      "|       2|         11|      77|      29|        10|         5|            0|      1|        1|   0|   0|(3,[0],[1.0])|                         0|                   0|     81.0|               14.8|     22500.0|        1.0|                   0|                   0|          0|              9.7|              0|          0.0|\n",
      "|       2|         12|      56|      29|        10|         8|            0|      1|        0|   0|   0|(3,[0],[1.0])|                         1|                   1|     86.8|               14.7|     39726.0|     0.9746|                   0|                   0|          0|             12.8|              0|          0.0|\n",
      "|       2|         14|      57|      29|        10|         0|            0|      1|        0|   0|   0|(3,[0],[1.0])|                         0|                   1|     94.7|               15.9|     47275.0|        1.0|                   0|                   0|          0|        11.299999|              0|          0.0|\n",
      "|       2|         14|      59|      30|        10|         7|            0|      1|        1|   0|   0|(3,[0],[1.0])|                         0|                   0|     95.7|               20.2|    143340.0|     0.8962|                   0|                   0|          0|             10.5|              0|          0.0|\n",
      "|       2|         14|      67|      29|        10|        12|            0|      1|        1|   0|   0|(3,[0],[1.0])|                         0|                   0|     83.9|               13.4|     36537.0|        1.0|                   0|                   1|          0|             13.1|              0|          0.0|\n",
      "|       2|         15|      70|      30|        10|         5|            0|      1|        1|   0|   0|(3,[0],[1.0])|                         0|                   0|     95.4|               21.0|     74925.0|     0.9851|                   0|                   0|          0|             11.2|              0|          0.0|\n",
      "|       2|         15|      74|      29|         5|         8|            0|      1|        1|   0|   1|(3,[0],[1.0])|                         0|                   0|     93.6|               17.8|     52247.0|     0.4667|                   0|                   0|          0|             11.6|              0|          0.0|\n",
      "|       2|         15|      74|      30|        10|         3|            0|      1|        1|   0|   0|(3,[0],[1.0])|                         0|                   0|     97.7|               18.4|     64340.0|     0.8949|                   0|                   0|          0|             13.1|              0|          0.0|\n",
      "|       2|         15|      80|      30|         1|        10|            0|      1|        1|   0|   1|(3,[0],[1.0])|                         0|                   0|     93.5|               25.1|     64790.0|        1.0|                   0|                   1|          0|             10.4|              0|          0.0|\n",
      "+--------+-----------+--------+--------+----------+----------+-------------+-------+---------+----+----+-------------+--------------------------+--------------------+---------+-------------------+------------+-----------+--------------------+--------------------+-----------+-----------------+---------------+-------------+\n",
      "only showing top 20 rows\n",
      "\n"
     ]
    },
    {
     "name": "stderr",
     "output_type": "stream",
     "text": [
      "[Stage 14:======================================================> (89 + 3) / 92]\r"
     ]
    },
    {
     "name": "stdout",
     "output_type": "stream",
     "text": [
      "+-------------+-----+\n",
      "|SeverityIndex|count|\n",
      "+-------------+-----+\n",
      "|          0.0|52146|\n",
      "|          1.0|51887|\n",
      "|          3.0|52151|\n",
      "|          2.0|52208|\n",
      "+-------------+-----+\n",
      "\n"
     ]
    },
    {
     "name": "stderr",
     "output_type": "stream",
     "text": [
      "                                                                                \r"
     ]
    }
   ],
   "source": [
    "# Undersampling\n",
    "from pyspark.sql import functions as F\n",
    "\n",
    "# Step 1: Group by 'Severity' and count occurrences\n",
    "class_counts = train.groupBy(\"SeverityIndex\").count()\n",
    "\n",
    "# Step 2: Use PySpark's min() function to find the minimum count\n",
    "min_class_size = class_counts.agg(F.min('count')).collect()[0][0]\n",
    "\n",
    "undersampled_train_list = []\n",
    "\n",
    "for row in class_counts.collect():\n",
    "    class_label = row['SeverityIndex']\n",
    "    class_size = row['count']\n",
    "\n",
    "    if class_size > min_class_size:\n",
    "        # Sample the data for this class to the size of the minimum class\n",
    "        class_data = train.filter(F.col(\"SeverityIndex\") == class_label)\n",
    "        class_data_undersampled = class_data.sample(withReplacement=False, fraction=min_class_size / class_size)\n",
    "    else:\n",
    "        # For classes that are already at the minimum size, keep all samples\n",
    "        class_data_undersampled = train.filter(F.col(\"SeverityIndex\") == class_label)\n",
    "\n",
    "    undersampled_train_list.append(class_data_undersampled)\n",
    "\n",
    "# Combine all the undersampled DataFrames\n",
    "undersampled_train = undersampled_train_list[0]  # start with the first one\n",
    "for df in undersampled_train_list[1:]:\n",
    "    undersampled_train = undersampled_train.union(df)\n",
    "\n",
    "# Show the result\n",
    "undersampled_train.show()\n",
    "\n",
    "# Step 4: Group by 'Severity' and count the occurrences in the undersampled DataFrame\n",
    "undersampled_class_counts = undersampled_train.groupBy(\"SeverityIndex\").count()\n",
    "\n",
    "# Show the result\n",
    "undersampled_class_counts.show()"
   ]
  },
  {
   "cell_type": "code",
   "execution_count": 8,
   "id": "2d79048b-55fa-4cac-9ce6-00d115340220",
   "metadata": {},
   "outputs": [],
   "source": [
    "# Assemble data for logistic regression model\n",
    "assembler = VectorAssembler(inputCols=feature_list,\n",
    "                            outputCol=\"features\")\n",
    "\n",
    "undersampled_train = assembler.transform(undersampled_train)\n",
    "test = assembler.transform(test)"
   ]
  },
  {
   "cell_type": "code",
   "execution_count": 9,
   "id": "2b5e00b4-277f-4dff-b480-5bcb8acdc8bc",
   "metadata": {},
   "outputs": [
    {
     "name": "stderr",
     "output_type": "stream",
     "text": [
      "                                                                                \r"
     ]
    }
   ],
   "source": [
    "# Standardize the predictors\n",
    "from pyspark.ml.feature import StandardScaler\n",
    "scaler = StandardScaler(inputCol=\"features\", outputCol=\"scaledFeatures\")\n",
    "scalerModel = scaler.fit(undersampled_train)\n",
    "scaledTrainData = scalerModel.transform(undersampled_train)\n",
    "scaledTestData = scalerModel.transform(test)"
   ]
  },
  {
   "cell_type": "code",
   "execution_count": 10,
   "id": "54cb60dc-688a-45e9-b2fe-bf00d4ec87f0",
   "metadata": {},
   "outputs": [
    {
     "name": "stderr",
     "output_type": "stream",
     "text": [
      "                                                                                \r"
     ]
    },
    {
     "name": "stdout",
     "output_type": "stream",
     "text": [
      "Detected number of classes: 4\n",
      "Coefficients: DenseMatrix([[-1.87800033e-01, -9.87619421e-02,  6.46652802e-02,\n",
      "              -5.38077471e-02, -2.20516647e-02,  2.24846919e-04,\n",
      "              -2.31785538e-02, -3.85904840e-02, -1.19043932e-02,\n",
      "               3.48548952e-02,  2.97738696e-02, -1.09063241e-01,\n",
      "               2.59020785e-02,  3.36521695e-02, -7.25741412e-03,\n",
      "               4.09041399e-02, -1.62349017e-02, -3.53513572e-02,\n",
      "               6.46292144e-02,  6.14966273e-03],\n",
      "             [-1.49368054e-01, -6.60852450e-02,  2.46219438e-01,\n",
      "              -4.75363632e-04,  1.11044666e-01,  6.96864991e-03,\n",
      "              -6.23870313e-02, -5.56219551e-03,  3.93729910e-02,\n",
      "               4.26859066e-02, -1.01604233e-01,  4.75736570e-01,\n",
      "               6.39015714e-02, -1.26320291e-01, -1.07139398e-03,\n",
      "               2.95858299e-01,  9.48849708e-03, -2.68020123e-01,\n",
      "              -1.04221140e-01, -3.34929661e-02],\n",
      "             [-2.55774687e-01, -3.51713137e-02,  4.98713267e-03,\n",
      "               2.51220460e-02,  5.73814057e-02, -7.64166342e-03,\n",
      "              -1.36578700e-01, -1.64972227e-01,  4.00472877e-03,\n",
      "               3.81582839e-02,  1.74043179e-01, -1.04138015e-02,\n",
      "               7.63657194e-03,  9.50288558e-02, -1.83567572e-02,\n",
      "              -4.39045804e-01, -3.52198560e-03, -2.19758113e-02,\n",
      "              -1.33381702e-02,  1.71191094e-02],\n",
      "             [ 5.92942774e-01,  2.00018501e-01, -3.15871851e-01,\n",
      "               2.91610648e-02, -1.46374407e-01,  4.48166596e-04,\n",
      "               2.22144285e-01,  2.09124907e-01, -3.14733266e-02,\n",
      "              -1.15699086e-01, -1.02212815e-01, -3.56259528e-01,\n",
      "              -9.74402218e-02, -2.36073401e-03,  2.66855653e-02,\n",
      "               1.02283364e-01,  1.02683903e-02,  3.25347292e-01,\n",
      "               5.29300953e-02,  1.02241939e-02]])\n",
      "Intercept: [-0.42644073369070323,-6.350745668535786,2.0375845201453853,4.739601882081103]\n"
     ]
    }
   ],
   "source": [
    "# Fit logistic regression model with intercept\n",
    "from pyspark.ml.classification import LogisticRegression\n",
    "\n",
    "# instantiate the model\n",
    "lr = LogisticRegression(labelCol='SeverityIndex',\n",
    "                        featuresCol='scaledFeatures',\n",
    "                        #maxIter=10, \n",
    "                        #regParam=0.3, \n",
    "                        #elasticNetParam=0.8,\n",
    "                        family=\"multinomial\")\n",
    "\n",
    "# Fit the model\n",
    "lrModel = lr.fit(scaledTrainData)\n",
    "print(f\"Detected number of classes: {lrModel.numClasses}\")\n",
    "\n",
    "# Print the coefficients and intercept for logistic regression\n",
    "print(\"Coefficients: \" + str(lrModel.coefficientMatrix))\n",
    "print(\"Intercept: \" + str(lrModel.interceptVector))"
   ]
  },
  {
   "cell_type": "code",
   "execution_count": 11,
   "id": "c9646a1f-7a43-4a74-8e3d-e64dd3a11062",
   "metadata": {},
   "outputs": [
    {
     "name": "stderr",
     "output_type": "stream",
     "text": [
      "                                                                                \r"
     ]
    },
    {
     "name": "stdout",
     "output_type": "stream",
     "text": [
      "+----------+\n",
      "|prediction|\n",
      "+----------+\n",
      "|       0.0|\n",
      "|       1.0|\n",
      "|       3.0|\n",
      "|       2.0|\n",
      "+----------+\n",
      "\n"
     ]
    },
    {
     "name": "stderr",
     "output_type": "stream",
     "text": [
      "[Stage 71:================================================>       (20 + 3) / 23]\r"
     ]
    },
    {
     "name": "stdout",
     "output_type": "stream",
     "text": [
      "Accuracy: 0.3338526150457964\n"
     ]
    },
    {
     "name": "stderr",
     "output_type": "stream",
     "text": [
      "                                                                                \r"
     ]
    }
   ],
   "source": [
    "from pyspark.ml.evaluation import MulticlassClassificationEvaluator\n",
    "\n",
    "# compute predictions. this will append column \"prediction\" to dataframe\n",
    "lrPred = lrModel.transform(scaledTestData)\n",
    "lrPred.select(\"prediction\").distinct().show()\n",
    "\n",
    "evaluator = MulticlassClassificationEvaluator(labelCol='SeverityIndex', predictionCol='prediction', metricName='accuracy')\n",
    "accuracy = evaluator.evaluate(lrPred, {evaluator.metricName: \"accuracy\"})\n",
    "print(f'Accuracy: {accuracy}')"
   ]
  },
  {
   "cell_type": "code",
   "execution_count": 12,
   "id": "e3e81050-0bf6-4e42-b0c8-f7ebe09b0971",
   "metadata": {},
   "outputs": [
    {
     "name": "stderr",
     "output_type": "stream",
     "text": [
      "[Stage 77:================================================>       (20 + 3) / 23]\r"
     ]
    },
    {
     "name": "stdout",
     "output_type": "stream",
     "text": [
      "Precision: 0.7421508541320074\n",
      "Recall: 0.33385261504579633\n",
      "F1 Score: 0.4157122677941114\n"
     ]
    },
    {
     "name": "stderr",
     "output_type": "stream",
     "text": [
      "                                                                                \r"
     ]
    }
   ],
   "source": [
    "precision = evaluator.evaluate(lrPred, {evaluator.metricName: 'weightedPrecision'})\n",
    "recall = evaluator.evaluate(lrPred, {evaluator.metricName: 'weightedRecall'})\n",
    "f1_score = evaluator.evaluate(lrPred, {evaluator.metricName: 'f1'})\n",
    "\n",
    "print(f'Precision: {precision}')\n",
    "print(f'Recall: {recall}')\n",
    "print(f'F1 Score: {f1_score}')"
   ]
  },
  {
   "cell_type": "code",
   "execution_count": 13,
   "id": "05e473cd-b658-4a72-ba3a-f5d2752719eb",
   "metadata": {},
   "outputs": [
    {
     "name": "stderr",
     "output_type": "stream",
     "text": [
      "[Stage 79:===========================================>            (18 + 5) / 23]\r"
     ]
    },
    {
     "name": "stdout",
     "output_type": "stream",
     "text": [
      "+-------------+-------------------+\n",
      "|SeverityIndex|           accuracy|\n",
      "+-------------+-------------------+\n",
      "|          0.0|0.29142257731840326|\n",
      "|          1.0| 0.5092595879106252|\n",
      "|          3.0| 0.6604572396274344|\n",
      "|          2.0| 0.4520964770252917|\n",
      "+-------------+-------------------+\n",
      "\n"
     ]
    },
    {
     "name": "stderr",
     "output_type": "stream",
     "text": [
      "                                                                                \r"
     ]
    }
   ],
   "source": [
    "# Add a column to indicate correct or incorrect predictions\n",
    "predictions = lrPred.withColumn(\n",
    "    'is_correct', F.expr(\"CASE WHEN SeverityIndex = prediction THEN 1 ELSE 0 END\")\n",
    ")\n",
    "\n",
    "# Calculate accuracy by class\n",
    "accuracy_by_class = predictions.groupBy('SeverityIndex').agg(\n",
    "    (F.sum('is_correct') / F.count('SeverityIndex')).alias('accuracy')\n",
    ")\n",
    "\n",
    "# Show per-class accuracy\n",
    "accuracy_by_class.show()"
   ]
  },
  {
   "cell_type": "code",
   "execution_count": 14,
   "id": "3fce0c2c-f792-47cd-9e69-bdbbe886c5a5",
   "metadata": {},
   "outputs": [
    {
     "name": "stderr",
     "output_type": "stream",
     "text": [
      "[Stage 135:===============================================>       (20 + 3) / 23]\r"
     ]
    },
    {
     "name": "stdout",
     "output_type": "stream",
     "text": [
      "Class 0.0 - Precision: 0.8569, Recall: 0.2914, F1 Score: 0.4349\n",
      "Class 1.0 - Precision: 0.3158, Recall: 0.5093, F1 Score: 0.3898\n",
      "Class 2.0 - Precision: 0.0605, Recall: 0.4521, F1 Score: 0.1068\n",
      "Class 3.0 - Precision: 0.0220, Recall: 0.6605, F1 Score: 0.0426\n"
     ]
    },
    {
     "name": "stderr",
     "output_type": "stream",
     "text": [
      "                                                                                \r"
     ]
    }
   ],
   "source": [
    "# Calculate metrics by class\n",
    "labels = lrPred.select('SeverityIndex').distinct().orderBy('SeverityIndex').rdd.flatMap(lambda x: x).collect()\n",
    "\n",
    "metrics = {}\n",
    "for label in labels:\n",
    "    # Filter predictions for the current label\n",
    "    true_positive = lrPred.filter((F.col('SeverityIndex') == label) & (F.col('prediction') == label)).count()\n",
    "    false_positive = lrPred.filter((F.col('SeverityIndex') != label) & (F.col('prediction') == label)).count()\n",
    "    false_negative = lrPred.filter((F.col('SeverityIndex') == label) & (F.col('prediction') != label)).count()\n",
    "    true_negative = lrPred.filter((F.col('SeverityIndex') != label) & (F.col('prediction') != label)).count()\n",
    "\n",
    "    # Precision, Recall, and F1 Score\n",
    "    precision = true_positive / (true_positive + false_positive) if (true_positive + false_positive) > 0 else 0.0\n",
    "    recall = true_positive / (true_positive + false_negative) if (true_positive + false_negative) > 0 else 0.0\n",
    "    f1_score = 2 * precision * recall / (precision + recall) if (precision + recall) > 0 else 0.0\n",
    "\n",
    "    # Store metrics\n",
    "    metrics[label] = {'precision': precision, 'recall': recall, 'f1_score': f1_score}\n",
    "\n",
    "# Print metrics for each class\n",
    "for label, metric in metrics.items():\n",
    "    print(f\"Class {label} - Precision: {metric['precision']:.4f}, Recall: {metric['recall']:.4f}, F1 Score: {metric['f1_score']:.4f}\")"
   ]
  }
 ],
 "metadata": {
  "kernelspec": {
   "display_name": "DS7200 Spark 3.3",
   "language": "python",
   "name": "ds5110_spark3.3"
  },
  "language_info": {
   "codemirror_mode": {
    "name": "ipython",
    "version": 3
   },
   "file_extension": ".py",
   "mimetype": "text/x-python",
   "name": "python",
   "nbconvert_exporter": "python",
   "pygments_lexer": "ipython3",
   "version": "3.7.12"
  }
 },
 "nbformat": 4,
 "nbformat_minor": 5
}
