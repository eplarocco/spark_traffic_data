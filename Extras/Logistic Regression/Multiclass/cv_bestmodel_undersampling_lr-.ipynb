{
 "cells": [
  {
   "cell_type": "code",
   "execution_count": 1,
   "id": "34f6a102-4e48-4b09-bb89-7ac701ad50bf",
   "metadata": {},
   "outputs": [],
   "source": [
    "# Import Libraries\n",
    "import pandas as pd\n",
    "import numpy as np\n",
    "import os\n",
    "import pyspark\n",
    "from pyspark.sql import SparkSession\n",
    "from pyspark.sql.types import *\n",
    "from pyspark.sql.functions import *\n",
    "from pyspark.ml.feature import StringIndexer, OneHotEncoder, VectorAssembler\n",
    "from pyspark.ml.stat import Correlation\n",
    "#import seaborn as sns\n",
    "import matplotlib.pyplot as plt\n",
    "import pyspark.sql.functions as F\n",
    "#import holidays\n",
    "from datetime import datetime, timezone\n",
    "from pyspark.ml.classification import RandomForestClassifier, BinaryLogisticRegressionSummary\n",
    "from pyspark.ml import Pipeline\n",
    "from pyspark.mllib.evaluation import MulticlassMetrics, BinaryClassificationMetrics\n",
    "from pyspark.ml.pipeline import PipelineModel"
   ]
  },
  {
   "cell_type": "code",
   "execution_count": 2,
   "id": "fb6477a6-d56a-44ff-9304-860e60040873",
   "metadata": {},
   "outputs": [
    {
     "name": "stderr",
     "output_type": "stream",
     "text": [
      "/opt/conda/lib/python3.7/site-packages/pyspark/bin/load-spark-env.sh: line 68: ps: command not found\n",
      "Setting default log level to \"WARN\".\n",
      "To adjust logging level use sc.setLogLevel(newLevel). For SparkR, use setLogLevel(newLevel).\n"
     ]
    },
    {
     "name": "stdout",
     "output_type": "stream",
     "text": [
      "24/11/26 15:51:25 WARN NativeCodeLoader: Unable to load native-hadoop library for your platform... using builtin-java classes where applicable\n",
      "24/11/26 15:51:25 WARN Utils: Service 'SparkUI' could not bind on port 4040. Attempting port 4041.\n",
      "24/11/26 15:51:25 WARN Utils: Service 'SparkUI' could not bind on port 4041. Attempting port 4042.\n",
      "24/11/26 15:51:25 WARN Utils: Service 'SparkUI' could not bind on port 4042. Attempting port 4043.\n",
      "24/11/26 15:51:25 WARN Utils: Service 'SparkUI' could not bind on port 4043. Attempting port 4044.\n",
      "24/11/26 15:51:25 WARN Utils: Service 'SparkUI' could not bind on port 4044. Attempting port 4045.\n",
      "24/11/26 15:51:25 WARN Utils: Service 'SparkUI' could not bind on port 4045. Attempting port 4046.\n",
      "24/11/26 15:51:25 WARN Utils: Service 'SparkUI' could not bind on port 4046. Attempting port 4047.\n",
      "24/11/26 15:51:25 WARN Utils: Service 'SparkUI' could not bind on port 4047. Attempting port 4048.\n",
      "24/11/26 15:51:25 WARN Utils: Service 'SparkUI' could not bind on port 4048. Attempting port 4049.\n",
      "24/11/26 15:51:25 WARN Utils: Service 'SparkUI' could not bind on port 4049. Attempting port 4050.\n",
      "24/11/26 15:51:25 WARN Utils: Service 'SparkUI' could not bind on port 4050. Attempting port 4051.\n",
      "24/11/26 15:51:25 WARN Utils: Service 'SparkUI' could not bind on port 4051. Attempting port 4052.\n",
      "24/11/26 15:51:25 WARN Utils: Service 'SparkUI' could not bind on port 4052. Attempting port 4053.\n",
      "24/11/26 15:51:25 WARN Utils: Service 'SparkUI' could not bind on port 4053. Attempting port 4054.\n",
      "24/11/26 15:51:25 WARN Utils: Service 'SparkUI' could not bind on port 4054. Attempting port 4055.\n"
     ]
    }
   ],
   "source": [
    "from pyspark.sql import SparkSession\n",
    "\n",
    "spark = SparkSession.builder \\\n",
    "    .appName(\"US_Accidents\") \\\n",
    "    .config(\"spark.executor.memory\", \"4g\") \\\n",
    "    .config(\"spark.driver.memory\", \"4g\") \\\n",
    "    .config(\"spark.sql.shuffle.partitions\", \"200\") \\\n",
    "    .config(\"spark.memory.offHeap.enabled\", \"true\") \\\n",
    "    .config(\"spark.memory.offHeap.size\", \"2g\") \\\n",
    "    .getOrCreate()\n",
    "spark.sparkContext.setLogLevel(\"ERROR\") #supress warnings"
   ]
  },
  {
   "cell_type": "code",
   "execution_count": 3,
   "id": "491c407c-978d-4657-b228-d5b1cd183109",
   "metadata": {},
   "outputs": [],
   "source": [
    "# Read in Data\n",
    "df = spark.read.parquet(\"updated_dataset.parquet\")"
   ]
  },
  {
   "cell_type": "code",
   "execution_count": 4,
   "id": "559036cc-f7ce-44d1-afab-f7102d37f379",
   "metadata": {},
   "outputs": [
    {
     "name": "stderr",
     "output_type": "stream",
     "text": [
      "                                                                                \r"
     ]
    }
   ],
   "source": [
    "# Use StringIndexer for encoding the 'Severity' column\n",
    "indexer = StringIndexer(inputCol=\"Severity\", outputCol=\"SeverityIndex\")\n",
    "df = indexer.fit(df).transform(df)"
   ]
  },
  {
   "cell_type": "code",
   "execution_count": 5,
   "id": "bd714af4-a563-4b64-a2ac-f801f1329b0d",
   "metadata": {
    "tags": []
   },
   "outputs": [],
   "source": [
    "# Create list of features\n",
    "feature_list = []\n",
    "for col in df.columns:\n",
    "    if col == 'Severity':\n",
    "        continue\n",
    "    elif col == 'SeverityIndex':\n",
    "        continue\n",
    "    elif col == 'Severity_Binary':\n",
    "        continue\n",
    "    else:\n",
    "        feature_list.append(col)"
   ]
  },
  {
   "cell_type": "code",
   "execution_count": 6,
   "id": "9becd375-b12f-434a-94ab-0a270c10f8f6",
   "metadata": {},
   "outputs": [],
   "source": [
    "#feature_list = ['Temperature', 'Pressure', 'Astronomical_TwilightIndex', 'Interstate_Indicator', 'Rush_Hour', 'SeasonVec', 'Traffic_Intersection', 'Urban_Ratio', 'Wind_Speed']"
   ]
  },
  {
   "cell_type": "code",
   "execution_count": 6,
   "id": "6205116d-7ba9-462e-8bc8-908487196013",
   "metadata": {},
   "outputs": [],
   "source": [
    "# Split the data into train and test\n",
    "splits = df.randomSplit([0.8, 0.2], 314)\n",
    "train = splits[0]\n",
    "test = splits[1]"
   ]
  },
  {
   "cell_type": "code",
   "execution_count": 7,
   "id": "1edaec72-5525-4f4b-a6bd-b860a3d8633a",
   "metadata": {},
   "outputs": [
    {
     "name": "stderr",
     "output_type": "stream",
     "text": [
      "                                                                                \r"
     ]
    },
    {
     "name": "stdout",
     "output_type": "stream",
     "text": [
      "+--------+-----------+--------+--------+----------+----------+-------------+-------+---------+----+----+-------------+--------------------------+--------------------+---------+-------------------+------------+-----------+--------------------+--------------------+-----------+-----------------+---------------+-------------+\n",
      "|Severity|Temperature|Humidity|Pressure|Visibility|Wind_Speed|Precipitation|Weekday|Rush_Hour|Rain|Snow|    SeasonVec|Astronomical_TwilightIndex|Interstate_Indicator|Sex_ratio|Percent_Age_65_over|MedianIncome|Urban_Ratio|Traffic_Interference|Traffic_Intersection|Destination|Percent_Age_15-24|Severity_Binary|SeverityIndex|\n",
      "+--------+-----------+--------+--------+----------+----------+-------------+-------+---------+----+----+-------------+--------------------------+--------------------+---------+-------------------+------------+-----------+--------------------+--------------------+-----------+-----------------+---------------+-------------+\n",
      "|       2|        -15|      82|      29|        10|         3|            0|      1|        1|   0|   0|(3,[0],[1.0])|                         0|                   0|     91.8|               22.4|     89390.0|     0.9919|                   0|                   1|          0|              9.0|              0|          0.0|\n",
      "|       2|          4|      84|      29|         6|         0|            0|      1|        1|   0|   0|(3,[0],[1.0])|                         0|                   1|    115.5|               12.3|     62057.0|        1.0|                   0|                   1|          0|             12.7|              0|          0.0|\n",
      "|       2|          5|      76|      30|        10|         3|            0|      1|        1|   0|   0|(3,[0],[1.0])|                         0|                   0|     99.0|               14.9|    106861.0|        1.0|                   0|                   0|          0|             18.3|              0|          0.0|\n",
      "|       2|          6|      73|      30|        10|         0|            0|      0|        1|   0|   0|(3,[0],[1.0])|                         0|                   1|     93.0|               18.4|     98963.0|     0.7014|                   0|                   0|          0|        10.299999|              0|          0.0|\n",
      "|       2|          6|      80|      29|        10|        12|            0|      1|        1|   0|   0|(3,[0],[1.0])|                         0|                   0|     94.3|                9.6|     58903.0|        1.0|                   0|                   0|          0|             10.9|              0|          0.0|\n",
      "|       2|          9|      38|      30|        10|        22|            0|      1|        0|   0|   0|(3,[0],[1.0])|                         0|                   0|     93.3|               12.8|    105065.0|        1.0|                   0|                   1|          0|             29.3|              0|          0.0|\n",
      "|       2|         10|      80|      29|         1|         5|            0|      1|        1|   0|   1|(3,[0],[1.0])|                         0|                   0|     89.4|               12.5|     82751.0|        1.0|                   0|                   0|          0|             12.5|              0|          0.0|\n",
      "|       2|         12|      67|      29|         7|         3|            0|      1|        1|   0|   0|(3,[0],[1.0])|                         0|                   0|    103.2|                9.2|     85125.0|     0.5982|                   0|                   0|          0|             12.1|              0|          0.0|\n",
      "|       2|         12|      92|      28|        10|         0|            0|      1|        1|   0|   0|(3,[0],[1.0])|                         0|                   0|     94.9|               19.3|     73091.0|     0.7305|                   0|                   0|          0|             11.3|              0|          0.0|\n",
      "|       2|         13|      81|      31|        10|         0|            0|      1|        1|   0|   0|(3,[0],[1.0])|                         0|                   0|     87.3|               18.5|     83519.0|     0.9563|                   0|                   0|          0|             12.3|              0|          0.0|\n",
      "|       2|         14|      68|      29|        10|        21|            0|      1|        1|   0|   0|(3,[0],[1.0])|                         0|                   0|     95.9|               15.9|     82793.0|     0.9703|                   0|                   0|          0|             12.8|              0|          0.0|\n",
      "|       2|         14|      95|      30|        10|         7|            0|      1|        1|   0|   0|(3,[0],[1.0])|                         0|                   0|    101.3|               12.1|     85808.0|     0.9654|                   0|                   0|          0|        14.200001|              0|          0.0|\n",
      "|       2|         15|      80|      30|         5|         3|            0|      1|        1|   0|   0|(3,[0],[1.0])|                         0|                   0|     96.9|               11.6|     33267.0|        1.0|                   0|                   0|          0|             13.4|              0|          0.0|\n",
      "|       2|         18|      57|      30|        10|         6|            0|      1|        1|   0|   0|(3,[0],[1.0])|                         0|                   0|     84.1|               19.0|     81098.0|        1.0|                   0|                   0|          0|             15.0|              0|          0.0|\n",
      "|       2|         18|      58|      29|        10|         8|            0|      1|        1|   0|   0|(3,[0],[1.0])|                         0|                   0|     95.2|               12.7|    107087.0|     0.9172|                   0|                   0|          0|              9.0|              0|          0.0|\n",
      "|       2|         18|      74|      30|        10|        12|            0|      1|        1|   0|   0|(3,[0],[1.0])|                         0|                   1|    101.6|               10.8|     64516.0|     0.9175|                   0|                   0|          0|             14.6|              0|          0.0|\n",
      "|       2|         19|      59|      30|        10|         9|            0|      1|        1|   0|   0|(3,[0],[1.0])|                         0|                   0|     88.1|               22.7|    100714.0|        1.0|                   0|                   1|          0|             11.8|              0|          0.0|\n",
      "|       2|         19|      63|      30|        10|         0|            0|      1|        1|   0|   0|(3,[0],[1.0])|                         0|                   0|     95.1|               26.3|    109471.0|     0.9663|                   0|                   1|          0|             11.2|              0|          0.0|\n",
      "|       2|         19|      81|      29|         1|        14|            0|      0|        0|   0|   1|(3,[0],[1.0])|                         0|                   0|     93.9|               15.3|     41264.0|     0.6604|                   0|                   0|          0|             14.5|              0|          0.0|\n",
      "|       2|         19|      88|      30|         3|         0|            0|      1|        0|   0|   0|(3,[0],[1.0])|                         1|                   0|     82.6|               21.5|     50339.0|        1.0|                   0|                   0|          0|        11.200001|              0|          0.0|\n",
      "+--------+-----------+--------+--------+----------+----------+-------------+-------+---------+----+----+-------------+--------------------------+--------------------+---------+-------------------+------------+-----------+--------------------+--------------------+-----------+-----------------+---------------+-------------+\n",
      "only showing top 20 rows\n",
      "\n"
     ]
    },
    {
     "name": "stderr",
     "output_type": "stream",
     "text": [
      "[Stage 14:======================================================> (89 + 3) / 92]\r"
     ]
    },
    {
     "name": "stdout",
     "output_type": "stream",
     "text": [
      "+-------------+-----+\n",
      "|SeverityIndex|count|\n",
      "+-------------+-----+\n",
      "|          0.0|51939|\n",
      "|          1.0|52447|\n",
      "|          3.0|52151|\n",
      "|          2.0|51986|\n",
      "+-------------+-----+\n",
      "\n"
     ]
    },
    {
     "name": "stderr",
     "output_type": "stream",
     "text": [
      "                                                                                \r"
     ]
    }
   ],
   "source": [
    "# Undersampling\n",
    "from pyspark.sql import functions as F\n",
    "\n",
    "# Step 1: Group by 'Severity' and count occurrences\n",
    "class_counts = train.groupBy(\"SeverityIndex\").count()\n",
    "\n",
    "# Step 2: Use PySpark's min() function to find the minimum count\n",
    "min_class_size = class_counts.agg(F.min('count')).collect()[0][0]\n",
    "\n",
    "undersampled_train_list = []\n",
    "\n",
    "for row in class_counts.collect():\n",
    "    class_label = row['SeverityIndex']\n",
    "    class_size = row['count']\n",
    "\n",
    "    if class_size > min_class_size:\n",
    "        # Sample the data for this class to the size of the minimum class\n",
    "        class_data = train.filter(F.col(\"SeverityIndex\") == class_label)\n",
    "        class_data_undersampled = class_data.sample(withReplacement=False, fraction=min_class_size / class_size)\n",
    "    else:\n",
    "        # For classes that are already at the minimum size, keep all samples\n",
    "        class_data_undersampled = train.filter(F.col(\"SeverityIndex\") == class_label)\n",
    "\n",
    "    undersampled_train_list.append(class_data_undersampled)\n",
    "\n",
    "# Combine all the undersampled DataFrames\n",
    "undersampled_train = undersampled_train_list[0]  # start with the first one\n",
    "for df in undersampled_train_list[1:]:\n",
    "    undersampled_train = undersampled_train.union(df)\n",
    "\n",
    "# Show the result\n",
    "undersampled_train.show()\n",
    "\n",
    "# Step 4: Group by 'Severity' and count the occurrences in the undersampled DataFrame\n",
    "undersampled_class_counts = undersampled_train.groupBy(\"SeverityIndex\").count()\n",
    "\n",
    "# Show the result\n",
    "undersampled_class_counts.show()"
   ]
  },
  {
   "cell_type": "code",
   "execution_count": 8,
   "id": "b9bae2ca-ae3f-4a4f-80bc-eb1ffa48c618",
   "metadata": {},
   "outputs": [],
   "source": [
    "# Assemble data for logistic regression model\n",
    "assembler = VectorAssembler(inputCols=feature_list,\n",
    "                            outputCol=\"features\")\n",
    "\n",
    "undersampled_train = assembler.transform(undersampled_train)\n",
    "test = assembler.transform(test)"
   ]
  },
  {
   "cell_type": "code",
   "execution_count": 9,
   "id": "7e409958-0785-437a-9fcf-531e1d76dad6",
   "metadata": {},
   "outputs": [
    {
     "name": "stderr",
     "output_type": "stream",
     "text": [
      "                                                                                \r"
     ]
    }
   ],
   "source": [
    "# Standardize the predictors\n",
    "from pyspark.ml.feature import StandardScaler\n",
    "scaler = StandardScaler(inputCol=\"features\", outputCol=\"scaledFeatures\")\n",
    "scalerModel = scaler.fit(undersampled_train)\n",
    "scaledTrainData = scalerModel.transform(undersampled_train)\n",
    "scaledTestData = scalerModel.transform(test)"
   ]
  },
  {
   "cell_type": "code",
   "execution_count": 10,
   "id": "f99f8f0e-20be-4a6a-b888-61e9d50e7297",
   "metadata": {},
   "outputs": [
    {
     "name": "stderr",
     "output_type": "stream",
     "text": [
      "                                                                                ]\r"
     ]
    },
    {
     "name": "stdout",
     "output_type": "stream",
     "text": [
      "Best Parameters: maxIter=50, regParam=0.0, elasticNetParam=0.0\n"
     ]
    }
   ],
   "source": [
    "from pyspark.ml.classification import LogisticRegression\n",
    "from pyspark.ml.evaluation import MulticlassClassificationEvaluator\n",
    "from pyspark.ml.tuning import CrossValidator, ParamGridBuilder\n",
    "from pyspark.sql import SparkSession\n",
    "\n",
    "# Initialize Spark session\n",
    "spark = SparkSession.builder \\\n",
    "    .appName(\"10-Fold Cross Validation Example\") \\\n",
    "    .getOrCreate()\n",
    "\n",
    "# Define the model and set the label column\n",
    "lr = LogisticRegression(featuresCol=\"scaledFeatures\", labelCol=\"SeverityIndex\", family=\"multinomial\")\n",
    "\n",
    "# Define the hyperparameter grid\n",
    "param_grid = ParamGridBuilder() \\\n",
    "    .addGrid(lr.maxIter, [50, 100, 150]) \\\n",
    "    .addGrid(lr.regParam, [0.0, 0.1, 1.0]) \\\n",
    "    .addGrid(lr.elasticNetParam, [0.0, 0.5, 1.0]) \\\n",
    "    .build()\n",
    "\n",
    "# Define the evaluator\n",
    "evaluator = MulticlassClassificationEvaluator(labelCol=\"SeverityIndex\", metricName=\"accuracy\")\n",
    "\n",
    "# Define the CrossValidator\n",
    "cross_validator = CrossValidator(\n",
    "    estimator=lr,\n",
    "    estimatorParamMaps=param_grid,\n",
    "    evaluator=evaluator,\n",
    "    numFolds=10,  #for 10-fold cross-validation\n",
    "    parallelism=4,  #number of threads for parallelism\n",
    "    seed = 314\n",
    ")\n",
    "\n",
    "# Perform cross-validation\n",
    "cv_model = cross_validator.fit(scaledTrainData)\n",
    "\n",
    "# Print the best hyperparameters\n",
    "best_model = cv_model.bestModel\n",
    "print(f\"Best Parameters: maxIter={best_model._java_obj.getMaxIter()}, \"\n",
    "      f\"regParam={best_model._java_obj.getRegParam()}, \"\n",
    "      f\"elasticNetParam={best_model._java_obj.getElasticNetParam()}\")"
   ]
  },
  {
   "cell_type": "code",
   "execution_count": 11,
   "id": "c7555c62-3fb4-4aec-b885-db99e8164e6c",
   "metadata": {
    "tags": []
   },
   "outputs": [
    {
     "name": "stderr",
     "output_type": "stream",
     "text": [
      "                                                                                \r"
     ]
    },
    {
     "name": "stdout",
     "output_type": "stream",
     "text": [
      "Detected number of classes: 4\n",
      "Coefficients: DenseMatrix([[-0.01489983, -0.07676855,  0.03117155, -0.03029891, -0.00874672,\n",
      "              -0.00169415, -0.03478702, -0.03807731, -0.01306237,  0.04263927,\n",
      "               0.54222826,  0.33835008,  0.03013158, -0.0050059 , -0.10234176,\n",
      "               0.03324799,  0.03142831,  0.00884773,  0.04310394, -0.01489743,\n",
      "              -0.0296616 ,  0.06551928,  0.00583615],\n",
      "             [-0.14508323, -0.08339894,  0.21737174, -0.00554761,  0.12928795,\n",
      "               0.01082213, -0.06374609, -0.01297396,  0.05168738,  0.02983143,\n",
      "               0.21099112,  0.15029372, -0.1292759 , -0.11035717,  0.46458172,\n",
      "               0.05128523, -0.12927579,  0.0044287 ,  0.2848914 ,  0.01295158,\n",
      "              -0.25923277, -0.10363481, -0.02557472],\n",
      "             [-0.24953668, -0.0461124 ,  0.02180161,  0.02661451,  0.0632119 ,\n",
      "              -0.00474235, -0.14067781, -0.17343659,  0.01350265,  0.03925907,\n",
      "               0.21793878,  0.14634185, -0.0753478 ,  0.16032513, -0.00413904,\n",
      "               0.00562677,  0.09634973, -0.02421408, -0.4275539 , -0.00595768,\n",
      "              -0.01796328, -0.00834819,  0.00785501],\n",
      "             [ 0.40951974,  0.20627989, -0.2703449 ,  0.009232  , -0.18375313,\n",
      "              -0.00438563,  0.23921093,  0.22448787, -0.05212767, -0.11172977,\n",
      "              -0.97115817, -0.63498564,  0.17449212, -0.04496206, -0.35810092,\n",
      "              -0.09015999,  0.00149775,  0.01093765,  0.09955856,  0.00790352,\n",
      "               0.30685765,  0.04646372,  0.01188356]])\n",
      "Intercept: [-0.7194041094497867,-5.492940306741083,1.635045964098291,4.577298452092579]\n"
     ]
    }
   ],
   "source": [
    "# Fit logistic regression model with intercept\n",
    "from pyspark.ml.classification import LogisticRegression\n",
    "\n",
    "# instantiate the model\n",
    "lr = LogisticRegression(labelCol='SeverityIndex',\n",
    "                        featuresCol='scaledFeatures',\n",
    "                        maxIter=50, \n",
    "                        regParam=0.0, \n",
    "                        elasticNetParam=0.0,\n",
    "                        family=\"multinomial\")\n",
    "\n",
    "# Fit the model\n",
    "lrModel = lr.fit(scaledTrainData)\n",
    "print(f\"Detected number of classes: {lrModel.numClasses}\")\n",
    "\n",
    "# Print the coefficients and intercept for logistic regression\n",
    "print(\"Coefficients: \" + str(lrModel.coefficientMatrix))\n",
    "print(\"Intercept: \" + str(lrModel.interceptVector))"
   ]
  },
  {
   "cell_type": "code",
   "execution_count": 12,
   "id": "7e2d903a-3e64-4562-b6ca-90e323b49e1e",
   "metadata": {},
   "outputs": [
    {
     "name": "stderr",
     "output_type": "stream",
     "text": [
      "                                                                                \r"
     ]
    },
    {
     "name": "stdout",
     "output_type": "stream",
     "text": [
      "+----------+\n",
      "|prediction|\n",
      "+----------+\n",
      "|       0.0|\n",
      "|       1.0|\n",
      "|       3.0|\n",
      "|       2.0|\n",
      "+----------+\n",
      "\n"
     ]
    },
    {
     "name": "stderr",
     "output_type": "stream",
     "text": [
      "[Stage 11181:==================================================>  (22 + 1) / 23]\r"
     ]
    },
    {
     "name": "stdout",
     "output_type": "stream",
     "text": [
      "Accuracy: 0.3860610561478687\n"
     ]
    },
    {
     "name": "stderr",
     "output_type": "stream",
     "text": [
      "                                                                                \r"
     ]
    }
   ],
   "source": [
    "from pyspark.ml.evaluation import MulticlassClassificationEvaluator\n",
    "\n",
    "# compute predictions. this will append column \"prediction\" to dataframe\n",
    "lrPred = lrModel.transform(scaledTestData)\n",
    "lrPred.select(\"prediction\").distinct().show()\n",
    "\n",
    "evaluator = MulticlassClassificationEvaluator(labelCol='SeverityIndex', predictionCol='prediction', metricName='accuracy')\n",
    "accuracy = evaluator.evaluate(lrPred, {evaluator.metricName: \"accuracy\"})\n",
    "print(f'Accuracy: {accuracy}')"
   ]
  },
  {
   "cell_type": "code",
   "execution_count": 13,
   "id": "1d621af5-8be9-4070-95f4-e89e46f8aa41",
   "metadata": {},
   "outputs": [
    {
     "name": "stderr",
     "output_type": "stream",
     "text": [
      "[Stage 11187:==============================================>      (20 + 3) / 23]\r"
     ]
    },
    {
     "name": "stdout",
     "output_type": "stream",
     "text": [
      "Precision: 0.767945209738235\n",
      "Recall: 0.3860610561478686\n",
      "F1 Score: 0.47636683203213875\n"
     ]
    },
    {
     "name": "stderr",
     "output_type": "stream",
     "text": [
      "                                                                                \r"
     ]
    }
   ],
   "source": [
    "precision = evaluator.evaluate(lrPred, {evaluator.metricName: 'weightedPrecision'})\n",
    "recall = evaluator.evaluate(lrPred, {evaluator.metricName: 'weightedRecall'})\n",
    "f1_score = evaluator.evaluate(lrPred, {evaluator.metricName: 'f1'})\n",
    "\n",
    "print(f'Precision: {precision}')\n",
    "print(f'Recall: {recall}')\n",
    "print(f'F1 Score: {f1_score}')"
   ]
  },
  {
   "cell_type": "code",
   "execution_count": 14,
   "id": "c3bb4567-0bfa-45f2-b38c-85b40f32572d",
   "metadata": {
    "tags": []
   },
   "outputs": [
    {
     "name": "stderr",
     "output_type": "stream",
     "text": [
      "[Stage 11189:================================================>    (21 + 2) / 23]\r"
     ]
    },
    {
     "name": "stdout",
     "output_type": "stream",
     "text": [
      "+-------------+-------------------+\n",
      "|SeverityIndex|           accuracy|\n",
      "+-------------+-------------------+\n",
      "|          0.0|0.35746522361957145|\n",
      "|          1.0| 0.5007498180914689|\n",
      "|          3.0| 0.7780001539527365|\n",
      "|          2.0|0.42563229300429906|\n",
      "+-------------+-------------------+\n",
      "\n"
     ]
    },
    {
     "name": "stderr",
     "output_type": "stream",
     "text": [
      "                                                                                \r"
     ]
    }
   ],
   "source": [
    "# Add a column to indicate correct or incorrect predictions\n",
    "predictions = lrPred.withColumn(\n",
    "    'is_correct', F.expr(\"CASE WHEN SeverityIndex = prediction THEN 1 ELSE 0 END\")\n",
    ")\n",
    "\n",
    "# Calculate accuracy by class\n",
    "accuracy_by_class = predictions.groupBy('SeverityIndex').agg(\n",
    "    (F.sum('is_correct') / F.count('SeverityIndex')).alias('accuracy')\n",
    ")\n",
    "\n",
    "# Show per-class accuracy\n",
    "accuracy_by_class.show()"
   ]
  },
  {
   "cell_type": "code",
   "execution_count": 15,
   "id": "038d34d3-1dc9-47a1-b1e5-0374bb63f39f",
   "metadata": {
    "tags": []
   },
   "outputs": [
    {
     "name": "stderr",
     "output_type": "stream",
     "text": [
      "[Stage 11245:==============================================>      (20 + 3) / 23]\r"
     ]
    },
    {
     "name": "stdout",
     "output_type": "stream",
     "text": [
      "Class 0.0 - Precision: 0.8876, Recall: 0.3575, F1 Score: 0.5097\n",
      "Class 1.0 - Precision: 0.3219, Recall: 0.5007, F1 Score: 0.3919\n",
      "Class 2.0 - Precision: 0.0623, Recall: 0.4256, F1 Score: 0.1087\n",
      "Class 3.0 - Precision: 0.0285, Recall: 0.7780, F1 Score: 0.0550\n"
     ]
    },
    {
     "name": "stderr",
     "output_type": "stream",
     "text": [
      "                                                                                \r"
     ]
    }
   ],
   "source": [
    "# Calculate metrics by class\n",
    "labels = lrPred.select('SeverityIndex').distinct().orderBy('SeverityIndex').rdd.flatMap(lambda x: x).collect()\n",
    "\n",
    "metrics = {}\n",
    "for label in labels:\n",
    "    # Filter predictions for the current label\n",
    "    true_positive = lrPred.filter((F.col('SeverityIndex') == label) & (F.col('prediction') == label)).count()\n",
    "    false_positive = lrPred.filter((F.col('SeverityIndex') != label) & (F.col('prediction') == label)).count()\n",
    "    false_negative = lrPred.filter((F.col('SeverityIndex') == label) & (F.col('prediction') != label)).count()\n",
    "    true_negative = lrPred.filter((F.col('SeverityIndex') != label) & (F.col('prediction') != label)).count()\n",
    "\n",
    "    # Precision, Recall, and F1 Score\n",
    "    precision = true_positive / (true_positive + false_positive) if (true_positive + false_positive) > 0 else 0.0\n",
    "    recall = true_positive / (true_positive + false_negative) if (true_positive + false_negative) > 0 else 0.0\n",
    "    f1_score = 2 * precision * recall / (precision + recall) if (precision + recall) > 0 else 0.0\n",
    "\n",
    "    # Store metrics\n",
    "    metrics[label] = {'precision': precision, 'recall': recall, 'f1_score': f1_score}\n",
    "\n",
    "# Print metrics for each class\n",
    "for label, metric in metrics.items():\n",
    "    print(f\"Class {label} - Precision: {metric['precision']:.4f}, Recall: {metric['recall']:.4f}, F1 Score: {metric['f1_score']:.4f}\")"
   ]
  }
 ],
 "metadata": {
  "kernelspec": {
   "display_name": "DS7200 Spark 3.3",
   "language": "python",
   "name": "ds5110_spark3.3"
  },
  "language_info": {
   "codemirror_mode": {
    "name": "ipython",
    "version": 3
   },
   "file_extension": ".py",
   "mimetype": "text/x-python",
   "name": "python",
   "nbconvert_exporter": "python",
   "pygments_lexer": "ipython3",
   "version": "3.7.12"
  }
 },
 "nbformat": 4,
 "nbformat_minor": 5
}
