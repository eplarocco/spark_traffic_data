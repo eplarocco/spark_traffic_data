{
 "cells": [
  {
   "cell_type": "markdown",
   "metadata": {},
   "source": [
    "# Research Question:\n",
    "### What are the most influential variables on the severity of accidents?"
   ]
  },
  {
   "cell_type": "markdown",
   "metadata": {},
   "source": [
    "Useful Paper:\n",
    "    https://www.sciencedirect.com/science/article/pii/S2590198223000611"
   ]
  },
  {
   "cell_type": "code",
   "execution_count": 1,
   "metadata": {
    "tags": []
   },
   "outputs": [
    {
     "data": {
      "text/html": [
       "<style>pre { white-space: pre !important; }</style>"
      ],
      "text/plain": [
       "<IPython.core.display.HTML object>"
      ]
     },
     "metadata": {},
     "output_type": "display_data"
    }
   ],
   "source": [
    "#Display Spark Output in scrollable format within jupyter notebook\n",
    "from IPython.core.display import HTML\n",
    "display(HTML(\"<style>pre { white-space: pre !important; }</style>\"))"
   ]
  },
  {
   "cell_type": "code",
   "execution_count": 2,
   "metadata": {
    "tags": []
   },
   "outputs": [],
   "source": [
    "# Import Libraries\n",
    "import pandas as pd\n",
    "import numpy as np\n",
    "import os\n",
    "import pyspark\n",
    "from pyspark.sql import SparkSession\n",
    "from pyspark.sql.types import *\n",
    "from pyspark.sql.functions import *\n",
    "from pyspark.ml.feature import VectorAssembler\n",
    "from pyspark.ml.feature import StringIndexer\n",
    "from pyspark.ml.stat import Correlation\n",
    "import seaborn as sns\n",
    "import matplotlib.pyplot as plt\n",
    "import pyspark.sql.functions as F"
   ]
  },
  {
   "cell_type": "markdown",
   "metadata": {},
   "source": [
    "# Load Data"
   ]
  },
  {
   "cell_type": "code",
   "execution_count": 3,
   "metadata": {
    "tags": []
   },
   "outputs": [
    {
     "name": "stderr",
     "output_type": "stream",
     "text": [
      "Setting default log level to \"WARN\".\n",
      "To adjust logging level use sc.setLogLevel(newLevel). For SparkR, use setLogLevel(newLevel).\n",
      "24/10/24 12:29:23 WARN NativeCodeLoader: Unable to load native-hadoop library for your platform... using builtin-java classes where applicable\n"
     ]
    }
   ],
   "source": [
    "#Instantiate Spark Session\n",
    "spark = (SparkSession\n",
    "  .builder\n",
    "  .appName(\"US_Accidents\")\n",
    "  .getOrCreate())"
   ]
  },
  {
   "cell_type": "code",
   "execution_count": 4,
   "metadata": {
    "tags": []
   },
   "outputs": [],
   "source": [
    "#Define Spark Schema\n",
    "schema = StructType([StructField('ID', StringType(), False),\n",
    "                StructField('Source', StringType(), False),\n",
    "                StructField('Severity', IntegerType(), False),\n",
    "                StructField('Start_Time', TimestampType(), False),                  \n",
    "                StructField('End_Time', TimestampType(), False),      \n",
    "                StructField('Start_Lat', DecimalType(), False),\n",
    "                StructField('Start_Lng', DecimalType(), False),\n",
    "                StructField('End_Lat', DecimalType(), True),\n",
    "                StructField('End_Lng', DecimalType(), True),       \n",
    "                StructField('Distance(mi)', DecimalType(), False),       \n",
    "                StructField('Description', StringType(), False),       \n",
    "                StructField('Street', StringType(), True),                 \n",
    "                StructField('City', StringType(), True),       \n",
    "                StructField('County', StringType(), True),       \n",
    "                StructField('State', StringType(), True),       \n",
    "                StructField('Zipcode', StringType(), True),       \n",
    "                StructField('Country', StringType(), True),       \n",
    "                StructField('Timezone', StringType(), True),       \n",
    "                StructField('Airport_Code', StringType(), True),\n",
    "                StructField('Weather_Timestamp', TimestampType(), True),\n",
    "                StructField('Temperature(F)', DecimalType(), True),\n",
    "                StructField('Wind_Chill(F)', DecimalType(), True),\n",
    "                StructField('Humidity(%)', DecimalType(), True),\n",
    "                StructField('Pressure(in)', DecimalType(), True),\n",
    "                StructField('Visibility(mi)', DecimalType(), True),\n",
    "                StructField('Wind_Direction', StringType(), True),\n",
    "                StructField('Wind_Speed(mph)', DecimalType(), True),\n",
    "                StructField('Precipitation(in)', DecimalType(), True),\n",
    "                StructField('Weather_Condition', StringType(), True),\n",
    "                StructField('Amenity', BooleanType(), False),\n",
    "                StructField('Bump', BooleanType(), False),\n",
    "                StructField('Crossing', BooleanType(), False),\n",
    "                StructField('Give_way', BooleanType(), False),\n",
    "                StructField('Junction', BooleanType(), False),\n",
    "                StructField('No_Exit', BooleanType(), False),\n",
    "                StructField('Railway', BooleanType(), False), \n",
    "                StructField('Roundabout', BooleanType(), False),\n",
    "                StructField('Station', BooleanType(), False),\n",
    "                StructField('Stop', BooleanType(), False),\n",
    "                StructField('Traffic_Calming', BooleanType(), False),\n",
    "                StructField('Traffic_Signal', BooleanType(), False),\n",
    "                StructField('Turning_Loop', BooleanType(), False),\n",
    "                StructField('Sunrise_Sunset', StringType(), True),\n",
    "                StructField('Civil_Twilight', StringType(), True),\n",
    "                StructField('Nautical_Twilight', StringType(), True),\n",
    "                StructField('Astronomical_Twilight', StringType(), True)])\n",
    "\n",
    "# Use the DataFrameReader interface to read a CSV file\n",
    "file = \"US_Accidents_March23.csv\"\n",
    "df = spark.read.csv(file, header=True, schema=schema)"
   ]
  },
  {
   "cell_type": "code",
   "execution_count": 5,
   "metadata": {
    "tags": []
   },
   "outputs": [
    {
     "name": "stderr",
     "output_type": "stream",
     "text": [
      "[Stage 0:======================================================>  (22 + 1) / 23]\r"
     ]
    },
    {
     "name": "stdout",
     "output_type": "stream",
     "text": [
      "DataFrame Rows count : 7728394\n",
      "DataFrame Columns count : 46\n"
     ]
    },
    {
     "name": "stderr",
     "output_type": "stream",
     "text": [
      "                                                                                \r"
     ]
    }
   ],
   "source": [
    "# Get row count\n",
    "rows = df.count()\n",
    "print(f\"DataFrame Rows count : {rows}\")\n",
    "\n",
    "# Get columns count\n",
    "cols = len(df.columns)\n",
    "print(f\"DataFrame Columns count : {cols}\")"
   ]
  },
  {
   "cell_type": "code",
   "execution_count": 6,
   "metadata": {
    "tags": []
   },
   "outputs": [],
   "source": [
    "#Summary stats of all columns (takes forever to run)\n",
    "#df.summary().show()"
   ]
  },
  {
   "cell_type": "markdown",
   "metadata": {},
   "source": [
    "# Nulls"
   ]
  },
  {
   "cell_type": "code",
   "execution_count": 7,
   "metadata": {
    "tags": []
   },
   "outputs": [
    {
     "name": "stderr",
     "output_type": "stream",
     "text": [
      "24/10/24 12:29:35 WARN package: Truncated the string representation of a plan since it was too large. This behavior can be adjusted by setting 'spark.sql.debug.maxToStringFields'.\n",
      "[Stage 3:====================================================>    (21 + 2) / 23]\r"
     ]
    },
    {
     "name": "stdout",
     "output_type": "stream",
     "text": [
      "+---+------+--------+----------+--------+---------+---------+-------+-------+------------+-----------+------+----+------+-----+-------+-------+--------+------------+-----------------+--------------+-------------+-----------+------------+--------------+--------------+---------------+-----------------+-----------------+-------+----+--------+--------+--------+-------+-------+----------+-------+----+---------------+--------------+------------+--------------+--------------+-----------------+---------------------+\n",
      "| ID|Source|Severity|Start_Time|End_Time|Start_Lat|Start_Lng|End_Lat|End_Lng|Distance(mi)|Description|Street|City|County|State|Zipcode|Country|Timezone|Airport_Code|Weather_Timestamp|Temperature(F)|Wind_Chill(F)|Humidity(%)|Pressure(in)|Visibility(mi)|Wind_Direction|Wind_Speed(mph)|Precipitation(in)|Weather_Condition|Amenity|Bump|Crossing|Give_way|Junction|No_Exit|Railway|Roundabout|Station|Stop|Traffic_Calming|Traffic_Signal|Turning_Loop|Sunrise_Sunset|Civil_Twilight|Nautical_Twilight|Astronomical_Twilight|\n",
      "+---+------+--------+----------+--------+---------+---------+-------+-------+------------+-----------+------+----+------+-----+-------+-------+--------+------------+-----------------+--------------+-------------+-----------+------------+--------------+--------------+---------------+-----------------+-----------------+-------+----+--------+--------+--------+-------+-------+----------+-------+----+---------------+--------------+------------+--------------+--------------+-----------------+---------------------+\n",
      "|  0|     0|       0|         0|       0|        0|        0|3402762|3402762|           0|          5| 10869| 253|     0|    0|   1915|      0|    7808|       22635|           120228|        163853|      1999019|     174144|      140679|        177098|        175206|         571233|          2203586|           173459|      0|   0|       0|       0|       0|      0|      0|         0|      0|   0|              0|             0|           0|         23246|         23246|            23246|                23246|\n",
      "+---+------+--------+----------+--------+---------+---------+-------+-------+------------+-----------+------+----+------+-----+-------+-------+--------+------------+-----------------+--------------+-------------+-----------+------------+--------------+--------------+---------------+-----------------+-----------------+-------+----+--------+--------+--------+-------+-------+----------+-------+----+---------------+--------------+------------+--------------+--------------+-----------------+---------------------+\n",
      "\n"
     ]
    },
    {
     "name": "stderr",
     "output_type": "stream",
     "text": [
      "                                                                                \r"
     ]
    }
   ],
   "source": [
    "#Null counts (excluding time columns)\n",
    "df.agg(*[\n",
    "    (rows-count(c)).alias(c)    # vertical (column-wise) operations in SQL ignore NULLs\n",
    "    for c in df.columns \n",
    "]).show()"
   ]
  },
  {
   "cell_type": "code",
   "execution_count": 8,
   "metadata": {
    "tags": []
   },
   "outputs": [
    {
     "name": "stderr",
     "output_type": "stream",
     "text": [
      "[Stage 6:=================================================>       (20 + 3) / 23]\r"
     ]
    },
    {
     "name": "stdout",
     "output_type": "stream",
     "text": [
      "+-----------+-------+\n",
      "|   Timezone|  count|\n",
      "+-----------+-------+\n",
      "| US/Eastern|3580167|\n",
      "| US/Pacific|2062984|\n",
      "| US/Central|1645616|\n",
      "|US/Mountain| 431819|\n",
      "+-----------+-------+\n",
      "\n"
     ]
    },
    {
     "name": "stderr",
     "output_type": "stream",
     "text": [
      "                                                                                \r"
     ]
    }
   ],
   "source": [
    "#have to remove the ~8000 rows with null timezone if using date/time in any way\n",
    "df = df.dropna(subset=[\"Timezone\"])\n",
    "df.groupBy('Timezone').count().orderBy(desc(\"count\")).show()"
   ]
  },
  {
   "cell_type": "markdown",
   "metadata": {},
   "source": [
    "# Engineer Weather and Time Columns"
   ]
  },
  {
   "cell_type": "code",
   "execution_count": 9,
   "metadata": {
    "tags": []
   },
   "outputs": [
    {
     "name": "stdout",
     "output_type": "stream",
     "text": [
      "+---+-------+--------+-------------------+-------------------+---------+---------+-------+-------+------------+--------------------+--------------------+------------+----------+-----+----------+-------+----------+------------+-------------------+--------------+-------------+-----------+------------+--------------+--------------+---------------+-----------------+-----------------+-------+-----+--------+--------+--------+-------+-------+----------+-------+-----+---------------+--------------+------------+--------------+--------------+-----------------+---------------------+-----------+-------+\n",
      "| ID| Source|Severity|         Start_Time|           End_Time|Start_Lat|Start_Lng|End_Lat|End_Lng|Distance(mi)|         Description|              Street|        City|    County|State|   Zipcode|Country|  Timezone|Airport_Code|  Weather_Timestamp|Temperature(F)|Wind_Chill(F)|Humidity(%)|Pressure(in)|Visibility(mi)|Wind_Direction|Wind_Speed(mph)|Precipitation(in)|Weather_Condition|Amenity| Bump|Crossing|Give_way|Junction|No_Exit|Railway|Roundabout|Station| Stop|Traffic_Calming|Traffic_Signal|Turning_Loop|Sunrise_Sunset|Civil_Twilight|Nautical_Twilight|Astronomical_Twilight|Day_of_Week|Weekday|\n",
      "+---+-------+--------+-------------------+-------------------+---------+---------+-------+-------+------------+--------------------+--------------------+------------+----------+-----+----------+-------+----------+------------+-------------------+--------------+-------------+-----------+------------+--------------+--------------+---------------+-----------------+-----------------+-------+-----+--------+--------+--------+-------+-------+----------+-------+-----+---------------+--------------+------------+--------------+--------------+-----------------+---------------------+-----------+-------+\n",
      "|A-1|Source2|       3|2016-02-08 05:46:00|2016-02-08 11:00:00|       40|      -84|   null|   null|           0|Right lane blocke...|              I-70 E|      Dayton|Montgomery|   OH|     45424|     US|US/Eastern|        KFFO|2016-02-08 05:58:00|            37|         null|         91|          30|            10|          Calm|           null|                0|       Light Rain|  false|false|   false|   false|   false|  false|  false|     false|  false|false|          false|         false|       false|         Night|         Night|            Night|                Night|          2|      1|\n",
      "|A-2|Source2|       2|2016-02-08 06:07:59|2016-02-08 06:37:59|       40|      -83|   null|   null|           0|Accident on Brice...|            Brice Rd|Reynoldsburg|  Franklin|   OH|43068-3402|     US|US/Eastern|        KCMH|2016-02-08 05:51:00|            38|         null|        100|          30|            10|          Calm|           null|                0|       Light Rain|  false|false|   false|   false|   false|  false|  false|     false|  false|false|          false|         false|       false|         Night|         Night|            Night|                  Day|          2|      1|\n",
      "|A-3|Source2|       2|2016-02-08 06:49:27|2016-02-08 07:19:27|       39|      -84|   null|   null|           0|Accident on OH-32...|      State Route 32|Williamsburg|  Clermont|   OH|     45176|     US|US/Eastern|        KI69|2016-02-08 06:56:00|            36|           33|        100|          30|            10|            SW|              4|             null|         Overcast|  false|false|   false|   false|   false|  false|  false|     false|  false|false|          false|          true|       false|         Night|         Night|              Day|                  Day|          2|      1|\n",
      "|A-4|Source2|       3|2016-02-08 07:23:34|2016-02-08 07:53:34|       40|      -84|   null|   null|           0|Accident on I-75 ...|              I-75 S|      Dayton|Montgomery|   OH|     45417|     US|US/Eastern|        KDAY|2016-02-08 07:38:00|            35|           31|         96|          30|             9|            SW|              5|             null|    Mostly Cloudy|  false|false|   false|   false|   false|  false|  false|     false|  false|false|          false|         false|       false|         Night|           Day|              Day|                  Day|          2|      1|\n",
      "|A-5|Source2|       2|2016-02-08 07:39:07|2016-02-08 08:09:07|       40|      -84|   null|   null|           0|Accident on McEwe...|Miamisburg Center...|      Dayton|Montgomery|   OH|     45459|     US|US/Eastern|        KMGY|2016-02-08 07:53:00|            36|           33|         89|          30|             6|            SW|              4|             null|    Mostly Cloudy|  false|false|   false|   false|   false|  false|  false|     false|  false|false|          false|          true|       false|           Day|           Day|              Day|                  Day|          2|      1|\n",
      "+---+-------+--------+-------------------+-------------------+---------+---------+-------+-------+------------+--------------------+--------------------+------------+----------+-----+----------+-------+----------+------------+-------------------+--------------+-------------+-----------+------------+--------------+--------------+---------------+-----------------+-----------------+-------+-----+--------+--------+--------+-------+-------+----------+-------+-----+---------------+--------------+------------+--------------+--------------+-----------------+---------------------+-----------+-------+\n",
      "only showing top 5 rows\n",
      "\n"
     ]
    }
   ],
   "source": [
    "# Create Day of the Week Column\n",
    "df = df.withColumn('Day_of_Week', dayofweek(col('Start_Time'))) #Ranges from 1 for a Sunday through to 7 for a Saturday\n",
    "\n",
    "# Create Weekday Column (1 = Weekday, 0 = Weekend)\n",
    "df = df.withColumn(\n",
    "    'Weekday',\n",
    "    F.when(F.col(\"Day_of_Week\").between(2, 6), 1)\\\n",
    "    .otherwise(0))\n",
    "\n",
    "df.show(5)"
   ]
  },
  {
   "cell_type": "code",
   "execution_count": 10,
   "metadata": {
    "tags": []
   },
   "outputs": [
    {
     "name": "stdout",
     "output_type": "stream",
     "text": [
      "+---+-------+--------+-------------------+-------------------+---------+---------+-------+-------+------------+--------------------+--------------------+------------+----------+-----+----------+-------+----------+------------+-------------------+--------------+-------------+-----------+------------+--------------+--------------+---------------+-----------------+-----------------+-------+-----+--------+--------+--------+-------+-------+----------+-------+-----+---------------+--------------+------------+--------------+--------------+-----------------+---------------------+-----------+-------+-----+\n",
      "| ID| Source|Severity|         Start_Time|           End_Time|Start_Lat|Start_Lng|End_Lat|End_Lng|Distance(mi)|         Description|              Street|        City|    County|State|   Zipcode|Country|  Timezone|Airport_Code|  Weather_Timestamp|Temperature(F)|Wind_Chill(F)|Humidity(%)|Pressure(in)|Visibility(mi)|Wind_Direction|Wind_Speed(mph)|Precipitation(in)|Weather_Condition|Amenity| Bump|Crossing|Give_way|Junction|No_Exit|Railway|Roundabout|Station| Stop|Traffic_Calming|Traffic_Signal|Turning_Loop|Sunrise_Sunset|Civil_Twilight|Nautical_Twilight|Astronomical_Twilight|Day_of_Week|Weekday|Month|\n",
      "+---+-------+--------+-------------------+-------------------+---------+---------+-------+-------+------------+--------------------+--------------------+------------+----------+-----+----------+-------+----------+------------+-------------------+--------------+-------------+-----------+------------+--------------+--------------+---------------+-----------------+-----------------+-------+-----+--------+--------+--------+-------+-------+----------+-------+-----+---------------+--------------+------------+--------------+--------------+-----------------+---------------------+-----------+-------+-----+\n",
      "|A-1|Source2|       3|2016-02-08 05:46:00|2016-02-08 11:00:00|       40|      -84|   null|   null|           0|Right lane blocke...|              I-70 E|      Dayton|Montgomery|   OH|     45424|     US|US/Eastern|        KFFO|2016-02-08 05:58:00|            37|         null|         91|          30|            10|          Calm|           null|                0|       Light Rain|  false|false|   false|   false|   false|  false|  false|     false|  false|false|          false|         false|       false|         Night|         Night|            Night|                Night|          2|      1|    2|\n",
      "|A-2|Source2|       2|2016-02-08 06:07:59|2016-02-08 06:37:59|       40|      -83|   null|   null|           0|Accident on Brice...|            Brice Rd|Reynoldsburg|  Franklin|   OH|43068-3402|     US|US/Eastern|        KCMH|2016-02-08 05:51:00|            38|         null|        100|          30|            10|          Calm|           null|                0|       Light Rain|  false|false|   false|   false|   false|  false|  false|     false|  false|false|          false|         false|       false|         Night|         Night|            Night|                  Day|          2|      1|    2|\n",
      "|A-3|Source2|       2|2016-02-08 06:49:27|2016-02-08 07:19:27|       39|      -84|   null|   null|           0|Accident on OH-32...|      State Route 32|Williamsburg|  Clermont|   OH|     45176|     US|US/Eastern|        KI69|2016-02-08 06:56:00|            36|           33|        100|          30|            10|            SW|              4|             null|         Overcast|  false|false|   false|   false|   false|  false|  false|     false|  false|false|          false|          true|       false|         Night|         Night|              Day|                  Day|          2|      1|    2|\n",
      "|A-4|Source2|       3|2016-02-08 07:23:34|2016-02-08 07:53:34|       40|      -84|   null|   null|           0|Accident on I-75 ...|              I-75 S|      Dayton|Montgomery|   OH|     45417|     US|US/Eastern|        KDAY|2016-02-08 07:38:00|            35|           31|         96|          30|             9|            SW|              5|             null|    Mostly Cloudy|  false|false|   false|   false|   false|  false|  false|     false|  false|false|          false|         false|       false|         Night|           Day|              Day|                  Day|          2|      1|    2|\n",
      "|A-5|Source2|       2|2016-02-08 07:39:07|2016-02-08 08:09:07|       40|      -84|   null|   null|           0|Accident on McEwe...|Miamisburg Center...|      Dayton|Montgomery|   OH|     45459|     US|US/Eastern|        KMGY|2016-02-08 07:53:00|            36|           33|         89|          30|             6|            SW|              4|             null|    Mostly Cloudy|  false|false|   false|   false|   false|  false|  false|     false|  false|false|          false|          true|       false|           Day|           Day|              Day|                  Day|          2|      1|    2|\n",
      "+---+-------+--------+-------------------+-------------------+---------+---------+-------+-------+------------+--------------------+--------------------+------------+----------+-----+----------+-------+----------+------------+-------------------+--------------+-------------+-----------+------------+--------------+--------------+---------------+-----------------+-----------------+-------+-----+--------+--------+--------+-------+-------+----------+-------+-----+---------------+--------------+------------+--------------+--------------+-----------------+---------------------+-----------+-------+-----+\n",
      "only showing top 5 rows\n",
      "\n"
     ]
    }
   ],
   "source": [
    "# Create Month Column\n",
    "df = df.withColumn('Month', month(df['Start_Time']))\n",
    "df.show(5)"
   ]
  },
  {
   "cell_type": "code",
   "execution_count": 11,
   "metadata": {
    "tags": []
   },
   "outputs": [
    {
     "name": "stdout",
     "output_type": "stream",
     "text": [
      "+---+-------+--------+-------------------+-------------------+---------+---------+-------+-------+------------+--------------------+--------------------+------------+----------+-----+----------+-------+----------+------------+-------------------+--------------+-------------+-----------+------------+--------------+--------------+---------------+-----------------+-----------------+-------+-----+--------+--------+--------+-------+-------+----------+-------+-----+---------------+--------------+------------+--------------+--------------+-----------------+---------------------+-----------+-------+-----+------+\n",
      "| ID| Source|Severity|         Start_Time|           End_Time|Start_Lat|Start_Lng|End_Lat|End_Lng|Distance(mi)|         Description|              Street|        City|    County|State|   Zipcode|Country|  Timezone|Airport_Code|  Weather_Timestamp|Temperature(F)|Wind_Chill(F)|Humidity(%)|Pressure(in)|Visibility(mi)|Wind_Direction|Wind_Speed(mph)|Precipitation(in)|Weather_Condition|Amenity| Bump|Crossing|Give_way|Junction|No_Exit|Railway|Roundabout|Station| Stop|Traffic_Calming|Traffic_Signal|Turning_Loop|Sunrise_Sunset|Civil_Twilight|Nautical_Twilight|Astronomical_Twilight|Day_of_Week|Weekday|Month|Season|\n",
      "+---+-------+--------+-------------------+-------------------+---------+---------+-------+-------+------------+--------------------+--------------------+------------+----------+-----+----------+-------+----------+------------+-------------------+--------------+-------------+-----------+------------+--------------+--------------+---------------+-----------------+-----------------+-------+-----+--------+--------+--------+-------+-------+----------+-------+-----+---------------+--------------+------------+--------------+--------------+-----------------+---------------------+-----------+-------+-----+------+\n",
      "|A-1|Source2|       3|2016-02-08 05:46:00|2016-02-08 11:00:00|       40|      -84|   null|   null|           0|Right lane blocke...|              I-70 E|      Dayton|Montgomery|   OH|     45424|     US|US/Eastern|        KFFO|2016-02-08 05:58:00|            37|         null|         91|          30|            10|          Calm|           null|                0|       Light Rain|  false|false|   false|   false|   false|  false|  false|     false|  false|false|          false|         false|       false|         Night|         Night|            Night|                Night|          2|      1|    2|Winter|\n",
      "|A-2|Source2|       2|2016-02-08 06:07:59|2016-02-08 06:37:59|       40|      -83|   null|   null|           0|Accident on Brice...|            Brice Rd|Reynoldsburg|  Franklin|   OH|43068-3402|     US|US/Eastern|        KCMH|2016-02-08 05:51:00|            38|         null|        100|          30|            10|          Calm|           null|                0|       Light Rain|  false|false|   false|   false|   false|  false|  false|     false|  false|false|          false|         false|       false|         Night|         Night|            Night|                  Day|          2|      1|    2|Winter|\n",
      "|A-3|Source2|       2|2016-02-08 06:49:27|2016-02-08 07:19:27|       39|      -84|   null|   null|           0|Accident on OH-32...|      State Route 32|Williamsburg|  Clermont|   OH|     45176|     US|US/Eastern|        KI69|2016-02-08 06:56:00|            36|           33|        100|          30|            10|            SW|              4|             null|         Overcast|  false|false|   false|   false|   false|  false|  false|     false|  false|false|          false|          true|       false|         Night|         Night|              Day|                  Day|          2|      1|    2|Winter|\n",
      "|A-4|Source2|       3|2016-02-08 07:23:34|2016-02-08 07:53:34|       40|      -84|   null|   null|           0|Accident on I-75 ...|              I-75 S|      Dayton|Montgomery|   OH|     45417|     US|US/Eastern|        KDAY|2016-02-08 07:38:00|            35|           31|         96|          30|             9|            SW|              5|             null|    Mostly Cloudy|  false|false|   false|   false|   false|  false|  false|     false|  false|false|          false|         false|       false|         Night|           Day|              Day|                  Day|          2|      1|    2|Winter|\n",
      "|A-5|Source2|       2|2016-02-08 07:39:07|2016-02-08 08:09:07|       40|      -84|   null|   null|           0|Accident on McEwe...|Miamisburg Center...|      Dayton|Montgomery|   OH|     45459|     US|US/Eastern|        KMGY|2016-02-08 07:53:00|            36|           33|         89|          30|             6|            SW|              4|             null|    Mostly Cloudy|  false|false|   false|   false|   false|  false|  false|     false|  false|false|          false|          true|       false|           Day|           Day|              Day|                  Day|          2|      1|    2|Winter|\n",
      "+---+-------+--------+-------------------+-------------------+---------+---------+-------+-------+------------+--------------------+--------------------+------------+----------+-----+----------+-------+----------+------------+-------------------+--------------+-------------+-----------+------------+--------------+--------------+---------------+-----------------+-----------------+-------+-----+--------+--------+--------+-------+-------+----------+-------+-----+---------------+--------------+------------+--------------+--------------+-----------------+---------------------+-----------+-------+-----+------+\n",
      "only showing top 5 rows\n",
      "\n"
     ]
    }
   ],
   "source": [
    "# Create Season Column\n",
    "df = df.withColumn(\n",
    "    'Season',\n",
    "    F.when(F.col(\"Month\").between(3, 5), 'Spring')\\\n",
    "    .when(F.col(\"Month\").between(6, 8), 'Summer')\\\n",
    "    .when(F.col(\"Month\").between(9, 11), 'Fall')\\\n",
    "    .otherwise('Winter'))\n",
    "df.show(5)"
   ]
  },
  {
   "cell_type": "code",
   "execution_count": 12,
   "metadata": {
    "tags": []
   },
   "outputs": [
    {
     "name": "stdout",
     "output_type": "stream",
     "text": [
      "+---+-------+--------+-------------------+-------------------+---------+---------+-------+-------+------------+--------------------+--------------------+------------+----------+-----+----------+-------+----------+------------+-------------------+--------------+-------------+-----------+------------+--------------+--------------+---------------+-----------------+-----------------+-------+-----+--------+--------+--------+-------+-------+----------+-------+-----+---------------+--------------+------------+--------------+--------------+-----------------+---------------------+-----------+-------+-----+------+---------------+\n",
      "| ID| Source|Severity|         Start_Time|           End_Time|Start_Lat|Start_Lng|End_Lat|End_Lng|Distance(mi)|         Description|              Street|        City|    County|State|   Zipcode|Country|  Timezone|Airport_Code|  Weather_Timestamp|Temperature(F)|Wind_Chill(F)|Humidity(%)|Pressure(in)|Visibility(mi)|Wind_Direction|Wind_Speed(mph)|Precipitation(in)|Weather_Condition|Amenity| Bump|Crossing|Give_way|Junction|No_Exit|Railway|Roundabout|Station| Stop|Traffic_Calming|Traffic_Signal|Turning_Loop|Sunrise_Sunset|Civil_Twilight|Nautical_Twilight|Astronomical_Twilight|Day_of_Week|Weekday|Month|Season|Start_Time_Time|\n",
      "+---+-------+--------+-------------------+-------------------+---------+---------+-------+-------+------------+--------------------+--------------------+------------+----------+-----+----------+-------+----------+------------+-------------------+--------------+-------------+-----------+------------+--------------+--------------+---------------+-----------------+-----------------+-------+-----+--------+--------+--------+-------+-------+----------+-------+-----+---------------+--------------+------------+--------------+--------------+-----------------+---------------------+-----------+-------+-----+------+---------------+\n",
      "|A-1|Source2|       3|2016-02-08 05:46:00|2016-02-08 11:00:00|       40|      -84|   null|   null|           0|Right lane blocke...|              I-70 E|      Dayton|Montgomery|   OH|     45424|     US|US/Eastern|        KFFO|2016-02-08 05:58:00|            37|         null|         91|          30|            10|          Calm|           null|                0|       Light Rain|  false|false|   false|   false|   false|  false|  false|     false|  false|false|          false|         false|       false|         Night|         Night|            Night|                Night|          2|      1|    2|Winter|       05:46:00|\n",
      "|A-2|Source2|       2|2016-02-08 06:07:59|2016-02-08 06:37:59|       40|      -83|   null|   null|           0|Accident on Brice...|            Brice Rd|Reynoldsburg|  Franklin|   OH|43068-3402|     US|US/Eastern|        KCMH|2016-02-08 05:51:00|            38|         null|        100|          30|            10|          Calm|           null|                0|       Light Rain|  false|false|   false|   false|   false|  false|  false|     false|  false|false|          false|         false|       false|         Night|         Night|            Night|                  Day|          2|      1|    2|Winter|       06:07:59|\n",
      "|A-3|Source2|       2|2016-02-08 06:49:27|2016-02-08 07:19:27|       39|      -84|   null|   null|           0|Accident on OH-32...|      State Route 32|Williamsburg|  Clermont|   OH|     45176|     US|US/Eastern|        KI69|2016-02-08 06:56:00|            36|           33|        100|          30|            10|            SW|              4|             null|         Overcast|  false|false|   false|   false|   false|  false|  false|     false|  false|false|          false|          true|       false|         Night|         Night|              Day|                  Day|          2|      1|    2|Winter|       06:49:27|\n",
      "|A-4|Source2|       3|2016-02-08 07:23:34|2016-02-08 07:53:34|       40|      -84|   null|   null|           0|Accident on I-75 ...|              I-75 S|      Dayton|Montgomery|   OH|     45417|     US|US/Eastern|        KDAY|2016-02-08 07:38:00|            35|           31|         96|          30|             9|            SW|              5|             null|    Mostly Cloudy|  false|false|   false|   false|   false|  false|  false|     false|  false|false|          false|         false|       false|         Night|           Day|              Day|                  Day|          2|      1|    2|Winter|       07:23:34|\n",
      "|A-5|Source2|       2|2016-02-08 07:39:07|2016-02-08 08:09:07|       40|      -84|   null|   null|           0|Accident on McEwe...|Miamisburg Center...|      Dayton|Montgomery|   OH|     45459|     US|US/Eastern|        KMGY|2016-02-08 07:53:00|            36|           33|         89|          30|             6|            SW|              4|             null|    Mostly Cloudy|  false|false|   false|   false|   false|  false|  false|     false|  false|false|          false|          true|       false|           Day|           Day|              Day|                  Day|          2|      1|    2|Winter|       07:39:07|\n",
      "+---+-------+--------+-------------------+-------------------+---------+---------+-------+-------+------------+--------------------+--------------------+------------+----------+-----+----------+-------+----------+------------+-------------------+--------------+-------------+-----------+------------+--------------+--------------+---------------+-----------------+-----------------+-------+-----+--------+--------+--------+-------+-------+----------+-------+-----+---------------+--------------+------------+--------------+--------------+-----------------+---------------------+-----------+-------+-----+------+---------------+\n",
      "only showing top 5 rows\n",
      "\n",
      "+---+-------+--------+-------------------+-------------------+---------+---------+-------+-------+------------+--------------------+--------------------+------------+----------+-----+----------+-------+----------+------------+-------------------+--------------+-------------+-----------+------------+--------------+--------------+---------------+-----------------+-----------------+-------+-----+--------+--------+--------+-------+-------+----------+-------+-----+---------------+--------------+------------+--------------+--------------+-----------------+---------------------+-----------+-------+-----+------+---------------+---------+\n",
      "| ID| Source|Severity|         Start_Time|           End_Time|Start_Lat|Start_Lng|End_Lat|End_Lng|Distance(mi)|         Description|              Street|        City|    County|State|   Zipcode|Country|  Timezone|Airport_Code|  Weather_Timestamp|Temperature(F)|Wind_Chill(F)|Humidity(%)|Pressure(in)|Visibility(mi)|Wind_Direction|Wind_Speed(mph)|Precipitation(in)|Weather_Condition|Amenity| Bump|Crossing|Give_way|Junction|No_Exit|Railway|Roundabout|Station| Stop|Traffic_Calming|Traffic_Signal|Turning_Loop|Sunrise_Sunset|Civil_Twilight|Nautical_Twilight|Astronomical_Twilight|Day_of_Week|Weekday|Month|Season|Start_Time_Time|Rush Hour|\n",
      "+---+-------+--------+-------------------+-------------------+---------+---------+-------+-------+------------+--------------------+--------------------+------------+----------+-----+----------+-------+----------+------------+-------------------+--------------+-------------+-----------+------------+--------------+--------------+---------------+-----------------+-----------------+-------+-----+--------+--------+--------+-------+-------+----------+-------+-----+---------------+--------------+------------+--------------+--------------+-----------------+---------------------+-----------+-------+-----+------+---------------+---------+\n",
      "|A-1|Source2|       3|2016-02-08 05:46:00|2016-02-08 11:00:00|       40|      -84|   null|   null|           0|Right lane blocke...|              I-70 E|      Dayton|Montgomery|   OH|     45424|     US|US/Eastern|        KFFO|2016-02-08 05:58:00|            37|         null|         91|          30|            10|          Calm|           null|                0|       Light Rain|  false|false|   false|   false|   false|  false|  false|     false|  false|false|          false|         false|       false|         Night|         Night|            Night|                Night|          2|      1|    2|Winter|       05:46:00|        0|\n",
      "|A-2|Source2|       2|2016-02-08 06:07:59|2016-02-08 06:37:59|       40|      -83|   null|   null|           0|Accident on Brice...|            Brice Rd|Reynoldsburg|  Franklin|   OH|43068-3402|     US|US/Eastern|        KCMH|2016-02-08 05:51:00|            38|         null|        100|          30|            10|          Calm|           null|                0|       Light Rain|  false|false|   false|   false|   false|  false|  false|     false|  false|false|          false|         false|       false|         Night|         Night|            Night|                  Day|          2|      1|    2|Winter|       06:07:59|        1|\n",
      "|A-3|Source2|       2|2016-02-08 06:49:27|2016-02-08 07:19:27|       39|      -84|   null|   null|           0|Accident on OH-32...|      State Route 32|Williamsburg|  Clermont|   OH|     45176|     US|US/Eastern|        KI69|2016-02-08 06:56:00|            36|           33|        100|          30|            10|            SW|              4|             null|         Overcast|  false|false|   false|   false|   false|  false|  false|     false|  false|false|          false|          true|       false|         Night|         Night|              Day|                  Day|          2|      1|    2|Winter|       06:49:27|        1|\n",
      "|A-4|Source2|       3|2016-02-08 07:23:34|2016-02-08 07:53:34|       40|      -84|   null|   null|           0|Accident on I-75 ...|              I-75 S|      Dayton|Montgomery|   OH|     45417|     US|US/Eastern|        KDAY|2016-02-08 07:38:00|            35|           31|         96|          30|             9|            SW|              5|             null|    Mostly Cloudy|  false|false|   false|   false|   false|  false|  false|     false|  false|false|          false|         false|       false|         Night|           Day|              Day|                  Day|          2|      1|    2|Winter|       07:23:34|        1|\n",
      "|A-5|Source2|       2|2016-02-08 07:39:07|2016-02-08 08:09:07|       40|      -84|   null|   null|           0|Accident on McEwe...|Miamisburg Center...|      Dayton|Montgomery|   OH|     45459|     US|US/Eastern|        KMGY|2016-02-08 07:53:00|            36|           33|         89|          30|             6|            SW|              4|             null|    Mostly Cloudy|  false|false|   false|   false|   false|  false|  false|     false|  false|false|          false|          true|       false|           Day|           Day|              Day|                  Day|          2|      1|    2|Winter|       07:39:07|        1|\n",
      "+---+-------+--------+-------------------+-------------------+---------+---------+-------+-------+------------+--------------------+--------------------+------------+----------+-----+----------+-------+----------+------------+-------------------+--------------+-------------+-----------+------------+--------------+--------------+---------------+-----------------+-----------------+-------+-----+--------+--------+--------+-------+-------+----------+-------+-----+---------------+--------------+------------+--------------+--------------+-----------------+---------------------+-----------+-------+-----+------+---------------+---------+\n",
      "only showing top 5 rows\n",
      "\n"
     ]
    }
   ],
   "source": [
    "# Create Rush Hour Column\n",
    "# defined as 6-9am and 4-7pm (https://www.goldlaw.com/how-deadly-is-rush-hour/)\n",
    "df = df.withColumn('Start_Time_Time', date_format('Start_Time', 'HH:mm:ss'))\n",
    "df.show(5)\n",
    "df = df.withColumn(\n",
    "    'Rush Hour',\n",
    "    F.when(F.col('Start_Time_Time').between('06:00:00', '09:00:00'), 1)\\\n",
    "    .when(F.col('Start_Time_Time').between('16:00:00', '19:00:00'), 1)\\\n",
    "    .otherwise(0))\n",
    "df.show(5)"
   ]
  },
  {
   "cell_type": "code",
   "execution_count": 13,
   "metadata": {
    "tags": []
   },
   "outputs": [
    {
     "name": "stdout",
     "output_type": "stream",
     "text": [
      "+---+-------+--------+-------------------+-------------------+---------+---------+-------+-------+------------+--------------------+--------------------+------------+----------+-----+----------+-------+----------+------------+-------------------+--------------+-------------+-----------+------------+--------------+--------------+---------------+-----------------+-----------------+-------+-----+--------+--------+--------+-------+-------+----------+-------+-----+---------------+--------------+------------+--------------+--------------+-----------------+---------------------+-----------+-------+-----+------+---------------+---------+---------------+-------+\n",
      "| ID| Source|Severity|         Start_Time|           End_Time|Start_Lat|Start_Lng|End_Lat|End_Lng|Distance(mi)|         Description|              Street|        City|    County|State|   Zipcode|Country|  Timezone|Airport_Code|  Weather_Timestamp|Temperature(F)|Wind_Chill(F)|Humidity(%)|Pressure(in)|Visibility(mi)|Wind_Direction|Wind_Speed(mph)|Precipitation(in)|Weather_Condition|Amenity| Bump|Crossing|Give_way|Junction|No_Exit|Railway|Roundabout|Station| Stop|Traffic_Calming|Traffic_Signal|Turning_Loop|Sunrise_Sunset|Civil_Twilight|Nautical_Twilight|Astronomical_Twilight|Day_of_Week|Weekday|Month|Season|Start_Time_Time|Rush Hour|Start_Date_Date|Holiday|\n",
      "+---+-------+--------+-------------------+-------------------+---------+---------+-------+-------+------------+--------------------+--------------------+------------+----------+-----+----------+-------+----------+------------+-------------------+--------------+-------------+-----------+------------+--------------+--------------+---------------+-----------------+-----------------+-------+-----+--------+--------+--------+-------+-------+----------+-------+-----+---------------+--------------+------------+--------------+--------------+-----------------+---------------------+-----------+-------+-----+------+---------------+---------+---------------+-------+\n",
      "|A-1|Source2|       3|2016-02-08 05:46:00|2016-02-08 11:00:00|       40|      -84|   null|   null|           0|Right lane blocke...|              I-70 E|      Dayton|Montgomery|   OH|     45424|     US|US/Eastern|        KFFO|2016-02-08 05:58:00|            37|         null|         91|          30|            10|          Calm|           null|                0|       Light Rain|  false|false|   false|   false|   false|  false|  false|     false|  false|false|          false|         false|       false|         Night|         Night|            Night|                Night|          2|      1|    2|Winter|       05:46:00|        0|     2016-02-08|      0|\n",
      "|A-2|Source2|       2|2016-02-08 06:07:59|2016-02-08 06:37:59|       40|      -83|   null|   null|           0|Accident on Brice...|            Brice Rd|Reynoldsburg|  Franklin|   OH|43068-3402|     US|US/Eastern|        KCMH|2016-02-08 05:51:00|            38|         null|        100|          30|            10|          Calm|           null|                0|       Light Rain|  false|false|   false|   false|   false|  false|  false|     false|  false|false|          false|         false|       false|         Night|         Night|            Night|                  Day|          2|      1|    2|Winter|       06:07:59|        1|     2016-02-08|      0|\n",
      "|A-3|Source2|       2|2016-02-08 06:49:27|2016-02-08 07:19:27|       39|      -84|   null|   null|           0|Accident on OH-32...|      State Route 32|Williamsburg|  Clermont|   OH|     45176|     US|US/Eastern|        KI69|2016-02-08 06:56:00|            36|           33|        100|          30|            10|            SW|              4|             null|         Overcast|  false|false|   false|   false|   false|  false|  false|     false|  false|false|          false|          true|       false|         Night|         Night|              Day|                  Day|          2|      1|    2|Winter|       06:49:27|        1|     2016-02-08|      0|\n",
      "|A-4|Source2|       3|2016-02-08 07:23:34|2016-02-08 07:53:34|       40|      -84|   null|   null|           0|Accident on I-75 ...|              I-75 S|      Dayton|Montgomery|   OH|     45417|     US|US/Eastern|        KDAY|2016-02-08 07:38:00|            35|           31|         96|          30|             9|            SW|              5|             null|    Mostly Cloudy|  false|false|   false|   false|   false|  false|  false|     false|  false|false|          false|         false|       false|         Night|           Day|              Day|                  Day|          2|      1|    2|Winter|       07:23:34|        1|     2016-02-08|      0|\n",
      "|A-5|Source2|       2|2016-02-08 07:39:07|2016-02-08 08:09:07|       40|      -84|   null|   null|           0|Accident on McEwe...|Miamisburg Center...|      Dayton|Montgomery|   OH|     45459|     US|US/Eastern|        KMGY|2016-02-08 07:53:00|            36|           33|         89|          30|             6|            SW|              4|             null|    Mostly Cloudy|  false|false|   false|   false|   false|  false|  false|     false|  false|false|          false|          true|       false|           Day|           Day|              Day|                  Day|          2|      1|    2|Winter|       07:39:07|        1|     2016-02-08|      0|\n",
      "+---+-------+--------+-------------------+-------------------+---------+---------+-------+-------+------------+--------------------+--------------------+------------+----------+-----+----------+-------+----------+------------+-------------------+--------------+-------------+-----------+------------+--------------+--------------+---------------+-----------------+-----------------+-------+-----+--------+--------+--------+-------+-------+----------+-------+-----+---------------+--------------+------------+--------------+--------------+-----------------+---------------------+-----------+-------+-----+------+---------------+---------+---------------+-------+\n",
      "only showing top 5 rows\n",
      "\n"
     ]
    }
   ],
   "source": [
    "# Create Date Column from Start Date\n",
    "df = df.withColumn('Start_Date_Date', date_format('Start_Time', 'yyyy-MM-dd'))\n",
    "\n",
    "#Create list of holiday dates for span of data (2016-2023)\n",
    "#!pip3 install holidays\n",
    "import holidays\n",
    "from datetime import datetime, timezone\n",
    "h = []\n",
    "for ptr in holidays.UnitedStates(years = [2016,2017,2018,2019,2020,2021,2022,2023]).items(): \n",
    "    h.append(ptr[0].strftime(\"%Y-%m-%d\"))\n",
    "\n",
    "# Create Holiday column    \n",
    "df = df.withColumn(\n",
    "    'Holiday',\n",
    "    F.when(array_contains(lit(h), F.col(\"Start_Date_Date\")), 1)\\\n",
    "    .otherwise(0))\n",
    "df.show(5) "
   ]
  },
  {
   "cell_type": "code",
   "execution_count": 14,
   "metadata": {},
   "outputs": [
    {
     "name": "stdout",
     "output_type": "stream",
     "text": [
      "+---+-------+--------+-------------------+-------------------+---------+---------+-------+-------+------------+--------------------+--------------------+------------+----------+-----+----------+-------+----------+------------+-------------------+--------------+-------------+-----------+------------+--------------+--------------+---------------+-----------------+-----------------+-------+-----+--------+--------+--------+-------+-------+----------+-------+-----+---------------+--------------+------------+--------------+--------------+-----------------+---------------------+-----------+-------+-----+------+---------------+---------+---------------+-------+----+----+\n",
      "| ID| Source|Severity|         Start_Time|           End_Time|Start_Lat|Start_Lng|End_Lat|End_Lng|Distance(mi)|         Description|              Street|        City|    County|State|   Zipcode|Country|  Timezone|Airport_Code|  Weather_Timestamp|Temperature(F)|Wind_Chill(F)|Humidity(%)|Pressure(in)|Visibility(mi)|Wind_Direction|Wind_Speed(mph)|Precipitation(in)|Weather_Condition|Amenity| Bump|Crossing|Give_way|Junction|No_Exit|Railway|Roundabout|Station| Stop|Traffic_Calming|Traffic_Signal|Turning_Loop|Sunrise_Sunset|Civil_Twilight|Nautical_Twilight|Astronomical_Twilight|Day_of_Week|Weekday|Month|Season|Start_Time_Time|Rush Hour|Start_Date_Date|Holiday|Rain|Snow|\n",
      "+---+-------+--------+-------------------+-------------------+---------+---------+-------+-------+------------+--------------------+--------------------+------------+----------+-----+----------+-------+----------+------------+-------------------+--------------+-------------+-----------+------------+--------------+--------------+---------------+-----------------+-----------------+-------+-----+--------+--------+--------+-------+-------+----------+-------+-----+---------------+--------------+------------+--------------+--------------+-----------------+---------------------+-----------+-------+-----+------+---------------+---------+---------------+-------+----+----+\n",
      "|A-1|Source2|       3|2016-02-08 05:46:00|2016-02-08 11:00:00|       40|      -84|   null|   null|           0|Right lane blocke...|              I-70 E|      Dayton|Montgomery|   OH|     45424|     US|US/Eastern|        KFFO|2016-02-08 05:58:00|            37|         null|         91|          30|            10|          Calm|           null|                0|       Light Rain|  false|false|   false|   false|   false|  false|  false|     false|  false|false|          false|         false|       false|         Night|         Night|            Night|                Night|          2|      1|    2|Winter|       05:46:00|        0|     2016-02-08|      0|   1|   0|\n",
      "|A-2|Source2|       2|2016-02-08 06:07:59|2016-02-08 06:37:59|       40|      -83|   null|   null|           0|Accident on Brice...|            Brice Rd|Reynoldsburg|  Franklin|   OH|43068-3402|     US|US/Eastern|        KCMH|2016-02-08 05:51:00|            38|         null|        100|          30|            10|          Calm|           null|                0|       Light Rain|  false|false|   false|   false|   false|  false|  false|     false|  false|false|          false|         false|       false|         Night|         Night|            Night|                  Day|          2|      1|    2|Winter|       06:07:59|        1|     2016-02-08|      0|   1|   0|\n",
      "|A-3|Source2|       2|2016-02-08 06:49:27|2016-02-08 07:19:27|       39|      -84|   null|   null|           0|Accident on OH-32...|      State Route 32|Williamsburg|  Clermont|   OH|     45176|     US|US/Eastern|        KI69|2016-02-08 06:56:00|            36|           33|        100|          30|            10|            SW|              4|             null|         Overcast|  false|false|   false|   false|   false|  false|  false|     false|  false|false|          false|          true|       false|         Night|         Night|              Day|                  Day|          2|      1|    2|Winter|       06:49:27|        1|     2016-02-08|      0|   0|   0|\n",
      "|A-4|Source2|       3|2016-02-08 07:23:34|2016-02-08 07:53:34|       40|      -84|   null|   null|           0|Accident on I-75 ...|              I-75 S|      Dayton|Montgomery|   OH|     45417|     US|US/Eastern|        KDAY|2016-02-08 07:38:00|            35|           31|         96|          30|             9|            SW|              5|             null|    Mostly Cloudy|  false|false|   false|   false|   false|  false|  false|     false|  false|false|          false|         false|       false|         Night|           Day|              Day|                  Day|          2|      1|    2|Winter|       07:23:34|        1|     2016-02-08|      0|   0|   0|\n",
      "|A-5|Source2|       2|2016-02-08 07:39:07|2016-02-08 08:09:07|       40|      -84|   null|   null|           0|Accident on McEwe...|Miamisburg Center...|      Dayton|Montgomery|   OH|     45459|     US|US/Eastern|        KMGY|2016-02-08 07:53:00|            36|           33|         89|          30|             6|            SW|              4|             null|    Mostly Cloudy|  false|false|   false|   false|   false|  false|  false|     false|  false|false|          false|          true|       false|           Day|           Day|              Day|                  Day|          2|      1|    2|Winter|       07:39:07|        1|     2016-02-08|      0|   0|   0|\n",
      "+---+-------+--------+-------------------+-------------------+---------+---------+-------+-------+------------+--------------------+--------------------+------------+----------+-----+----------+-------+----------+------------+-------------------+--------------+-------------+-----------+------------+--------------+--------------+---------------+-----------------+-----------------+-------+-----+--------+--------+--------+-------+-------+----------+-------+-----+---------------+--------------+------------+--------------+--------------+-----------------+---------------------+-----------+-------+-----+------+---------------+---------+---------------+-------+----+----+\n",
      "only showing top 5 rows\n",
      "\n"
     ]
    }
   ],
   "source": [
    "# Create columns for rain and snow from weather_condition column\n",
    "\n",
    "rain_values = ['Rain', 'Drizzle', 'Mist', 'N/A Precipitation']\n",
    "snow_values = ['Ice', 'Snow', 'Hail', 'Sleet', 'Wintry Mix', 'Freezing Rain', 'Freezing Drizzle']\n",
    "\n",
    "condition = F.when(F.col('Weather_Condition').rlike(\"|\".join(rain_values)), 1).otherwise(0)\n",
    "df = df.withColumn(\"Rain\", condition)\n",
    "\n",
    "condition = F.when(F.col('Weather_Condition').rlike(\"|\".join(snow_values)), 1).otherwise(0)\n",
    "df = df.withColumn(\"Snow\", condition)\n",
    "\n",
    "df.show(5)"
   ]
  },
  {
   "cell_type": "markdown",
   "metadata": {},
   "source": [
    "# Encoding Categorical Variables"
   ]
  },
  {
   "cell_type": "code",
   "execution_count": 15,
   "metadata": {},
   "outputs": [
    {
     "name": "stderr",
     "output_type": "stream",
     "text": [
      "                                                                                \r"
     ]
    },
    {
     "name": "stdout",
     "output_type": "stream",
     "text": [
      "+----+-------+--------+-------------------+-------------------+---------+---------+-------+-------+------------+--------------------+--------------------+------------+----------+-----+----------+-------+----------+------------+-------------------+--------------+-------------+-----------+------------+--------------+--------------+---------------+-----------------+-----------------+-------+-----+--------+--------+--------+-------+-------+----------+-------+-----+---------------+--------------+------------+--------------+--------------+-----------------+---------------------+-----------+-------+-----+------+---------------+---------+---------------+-------+----+----+-----------+-------------+\n",
      "|  ID| Source|Severity|         Start_Time|           End_Time|Start_Lat|Start_Lng|End_Lat|End_Lng|Distance(mi)|         Description|              Street|        City|    County|State|   Zipcode|Country|  Timezone|Airport_Code|  Weather_Timestamp|Temperature(F)|Wind_Chill(F)|Humidity(%)|Pressure(in)|Visibility(mi)|Wind_Direction|Wind_Speed(mph)|Precipitation(in)|Weather_Condition|Amenity| Bump|Crossing|Give_way|Junction|No_Exit|Railway|Roundabout|Station| Stop|Traffic_Calming|Traffic_Signal|Turning_Loop|Sunrise_Sunset|Civil_Twilight|Nautical_Twilight|Astronomical_Twilight|Day_of_Week|Weekday|Month|Season|Start_Time_Time|Rush Hour|Start_Date_Date|Holiday|Rain|Snow|SeasonIndex|    SeasonVec|\n",
      "+----+-------+--------+-------------------+-------------------+---------+---------+-------+-------+------------+--------------------+--------------------+------------+----------+-----+----------+-------+----------+------------+-------------------+--------------+-------------+-----------+------------+--------------+--------------+---------------+-----------------+-----------------+-------+-----+--------+--------+--------+-------+-------+----------+-------+-----+---------------+--------------+------------+--------------+--------------+-----------------+---------------------+-----------+-------+-----+------+---------------+---------+---------------+-------+----+----+-----------+-------------+\n",
      "| A-1|Source2|       3|2016-02-08 05:46:00|2016-02-08 11:00:00|       40|      -84|   null|   null|           0|Right lane blocke...|              I-70 E|      Dayton|Montgomery|   OH|     45424|     US|US/Eastern|        KFFO|2016-02-08 05:58:00|            37|         null|         91|          30|            10|          Calm|           null|                0|       Light Rain|  false|false|   false|   false|   false|  false|  false|     false|  false|false|          false|         false|       false|         Night|         Night|            Night|                Night|          2|      1|    2|Winter|       05:46:00|        0|     2016-02-08|      0|   1|   0|        0.0|(3,[0],[1.0])|\n",
      "| A-2|Source2|       2|2016-02-08 06:07:59|2016-02-08 06:37:59|       40|      -83|   null|   null|           0|Accident on Brice...|            Brice Rd|Reynoldsburg|  Franklin|   OH|43068-3402|     US|US/Eastern|        KCMH|2016-02-08 05:51:00|            38|         null|        100|          30|            10|          Calm|           null|                0|       Light Rain|  false|false|   false|   false|   false|  false|  false|     false|  false|false|          false|         false|       false|         Night|         Night|            Night|                  Day|          2|      1|    2|Winter|       06:07:59|        1|     2016-02-08|      0|   1|   0|        0.0|(3,[0],[1.0])|\n",
      "| A-3|Source2|       2|2016-02-08 06:49:27|2016-02-08 07:19:27|       39|      -84|   null|   null|           0|Accident on OH-32...|      State Route 32|Williamsburg|  Clermont|   OH|     45176|     US|US/Eastern|        KI69|2016-02-08 06:56:00|            36|           33|        100|          30|            10|            SW|              4|             null|         Overcast|  false|false|   false|   false|   false|  false|  false|     false|  false|false|          false|          true|       false|         Night|         Night|              Day|                  Day|          2|      1|    2|Winter|       06:49:27|        1|     2016-02-08|      0|   0|   0|        0.0|(3,[0],[1.0])|\n",
      "| A-4|Source2|       3|2016-02-08 07:23:34|2016-02-08 07:53:34|       40|      -84|   null|   null|           0|Accident on I-75 ...|              I-75 S|      Dayton|Montgomery|   OH|     45417|     US|US/Eastern|        KDAY|2016-02-08 07:38:00|            35|           31|         96|          30|             9|            SW|              5|             null|    Mostly Cloudy|  false|false|   false|   false|   false|  false|  false|     false|  false|false|          false|         false|       false|         Night|           Day|              Day|                  Day|          2|      1|    2|Winter|       07:23:34|        1|     2016-02-08|      0|   0|   0|        0.0|(3,[0],[1.0])|\n",
      "| A-5|Source2|       2|2016-02-08 07:39:07|2016-02-08 08:09:07|       40|      -84|   null|   null|           0|Accident on McEwe...|Miamisburg Center...|      Dayton|Montgomery|   OH|     45459|     US|US/Eastern|        KMGY|2016-02-08 07:53:00|            36|           33|         89|          30|             6|            SW|              4|             null|    Mostly Cloudy|  false|false|   false|   false|   false|  false|  false|     false|  false|false|          false|          true|       false|           Day|           Day|              Day|                  Day|          2|      1|    2|Winter|       07:39:07|        1|     2016-02-08|      0|   0|   0|        0.0|(3,[0],[1.0])|\n",
      "| A-6|Source2|       3|2016-02-08 07:44:26|2016-02-08 08:14:26|       40|      -83|   null|   null|           0|Accident on I-270...|      Westerville Rd| Westerville|  Franklin|   OH|     43081|     US|US/Eastern|        KCMH|2016-02-08 07:51:00|            38|           36|         97|          30|             7|           SSW|              4|                0|       Light Rain|  false|false|   false|   false|   false|  false|  false|     false|  false|false|          false|         false|       false|           Day|           Day|              Day|                  Day|          2|      1|    2|Winter|       07:44:26|        1|     2016-02-08|      0|   1|   0|        0.0|(3,[0],[1.0])|\n",
      "| A-7|Source2|       2|2016-02-08 07:59:35|2016-02-08 08:29:35|       40|      -84|   null|   null|           0|Accident on Oakri...|      N Woodward Ave|      Dayton|Montgomery|   OH|45417-2476|     US|US/Eastern|        KDAY|2016-02-08 07:56:00|            34|           31|        100|          30|             7|           WSW|              4|             null|         Overcast|  false|false|   false|   false|   false|  false|  false|     false|  false|false|          false|         false|       false|           Day|           Day|              Day|                  Day|          2|      1|    2|Winter|       07:59:35|        1|     2016-02-08|      0|   0|   0|        0.0|(3,[0],[1.0])|\n",
      "| A-8|Source2|       3|2016-02-08 07:59:58|2016-02-08 08:29:58|       40|      -84|   null|   null|           0|Accident on I-75 ...|           N Main St|      Dayton|Montgomery|   OH|     45405|     US|US/Eastern|        KDAY|2016-02-08 07:56:00|            34|           31|        100|          30|             7|           WSW|              4|             null|         Overcast|  false|false|   false|   false|   false|  false|  false|     false|  false|false|          false|         false|       false|           Day|           Day|              Day|                  Day|          2|      1|    2|Winter|       07:59:58|        1|     2016-02-08|      0|   0|   0|        0.0|(3,[0],[1.0])|\n",
      "| A-9|Source2|       2|2016-02-08 08:00:40|2016-02-08 08:30:40|       40|      -84|   null|   null|           0|Accident on Notre...|      Notre Dame Ave|      Dayton|Montgomery|   OH|45404-1923|     US|US/Eastern|        KFFO|2016-02-08 07:58:00|            33|         null|         99|          30|             5|            SW|              1|             null|    Mostly Cloudy|  false|false|   false|   false|   false|  false|  false|     false|  false|false|          false|         false|       false|           Day|           Day|              Day|                  Day|          2|      1|    2|Winter|       08:00:40|        1|     2016-02-08|      0|   0|   0|        0.0|(3,[0],[1.0])|\n",
      "|A-10|Source2|       3|2016-02-08 08:10:04|2016-02-08 08:40:04|       40|      -83|   null|   null|           0|Right hand should...|      Westerville Rd| Westerville|  Franklin|   OH|     43081|     US|US/Eastern|        KCMH|2016-02-08 08:28:00|            37|           34|        100|          30|             3|           SSW|              5|                0|       Light Rain|  false|false|   false|   false|   false|  false|  false|     false|  false|false|          false|         false|       false|           Day|           Day|              Day|                  Day|          2|      1|    2|Winter|       08:10:04|        1|     2016-02-08|      0|   1|   0|        0.0|(3,[0],[1.0])|\n",
      "|A-11|Source2|       3|2016-02-08 08:14:42|2016-02-08 08:44:42|       40|      -83|   null|   null|           0|Accident on I-270...|         Outerbelt S|    Columbus|  Franklin|   OH|     43228|     US|US/Eastern|        KTZR|2016-02-08 07:50:00|            36|           31|         93|          30|             5|           WNW|              6|             null|             Rain|  false|false|    true|   false|    true|  false|  false|     false|  false|false|          false|         false|       false|           Day|           Day|              Day|                  Day|          2|      1|    2|Winter|       08:14:42|        1|     2016-02-08|      0|   1|   0|        0.0|(3,[0],[1.0])|\n",
      "|A-12|Source2|       3|2016-02-08 08:21:27|2016-02-08 08:51:27|       40|      -83|   null|   null|           0|One lane blocked ...|              I-70 E|Reynoldsburg|  Franklin|   OH|     43068|     US|US/Eastern|        KCMH|2016-02-08 08:28:00|            37|           34|        100|          30|             3|           SSW|              5|                0|       Light Rain|  false|false|   false|   false|   false|  false|  false|     false|  false|false|          false|         false|       false|           Day|           Day|              Day|                  Day|          2|      1|    2|Winter|       08:21:27|        1|     2016-02-08|      0|   1|   0|        0.0|(3,[0],[1.0])|\n",
      "|A-13|Source2|       2|2016-02-08 08:36:34|2016-02-08 09:06:34|       40|      -84|   null|   null|           0|Accident on Rever...|      Watervliet Ave|      Dayton|Montgomery|   OH|45420-1863|     US|US/Eastern|        KFFO|2016-02-08 08:28:00|            34|         null|        100|          30|             3|            SW|              2|             null|         Overcast|  false|false|   false|   false|   false|  false|  false|     false|  false|false|          false|         false|       false|           Day|           Day|              Day|                  Day|          2|      1|    2|Winter|       08:36:34|        1|     2016-02-08|      0|   0|   0|        0.0|(3,[0],[1.0])|\n",
      "|A-14|Source2|       2|2016-02-08 08:37:07|2016-02-08 09:07:07|       40|      -84|   null|   null|           0|Accident on Salem...|           Salem Ave|      Dayton|Montgomery|   OH|45406-2708|     US|US/Eastern|        KDAY|2016-02-08 08:56:00|            36|           31|         89|          30|            10|            NW|              6|             null|    Mostly Cloudy|  false|false|   false|   false|   false|  false|  false|     false|  false|false|          false|          true|       false|           Day|           Day|              Day|                  Day|          2|      1|    2|Winter|       08:37:07|        1|     2016-02-08|      0|   0|   0|        0.0|(3,[0],[1.0])|\n",
      "|A-15|Source2|       2|2016-02-08 08:39:43|2016-02-08 09:09:43|       40|      -83|   null|   null|           0|Accident on OH-16...|          E Broad St|    Columbus|  Franklin|   OH|43213-1006|     US|US/Eastern|        KCMH|2016-02-08 08:28:00|            37|           34|        100|          30|             3|           SSW|              5|                0|       Light Rain|  false|false|   false|   false|   false|  false|  false|     false|  false|false|          false|          true|       false|           Day|           Day|              Day|                  Day|          2|      1|    2|Winter|       08:39:43|        1|     2016-02-08|      0|   1|   0|        0.0|(3,[0],[1.0])|\n",
      "|A-16|Source2|       2|2016-02-08 08:43:20|2016-02-08 09:13:20|       40|      -84|   null|   null|           0|Accident on Wayne...|         Glencoe Ave|      Dayton|Montgomery|   OH|45410-1721|     US|US/Eastern|        KFFO|2016-02-08 08:28:00|            34|         null|        100|          30|             3|            SW|              2|             null|         Overcast|  false|false|   false|   false|   false|  false|  false|     false|  false|false|          false|         false|       false|           Day|           Day|              Day|                  Day|          2|      1|    2|Winter|       08:43:20|        1|     2016-02-08|      0|   0|   0|        0.0|(3,[0],[1.0])|\n",
      "|A-17|Source2|       2|2016-02-08 08:53:17|2016-02-08 09:23:17|       40|      -84|   null|   null|           0|Accident on James...|S James H McGee Blvd|      Dayton|Montgomery|   OH|     45402|     US|US/Eastern|        KFFO|2016-02-08 08:58:00|            36|         null|         99|          30|             7|           WSW|              2|             null|    Mostly Cloudy|  false|false|   false|   false|   false|  false|  false|     false|  false|false|          false|         false|       false|           Day|           Day|              Day|                  Day|          2|      1|    2|Winter|       08:53:17|        1|     2016-02-08|      0|   0|   0|        0.0|(3,[0],[1.0])|\n",
      "|A-18|Source2|       2|2016-02-08 09:24:37|2016-02-08 09:54:37|       40|      -84|   null|   null|           0|Accident on Delph...|         Delphos Ave|      Dayton|Montgomery|   OH|45417-1727|     US|US/Eastern|        KDAY|2016-02-08 08:56:00|            36|           31|         89|          30|            10|            NW|              6|             null|    Mostly Cloudy|  false|false|   false|   false|   false|  false|  false|     false|  false|false|          false|         false|       false|           Day|           Day|              Day|                  Day|          2|      1|    2|Winter|       09:24:37|        0|     2016-02-08|      0|   0|   0|        0.0|(3,[0],[1.0])|\n",
      "|A-19|Source2|       2|2016-02-08 09:25:17|2016-02-08 09:55:17|       40|      -84|   null|   null|           0|Accident on Stewa...|          Rubicon St|      Dayton|Montgomery|   OH|45409-2659|     US|US/Eastern|        KFFO|2016-02-08 09:38:00|            37|           32|         93|          30|            10|           WSW|              7|             null|         Overcast|  false|false|    true|   false|   false|  false|  false|     false|  false|false|          false|          true|       false|           Day|           Day|              Day|                  Day|          2|      1|    2|Winter|       09:25:17|        0|     2016-02-08|      0|   0|   0|        0.0|(3,[0],[1.0])|\n",
      "|A-20|Source2|       2|2016-02-08 09:35:35|2016-02-08 10:05:35|       40|      -84|   null|   null|           0|Accident on Hillc...|     W Hillcrest Ave|      Dayton|Montgomery|   OH|45406-2640|     US|US/Eastern|        KDAY|2016-02-08 09:56:00|            36|           30|         89|          30|            10|          West|              7|             null|    Mostly Cloudy|  false|false|   false|   false|   false|  false|  false|     false|  false|false|          false|         false|       false|           Day|           Day|              Day|                  Day|          2|      1|    2|Winter|       09:35:35|        0|     2016-02-08|      0|   0|   0|        0.0|(3,[0],[1.0])|\n",
      "+----+-------+--------+-------------------+-------------------+---------+---------+-------+-------+------------+--------------------+--------------------+------------+----------+-----+----------+-------+----------+------------+-------------------+--------------+-------------+-----------+------------+--------------+--------------+---------------+-----------------+-----------------+-------+-----+--------+--------+--------+-------+-------+----------+-------+-----+---------------+--------------+------------+--------------+--------------+-----------------+---------------------+-----------+-------+-----+------+---------------+---------+---------------+-------+----+----+-----------+-------------+\n",
      "only showing top 20 rows\n",
      "\n"
     ]
    }
   ],
   "source": [
    "# Encode Season\n",
    "from pyspark.ml.feature import StringIndexer, OneHotEncoder\n",
    "\n",
    "# Create a StringIndexer\n",
    "indexer = StringIndexer(inputCol=\"Season\", outputCol=\"SeasonIndex\")\n",
    "indexed = indexer.fit(df).transform(df)\n",
    "\n",
    "# Create a OneHotEncoder\n",
    "encoder = OneHotEncoder(inputCols=[\"SeasonIndex\"], outputCols=[\"SeasonVec\"])\n",
    "df = encoder.fit(indexed).transform(indexed)\n",
    "\n",
    "# Show the result\n",
    "df.show()"
   ]
  },
  {
   "cell_type": "code",
   "execution_count": 16,
   "metadata": {
    "tags": []
   },
   "outputs": [
    {
     "name": "stdout",
     "output_type": "stream",
     "text": [
      "+----+-------+--------+-------------------+-------------------+---------+---------+-------+-------+------------+--------------------+--------------------+------------+----------+-----+----------+-------+----------+------------+-------------------+--------------+-------------+-----------+------------+--------------+--------------+---------------+-----------------+-----------------+-------+-----+--------+--------+--------+-------+-------+----------+-------+-----+---------------+--------------+------------+--------------+--------------+-----------------+---------------------+-----------+-------+-----+------+---------------+---------+---------------+-------+----+----+-----------+-------------+\n",
      "|  ID| Source|Severity|         Start_Time|           End_Time|Start_Lat|Start_Lng|End_Lat|End_Lng|Distance(mi)|         Description|              Street|        City|    County|State|   Zipcode|Country|  Timezone|Airport_Code|  Weather_Timestamp|Temperature(F)|Wind_Chill(F)|Humidity(%)|Pressure(in)|Visibility(mi)|Wind_Direction|Wind_Speed(mph)|Precipitation(in)|Weather_Condition|Amenity| Bump|Crossing|Give_way|Junction|No_Exit|Railway|Roundabout|Station| Stop|Traffic_Calming|Traffic_Signal|Turning_Loop|Sunrise_Sunset|Civil_Twilight|Nautical_Twilight|Astronomical_Twilight|Day_of_Week|Weekday|Month|Season|Start_Time_Time|Rush Hour|Start_Date_Date|Holiday|Rain|Snow|SeasonIndex|    SeasonVec|\n",
      "+----+-------+--------+-------------------+-------------------+---------+---------+-------+-------+------------+--------------------+--------------------+------------+----------+-----+----------+-------+----------+------------+-------------------+--------------+-------------+-----------+------------+--------------+--------------+---------------+-----------------+-----------------+-------+-----+--------+--------+--------+-------+-------+----------+-------+-----+---------------+--------------+------------+--------------+--------------+-----------------+---------------------+-----------+-------+-----+------+---------------+---------+---------------+-------+----+----+-----------+-------------+\n",
      "| A-1|Source2|       3|2016-02-08 05:46:00|2016-02-08 11:00:00|       40|      -84|   null|   null|           0|Right lane blocke...|              I-70 E|      Dayton|Montgomery|   OH|     45424|     US|US/Eastern|        KFFO|2016-02-08 05:58:00|            37|         null|         91|          30|            10|          Calm|           null|                0|       Light Rain|  false|false|   false|   false|   false|  false|  false|     false|  false|false|          false|         false|       false|         Night|         Night|            Night|                Night|          2|      1|    2|Winter|       05:46:00|        0|     2016-02-08|      0|   1|   0|        0.0|(3,[0],[1.0])|\n",
      "| A-2|Source2|       2|2016-02-08 06:07:59|2016-02-08 06:37:59|       40|      -83|   null|   null|           0|Accident on Brice...|            Brice Rd|Reynoldsburg|  Franklin|   OH|43068-3402|     US|US/Eastern|        KCMH|2016-02-08 05:51:00|            38|         null|        100|          30|            10|          Calm|           null|                0|       Light Rain|  false|false|   false|   false|   false|  false|  false|     false|  false|false|          false|         false|       false|         Night|         Night|            Night|                  Day|          2|      1|    2|Winter|       06:07:59|        1|     2016-02-08|      0|   1|   0|        0.0|(3,[0],[1.0])|\n",
      "| A-3|Source2|       2|2016-02-08 06:49:27|2016-02-08 07:19:27|       39|      -84|   null|   null|           0|Accident on OH-32...|      State Route 32|Williamsburg|  Clermont|   OH|     45176|     US|US/Eastern|        KI69|2016-02-08 06:56:00|            36|           33|        100|          30|            10|            SW|              4|             null|         Overcast|  false|false|   false|   false|   false|  false|  false|     false|  false|false|          false|          true|       false|         Night|         Night|              Day|                  Day|          2|      1|    2|Winter|       06:49:27|        1|     2016-02-08|      0|   0|   0|        0.0|(3,[0],[1.0])|\n",
      "| A-4|Source2|       3|2016-02-08 07:23:34|2016-02-08 07:53:34|       40|      -84|   null|   null|           0|Accident on I-75 ...|              I-75 S|      Dayton|Montgomery|   OH|     45417|     US|US/Eastern|        KDAY|2016-02-08 07:38:00|            35|           31|         96|          30|             9|            SW|              5|             null|    Mostly Cloudy|  false|false|   false|   false|   false|  false|  false|     false|  false|false|          false|         false|       false|         Night|           Day|              Day|                  Day|          2|      1|    2|Winter|       07:23:34|        1|     2016-02-08|      0|   0|   0|        0.0|(3,[0],[1.0])|\n",
      "| A-5|Source2|       2|2016-02-08 07:39:07|2016-02-08 08:09:07|       40|      -84|   null|   null|           0|Accident on McEwe...|Miamisburg Center...|      Dayton|Montgomery|   OH|     45459|     US|US/Eastern|        KMGY|2016-02-08 07:53:00|            36|           33|         89|          30|             6|            SW|              4|             null|    Mostly Cloudy|  false|false|   false|   false|   false|  false|  false|     false|  false|false|          false|          true|       false|           Day|           Day|              Day|                  Day|          2|      1|    2|Winter|       07:39:07|        1|     2016-02-08|      0|   0|   0|        0.0|(3,[0],[1.0])|\n",
      "| A-6|Source2|       3|2016-02-08 07:44:26|2016-02-08 08:14:26|       40|      -83|   null|   null|           0|Accident on I-270...|      Westerville Rd| Westerville|  Franklin|   OH|     43081|     US|US/Eastern|        KCMH|2016-02-08 07:51:00|            38|           36|         97|          30|             7|           SSW|              4|                0|       Light Rain|  false|false|   false|   false|   false|  false|  false|     false|  false|false|          false|         false|       false|           Day|           Day|              Day|                  Day|          2|      1|    2|Winter|       07:44:26|        1|     2016-02-08|      0|   1|   0|        0.0|(3,[0],[1.0])|\n",
      "| A-7|Source2|       2|2016-02-08 07:59:35|2016-02-08 08:29:35|       40|      -84|   null|   null|           0|Accident on Oakri...|      N Woodward Ave|      Dayton|Montgomery|   OH|45417-2476|     US|US/Eastern|        KDAY|2016-02-08 07:56:00|            34|           31|        100|          30|             7|           WSW|              4|             null|         Overcast|  false|false|   false|   false|   false|  false|  false|     false|  false|false|          false|         false|       false|           Day|           Day|              Day|                  Day|          2|      1|    2|Winter|       07:59:35|        1|     2016-02-08|      0|   0|   0|        0.0|(3,[0],[1.0])|\n",
      "| A-8|Source2|       3|2016-02-08 07:59:58|2016-02-08 08:29:58|       40|      -84|   null|   null|           0|Accident on I-75 ...|           N Main St|      Dayton|Montgomery|   OH|     45405|     US|US/Eastern|        KDAY|2016-02-08 07:56:00|            34|           31|        100|          30|             7|           WSW|              4|             null|         Overcast|  false|false|   false|   false|   false|  false|  false|     false|  false|false|          false|         false|       false|           Day|           Day|              Day|                  Day|          2|      1|    2|Winter|       07:59:58|        1|     2016-02-08|      0|   0|   0|        0.0|(3,[0],[1.0])|\n",
      "| A-9|Source2|       2|2016-02-08 08:00:40|2016-02-08 08:30:40|       40|      -84|   null|   null|           0|Accident on Notre...|      Notre Dame Ave|      Dayton|Montgomery|   OH|45404-1923|     US|US/Eastern|        KFFO|2016-02-08 07:58:00|            33|         null|         99|          30|             5|            SW|              1|             null|    Mostly Cloudy|  false|false|   false|   false|   false|  false|  false|     false|  false|false|          false|         false|       false|           Day|           Day|              Day|                  Day|          2|      1|    2|Winter|       08:00:40|        1|     2016-02-08|      0|   0|   0|        0.0|(3,[0],[1.0])|\n",
      "|A-10|Source2|       3|2016-02-08 08:10:04|2016-02-08 08:40:04|       40|      -83|   null|   null|           0|Right hand should...|      Westerville Rd| Westerville|  Franklin|   OH|     43081|     US|US/Eastern|        KCMH|2016-02-08 08:28:00|            37|           34|        100|          30|             3|           SSW|              5|                0|       Light Rain|  false|false|   false|   false|   false|  false|  false|     false|  false|false|          false|         false|       false|           Day|           Day|              Day|                  Day|          2|      1|    2|Winter|       08:10:04|        1|     2016-02-08|      0|   1|   0|        0.0|(3,[0],[1.0])|\n",
      "|A-11|Source2|       3|2016-02-08 08:14:42|2016-02-08 08:44:42|       40|      -83|   null|   null|           0|Accident on I-270...|         Outerbelt S|    Columbus|  Franklin|   OH|     43228|     US|US/Eastern|        KTZR|2016-02-08 07:50:00|            36|           31|         93|          30|             5|           WNW|              6|             null|             Rain|  false|false|    true|   false|    true|  false|  false|     false|  false|false|          false|         false|       false|           Day|           Day|              Day|                  Day|          2|      1|    2|Winter|       08:14:42|        1|     2016-02-08|      0|   1|   0|        0.0|(3,[0],[1.0])|\n",
      "|A-12|Source2|       3|2016-02-08 08:21:27|2016-02-08 08:51:27|       40|      -83|   null|   null|           0|One lane blocked ...|              I-70 E|Reynoldsburg|  Franklin|   OH|     43068|     US|US/Eastern|        KCMH|2016-02-08 08:28:00|            37|           34|        100|          30|             3|           SSW|              5|                0|       Light Rain|  false|false|   false|   false|   false|  false|  false|     false|  false|false|          false|         false|       false|           Day|           Day|              Day|                  Day|          2|      1|    2|Winter|       08:21:27|        1|     2016-02-08|      0|   1|   0|        0.0|(3,[0],[1.0])|\n",
      "|A-13|Source2|       2|2016-02-08 08:36:34|2016-02-08 09:06:34|       40|      -84|   null|   null|           0|Accident on Rever...|      Watervliet Ave|      Dayton|Montgomery|   OH|45420-1863|     US|US/Eastern|        KFFO|2016-02-08 08:28:00|            34|         null|        100|          30|             3|            SW|              2|             null|         Overcast|  false|false|   false|   false|   false|  false|  false|     false|  false|false|          false|         false|       false|           Day|           Day|              Day|                  Day|          2|      1|    2|Winter|       08:36:34|        1|     2016-02-08|      0|   0|   0|        0.0|(3,[0],[1.0])|\n",
      "|A-14|Source2|       2|2016-02-08 08:37:07|2016-02-08 09:07:07|       40|      -84|   null|   null|           0|Accident on Salem...|           Salem Ave|      Dayton|Montgomery|   OH|45406-2708|     US|US/Eastern|        KDAY|2016-02-08 08:56:00|            36|           31|         89|          30|            10|            NW|              6|             null|    Mostly Cloudy|  false|false|   false|   false|   false|  false|  false|     false|  false|false|          false|          true|       false|           Day|           Day|              Day|                  Day|          2|      1|    2|Winter|       08:37:07|        1|     2016-02-08|      0|   0|   0|        0.0|(3,[0],[1.0])|\n",
      "|A-15|Source2|       2|2016-02-08 08:39:43|2016-02-08 09:09:43|       40|      -83|   null|   null|           0|Accident on OH-16...|          E Broad St|    Columbus|  Franklin|   OH|43213-1006|     US|US/Eastern|        KCMH|2016-02-08 08:28:00|            37|           34|        100|          30|             3|           SSW|              5|                0|       Light Rain|  false|false|   false|   false|   false|  false|  false|     false|  false|false|          false|          true|       false|           Day|           Day|              Day|                  Day|          2|      1|    2|Winter|       08:39:43|        1|     2016-02-08|      0|   1|   0|        0.0|(3,[0],[1.0])|\n",
      "|A-16|Source2|       2|2016-02-08 08:43:20|2016-02-08 09:13:20|       40|      -84|   null|   null|           0|Accident on Wayne...|         Glencoe Ave|      Dayton|Montgomery|   OH|45410-1721|     US|US/Eastern|        KFFO|2016-02-08 08:28:00|            34|         null|        100|          30|             3|            SW|              2|             null|         Overcast|  false|false|   false|   false|   false|  false|  false|     false|  false|false|          false|         false|       false|           Day|           Day|              Day|                  Day|          2|      1|    2|Winter|       08:43:20|        1|     2016-02-08|      0|   0|   0|        0.0|(3,[0],[1.0])|\n",
      "|A-17|Source2|       2|2016-02-08 08:53:17|2016-02-08 09:23:17|       40|      -84|   null|   null|           0|Accident on James...|S James H McGee Blvd|      Dayton|Montgomery|   OH|     45402|     US|US/Eastern|        KFFO|2016-02-08 08:58:00|            36|         null|         99|          30|             7|           WSW|              2|             null|    Mostly Cloudy|  false|false|   false|   false|   false|  false|  false|     false|  false|false|          false|         false|       false|           Day|           Day|              Day|                  Day|          2|      1|    2|Winter|       08:53:17|        1|     2016-02-08|      0|   0|   0|        0.0|(3,[0],[1.0])|\n",
      "|A-18|Source2|       2|2016-02-08 09:24:37|2016-02-08 09:54:37|       40|      -84|   null|   null|           0|Accident on Delph...|         Delphos Ave|      Dayton|Montgomery|   OH|45417-1727|     US|US/Eastern|        KDAY|2016-02-08 08:56:00|            36|           31|         89|          30|            10|            NW|              6|             null|    Mostly Cloudy|  false|false|   false|   false|   false|  false|  false|     false|  false|false|          false|         false|       false|           Day|           Day|              Day|                  Day|          2|      1|    2|Winter|       09:24:37|        0|     2016-02-08|      0|   0|   0|        0.0|(3,[0],[1.0])|\n",
      "|A-19|Source2|       2|2016-02-08 09:25:17|2016-02-08 09:55:17|       40|      -84|   null|   null|           0|Accident on Stewa...|          Rubicon St|      Dayton|Montgomery|   OH|45409-2659|     US|US/Eastern|        KFFO|2016-02-08 09:38:00|            37|           32|         93|          30|            10|           WSW|              7|             null|         Overcast|  false|false|    true|   false|   false|  false|  false|     false|  false|false|          false|          true|       false|           Day|           Day|              Day|                  Day|          2|      1|    2|Winter|       09:25:17|        0|     2016-02-08|      0|   0|   0|        0.0|(3,[0],[1.0])|\n",
      "|A-20|Source2|       2|2016-02-08 09:35:35|2016-02-08 10:05:35|       40|      -84|   null|   null|           0|Accident on Hillc...|     W Hillcrest Ave|      Dayton|Montgomery|   OH|45406-2640|     US|US/Eastern|        KDAY|2016-02-08 09:56:00|            36|           30|         89|          30|            10|          West|              7|             null|    Mostly Cloudy|  false|false|   false|   false|   false|  false|  false|     false|  false|false|          false|         false|       false|           Day|           Day|              Day|                  Day|          2|      1|    2|Winter|       09:35:35|        0|     2016-02-08|      0|   0|   0|        0.0|(3,[0],[1.0])|\n",
      "+----+-------+--------+-------------------+-------------------+---------+---------+-------+-------+------------+--------------------+--------------------+------------+----------+-----+----------+-------+----------+------------+-------------------+--------------+-------------+-----------+------------+--------------+--------------+---------------+-----------------+-----------------+-------+-----+--------+--------+--------+-------+-------+----------+-------+-----+---------------+--------------+------------+--------------+--------------+-----------------+---------------------+-----------+-------+-----+------+---------------+---------+---------------+-------+----+----+-----------+-------------+\n",
      "only showing top 20 rows\n",
      "\n"
     ]
    }
   ],
   "source": [
    "df.show()"
   ]
  },
  {
   "cell_type": "code",
   "execution_count": 17,
   "metadata": {
    "tags": []
   },
   "outputs": [
    {
     "name": "stderr",
     "output_type": "stream",
     "text": [
      "                                                                                \r"
     ]
    }
   ],
   "source": [
    "#Encode Day/Night to 1/0\n",
    "for x in enumerate(['Sunrise_Sunset'\n",
    "               , 'Civil_Twilight'\n",
    "               , 'Nautical_Twilight'\n",
    "               , 'Astronomical_Twilight']):\n",
    "    # Create a StringIndexer instance\n",
    "    indexer = StringIndexer(inputCol=x[1], outputCol=f\"{x[1]}Index\").setHandleInvalid(\"keep\")\n",
    "\n",
    "    # Fit the indexer to the data\n",
    "    model = indexer.fit(df)\n",
    "\n",
    "    # Transform the data to include the indexed column\n",
    "    df = model.transform(df)"
   ]
  },
  {
   "cell_type": "code",
   "execution_count": 18,
   "metadata": {
    "tags": []
   },
   "outputs": [
    {
     "name": "stdout",
     "output_type": "stream",
     "text": [
      "+----+-------+--------+-------------------+-------------------+---------+---------+-------+-------+------------+--------------------+--------------------+------------+----------+-----+----------+-------+----------+------------+-------------------+--------------+-------------+-----------+------------+--------------+--------------+---------------+-----------------+-----------------+-------+-----+--------+--------+--------+-------+-------+----------+-------+-----+---------------+--------------+------------+--------------+--------------+-----------------+---------------------+-----------+-------+-----+------+---------------+---------+---------------+-------+----+----+-----------+-------------+-------------------+-------------------+----------------------+--------------------------+\n",
      "|  ID| Source|Severity|         Start_Time|           End_Time|Start_Lat|Start_Lng|End_Lat|End_Lng|Distance(mi)|         Description|              Street|        City|    County|State|   Zipcode|Country|  Timezone|Airport_Code|  Weather_Timestamp|Temperature(F)|Wind_Chill(F)|Humidity(%)|Pressure(in)|Visibility(mi)|Wind_Direction|Wind_Speed(mph)|Precipitation(in)|Weather_Condition|Amenity| Bump|Crossing|Give_way|Junction|No_Exit|Railway|Roundabout|Station| Stop|Traffic_Calming|Traffic_Signal|Turning_Loop|Sunrise_Sunset|Civil_Twilight|Nautical_Twilight|Astronomical_Twilight|Day_of_Week|Weekday|Month|Season|Start_Time_Time|Rush Hour|Start_Date_Date|Holiday|Rain|Snow|SeasonIndex|    SeasonVec|Sunrise_SunsetIndex|Civil_TwilightIndex|Nautical_TwilightIndex|Astronomical_TwilightIndex|\n",
      "+----+-------+--------+-------------------+-------------------+---------+---------+-------+-------+------------+--------------------+--------------------+------------+----------+-----+----------+-------+----------+------------+-------------------+--------------+-------------+-----------+------------+--------------+--------------+---------------+-----------------+-----------------+-------+-----+--------+--------+--------+-------+-------+----------+-------+-----+---------------+--------------+------------+--------------+--------------+-----------------+---------------------+-----------+-------+-----+------+---------------+---------+---------------+-------+----+----+-----------+-------------+-------------------+-------------------+----------------------+--------------------------+\n",
      "| A-1|Source2|       3|2016-02-08 05:46:00|2016-02-08 11:00:00|       40|      -84|   null|   null|           0|Right lane blocke...|              I-70 E|      Dayton|Montgomery|   OH|     45424|     US|US/Eastern|        KFFO|2016-02-08 05:58:00|            37|         null|         91|          30|            10|          Calm|           null|                0|       Light Rain|  false|false|   false|   false|   false|  false|  false|     false|  false|false|          false|         false|       false|         Night|         Night|            Night|                Night|          2|      1|    2|Winter|       05:46:00|        0|     2016-02-08|      0|   1|   0|        0.0|(3,[0],[1.0])|                  1|                  1|                     1|                         1|\n",
      "| A-2|Source2|       2|2016-02-08 06:07:59|2016-02-08 06:37:59|       40|      -83|   null|   null|           0|Accident on Brice...|            Brice Rd|Reynoldsburg|  Franklin|   OH|43068-3402|     US|US/Eastern|        KCMH|2016-02-08 05:51:00|            38|         null|        100|          30|            10|          Calm|           null|                0|       Light Rain|  false|false|   false|   false|   false|  false|  false|     false|  false|false|          false|         false|       false|         Night|         Night|            Night|                  Day|          2|      1|    2|Winter|       06:07:59|        1|     2016-02-08|      0|   1|   0|        0.0|(3,[0],[1.0])|                  1|                  1|                     1|                         0|\n",
      "| A-3|Source2|       2|2016-02-08 06:49:27|2016-02-08 07:19:27|       39|      -84|   null|   null|           0|Accident on OH-32...|      State Route 32|Williamsburg|  Clermont|   OH|     45176|     US|US/Eastern|        KI69|2016-02-08 06:56:00|            36|           33|        100|          30|            10|            SW|              4|             null|         Overcast|  false|false|   false|   false|   false|  false|  false|     false|  false|false|          false|          true|       false|         Night|         Night|              Day|                  Day|          2|      1|    2|Winter|       06:49:27|        1|     2016-02-08|      0|   0|   0|        0.0|(3,[0],[1.0])|                  1|                  1|                     0|                         0|\n",
      "| A-4|Source2|       3|2016-02-08 07:23:34|2016-02-08 07:53:34|       40|      -84|   null|   null|           0|Accident on I-75 ...|              I-75 S|      Dayton|Montgomery|   OH|     45417|     US|US/Eastern|        KDAY|2016-02-08 07:38:00|            35|           31|         96|          30|             9|            SW|              5|             null|    Mostly Cloudy|  false|false|   false|   false|   false|  false|  false|     false|  false|false|          false|         false|       false|         Night|           Day|              Day|                  Day|          2|      1|    2|Winter|       07:23:34|        1|     2016-02-08|      0|   0|   0|        0.0|(3,[0],[1.0])|                  1|                  0|                     0|                         0|\n",
      "| A-5|Source2|       2|2016-02-08 07:39:07|2016-02-08 08:09:07|       40|      -84|   null|   null|           0|Accident on McEwe...|Miamisburg Center...|      Dayton|Montgomery|   OH|     45459|     US|US/Eastern|        KMGY|2016-02-08 07:53:00|            36|           33|         89|          30|             6|            SW|              4|             null|    Mostly Cloudy|  false|false|   false|   false|   false|  false|  false|     false|  false|false|          false|          true|       false|           Day|           Day|              Day|                  Day|          2|      1|    2|Winter|       07:39:07|        1|     2016-02-08|      0|   0|   0|        0.0|(3,[0],[1.0])|                  0|                  0|                     0|                         0|\n",
      "| A-6|Source2|       3|2016-02-08 07:44:26|2016-02-08 08:14:26|       40|      -83|   null|   null|           0|Accident on I-270...|      Westerville Rd| Westerville|  Franklin|   OH|     43081|     US|US/Eastern|        KCMH|2016-02-08 07:51:00|            38|           36|         97|          30|             7|           SSW|              4|                0|       Light Rain|  false|false|   false|   false|   false|  false|  false|     false|  false|false|          false|         false|       false|           Day|           Day|              Day|                  Day|          2|      1|    2|Winter|       07:44:26|        1|     2016-02-08|      0|   1|   0|        0.0|(3,[0],[1.0])|                  0|                  0|                     0|                         0|\n",
      "| A-7|Source2|       2|2016-02-08 07:59:35|2016-02-08 08:29:35|       40|      -84|   null|   null|           0|Accident on Oakri...|      N Woodward Ave|      Dayton|Montgomery|   OH|45417-2476|     US|US/Eastern|        KDAY|2016-02-08 07:56:00|            34|           31|        100|          30|             7|           WSW|              4|             null|         Overcast|  false|false|   false|   false|   false|  false|  false|     false|  false|false|          false|         false|       false|           Day|           Day|              Day|                  Day|          2|      1|    2|Winter|       07:59:35|        1|     2016-02-08|      0|   0|   0|        0.0|(3,[0],[1.0])|                  0|                  0|                     0|                         0|\n",
      "| A-8|Source2|       3|2016-02-08 07:59:58|2016-02-08 08:29:58|       40|      -84|   null|   null|           0|Accident on I-75 ...|           N Main St|      Dayton|Montgomery|   OH|     45405|     US|US/Eastern|        KDAY|2016-02-08 07:56:00|            34|           31|        100|          30|             7|           WSW|              4|             null|         Overcast|  false|false|   false|   false|   false|  false|  false|     false|  false|false|          false|         false|       false|           Day|           Day|              Day|                  Day|          2|      1|    2|Winter|       07:59:58|        1|     2016-02-08|      0|   0|   0|        0.0|(3,[0],[1.0])|                  0|                  0|                     0|                         0|\n",
      "| A-9|Source2|       2|2016-02-08 08:00:40|2016-02-08 08:30:40|       40|      -84|   null|   null|           0|Accident on Notre...|      Notre Dame Ave|      Dayton|Montgomery|   OH|45404-1923|     US|US/Eastern|        KFFO|2016-02-08 07:58:00|            33|         null|         99|          30|             5|            SW|              1|             null|    Mostly Cloudy|  false|false|   false|   false|   false|  false|  false|     false|  false|false|          false|         false|       false|           Day|           Day|              Day|                  Day|          2|      1|    2|Winter|       08:00:40|        1|     2016-02-08|      0|   0|   0|        0.0|(3,[0],[1.0])|                  0|                  0|                     0|                         0|\n",
      "|A-10|Source2|       3|2016-02-08 08:10:04|2016-02-08 08:40:04|       40|      -83|   null|   null|           0|Right hand should...|      Westerville Rd| Westerville|  Franklin|   OH|     43081|     US|US/Eastern|        KCMH|2016-02-08 08:28:00|            37|           34|        100|          30|             3|           SSW|              5|                0|       Light Rain|  false|false|   false|   false|   false|  false|  false|     false|  false|false|          false|         false|       false|           Day|           Day|              Day|                  Day|          2|      1|    2|Winter|       08:10:04|        1|     2016-02-08|      0|   1|   0|        0.0|(3,[0],[1.0])|                  0|                  0|                     0|                         0|\n",
      "+----+-------+--------+-------------------+-------------------+---------+---------+-------+-------+------------+--------------------+--------------------+------------+----------+-----+----------+-------+----------+------------+-------------------+--------------+-------------+-----------+------------+--------------+--------------+---------------+-----------------+-----------------+-------+-----+--------+--------+--------+-------+-------+----------+-------+-----+---------------+--------------+------------+--------------+--------------+-----------------+---------------------+-----------+-------+-----+------+---------------+---------+---------------+-------+----+----+-----------+-------------+-------------------+-------------------+----------------------+--------------------------+\n",
      "only showing top 10 rows\n",
      "\n"
     ]
    }
   ],
   "source": [
    "# Change Data Type\n",
    "for x in enumerate(['Sunrise_SunsetIndex'\n",
    "               , 'Civil_TwilightIndex'\n",
    "               , 'Nautical_TwilightIndex'\n",
    "               , 'Astronomical_TwilightIndex']):\n",
    "    df = df.withColumn(x[1], col(x[1]).cast(\"int\"))\n",
    "df.show(10)"
   ]
  },
  {
   "cell_type": "markdown",
   "metadata": {},
   "source": [
    "# Engineering Other Columns"
   ]
  },
  {
   "cell_type": "code",
   "execution_count": 19,
   "metadata": {},
   "outputs": [],
   "source": [
    "# Layla - highway vs not highway column"
   ]
  },
  {
   "cell_type": "markdown",
   "metadata": {},
   "source": [
    "# Correlations"
   ]
  },
  {
   "cell_type": "code",
   "execution_count": 20,
   "metadata": {
    "tags": []
   },
   "outputs": [
    {
     "name": "stderr",
     "output_type": "stream",
     "text": [
      "24/10/24 12:30:35 WARN InstanceBuilder: Failed to load implementation from:dev.ludovic.netlib.blas.JNIBLAS\n",
      "                                                                                \r"
     ]
    },
    {
     "data": {
      "image/png": "[encoded data removed]",
      "text/plain": [
       "<Figure size 640x480 with 2 Axes>"
      ]
     },
     "metadata": {},
     "output_type": "display_data"
    }
   ],
   "source": [
    "# Correlations - Day/Night Columns\n",
    "# Select Relevant Columns\n",
    "df1 = df.select('Sunrise_SunsetIndex'\n",
    "               , 'Civil_TwilightIndex'\n",
    "               , 'Nautical_TwilightIndex'\n",
    "               , 'Astronomical_TwilightIndex')\n",
    "df1 = df1.na.drop()\n",
    "\n",
    "# Assemble features into a vector column\n",
    "assembler = VectorAssembler(inputCols=['Sunrise_SunsetIndex'\n",
    "               , 'Civil_TwilightIndex'\n",
    "               , 'Nautical_TwilightIndex'\n",
    "               , 'Astronomical_TwilightIndex'], outputCol=\"features\")\n",
    "df_vector = assembler.transform(df1)\n",
    "\n",
    "# Calculate the correlation matrix\n",
    "correlation_matrix = Correlation.corr(df_vector, \"features\").head()[0]\n",
    "\n",
    "# Turn into a dataframe\n",
    "corr_matrix_pd = pd.DataFrame(correlation_matrix.toArray(), columns=df1.columns, index=df1.columns)\n",
    "\n",
    "#Plot\n",
    "sns.heatmap(corr_matrix_pd, annot=True, cmap=\"coolwarm\")\n",
    "plt.show()"
   ]
  },
  {
   "cell_type": "code",
   "execution_count": 21,
   "metadata": {
    "tags": []
   },
   "outputs": [
    {
     "name": "stderr",
     "output_type": "stream",
     "text": [
      "                                                                                \r"
     ]
    },
    {
     "data": {
      "image/png": "[encoded data removed]",
      "text/plain": [
       "<Figure size 640x480 with 2 Axes>"
      ]
     },
     "metadata": {},
     "output_type": "display_data"
    }
   ],
   "source": [
    "# Correlations - Weather Columns\n",
    "# Select Relevant Columns\n",
    "df1 = df.select('Temperature(F)'\n",
    "               , 'Wind_Chill(F)'\n",
    "               , 'Humidity(%)'\n",
    "               , 'Pressure(in)'\n",
    "               , 'Visibility(mi)'\n",
    "               #, 'Wind_Direction'\n",
    "               , 'Wind_Speed(mph)'\n",
    "               , 'Precipitation(in)')\n",
    "df1 = df1.na.drop()\n",
    "\n",
    "# Assemble features into a vector column\n",
    "assembler = VectorAssembler(inputCols=['Temperature(F)'\n",
    "               , 'Wind_Chill(F)'\n",
    "               , 'Humidity(%)'\n",
    "               , 'Pressure(in)'\n",
    "               , 'Visibility(mi)'\n",
    "               #, 'Wind_Direction'\n",
    "               , 'Wind_Speed(mph)'\n",
    "               , 'Precipitation(in)'], outputCol=\"features\")\n",
    "df_vector = assembler.transform(df1)\n",
    "\n",
    "# Calculate the correlation matrix\n",
    "correlation_matrix = Correlation.corr(df_vector, \"features\").head()[0]\n",
    "\n",
    "# Turn into a dataframe\n",
    "corr_matrix_pd = pd.DataFrame(correlation_matrix.toArray(), columns=df1.columns, index=df1.columns)\n",
    "\n",
    "#Plot\n",
    "sns.heatmap(corr_matrix_pd, annot=True, cmap=\"coolwarm\")\n",
    "plt.show()"
   ]
  },
  {
   "cell_type": "code",
   "execution_count": 22,
   "metadata": {},
   "outputs": [],
   "source": [
    "# Add POI correlations from Kaleigh"
   ]
  },
  {
   "cell_type": "markdown",
   "metadata": {},
   "source": [
    "# Add Demographic Columns based on Zipcode"
   ]
  },
  {
   "cell_type": "code",
   "execution_count": 23,
   "metadata": {
    "tags": []
   },
   "outputs": [],
   "source": [
    "# Add code from Layla here"
   ]
  },
  {
   "cell_type": "markdown",
   "metadata": {},
   "source": [
    "# Initial Column Removal"
   ]
  },
  {
   "cell_type": "code",
   "execution_count": 24,
   "metadata": {
    "tags": []
   },
   "outputs": [
    {
     "name": "stdout",
     "output_type": "stream",
     "text": [
      "['ID', 'Source', 'Severity', 'Start_Time', 'End_Time', 'Start_Lat', 'Start_Lng', 'End_Lat', 'End_Lng', 'Distance(mi)', 'Description', 'Street', 'City', 'County', 'State', 'Zipcode', 'Country', 'Timezone', 'Airport_Code', 'Weather_Timestamp', 'Temperature(F)', 'Wind_Chill(F)', 'Humidity(%)', 'Pressure(in)', 'Visibility(mi)', 'Wind_Direction', 'Wind_Speed(mph)', 'Precipitation(in)', 'Weather_Condition', 'Amenity', 'Bump', 'Crossing', 'Give_way', 'Junction', 'No_Exit', 'Railway', 'Roundabout', 'Station', 'Stop', 'Traffic_Calming', 'Traffic_Signal', 'Turning_Loop', 'Sunrise_Sunset', 'Civil_Twilight', 'Nautical_Twilight', 'Astronomical_Twilight', 'Day_of_Week', 'Weekday', 'Month', 'Season', 'Start_Time_Time', 'Rush Hour', 'Start_Date_Date', 'Holiday', 'Rain', 'Snow', 'SeasonIndex', 'SeasonVec', 'Sunrise_SunsetIndex', 'Civil_TwilightIndex', 'Nautical_TwilightIndex', 'Astronomical_TwilightIndex']\n"
     ]
    }
   ],
   "source": [
    "#List all columns\n",
    "print(df.columns)"
   ]
  },
  {
   "cell_type": "code",
   "execution_count": 45,
   "metadata": {},
   "outputs": [
    {
     "name": "stdout",
     "output_type": "stream",
     "text": [
      "+--------+--------------+-----------+------------+--------------+---------------+-----------------+-------+-----+--------+--------+--------+-------+-------+----------+-------+-----+---------------+--------------+-------+---------+-------+----+----+-------------+--------------------------+--------------------+\n",
      "|Severity|Temperature(F)|Humidity(%)|Pressure(in)|Visibility(mi)|Wind_Speed(mph)|Precipitation(in)|Amenity| Bump|Crossing|Give_way|Junction|No_Exit|Railway|Roundabout|Station| Stop|Traffic_Calming|Traffic_Signal|Weekday|Rush Hour|Holiday|Rain|Snow|    SeasonVec|Astronomical_TwilightIndex|            features|\n",
      "+--------+--------------+-----------+------------+--------------+---------------+-----------------+-------+-----+--------+--------+--------+-------+-------+----------+-------+-----+---------------+--------------+-------+---------+-------+----+----+-------------+--------------------------+--------------------+\n",
      "|       3|            38|         97|          30|             7|              4|                0|  false|false|   false|   false|   false|  false|  false|     false|  false|false|          false|         false|      1|        1|      0|   1|   0|(3,[0],[1.0])|                         0|(27,[0,1,2,3,4,18...|\n",
      "|       3|            37|        100|          30|             3|              5|                0|  false|false|   false|   false|   false|  false|  false|     false|  false|false|          false|         false|      1|        1|      0|   1|   0|(3,[0],[1.0])|                         0|(27,[0,1,2,3,4,18...|\n",
      "|       3|            37|        100|          30|             3|              5|                0|  false|false|   false|   false|   false|  false|  false|     false|  false|false|          false|         false|      1|        1|      0|   1|   0|(3,[0],[1.0])|                         0|(27,[0,1,2,3,4,18...|\n",
      "|       2|            37|        100|          30|             3|              5|                0|  false|false|   false|   false|   false|  false|  false|     false|  false|false|          false|          true|      1|        1|      0|   1|   0|(3,[0],[1.0])|                         0|(27,[0,1,2,3,4,17...|\n",
      "|       2|            34|        100|          30|             2|              5|                0|  false|false|   false|   false|   false|  false|  false|     false|  false|false|          false|         false|      1|        0|      0|   0|   1|(3,[0],[1.0])|                         0|(27,[0,1,2,3,4,18...|\n",
      "+--------+--------------+-----------+------------+--------------+---------------+-----------------+-------+-----+--------+--------+--------+-------+-------+----------+-------+-----+---------------+--------------+-------+---------+-------+----+----+-------------+--------------------------+--------------------+\n",
      "only showing top 5 rows\n",
      "\n"
     ]
    }
   ],
   "source": [
    "# Initial Column Removal\n",
    "df = df.drop(\n",
    "            'ID'\n",
    "             , 'Source' # Not useful?\n",
    "             #, 'Severity'\n",
    "             , 'Start_Time' # Used to calculate Rush Hour and Holiday Columns\n",
    "             , 'End_Time'\n",
    "             , 'Start_Lat'\n",
    "             , 'Start_Lng'\n",
    "             , 'End_Lat'\n",
    "             , 'End_Lng'\n",
    "             , 'Distance(mi)' # Data leakage issue - captured after accident occured\n",
    "             , 'Description' # Captures little new data\n",
    "             , 'Street' # Not useful for prediction\n",
    "             , 'City'\n",
    "             , 'County'\n",
    "             , 'State'\n",
    "             , 'Zipcode'\n",
    "             , 'Country' # 100% US\n",
    "             , 'Timezone' # Not for prediction\n",
    "             , 'Airport_Code' # Not for prediction\n",
    "             , 'Weather_Timestamp' # Not for prediction\n",
    "             #, 'Temperature(F)'\n",
    "             , 'Wind_Chill(F)' # 99% correlated with Temperature(F)\n",
    "             #, 'Humidity(%)'\n",
    "             #, 'Pressure(in)'\n",
    "             #, 'Visibility(mi)'\n",
    "             , 'Wind_Direction' # Not useful?\n",
    "             #, 'Wind_Speed(mph)'\n",
    "             #, 'Precipitation(in)'\n",
    "             , 'Weather_Condition' # Turning into binary columns for rain and snow\n",
    "             #, 'Amenity' #1% true\n",
    "             #, 'Bump' #0% true\n",
    "             #, 'Crossing' #11% true\n",
    "             #, 'Give_way' #0% true\n",
    "             #, 'Junction' #7% true\n",
    "             #, 'No_Exit' #0% true\n",
    "             #, 'Railway' #1% true\n",
    "             #, 'Roundabout' #0% true\n",
    "             #, 'Station' #3% true\n",
    "             #, 'Stop' #3% true\n",
    "             #, 'Traffic_Calming' #0% true\n",
    "             #, 'Traffic_Signal' #15% true\n",
    "             , 'Turning_Loop' # 100% False (not a single true value)\n",
    "             , 'Sunrise_Sunset' # Highly correlated with other day/night variables\n",
    "             , 'Civil_Twilight' # Highly correlated with other day/night variables\n",
    "             , 'Nautical_Twilight' # Highly correlated with other day/night variables\n",
    "             , 'Astronomical_Twilight' # True Night - removing to keep index column\n",
    "             , 'Day_of_Week' # Used to create Weekday column\n",
    "             #, 'Weekday'\n",
    "             , 'Month' # Use Season instead\n",
    "             , 'Season' #Used to create SeasonVec\n",
    "             , 'Start_Time_Time' #Used to calculate Rush Hour Column\n",
    "             #, 'Rush Hour'\n",
    "             , 'Start_Date_Date' #Used to calculate Holiday Column\n",
    "             #, 'Holiday'\n",
    "             #, 'Snow'\n",
    "             #, 'Rain'\n",
    "             , 'Sunrise_SunsetIndex' # Highly correlated with other day/night variables\n",
    "             , 'Civil_TwilightIndex' # Highly correlated with other day/night variables\n",
    "             , 'Nautical_TwilightIndex' # Highly correlated with other day/night variables\n",
    "             #, 'Astronomical_TwilightIndex' # True Night\n",
    "             , 'SeasonIndex'\n",
    "             #, 'SeasonVec'\n",
    "            )\n",
    "df.show(5)"
   ]
  },
  {
   "cell_type": "markdown",
   "metadata": {},
   "source": [
    "# Further Column Removal and Preprocessing"
   ]
  },
  {
   "cell_type": "markdown",
   "metadata": {},
   "source": [
    "### Nulls"
   ]
  },
  {
   "cell_type": "code",
   "execution_count": 26,
   "metadata": {},
   "outputs": [
    {
     "name": "stderr",
     "output_type": "stream",
     "text": [
      "                                                                                \r"
     ]
    },
    {
     "name": "stdout",
     "output_type": "stream",
     "text": [
      "7720586\n"
     ]
    },
    {
     "name": "stderr",
     "output_type": "stream",
     "text": [
      "[Stage 50:===================================================>    (21 + 2) / 23]\r"
     ]
    },
    {
     "name": "stdout",
     "output_type": "stream",
     "text": [
      "+---+--------+--------------+-----------+------------+--------------+---------------+-----------------+-------+----+--------+--------+--------+-------+-------+----------+-------+----+---------------+--------------+-------+---------+-------+----+----+---------+--------------------------+\n",
      "| ID|Severity|Temperature(F)|Humidity(%)|Pressure(in)|Visibility(mi)|Wind_Speed(mph)|Precipitation(in)|Amenity|Bump|Crossing|Give_way|Junction|No_Exit|Railway|Roundabout|Station|Stop|Traffic_Calming|Traffic_Signal|Weekday|Rush Hour|Holiday|Rain|Snow|SeasonVec|Astronomical_TwilightIndex|\n",
      "+---+--------+--------------+-----------+------------+--------------+---------------+-----------------+-------+----+--------+--------+--------+-------+-------+----------+-------+----+---------------+--------------+-------+---------+-------+----+----+---------+--------------------------+\n",
      "|  0|       0|        156045|     166336|      132871|        169290|         563425|          2195778|      0|   0|       0|       0|       0|      0|      0|         0|      0|   0|              0|             0|      0|        0|      0|   0|   0|        0|                         0|\n",
      "+---+--------+--------------+-----------+------------+--------------+---------------+-----------------+-------+----+--------+--------+--------+-------+-------+----------+-------+----+---------------+--------------+-------+---------+-------+----+----+---------+--------------------------+\n",
      "\n"
     ]
    },
    {
     "name": "stderr",
     "output_type": "stream",
     "text": [
      "                                                                                \r"
     ]
    }
   ],
   "source": [
    "rows = df.count()\n",
    "print(rows)\n",
    "\n",
    "#Null counts\n",
    "df.agg(*[\n",
    "    (rows-count(c)).alias(c)    # vertical (column-wise) operations in SQL ignore NULLs\n",
    "    for c in df.columns \n",
    "]).show()"
   ]
  },
  {
   "cell_type": "code",
   "execution_count": 27,
   "metadata": {
    "tags": []
   },
   "outputs": [
    {
     "name": "stderr",
     "output_type": "stream",
     "text": [
      "                                                                                \r"
     ]
    },
    {
     "name": "stdout",
     "output_type": "stream",
     "text": [
      "5400564\n",
      "+----+--------+--------------+-----------+------------+--------------+---------------+-----------------+-------+-----+--------+--------+--------+-------+-------+----------+-------+-----+---------------+--------------+-------+---------+-------+----+----+-------------+--------------------------+\n",
      "|  ID|Severity|Temperature(F)|Humidity(%)|Pressure(in)|Visibility(mi)|Wind_Speed(mph)|Precipitation(in)|Amenity| Bump|Crossing|Give_way|Junction|No_Exit|Railway|Roundabout|Station| Stop|Traffic_Calming|Traffic_Signal|Weekday|Rush Hour|Holiday|Rain|Snow|    SeasonVec|Astronomical_TwilightIndex|\n",
      "+----+--------+--------------+-----------+------------+--------------+---------------+-----------------+-------+-----+--------+--------+--------+-------+-------+----------+-------+-----+---------------+--------------+-------+---------+-------+----+----+-------------+--------------------------+\n",
      "| A-6|       3|            38|         97|          30|             7|              4|                0|  false|false|   false|   false|   false|  false|  false|     false|  false|false|          false|         false|      1|        1|      0|   1|   0|(3,[0],[1.0])|                         0|\n",
      "|A-10|       3|            37|        100|          30|             3|              5|                0|  false|false|   false|   false|   false|  false|  false|     false|  false|false|          false|         false|      1|        1|      0|   1|   0|(3,[0],[1.0])|                         0|\n",
      "|A-12|       3|            37|        100|          30|             3|              5|                0|  false|false|   false|   false|   false|  false|  false|     false|  false|false|          false|         false|      1|        1|      0|   1|   0|(3,[0],[1.0])|                         0|\n",
      "|A-15|       2|            37|        100|          30|             3|              5|                0|  false|false|   false|   false|   false|  false|  false|     false|  false|false|          false|          true|      1|        1|      0|   1|   0|(3,[0],[1.0])|                         0|\n",
      "|A-21|       2|            34|        100|          30|             2|              5|                0|  false|false|   false|   false|   false|  false|  false|     false|  false|false|          false|         false|      1|        0|      0|   0|   1|(3,[0],[1.0])|                         0|\n",
      "|A-23|       2|            35|         89|          30|             6|              8|                0|  false|false|   false|   false|   false|  false|  false|     false|  false|false|          false|          true|      1|        0|      0|   0|   0|(3,[0],[1.0])|                         0|\n",
      "|A-24|       3|            37|         96|          30|             8|              6|                0|  false|false|   false|   false|   false|  false|  false|     false|  false|false|          false|         false|      1|        0|      0|   0|   0|(3,[0],[1.0])|                         0|\n",
      "|A-26|       2|            38|        100|          30|             5|              5|                0|  false|false|   false|   false|   false|  false|  false|     false|  false|false|          false|         false|      1|        0|      0|   0|   1|(3,[0],[1.0])|                         0|\n",
      "|A-27|       2|            36|         86|          30|             7|              9|                0|  false|false|   false|   false|   false|  false|  false|     false|  false|false|          false|          true|      1|        0|      0|   0|   1|(3,[0],[1.0])|                         0|\n",
      "|A-28|       2|            40|         70|          30|            10|             12|                0|  false|false|   false|   false|   false|  false|  false|     false|  false|false|          false|          true|      1|        0|      0|   0|   0|(3,[0],[1.0])|                         0|\n",
      "|A-31|       2|            37|         89|          30|            10|              7|                0|  false|false|   false|   false|   false|  false|  false|     false|  false|false|          false|          true|      1|        1|      0|   0|   0|(3,[0],[1.0])|                         0|\n",
      "|A-32|       2|            34|         97|          30|            10|              4|                0|  false|false|   false|   false|   false|  false|  false|     false|  false|false|          false|         false|      1|        1|      0|   1|   0|(3,[0],[1.0])|                         0|\n",
      "|A-35|       2|            33|         92|          30|             7|              8|                0|  false|false|   false|   false|   false|  false|  false|     false|  false|false|          false|         false|      1|        0|      0|   0|   1|(3,[0],[1.0])|                         1|\n",
      "|A-36|       2|            33|         92|          30|             9|              9|                0|  false|false|   false|   false|   false|  false|  false|     false|  false|false|          false|          true|      1|        0|      0|   0|   0|(3,[0],[1.0])|                         1|\n",
      "|A-39|       2|            23|         89|          30|             4|             12|                0|  false|false|   false|   false|   false|  false|  false|     false|  false|false|          false|         false|      1|        0|      0|   0|   1|(3,[0],[1.0])|                         1|\n",
      "|A-40|       3|            27|         86|          30|             2|              8|                0|  false|false|   false|   false|   false|  false|  false|     false|  false|false|          false|         false|      1|        0|      0|   0|   1|(3,[0],[1.0])|                         1|\n",
      "|A-41|       2|            21|         85|          30|             1|              9|                0|  false|false|    true|   false|   false|  false|  false|     false|  false|false|          false|         false|      1|        0|      0|   0|   1|(3,[0],[1.0])|                         1|\n",
      "|A-42|       2|            23|         86|          30|             3|             10|                0|  false|false|    true|   false|   false|  false|  false|     false|  false|false|          false|          true|      1|        0|      0|   0|   1|(3,[0],[1.0])|                         1|\n",
      "|A-43|       2|            20|         89|          30|             2|             14|                0|  false|false|   false|   false|   false|  false|  false|     false|  false|false|          false|         false|      1|        0|      0|   0|   1|(3,[0],[1.0])|                         1|\n",
      "|A-44|       3|            25|         88|          30|             1|              9|                0|  false|false|   false|   false|    true|  false|  false|     false|  false|false|          false|         false|      1|        1|      0|   0|   1|(3,[0],[1.0])|                         0|\n",
      "+----+--------+--------------+-----------+------------+--------------+---------------+-----------------+-------+-----+--------+--------+--------+-------+-------+----------+-------+-----+---------------+--------------+-------+---------+-------+----+----+-------------+--------------------------+\n",
      "only showing top 20 rows\n",
      "\n"
     ]
    }
   ],
   "source": [
    "# Remove Nulls\n",
    "df = df.dropna()\n",
    "rows = df.count()\n",
    "print(rows)\n",
    "df.show()"
   ]
  },
  {
   "cell_type": "markdown",
   "metadata": {},
   "source": [
    "### Too few data points (POIs)"
   ]
  },
  {
   "cell_type": "code",
   "execution_count": 28,
   "metadata": {
    "tags": []
   },
   "outputs": [
    {
     "name": "stderr",
     "output_type": "stream",
     "text": [
      "[Stage 57:=====================================================>  (22 + 1) / 23]\r"
     ]
    },
    {
     "name": "stdout",
     "output_type": "stream",
     "text": [
      "+------------------+------------------+------------------+-----------------+-----------------+-------------------+------------------+--------------------+------------------+------------------+----------------------+---------------------+\n",
      "|    Amenity % True|       Bump % True|   Crossing % True|  Give Way % True|  Junction % True|     No Exit % True|    Railway % True|   Roundabout % True|    Station % True|       Stop % True|Traffic Calming % True|Traffic Signal % True|\n",
      "+------------------+------------------+------------------+-----------------+-----------------+-------------------+------------------+--------------------+------------------+------------------+----------------------+---------------------+\n",
      "|1.1993932485570025|0.0503465934298714|10.810537566076432|0.432065984219426|6.918777372141132|0.26000988044952345|0.8320797605583417|0.002925620361132...|2.6556855913567547|2.7462316898753536|   0.10326699211415696|   13.003938107205098|\n",
      "+------------------+------------------+------------------+-----------------+-----------------+-------------------+------------------+--------------------+------------------+------------------+----------------------+---------------------+\n",
      "\n"
     ]
    },
    {
     "name": "stderr",
     "output_type": "stream",
     "text": [
      "                                                                                \r"
     ]
    }
   ],
   "source": [
    "from pyspark.sql.functions import sum\n",
    "df.select(((sum(df.Amenity.cast(\"long\"))/rows)*100).alias('Amenity % True'), \n",
    "          ((sum(df.Bump.cast(\"long\"))/rows)*100).alias('Bump % True'),\n",
    "          ((sum(df.Crossing.cast(\"long\"))/rows)*100).alias('Crossing % True'), \n",
    "          ((sum(df.Give_way.cast(\"long\"))/rows)*100).alias('Give Way % True'),\n",
    "          ((sum(df.Junction.cast(\"long\"))/rows)*100).alias('Junction % True'), \n",
    "          ((sum(df.No_Exit.cast(\"long\"))/rows)*100).alias('No Exit % True'),\n",
    "          ((sum(df.Railway.cast(\"long\"))/rows)*100).alias('Railway % True'), \n",
    "          ((sum(df.Roundabout.cast(\"long\"))/rows)*100).alias('Roundabout % True'),\n",
    "          ((sum(df.Station.cast(\"long\"))/rows)*100).alias('Station % True'), \n",
    "          ((sum(df.Stop.cast(\"long\"))/rows)*100).alias('Stop % True'),\n",
    "          ((sum(df.Traffic_Calming.cast(\"long\"))/rows)*100).alias('Traffic Calming % True'), \n",
    "          ((sum(df.Traffic_Signal.cast(\"long\"))/rows)*100).alias('Traffic Signal % True')\n",
    "    ).show()"
   ]
  },
  {
   "cell_type": "code",
   "execution_count": 29,
   "metadata": {
    "tags": []
   },
   "outputs": [
    {
     "name": "stderr",
     "output_type": "stream",
     "text": [
      "[Stage 62:>                                                         (0 + 1) / 1]\r"
     ]
    },
    {
     "name": "stdout",
     "output_type": "stream",
     "text": [
      "+-------+--------+-------------------+------------------+----------------+-----------------+------------------+------------------+-------------------+-------------------+------------------+-------------------+-------------------+-------------------+--------------------------+\n",
      "|summary|      ID|           Severity|    Temperature(F)|     Humidity(%)|     Pressure(in)|    Visibility(mi)|   Wind_Speed(mph)|  Precipitation(in)|            Weekday|         Rush Hour|            Holiday|               Rain|               Snow|Astronomical_TwilightIndex|\n",
      "+-------+--------+-------------------+------------------+----------------+-----------------+------------------+------------------+-------------------+-------------------+------------------+-------------------+-------------------+-------------------+--------------------------+\n",
      "|  count| 5400564|            5400564|           5400564|         5400564|          5400564|           5400564|           5400564|            5400564|            5400564|           5400564|            5400564|            5400564|            5400564|                   5400564|\n",
      "|   mean|    null|  2.155487278736073|           61.4204|         65.5432|          29.3873|            8.9667|            7.4386|             0.0023| 0.8219073044963452|0.4006942608216475|0.03154892711205719|0.09188984706041814|0.03060347030421267|       0.19357052337496602|\n",
      "| stddev|    null|0.45061461292287414|19.032437249843284|22.8673833982217|1.121967499181117|2.6529988345051145|5.5028514136579885|0.08458799996339415|0.38259079238225147|0.4900391970359866|0.17479587514474693|0.28887041821377624|  0.172240829662566|        0.4042307085529155|\n",
      "|    min|    A-10|                  1|               -45|               1|                0|                 0|                 0|                  0|                  0|                 0|                  0|                  0|                  0|                         0|\n",
      "|    25%|    null|                  2|              49.0|            49.0|             29.0|              10.0|               3.0|                0.0|                  1|                 0|                  0|                  0|                  0|                         0|\n",
      "|    50%|    null|                  2|              64.0|            68.0|             30.0|              10.0|               7.0|                0.0|                  1|                 0|                  0|                  0|                  0|                         0|\n",
      "|    75%|    null|                  2|              76.0|            85.0|             30.0|              10.0|              10.0|                0.0|                  1|                 1|                  0|                  0|                  0|                         0|\n",
      "|    max|A-999999|                  4|               196|             100|               59|               105|              1087|                 36|                  1|                 1|                  1|                  1|                  1|                         2|\n",
      "+-------+--------+-------------------+------------------+----------------+-----------------+------------------+------------------+-------------------+-------------------+------------------+-------------------+-------------------+-------------------+--------------------------+\n",
      "\n"
     ]
    },
    {
     "name": "stderr",
     "output_type": "stream",
     "text": [
      "                                                                                \r"
     ]
    }
   ],
   "source": [
    "df.summary().show()"
   ]
  },
  {
   "cell_type": "markdown",
   "metadata": {},
   "source": [
    "### Correlation between Features and Target"
   ]
  },
  {
   "cell_type": "code",
   "execution_count": 51,
   "metadata": {
    "tags": []
   },
   "outputs": [
    {
     "name": "stderr",
     "output_type": "stream",
     "text": [
      "[Stage 115:==================================================>    (21 + 2) / 23]\r"
     ]
    },
    {
     "name": "stdout",
     "output_type": "stream",
     "text": [
      "Correlation between Temperature(F) and target: -0.022404845974558135\n",
      "Correlation between Humidity(%) and target: 0.0359154166958176\n",
      "Correlation between Pressure(in) and target: -0.023305140120555397\n",
      "Correlation between Visibility(mi) and target: -0.029769805115014616\n",
      "Correlation between Wind_Speed(mph) and target: 0.02893778115421944\n",
      "Correlation between Precipitation(in) and target: 0.008482145384190638\n"
     ]
    },
    {
     "name": "stderr",
     "output_type": "stream",
     "text": [
      "                                                                                \r"
     ]
    }
   ],
   "source": [
    "from pyspark.sql.functions import corr\n",
    "\n",
    "def correlation_with_target(df, target_column):\n",
    "    \"\"\"Calculates correlation between all columns and the target column.\"\"\"\n",
    "    correlations = {}\n",
    "    for col in df.columns:\n",
    "        if col != target_column:\n",
    "            correlations[col] = df.stat.corr(target_column, col)\n",
    "    return correlations\n",
    "\n",
    "#Remove booleans - pyspark doesn't support\n",
    "#IllegalArgumentException: requirement failed: Currently correlation calculation for columns with dataType boolean not supported.\n",
    "df_cols = df.select(['Severity', 'Temperature(F)',\n",
    " 'Humidity(%)',\n",
    " 'Pressure(in)',\n",
    " 'Visibility(mi)',\n",
    " 'Wind_Speed(mph)',\n",
    " 'Precipitation(in)'])\n",
    "\n",
    "\n",
    "correlations = correlation_with_target(df_cols, \"Severity\")\n",
    "\n",
    "for col, corr_value in correlations.items():\n",
    "    print(f\"Correlation between {col} and target: {corr_value}\")"
   ]
  },
  {
   "cell_type": "markdown",
   "metadata": {},
   "source": [
    "### Outliers"
   ]
  },
  {
   "cell_type": "code",
   "execution_count": 69,
   "metadata": {
    "tags": []
   },
   "outputs": [],
   "source": [
    "def outliers(df, col):\n",
    "    \n",
    "    # Calculate quantiles\n",
    "    q1, q3 = df.approxQuantile(col, [0.15, 0.95], 0.01) #arguably not quartiles anymore but changed to only pick up more extreme outliers\n",
    "    iqr = q3 - q1\n",
    "\n",
    "    # Define outlier boundaries\n",
    "    lower_bound = q1 - 1.5 * iqr\n",
    "    upper_bound = q3 + 1.5 * iqr\n",
    "\n",
    "    # Identify outliers\n",
    "    outliers = df.filter((df[col] < lower_bound) | (df[col] > upper_bound))\n",
    "\n",
    "    outliers_df[col] = outliers\n",
    "    outliers.select(col).show()"
   ]
  },
  {
   "cell_type": "code",
   "execution_count": 70,
   "metadata": {
    "tags": []
   },
   "outputs": [
    {
     "name": "stderr",
     "output_type": "stream",
     "text": [
      "[Stage 148:===================================================>   (17 + 1) / 18]\r"
     ]
    },
    {
     "name": "stdout",
     "output_type": "stream",
     "text": [
      "+--------------+\n",
      "|Temperature(F)|\n",
      "+--------------+\n",
      "|           196|\n",
      "|           196|\n",
      "|           -36|\n",
      "|           189|\n",
      "|           174|\n",
      "|           174|\n",
      "|           -35|\n",
      "|           -35|\n",
      "|           -38|\n",
      "|           -35|\n",
      "|           -35|\n",
      "|           162|\n",
      "|           -35|\n",
      "|           -35|\n",
      "|           172|\n",
      "|           -45|\n",
      "|           -35|\n",
      "|           162|\n",
      "|           -35|\n",
      "|           -38|\n",
      "+--------------+\n",
      "only showing top 20 rows\n",
      "\n",
      "None\n"
     ]
    },
    {
     "name": "stderr",
     "output_type": "stream",
     "text": [
      "                                                                                \r"
     ]
    }
   ],
   "source": [
    "col = 'Temperature(F)'\n",
    " #'Humidity(%)',\n",
    " #'Pressure(in)',\n",
    " #'Visibility(mi)',\n",
    " #'Wind_Speed(mph)',\n",
    " #'Precipitation(in)'\n",
    "\n",
    "out = outliers(df, col)\n",
    "print(out)"
   ]
  },
  {
   "cell_type": "markdown",
   "metadata": {},
   "source": [
    "# Modeling"
   ]
  },
  {
   "cell_type": "code",
   "execution_count": null,
   "metadata": {},
   "outputs": [],
   "source": [
    "### Scaling\n",
    "### Dealing with class imbalance during training"
   ]
  }
 ],
 "metadata": {
  "kernelspec": {
   "display_name": "Python 3 (ipykernel)",
   "language": "python",
   "name": "python3"
  },
  "language_info": {
   "codemirror_mode": {
    "name": "ipython",
    "version": 3
   },
   "file_extension": ".py",
   "mimetype": "text/x-python",
   "name": "python",
   "nbconvert_exporter": "python",
   "pygments_lexer": "ipython3",
   "version": "3.11.5"
  }
 },
 "nbformat": 4,
 "nbformat_minor": 4
}
