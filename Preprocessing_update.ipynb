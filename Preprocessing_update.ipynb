{
 "cells": [
  {
   "cell_type": "markdown",
   "metadata": {},
   "source": [
    "# Research Question:\n",
    "### What are the most influential variables on the severity of accidents?"
   ]
  },
  {
   "cell_type": "markdown",
   "metadata": {},
   "source": [
    "Useful Paper:\n",
    "    https://www.sciencedirect.com/science/article/pii/S2590198223000611"
   ]
  },
  {
   "cell_type": "code",
   "execution_count": 1,
   "metadata": {
    "tags": []
   },
   "outputs": [
    {
     "data": {
      "text/html": [
       "<style>pre { white-space: pre !important; }</style>"
      ],
      "text/plain": [
       "<IPython.core.display.HTML object>"
      ]
     },
     "metadata": {},
     "output_type": "display_data"
    }
   ],
   "source": [
    "#Display Spark Output in scrollable format within jupyter notebook\n",
    "from IPython.core.display import HTML\n",
    "display(HTML(\"<style>pre { white-space: pre !important; }</style>\"))"
   ]
  },
  {
   "cell_type": "code",
   "execution_count": 2,
   "metadata": {
    "tags": []
   },
   "outputs": [],
   "source": [
    "# Import Libraries\n",
    "import pandas as pd\n",
    "import numpy as np\n",
    "import os\n",
    "import pyspark\n",
    "from pyspark.sql import SparkSession\n",
    "from pyspark.sql.types import *\n",
    "from pyspark.sql.functions import *\n",
    "from pyspark.ml.feature import StringIndexer, OneHotEncoder, VectorAssembler\n",
    "from pyspark.ml.stat import Correlation\n",
    "import seaborn as sns\n",
    "import matplotlib.pyplot as plt\n",
    "import pyspark.sql.functions as F\n",
    "import holidays\n",
    "from datetime import datetime, timezone"
   ]
  },
  {
   "cell_type": "markdown",
   "metadata": {},
   "source": [
    "# Load Data"
   ]
  },
  {
   "cell_type": "code",
   "execution_count": 3,
   "metadata": {
    "tags": []
   },
   "outputs": [
    {
     "name": "stderr",
     "output_type": "stream",
     "text": [
      "Setting default log level to \"WARN\".\n",
      "To adjust logging level use sc.setLogLevel(newLevel). For SparkR, use setLogLevel(newLevel).\n",
      "24/10/31 11:43:48 WARN NativeCodeLoader: Unable to load native-hadoop library for your platform... using builtin-java classes where applicable\n"
     ]
    }
   ],
   "source": [
    "#Instantiate Spark Session\n",
    "spark = (SparkSession\n",
    "  .builder\n",
    "  .appName(\"US_Accidents\")\n",
    "  .getOrCreate())"
   ]
  },
  {
   "cell_type": "code",
   "execution_count": 4,
   "metadata": {
    "tags": []
   },
   "outputs": [],
   "source": [
    "#Define Spark Schema\n",
    "schema = StructType([StructField('ID', StringType(), False),\n",
    "                StructField('Source', StringType(), False),\n",
    "                StructField('Severity', IntegerType(), False),\n",
    "                StructField('Start_Time', TimestampType(), False),                  \n",
    "                StructField('End_Time', TimestampType(), False),      \n",
    "                StructField('Start_Lat', DecimalType(), False),\n",
    "                StructField('Start_Lng', DecimalType(), False),\n",
    "                StructField('End_Lat', DecimalType(), True),\n",
    "                StructField('End_Lng', DecimalType(), True),       \n",
    "                StructField('Distance(mi)', DecimalType(), False),       \n",
    "                StructField('Description', StringType(), False),       \n",
    "                StructField('Street', StringType(), True),                 \n",
    "                StructField('City', StringType(), True),       \n",
    "                StructField('County', StringType(), True),       \n",
    "                StructField('State', StringType(), True),       \n",
    "                StructField('Zipcode', StringType(), True),       \n",
    "                StructField('Country', StringType(), True),       \n",
    "                StructField('Timezone', StringType(), True),       \n",
    "                StructField('Airport_Code', StringType(), True),\n",
    "                StructField('Weather_Timestamp', TimestampType(), True),\n",
    "                StructField('Temperature(F)', DecimalType(), True),\n",
    "                StructField('Wind_Chill(F)', DecimalType(), True),\n",
    "                StructField('Humidity(%)', DecimalType(), True),\n",
    "                StructField('Pressure(in)', DecimalType(), True),\n",
    "                StructField('Visibility(mi)', DecimalType(), True),\n",
    "                StructField('Wind_Direction', StringType(), True),\n",
    "                StructField('Wind_Speed(mph)', DecimalType(), True),\n",
    "                StructField('Precipitation(in)', DecimalType(), True),\n",
    "                StructField('Weather_Condition', StringType(), True),\n",
    "                StructField('Amenity', BooleanType(), False),\n",
    "                StructField('Bump', BooleanType(), False),\n",
    "                StructField('Crossing', BooleanType(), False),\n",
    "                StructField('Give_way', BooleanType(), False),\n",
    "                StructField('Junction', BooleanType(), False),\n",
    "                StructField('No_Exit', BooleanType(), False),\n",
    "                StructField('Railway', BooleanType(), False), \n",
    "                StructField('Roundabout', BooleanType(), False),\n",
    "                StructField('Station', BooleanType(), False),\n",
    "                StructField('Stop', BooleanType(), False),\n",
    "                StructField('Traffic_Calming', BooleanType(), False),\n",
    "                StructField('Traffic_Signal', BooleanType(), False),\n",
    "                StructField('Turning_Loop', BooleanType(), False),\n",
    "                StructField('Sunrise_Sunset', StringType(), True),\n",
    "                StructField('Civil_Twilight', StringType(), True),\n",
    "                StructField('Nautical_Twilight', StringType(), True),\n",
    "                StructField('Astronomical_Twilight', StringType(), True)])\n",
    "\n",
    "# Use the DataFrameReader interface to read a CSV file\n",
    "file = \"US_Accidents_March23.csv\"\n",
    "df = spark.read.csv(file, header=True, schema=schema)"
   ]
  },
  {
   "cell_type": "code",
   "execution_count": 5,
   "metadata": {
    "tags": []
   },
   "outputs": [
    {
     "name": "stderr",
     "output_type": "stream",
     "text": [
      "[Stage 0:=================================================>       (20 + 3) / 23]\r"
     ]
    },
    {
     "name": "stdout",
     "output_type": "stream",
     "text": [
      "DataFrame Rows count : 7728394\n",
      "DataFrame Columns count : 46\n"
     ]
    },
    {
     "name": "stderr",
     "output_type": "stream",
     "text": [
      "                                                                                \r"
     ]
    }
   ],
   "source": [
    "# Get row count\n",
    "rows = df.count()\n",
    "print(f\"DataFrame Rows count : {rows}\")\n",
    "\n",
    "# Get columns count\n",
    "cols = len(df.columns)\n",
    "print(f\"DataFrame Columns count : {cols}\")"
   ]
  },
  {
   "cell_type": "markdown",
   "metadata": {},
   "source": [
    "# Nulls"
   ]
  },
  {
   "cell_type": "code",
   "execution_count": 6,
   "metadata": {
    "tags": []
   },
   "outputs": [
    {
     "name": "stderr",
     "output_type": "stream",
     "text": [
      "24/10/31 11:43:55 WARN package: Truncated the string representation of a plan since it was too large. This behavior can be adjusted by setting 'spark.sql.debug.maxToStringFields'.\n",
      "[Stage 3:======================================================>  (22 + 1) / 23]\r"
     ]
    },
    {
     "name": "stdout",
     "output_type": "stream",
     "text": [
      "+---+------+--------+----------+--------+---------+---------+-------+-------+------------+-----------+------+----+------+-----+-------+-------+--------+------------+-----------------+--------------+-------------+-----------+------------+--------------+--------------+---------------+-----------------+-----------------+-------+----+--------+--------+--------+-------+-------+----------+-------+----+---------------+--------------+------------+--------------+--------------+-----------------+---------------------+\n",
      "| ID|Source|Severity|Start_Time|End_Time|Start_Lat|Start_Lng|End_Lat|End_Lng|Distance(mi)|Description|Street|City|County|State|Zipcode|Country|Timezone|Airport_Code|Weather_Timestamp|Temperature(F)|Wind_Chill(F)|Humidity(%)|Pressure(in)|Visibility(mi)|Wind_Direction|Wind_Speed(mph)|Precipitation(in)|Weather_Condition|Amenity|Bump|Crossing|Give_way|Junction|No_Exit|Railway|Roundabout|Station|Stop|Traffic_Calming|Traffic_Signal|Turning_Loop|Sunrise_Sunset|Civil_Twilight|Nautical_Twilight|Astronomical_Twilight|\n",
      "+---+------+--------+----------+--------+---------+---------+-------+-------+------------+-----------+------+----+------+-----+-------+-------+--------+------------+-----------------+--------------+-------------+-----------+------------+--------------+--------------+---------------+-----------------+-----------------+-------+----+--------+--------+--------+-------+-------+----------+-------+----+---------------+--------------+------------+--------------+--------------+-----------------+---------------------+\n",
      "|  0|     0|       0|         0|       0|        0|        0|3402762|3402762|           0|          5| 10869| 253|     0|    0|   1915|      0|    7808|       22635|           120228|        163853|      1999019|     174144|      140679|        177098|        175206|         571233|          2203586|           173459|      0|   0|       0|       0|       0|      0|      0|         0|      0|   0|              0|             0|           0|         23246|         23246|            23246|                23246|\n",
      "+---+------+--------+----------+--------+---------+---------+-------+-------+------------+-----------+------+----+------+-----+-------+-------+--------+------------+-----------------+--------------+-------------+-----------+------------+--------------+--------------+---------------+-----------------+-----------------+-------+----+--------+--------+--------+-------+-------+----------+-------+----+---------------+--------------+------------+--------------+--------------+-----------------+---------------------+\n",
      "\n"
     ]
    },
    {
     "name": "stderr",
     "output_type": "stream",
     "text": [
      "                                                                                \r"
     ]
    }
   ],
   "source": [
    "#Null counts (excluding time columns)\n",
    "df.agg(*[\n",
    "    (rows-count(c)).alias(c) # column-wise operations in SQL ignore NULLs so returns count of null values\n",
    "    for c in df.columns \n",
    "]).show()"
   ]
  },
  {
   "cell_type": "code",
   "execution_count": 7,
   "metadata": {
    "tags": []
   },
   "outputs": [
    {
     "name": "stderr",
     "output_type": "stream",
     "text": [
      "[Stage 6:====================================================>    (21 + 2) / 23]\r"
     ]
    },
    {
     "name": "stdout",
     "output_type": "stream",
     "text": [
      "+-----------+-------+\n",
      "|   Timezone|  count|\n",
      "+-----------+-------+\n",
      "| US/Eastern|3580167|\n",
      "| US/Pacific|2062984|\n",
      "| US/Central|1645616|\n",
      "|US/Mountain| 431819|\n",
      "+-----------+-------+\n",
      "\n"
     ]
    },
    {
     "name": "stderr",
     "output_type": "stream",
     "text": [
      "                                                                                \r"
     ]
    }
   ],
   "source": [
    "#have to remove the ~8000 rows with null timezone if using date/time in any way\n",
    "df = df.dropna(subset=[\"Timezone\"])\n",
    "df.groupBy('Timezone').count().orderBy(desc(\"count\")).show()"
   ]
  },
  {
   "cell_type": "markdown",
   "metadata": {},
   "source": [
    "# Engineer Weather and Time Columns"
   ]
  },
  {
   "cell_type": "code",
   "execution_count": 8,
   "metadata": {
    "tags": []
   },
   "outputs": [
    {
     "name": "stdout",
     "output_type": "stream",
     "text": [
      "+---+-------+--------+-------------------+-------------------+---------+---------+-------+-------+------------+--------------------+--------------------+------------+----------+-----+----------+-------+----------+------------+-------------------+--------------+-------------+-----------+------------+--------------+--------------+---------------+-----------------+-----------------+-------+-----+--------+--------+--------+-------+-------+----------+-------+-----+---------------+--------------+------------+--------------+--------------+-----------------+---------------------+-----------+-------+\n",
      "| ID| Source|Severity|         Start_Time|           End_Time|Start_Lat|Start_Lng|End_Lat|End_Lng|Distance(mi)|         Description|              Street|        City|    County|State|   Zipcode|Country|  Timezone|Airport_Code|  Weather_Timestamp|Temperature(F)|Wind_Chill(F)|Humidity(%)|Pressure(in)|Visibility(mi)|Wind_Direction|Wind_Speed(mph)|Precipitation(in)|Weather_Condition|Amenity| Bump|Crossing|Give_way|Junction|No_Exit|Railway|Roundabout|Station| Stop|Traffic_Calming|Traffic_Signal|Turning_Loop|Sunrise_Sunset|Civil_Twilight|Nautical_Twilight|Astronomical_Twilight|Day_of_Week|Weekday|\n",
      "+---+-------+--------+-------------------+-------------------+---------+---------+-------+-------+------------+--------------------+--------------------+------------+----------+-----+----------+-------+----------+------------+-------------------+--------------+-------------+-----------+------------+--------------+--------------+---------------+-----------------+-----------------+-------+-----+--------+--------+--------+-------+-------+----------+-------+-----+---------------+--------------+------------+--------------+--------------+-----------------+---------------------+-----------+-------+\n",
      "|A-1|Source2|       3|2016-02-08 05:46:00|2016-02-08 11:00:00|       40|      -84|   null|   null|           0|Right lane blocke...|              I-70 E|      Dayton|Montgomery|   OH|     45424|     US|US/Eastern|        KFFO|2016-02-08 05:58:00|            37|         null|         91|          30|            10|          Calm|           null|                0|       Light Rain|  false|false|   false|   false|   false|  false|  false|     false|  false|false|          false|         false|       false|         Night|         Night|            Night|                Night|          2|      1|\n",
      "|A-2|Source2|       2|2016-02-08 06:07:59|2016-02-08 06:37:59|       40|      -83|   null|   null|           0|Accident on Brice...|            Brice Rd|Reynoldsburg|  Franklin|   OH|43068-3402|     US|US/Eastern|        KCMH|2016-02-08 05:51:00|            38|         null|        100|          30|            10|          Calm|           null|                0|       Light Rain|  false|false|   false|   false|   false|  false|  false|     false|  false|false|          false|         false|       false|         Night|         Night|            Night|                  Day|          2|      1|\n",
      "|A-3|Source2|       2|2016-02-08 06:49:27|2016-02-08 07:19:27|       39|      -84|   null|   null|           0|Accident on OH-32...|      State Route 32|Williamsburg|  Clermont|   OH|     45176|     US|US/Eastern|        KI69|2016-02-08 06:56:00|            36|           33|        100|          30|            10|            SW|              4|             null|         Overcast|  false|false|   false|   false|   false|  false|  false|     false|  false|false|          false|          true|       false|         Night|         Night|              Day|                  Day|          2|      1|\n",
      "|A-4|Source2|       3|2016-02-08 07:23:34|2016-02-08 07:53:34|       40|      -84|   null|   null|           0|Accident on I-75 ...|              I-75 S|      Dayton|Montgomery|   OH|     45417|     US|US/Eastern|        KDAY|2016-02-08 07:38:00|            35|           31|         96|          30|             9|            SW|              5|             null|    Mostly Cloudy|  false|false|   false|   false|   false|  false|  false|     false|  false|false|          false|         false|       false|         Night|           Day|              Day|                  Day|          2|      1|\n",
      "|A-5|Source2|       2|2016-02-08 07:39:07|2016-02-08 08:09:07|       40|      -84|   null|   null|           0|Accident on McEwe...|Miamisburg Center...|      Dayton|Montgomery|   OH|     45459|     US|US/Eastern|        KMGY|2016-02-08 07:53:00|            36|           33|         89|          30|             6|            SW|              4|             null|    Mostly Cloudy|  false|false|   false|   false|   false|  false|  false|     false|  false|false|          false|          true|       false|           Day|           Day|              Day|                  Day|          2|      1|\n",
      "+---+-------+--------+-------------------+-------------------+---------+---------+-------+-------+------------+--------------------+--------------------+------------+----------+-----+----------+-------+----------+------------+-------------------+--------------+-------------+-----------+------------+--------------+--------------+---------------+-----------------+-----------------+-------+-----+--------+--------+--------+-------+-------+----------+-------+-----+---------------+--------------+------------+--------------+--------------+-----------------+---------------------+-----------+-------+\n",
      "only showing top 5 rows\n",
      "\n"
     ]
    }
   ],
   "source": [
    "# Create Day of the Week Column\n",
    "df = df.withColumn('Day_of_Week', dayofweek(col('Start_Time'))) #Ranges from 1 for a Sunday through to 7 for a Saturday\n",
    "\n",
    "# Create Weekday Column (1 = Weekday, 0 = Weekend)\n",
    "df = df.withColumn(\n",
    "    'Weekday',\n",
    "    F.when(F.col(\"Day_of_Week\").between(2, 6), 1)\\\n",
    "    .otherwise(0))\n",
    "\n",
    "df.show(5)"
   ]
  },
  {
   "cell_type": "code",
   "execution_count": 9,
   "metadata": {
    "tags": []
   },
   "outputs": [
    {
     "name": "stdout",
     "output_type": "stream",
     "text": [
      "+---+-------+--------+-------------------+-------------------+---------+---------+-------+-------+------------+--------------------+--------------------+------------+----------+-----+----------+-------+----------+------------+-------------------+--------------+-------------+-----------+------------+--------------+--------------+---------------+-----------------+-----------------+-------+-----+--------+--------+--------+-------+-------+----------+-------+-----+---------------+--------------+------------+--------------+--------------+-----------------+---------------------+-----------+-------+-----+\n",
      "| ID| Source|Severity|         Start_Time|           End_Time|Start_Lat|Start_Lng|End_Lat|End_Lng|Distance(mi)|         Description|              Street|        City|    County|State|   Zipcode|Country|  Timezone|Airport_Code|  Weather_Timestamp|Temperature(F)|Wind_Chill(F)|Humidity(%)|Pressure(in)|Visibility(mi)|Wind_Direction|Wind_Speed(mph)|Precipitation(in)|Weather_Condition|Amenity| Bump|Crossing|Give_way|Junction|No_Exit|Railway|Roundabout|Station| Stop|Traffic_Calming|Traffic_Signal|Turning_Loop|Sunrise_Sunset|Civil_Twilight|Nautical_Twilight|Astronomical_Twilight|Day_of_Week|Weekday|Month|\n",
      "+---+-------+--------+-------------------+-------------------+---------+---------+-------+-------+------------+--------------------+--------------------+------------+----------+-----+----------+-------+----------+------------+-------------------+--------------+-------------+-----------+------------+--------------+--------------+---------------+-----------------+-----------------+-------+-----+--------+--------+--------+-------+-------+----------+-------+-----+---------------+--------------+------------+--------------+--------------+-----------------+---------------------+-----------+-------+-----+\n",
      "|A-1|Source2|       3|2016-02-08 05:46:00|2016-02-08 11:00:00|       40|      -84|   null|   null|           0|Right lane blocke...|              I-70 E|      Dayton|Montgomery|   OH|     45424|     US|US/Eastern|        KFFO|2016-02-08 05:58:00|            37|         null|         91|          30|            10|          Calm|           null|                0|       Light Rain|  false|false|   false|   false|   false|  false|  false|     false|  false|false|          false|         false|       false|         Night|         Night|            Night|                Night|          2|      1|    2|\n",
      "|A-2|Source2|       2|2016-02-08 06:07:59|2016-02-08 06:37:59|       40|      -83|   null|   null|           0|Accident on Brice...|            Brice Rd|Reynoldsburg|  Franklin|   OH|43068-3402|     US|US/Eastern|        KCMH|2016-02-08 05:51:00|            38|         null|        100|          30|            10|          Calm|           null|                0|       Light Rain|  false|false|   false|   false|   false|  false|  false|     false|  false|false|          false|         false|       false|         Night|         Night|            Night|                  Day|          2|      1|    2|\n",
      "|A-3|Source2|       2|2016-02-08 06:49:27|2016-02-08 07:19:27|       39|      -84|   null|   null|           0|Accident on OH-32...|      State Route 32|Williamsburg|  Clermont|   OH|     45176|     US|US/Eastern|        KI69|2016-02-08 06:56:00|            36|           33|        100|          30|            10|            SW|              4|             null|         Overcast|  false|false|   false|   false|   false|  false|  false|     false|  false|false|          false|          true|       false|         Night|         Night|              Day|                  Day|          2|      1|    2|\n",
      "|A-4|Source2|       3|2016-02-08 07:23:34|2016-02-08 07:53:34|       40|      -84|   null|   null|           0|Accident on I-75 ...|              I-75 S|      Dayton|Montgomery|   OH|     45417|     US|US/Eastern|        KDAY|2016-02-08 07:38:00|            35|           31|         96|          30|             9|            SW|              5|             null|    Mostly Cloudy|  false|false|   false|   false|   false|  false|  false|     false|  false|false|          false|         false|       false|         Night|           Day|              Day|                  Day|          2|      1|    2|\n",
      "|A-5|Source2|       2|2016-02-08 07:39:07|2016-02-08 08:09:07|       40|      -84|   null|   null|           0|Accident on McEwe...|Miamisburg Center...|      Dayton|Montgomery|   OH|     45459|     US|US/Eastern|        KMGY|2016-02-08 07:53:00|            36|           33|         89|          30|             6|            SW|              4|             null|    Mostly Cloudy|  false|false|   false|   false|   false|  false|  false|     false|  false|false|          false|          true|       false|           Day|           Day|              Day|                  Day|          2|      1|    2|\n",
      "+---+-------+--------+-------------------+-------------------+---------+---------+-------+-------+------------+--------------------+--------------------+------------+----------+-----+----------+-------+----------+------------+-------------------+--------------+-------------+-----------+------------+--------------+--------------+---------------+-----------------+-----------------+-------+-----+--------+--------+--------+-------+-------+----------+-------+-----+---------------+--------------+------------+--------------+--------------+-----------------+---------------------+-----------+-------+-----+\n",
      "only showing top 5 rows\n",
      "\n"
     ]
    }
   ],
   "source": [
    "# Create Month Column\n",
    "df = df.withColumn('Month', month(df['Start_Time']))\n",
    "df.show(5)"
   ]
  },
  {
   "cell_type": "code",
   "execution_count": 10,
   "metadata": {
    "tags": []
   },
   "outputs": [
    {
     "name": "stdout",
     "output_type": "stream",
     "text": [
      "+---+-------+--------+-------------------+-------------------+---------+---------+-------+-------+------------+--------------------+--------------------+------------+----------+-----+----------+-------+----------+------------+-------------------+--------------+-------------+-----------+------------+--------------+--------------+---------------+-----------------+-----------------+-------+-----+--------+--------+--------+-------+-------+----------+-------+-----+---------------+--------------+------------+--------------+--------------+-----------------+---------------------+-----------+-------+-----+------+\n",
      "| ID| Source|Severity|         Start_Time|           End_Time|Start_Lat|Start_Lng|End_Lat|End_Lng|Distance(mi)|         Description|              Street|        City|    County|State|   Zipcode|Country|  Timezone|Airport_Code|  Weather_Timestamp|Temperature(F)|Wind_Chill(F)|Humidity(%)|Pressure(in)|Visibility(mi)|Wind_Direction|Wind_Speed(mph)|Precipitation(in)|Weather_Condition|Amenity| Bump|Crossing|Give_way|Junction|No_Exit|Railway|Roundabout|Station| Stop|Traffic_Calming|Traffic_Signal|Turning_Loop|Sunrise_Sunset|Civil_Twilight|Nautical_Twilight|Astronomical_Twilight|Day_of_Week|Weekday|Month|Season|\n",
      "+---+-------+--------+-------------------+-------------------+---------+---------+-------+-------+------------+--------------------+--------------------+------------+----------+-----+----------+-------+----------+------------+-------------------+--------------+-------------+-----------+------------+--------------+--------------+---------------+-----------------+-----------------+-------+-----+--------+--------+--------+-------+-------+----------+-------+-----+---------------+--------------+------------+--------------+--------------+-----------------+---------------------+-----------+-------+-----+------+\n",
      "|A-1|Source2|       3|2016-02-08 05:46:00|2016-02-08 11:00:00|       40|      -84|   null|   null|           0|Right lane blocke...|              I-70 E|      Dayton|Montgomery|   OH|     45424|     US|US/Eastern|        KFFO|2016-02-08 05:58:00|            37|         null|         91|          30|            10|          Calm|           null|                0|       Light Rain|  false|false|   false|   false|   false|  false|  false|     false|  false|false|          false|         false|       false|         Night|         Night|            Night|                Night|          2|      1|    2|Winter|\n",
      "|A-2|Source2|       2|2016-02-08 06:07:59|2016-02-08 06:37:59|       40|      -83|   null|   null|           0|Accident on Brice...|            Brice Rd|Reynoldsburg|  Franklin|   OH|43068-3402|     US|US/Eastern|        KCMH|2016-02-08 05:51:00|            38|         null|        100|          30|            10|          Calm|           null|                0|       Light Rain|  false|false|   false|   false|   false|  false|  false|     false|  false|false|          false|         false|       false|         Night|         Night|            Night|                  Day|          2|      1|    2|Winter|\n",
      "|A-3|Source2|       2|2016-02-08 06:49:27|2016-02-08 07:19:27|       39|      -84|   null|   null|           0|Accident on OH-32...|      State Route 32|Williamsburg|  Clermont|   OH|     45176|     US|US/Eastern|        KI69|2016-02-08 06:56:00|            36|           33|        100|          30|            10|            SW|              4|             null|         Overcast|  false|false|   false|   false|   false|  false|  false|     false|  false|false|          false|          true|       false|         Night|         Night|              Day|                  Day|          2|      1|    2|Winter|\n",
      "|A-4|Source2|       3|2016-02-08 07:23:34|2016-02-08 07:53:34|       40|      -84|   null|   null|           0|Accident on I-75 ...|              I-75 S|      Dayton|Montgomery|   OH|     45417|     US|US/Eastern|        KDAY|2016-02-08 07:38:00|            35|           31|         96|          30|             9|            SW|              5|             null|    Mostly Cloudy|  false|false|   false|   false|   false|  false|  false|     false|  false|false|          false|         false|       false|         Night|           Day|              Day|                  Day|          2|      1|    2|Winter|\n",
      "|A-5|Source2|       2|2016-02-08 07:39:07|2016-02-08 08:09:07|       40|      -84|   null|   null|           0|Accident on McEwe...|Miamisburg Center...|      Dayton|Montgomery|   OH|     45459|     US|US/Eastern|        KMGY|2016-02-08 07:53:00|            36|           33|         89|          30|             6|            SW|              4|             null|    Mostly Cloudy|  false|false|   false|   false|   false|  false|  false|     false|  false|false|          false|          true|       false|           Day|           Day|              Day|                  Day|          2|      1|    2|Winter|\n",
      "+---+-------+--------+-------------------+-------------------+---------+---------+-------+-------+------------+--------------------+--------------------+------------+----------+-----+----------+-------+----------+------------+-------------------+--------------+-------------+-----------+------------+--------------+--------------+---------------+-----------------+-----------------+-------+-----+--------+--------+--------+-------+-------+----------+-------+-----+---------------+--------------+------------+--------------+--------------+-----------------+---------------------+-----------+-------+-----+------+\n",
      "only showing top 5 rows\n",
      "\n"
     ]
    }
   ],
   "source": [
    "# Create Season Column\n",
    "df = df.withColumn(\n",
    "    'Season',\n",
    "    F.when(F.col(\"Month\").between(3, 5), 'Spring')\\\n",
    "    .when(F.col(\"Month\").between(6, 8), 'Summer')\\\n",
    "    .when(F.col(\"Month\").between(9, 11), 'Fall')\\\n",
    "    .otherwise('Winter'))\n",
    "df.show(5)"
   ]
  },
  {
   "cell_type": "code",
   "execution_count": 11,
   "metadata": {
    "tags": []
   },
   "outputs": [
    {
     "name": "stdout",
     "output_type": "stream",
     "text": [
      "+---+-------+--------+-------------------+-------------------+---------+---------+-------+-------+------------+--------------------+--------------------+------------+----------+-----+----------+-------+----------+------------+-------------------+--------------+-------------+-----------+------------+--------------+--------------+---------------+-----------------+-----------------+-------+-----+--------+--------+--------+-------+-------+----------+-------+-----+---------------+--------------+------------+--------------+--------------+-----------------+---------------------+-----------+-------+-----+------+---------------+\n",
      "| ID| Source|Severity|         Start_Time|           End_Time|Start_Lat|Start_Lng|End_Lat|End_Lng|Distance(mi)|         Description|              Street|        City|    County|State|   Zipcode|Country|  Timezone|Airport_Code|  Weather_Timestamp|Temperature(F)|Wind_Chill(F)|Humidity(%)|Pressure(in)|Visibility(mi)|Wind_Direction|Wind_Speed(mph)|Precipitation(in)|Weather_Condition|Amenity| Bump|Crossing|Give_way|Junction|No_Exit|Railway|Roundabout|Station| Stop|Traffic_Calming|Traffic_Signal|Turning_Loop|Sunrise_Sunset|Civil_Twilight|Nautical_Twilight|Astronomical_Twilight|Day_of_Week|Weekday|Month|Season|Start_Time_Time|\n",
      "+---+-------+--------+-------------------+-------------------+---------+---------+-------+-------+------------+--------------------+--------------------+------------+----------+-----+----------+-------+----------+------------+-------------------+--------------+-------------+-----------+------------+--------------+--------------+---------------+-----------------+-----------------+-------+-----+--------+--------+--------+-------+-------+----------+-------+-----+---------------+--------------+------------+--------------+--------------+-----------------+---------------------+-----------+-------+-----+------+---------------+\n",
      "|A-1|Source2|       3|2016-02-08 05:46:00|2016-02-08 11:00:00|       40|      -84|   null|   null|           0|Right lane blocke...|              I-70 E|      Dayton|Montgomery|   OH|     45424|     US|US/Eastern|        KFFO|2016-02-08 05:58:00|            37|         null|         91|          30|            10|          Calm|           null|                0|       Light Rain|  false|false|   false|   false|   false|  false|  false|     false|  false|false|          false|         false|       false|         Night|         Night|            Night|                Night|          2|      1|    2|Winter|       05:46:00|\n",
      "|A-2|Source2|       2|2016-02-08 06:07:59|2016-02-08 06:37:59|       40|      -83|   null|   null|           0|Accident on Brice...|            Brice Rd|Reynoldsburg|  Franklin|   OH|43068-3402|     US|US/Eastern|        KCMH|2016-02-08 05:51:00|            38|         null|        100|          30|            10|          Calm|           null|                0|       Light Rain|  false|false|   false|   false|   false|  false|  false|     false|  false|false|          false|         false|       false|         Night|         Night|            Night|                  Day|          2|      1|    2|Winter|       06:07:59|\n",
      "|A-3|Source2|       2|2016-02-08 06:49:27|2016-02-08 07:19:27|       39|      -84|   null|   null|           0|Accident on OH-32...|      State Route 32|Williamsburg|  Clermont|   OH|     45176|     US|US/Eastern|        KI69|2016-02-08 06:56:00|            36|           33|        100|          30|            10|            SW|              4|             null|         Overcast|  false|false|   false|   false|   false|  false|  false|     false|  false|false|          false|          true|       false|         Night|         Night|              Day|                  Day|          2|      1|    2|Winter|       06:49:27|\n",
      "|A-4|Source2|       3|2016-02-08 07:23:34|2016-02-08 07:53:34|       40|      -84|   null|   null|           0|Accident on I-75 ...|              I-75 S|      Dayton|Montgomery|   OH|     45417|     US|US/Eastern|        KDAY|2016-02-08 07:38:00|            35|           31|         96|          30|             9|            SW|              5|             null|    Mostly Cloudy|  false|false|   false|   false|   false|  false|  false|     false|  false|false|          false|         false|       false|         Night|           Day|              Day|                  Day|          2|      1|    2|Winter|       07:23:34|\n",
      "|A-5|Source2|       2|2016-02-08 07:39:07|2016-02-08 08:09:07|       40|      -84|   null|   null|           0|Accident on McEwe...|Miamisburg Center...|      Dayton|Montgomery|   OH|     45459|     US|US/Eastern|        KMGY|2016-02-08 07:53:00|            36|           33|         89|          30|             6|            SW|              4|             null|    Mostly Cloudy|  false|false|   false|   false|   false|  false|  false|     false|  false|false|          false|          true|       false|           Day|           Day|              Day|                  Day|          2|      1|    2|Winter|       07:39:07|\n",
      "+---+-------+--------+-------------------+-------------------+---------+---------+-------+-------+------------+--------------------+--------------------+------------+----------+-----+----------+-------+----------+------------+-------------------+--------------+-------------+-----------+------------+--------------+--------------+---------------+-----------------+-----------------+-------+-----+--------+--------+--------+-------+-------+----------+-------+-----+---------------+--------------+------------+--------------+--------------+-----------------+---------------------+-----------+-------+-----+------+---------------+\n",
      "only showing top 5 rows\n",
      "\n",
      "+---+-------+--------+-------------------+-------------------+---------+---------+-------+-------+------------+--------------------+--------------------+------------+----------+-----+----------+-------+----------+------------+-------------------+--------------+-------------+-----------+------------+--------------+--------------+---------------+-----------------+-----------------+-------+-----+--------+--------+--------+-------+-------+----------+-------+-----+---------------+--------------+------------+--------------+--------------+-----------------+---------------------+-----------+-------+-----+------+---------------+---------+\n",
      "| ID| Source|Severity|         Start_Time|           End_Time|Start_Lat|Start_Lng|End_Lat|End_Lng|Distance(mi)|         Description|              Street|        City|    County|State|   Zipcode|Country|  Timezone|Airport_Code|  Weather_Timestamp|Temperature(F)|Wind_Chill(F)|Humidity(%)|Pressure(in)|Visibility(mi)|Wind_Direction|Wind_Speed(mph)|Precipitation(in)|Weather_Condition|Amenity| Bump|Crossing|Give_way|Junction|No_Exit|Railway|Roundabout|Station| Stop|Traffic_Calming|Traffic_Signal|Turning_Loop|Sunrise_Sunset|Civil_Twilight|Nautical_Twilight|Astronomical_Twilight|Day_of_Week|Weekday|Month|Season|Start_Time_Time|Rush Hour|\n",
      "+---+-------+--------+-------------------+-------------------+---------+---------+-------+-------+------------+--------------------+--------------------+------------+----------+-----+----------+-------+----------+------------+-------------------+--------------+-------------+-----------+------------+--------------+--------------+---------------+-----------------+-----------------+-------+-----+--------+--------+--------+-------+-------+----------+-------+-----+---------------+--------------+------------+--------------+--------------+-----------------+---------------------+-----------+-------+-----+------+---------------+---------+\n",
      "|A-1|Source2|       3|2016-02-08 05:46:00|2016-02-08 11:00:00|       40|      -84|   null|   null|           0|Right lane blocke...|              I-70 E|      Dayton|Montgomery|   OH|     45424|     US|US/Eastern|        KFFO|2016-02-08 05:58:00|            37|         null|         91|          30|            10|          Calm|           null|                0|       Light Rain|  false|false|   false|   false|   false|  false|  false|     false|  false|false|          false|         false|       false|         Night|         Night|            Night|                Night|          2|      1|    2|Winter|       05:46:00|        0|\n",
      "|A-2|Source2|       2|2016-02-08 06:07:59|2016-02-08 06:37:59|       40|      -83|   null|   null|           0|Accident on Brice...|            Brice Rd|Reynoldsburg|  Franklin|   OH|43068-3402|     US|US/Eastern|        KCMH|2016-02-08 05:51:00|            38|         null|        100|          30|            10|          Calm|           null|                0|       Light Rain|  false|false|   false|   false|   false|  false|  false|     false|  false|false|          false|         false|       false|         Night|         Night|            Night|                  Day|          2|      1|    2|Winter|       06:07:59|        1|\n",
      "|A-3|Source2|       2|2016-02-08 06:49:27|2016-02-08 07:19:27|       39|      -84|   null|   null|           0|Accident on OH-32...|      State Route 32|Williamsburg|  Clermont|   OH|     45176|     US|US/Eastern|        KI69|2016-02-08 06:56:00|            36|           33|        100|          30|            10|            SW|              4|             null|         Overcast|  false|false|   false|   false|   false|  false|  false|     false|  false|false|          false|          true|       false|         Night|         Night|              Day|                  Day|          2|      1|    2|Winter|       06:49:27|        1|\n",
      "|A-4|Source2|       3|2016-02-08 07:23:34|2016-02-08 07:53:34|       40|      -84|   null|   null|           0|Accident on I-75 ...|              I-75 S|      Dayton|Montgomery|   OH|     45417|     US|US/Eastern|        KDAY|2016-02-08 07:38:00|            35|           31|         96|          30|             9|            SW|              5|             null|    Mostly Cloudy|  false|false|   false|   false|   false|  false|  false|     false|  false|false|          false|         false|       false|         Night|           Day|              Day|                  Day|          2|      1|    2|Winter|       07:23:34|        1|\n",
      "|A-5|Source2|       2|2016-02-08 07:39:07|2016-02-08 08:09:07|       40|      -84|   null|   null|           0|Accident on McEwe...|Miamisburg Center...|      Dayton|Montgomery|   OH|     45459|     US|US/Eastern|        KMGY|2016-02-08 07:53:00|            36|           33|         89|          30|             6|            SW|              4|             null|    Mostly Cloudy|  false|false|   false|   false|   false|  false|  false|     false|  false|false|          false|          true|       false|           Day|           Day|              Day|                  Day|          2|      1|    2|Winter|       07:39:07|        1|\n",
      "+---+-------+--------+-------------------+-------------------+---------+---------+-------+-------+------------+--------------------+--------------------+------------+----------+-----+----------+-------+----------+------------+-------------------+--------------+-------------+-----------+------------+--------------+--------------+---------------+-----------------+-----------------+-------+-----+--------+--------+--------+-------+-------+----------+-------+-----+---------------+--------------+------------+--------------+--------------+-----------------+---------------------+-----------+-------+-----+------+---------------+---------+\n",
      "only showing top 5 rows\n",
      "\n"
     ]
    }
   ],
   "source": [
    "# Create Rush Hour Column\n",
    "# defined as 6-9am and 4-7pm (https://www.goldlaw.com/how-deadly-is-rush-hour/)\n",
    "df = df.withColumn('Start_Time_Time', date_format('Start_Time', 'HH:mm:ss'))\n",
    "df.show(5)\n",
    "df = df.withColumn(\n",
    "    'Rush Hour',\n",
    "    F.when(F.col('Start_Time_Time').between('06:00:00', '09:00:00'), 1)\\\n",
    "    .when(F.col('Start_Time_Time').between('16:00:00', '19:00:00'), 1)\\\n",
    "    .otherwise(0))\n",
    "df.show(5)"
   ]
  },
  {
   "cell_type": "code",
   "execution_count": 12,
   "metadata": {
    "tags": []
   },
   "outputs": [
    {
     "name": "stdout",
     "output_type": "stream",
     "text": [
      "+---+-------+--------+-------------------+-------------------+---------+---------+-------+-------+------------+--------------------+--------------------+------------+----------+-----+----------+-------+----------+------------+-------------------+--------------+-------------+-----------+------------+--------------+--------------+---------------+-----------------+-----------------+-------+-----+--------+--------+--------+-------+-------+----------+-------+-----+---------------+--------------+------------+--------------+--------------+-----------------+---------------------+-----------+-------+-----+------+---------------+---------+---------------+-------+\n",
      "| ID| Source|Severity|         Start_Time|           End_Time|Start_Lat|Start_Lng|End_Lat|End_Lng|Distance(mi)|         Description|              Street|        City|    County|State|   Zipcode|Country|  Timezone|Airport_Code|  Weather_Timestamp|Temperature(F)|Wind_Chill(F)|Humidity(%)|Pressure(in)|Visibility(mi)|Wind_Direction|Wind_Speed(mph)|Precipitation(in)|Weather_Condition|Amenity| Bump|Crossing|Give_way|Junction|No_Exit|Railway|Roundabout|Station| Stop|Traffic_Calming|Traffic_Signal|Turning_Loop|Sunrise_Sunset|Civil_Twilight|Nautical_Twilight|Astronomical_Twilight|Day_of_Week|Weekday|Month|Season|Start_Time_Time|Rush Hour|Start_Date_Date|Holiday|\n",
      "+---+-------+--------+-------------------+-------------------+---------+---------+-------+-------+------------+--------------------+--------------------+------------+----------+-----+----------+-------+----------+------------+-------------------+--------------+-------------+-----------+------------+--------------+--------------+---------------+-----------------+-----------------+-------+-----+--------+--------+--------+-------+-------+----------+-------+-----+---------------+--------------+------------+--------------+--------------+-----------------+---------------------+-----------+-------+-----+------+---------------+---------+---------------+-------+\n",
      "|A-1|Source2|       3|2016-02-08 05:46:00|2016-02-08 11:00:00|       40|      -84|   null|   null|           0|Right lane blocke...|              I-70 E|      Dayton|Montgomery|   OH|     45424|     US|US/Eastern|        KFFO|2016-02-08 05:58:00|            37|         null|         91|          30|            10|          Calm|           null|                0|       Light Rain|  false|false|   false|   false|   false|  false|  false|     false|  false|false|          false|         false|       false|         Night|         Night|            Night|                Night|          2|      1|    2|Winter|       05:46:00|        0|     2016-02-08|      0|\n",
      "|A-2|Source2|       2|2016-02-08 06:07:59|2016-02-08 06:37:59|       40|      -83|   null|   null|           0|Accident on Brice...|            Brice Rd|Reynoldsburg|  Franklin|   OH|43068-3402|     US|US/Eastern|        KCMH|2016-02-08 05:51:00|            38|         null|        100|          30|            10|          Calm|           null|                0|       Light Rain|  false|false|   false|   false|   false|  false|  false|     false|  false|false|          false|         false|       false|         Night|         Night|            Night|                  Day|          2|      1|    2|Winter|       06:07:59|        1|     2016-02-08|      0|\n",
      "|A-3|Source2|       2|2016-02-08 06:49:27|2016-02-08 07:19:27|       39|      -84|   null|   null|           0|Accident on OH-32...|      State Route 32|Williamsburg|  Clermont|   OH|     45176|     US|US/Eastern|        KI69|2016-02-08 06:56:00|            36|           33|        100|          30|            10|            SW|              4|             null|         Overcast|  false|false|   false|   false|   false|  false|  false|     false|  false|false|          false|          true|       false|         Night|         Night|              Day|                  Day|          2|      1|    2|Winter|       06:49:27|        1|     2016-02-08|      0|\n",
      "|A-4|Source2|       3|2016-02-08 07:23:34|2016-02-08 07:53:34|       40|      -84|   null|   null|           0|Accident on I-75 ...|              I-75 S|      Dayton|Montgomery|   OH|     45417|     US|US/Eastern|        KDAY|2016-02-08 07:38:00|            35|           31|         96|          30|             9|            SW|              5|             null|    Mostly Cloudy|  false|false|   false|   false|   false|  false|  false|     false|  false|false|          false|         false|       false|         Night|           Day|              Day|                  Day|          2|      1|    2|Winter|       07:23:34|        1|     2016-02-08|      0|\n",
      "|A-5|Source2|       2|2016-02-08 07:39:07|2016-02-08 08:09:07|       40|      -84|   null|   null|           0|Accident on McEwe...|Miamisburg Center...|      Dayton|Montgomery|   OH|     45459|     US|US/Eastern|        KMGY|2016-02-08 07:53:00|            36|           33|         89|          30|             6|            SW|              4|             null|    Mostly Cloudy|  false|false|   false|   false|   false|  false|  false|     false|  false|false|          false|          true|       false|           Day|           Day|              Day|                  Day|          2|      1|    2|Winter|       07:39:07|        1|     2016-02-08|      0|\n",
      "+---+-------+--------+-------------------+-------------------+---------+---------+-------+-------+------------+--------------------+--------------------+------------+----------+-----+----------+-------+----------+------------+-------------------+--------------+-------------+-----------+------------+--------------+--------------+---------------+-----------------+-----------------+-------+-----+--------+--------+--------+-------+-------+----------+-------+-----+---------------+--------------+------------+--------------+--------------+-----------------+---------------------+-----------+-------+-----+------+---------------+---------+---------------+-------+\n",
      "only showing top 5 rows\n",
      "\n"
     ]
    }
   ],
   "source": [
    "#Create list of holiday dates for span of data (2016-2023)\n",
    "df = df.withColumn('Start_Date_Date', date_format('Start_Time', 'yyyy-MM-dd')) # Create Date Column from Start Date\n",
    "\n",
    "h = []\n",
    "for ptr in holidays.UnitedStates(years = [2016,2017,2018,2019,2020,2021,2022,2023]).items(): \n",
    "    h.append(ptr[0].strftime(\"%Y-%m-%d\"))\n",
    "\n",
    "# Create Holiday column    \n",
    "df = df.withColumn(\n",
    "    'Holiday',\n",
    "    F.when(array_contains(lit(h), F.col(\"Start_Date_Date\")), 1)\\\n",
    "    .otherwise(0))\n",
    "df.show(5) "
   ]
  },
  {
   "cell_type": "code",
   "execution_count": 13,
   "metadata": {},
   "outputs": [
    {
     "name": "stdout",
     "output_type": "stream",
     "text": [
      "+---+-------+--------+-------------------+-------------------+---------+---------+-------+-------+------------+--------------------+--------------------+------------+----------+-----+----------+-------+----------+------------+-------------------+--------------+-------------+-----------+------------+--------------+--------------+---------------+-----------------+-----------------+-------+-----+--------+--------+--------+-------+-------+----------+-------+-----+---------------+--------------+------------+--------------+--------------+-----------------+---------------------+-----------+-------+-----+------+---------------+---------+---------------+-------+----+----+\n",
      "| ID| Source|Severity|         Start_Time|           End_Time|Start_Lat|Start_Lng|End_Lat|End_Lng|Distance(mi)|         Description|              Street|        City|    County|State|   Zipcode|Country|  Timezone|Airport_Code|  Weather_Timestamp|Temperature(F)|Wind_Chill(F)|Humidity(%)|Pressure(in)|Visibility(mi)|Wind_Direction|Wind_Speed(mph)|Precipitation(in)|Weather_Condition|Amenity| Bump|Crossing|Give_way|Junction|No_Exit|Railway|Roundabout|Station| Stop|Traffic_Calming|Traffic_Signal|Turning_Loop|Sunrise_Sunset|Civil_Twilight|Nautical_Twilight|Astronomical_Twilight|Day_of_Week|Weekday|Month|Season|Start_Time_Time|Rush Hour|Start_Date_Date|Holiday|Rain|Snow|\n",
      "+---+-------+--------+-------------------+-------------------+---------+---------+-------+-------+------------+--------------------+--------------------+------------+----------+-----+----------+-------+----------+------------+-------------------+--------------+-------------+-----------+------------+--------------+--------------+---------------+-----------------+-----------------+-------+-----+--------+--------+--------+-------+-------+----------+-------+-----+---------------+--------------+------------+--------------+--------------+-----------------+---------------------+-----------+-------+-----+------+---------------+---------+---------------+-------+----+----+\n",
      "|A-1|Source2|       3|2016-02-08 05:46:00|2016-02-08 11:00:00|       40|      -84|   null|   null|           0|Right lane blocke...|              I-70 E|      Dayton|Montgomery|   OH|     45424|     US|US/Eastern|        KFFO|2016-02-08 05:58:00|            37|         null|         91|          30|            10|          Calm|           null|                0|       Light Rain|  false|false|   false|   false|   false|  false|  false|     false|  false|false|          false|         false|       false|         Night|         Night|            Night|                Night|          2|      1|    2|Winter|       05:46:00|        0|     2016-02-08|      0|   1|   0|\n",
      "|A-2|Source2|       2|2016-02-08 06:07:59|2016-02-08 06:37:59|       40|      -83|   null|   null|           0|Accident on Brice...|            Brice Rd|Reynoldsburg|  Franklin|   OH|43068-3402|     US|US/Eastern|        KCMH|2016-02-08 05:51:00|            38|         null|        100|          30|            10|          Calm|           null|                0|       Light Rain|  false|false|   false|   false|   false|  false|  false|     false|  false|false|          false|         false|       false|         Night|         Night|            Night|                  Day|          2|      1|    2|Winter|       06:07:59|        1|     2016-02-08|      0|   1|   0|\n",
      "|A-3|Source2|       2|2016-02-08 06:49:27|2016-02-08 07:19:27|       39|      -84|   null|   null|           0|Accident on OH-32...|      State Route 32|Williamsburg|  Clermont|   OH|     45176|     US|US/Eastern|        KI69|2016-02-08 06:56:00|            36|           33|        100|          30|            10|            SW|              4|             null|         Overcast|  false|false|   false|   false|   false|  false|  false|     false|  false|false|          false|          true|       false|         Night|         Night|              Day|                  Day|          2|      1|    2|Winter|       06:49:27|        1|     2016-02-08|      0|   0|   0|\n",
      "|A-4|Source2|       3|2016-02-08 07:23:34|2016-02-08 07:53:34|       40|      -84|   null|   null|           0|Accident on I-75 ...|              I-75 S|      Dayton|Montgomery|   OH|     45417|     US|US/Eastern|        KDAY|2016-02-08 07:38:00|            35|           31|         96|          30|             9|            SW|              5|             null|    Mostly Cloudy|  false|false|   false|   false|   false|  false|  false|     false|  false|false|          false|         false|       false|         Night|           Day|              Day|                  Day|          2|      1|    2|Winter|       07:23:34|        1|     2016-02-08|      0|   0|   0|\n",
      "|A-5|Source2|       2|2016-02-08 07:39:07|2016-02-08 08:09:07|       40|      -84|   null|   null|           0|Accident on McEwe...|Miamisburg Center...|      Dayton|Montgomery|   OH|     45459|     US|US/Eastern|        KMGY|2016-02-08 07:53:00|            36|           33|         89|          30|             6|            SW|              4|             null|    Mostly Cloudy|  false|false|   false|   false|   false|  false|  false|     false|  false|false|          false|          true|       false|           Day|           Day|              Day|                  Day|          2|      1|    2|Winter|       07:39:07|        1|     2016-02-08|      0|   0|   0|\n",
      "+---+-------+--------+-------------------+-------------------+---------+---------+-------+-------+------------+--------------------+--------------------+------------+----------+-----+----------+-------+----------+------------+-------------------+--------------+-------------+-----------+------------+--------------+--------------+---------------+-----------------+-----------------+-------+-----+--------+--------+--------+-------+-------+----------+-------+-----+---------------+--------------+------------+--------------+--------------+-----------------+---------------------+-----------+-------+-----+------+---------------+---------+---------------+-------+----+----+\n",
      "only showing top 5 rows\n",
      "\n"
     ]
    }
   ],
   "source": [
    "# Create columns for rain and snow from weather_condition column\n",
    "\n",
    "rain_values = ['Rain', 'Drizzle', 'Mist', 'N/A Precipitation']\n",
    "snow_values = ['Ice', 'Snow', 'Hail', 'Sleet', 'Wintry Mix', 'Freezing Rain', 'Freezing Drizzle']\n",
    "\n",
    "condition = F.when(F.col('Weather_Condition').rlike(\"|\".join(rain_values)), 1).otherwise(0)\n",
    "df = df.withColumn(\"Rain\", condition)\n",
    "\n",
    "condition = F.when(F.col('Weather_Condition').rlike(\"|\".join(snow_values)), 1).otherwise(0)\n",
    "df = df.withColumn(\"Snow\", condition)\n",
    "\n",
    "df.show(5)"
   ]
  },
  {
   "cell_type": "markdown",
   "metadata": {},
   "source": [
    "# Encoding Categorical Variables"
   ]
  },
  {
   "cell_type": "code",
   "execution_count": 14,
   "metadata": {},
   "outputs": [
    {
     "name": "stderr",
     "output_type": "stream",
     "text": [
      "                                                                                \r"
     ]
    },
    {
     "name": "stdout",
     "output_type": "stream",
     "text": [
      "+---+-------+--------+-------------------+-------------------+---------+---------+-------+-------+------------+--------------------+--------------------+------------+----------+-----+----------+-------+----------+------------+-------------------+--------------+-------------+-----------+------------+--------------+--------------+---------------+-----------------+-----------------+-------+-----+--------+--------+--------+-------+-------+----------+-------+-----+---------------+--------------+------------+--------------+--------------+-----------------+---------------------+-----------+-------+-----+------+---------------+---------+---------------+-------+----+----+-----------+-------------+\n",
      "| ID| Source|Severity|         Start_Time|           End_Time|Start_Lat|Start_Lng|End_Lat|End_Lng|Distance(mi)|         Description|              Street|        City|    County|State|   Zipcode|Country|  Timezone|Airport_Code|  Weather_Timestamp|Temperature(F)|Wind_Chill(F)|Humidity(%)|Pressure(in)|Visibility(mi)|Wind_Direction|Wind_Speed(mph)|Precipitation(in)|Weather_Condition|Amenity| Bump|Crossing|Give_way|Junction|No_Exit|Railway|Roundabout|Station| Stop|Traffic_Calming|Traffic_Signal|Turning_Loop|Sunrise_Sunset|Civil_Twilight|Nautical_Twilight|Astronomical_Twilight|Day_of_Week|Weekday|Month|Season|Start_Time_Time|Rush Hour|Start_Date_Date|Holiday|Rain|Snow|SeasonIndex|    SeasonVec|\n",
      "+---+-------+--------+-------------------+-------------------+---------+---------+-------+-------+------------+--------------------+--------------------+------------+----------+-----+----------+-------+----------+------------+-------------------+--------------+-------------+-----------+------------+--------------+--------------+---------------+-----------------+-----------------+-------+-----+--------+--------+--------+-------+-------+----------+-------+-----+---------------+--------------+------------+--------------+--------------+-----------------+---------------------+-----------+-------+-----+------+---------------+---------+---------------+-------+----+----+-----------+-------------+\n",
      "|A-1|Source2|       3|2016-02-08 05:46:00|2016-02-08 11:00:00|       40|      -84|   null|   null|           0|Right lane blocke...|              I-70 E|      Dayton|Montgomery|   OH|     45424|     US|US/Eastern|        KFFO|2016-02-08 05:58:00|            37|         null|         91|          30|            10|          Calm|           null|                0|       Light Rain|  false|false|   false|   false|   false|  false|  false|     false|  false|false|          false|         false|       false|         Night|         Night|            Night|                Night|          2|      1|    2|Winter|       05:46:00|        0|     2016-02-08|      0|   1|   0|        0.0|(3,[0],[1.0])|\n",
      "|A-2|Source2|       2|2016-02-08 06:07:59|2016-02-08 06:37:59|       40|      -83|   null|   null|           0|Accident on Brice...|            Brice Rd|Reynoldsburg|  Franklin|   OH|43068-3402|     US|US/Eastern|        KCMH|2016-02-08 05:51:00|            38|         null|        100|          30|            10|          Calm|           null|                0|       Light Rain|  false|false|   false|   false|   false|  false|  false|     false|  false|false|          false|         false|       false|         Night|         Night|            Night|                  Day|          2|      1|    2|Winter|       06:07:59|        1|     2016-02-08|      0|   1|   0|        0.0|(3,[0],[1.0])|\n",
      "|A-3|Source2|       2|2016-02-08 06:49:27|2016-02-08 07:19:27|       39|      -84|   null|   null|           0|Accident on OH-32...|      State Route 32|Williamsburg|  Clermont|   OH|     45176|     US|US/Eastern|        KI69|2016-02-08 06:56:00|            36|           33|        100|          30|            10|            SW|              4|             null|         Overcast|  false|false|   false|   false|   false|  false|  false|     false|  false|false|          false|          true|       false|         Night|         Night|              Day|                  Day|          2|      1|    2|Winter|       06:49:27|        1|     2016-02-08|      0|   0|   0|        0.0|(3,[0],[1.0])|\n",
      "|A-4|Source2|       3|2016-02-08 07:23:34|2016-02-08 07:53:34|       40|      -84|   null|   null|           0|Accident on I-75 ...|              I-75 S|      Dayton|Montgomery|   OH|     45417|     US|US/Eastern|        KDAY|2016-02-08 07:38:00|            35|           31|         96|          30|             9|            SW|              5|             null|    Mostly Cloudy|  false|false|   false|   false|   false|  false|  false|     false|  false|false|          false|         false|       false|         Night|           Day|              Day|                  Day|          2|      1|    2|Winter|       07:23:34|        1|     2016-02-08|      0|   0|   0|        0.0|(3,[0],[1.0])|\n",
      "|A-5|Source2|       2|2016-02-08 07:39:07|2016-02-08 08:09:07|       40|      -84|   null|   null|           0|Accident on McEwe...|Miamisburg Center...|      Dayton|Montgomery|   OH|     45459|     US|US/Eastern|        KMGY|2016-02-08 07:53:00|            36|           33|         89|          30|             6|            SW|              4|             null|    Mostly Cloudy|  false|false|   false|   false|   false|  false|  false|     false|  false|false|          false|          true|       false|           Day|           Day|              Day|                  Day|          2|      1|    2|Winter|       07:39:07|        1|     2016-02-08|      0|   0|   0|        0.0|(3,[0],[1.0])|\n",
      "+---+-------+--------+-------------------+-------------------+---------+---------+-------+-------+------------+--------------------+--------------------+------------+----------+-----+----------+-------+----------+------------+-------------------+--------------+-------------+-----------+------------+--------------+--------------+---------------+-----------------+-----------------+-------+-----+--------+--------+--------+-------+-------+----------+-------+-----+---------------+--------------+------------+--------------+--------------+-----------------+---------------------+-----------+-------+-----+------+---------------+---------+---------------+-------+----+----+-----------+-------------+\n",
      "only showing top 5 rows\n",
      "\n"
     ]
    }
   ],
   "source": [
    "# Encode Season\n",
    "\n",
    "# StringIndexer\n",
    "indexer = StringIndexer(inputCol=\"Season\", outputCol=\"SeasonIndex\")\n",
    "indexed = indexer.fit(df).transform(df)\n",
    "\n",
    "# OneHotEncoder\n",
    "encoder = OneHotEncoder(inputCols=[\"SeasonIndex\"], outputCols=[\"SeasonVec\"])\n",
    "df = encoder.fit(indexed).transform(indexed)\n",
    "\n",
    "# Show the result\n",
    "df.show(5)"
   ]
  },
  {
   "cell_type": "code",
   "execution_count": 15,
   "metadata": {
    "tags": []
   },
   "outputs": [
    {
     "name": "stderr",
     "output_type": "stream",
     "text": [
      "                                                                                \r"
     ]
    },
    {
     "name": "stdout",
     "output_type": "stream",
     "text": [
      "+----+-------+--------+-------------------+-------------------+---------+---------+-------+-------+------------+--------------------+--------------------+------------+----------+-----+----------+-------+----------+------------+-------------------+--------------+-------------+-----------+------------+--------------+--------------+---------------+-----------------+-----------------+-------+-----+--------+--------+--------+-------+-------+----------+-------+-----+---------------+--------------+------------+--------------+--------------+-----------------+---------------------+-----------+-------+-----+------+---------------+---------+---------------+-------+----+----+-----------+-------------+-------------------+-------------------+----------------------+--------------------------+\n",
      "|  ID| Source|Severity|         Start_Time|           End_Time|Start_Lat|Start_Lng|End_Lat|End_Lng|Distance(mi)|         Description|              Street|        City|    County|State|   Zipcode|Country|  Timezone|Airport_Code|  Weather_Timestamp|Temperature(F)|Wind_Chill(F)|Humidity(%)|Pressure(in)|Visibility(mi)|Wind_Direction|Wind_Speed(mph)|Precipitation(in)|Weather_Condition|Amenity| Bump|Crossing|Give_way|Junction|No_Exit|Railway|Roundabout|Station| Stop|Traffic_Calming|Traffic_Signal|Turning_Loop|Sunrise_Sunset|Civil_Twilight|Nautical_Twilight|Astronomical_Twilight|Day_of_Week|Weekday|Month|Season|Start_Time_Time|Rush Hour|Start_Date_Date|Holiday|Rain|Snow|SeasonIndex|    SeasonVec|Sunrise_SunsetIndex|Civil_TwilightIndex|Nautical_TwilightIndex|Astronomical_TwilightIndex|\n",
      "+----+-------+--------+-------------------+-------------------+---------+---------+-------+-------+------------+--------------------+--------------------+------------+----------+-----+----------+-------+----------+------------+-------------------+--------------+-------------+-----------+------------+--------------+--------------+---------------+-----------------+-----------------+-------+-----+--------+--------+--------+-------+-------+----------+-------+-----+---------------+--------------+------------+--------------+--------------+-----------------+---------------------+-----------+-------+-----+------+---------------+---------+---------------+-------+----+----+-----------+-------------+-------------------+-------------------+----------------------+--------------------------+\n",
      "| A-1|Source2|       3|2016-02-08 05:46:00|2016-02-08 11:00:00|       40|      -84|   null|   null|           0|Right lane blocke...|              I-70 E|      Dayton|Montgomery|   OH|     45424|     US|US/Eastern|        KFFO|2016-02-08 05:58:00|            37|         null|         91|          30|            10|          Calm|           null|                0|       Light Rain|  false|false|   false|   false|   false|  false|  false|     false|  false|false|          false|         false|       false|         Night|         Night|            Night|                Night|          2|      1|    2|Winter|       05:46:00|        0|     2016-02-08|      0|   1|   0|        0.0|(3,[0],[1.0])|                  1|                  1|                     1|                         1|\n",
      "| A-2|Source2|       2|2016-02-08 06:07:59|2016-02-08 06:37:59|       40|      -83|   null|   null|           0|Accident on Brice...|            Brice Rd|Reynoldsburg|  Franklin|   OH|43068-3402|     US|US/Eastern|        KCMH|2016-02-08 05:51:00|            38|         null|        100|          30|            10|          Calm|           null|                0|       Light Rain|  false|false|   false|   false|   false|  false|  false|     false|  false|false|          false|         false|       false|         Night|         Night|            Night|                  Day|          2|      1|    2|Winter|       06:07:59|        1|     2016-02-08|      0|   1|   0|        0.0|(3,[0],[1.0])|                  1|                  1|                     1|                         0|\n",
      "| A-3|Source2|       2|2016-02-08 06:49:27|2016-02-08 07:19:27|       39|      -84|   null|   null|           0|Accident on OH-32...|      State Route 32|Williamsburg|  Clermont|   OH|     45176|     US|US/Eastern|        KI69|2016-02-08 06:56:00|            36|           33|        100|          30|            10|            SW|              4|             null|         Overcast|  false|false|   false|   false|   false|  false|  false|     false|  false|false|          false|          true|       false|         Night|         Night|              Day|                  Day|          2|      1|    2|Winter|       06:49:27|        1|     2016-02-08|      0|   0|   0|        0.0|(3,[0],[1.0])|                  1|                  1|                     0|                         0|\n",
      "| A-4|Source2|       3|2016-02-08 07:23:34|2016-02-08 07:53:34|       40|      -84|   null|   null|           0|Accident on I-75 ...|              I-75 S|      Dayton|Montgomery|   OH|     45417|     US|US/Eastern|        KDAY|2016-02-08 07:38:00|            35|           31|         96|          30|             9|            SW|              5|             null|    Mostly Cloudy|  false|false|   false|   false|   false|  false|  false|     false|  false|false|          false|         false|       false|         Night|           Day|              Day|                  Day|          2|      1|    2|Winter|       07:23:34|        1|     2016-02-08|      0|   0|   0|        0.0|(3,[0],[1.0])|                  1|                  0|                     0|                         0|\n",
      "| A-5|Source2|       2|2016-02-08 07:39:07|2016-02-08 08:09:07|       40|      -84|   null|   null|           0|Accident on McEwe...|Miamisburg Center...|      Dayton|Montgomery|   OH|     45459|     US|US/Eastern|        KMGY|2016-02-08 07:53:00|            36|           33|         89|          30|             6|            SW|              4|             null|    Mostly Cloudy|  false|false|   false|   false|   false|  false|  false|     false|  false|false|          false|          true|       false|           Day|           Day|              Day|                  Day|          2|      1|    2|Winter|       07:39:07|        1|     2016-02-08|      0|   0|   0|        0.0|(3,[0],[1.0])|                  0|                  0|                     0|                         0|\n",
      "| A-6|Source2|       3|2016-02-08 07:44:26|2016-02-08 08:14:26|       40|      -83|   null|   null|           0|Accident on I-270...|      Westerville Rd| Westerville|  Franklin|   OH|     43081|     US|US/Eastern|        KCMH|2016-02-08 07:51:00|            38|           36|         97|          30|             7|           SSW|              4|                0|       Light Rain|  false|false|   false|   false|   false|  false|  false|     false|  false|false|          false|         false|       false|           Day|           Day|              Day|                  Day|          2|      1|    2|Winter|       07:44:26|        1|     2016-02-08|      0|   1|   0|        0.0|(3,[0],[1.0])|                  0|                  0|                     0|                         0|\n",
      "| A-7|Source2|       2|2016-02-08 07:59:35|2016-02-08 08:29:35|       40|      -84|   null|   null|           0|Accident on Oakri...|      N Woodward Ave|      Dayton|Montgomery|   OH|45417-2476|     US|US/Eastern|        KDAY|2016-02-08 07:56:00|            34|           31|        100|          30|             7|           WSW|              4|             null|         Overcast|  false|false|   false|   false|   false|  false|  false|     false|  false|false|          false|         false|       false|           Day|           Day|              Day|                  Day|          2|      1|    2|Winter|       07:59:35|        1|     2016-02-08|      0|   0|   0|        0.0|(3,[0],[1.0])|                  0|                  0|                     0|                         0|\n",
      "| A-8|Source2|       3|2016-02-08 07:59:58|2016-02-08 08:29:58|       40|      -84|   null|   null|           0|Accident on I-75 ...|           N Main St|      Dayton|Montgomery|   OH|     45405|     US|US/Eastern|        KDAY|2016-02-08 07:56:00|            34|           31|        100|          30|             7|           WSW|              4|             null|         Overcast|  false|false|   false|   false|   false|  false|  false|     false|  false|false|          false|         false|       false|           Day|           Day|              Day|                  Day|          2|      1|    2|Winter|       07:59:58|        1|     2016-02-08|      0|   0|   0|        0.0|(3,[0],[1.0])|                  0|                  0|                     0|                         0|\n",
      "| A-9|Source2|       2|2016-02-08 08:00:40|2016-02-08 08:30:40|       40|      -84|   null|   null|           0|Accident on Notre...|      Notre Dame Ave|      Dayton|Montgomery|   OH|45404-1923|     US|US/Eastern|        KFFO|2016-02-08 07:58:00|            33|         null|         99|          30|             5|            SW|              1|             null|    Mostly Cloudy|  false|false|   false|   false|   false|  false|  false|     false|  false|false|          false|         false|       false|           Day|           Day|              Day|                  Day|          2|      1|    2|Winter|       08:00:40|        1|     2016-02-08|      0|   0|   0|        0.0|(3,[0],[1.0])|                  0|                  0|                     0|                         0|\n",
      "|A-10|Source2|       3|2016-02-08 08:10:04|2016-02-08 08:40:04|       40|      -83|   null|   null|           0|Right hand should...|      Westerville Rd| Westerville|  Franklin|   OH|     43081|     US|US/Eastern|        KCMH|2016-02-08 08:28:00|            37|           34|        100|          30|             3|           SSW|              5|                0|       Light Rain|  false|false|   false|   false|   false|  false|  false|     false|  false|false|          false|         false|       false|           Day|           Day|              Day|                  Day|          2|      1|    2|Winter|       08:10:04|        1|     2016-02-08|      0|   1|   0|        0.0|(3,[0],[1.0])|                  0|                  0|                     0|                         0|\n",
      "+----+-------+--------+-------------------+-------------------+---------+---------+-------+-------+------------+--------------------+--------------------+------------+----------+-----+----------+-------+----------+------------+-------------------+--------------+-------------+-----------+------------+--------------+--------------+---------------+-----------------+-----------------+-------+-----+--------+--------+--------+-------+-------+----------+-------+-----+---------------+--------------+------------+--------------+--------------+-----------------+---------------------+-----------+-------+-----+------+---------------+---------+---------------+-------+----+----+-----------+-------------+-------------------+-------------------+----------------------+--------------------------+\n",
      "only showing top 10 rows\n",
      "\n"
     ]
    }
   ],
   "source": [
    "#Encode Day/Night to 1/0\n",
    "for x in enumerate(['Sunrise_Sunset'\n",
    "               , 'Civil_Twilight'\n",
    "               , 'Nautical_Twilight'\n",
    "               , 'Astronomical_Twilight']):\n",
    "    # Create a StringIndexer instance\n",
    "    indexer = StringIndexer(inputCol=x[1], outputCol=f\"{x[1]}Index\").setHandleInvalid(\"keep\")\n",
    "\n",
    "    # Fit the indexer to the data\n",
    "    model = indexer.fit(df)\n",
    "\n",
    "    # Transform the data to include the indexed column\n",
    "    df = model.transform(df)\n",
    "    \n",
    "# Change Data Type \n",
    "for x in enumerate(['Sunrise_SunsetIndex'\n",
    "               , 'Civil_TwilightIndex'\n",
    "               , 'Nautical_TwilightIndex'\n",
    "               , 'Astronomical_TwilightIndex']):\n",
    "    df = df.withColumn(x[1], col(x[1]).cast(\"int\"))\n",
    "df.show(10)"
   ]
  },
  {
   "cell_type": "markdown",
   "metadata": {},
   "source": [
    "# Engineering Other Columns"
   ]
  },
  {
   "cell_type": "code",
   "execution_count": 16,
   "metadata": {},
   "outputs": [],
   "source": [
    "pattern = r\"(I-|Freeway|freeway|Interstate|interstate)\"\n",
    "df = df.withColumn(\"Interstate Indicator\", F.when(F.col(\"Street\").rlike(pattern), 1).otherwise(0)) #create the \"Interstate Indicator\" column"
   ]
  },
  {
   "cell_type": "markdown",
   "metadata": {},
   "source": [
    "# Correlations"
   ]
  },
  {
   "cell_type": "code",
   "execution_count": 17,
   "metadata": {
    "tags": []
   },
   "outputs": [
    {
     "name": "stderr",
     "output_type": "stream",
     "text": [
      "24/10/31 11:45:14 WARN InstanceBuilder: Failed to load implementation from:dev.ludovic.netlib.blas.JNIBLAS\n",
      "                                                                                \r"
     ]
    },
    {
     "data": {
      "image/png": "[encoded data removed]",
      "text/plain": [
       "<Figure size 640x480 with 2 Axes>"
      ]
     },
     "metadata": {},
     "output_type": "display_data"
    }
   ],
   "source": [
    "# Correlations - Day/Night Columns\n",
    "# Select Relevant Columns\n",
    "df1 = df.select('Sunrise_SunsetIndex'\n",
    "               , 'Civil_TwilightIndex'\n",
    "               , 'Nautical_TwilightIndex'\n",
    "               , 'Astronomical_TwilightIndex')\n",
    "df1 = df1.na.drop()\n",
    "\n",
    "# Assemble features into a vector column\n",
    "assembler = VectorAssembler(inputCols=['Sunrise_SunsetIndex'\n",
    "               , 'Civil_TwilightIndex'\n",
    "               , 'Nautical_TwilightIndex'\n",
    "               , 'Astronomical_TwilightIndex'], outputCol=\"features\")\n",
    "df_vector = assembler.transform(df1)\n",
    "\n",
    "# Calculate the correlation matrix\n",
    "correlation_matrix = Correlation.corr(df_vector, \"features\").head()[0]\n",
    "\n",
    "# Turn into a dataframe\n",
    "corr_matrix_pd = pd.DataFrame(correlation_matrix.toArray(), columns=df1.columns, index=df1.columns)\n",
    "\n",
    "#Plot\n",
    "sns.heatmap(corr_matrix_pd, annot=True, cmap=\"coolwarm\")\n",
    "plt.show()"
   ]
  },
  {
   "cell_type": "code",
   "execution_count": 18,
   "metadata": {
    "tags": []
   },
   "outputs": [
    {
     "name": "stderr",
     "output_type": "stream",
     "text": [
      "                                                                                \r"
     ]
    },
    {
     "data": {
      "image/png": "[encoded data removed]",
      "text/plain": [
       "<Figure size 640x480 with 2 Axes>"
      ]
     },
     "metadata": {},
     "output_type": "display_data"
    }
   ],
   "source": [
    "# Correlations - Weather Columns\n",
    "# Select Relevant Columns\n",
    "df1 = df.select('Temperature(F)'\n",
    "               , 'Wind_Chill(F)'\n",
    "               , 'Humidity(%)'\n",
    "               , 'Pressure(in)'\n",
    "               , 'Visibility(mi)'\n",
    "               #, 'Wind_Direction'\n",
    "               , 'Wind_Speed(mph)'\n",
    "               , 'Precipitation(in)')\n",
    "df1 = df1.na.drop()\n",
    "\n",
    "# Assemble features into a vector column\n",
    "assembler = VectorAssembler(inputCols=['Temperature(F)'\n",
    "               , 'Wind_Chill(F)'\n",
    "               , 'Humidity(%)'\n",
    "               , 'Pressure(in)'\n",
    "               , 'Visibility(mi)'\n",
    "               #, 'Wind_Direction'\n",
    "               , 'Wind_Speed(mph)'\n",
    "               , 'Precipitation(in)'], outputCol=\"features\")\n",
    "df_vector = assembler.transform(df1)\n",
    "\n",
    "# Calculate the correlation matrix\n",
    "correlation_matrix = Correlation.corr(df_vector, \"features\").head()[0]\n",
    "\n",
    "# Turn into a dataframe\n",
    "corr_matrix_pd = pd.DataFrame(correlation_matrix.toArray(), columns=df1.columns, index=df1.columns)\n",
    "\n",
    "#Plot\n",
    "sns.heatmap(corr_matrix_pd, annot=True, cmap=\"coolwarm\")\n",
    "plt.show()"
   ]
  },
  {
   "cell_type": "markdown",
   "metadata": {},
   "source": [
    "# Add Demographic Columns based on Zipcode"
   ]
  },
  {
   "cell_type": "code",
   "execution_count": 19,
   "metadata": {
    "tags": []
   },
   "outputs": [],
   "source": [
    "# Add code from Layla here"
   ]
  },
  {
   "cell_type": "markdown",
   "metadata": {},
   "source": [
    "# Initial Column Removal"
   ]
  },
  {
   "cell_type": "code",
   "execution_count": 20,
   "metadata": {
    "tags": []
   },
   "outputs": [
    {
     "name": "stdout",
     "output_type": "stream",
     "text": [
      "['ID', 'Source', 'Severity', 'Start_Time', 'End_Time', 'Start_Lat', 'Start_Lng', 'End_Lat', 'End_Lng', 'Distance(mi)', 'Description', 'Street', 'City', 'County', 'State', 'Zipcode', 'Country', 'Timezone', 'Airport_Code', 'Weather_Timestamp', 'Temperature(F)', 'Wind_Chill(F)', 'Humidity(%)', 'Pressure(in)', 'Visibility(mi)', 'Wind_Direction', 'Wind_Speed(mph)', 'Precipitation(in)', 'Weather_Condition', 'Amenity', 'Bump', 'Crossing', 'Give_way', 'Junction', 'No_Exit', 'Railway', 'Roundabout', 'Station', 'Stop', 'Traffic_Calming', 'Traffic_Signal', 'Turning_Loop', 'Sunrise_Sunset', 'Civil_Twilight', 'Nautical_Twilight', 'Astronomical_Twilight', 'Day_of_Week', 'Weekday', 'Month', 'Season', 'Start_Time_Time', 'Rush Hour', 'Start_Date_Date', 'Holiday', 'Rain', 'Snow', 'SeasonIndex', 'SeasonVec', 'Sunrise_SunsetIndex', 'Civil_TwilightIndex', 'Nautical_TwilightIndex', 'Astronomical_TwilightIndex', 'Interstate Indicator']\n"
     ]
    }
   ],
   "source": [
    "#List all columns\n",
    "print(df.columns)"
   ]
  },
  {
   "cell_type": "code",
   "execution_count": 21,
   "metadata": {},
   "outputs": [
    {
     "name": "stdout",
     "output_type": "stream",
     "text": [
      "+--------+--------------+-----------+------------+--------------+---------------+-----------------+-------+-----+--------+--------+--------+-------+-------+----------+-------+-----+---------------+--------------+-------+---------+-------+----+----+-------------+--------------------------+--------------------+\n",
      "|Severity|Temperature(F)|Humidity(%)|Pressure(in)|Visibility(mi)|Wind_Speed(mph)|Precipitation(in)|Amenity| Bump|Crossing|Give_way|Junction|No_Exit|Railway|Roundabout|Station| Stop|Traffic_Calming|Traffic_Signal|Weekday|Rush Hour|Holiday|Rain|Snow|    SeasonVec|Astronomical_TwilightIndex|Interstate Indicator|\n",
      "+--------+--------------+-----------+------------+--------------+---------------+-----------------+-------+-----+--------+--------+--------+-------+-------+----------+-------+-----+---------------+--------------+-------+---------+-------+----+----+-------------+--------------------------+--------------------+\n",
      "|       3|            37|         91|          30|            10|           null|                0|  false|false|   false|   false|   false|  false|  false|     false|  false|false|          false|         false|      1|        0|      0|   1|   0|(3,[0],[1.0])|                         1|                   1|\n",
      "|       2|            38|        100|          30|            10|           null|                0|  false|false|   false|   false|   false|  false|  false|     false|  false|false|          false|         false|      1|        1|      0|   1|   0|(3,[0],[1.0])|                         0|                   0|\n",
      "|       2|            36|        100|          30|            10|              4|             null|  false|false|   false|   false|   false|  false|  false|     false|  false|false|          false|          true|      1|        1|      0|   0|   0|(3,[0],[1.0])|                         0|                   0|\n",
      "|       3|            35|         96|          30|             9|              5|             null|  false|false|   false|   false|   false|  false|  false|     false|  false|false|          false|         false|      1|        1|      0|   0|   0|(3,[0],[1.0])|                         0|                   1|\n",
      "|       2|            36|         89|          30|             6|              4|             null|  false|false|   false|   false|   false|  false|  false|     false|  false|false|          false|          true|      1|        1|      0|   0|   0|(3,[0],[1.0])|                         0|                   0|\n",
      "+--------+--------------+-----------+------------+--------------+---------------+-----------------+-------+-----+--------+--------+--------+-------+-------+----------+-------+-----+---------------+--------------+-------+---------+-------+----+----+-------------+--------------------------+--------------------+\n",
      "only showing top 5 rows\n",
      "\n"
     ]
    }
   ],
   "source": [
    "# Initial Column Removal\n",
    "df = df.drop(\n",
    "            'ID'\n",
    "             , 'Source' # Not useful?\n",
    "             #, 'Severity'\n",
    "             , 'Start_Time' # Used to calculate Rush Hour and Holiday Columns\n",
    "             , 'End_Time'\n",
    "             , 'Start_Lat'\n",
    "             , 'Start_Lng'\n",
    "             , 'End_Lat'\n",
    "             , 'End_Lng'\n",
    "             , 'Distance(mi)' # Data leakage issue - captured after accident occured\n",
    "             , 'Description' # Captures little new data\n",
    "             , 'Street' # Not useful for prediction\n",
    "             , 'City'\n",
    "             , 'County'\n",
    "             , 'State'\n",
    "             , 'Zipcode'\n",
    "             , 'Country' # 100% US\n",
    "             , 'Timezone' # Not for prediction\n",
    "             , 'Airport_Code' # Not for prediction\n",
    "             , 'Weather_Timestamp' # Not for prediction\n",
    "             #, 'Temperature(F)'\n",
    "             , 'Wind_Chill(F)' # 99% correlated with Temperature(F)\n",
    "             #, 'Humidity(%)'\n",
    "             #, 'Pressure(in)'\n",
    "             #, 'Visibility(mi)'\n",
    "             , 'Wind_Direction' # Not useful?\n",
    "             #, 'Wind_Speed(mph)'\n",
    "             #, 'Precipitation(in)'\n",
    "             , 'Weather_Condition' # Turning into binary columns for rain and snow\n",
    "             #, 'Amenity' #1% true\n",
    "             #, 'Bump' #0% true\n",
    "             #, 'Crossing' #11% true\n",
    "             #, 'Give_way' #0% true\n",
    "             #, 'Junction' #7% true\n",
    "             #, 'No_Exit' #0% true\n",
    "             #, 'Railway' #1% true\n",
    "             #, 'Roundabout' #0% true\n",
    "             #, 'Station' #3% true\n",
    "             #, 'Stop' #3% true\n",
    "             #, 'Traffic_Calming' #0% true\n",
    "             #, 'Traffic_Signal' #15% true\n",
    "             , 'Turning_Loop' # 100% False (not a single true value)\n",
    "             , 'Sunrise_Sunset' # Highly correlated with other day/night variables\n",
    "             , 'Civil_Twilight' # Highly correlated with other day/night variables\n",
    "             , 'Nautical_Twilight' # Highly correlated with other day/night variables\n",
    "             , 'Astronomical_Twilight' # True Night - removing to keep index column\n",
    "             , 'Day_of_Week' # Used to create Weekday column\n",
    "             #, 'Weekday'\n",
    "             , 'Month' # Use Season instead\n",
    "             , 'Season' #Used to create SeasonVec\n",
    "             , 'Start_Time_Time' #Used to calculate Rush Hour Column\n",
    "             #, 'Rush Hour'\n",
    "             , 'Start_Date_Date' #Used to calculate Holiday Column\n",
    "             #, 'Holiday'\n",
    "             #, 'Snow'\n",
    "             #, 'Rain'\n",
    "             , 'Sunrise_SunsetIndex' # Highly correlated with other day/night variables\n",
    "             , 'Civil_TwilightIndex' # Highly correlated with other day/night variables\n",
    "             , 'Nautical_TwilightIndex' # Highly correlated with other day/night variables\n",
    "             #, 'Astronomical_TwilightIndex' # True Night\n",
    "             , 'SeasonIndex'\n",
    "             #, 'SeasonVec'\n",
    "            )\n",
    "df.show(5)"
   ]
  },
  {
   "cell_type": "markdown",
   "metadata": {},
   "source": [
    "# Further Column Removal and Preprocessing"
   ]
  },
  {
   "cell_type": "markdown",
   "metadata": {},
   "source": [
    "### Nulls"
   ]
  },
  {
   "cell_type": "code",
   "execution_count": 22,
   "metadata": {},
   "outputs": [
    {
     "name": "stderr",
     "output_type": "stream",
     "text": [
      "                                                                                \r"
     ]
    },
    {
     "name": "stdout",
     "output_type": "stream",
     "text": [
      "7720586\n"
     ]
    },
    {
     "name": "stderr",
     "output_type": "stream",
     "text": [
      "[Stage 49:=====================================================>  (22 + 1) / 23]\r"
     ]
    },
    {
     "name": "stdout",
     "output_type": "stream",
     "text": [
      "+--------+--------------+-----------+------------+--------------+---------------+-----------------+-------+----+--------+--------+--------+-------+-------+----------+-------+----+---------------+--------------+-------+---------+-------+----+----+---------+--------------------------+--------------------+\n",
      "|Severity|Temperature(F)|Humidity(%)|Pressure(in)|Visibility(mi)|Wind_Speed(mph)|Precipitation(in)|Amenity|Bump|Crossing|Give_way|Junction|No_Exit|Railway|Roundabout|Station|Stop|Traffic_Calming|Traffic_Signal|Weekday|Rush Hour|Holiday|Rain|Snow|SeasonVec|Astronomical_TwilightIndex|Interstate Indicator|\n",
      "+--------+--------------+-----------+------------+--------------+---------------+-----------------+-------+----+--------+--------+--------+-------+-------+----------+-------+----+---------------+--------------+-------+---------+-------+----+----+---------+--------------------------+--------------------+\n",
      "|       0|        156045|     166336|      132871|        169290|         563425|          2195778|      0|   0|       0|       0|       0|      0|      0|         0|      0|   0|              0|             0|      0|        0|      0|   0|   0|        0|                         0|                   0|\n",
      "+--------+--------------+-----------+------------+--------------+---------------+-----------------+-------+----+--------+--------+--------+-------+-------+----------+-------+----+---------------+--------------+-------+---------+-------+----+----+---------+--------------------------+--------------------+\n",
      "\n"
     ]
    },
    {
     "name": "stderr",
     "output_type": "stream",
     "text": [
      "                                                                                \r"
     ]
    }
   ],
   "source": [
    "rows = df.count()\n",
    "print(rows)\n",
    "\n",
    "#Null counts\n",
    "df.agg(*[\n",
    "    (rows-count(c)).alias(c)    # vertical (column-wise) operations in SQL ignore NULLs\n",
    "    for c in df.columns \n",
    "]).show()"
   ]
  },
  {
   "cell_type": "code",
   "execution_count": 23,
   "metadata": {
    "tags": []
   },
   "outputs": [
    {
     "name": "stderr",
     "output_type": "stream",
     "text": [
      "[Stage 52:=====================================================>  (22 + 1) / 23]\r"
     ]
    },
    {
     "name": "stdout",
     "output_type": "stream",
     "text": [
      "5400564\n",
      "+--------+--------------+-----------+------------+--------------+---------------+-----------------+-------+-----+--------+--------+--------+-------+-------+----------+-------+-----+---------------+--------------+-------+---------+-------+----+----+-------------+--------------------------+--------------------+\n",
      "|Severity|Temperature(F)|Humidity(%)|Pressure(in)|Visibility(mi)|Wind_Speed(mph)|Precipitation(in)|Amenity| Bump|Crossing|Give_way|Junction|No_Exit|Railway|Roundabout|Station| Stop|Traffic_Calming|Traffic_Signal|Weekday|Rush Hour|Holiday|Rain|Snow|    SeasonVec|Astronomical_TwilightIndex|Interstate Indicator|\n",
      "+--------+--------------+-----------+------------+--------------+---------------+-----------------+-------+-----+--------+--------+--------+-------+-------+----------+-------+-----+---------------+--------------+-------+---------+-------+----+----+-------------+--------------------------+--------------------+\n",
      "|       3|            38|         97|          30|             7|              4|                0|  false|false|   false|   false|   false|  false|  false|     false|  false|false|          false|         false|      1|        1|      0|   1|   0|(3,[0],[1.0])|                         0|                   0|\n",
      "|       3|            37|        100|          30|             3|              5|                0|  false|false|   false|   false|   false|  false|  false|     false|  false|false|          false|         false|      1|        1|      0|   1|   0|(3,[0],[1.0])|                         0|                   0|\n",
      "|       3|            37|        100|          30|             3|              5|                0|  false|false|   false|   false|   false|  false|  false|     false|  false|false|          false|         false|      1|        1|      0|   1|   0|(3,[0],[1.0])|                         0|                   1|\n",
      "|       2|            37|        100|          30|             3|              5|                0|  false|false|   false|   false|   false|  false|  false|     false|  false|false|          false|          true|      1|        1|      0|   1|   0|(3,[0],[1.0])|                         0|                   0|\n",
      "|       2|            34|        100|          30|             2|              5|                0|  false|false|   false|   false|   false|  false|  false|     false|  false|false|          false|         false|      1|        0|      0|   0|   1|(3,[0],[1.0])|                         0|                   0|\n",
      "+--------+--------------+-----------+------------+--------------+---------------+-----------------+-------+-----+--------+--------+--------+-------+-------+----------+-------+-----+---------------+--------------+-------+---------+-------+----+----+-------------+--------------------------+--------------------+\n",
      "only showing top 5 rows\n",
      "\n"
     ]
    },
    {
     "name": "stderr",
     "output_type": "stream",
     "text": [
      "                                                                                \r"
     ]
    }
   ],
   "source": [
    "# Remove Nulls\n",
    "df = df.dropna()\n",
    "rows = df.count()\n",
    "print(rows)\n",
    "df.show(5)"
   ]
  },
  {
   "cell_type": "markdown",
   "metadata": {},
   "source": [
    "### Too few data points (POIs)"
   ]
  },
  {
   "cell_type": "code",
   "execution_count": 24,
   "metadata": {
    "tags": []
   },
   "outputs": [
    {
     "name": "stderr",
     "output_type": "stream",
     "text": [
      "[Stage 56:=====================================================>  (22 + 1) / 23]\r"
     ]
    },
    {
     "name": "stdout",
     "output_type": "stream",
     "text": [
      "+------------------+------------------+------------------+-----------------+-----------------+-------------------+------------------+--------------------+------------------+------------------+----------------------+---------------------+\n",
      "|    Amenity % True|       Bump % True|   Crossing % True|  Give Way % True|  Junction % True|     No Exit % True|    Railway % True|   Roundabout % True|    Station % True|       Stop % True|Traffic Calming % True|Traffic Signal % True|\n",
      "+------------------+------------------+------------------+-----------------+-----------------+-------------------+------------------+--------------------+------------------+------------------+----------------------+---------------------+\n",
      "|1.1993932485570025|0.0503465934298714|10.810537566076432|0.432065984219426|6.918777372141132|0.26000988044952345|0.8320797605583417|0.002925620361132...|2.6556855913567547|2.7462316898753536|   0.10326699211415696|   13.003938107205098|\n",
      "+------------------+------------------+------------------+-----------------+-----------------+-------------------+------------------+--------------------+------------------+------------------+----------------------+---------------------+\n",
      "\n"
     ]
    },
    {
     "name": "stderr",
     "output_type": "stream",
     "text": [
      "                                                                                \r"
     ]
    }
   ],
   "source": [
    "from pyspark.sql.functions import sum\n",
    "df.select(((sum(df.Amenity.cast(\"long\"))/rows)*100).alias('Amenity % True'), \n",
    "          ((sum(df.Bump.cast(\"long\"))/rows)*100).alias('Bump % True'),\n",
    "          ((sum(df.Crossing.cast(\"long\"))/rows)*100).alias('Crossing % True'), \n",
    "          ((sum(df.Give_way.cast(\"long\"))/rows)*100).alias('Give Way % True'),\n",
    "          ((sum(df.Junction.cast(\"long\"))/rows)*100).alias('Junction % True'), \n",
    "          ((sum(df.No_Exit.cast(\"long\"))/rows)*100).alias('No Exit % True'),\n",
    "          ((sum(df.Railway.cast(\"long\"))/rows)*100).alias('Railway % True'), \n",
    "          ((sum(df.Roundabout.cast(\"long\"))/rows)*100).alias('Roundabout % True'),\n",
    "          ((sum(df.Station.cast(\"long\"))/rows)*100).alias('Station % True'), \n",
    "          ((sum(df.Stop.cast(\"long\"))/rows)*100).alias('Stop % True'),\n",
    "          ((sum(df.Traffic_Calming.cast(\"long\"))/rows)*100).alias('Traffic Calming % True'), \n",
    "          ((sum(df.Traffic_Signal.cast(\"long\"))/rows)*100).alias('Traffic Signal % True')\n",
    "    ).show()"
   ]
  },
  {
   "cell_type": "markdown",
   "metadata": {},
   "source": [
    "### Correlation between Features and Target"
   ]
  },
  {
   "cell_type": "code",
   "execution_count": 25,
   "metadata": {
    "tags": []
   },
   "outputs": [
    {
     "name": "stderr",
     "output_type": "stream",
     "text": [
      "                                                                                \r"
     ]
    },
    {
     "data": {
      "image/png": "[encoded data removed]",
      "text/plain": [
       "<Figure size 640x480 with 2 Axes>"
      ]
     },
     "metadata": {},
     "output_type": "display_data"
    }
   ],
   "source": [
    "# Correlations - Day/Night Columns\n",
    "\n",
    "cols = ['Severity', \n",
    " 'Temperature(F)',\n",
    " 'Humidity(%)',\n",
    " 'Pressure(in)',\n",
    " 'Visibility(mi)',\n",
    " 'Wind_Speed(mph)',\n",
    " 'Precipitation(in)',\n",
    " 'Amenity',\n",
    " 'Bump',\n",
    " 'Crossing',\n",
    " 'Give_way',\n",
    " 'Junction',\n",
    " 'No_Exit',\n",
    " 'Railway',\n",
    " 'Roundabout',\n",
    " 'Station',\n",
    " 'Stop',\n",
    " 'Traffic_Calming',\n",
    " 'Traffic_Signal',\n",
    " 'Weekday',\n",
    " 'Rush Hour',\n",
    " 'Holiday',\n",
    " 'Rain',\n",
    " 'Snow',\n",
    " 'Astronomical_TwilightIndex']\n",
    "        \n",
    "# Select Relevant Columns\n",
    "df1 = df.select(cols)\n",
    "df1 = df1.na.drop()\n",
    "\n",
    "# Assemble features into a vector column\n",
    "assembler = VectorAssembler(inputCols=cols, outputCol=\"features\")\n",
    "df_vector = assembler.transform(df1)\n",
    "\n",
    "# Calculate the correlation matrix\n",
    "correlation_matrix = Correlation.corr(df_vector, \"features\").head()[0]\n",
    "\n",
    "# Turn into a dataframe\n",
    "corr_matrix_pd = pd.DataFrame(correlation_matrix.toArray(), columns=df1.columns, index=df1.columns)\n",
    "corr_matrix_pd = corr_matrix_pd.drop(['Temperature(F)',\n",
    " 'Humidity(%)',\n",
    " 'Pressure(in)',\n",
    " 'Visibility(mi)',\n",
    " 'Wind_Speed(mph)',\n",
    " 'Precipitation(in)',\n",
    " 'Amenity',\n",
    " 'Bump',\n",
    " 'Crossing',\n",
    " 'Give_way',\n",
    " 'Junction',\n",
    " 'No_Exit',\n",
    " 'Railway',\n",
    " 'Roundabout',\n",
    " 'Station',\n",
    " 'Stop',\n",
    " 'Traffic_Calming',\n",
    " 'Traffic_Signal',\n",
    " 'Weekday',\n",
    " 'Rush Hour',\n",
    " 'Holiday',\n",
    " 'Rain',\n",
    " 'Snow',\n",
    " 'Astronomical_TwilightIndex'])\n",
    "\n",
    "#Plot\n",
    "ax = sns.heatmap(corr_matrix_pd.T, annot=True, cmap=\"coolwarm\")\n",
    "# Rotate the value labels by 90 degrees\n",
    "#for t in ax.texts:\n",
    "    #t.set_rotation(90)\n",
    "plt.show()"
   ]
  },
  {
   "cell_type": "markdown",
   "metadata": {},
   "source": [
    "### Outliers"
   ]
  },
  {
   "cell_type": "code",
   "execution_count": 26,
   "metadata": {
    "tags": []
   },
   "outputs": [],
   "source": [
    "def outliers(df, col):\n",
    "    \n",
    "    # Calculate quantiles\n",
    "    q1, q3 = df.approxQuantile(col, [0.15, 0.95], 0.01) #arguably not quartiles anymore but changed to only pick up more extreme outliers\n",
    "    iqr = q3 - q1\n",
    "\n",
    "    # Define outlier boundaries\n",
    "    lower_bound = q1 - 1.5 * iqr\n",
    "    upper_bound = q3 + 1.5 * iqr\n",
    "\n",
    "    # Identify outliers\n",
    "    outliers = df.filter((df[col] < lower_bound) | (df[col] > upper_bound))\n",
    "\n",
    "    #outliers_df[col] = outliers\n",
    "    outliers.select(col).sort(desc(col)).show()"
   ]
  },
  {
   "cell_type": "code",
   "execution_count": 27,
   "metadata": {
    "tags": []
   },
   "outputs": [
    {
     "name": "stderr",
     "output_type": "stream",
     "text": [
      "[Stage 67:=====================================================>  (22 + 1) / 23]\r"
     ]
    },
    {
     "name": "stdout",
     "output_type": "stream",
     "text": [
      "+--------------+\n",
      "|Temperature(F)|\n",
      "+--------------+\n",
      "|           196|\n",
      "|           196|\n",
      "|           196|\n",
      "|           196|\n",
      "|           196|\n",
      "|           189|\n",
      "|           174|\n",
      "|           174|\n",
      "|           172|\n",
      "|           172|\n",
      "|           162|\n",
      "|           162|\n",
      "|           -33|\n",
      "|           -35|\n",
      "|           -35|\n",
      "|           -35|\n",
      "|           -35|\n",
      "|           -35|\n",
      "|           -35|\n",
      "|           -35|\n",
      "+--------------+\n",
      "only showing top 20 rows\n",
      "\n",
      "None\n"
     ]
    },
    {
     "name": "stderr",
     "output_type": "stream",
     "text": [
      "                                                                                \r"
     ]
    }
   ],
   "source": [
    "col = 'Temperature(F)'\n",
    " #'Humidity(%)',\n",
    " #'Pressure(in)',\n",
    " #'Visibility(mi)',\n",
    " #'Wind_Speed(mph)',\n",
    " #'Precipitation(in)'\n",
    "\n",
    "out = outliers(df, col)\n",
    "print(out)"
   ]
  },
  {
   "cell_type": "markdown",
   "metadata": {},
   "source": [
    "# Combine Similar, Sparse Binary Columns"
   ]
  },
  {
   "cell_type": "code",
   "execution_count": 29,
   "metadata": {},
   "outputs": [],
   "source": [
    "# Combine POIs\n",
    "# Traffic interference, intersection, destination\n",
    "columns_to_binary = [\"Amenity\", \"Bump\", \"Crossing\", \"Give_Way\", \"Junction\", \"No_Exit\", \"Railway\", \n",
    "                     \"Roundabout\", \"Station\", \"Stop\", \"Traffic_Calming\", \"Traffic_Signal\"]\n",
    "\n",
    "for col in columns_to_binary:\n",
    "    df = df.withColumn(col, F.col(col).cast(IntegerType()))\n",
    "\n",
    "df = df.withColumn(\n",
    "    \"Traffic_Interference\",\n",
    "    F.when((F.col(\"Bump\") + F.col(\"Railway\") + F.col(\"Traffic_calming\")) > 1, 1).otherwise(\n",
    "        F.col(\"Bump\") + F.col(\"Railway\") + F.col(\"Traffic_calming\")\n",
    "    )\n",
    ")\n",
    "\n",
    "df = df.withColumn(\n",
    "    \"Traffic_Intersection\",\n",
    "    F.when((F.col(\"Crossing\") + F.col(\"Give_way\") + F.col(\"Junction\") + F.col(\"Roundabout\") + F.col(\"Stop\") + F.col(\"Traffic_signal\")) > 1, 1).otherwise(\n",
    "        (F.col(\"Crossing\") + F.col(\"Give_way\") + F.col(\"Junction\") + F.col(\"Roundabout\") + F.col(\"Stop\") + F.col(\"Traffic_signal\"))\n",
    "    )\n",
    ")\n",
    "\n",
    "df = df.withColumn(\n",
    "    \"Destination\",\n",
    "    F.when((F.col(\"Amenity\") + F.col(\"Station\")) > 1, 1).otherwise(\n",
    "        (F.col(\"Amenity\") + F.col(\"Station\"))\n",
    "    )\n",
    ")"
   ]
  },
  {
   "cell_type": "markdown",
   "metadata": {},
   "source": [
    "# Remove Nonsensical Outliers"
   ]
  },
  {
   "cell_type": "code",
   "execution_count": 30,
   "metadata": {},
   "outputs": [],
   "source": [
    "# Remove outliers that are almost guaranteed to be data collection errors\n",
    "df = df.filter(F.col(\"Wind_Speed(mph)\") <= 318)\n",
    "df = df.filter(F.col(\"Pressure(in)\") <= 31.42)\n",
    "df = df.filter(F.col(\"Temperature(F)\") <= 130)\n",
    "\n",
    "# Force all \"Visibility(mi)\" values over 40 to be 40 to retain data but not have extremely influential outliers\n",
    "df = df.withColumn(\"Visibility(mi)\", F.when(F.col(\"Visibility(mi)\") > 40, 40).otherwise(F.col(\"Visibility(mi)\")))"
   ]
  },
  {
   "cell_type": "markdown",
   "metadata": {},
   "source": [
    "# Modeling"
   ]
  },
  {
   "cell_type": "code",
   "execution_count": 31,
   "metadata": {
    "tags": []
   },
   "outputs": [
    {
     "name": "stderr",
     "output_type": "stream",
     "text": [
      "[Stage 68:=====================================================>  (22 + 1) / 23]\r"
     ]
    },
    {
     "name": "stdout",
     "output_type": "stream",
     "text": [
      "+--------+-------+------------------+\n",
      "|Severity|  count|           percent|\n",
      "+--------+-------+------------------+\n",
      "|       1|  62365|1.1547867963420115|\n",
      "|       3| 639361|11.838782023507175|\n",
      "|       4| 131356|2.4322644820059534|\n",
      "|       2|4567405| 84.57274092113343|\n",
      "+--------+-------+------------------+\n",
      "\n"
     ]
    },
    {
     "name": "stderr",
     "output_type": "stream",
     "text": [
      "                                                                                \r"
     ]
    }
   ],
   "source": [
    "# Check Class Imbalance\n",
    "cts = df.groupBy(\"Severity\").count().withColumn('percent', (F.col('count') / rows)*100)\n",
    "cts.show()"
   ]
  },
  {
   "cell_type": "code",
   "execution_count": 32,
   "metadata": {
    "tags": []
   },
   "outputs": [
    {
     "name": "stderr",
     "output_type": "stream",
     "text": [
      "                                                                                \r"
     ]
    }
   ],
   "source": [
    "# Undersample each class by 80% of the smallest class\n",
    "sample = (cts.select(\"count\").rdd.min()[0])*0.8\n",
    "\n",
    "class1 = sample/(cts.select(\"count\").where(cts.Severity == '1').rdd.min()[0])\n",
    "\n",
    "class2 = sample/(cts.select(\"count\").where(cts.Severity == '2').rdd.min()[0])\n",
    "\n",
    "class3 = sample/(cts.select(\"count\").where(cts.Severity == '3').rdd.min()[0])\n",
    "\n",
    "class4 = sample/(cts.select(\"count\").where(cts.Severity == '4').rdd.min()[0])"
   ]
  },
  {
   "cell_type": "code",
   "execution_count": 33,
   "metadata": {
    "tags": []
   },
   "outputs": [],
   "source": [
    "# Select all features except target variable\n",
    "features = df.select([col for col in df.columns if col != \"Severity\"]).columns"
   ]
  },
  {
   "cell_type": "code",
   "execution_count": 34,
   "metadata": {
    "tags": []
   },
   "outputs": [],
   "source": [
    "# Vectorize Features\n",
    "assembler = VectorAssembler(inputCols=features, \n",
    "                                    outputCol='features')\n",
    "tr = assembler.transform(df)"
   ]
  },
  {
   "cell_type": "code",
   "execution_count": 35,
   "metadata": {
    "tags": []
   },
   "outputs": [],
   "source": [
    "# Split Data by Class - Downsampling\n",
    "\n",
    "# Create a temporary view to use SQL\n",
    "tr.createOrReplaceTempView(\"data_view\")\n",
    "\n",
    "# Calculate fractions for each class\n",
    "#fractions = df.groupBy(\"Severity\").count().rdd.map(lambda row: (row[0], 0.8)).collectAsMap() #samples 80% of each class\n",
    "fractions = {1: class1, 2: class2, 3: class3, 4: class4} #downsample each class to 80% of the smallest class\n",
    "\n",
    "# Use stratified sampling to maintain class distribution\n",
    "train_data = tr.sampleBy(\"Severity\", fractions, seed=42)\n",
    "test_data = tr.subtract(train_data)"
   ]
  },
  {
   "cell_type": "code",
   "execution_count": 36,
   "metadata": {
    "tags": []
   },
   "outputs": [
    {
     "name": "stderr",
     "output_type": "stream",
     "text": [
      "                                                                                \r"
     ]
    },
    {
     "name": "stdout",
     "output_type": "stream",
     "text": [
      "3.6904819880133033\n"
     ]
    },
    {
     "name": "stderr",
     "output_type": "stream",
     "text": [
      "[Stage 95:===================================================>    (21 + 2) / 23]\r"
     ]
    },
    {
     "name": "stdout",
     "output_type": "stream",
     "text": [
      "+--------+-----+------------------+\n",
      "|Severity|count|           percent|\n",
      "+--------+-----+------------------+\n",
      "|       1|49902|25.038132701802272|\n",
      "|       3|49597| 24.88510014851684|\n",
      "|       4|49642|24.907678721952394|\n",
      "|       2|50163|25.169088427728497|\n",
      "+--------+-----+------------------+\n",
      "\n"
     ]
    },
    {
     "name": "stderr",
     "output_type": "stream",
     "text": [
      "                                                                                \r"
     ]
    }
   ],
   "source": [
    "# Print Overall % Sampled from DF\n",
    "print(train_data.count()/df.count()*100)\n",
    "\n",
    "# Print % Sampled for each class within Train Data\n",
    "train_data.groupBy(\"Severity\").count().withColumn('percent', (F.col('count') / train_data.count())*100).show()"
   ]
  },
  {
   "cell_type": "code",
   "execution_count": 37,
   "metadata": {
    "tags": []
   },
   "outputs": [
    {
     "name": "stderr",
     "output_type": "stream",
     "text": [
      "                                                                                \r"
     ]
    },
    {
     "name": "stdout",
     "output_type": "stream",
     "text": [
      "54.109509012798284\n"
     ]
    },
    {
     "name": "stderr",
     "output_type": "stream",
     "text": [
      "24/10/31 11:59:54 WARN RowBasedKeyValueBatch: Calling spill() on RowBasedKeyValueBatch. Will not spill but return 0.\n",
      "24/10/31 11:59:54 WARN RowBasedKeyValueBatch: Calling spill() on RowBasedKeyValueBatch. Will not spill but return 0.\n",
      "24/10/31 11:59:54 WARN RowBasedKeyValueBatch: Calling spill() on RowBasedKeyValueBatch. Will not spill but return 0.\n",
      "24/10/31 11:59:54 WARN RowBasedKeyValueBatch: Calling spill() on RowBasedKeyValueBatch. Will not spill but return 0.\n",
      "24/10/31 11:59:54 WARN RowBasedKeyValueBatch: Calling spill() on RowBasedKeyValueBatch. Will not spill but return 0.\n",
      "24/10/31 11:59:54 WARN RowBasedKeyValueBatch: Calling spill() on RowBasedKeyValueBatch. Will not spill but return 0.\n",
      "24/10/31 11:59:54 WARN RowBasedKeyValueBatch: Calling spill() on RowBasedKeyValueBatch. Will not spill but return 0.\n",
      "24/10/31 11:59:54 WARN RowBasedKeyValueBatch: Calling spill() on RowBasedKeyValueBatch. Will not spill but return 0.\n",
      "24/10/31 11:59:54 WARN RowBasedKeyValueBatch: Calling spill() on RowBasedKeyValueBatch. Will not spill but return 0.\n",
      "24/10/31 11:59:54 WARN RowBasedKeyValueBatch: Calling spill() on RowBasedKeyValueBatch. Will not spill but return 0.\n",
      "24/10/31 11:59:54 WARN RowBasedKeyValueBatch: Calling spill() on RowBasedKeyValueBatch. Will not spill but return 0.\n",
      "24/10/31 11:59:54 WARN RowBasedKeyValueBatch: Calling spill() on RowBasedKeyValueBatch. Will not spill but return 0.\n",
      "24/10/31 11:59:55 WARN RowBasedKeyValueBatch: Calling spill() on RowBasedKeyValueBatch. Will not spill but return 0.\n",
      "24/10/31 11:59:55 WARN RowBasedKeyValueBatch: Calling spill() on RowBasedKeyValueBatch. Will not spill but return 0.\n",
      "24/10/31 11:59:55 WARN RowBasedKeyValueBatch: Calling spill() on RowBasedKeyValueBatch. Will not spill but return 0.\n",
      "24/10/31 11:59:55 WARN RowBasedKeyValueBatch: Calling spill() on RowBasedKeyValueBatch. Will not spill but return 0.\n",
      "24/10/31 11:59:55 WARN RowBasedKeyValueBatch: Calling spill() on RowBasedKeyValueBatch. Will not spill but return 0.\n",
      "24/10/31 11:59:55 WARN RowBasedKeyValueBatch: Calling spill() on RowBasedKeyValueBatch. Will not spill but return 0.\n",
      "24/10/31 11:59:56 WARN RowBasedKeyValueBatch: Calling spill() on RowBasedKeyValueBatch. Will not spill but return 0.\n",
      "24/10/31 11:59:56 WARN RowBasedKeyValueBatch: Calling spill() on RowBasedKeyValueBatch. Will not spill but return 0.\n",
      "[Stage 137:=============================================>           (4 + 1) / 5]\r"
     ]
    },
    {
     "name": "stdout",
     "output_type": "stream",
     "text": [
      "+--------+-------+------------------+\n",
      "|Severity|  count|           percent|\n",
      "+--------+-------+------------------+\n",
      "|       1|   8477| 0.290091941727007|\n",
      "|       3| 486985|16.665143829412113|\n",
      "|       4|  56507|1.9337295447880125|\n",
      "|       2|2370208| 81.11103468407286|\n",
      "+--------+-------+------------------+\n",
      "\n"
     ]
    },
    {
     "name": "stderr",
     "output_type": "stream",
     "text": [
      "                                                                                \r"
     ]
    }
   ],
   "source": [
    "# Print Overall % Sampled from DF\n",
    "print(test_data.count()/df.count()*100)\n",
    "\n",
    "# Print % Sampled for each class within Train Data\n",
    "test_data.groupBy(\"Severity\").count().withColumn('percent', (F.col('count') / test_data.count())*100).show()"
   ]
  },
  {
   "cell_type": "code",
   "execution_count": 38,
   "metadata": {
    "tags": []
   },
   "outputs": [
    {
     "name": "stderr",
     "output_type": "stream",
     "text": [
      "[Stage 143:====================================================>  (22 + 1) / 23]\r"
     ]
    },
    {
     "name": "stdout",
     "output_type": "stream",
     "text": [
      "+--------+--------------+-----------+------------+--------------+---------------+-----------------+-------+----+--------+--------+--------+-------+-------+----------+-------+----+---------------+--------------+-------+---------+-------+----+----+-------------+--------------------------+--------------------+--------------------+--------------------+-----------+--------------------+--------------------+\n",
      "|Severity|Temperature(F)|Humidity(%)|Pressure(in)|Visibility(mi)|Wind_Speed(mph)|Precipitation(in)|Amenity|Bump|Crossing|Give_Way|Junction|No_Exit|Railway|Roundabout|Station|Stop|Traffic_Calming|Traffic_Signal|Weekday|Rush Hour|Holiday|Rain|Snow|    SeasonVec|Astronomical_TwilightIndex|Interstate Indicator|Traffic_Interference|Traffic_Intersection|Destination|            features|      scaledFeatures|\n",
      "+--------+--------------+-----------+------------+--------------+---------------+-----------------+-------+----+--------+--------+--------+-------+-------+----------+-------+----+---------------+--------------+-------+---------+-------+----+----+-------------+--------------------------+--------------------+--------------------+--------------------+-----------+--------------------+--------------------+\n",
      "|       3|            16|         68|          30|            10|             14|                0|      0|   0|       0|       0|       0|      0|      0|         0|      0|   0|              0|             0|      1|        0|      0|   0|   0|(3,[0],[1.0])|                         1|                   1|                   0|                   0|          0|(31,[0,1,2,3,4,18...|[-2.5590276713515...|\n",
      "|       3|            24|         96|          30|             1|              5|                0|      0|   0|       0|       0|       0|      0|      0|         0|      0|   0|              0|             0|      1|        1|      1|   1|   1|(3,[0],[1.0])|                         0|                   1|                   0|                   0|          0|(31,[0,1,2,3,4,18...|[-2.1286813564119...|\n",
      "|       3|            38|        100|          29|             3|             22|                0|      0|   0|       0|       0|       0|      0|      0|         0|      0|   0|              0|             0|      1|        0|      0|   1|   0|(3,[0],[1.0])|                         1|                   1|                   0|                   0|          0|(31,[0,1,2,3,4,18...|[-1.3755753052676...|\n",
      "|       3|            39|        100|          29|             6|             18|                0|      0|   0|       0|       0|       0|      0|      0|         0|      0|   0|              0|             0|      1|        1|      0|   1|   0|(3,[0],[1.0])|                         0|                   1|                   0|                   0|          0|(31,[0,1,2,3,4,18...|[-1.3217820159002...|\n",
      "|       3|            40|         89|          30|             4|             13|                0|      0|   0|       0|       0|       0|      0|      0|         0|      0|   0|              0|             0|      1|        1|      0|   1|   0|(3,[0],[1.0])|                         0|                   0|                   0|                   0|          0|(31,[0,1,2,3,4,18...|[-1.2679887265327...|\n",
      "+--------+--------------+-----------+------------+--------------+---------------+-----------------+-------+----+--------+--------+--------+-------+-------+----------+-------+----+---------------+--------------+-------+---------+-------+----+----+-------------+--------------------------+--------------------+--------------------+--------------------+-----------+--------------------+--------------------+\n",
      "only showing top 5 rows\n",
      "\n"
     ]
    },
    {
     "name": "stderr",
     "output_type": "stream",
     "text": [
      "                                                                                \r"
     ]
    }
   ],
   "source": [
    "# Scale Train Set\n",
    "\n",
    "########################### Scale Train Set Here ###########################\n",
    "from pyspark.ml.feature import StandardScaler\n",
    "\n",
    "# Create a StandardScaler object\n",
    "scaler = StandardScaler(inputCol=\"features\", outputCol=\"scaledFeatures\", withStd=True, withMean=True)\n",
    "\n",
    "# Fit the scaler to the data\n",
    "scalerModel = scaler.fit(train_data)\n",
    "\n",
    "# Transform the data using the fitted scaler\n",
    "scaledData_train = scalerModel.transform(train_data)\n",
    "\n",
    "# Show the scaled data\n",
    "scaledData_train.show(5)"
   ]
  },
  {
   "cell_type": "code",
   "execution_count": null,
   "metadata": {
    "tags": []
   },
   "outputs": [
    {
     "name": "stderr",
     "output_type": "stream",
     "text": [
      "[Stage 148:===============================>                       (13 + 3) / 23]\r"
     ]
    }
   ],
   "source": [
    "#Scale Test Set\n",
    "\n",
    "########################### Scale Test Set Here ###########################\n",
    "\n",
    "# Create a StandardScaler object\n",
    "scaler = StandardScaler(inputCol=\"features\", outputCol=\"scaledFeatures\", withStd=True, withMean=True)\n",
    "\n",
    "# Fit the scaler to the data\n",
    "scalerModel = scaler.fit(test_data)\n",
    "\n",
    "# Transform the data using the fitted scaler\n",
    "scaledData_test = scalerModel.transform(test_data)\n",
    "\n",
    "# Show the scaled data\n",
    "scaledData_test.show(5)"
   ]
  },
  {
   "cell_type": "code",
   "execution_count": null,
   "metadata": {
    "tags": []
   },
   "outputs": [],
   "source": [
    "# Import Pipeline\n",
    "from pyspark.ml import Pipeline \n",
    "  \n",
    "model = ########################### Model Here ###########################\n",
    "  \n",
    "# Creating the pipeline \n",
    "pipe = Pipeline(stages=[model]) "
   ]
  },
  {
   "cell_type": "code",
   "execution_count": null,
   "metadata": {
    "tags": []
   },
   "outputs": [],
   "source": [
    "# Fitting the model on training data \n",
    "fit_model = pipe.fit(scaledData_train) \n",
    "  \n",
    "# Storing the results on test data \n",
    "results = fit_model.transform(scaledData_test) "
   ]
  },
  {
   "cell_type": "code",
   "execution_count": null,
   "metadata": {
    "tags": []
   },
   "outputs": [],
   "source": [
    "#Metrics (Confusion Matrix, Accuracy, Weighted Precision, Recall, and F1 Score)\n",
    "\n",
    "from pyspark.mllib.evaluation import MulticlassMetrics\n",
    "\n",
    "predictionAndLabels = results.select(\"prediction\", \"Severity\")\n",
    "metrics = MulticlassMetrics(predictionAndLabels.rdd.map(lambda x: tuple(map(float, x))))\n",
    "\n",
    "# Get confusion matrix\n",
    "print(metrics.confusionMatrix().toArray())\n",
    "\n",
    "# Get precision, recall, and F1-score for each class\n",
    "print(f'Precision: {metrics.weightedPrecision}')\n",
    "print(f'Weighted Recall: {metrics.weightedRecall}')\n",
    "print(f'F1 Score: {metrics.weightedFMeasure()}')\n",
    "print(f'Accuracy: {metrics.accuracy}')"
   ]
  },
  {
   "cell_type": "code",
   "execution_count": null,
   "metadata": {
    "tags": []
   },
   "outputs": [],
   "source": [
    "# ROC Curve - he asked for ROC curve but usually only for binary classification - could do 4 one-vs-all roc curves?"
   ]
  }
 ],
 "metadata": {
  "kernelspec": {
   "display_name": "Python 3 (ipykernel)",
   "language": "python",
   "name": "python3"
  },
  "language_info": {
   "codemirror_mode": {
    "name": "ipython",
    "version": 3
   },
   "file_extension": ".py",
   "mimetype": "text/x-python",
   "name": "python",
   "nbconvert_exporter": "python",
   "pygments_lexer": "ipython3",
   "version": "3.11.5"
  }
 },
 "nbformat": 4,
 "nbformat_minor": 4
}
