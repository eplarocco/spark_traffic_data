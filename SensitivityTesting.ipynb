{
 "cells": [
  {
   "cell_type": "markdown",
   "metadata": {},
   "source": [
    "# Research Question:\n",
    "### What are the most influential variables on the severity of accidents?"
   ]
  },
  {
   "cell_type": "markdown",
   "metadata": {},
   "source": [
    "Useful Paper:\n",
    "    https://www.sciencedirect.com/science/article/pii/S2590198223000611"
   ]
  },
  {
   "cell_type": "code",
   "execution_count": 1,
   "metadata": {
    "tags": []
   },
   "outputs": [
    {
     "data": {
      "text/html": [
       "<style>pre { white-space: pre !important; }</style>"
      ],
      "text/plain": [
       "<IPython.core.display.HTML object>"
      ]
     },
     "metadata": {},
     "output_type": "display_data"
    }
   ],
   "source": [
    "#Display Spark Output in scrollable format within jupyter notebook\n",
    "from IPython.core.display import HTML\n",
    "display(HTML(\"<style>pre { white-space: pre !important; }</style>\"))"
   ]
  },
  {
   "cell_type": "code",
   "execution_count": 2,
   "metadata": {
    "tags": []
   },
   "outputs": [],
   "source": [
    "#Supress Warnings\n",
    "import warnings\n",
    "warnings.filterwarnings(\"ignore\")"
   ]
  },
  {
   "cell_type": "code",
   "execution_count": 3,
   "metadata": {
    "tags": []
   },
   "outputs": [],
   "source": [
    "# Import Libraries\n",
    "import pandas as pd\n",
    "import numpy as np\n",
    "import os\n",
    "import pyspark\n",
    "from pyspark.sql import SparkSession\n",
    "from pyspark.sql.types import *\n",
    "from pyspark.sql.functions import *\n",
    "from pyspark.ml.feature import StringIndexer, OneHotEncoder, VectorAssembler\n",
    "from pyspark.ml.stat import Correlation\n",
    "import seaborn as sns\n",
    "import matplotlib.pyplot as plt\n",
    "import pyspark.sql.functions as F\n",
    "import holidays\n",
    "from datetime import datetime, timezone\n",
    "from pyspark.ml.classification import RandomForestClassifier, GBTClassifier, BinaryLogisticRegressionSummary\n",
    "from pyspark.ml import Pipeline\n",
    "from pyspark.mllib.evaluation import MulticlassMetrics, BinaryClassificationMetrics\n",
    "from pyspark.ml.pipeline import PipelineModel\n",
    "from pyspark.ml.evaluation import BinaryClassificationEvaluator"
   ]
  },
  {
   "cell_type": "markdown",
   "metadata": {},
   "source": [
    "# Load Data"
   ]
  },
  {
   "cell_type": "code",
   "execution_count": 4,
   "metadata": {
    "tags": []
   },
   "outputs": [
    {
     "name": "stderr",
     "output_type": "stream",
     "text": [
      "Setting default log level to \"WARN\".\n",
      "To adjust logging level use sc.setLogLevel(newLevel). For SparkR, use setLogLevel(newLevel).\n",
      "24/11/17 17:00:15 WARN NativeCodeLoader: Unable to load native-hadoop library for your platform... using builtin-java classes where applicable\n"
     ]
    }
   ],
   "source": [
    "#Instantiate Spark Session\n",
    "spark = (SparkSession\n",
    "  .builder\n",
    "  .appName(\"US_Accidents\")\n",
    "  .getOrCreate())\n",
    "spark.sparkContext.setLogLevel(\"ERROR\") #supress warnings"
   ]
  },
  {
   "cell_type": "code",
   "execution_count": 5,
   "metadata": {
    "tags": []
   },
   "outputs": [
    {
     "name": "stderr",
     "output_type": "stream",
     "text": [
      "                                                                                \r"
     ]
    },
    {
     "name": "stdout",
     "output_type": "stream",
     "text": [
      "+--------+-----------+--------+--------+----------+----------+-------------+-------+---------+----+----+-------------+--------------------------+--------------------+---------+-----------------+-----------------+-------------------+------------+-----------+--------------------+--------------------+-----------+\n",
      "|Severity|Temperature|Humidity|Pressure|Visibility|Wind_Speed|Precipitation|Weekday|Rush_Hour|Rain|Snow|    SeasonVec|Astronomical_TwilightIndex|Interstate_Indicator|Sex_ratio|Percent_Age_15-19|Percent_Age_20-24|Percent_Age_65_over|MedianIncome|Urban_Ratio|Traffic_Interference|Traffic_Intersection|Destination|\n",
      "+--------+-----------+--------+--------+----------+----------+-------------+-------+---------+----+----+-------------+--------------------------+--------------------+---------+-----------------+-----------------+-------------------+------------+-----------+--------------------+--------------------+-----------+\n",
      "|       2|         21|      85|      30|         1|        10|            0|      1|        1|   0|   1|(3,[0],[1.0])|                         0|                   0|     97.6|              8.0|              4.0|               13.1|    104583.0|        1.0|                   0|                   1|          0|\n",
      "|       2|         51|      29|      29|        10|         8|            0|      1|        0|   0|   0|(3,[0],[1.0])|                         1|                   0|     89.6|              7.7|              5.8|               12.7|    128378.0|      0.982|                   0|                   0|          0|\n",
      "|       3|         55|      83|      30|        10|         0|            0|      1|        1|   0|   0|(3,[0],[1.0])|                         0|                   1|     94.6|              6.9|              5.4|               17.3|     52577.0|     0.9968|                   0|                   0|          0|\n",
      "|       2|         52|      94|      30|        10|         9|            0|      1|        1|   0|   0|(3,[0],[1.0])|                         0|                   0|    106.8|              6.4|              8.2|               11.6|     48740.0|        1.0|                   0|                   0|          0|\n",
      "|       2|         25|      96|      30|         0|         0|            0|      1|        1|   0|   0|(3,[0],[1.0])|                         0|                   0|     95.9|              5.6|              6.8|               14.4|     62956.0|     0.9887|                   0|                   0|          0|\n",
      "+--------+-----------+--------+--------+----------+----------+-------------+-------+---------+----+----+-------------+--------------------------+--------------------+---------+-----------------+-----------------+-------------------+------------+-----------+--------------------+--------------------+-----------+\n",
      "only showing top 5 rows\n",
      "\n"
     ]
    }
   ],
   "source": [
    "# Read in Dataset\n",
    "df = spark.read.parquet(\"final_dataset_revised.parquet\")\n",
    "df.show(5)"
   ]
  },
  {
   "cell_type": "code",
   "execution_count": 9,
   "metadata": {
    "tags": []
   },
   "outputs": [
    {
     "name": "stdout",
     "output_type": "stream",
     "text": [
      "DataFrame Rows count : 7026806\n",
      "DataFrame Columns count : 23\n"
     ]
    }
   ],
   "source": [
    "# Get row count\n",
    "rows = df.count()\n",
    "print(f\"DataFrame Rows count : {rows}\")\n",
    "\n",
    "# Get columns count\n",
    "cols = len(df.columns)\n",
    "print(f\"DataFrame Columns count : {cols}\")"
   ]
  },
  {
   "cell_type": "markdown",
   "metadata": {},
   "source": [
    "# Sampling"
   ]
  },
  {
   "cell_type": "code",
   "execution_count": 10,
   "metadata": {
    "tags": []
   },
   "outputs": [
    {
     "name": "stdout",
     "output_type": "stream",
     "text": [
      "+--------+-------+------------------+\n",
      "|Severity|  count|           percent|\n",
      "+--------+-------+------------------+\n",
      "|       1|  65142|0.9270499285165977|\n",
      "|       3|1123799|15.993027272988611|\n",
      "|       4| 178821|2.5448404296347444|\n",
      "|       2|5659044| 80.53508236886005|\n",
      "+--------+-------+------------------+\n",
      "\n"
     ]
    }
   ],
   "source": [
    "# Check Class Imbalance\n",
    "cts = df.groupBy(\"Severity\").count().withColumn('percent', (F.col('count') / rows)*100)\n",
    "cts.show()"
   ]
  },
  {
   "cell_type": "markdown",
   "metadata": {},
   "source": [
    "# Underperforming Tests Overview:\n",
    "\n",
    "## Tried Random split (80/20)\n",
    "- As predicted, model predicted severity = 2 for everything and they accuracy = the % of test samples with label = 2\n",
    "\n",
    "train_data, test_data = df.randomSplit([0.8, 0.2])\n",
    "\n",
    "## Undersampling (80/20) - undersampled each class by the smallest class for the training set - testing set everything else\n",
    "- This decreased the training set to about 3.5% of the original data set and the accuracy (~32% reflected that)\n",
    "- With undersampling, the performance might change with the sample taken\n",
    "\n",
    "sample = (cts.select(\"count\").rdd.min()[0])*0.8 #Undersample each class by 80% of the smallest class\n",
    "\n",
    "class1 = sample/(cts.select(\"count\").where(cts.Severity == '1').rdd.min()[0])\n",
    "\n",
    "class2 = sample/(cts.select(\"count\").where(cts.Severity == '2').rdd.min()[0])\n",
    "\n",
    "class3 = sample/(cts.select(\"count\").where(cts.Severity == '3').rdd.min()[0])\n",
    "\n",
    "class4 = sample/(cts.select(\"count\").where(cts.Severity == '4').rdd.min()[0])\n",
    "\n",
    "df.createOrReplaceTempView(\"data_view\") #Create a temporary view to use SQL\n",
    "\n",
    "fractions = {1: class1, 2: class2, 3: class3, 4: class4} #downsample each class to 80% of the smallest class\n",
    "\n",
    "train_data = df.sampleBy(\"Severity\", fractions, seed=42) #Use stratified sampling to maintain class distribution\n",
    "\n",
    "test_data = df.subtract(train_data)\n",
    "\n",
    "## Did not try full Oversampling\n",
    "- I'm always wary of oversampling amplyfying outliers especially with such high class imbalance and with regression trees that are already prone to overfitting\n",
    "## A combination of oversampling and undersampling may be a nice compramise\n",
    "- Did not check\n",
    "\n",
    "## Binary Classification (1|2 = 0, 3|4 = 1)\n",
    "- Best so far - model f1 score ~ 0.77 with base rf model - will obviously be better as half the options to guess from but still major improvement\n",
    "\n",
    "features = df.select([col for col in df.columns if col != \"Severity\" and col != \"Severity_Binary\"]).columns # Select all features except target variable\n",
    "\n",
    "assembler = VectorAssembler(inputCols=features, outputCol='features') # Vectorize Features\n",
    "\n",
    "model = RandomForestClassifier(featuresCol = 'features', labelCol = 'Severity_Binary') # Model\n",
    "  \n",
    "pipeline = Pipeline(stages=[assembler, model]) # Creating the pipeline \n",
    "\n",
    "fit_model = pipeline.fit(train_data) #train\n",
    "\n",
    "results = fit_model.transform(test_data) #predict"
   ]
  },
  {
   "cell_type": "markdown",
   "metadata": {},
   "source": [
    "## Binary Classification"
   ]
  },
  {
   "cell_type": "code",
   "execution_count": 11,
   "metadata": {
    "tags": []
   },
   "outputs": [
    {
     "name": "stdout",
     "output_type": "stream",
     "text": [
      "+-----------+--------+--------+----------+----------+-------------+-------+---------+----+----+-------------+--------------------------+--------------------+---------+-----------------+-----------------+-------------------+------------+-----------+--------------------+--------------------+-----------+---------------+\n",
      "|Temperature|Humidity|Pressure|Visibility|Wind_Speed|Precipitation|Weekday|Rush_Hour|Rain|Snow|    SeasonVec|Astronomical_TwilightIndex|Interstate_Indicator|Sex_ratio|Percent_Age_15-19|Percent_Age_20-24|Percent_Age_65_over|MedianIncome|Urban_Ratio|Traffic_Interference|Traffic_Intersection|Destination|Severity_Binary|\n",
      "+-----------+--------+--------+----------+----------+-------------+-------+---------+----+----+-------------+--------------------------+--------------------+---------+-----------------+-----------------+-------------------+------------+-----------+--------------------+--------------------+-----------+---------------+\n",
      "|         21|      85|      30|         1|        10|            0|      1|        1|   0|   1|(3,[0],[1.0])|                         0|                   0|     97.6|              8.0|              4.0|               13.1|    104583.0|        1.0|                   0|                   1|          0|              0|\n",
      "|         51|      29|      29|        10|         8|            0|      1|        0|   0|   0|(3,[0],[1.0])|                         1|                   0|     89.6|              7.7|              5.8|               12.7|    128378.0|      0.982|                   0|                   0|          0|              0|\n",
      "|         55|      83|      30|        10|         0|            0|      1|        1|   0|   0|(3,[0],[1.0])|                         0|                   1|     94.6|              6.9|              5.4|               17.3|     52577.0|     0.9968|                   0|                   0|          0|              1|\n",
      "|         52|      94|      30|        10|         9|            0|      1|        1|   0|   0|(3,[0],[1.0])|                         0|                   0|    106.8|              6.4|              8.2|               11.6|     48740.0|        1.0|                   0|                   0|          0|              0|\n",
      "|         25|      96|      30|         0|         0|            0|      1|        1|   0|   0|(3,[0],[1.0])|                         0|                   0|     95.9|              5.6|              6.8|               14.4|     62956.0|     0.9887|                   0|                   0|          0|              0|\n",
      "+-----------+--------+--------+----------+----------+-------------+-------+---------+----+----+-------------+--------------------------+--------------------+---------+-----------------+-----------------+-------------------+------------+-----------+--------------------+--------------------+-----------+---------------+\n",
      "only showing top 5 rows\n",
      "\n"
     ]
    }
   ],
   "source": [
    "# Binary Classification (1 or 2 vs 3 or 4)\n",
    "df = df.withColumn('Severity_Binary', when((col(\"Severity\")==1) | (col(\"Severity\")==2), 0).otherwise(1))\n",
    "df = df.drop('Severity')\n",
    "df.show(5)"
   ]
  },
  {
   "cell_type": "code",
   "execution_count": 12,
   "metadata": {
    "tags": []
   },
   "outputs": [
    {
     "name": "stdout",
     "output_type": "stream",
     "text": [
      "+---------------+-------+------------------+\n",
      "|Severity_Binary|  count|           percent|\n",
      "+---------------+-------+------------------+\n",
      "|              1|1302620|18.537867702623352|\n",
      "|              0|5724186| 81.46213229737664|\n",
      "+---------------+-------+------------------+\n",
      "\n"
     ]
    }
   ],
   "source": [
    "# Check Class Imbalance\n",
    "cts = df.groupBy(\"Severity_Binary\").count().withColumn('percent', (F.col('count') / rows)*100)\n",
    "cts.show()"
   ]
  },
  {
   "cell_type": "code",
   "execution_count": 13,
   "metadata": {
    "tags": []
   },
   "outputs": [
    {
     "name": "stderr",
     "output_type": "stream",
     "text": [
      "                                                                                \r"
     ]
    }
   ],
   "source": [
    "# Undersample each class by 80% of the smallest class\n",
    "sample = (cts.select(\"count\").rdd.min()[0])*0.8\n",
    "\n",
    "class0 = sample/(cts.select(\"count\").where(cts.Severity_Binary == '0').rdd.min()[0])\n",
    "class1 = sample/(cts.select(\"count\").where(cts.Severity_Binary == '1').rdd.min()[0])\n",
    "\n",
    "# Split Data by Class - Downsampling\n",
    "\n",
    "# Create a temporary view to use SQL\n",
    "df.createOrReplaceTempView(\"data_view\")\n",
    "\n",
    "# Calculate fractions for each class\n",
    "#fractions = df.groupBy(\"Severity\").count().rdd.map(lambda row: (row[0], 0.8)).collectAsMap() #samples 80% of each class\n",
    "fractions = {0: class0, 1: class1} #downsample each class to 80% of the smallest class\n",
    "\n",
    "# Use stratified sampling to maintain class distribution\n",
    "train_data = df.sampleBy(\"Severity_Binary\", fractions, seed=42)\n",
    "test_data = df.subtract(train_data)"
   ]
  },
  {
   "cell_type": "code",
   "execution_count": 13,
   "metadata": {
    "tags": []
   },
   "outputs": [
    {
     "name": "stdout",
     "output_type": "stream",
     "text": [
      "29.67241446540576\n",
      "+---------------+-------+------------------+\n",
      "|Severity_Binary|  count|           percent|\n",
      "+---------------+-------+------------------+\n",
      "|              1|1041638|49.958105977727826|\n",
      "|              0|1043385|50.041894022272174|\n",
      "+---------------+-------+------------------+\n",
      "\n"
     ]
    }
   ],
   "source": [
    "# Print Overall % Sampled from DF\n",
    "print(train_data.count()/df.count()*100)\n",
    "\n",
    "# Print % Sampled for each class within Train Data\n",
    "train_data.groupBy(\"Severity_Binary\").count().withColumn('percent', (F.col('count') / train_data.count())*100).show()"
   ]
  },
  {
   "cell_type": "code",
   "execution_count": 14,
   "metadata": {
    "tags": []
   },
   "outputs": [
    {
     "name": "stderr",
     "output_type": "stream",
     "text": [
      "                                                                                \r"
     ]
    },
    {
     "name": "stdout",
     "output_type": "stream",
     "text": [
      "54.5318883145486\n"
     ]
    },
    {
     "name": "stderr",
     "output_type": "stream",
     "text": [
      "[Stage 73:===================================================>      (8 + 1) / 9]\r"
     ]
    },
    {
     "name": "stdout",
     "output_type": "stream",
     "text": [
      "+---------------+-------+-----------------+\n",
      "|Severity_Binary|  count|          percent|\n",
      "+---------------+-------+-----------------+\n",
      "|              1| 233834|6.102378746558451|\n",
      "|              0|3598016|93.89762125344156|\n",
      "+---------------+-------+-----------------+\n",
      "\n"
     ]
    },
    {
     "name": "stderr",
     "output_type": "stream",
     "text": [
      "                                                                                \r"
     ]
    }
   ],
   "source": [
    "# Print Overall % Sampled from DF\n",
    "print(test_data.count()/df.count()*100)\n",
    "\n",
    "# Print % Sampled for each class within Train Data\n",
    "test_data.groupBy(\"Severity_Binary\").count().withColumn('percent', (F.col('count') / test_data.count())*100).show()"
   ]
  },
  {
   "cell_type": "markdown",
   "metadata": {},
   "source": [
    "# Modeling"
   ]
  },
  {
   "cell_type": "code",
   "execution_count": 37,
   "metadata": {
    "tags": []
   },
   "outputs": [],
   "source": [
    "from pyspark.ml.evaluation import MulticlassClassificationEvaluator\n",
    "from pyspark.ml.tuning import CrossValidator, ParamGridBuilder\n",
    "\n",
    "# Select all features except target variable\n",
    "feature_list = []\n",
    "for col in df.columns:\n",
    "    if col == 'Severity_Binary':\n",
    "        continue\n",
    "    else:\n",
    "        feature_list.append(col)\n",
    "\n",
    "features_list = ['Temperature(F)',\n",
    " 'Humidity(%)',\n",
    " 'Pressure(in)',\n",
    " 'Visibility(mi)',\n",
    " 'Wind_Speed(mph)',\n",
    " 'Precipitation(in)',\n",
    " 'Weekday',\n",
    " 'Rush Hour',\n",
    " #'Holiday',\n",
    " 'Rain',\n",
    " 'Snow',\n",
    " 'SeasonVec',\n",
    " 'SeasonVec2',\n",
    " 'SeasonVec3',\n",
    " 'Astronomical_TwilightIndex',\n",
    " 'Interstate Indicator',\n",
    " 'Sex ratio (males per 100 females)',\n",
    " 'Percent_Age_15-19',\n",
    " 'Percent_Age_20-24',\n",
    " 'Percent_Age_65_over',\n",
    " 'MedianIncome',\n",
    " 'Urban_Ratio',\n",
    " 'Traffic_Interference',\n",
    " 'Traffic_Intersection',\n",
    " 'Destination']       \n",
    "        \n",
    "# Vectorize Features\n",
    "assembler = VectorAssembler(inputCols=feature_list, outputCol='features')"
   ]
  },
  {
   "cell_type": "code",
   "execution_count": 41,
   "metadata": {
    "tags": []
   },
   "outputs": [],
   "source": [
    "train_data = assembler.transform(train_data)\n",
    "test_data = assembler.transform(test_data)"
   ]
  },
  {
   "cell_type": "markdown",
   "metadata": {},
   "source": [
    "### Check for Multicollinearity"
   ]
  },
  {
   "cell_type": "code",
   "execution_count": 18,
   "metadata": {
    "tags": []
   },
   "outputs": [
    {
     "name": "stderr",
     "output_type": "stream",
     "text": [
      "                                                                                \r"
     ]
    },
    {
     "name": "stdout",
     "output_type": "stream",
     "text": [
      "[('Temperature(F)', 'SeasonVec', -0.5175782168495072), ('SeasonVec', 'Temperature(F)', -0.5175782168495072), ('Percent_Age_15-19', 'Percent_Age_20-24', 0.46583032647265293), ('Percent_Age_20-24', 'Percent_Age_15-19', 0.46583032647265293), ('Percent_Age_20-24', 'Percent_Age_65_over', -0.40007330340669495), ('Percent_Age_65_over', 'Percent_Age_20-24', -0.40007330340669495)]\n"
     ]
    }
   ],
   "source": [
    "# Assemble features into a vector\n",
    "df_vector = assembler.transform(df)\n",
    "\n",
    "# Calculate the correlation matrix\n",
    "correlation_matrix = Correlation.corr(df_vector, \"features\").head()[0]\n",
    "\n",
    "# Turn into a dataframe\n",
    "corr_matrix_pd = pd.DataFrame(correlation_matrix.toArray(), columns=features_list, index=features_list)\n",
    "\n",
    "# Get the pairs of columns with correlation greater than 0.5\n",
    "high_corr_pairs = []\n",
    "for col1 in corr_matrix_pd.columns:\n",
    "    for col2 in corr_matrix_pd.columns:\n",
    "        if col1 != col2 and ((corr_matrix_pd[col1][col2] > 0.4) | (corr_matrix_pd[col1][col2] < -0.4)):\n",
    "            high_corr_pairs.append((col1, col2, corr_matrix_pd[col1][col2]))\n",
    "\n",
    "print(high_corr_pairs)"
   ]
  },
  {
   "cell_type": "markdown",
   "metadata": {},
   "source": [
    "# Sensitivity Testing"
   ]
  },
  {
   "cell_type": "code",
   "execution_count": 51,
   "metadata": {
    "tags": []
   },
   "outputs": [
    {
     "name": "stderr",
     "output_type": "stream",
     "text": [
      "[Stage 1328:=================================================>      (8 + 1) / 9]\r"
     ]
    },
    {
     "name": "stdout",
     "output_type": "stream",
     "text": [
      "(3, 3, 0.46769075498002854, 0.8467884270366937, 0.8030794524837872)\n"
     ]
    },
    {
     "name": "stderr",
     "output_type": "stream",
     "text": [
      "                                                                                \r"
     ]
    }
   ],
   "source": [
    "#Features Column\n",
    "train_data = assembler.transform(train_data)\n",
    "test_data = assembler.transform(test_data)\n",
    "\n",
    "# Define parameter ranges\n",
    "param_ranges = {\n",
    "    \"maxDepth\": [3,4],\n",
    "    \"maxIter\": [3,4]\n",
    "}\n",
    "\n",
    "# Create an evaluator\n",
    "evaluator = MulticlassClassificationEvaluator(labelCol=\"Severity_Binary\", predictionCol=\"prediction\")\n",
    "\n",
    "# Perform sensitivity analysis\n",
    "results = []\n",
    "for maxDepth in param_ranges[\"maxDepth\"]:\n",
    "    for maxIter in param_ranges[\"maxIter\"]:\n",
    "        # Create a logistic regression model\n",
    "        gbt = GBTClassifier(labelCol=\"Severity_Binary\", featuresCol=\"features\", maxDepth=maxDepth, maxIter=maxIter)\n",
    "\n",
    "        # Fit the model\n",
    "        model = gbt.fit(train_data)\n",
    "\n",
    "        # Make predictions\n",
    "        predictions = model.transform(test_data)\n",
    "\n",
    "        # Evaluate the model\n",
    "        recall = evaluator.evaluate(predictions, {evaluator.metricName:\"truePositiveRateByLabel\", evaluator.metricLabel: 1.0})\n",
    "        f1 = evaluator.evaluate(predictions, {evaluator.metricName:\"f1\"})\n",
    "        accuracy = evaluator.evaluate(predictions, {evaluator.metricName:\"accuracy\"})\n",
    "\n",
    "        # Store the results\n",
    "        results.append((maxDepth, maxIter, recall, f1, accuracy))\n",
    "\n",
    "# Analyze the results\n",
    "for result in results:\n",
    "    print(result)"
   ]
  },
  {
   "cell_type": "code",
   "execution_count": 23,
   "metadata": {
    "tags": []
   },
   "outputs": [
    {
     "name": "stderr",
     "output_type": "stream",
     "text": [
      "[Stage 761:============================================>            (7 + 2) / 9]\r"
     ]
    },
    {
     "name": "stdout",
     "output_type": "stream",
     "text": [
      "Recall:  0.6917945639834545\n"
     ]
    },
    {
     "name": "stderr",
     "output_type": "stream",
     "text": [
      "24/11/17 17:12:45 ERROR Instrumentation: java.io.IOException: Path best_gbt_model already exists. To overwrite it, please use write.overwrite().save(path) for Scala and use write().overwrite().save(path) for Java and Python.\n",
      "\tat org.apache.spark.ml.util.FileSystemOverwrite.handleOverwrite(ReadWrite.scala:683)\n",
      "\tat org.apache.spark.ml.util.MLWriter.save(ReadWrite.scala:167)\n",
      "\tat org.apache.spark.ml.PipelineModel$PipelineModelWriter.super$save(Pipeline.scala:344)\n",
      "\tat org.apache.spark.ml.PipelineModel$PipelineModelWriter.$anonfun$save$4(Pipeline.scala:344)\n",
      "\tat org.apache.spark.ml.MLEvents.withSaveInstanceEvent(events.scala:174)\n",
      "\tat org.apache.spark.ml.MLEvents.withSaveInstanceEvent$(events.scala:169)\n",
      "\tat org.apache.spark.ml.util.Instrumentation.withSaveInstanceEvent(Instrumentation.scala:42)\n",
      "\tat org.apache.spark.ml.PipelineModel$PipelineModelWriter.$anonfun$save$3(Pipeline.scala:344)\n",
      "\tat org.apache.spark.ml.PipelineModel$PipelineModelWriter.$anonfun$save$3$adapted(Pipeline.scala:344)\n",
      "\tat org.apache.spark.ml.util.Instrumentation$.$anonfun$instrumented$1(Instrumentation.scala:191)\n",
      "\tat scala.util.Try$.apply(Try.scala:213)\n",
      "\tat org.apache.spark.ml.util.Instrumentation$.instrumented(Instrumentation.scala:191)\n",
      "\tat org.apache.spark.ml.PipelineModel$PipelineModelWriter.save(Pipeline.scala:344)\n",
      "\tat sun.reflect.NativeMethodAccessorImpl.invoke0(Native Method)\n",
      "\tat sun.reflect.NativeMethodAccessorImpl.invoke(NativeMethodAccessorImpl.java:62)\n",
      "\tat sun.reflect.DelegatingMethodAccessorImpl.invoke(DelegatingMethodAccessorImpl.java:43)\n",
      "\tat java.lang.reflect.Method.invoke(Method.java:498)\n",
      "\tat py4j.reflection.MethodInvoker.invoke(MethodInvoker.java:244)\n",
      "\tat py4j.reflection.ReflectionEngine.invoke(ReflectionEngine.java:374)\n",
      "\tat py4j.Gateway.invoke(Gateway.java:282)\n",
      "\tat py4j.commands.AbstractCommand.invokeMethod(AbstractCommand.java:132)\n",
      "\tat py4j.commands.CallCommand.execute(CallCommand.java:79)\n",
      "\tat py4j.ClientServerConnection.waitForCommands(ClientServerConnection.java:182)\n",
      "\tat py4j.ClientServerConnection.run(ClientServerConnection.java:106)\n",
      "\tat java.lang.Thread.run(Thread.java:750)\n",
      "\n"
     ]
    },
    {
     "ename": "Py4JJavaError",
     "evalue": "An error occurred while calling o7026.save.\n: java.io.IOException: Path best_gbt_model already exists. To overwrite it, please use write.overwrite().save(path) for Scala and use write().overwrite().save(path) for Java and Python.\n\tat org.apache.spark.ml.util.FileSystemOverwrite.handleOverwrite(ReadWrite.scala:683)\n\tat org.apache.spark.ml.util.MLWriter.save(ReadWrite.scala:167)\n\tat org.apache.spark.ml.PipelineModel$PipelineModelWriter.super$save(Pipeline.scala:344)\n\tat org.apache.spark.ml.PipelineModel$PipelineModelWriter.$anonfun$save$4(Pipeline.scala:344)\n\tat org.apache.spark.ml.MLEvents.withSaveInstanceEvent(events.scala:174)\n\tat org.apache.spark.ml.MLEvents.withSaveInstanceEvent$(events.scala:169)\n\tat org.apache.spark.ml.util.Instrumentation.withSaveInstanceEvent(Instrumentation.scala:42)\n\tat org.apache.spark.ml.PipelineModel$PipelineModelWriter.$anonfun$save$3(Pipeline.scala:344)\n\tat org.apache.spark.ml.PipelineModel$PipelineModelWriter.$anonfun$save$3$adapted(Pipeline.scala:344)\n\tat org.apache.spark.ml.util.Instrumentation$.$anonfun$instrumented$1(Instrumentation.scala:191)\n\tat scala.util.Try$.apply(Try.scala:213)\n\tat org.apache.spark.ml.util.Instrumentation$.instrumented(Instrumentation.scala:191)\n\tat org.apache.spark.ml.PipelineModel$PipelineModelWriter.save(Pipeline.scala:344)\n\tat sun.reflect.NativeMethodAccessorImpl.invoke0(Native Method)\n\tat sun.reflect.NativeMethodAccessorImpl.invoke(NativeMethodAccessorImpl.java:62)\n\tat sun.reflect.DelegatingMethodAccessorImpl.invoke(DelegatingMethodAccessorImpl.java:43)\n\tat java.lang.reflect.Method.invoke(Method.java:498)\n\tat py4j.reflection.MethodInvoker.invoke(MethodInvoker.java:244)\n\tat py4j.reflection.ReflectionEngine.invoke(ReflectionEngine.java:374)\n\tat py4j.Gateway.invoke(Gateway.java:282)\n\tat py4j.commands.AbstractCommand.invokeMethod(AbstractCommand.java:132)\n\tat py4j.commands.CallCommand.execute(CallCommand.java:79)\n\tat py4j.ClientServerConnection.waitForCommands(ClientServerConnection.java:182)\n\tat py4j.ClientServerConnection.run(ClientServerConnection.java:106)\n\tat java.lang.Thread.run(Thread.java:750)\n",
     "output_type": "error",
     "traceback": [
      "\u001b[0;31m---------------------------------------------------------------------------\u001b[0m",
      "\u001b[0;31mPy4JJavaError\u001b[0m                             Traceback (most recent call last)",
      "Cell \u001b[0;32mIn[23], line 34\u001b[0m\n\u001b[1;32m     32\u001b[0m \u001b[38;5;66;03m# Get and save the best model\u001b[39;00m\n\u001b[1;32m     33\u001b[0m bestModel \u001b[38;5;241m=\u001b[39m cvModel\u001b[38;5;241m.\u001b[39mbestModel\n\u001b[0;32m---> 34\u001b[0m \u001b[43mbestModel\u001b[49m\u001b[38;5;241;43m.\u001b[39;49m\u001b[43msave\u001b[49m\u001b[43m(\u001b[49m\u001b[38;5;124;43m\"\u001b[39;49m\u001b[38;5;124;43mbest_gbt_model\u001b[39;49m\u001b[38;5;124;43m\"\u001b[39;49m\u001b[43m)\u001b[49m\n\u001b[1;32m     35\u001b[0m \u001b[38;5;28mprint\u001b[39m(bestModel\u001b[38;5;241m.\u001b[39mstages[\u001b[38;5;241m-\u001b[39m\u001b[38;5;241m1\u001b[39m]\u001b[38;5;241m.\u001b[39m_java_obj\u001b[38;5;241m.\u001b[39mparamMap()) \n\u001b[1;32m     36\u001b[0m \u001b[38;5;28mprint\u001b[39m(rcal)\n",
      "File \u001b[0;32m~/.local/lib/python3.11/site-packages/pyspark/ml/util.py:262\u001b[0m, in \u001b[0;36mMLWritable.save\u001b[0;34m(self, path)\u001b[0m\n\u001b[1;32m    260\u001b[0m \u001b[38;5;28;01mdef\u001b[39;00m \u001b[38;5;21msave\u001b[39m(\u001b[38;5;28mself\u001b[39m, path: \u001b[38;5;28mstr\u001b[39m) \u001b[38;5;241m-\u001b[39m\u001b[38;5;241m>\u001b[39m \u001b[38;5;28;01mNone\u001b[39;00m:\n\u001b[1;32m    261\u001b[0m \u001b[38;5;250m    \u001b[39m\u001b[38;5;124;03m\"\"\"Save this ML instance to the given path, a shortcut of 'write().save(path)'.\"\"\"\u001b[39;00m\n\u001b[0;32m--> 262\u001b[0m     \u001b[38;5;28;43mself\u001b[39;49m\u001b[38;5;241;43m.\u001b[39;49m\u001b[43mwrite\u001b[49m\u001b[43m(\u001b[49m\u001b[43m)\u001b[49m\u001b[38;5;241;43m.\u001b[39;49m\u001b[43msave\u001b[49m\u001b[43m(\u001b[49m\u001b[43mpath\u001b[49m\u001b[43m)\u001b[49m\n",
      "File \u001b[0;32m~/.local/lib/python3.11/site-packages/pyspark/ml/util.py:213\u001b[0m, in \u001b[0;36mJavaMLWriter.save\u001b[0;34m(self, path)\u001b[0m\n\u001b[1;32m    211\u001b[0m \u001b[38;5;28;01mif\u001b[39;00m \u001b[38;5;129;01mnot\u001b[39;00m \u001b[38;5;28misinstance\u001b[39m(path, \u001b[38;5;28mstr\u001b[39m):\n\u001b[1;32m    212\u001b[0m     \u001b[38;5;28;01mraise\u001b[39;00m \u001b[38;5;167;01mTypeError\u001b[39;00m(\u001b[38;5;124m\"\u001b[39m\u001b[38;5;124mpath should be a string, got type \u001b[39m\u001b[38;5;132;01m%s\u001b[39;00m\u001b[38;5;124m\"\u001b[39m \u001b[38;5;241m%\u001b[39m \u001b[38;5;28mtype\u001b[39m(path))\n\u001b[0;32m--> 213\u001b[0m \u001b[38;5;28;43mself\u001b[39;49m\u001b[38;5;241;43m.\u001b[39;49m\u001b[43m_jwrite\u001b[49m\u001b[38;5;241;43m.\u001b[39;49m\u001b[43msave\u001b[49m\u001b[43m(\u001b[49m\u001b[43mpath\u001b[49m\u001b[43m)\u001b[49m\n",
      "File \u001b[0;32m~/.local/lib/python3.11/site-packages/py4j/java_gateway.py:1322\u001b[0m, in \u001b[0;36mJavaMember.__call__\u001b[0;34m(self, *args)\u001b[0m\n\u001b[1;32m   1316\u001b[0m command \u001b[38;5;241m=\u001b[39m proto\u001b[38;5;241m.\u001b[39mCALL_COMMAND_NAME \u001b[38;5;241m+\u001b[39m\\\n\u001b[1;32m   1317\u001b[0m     \u001b[38;5;28mself\u001b[39m\u001b[38;5;241m.\u001b[39mcommand_header \u001b[38;5;241m+\u001b[39m\\\n\u001b[1;32m   1318\u001b[0m     args_command \u001b[38;5;241m+\u001b[39m\\\n\u001b[1;32m   1319\u001b[0m     proto\u001b[38;5;241m.\u001b[39mEND_COMMAND_PART\n\u001b[1;32m   1321\u001b[0m answer \u001b[38;5;241m=\u001b[39m \u001b[38;5;28mself\u001b[39m\u001b[38;5;241m.\u001b[39mgateway_client\u001b[38;5;241m.\u001b[39msend_command(command)\n\u001b[0;32m-> 1322\u001b[0m return_value \u001b[38;5;241m=\u001b[39m \u001b[43mget_return_value\u001b[49m\u001b[43m(\u001b[49m\n\u001b[1;32m   1323\u001b[0m \u001b[43m    \u001b[49m\u001b[43manswer\u001b[49m\u001b[43m,\u001b[49m\u001b[43m \u001b[49m\u001b[38;5;28;43mself\u001b[39;49m\u001b[38;5;241;43m.\u001b[39;49m\u001b[43mgateway_client\u001b[49m\u001b[43m,\u001b[49m\u001b[43m \u001b[49m\u001b[38;5;28;43mself\u001b[39;49m\u001b[38;5;241;43m.\u001b[39;49m\u001b[43mtarget_id\u001b[49m\u001b[43m,\u001b[49m\u001b[43m \u001b[49m\u001b[38;5;28;43mself\u001b[39;49m\u001b[38;5;241;43m.\u001b[39;49m\u001b[43mname\u001b[49m\u001b[43m)\u001b[49m\n\u001b[1;32m   1325\u001b[0m \u001b[38;5;28;01mfor\u001b[39;00m temp_arg \u001b[38;5;129;01min\u001b[39;00m temp_args:\n\u001b[1;32m   1326\u001b[0m     \u001b[38;5;28;01mif\u001b[39;00m \u001b[38;5;28mhasattr\u001b[39m(temp_arg, \u001b[38;5;124m\"\u001b[39m\u001b[38;5;124m_detach\u001b[39m\u001b[38;5;124m\"\u001b[39m):\n",
      "File \u001b[0;32m~/.local/lib/python3.11/site-packages/pyspark/errors/exceptions/captured.py:179\u001b[0m, in \u001b[0;36mcapture_sql_exception.<locals>.deco\u001b[0;34m(*a, **kw)\u001b[0m\n\u001b[1;32m    177\u001b[0m \u001b[38;5;28;01mdef\u001b[39;00m \u001b[38;5;21mdeco\u001b[39m(\u001b[38;5;241m*\u001b[39ma: Any, \u001b[38;5;241m*\u001b[39m\u001b[38;5;241m*\u001b[39mkw: Any) \u001b[38;5;241m-\u001b[39m\u001b[38;5;241m>\u001b[39m Any:\n\u001b[1;32m    178\u001b[0m     \u001b[38;5;28;01mtry\u001b[39;00m:\n\u001b[0;32m--> 179\u001b[0m         \u001b[38;5;28;01mreturn\u001b[39;00m \u001b[43mf\u001b[49m\u001b[43m(\u001b[49m\u001b[38;5;241;43m*\u001b[39;49m\u001b[43ma\u001b[49m\u001b[43m,\u001b[49m\u001b[43m \u001b[49m\u001b[38;5;241;43m*\u001b[39;49m\u001b[38;5;241;43m*\u001b[39;49m\u001b[43mkw\u001b[49m\u001b[43m)\u001b[49m\n\u001b[1;32m    180\u001b[0m     \u001b[38;5;28;01mexcept\u001b[39;00m Py4JJavaError \u001b[38;5;28;01mas\u001b[39;00m e:\n\u001b[1;32m    181\u001b[0m         converted \u001b[38;5;241m=\u001b[39m convert_exception(e\u001b[38;5;241m.\u001b[39mjava_exception)\n",
      "File \u001b[0;32m~/.local/lib/python3.11/site-packages/py4j/protocol.py:326\u001b[0m, in \u001b[0;36mget_return_value\u001b[0;34m(answer, gateway_client, target_id, name)\u001b[0m\n\u001b[1;32m    324\u001b[0m value \u001b[38;5;241m=\u001b[39m OUTPUT_CONVERTER[\u001b[38;5;28mtype\u001b[39m](answer[\u001b[38;5;241m2\u001b[39m:], gateway_client)\n\u001b[1;32m    325\u001b[0m \u001b[38;5;28;01mif\u001b[39;00m answer[\u001b[38;5;241m1\u001b[39m] \u001b[38;5;241m==\u001b[39m REFERENCE_TYPE:\n\u001b[0;32m--> 326\u001b[0m     \u001b[38;5;28;01mraise\u001b[39;00m Py4JJavaError(\n\u001b[1;32m    327\u001b[0m         \u001b[38;5;124m\"\u001b[39m\u001b[38;5;124mAn error occurred while calling \u001b[39m\u001b[38;5;132;01m{0}\u001b[39;00m\u001b[38;5;132;01m{1}\u001b[39;00m\u001b[38;5;132;01m{2}\u001b[39;00m\u001b[38;5;124m.\u001b[39m\u001b[38;5;130;01m\\n\u001b[39;00m\u001b[38;5;124m\"\u001b[39m\u001b[38;5;241m.\u001b[39m\n\u001b[1;32m    328\u001b[0m         \u001b[38;5;28mformat\u001b[39m(target_id, \u001b[38;5;124m\"\u001b[39m\u001b[38;5;124m.\u001b[39m\u001b[38;5;124m\"\u001b[39m, name), value)\n\u001b[1;32m    329\u001b[0m \u001b[38;5;28;01melse\u001b[39;00m:\n\u001b[1;32m    330\u001b[0m     \u001b[38;5;28;01mraise\u001b[39;00m Py4JError(\n\u001b[1;32m    331\u001b[0m         \u001b[38;5;124m\"\u001b[39m\u001b[38;5;124mAn error occurred while calling \u001b[39m\u001b[38;5;132;01m{0}\u001b[39;00m\u001b[38;5;132;01m{1}\u001b[39;00m\u001b[38;5;132;01m{2}\u001b[39;00m\u001b[38;5;124m. Trace:\u001b[39m\u001b[38;5;130;01m\\n\u001b[39;00m\u001b[38;5;132;01m{3}\u001b[39;00m\u001b[38;5;130;01m\\n\u001b[39;00m\u001b[38;5;124m\"\u001b[39m\u001b[38;5;241m.\u001b[39m\n\u001b[1;32m    332\u001b[0m         \u001b[38;5;28mformat\u001b[39m(target_id, \u001b[38;5;124m\"\u001b[39m\u001b[38;5;124m.\u001b[39m\u001b[38;5;124m\"\u001b[39m, name, value))\n",
      "\u001b[0;31mPy4JJavaError\u001b[0m: An error occurred while calling o7026.save.\n: java.io.IOException: Path best_gbt_model already exists. To overwrite it, please use write.overwrite().save(path) for Scala and use write().overwrite().save(path) for Java and Python.\n\tat org.apache.spark.ml.util.FileSystemOverwrite.handleOverwrite(ReadWrite.scala:683)\n\tat org.apache.spark.ml.util.MLWriter.save(ReadWrite.scala:167)\n\tat org.apache.spark.ml.PipelineModel$PipelineModelWriter.super$save(Pipeline.scala:344)\n\tat org.apache.spark.ml.PipelineModel$PipelineModelWriter.$anonfun$save$4(Pipeline.scala:344)\n\tat org.apache.spark.ml.MLEvents.withSaveInstanceEvent(events.scala:174)\n\tat org.apache.spark.ml.MLEvents.withSaveInstanceEvent$(events.scala:169)\n\tat org.apache.spark.ml.util.Instrumentation.withSaveInstanceEvent(Instrumentation.scala:42)\n\tat org.apache.spark.ml.PipelineModel$PipelineModelWriter.$anonfun$save$3(Pipeline.scala:344)\n\tat org.apache.spark.ml.PipelineModel$PipelineModelWriter.$anonfun$save$3$adapted(Pipeline.scala:344)\n\tat org.apache.spark.ml.util.Instrumentation$.$anonfun$instrumented$1(Instrumentation.scala:191)\n\tat scala.util.Try$.apply(Try.scala:213)\n\tat org.apache.spark.ml.util.Instrumentation$.instrumented(Instrumentation.scala:191)\n\tat org.apache.spark.ml.PipelineModel$PipelineModelWriter.save(Pipeline.scala:344)\n\tat sun.reflect.NativeMethodAccessorImpl.invoke0(Native Method)\n\tat sun.reflect.NativeMethodAccessorImpl.invoke(NativeMethodAccessorImpl.java:62)\n\tat sun.reflect.DelegatingMethodAccessorImpl.invoke(DelegatingMethodAccessorImpl.java:43)\n\tat java.lang.reflect.Method.invoke(Method.java:498)\n\tat py4j.reflection.MethodInvoker.invoke(MethodInvoker.java:244)\n\tat py4j.reflection.ReflectionEngine.invoke(ReflectionEngine.java:374)\n\tat py4j.Gateway.invoke(Gateway.java:282)\n\tat py4j.commands.AbstractCommand.invokeMethod(AbstractCommand.java:132)\n\tat py4j.commands.CallCommand.execute(CallCommand.java:79)\n\tat py4j.ClientServerConnection.waitForCommands(ClientServerConnection.java:182)\n\tat py4j.ClientServerConnection.run(ClientServerConnection.java:106)\n\tat java.lang.Thread.run(Thread.java:750)\n"
     ]
    }
   ],
   "source": [
    "# Create a RandomForestClassifier\n",
    "rf = GBTClassifier(labelCol=\"Severity_Binary\", featuresCol=\"features\")\n",
    "# Create a pipeline\n",
    "pipeline = Pipeline(stages=[assembler, rf])\n",
    "\n",
    "# Define the parameter grid\n",
    "paramGrid = ParamGridBuilder() \\\n",
    "    .addGrid(rf.maxIter, [3, 6]) \\\n",
    "    .addGrid(rf.maxDepth, [3, 4]) \\\n",
    "    .build()\n",
    "\n",
    "# Create a CrossValidator\n",
    "crossval = CrossValidator(estimator=pipeline,\n",
    "                          estimatorParamMaps=paramGrid,\n",
    "                          evaluator=MulticlassClassificationEvaluator(labelCol=\"Severity_Binary\"\n",
    "                                                                      , predictionCol=\"prediction\"\n",
    "                                                                      , metricName=\"weightedRecall\"),\n",
    "                          numFolds=2,\n",
    "                          collectSubModels=True)\n",
    "\n",
    "# Fit the model\n",
    "cvModel = crossval.fit(train_data)\n",
    "\n",
    "# Make predictions on the test set\n",
    "predictions = cvModel.transform(test_data)\n",
    "\n",
    "# Evaluate the model\n",
    "#evaluator = MulticlassClassificationEvaluator(labelCol=\"Severity_Binary\", predictionCol=\"prediction\", metricName=\"weightedRecall\")\n",
    "recall = evaluator.evaluate(predictions)\n",
    "print(\"Recall: \", recall)\n",
    "\n",
    "# Get and save the best model\n",
    "bestModel = cvModel.bestModel\n",
    "bestModel.save(\"best_gbt_model\")\n",
    "print(bestModel.stages[-1]._java_obj.paramMap()) "
   ]
  },
  {
   "cell_type": "markdown",
   "metadata": {},
   "source": [
    "## Load Saved Best Model"
   ]
  },
  {
   "cell_type": "code",
   "execution_count": 19,
   "metadata": {
    "tags": []
   },
   "outputs": [],
   "source": [
    "# Load the saved best model\n",
    "loadedCvModel = PipelineModel.load(\"best_gbt_model\")"
   ]
  },
  {
   "cell_type": "markdown",
   "metadata": {},
   "source": [
    "## Evaluation Metrics"
   ]
  },
  {
   "cell_type": "code",
   "execution_count": 20,
   "metadata": {
    "tags": []
   },
   "outputs": [
    {
     "name": "stderr",
     "output_type": "stream",
     "text": [
      "                                                                                \r"
     ]
    },
    {
     "name": "stdout",
     "output_type": "stream",
     "text": [
      "Weighted Precision: 0.9158746279358325\n",
      "Weighted Recall: 0.6931749574325194\n",
      "Weighted F1 Score: 0.7730147581077779\n",
      "Accuracy: 0.6931749574325196\n"
     ]
    },
    {
     "data": {
      "image/png": "[encoded data removed]",
      "text/plain": [
       "<Figure size 640x480 with 2 Axes>"
      ]
     },
     "metadata": {},
     "output_type": "display_data"
    },
    {
     "name": "stderr",
     "output_type": "stream",
     "text": [
      "[Stage 950:===============================>                         (5 + 4) / 9]\r"
     ]
    },
    {
     "name": "stdout",
     "output_type": "stream",
     "text": [
      "Area Under ROC: 0.6681312059814621\n"
     ]
    },
    {
     "name": "stderr",
     "output_type": "stream",
     "text": [
      "                                                                                \r"
     ]
    }
   ],
   "source": [
    "# Further Metrics on Best Model\n",
    "pred = loadedCvModel.transform(test_data)\n",
    "\n",
    "#Evaluate (Confusion Matrix, Accuracy, Weighted Precision, Recall, and F1 Score)\n",
    "predictionAndLabels = pred.select(\"prediction\", \"Severity_Binary\")\n",
    "rdd = predictionAndLabels.rdd.map(lambda x: tuple(map(float, x)))\n",
    "multi_metrics = MulticlassMetrics(rdd)\n",
    "\n",
    "# Get precision, recall, and F1-score for each class\n",
    "print(f'Weighted Precision: {multi_metrics.weightedPrecision}') #would expect to be good when test sample has high majority 0 class\n",
    "print(f'Weighted Recall: {multi_metrics.weightedRecall}')\n",
    "print(f'Weighted F1 Score: {multi_metrics.weightedFMeasure()}') #would like to optimize this (balance of precision and recall)\n",
    "print(f'Accuracy: {multi_metrics.accuracy}') #could be skewed with imbalanced test set\n",
    "\n",
    "# Plot confusion matrix\n",
    "cf = multi_metrics.confusionMatrix().toArray()\n",
    "cf_df = pd.DataFrame(cf, columns=['0', '1'])\n",
    "sns.heatmap(cf_df, annot=True, cmap=\"coolwarm\")\n",
    "plt.show()\n",
    "\n",
    "# AUC Score\n",
    "binary_metrics = BinaryClassificationMetrics(rdd)\n",
    "auc = binary_metrics.areaUnderROC\n",
    "print(\"Area Under ROC:\", auc)"
   ]
  },
  {
   "cell_type": "markdown",
   "metadata": {},
   "source": [
    "## Feature Importance"
   ]
  },
  {
   "cell_type": "code",
   "execution_count": 50,
   "metadata": {
    "tags": []
   },
   "outputs": [
    {
     "name": "stdout",
     "output_type": "stream",
     "text": [
      "Percent_Age_15-19: 0.6538633098522804\n",
      "Wind_Speed(mph): 0.11309523586636983\n",
      "Pressure(in): 0.021411067760803683\n",
      "Urban_Ratio: 0.020182736604989756\n",
      "Traffic_Intersection: 0.01307051332883975\n",
      "Sex ratio (males per 100 females): 0.006172481797186255\n",
      "Temperature(F): 0.00493695556091131\n",
      "Traffic_Interference: 0.004705629286118825\n",
      "Visibility(mi): 0.0035782185663899894\n",
      "Destination: 0.0030973008775653\n",
      "Weekday: 0.0026137961573831966\n",
      "Percent_Age_65_over: 0.0024557402387279104\n",
      "Snow: 0.0020169011529076507\n",
      "MedianIncome: 0.0013424964805030298\n",
      "Percent_Age_20-24: 0.0008952325602054058\n",
      "Humidity(%): 0.00013728881673452133\n",
      "Rush Hour: 3.356935485804044e-05\n",
      "Precipitation(in): 0.0\n",
      "Holiday: 0.0\n",
      "Rain: 0.0\n",
      "SeasonVec: 0.0\n",
      "Astronomical_TwilightIndex: 0.0\n",
      "Interstate Indicator: 0.0\n"
     ]
    }
   ],
   "source": [
    "feature_importances = cvModel.bestModel.stages[-1].featureImportances\n",
    "\n",
    "# Create a mapping between feature names and their importance scores\n",
    "feature_importance_dict = {}\n",
    "feature_names = assembler.getInputCols()\n",
    "for i, feature_name in enumerate(feature_names):\n",
    "    feature_importance_dict[feature_name] = feature_importances[i]\n",
    "\n",
    "# Sort the feature importance dictionary by score in descending order\n",
    "sorted_feature_importances = sorted(feature_importance_dict.items(), key=lambda x: x[1], reverse=True)\n",
    "\n",
    "# Print the feature importances\n",
    "for feature_name, importance_score in sorted_feature_importances:\n",
    "    print(f\"{feature_name}: {importance_score}\")"
   ]
  },
  {
   "cell_type": "markdown",
   "metadata": {},
   "source": [
    "# Questions/Wierd Things"
   ]
  },
  {
   "cell_type": "code",
   "execution_count": null,
   "metadata": {},
   "outputs": [],
   "source": [
    "#Why is my undersampling code not using all available data?\n",
    "\n",
    "#Can't figure out ROC Curve"
   ]
  },
  {
   "cell_type": "code",
   "execution_count": null,
   "metadata": {
    "tags": []
   },
   "outputs": [
    {
     "name": "stdout",
     "output_type": "stream",
     "text": [
      "Feature Importances:\n",
      "Temperature(F): 0.0009213015483506297\n",
      "Humidity(%): 0.002540609439652656\n",
      "Pressure(in): 0.020450333607135187\n",
      "Visibility(mi): 0.0013161062441105088\n",
      "Wind_Speed(mph): 0.0940699616214557\n",
      "Precipitation(in): 0.0\n",
      "Weekday: 0.0005017290970311592\n",
      "Rush Hour: 0.0\n",
      "Holiday: 0.0\n",
      "Rain: 0.0023240584289040468\n",
      "Snow: 0.0\n",
      "SeasonVec: 0.0\n",
      "Astronomical_TwilightIndex: 0.0\n",
      "Interstate Indicator: 0.0\n",
      "Sex ratio (males per 100 females): 0.0\n",
      "Percent_Age_15-19: 0.7070260166982979\n",
      "Percent_Age_20-24: 0.0002243347183741944\n",
      "Percent_Age_65_over: 0.0\n",
      "MedianIncome: 0.003956996597709727\n",
      "Urban_Ratio: 0.0\n",
      "Traffic_Interference: 0.01904514582410056\n",
      "Traffic_Intersection: 0.0169767010785899\n",
      "Destination: 0.0\n"
     ]
    }
   ],
   "source": [
    "#Feature Importances\n",
    "bestModel = cvModel.bestModel.stages[-1]  # Assuming the last stage in the pipeline is the model\n",
    "\n",
    "featureImportances = bestModel.featureImportances\n",
    "\n",
    "print(\"Feature Importances:\")\n",
    "for feature, importance in zip(test_data.columns[:-1], featureImportances):\n",
    "    print(f\"{feature}: {importance}\")"
   ]
  },
  {
   "cell_type": "code",
   "execution_count": 31,
   "metadata": {
    "tags": []
   },
   "outputs": [
    {
     "data": {
      "text/plain": [
       "SparseVector(25, {0: 0.0009, 1: 0.0025, 2: 0.0205, 3: 0.0013, 4: 0.0941, 6: 0.0005, 9: 0.0023, 15: 0.707, 16: 0.0002, 18: 0.004, 20: 0.019, 21: 0.017, 23: 0.1054, 24: 0.0253})"
      ]
     },
     "execution_count": 31,
     "metadata": {},
     "output_type": "execute_result"
    }
   ],
   "source": [
    "bestModel.featureImportances #why are there 25? when only 23 features? Onehotencoding?"
   ]
  },
  {
   "cell_type": "code",
   "execution_count": null,
   "metadata": {},
   "outputs": [],
   "source": []
  }
 ],
 "metadata": {
  "kernelspec": {
   "display_name": "Python 3 (ipykernel)",
   "language": "python",
   "name": "python3"
  },
  "language_info": {
   "codemirror_mode": {
    "name": "ipython",
    "version": 3
   },
   "file_extension": ".py",
   "mimetype": "text/x-python",
   "name": "python",
   "nbconvert_exporter": "python",
   "pygments_lexer": "ipython3",
   "version": "3.11.5"
  }
 },
 "nbformat": 4,
 "nbformat_minor": 4
}
