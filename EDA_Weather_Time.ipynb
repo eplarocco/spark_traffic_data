{
 "cells": [
  {
   "cell_type": "code",
   "execution_count": 1,
   "metadata": {
    "tags": []
   },
   "outputs": [
    {
     "data": {
      "text/html": [
       "<style>pre { white-space: pre !important; }</style>"
      ],
      "text/plain": [
       "<IPython.core.display.HTML object>"
      ]
     },
     "metadata": {},
     "output_type": "display_data"
    }
   ],
   "source": [
    "from IPython.core.display import HTML\n",
    "display(HTML(\"<style>pre { white-space: pre !important; }</style>\"))"
   ]
  },
  {
   "cell_type": "code",
   "execution_count": 2,
   "metadata": {
    "tags": []
   },
   "outputs": [],
   "source": [
    "import pandas as pd\n",
    "import numpy as np\n",
    "import os\n",
    "import pyspark\n",
    "from pyspark.sql import SparkSession\n",
    "from pyspark.sql.types import *\n",
    "from pyspark.sql.functions import *"
   ]
  },
  {
   "cell_type": "code",
   "execution_count": 3,
   "metadata": {
    "tags": []
   },
   "outputs": [
    {
     "name": "stderr",
     "output_type": "stream",
     "text": [
      "Setting default log level to \"WARN\".\n",
      "To adjust logging level use sc.setLogLevel(newLevel). For SparkR, use setLogLevel(newLevel).\n",
      "24/10/01 12:28:34 WARN NativeCodeLoader: Unable to load native-hadoop library for your platform... using builtin-java classes where applicable\n"
     ]
    }
   ],
   "source": [
    "spark = (SparkSession\n",
    "  .builder\n",
    "  .appName(\"US_Accidents\")\n",
    "  .getOrCreate())"
   ]
  },
  {
   "cell_type": "code",
   "execution_count": 4,
   "metadata": {
    "tags": []
   },
   "outputs": [],
   "source": [
    "schema = StructType([StructField('ID', StringType(), False),\n",
    "                StructField('Source', StringType(), False),\n",
    "                StructField('Severity', IntegerType(), False),\n",
    "                StructField('Start_Time', TimestampType(), False),                  \n",
    "                StructField('End_Time', TimestampType(), False),      \n",
    "                StructField('Start_Lat', DecimalType(), False),\n",
    "                StructField('Start_Lng', DecimalType(), False),\n",
    "                StructField('End_Lat', DecimalType(), True),\n",
    "                StructField('End_Lng', DecimalType(), True),       \n",
    "                StructField('Distance(mi)', DecimalType(), False),       \n",
    "                StructField('Description', StringType(), False),       \n",
    "                StructField('Street', StringType(), True),                 \n",
    "                StructField('City', StringType(), True),       \n",
    "                StructField('County', StringType(), True),       \n",
    "                StructField('State', StringType(), True),       \n",
    "                StructField('Zipcode', StringType(), True),       \n",
    "                StructField('Country', StringType(), True),       \n",
    "                StructField('Timezone', StringType(), True),       \n",
    "                StructField('Airport_Code', StringType(), True),\n",
    "                StructField('Weather_Timestamp', TimestampType(), True),\n",
    "                StructField('Temperature(F)', DecimalType(), True),\n",
    "                StructField('Wind_Chill(F)', DecimalType(), True),\n",
    "                StructField('Humidity(%)', DecimalType(), True),\n",
    "                StructField('Pressure(in)', DecimalType(), True),\n",
    "                StructField('Visibility(mi)', DecimalType(), True),\n",
    "                StructField('Wind_Direction', StringType(), True),\n",
    "                StructField('Wind_Speed(mph)', DecimalType(), True),\n",
    "                StructField('Precipitation(in)', DecimalType(), True),\n",
    "                StructField('Weather_Condition', StringType(), True),\n",
    "                StructField('Amenity', BooleanType(), False),\n",
    "                StructField('Bump', BooleanType(), False),\n",
    "                StructField('Crossing', BooleanType(), False),\n",
    "                StructField('Give_way', BooleanType(), False),\n",
    "                StructField('Junction', BooleanType(), False),\n",
    "                StructField('No_Exit', BooleanType(), False),\n",
    "                StructField('Railway', BooleanType(), False), \n",
    "                StructField('Roundabout', BooleanType(), False),\n",
    "                StructField('Station', BooleanType(), False),\n",
    "                StructField('Stop', BooleanType(), False),\n",
    "                StructField('Traffic_Calming', BooleanType(), False),\n",
    "                StructField('Traffic_Signal', BooleanType(), False),\n",
    "                StructField('Turning_Loop', BooleanType(), False),\n",
    "                StructField('Sunrise_Sunset', StringType(), True),\n",
    "                StructField('Civil_Twilight', StringType(), True),\n",
    "                StructField('Nautical_Twilight', StringType(), True),\n",
    "                StructField('Astronomical_Twilight', StringType(), True)])\n",
    "\n",
    "# Use the DataFrameReader interface to read a CSV file\n",
    "file = \"US_Accidents_March23.csv\"\n",
    "df = spark.read.csv(file, header=True, schema=schema)"
   ]
  },
  {
   "cell_type": "code",
   "execution_count": 5,
   "metadata": {},
   "outputs": [
    {
     "name": "stdout",
     "output_type": "stream",
     "text": [
      "+---+-------------------+-------------------+----------+-------------------+-----------------+\n",
      "| ID|         Start_Time|           End_Time|  Timezone|  Weather_Timestamp|Weather_Condition|\n",
      "+---+-------------------+-------------------+----------+-------------------+-----------------+\n",
      "|A-1|2016-02-08 05:46:00|2016-02-08 11:00:00|US/Eastern|2016-02-08 05:58:00|       Light Rain|\n",
      "|A-2|2016-02-08 06:07:59|2016-02-08 06:37:59|US/Eastern|2016-02-08 05:51:00|       Light Rain|\n",
      "|A-3|2016-02-08 06:49:27|2016-02-08 07:19:27|US/Eastern|2016-02-08 06:56:00|         Overcast|\n",
      "|A-4|2016-02-08 07:23:34|2016-02-08 07:53:34|US/Eastern|2016-02-08 07:38:00|    Mostly Cloudy|\n",
      "|A-5|2016-02-08 07:39:07|2016-02-08 08:09:07|US/Eastern|2016-02-08 07:53:00|    Mostly Cloudy|\n",
      "+---+-------------------+-------------------+----------+-------------------+-----------------+\n",
      "only showing top 5 rows\n",
      "\n"
     ]
    }
   ],
   "source": [
    "df = df.select('ID', 'Start_Time', 'End_Time', 'Timezone', 'Weather_Timestamp', 'Weather_Condition')\n",
    "df.show(5)"
   ]
  },
  {
   "cell_type": "code",
   "execution_count": 17,
   "metadata": {
    "tags": []
   },
   "outputs": [
    {
     "name": "stderr",
     "output_type": "stream",
     "text": [
      "[Stage 18:======================================>                 (16 + 7) / 23]\r"
     ]
    },
    {
     "name": "stdout",
     "output_type": "stream",
     "text": [
      "DataFrame Rows count : 7728394\n",
      "DataFrame Columns count : 6\n"
     ]
    },
    {
     "name": "stderr",
     "output_type": "stream",
     "text": [
      "                                                                                \r"
     ]
    }
   ],
   "source": [
    "# Get row count\n",
    "rows = df.count()\n",
    "print(f\"DataFrame Rows count : {rows}\")\n",
    "\n",
    "# Get columns count\n",
    "cols = len(df.columns)\n",
    "print(f\"DataFrame Columns count : {cols}\")"
   ]
  },
  {
   "cell_type": "code",
   "execution_count": 18,
   "metadata": {},
   "outputs": [
    {
     "name": "stderr",
     "output_type": "stream",
     "text": [
      "[Stage 21:=====================================================>  (22 + 1) / 23]\r"
     ]
    },
    {
     "name": "stdout",
     "output_type": "stream",
     "text": [
      "+-------+--------+----------+------------------+\n",
      "|summary|      ID|  Timezone| Weather_Condition|\n",
      "+-------+--------+----------+------------------+\n",
      "|  count| 7728394|   7720586|           7554935|\n",
      "|   mean|    null|      null|              null|\n",
      "| stddev|    null|      null|              null|\n",
      "|    min|     A-1|US/Central|      Blowing Dust|\n",
      "|    25%|    null|      null|              null|\n",
      "|    50%|    null|      null|              null|\n",
      "|    75%|    null|      null|              null|\n",
      "|    max|A-999999|US/Pacific|Wintry Mix / Windy|\n",
      "+-------+--------+----------+------------------+\n",
      "\n"
     ]
    },
    {
     "name": "stderr",
     "output_type": "stream",
     "text": [
      "                                                                                \r"
     ]
    }
   ],
   "source": [
    "df.summary().show()"
   ]
  },
  {
   "cell_type": "code",
   "execution_count": 19,
   "metadata": {
    "tags": []
   },
   "outputs": [
    {
     "name": "stderr",
     "output_type": "stream",
     "text": [
      "[Stage 24:======================================>                 (16 + 7) / 23]\r"
     ]
    },
    {
     "name": "stdout",
     "output_type": "stream",
     "text": [
      "+-----------+-------+\n",
      "|   Timezone|  count|\n",
      "+-----------+-------+\n",
      "| US/Eastern|3580167|\n",
      "| US/Pacific|2062984|\n",
      "| US/Central|1645616|\n",
      "|US/Mountain| 431819|\n",
      "|       null|   7808|\n",
      "+-----------+-------+\n",
      "\n"
     ]
    },
    {
     "name": "stderr",
     "output_type": "stream",
     "text": [
      "                                                                                \r"
     ]
    }
   ],
   "source": [
    "df.groupBy('Timezone').count().orderBy(desc(\"count\")).show()"
   ]
  },
  {
   "cell_type": "code",
   "execution_count": 6,
   "metadata": {
    "tags": []
   },
   "outputs": [
    {
     "name": "stderr",
     "output_type": "stream",
     "text": [
      "[Stage 1:====================================================>    (21 + 2) / 23]\r"
     ]
    },
    {
     "name": "stdout",
     "output_type": "stream",
     "text": [
      "+-----------+-------+\n",
      "|   Timezone|  count|\n",
      "+-----------+-------+\n",
      "| US/Eastern|3580167|\n",
      "| US/Pacific|2062984|\n",
      "| US/Central|1645616|\n",
      "|US/Mountain| 431819|\n",
      "+-----------+-------+\n",
      "\n"
     ]
    },
    {
     "name": "stderr",
     "output_type": "stream",
     "text": [
      "                                                                                \r"
     ]
    }
   ],
   "source": [
    "#have to remove the ~8000 null if using date/time in any way\n",
    "df = df.dropna(subset=[\"Timezone\"])\n",
    "df.groupBy('Timezone').count().orderBy(desc(\"count\")).show()"
   ]
  },
  {
   "cell_type": "code",
   "execution_count": 22,
   "metadata": {
    "tags": []
   },
   "outputs": [
    {
     "name": "stderr",
     "output_type": "stream",
     "text": [
      "[Stage 33:=================================================>      (16 + 2) / 18]\r"
     ]
    },
    {
     "name": "stdout",
     "output_type": "stream",
     "text": [
      "+---+----------+--------+--------+-----------------+-----------------+\n",
      "| ID|Start_Time|End_Time|Timezone|Weather_Timestamp|Weather_Condition|\n",
      "+---+----------+--------+--------+-----------------+-----------------+\n",
      "+---+----------+--------+--------+-----------------+-----------------+\n",
      "\n"
     ]
    },
    {
     "name": "stderr",
     "output_type": "stream",
     "text": [
      "                                                                                \r"
     ]
    }
   ],
   "source": [
    "#check nulls\n",
    "df.filter(col(\"Start_Time\").isNull()).show()"
   ]
  },
  {
   "cell_type": "code",
   "execution_count": 7,
   "metadata": {
    "tags": []
   },
   "outputs": [
    {
     "name": "stdout",
     "output_type": "stream",
     "text": [
      "+---+-------------------+-------------------+----------+-------------------+-----------------+-------------------+-------------------+---------------------+\n",
      "| ID|         Start_Time|           End_Time|  Timezone|  Weather_Timestamp|Weather_Condition|     UTC_Start_Time|       UTC_End_Time|UTC_Weather_Timestamp|\n",
      "+---+-------------------+-------------------+----------+-------------------+-----------------+-------------------+-------------------+---------------------+\n",
      "|A-1|2016-02-08 05:46:00|2016-02-08 11:00:00|US/Eastern|2016-02-08 05:58:00|       Light Rain|2016-02-08 10:46:00|2016-02-08 16:00:00|  2016-02-08 10:58:00|\n",
      "|A-2|2016-02-08 06:07:59|2016-02-08 06:37:59|US/Eastern|2016-02-08 05:51:00|       Light Rain|2016-02-08 11:07:59|2016-02-08 11:37:59|  2016-02-08 10:51:00|\n",
      "|A-3|2016-02-08 06:49:27|2016-02-08 07:19:27|US/Eastern|2016-02-08 06:56:00|         Overcast|2016-02-08 11:49:27|2016-02-08 12:19:27|  2016-02-08 11:56:00|\n",
      "|A-4|2016-02-08 07:23:34|2016-02-08 07:53:34|US/Eastern|2016-02-08 07:38:00|    Mostly Cloudy|2016-02-08 12:23:34|2016-02-08 12:53:34|  2016-02-08 12:38:00|\n",
      "|A-5|2016-02-08 07:39:07|2016-02-08 08:09:07|US/Eastern|2016-02-08 07:53:00|    Mostly Cloudy|2016-02-08 12:39:07|2016-02-08 13:09:07|  2016-02-08 12:53:00|\n",
      "+---+-------------------+-------------------+----------+-------------------+-----------------+-------------------+-------------------+---------------------+\n",
      "only showing top 5 rows\n",
      "\n"
     ]
    }
   ],
   "source": [
    "#convert times to utc in new column UTC_*\n",
    "df=df.withColumn(\"Start_Time\",col(\"Start_Time\").cast(\"Timestamp\"))\\\n",
    ".withColumn(\"UTC_Start_Time\",to_utc_timestamp(col(\"Start_Time\"), col(\"Timezone\")))\\\n",
    ".withColumn(\"End_Time\",col(\"End_Time\").cast(\"Timestamp\"))\\\n",
    ".withColumn(\"UTC_End_Time\",to_utc_timestamp(col(\"End_Time\"), col(\"Timezone\")))\\\n",
    ".withColumn(\"Weather_Timestamp\",col(\"Weather_Timestamp\").cast(\"Timestamp\"))\\\n",
    ".withColumn(\"UTC_Weather_Timestamp\",to_utc_timestamp(col(\"Weather_Timestamp\"), col(\"Timezone\")))\n",
    "df.show(5)"
   ]
  },
  {
   "cell_type": "code",
   "execution_count": 10,
   "metadata": {
    "tags": []
   },
   "outputs": [
    {
     "name": "stdout",
     "output_type": "stream",
     "text": [
      "+---+-------------------+-------------------+----------+-------------------+-----------------+-------------------+-------------------+---------------------+-----------+\n",
      "| ID|         Start_Time|           End_Time|  Timezone|  Weather_Timestamp|Weather_Condition|     UTC_Start_Time|       UTC_End_Time|UTC_Weather_Timestamp|Day_of_Week|\n",
      "+---+-------------------+-------------------+----------+-------------------+-----------------+-------------------+-------------------+---------------------+-----------+\n",
      "|A-1|2016-02-08 05:46:00|2016-02-08 11:00:00|US/Eastern|2016-02-08 05:58:00|       Light Rain|2016-02-08 10:46:00|2016-02-08 16:00:00|  2016-02-08 10:58:00|          2|\n",
      "|A-2|2016-02-08 06:07:59|2016-02-08 06:37:59|US/Eastern|2016-02-08 05:51:00|       Light Rain|2016-02-08 11:07:59|2016-02-08 11:37:59|  2016-02-08 10:51:00|          2|\n",
      "|A-3|2016-02-08 06:49:27|2016-02-08 07:19:27|US/Eastern|2016-02-08 06:56:00|         Overcast|2016-02-08 11:49:27|2016-02-08 12:19:27|  2016-02-08 11:56:00|          2|\n",
      "|A-4|2016-02-08 07:23:34|2016-02-08 07:53:34|US/Eastern|2016-02-08 07:38:00|    Mostly Cloudy|2016-02-08 12:23:34|2016-02-08 12:53:34|  2016-02-08 12:38:00|          2|\n",
      "|A-5|2016-02-08 07:39:07|2016-02-08 08:09:07|US/Eastern|2016-02-08 07:53:00|    Mostly Cloudy|2016-02-08 12:39:07|2016-02-08 13:09:07|  2016-02-08 12:53:00|          2|\n",
      "+---+-------------------+-------------------+----------+-------------------+-----------------+-------------------+-------------------+---------------------+-----------+\n",
      "only showing top 5 rows\n",
      "\n"
     ]
    }
   ],
   "source": [
    "#create day of the week\n",
    "df = df.withColumn('Day_of_Week', dayofweek(col('Start_Time'))) #Ranges from 1 for a Sunday through to 7 for a Saturday\n",
    "df.show(5)"
   ]
  },
  {
   "cell_type": "code",
   "execution_count": 11,
   "metadata": {
    "tags": []
   },
   "outputs": [
    {
     "name": "stdout",
     "output_type": "stream",
     "text": [
      "+---+-------------------+-------------------+----------+-------------------+-----------------+-------------------+-------------------+---------------------+-----------+-----+\n",
      "| ID|         Start_Time|           End_Time|  Timezone|  Weather_Timestamp|Weather_Condition|     UTC_Start_Time|       UTC_End_Time|UTC_Weather_Timestamp|Day_of_Week|Month|\n",
      "+---+-------------------+-------------------+----------+-------------------+-----------------+-------------------+-------------------+---------------------+-----------+-----+\n",
      "|A-1|2016-02-08 05:46:00|2016-02-08 11:00:00|US/Eastern|2016-02-08 05:58:00|       Light Rain|2016-02-08 10:46:00|2016-02-08 16:00:00|  2016-02-08 10:58:00|          2|    2|\n",
      "|A-2|2016-02-08 06:07:59|2016-02-08 06:37:59|US/Eastern|2016-02-08 05:51:00|       Light Rain|2016-02-08 11:07:59|2016-02-08 11:37:59|  2016-02-08 10:51:00|          2|    2|\n",
      "|A-3|2016-02-08 06:49:27|2016-02-08 07:19:27|US/Eastern|2016-02-08 06:56:00|         Overcast|2016-02-08 11:49:27|2016-02-08 12:19:27|  2016-02-08 11:56:00|          2|    2|\n",
      "|A-4|2016-02-08 07:23:34|2016-02-08 07:53:34|US/Eastern|2016-02-08 07:38:00|    Mostly Cloudy|2016-02-08 12:23:34|2016-02-08 12:53:34|  2016-02-08 12:38:00|          2|    2|\n",
      "|A-5|2016-02-08 07:39:07|2016-02-08 08:09:07|US/Eastern|2016-02-08 07:53:00|    Mostly Cloudy|2016-02-08 12:39:07|2016-02-08 13:09:07|  2016-02-08 12:53:00|          2|    2|\n",
      "+---+-------------------+-------------------+----------+-------------------+-----------------+-------------------+-------------------+---------------------+-----------+-----+\n",
      "only showing top 5 rows\n",
      "\n"
     ]
    }
   ],
   "source": [
    "#create month column\n",
    "df = df.withColumn('Month', month(df['Start_Time']))\n",
    "df.show(5)"
   ]
  },
  {
   "cell_type": "code",
   "execution_count": 14,
   "metadata": {
    "tags": []
   },
   "outputs": [
    {
     "name": "stdout",
     "output_type": "stream",
     "text": [
      "+---+-------------------+-------------------+----------+-------------------+-----------------+-------------------+-------------------+---------------------+-----------+-----+------+\n",
      "| ID|         Start_Time|           End_Time|  Timezone|  Weather_Timestamp|Weather_Condition|     UTC_Start_Time|       UTC_End_Time|UTC_Weather_Timestamp|Day_of_Week|Month|Season|\n",
      "+---+-------------------+-------------------+----------+-------------------+-----------------+-------------------+-------------------+---------------------+-----------+-----+------+\n",
      "|A-1|2016-02-08 05:46:00|2016-02-08 11:00:00|US/Eastern|2016-02-08 05:58:00|       Light Rain|2016-02-08 10:46:00|2016-02-08 16:00:00|  2016-02-08 10:58:00|          2|    2|Winter|\n",
      "|A-2|2016-02-08 06:07:59|2016-02-08 06:37:59|US/Eastern|2016-02-08 05:51:00|       Light Rain|2016-02-08 11:07:59|2016-02-08 11:37:59|  2016-02-08 10:51:00|          2|    2|Winter|\n",
      "|A-3|2016-02-08 06:49:27|2016-02-08 07:19:27|US/Eastern|2016-02-08 06:56:00|         Overcast|2016-02-08 11:49:27|2016-02-08 12:19:27|  2016-02-08 11:56:00|          2|    2|Winter|\n",
      "|A-4|2016-02-08 07:23:34|2016-02-08 07:53:34|US/Eastern|2016-02-08 07:38:00|    Mostly Cloudy|2016-02-08 12:23:34|2016-02-08 12:53:34|  2016-02-08 12:38:00|          2|    2|Winter|\n",
      "|A-5|2016-02-08 07:39:07|2016-02-08 08:09:07|US/Eastern|2016-02-08 07:53:00|    Mostly Cloudy|2016-02-08 12:39:07|2016-02-08 13:09:07|  2016-02-08 12:53:00|          2|    2|Winter|\n",
      "+---+-------------------+-------------------+----------+-------------------+-----------------+-------------------+-------------------+---------------------+-----------+-----+------+\n",
      "only showing top 5 rows\n",
      "\n"
     ]
    }
   ],
   "source": [
    "#create season column\n",
    "import pyspark.sql.functions as F\n",
    "df = df.withColumn(\n",
    "    'Season',\n",
    "    F.when(F.col(\"Month\").between(3, 5), 'Spring')\\\n",
    "    .when(F.col(\"Month\").between(6, 8), 'Summer')\\\n",
    "    .when(F.col(\"Month\").between(9, 11), 'Fall')\\\n",
    "    .otherwise('Winter'))\n",
    "df.show(5)"
   ]
  },
  {
   "cell_type": "code",
   "execution_count": 19,
   "metadata": {
    "tags": []
   },
   "outputs": [
    {
     "name": "stdout",
     "output_type": "stream",
     "text": [
      "+---+-------------------+-------------------+----------+-------------------+-----------------+-------------------+-------------------+---------------------+-----------+-----+------+-------------------+\n",
      "| ID|         Start_Time|           End_Time|  Timezone|  Weather_Timestamp|Weather_Condition|     UTC_Start_Time|       UTC_End_Time|UTC_Weather_Timestamp|Day_of_Week|Month|Season|utc_start_time_Time|\n",
      "+---+-------------------+-------------------+----------+-------------------+-----------------+-------------------+-------------------+---------------------+-----------+-----+------+-------------------+\n",
      "|A-1|2016-02-08 05:46:00|2016-02-08 11:00:00|US/Eastern|2016-02-08 05:58:00|       Light Rain|2016-02-08 10:46:00|2016-02-08 16:00:00|  2016-02-08 10:58:00|          2|    2|Winter|           10:46:00|\n",
      "|A-2|2016-02-08 06:07:59|2016-02-08 06:37:59|US/Eastern|2016-02-08 05:51:00|       Light Rain|2016-02-08 11:07:59|2016-02-08 11:37:59|  2016-02-08 10:51:00|          2|    2|Winter|           11:07:59|\n",
      "|A-3|2016-02-08 06:49:27|2016-02-08 07:19:27|US/Eastern|2016-02-08 06:56:00|         Overcast|2016-02-08 11:49:27|2016-02-08 12:19:27|  2016-02-08 11:56:00|          2|    2|Winter|           11:49:27|\n",
      "|A-4|2016-02-08 07:23:34|2016-02-08 07:53:34|US/Eastern|2016-02-08 07:38:00|    Mostly Cloudy|2016-02-08 12:23:34|2016-02-08 12:53:34|  2016-02-08 12:38:00|          2|    2|Winter|           12:23:34|\n",
      "|A-5|2016-02-08 07:39:07|2016-02-08 08:09:07|US/Eastern|2016-02-08 07:53:00|    Mostly Cloudy|2016-02-08 12:39:07|2016-02-08 13:09:07|  2016-02-08 12:53:00|          2|    2|Winter|           12:39:07|\n",
      "+---+-------------------+-------------------+----------+-------------------+-----------------+-------------------+-------------------+---------------------+-----------+-----+------+-------------------+\n",
      "only showing top 5 rows\n",
      "\n",
      "+---+-------------------+-------------------+----------+-------------------+-----------------+-------------------+-------------------+---------------------+-----------+-----+------+-------------------+---------+\n",
      "| ID|         Start_Time|           End_Time|  Timezone|  Weather_Timestamp|Weather_Condition|     UTC_Start_Time|       UTC_End_Time|UTC_Weather_Timestamp|Day_of_Week|Month|Season|utc_start_time_Time|Rush Hour|\n",
      "+---+-------------------+-------------------+----------+-------------------+-----------------+-------------------+-------------------+---------------------+-----------+-----+------+-------------------+---------+\n",
      "|A-1|2016-02-08 05:46:00|2016-02-08 11:00:00|US/Eastern|2016-02-08 05:58:00|       Light Rain|2016-02-08 10:46:00|2016-02-08 16:00:00|  2016-02-08 10:58:00|          2|    2|Winter|           10:46:00|        0|\n",
      "|A-2|2016-02-08 06:07:59|2016-02-08 06:37:59|US/Eastern|2016-02-08 05:51:00|       Light Rain|2016-02-08 11:07:59|2016-02-08 11:37:59|  2016-02-08 10:51:00|          2|    2|Winter|           11:07:59|        0|\n",
      "|A-3|2016-02-08 06:49:27|2016-02-08 07:19:27|US/Eastern|2016-02-08 06:56:00|         Overcast|2016-02-08 11:49:27|2016-02-08 12:19:27|  2016-02-08 11:56:00|          2|    2|Winter|           11:49:27|        0|\n",
      "|A-4|2016-02-08 07:23:34|2016-02-08 07:53:34|US/Eastern|2016-02-08 07:38:00|    Mostly Cloudy|2016-02-08 12:23:34|2016-02-08 12:53:34|  2016-02-08 12:38:00|          2|    2|Winter|           12:23:34|        0|\n",
      "|A-5|2016-02-08 07:39:07|2016-02-08 08:09:07|US/Eastern|2016-02-08 07:53:00|    Mostly Cloudy|2016-02-08 12:39:07|2016-02-08 13:09:07|  2016-02-08 12:53:00|          2|    2|Winter|           12:39:07|        0|\n",
      "+---+-------------------+-------------------+----------+-------------------+-----------------+-------------------+-------------------+---------------------+-----------+-----+------+-------------------+---------+\n",
      "only showing top 5 rows\n",
      "\n"
     ]
    }
   ],
   "source": [
    "# Rush Hour - defined as 6-9am and 4-7pm (https://www.goldlaw.com/how-deadly-is-rush-hour/)\n",
    "df = df.withColumn('utc_start_time_Time', date_format('UTC_Start_Time', 'HH:mm:ss'))\n",
    "df.show(5)\n",
    "df = df.withColumn(\n",
    "    'Rush Hour',\n",
    "    F.when(F.col('utc_start_time_Time').between('06:00:00', '09:00:00'), 1)\\\n",
    "    .when(F.col('utc_start_time_Time').between('16:00:00', '19:00:00'), 1)\\\n",
    "    .otherwise(0))\n",
    "df.show(5)"
   ]
  },
  {
   "cell_type": "code",
   "execution_count": 26,
   "metadata": {
    "tags": []
   },
   "outputs": [
    {
     "ename": "SyntaxError",
     "evalue": "invalid syntax (414768382.py, line 2)",
     "output_type": "error",
     "traceback": [
      "\u001b[0;36m  Cell \u001b[0;32mIn[26], line 2\u001b[0;36m\u001b[0m\n\u001b[0;31m    [2016:2023]\u001b[0m\n\u001b[0m         ^\u001b[0m\n\u001b[0;31mSyntaxError\u001b[0m\u001b[0;31m:\u001b[0m invalid syntax\n"
     ]
    }
   ],
   "source": [
    "# Create Holiday column"
   ]
  },
  {
   "cell_type": "code",
   "execution_count": 35,
   "metadata": {
    "tags": []
   },
   "outputs": [
    {
     "name": "stdout",
     "output_type": "stream",
     "text": [
      "[datetime.date(2016, 1, 1), datetime.date(2016, 5, 30), datetime.date(2016, 7, 4), datetime.date(2016, 9, 5), datetime.date(2016, 11, 11), datetime.date(2016, 11, 24), datetime.date(2016, 12, 25), datetime.date(2016, 12, 26), datetime.date(2016, 1, 18), datetime.date(2016, 2, 15), datetime.date(2016, 10, 10), datetime.date(2017, 1, 1), datetime.date(2017, 1, 2), datetime.date(2017, 5, 29), datetime.date(2017, 7, 4), datetime.date(2017, 9, 4), datetime.date(2017, 11, 11), datetime.date(2017, 11, 10), datetime.date(2017, 11, 23), datetime.date(2017, 12, 25), datetime.date(2017, 1, 16), datetime.date(2017, 2, 20), datetime.date(2017, 10, 9), datetime.date(2018, 1, 1), datetime.date(2018, 5, 28), datetime.date(2018, 7, 4), datetime.date(2018, 9, 3), datetime.date(2018, 11, 11), datetime.date(2018, 11, 12), datetime.date(2018, 11, 22), datetime.date(2018, 12, 25), datetime.date(2018, 1, 15), datetime.date(2018, 2, 19), datetime.date(2018, 10, 8), datetime.date(2019, 1, 1), datetime.date(2019, 5, 27), datetime.date(2019, 7, 4), datetime.date(2019, 9, 2), datetime.date(2019, 11, 11), datetime.date(2019, 11, 28), datetime.date(2019, 12, 25), datetime.date(2019, 1, 21), datetime.date(2019, 2, 18), datetime.date(2019, 10, 14), datetime.date(2020, 1, 1), datetime.date(2020, 5, 25), datetime.date(2020, 7, 4), datetime.date(2020, 7, 3), datetime.date(2020, 9, 7), datetime.date(2020, 11, 11), datetime.date(2020, 11, 26), datetime.date(2020, 12, 25), datetime.date(2020, 1, 20), datetime.date(2020, 2, 17), datetime.date(2020, 10, 12), datetime.date(2021, 1, 1), datetime.date(2021, 12, 31), datetime.date(2021, 5, 31), datetime.date(2021, 6, 19), datetime.date(2021, 6, 18), datetime.date(2021, 7, 4), datetime.date(2021, 7, 5), datetime.date(2021, 9, 6), datetime.date(2021, 11, 11), datetime.date(2021, 11, 25), datetime.date(2021, 12, 25), datetime.date(2021, 12, 24), datetime.date(2021, 1, 18), datetime.date(2021, 2, 15), datetime.date(2021, 10, 11), datetime.date(2022, 1, 1), datetime.date(2022, 5, 30), datetime.date(2022, 6, 19), datetime.date(2022, 6, 20), datetime.date(2022, 7, 4), datetime.date(2022, 9, 5), datetime.date(2022, 11, 11), datetime.date(2022, 11, 24), datetime.date(2022, 12, 25), datetime.date(2022, 12, 26), datetime.date(2022, 1, 17), datetime.date(2022, 2, 21), datetime.date(2022, 10, 10), datetime.date(2023, 1, 1), datetime.date(2023, 1, 2), datetime.date(2023, 5, 29), datetime.date(2023, 6, 19), datetime.date(2023, 7, 4), datetime.date(2023, 9, 4), datetime.date(2023, 11, 11), datetime.date(2023, 11, 10), datetime.date(2023, 11, 23), datetime.date(2023, 12, 25), datetime.date(2023, 1, 16), datetime.date(2023, 2, 20), datetime.date(2023, 10, 9)]\n"
     ]
    }
   ],
   "source": [
    "#!pip3 install holidays\n",
    "import holidays\n",
    "from datetime import datetime, timezone\n",
    "h = []\n",
    "for ptr in holidays.UnitedStates(years = [2016,2017,2018,2019,2020,2021,2022,2023]).items(): \n",
    "    h.append(ptr[0])\n",
    "print(h)"
   ]
  },
  {
   "cell_type": "code",
   "execution_count": null,
   "metadata": {},
   "outputs": [],
   "source": [
    "timestamp_utc = dt.replace(tzinfo=timezone.utc).timestamp()"
   ]
  },
  {
   "cell_type": "code",
   "execution_count": 14,
   "metadata": {
    "tags": []
   },
   "outputs": [
    {
     "name": "stderr",
     "output_type": "stream",
     "text": [
      "[Stage 31:===================================================>    (21 + 2) / 23]\r"
     ]
    },
    {
     "name": "stdout",
     "output_type": "stream",
     "text": [
      "+--------------------+-------+\n",
      "|   Weather_Condition|  count|\n",
      "+--------------------+-------+\n",
      "|                Fair|2560802|\n",
      "|       Mostly Cloudy|1016195|\n",
      "|              Cloudy| 817082|\n",
      "|               Clear| 808743|\n",
      "|       Partly Cloudy| 698972|\n",
      "|            Overcast| 382866|\n",
      "|          Light Rain| 352957|\n",
      "|    Scattered Clouds| 204829|\n",
      "|                null| 173459|\n",
      "|          Light Snow| 128680|\n",
      "|                 Fog|  99238|\n",
      "|                Rain|  84331|\n",
      "|                Haze|  76223|\n",
      "|        Fair / Windy|  35671|\n",
      "|          Heavy Rain|  32309|\n",
      "|       Light Drizzle|  22684|\n",
      "|Thunder in the Vi...|  17611|\n",
      "|      Cloudy / Windy|  17035|\n",
      "|             T-Storm|  16810|\n",
      "|Mostly Cloudy / W...|  16508|\n",
      "+--------------------+-------+\n",
      "only showing top 20 rows\n",
      "\n"
     ]
    },
    {
     "name": "stderr",
     "output_type": "stream",
     "text": [
      "                                                                                \r"
     ]
    }
   ],
   "source": [
    "df.groupBy('Weather_Condition').count().orderBy(desc(\"count\")).show()"
   ]
  },
  {
   "cell_type": "code",
   "execution_count": 36,
   "metadata": {},
   "outputs": [
    {
     "name": "stderr",
     "output_type": "stream",
     "text": [
      "[Stage 21:===================================================>    (21 + 2) / 23]\r"
     ]
    },
    {
     "name": "stdout",
     "output_type": "stream",
     "text": [
      "+---+------+--------+----------+--------+---------+---------+-------+-------+------------+-----------+------+----+------+-----+-------+-------+--------+------------+-----------------+--------------+-------------+-----------+------------+--------------+--------------+---------------+-----------------+-----------------+-------+----+--------+--------+--------+-------+-------+----------+-------+----+---------------+--------------+------------+--------------+--------------+-----------------+---------------------+\n",
      "| ID|Source|Severity|Start_Time|End_Time|Start_Lat|Start_Lng|End_Lat|End_Lng|Distance(mi)|Description|Street|City|County|State|Zipcode|Country|Timezone|Airport_Code|Weather_Timestamp|Temperature(F)|Wind_Chill(F)|Humidity(%)|Pressure(in)|Visibility(mi)|Wind_Direction|Wind_Speed(mph)|Precipitation(in)|Weather_Condition|Amenity|Bump|Crossing|Give_way|Junction|No_Exit|Railway|Roundabout|Station|Stop|Traffic_Calming|Traffic_Signal|Turning_Loop|Sunrise_Sunset|Civil_Twilight|Nautical_Twilight|Astronomical_Twilight|\n",
      "+---+------+--------+----------+--------+---------+---------+-------+-------+------------+-----------+------+----+------+-----+-------+-------+--------+------------+-----------------+--------------+-------------+-----------+------------+--------------+--------------+---------------+-----------------+-----------------+-------+----+--------+--------+--------+-------+-------+----------+-------+----+---------------+--------------+------------+--------------+--------------+-----------------+---------------------+\n",
      "|  0|     0|       0|         0|       0|        0|        0|3402762|3402762|           0|          5| 10869| 253|     0|    0|   1915|      0|    7808|       22635|           120228|        163853|      1999019|     174144|      140679|        177098|        175206|         571233|          2203586|           173459|      0|   0|       0|       0|       0|      0|      0|         0|      0|   0|              0|             0|           0|         23246|         23246|            23246|                23246|\n",
      "+---+------+--------+----------+--------+---------+---------+-------+-------+------------+-----------+------+----+------+-----+-------+-------+--------+------------+-----------------+--------------+-------------+-----------+------------+--------------+--------------+---------------+-----------------+-----------------+-------+----+--------+--------+--------+-------+-------+----------+-------+----+---------------+--------------+------------+--------------+--------------+-----------------+---------------------+\n",
      "\n"
     ]
    },
    {
     "name": "stderr",
     "output_type": "stream",
     "text": [
      "                                                                                \r"
     ]
    }
   ],
   "source": [
    "#Null counts (excluding time columns)\n",
    "df.agg(*[\n",
    "    (7728394-count(c)).alias(c)    # vertical (column-wise) operations in SQL ignore NULLs\n",
    "    for c in df.columns \n",
    "]).show()"
   ]
  }
 ],
 "metadata": {
  "kernelspec": {
   "display_name": "Python 3 (ipykernel)",
   "language": "python",
   "name": "python3"
  },
  "language_info": {
   "codemirror_mode": {
    "name": "ipython",
    "version": 3
   },
   "file_extension": ".py",
   "mimetype": "text/x-python",
   "name": "python",
   "nbconvert_exporter": "python",
   "pygments_lexer": "ipython3",
   "version": "3.11.5"
  }
 },
 "nbformat": 4,
 "nbformat_minor": 4
}
