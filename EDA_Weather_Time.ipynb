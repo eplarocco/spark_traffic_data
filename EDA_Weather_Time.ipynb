{
 "cells": [
  {
   "cell_type": "code",
   "execution_count": 1,
   "metadata": {
    "tags": []
   },
   "outputs": [
    {
     "data": {
      "text/html": [
       "<style>pre { white-space: pre !important; }</style>"
      ],
      "text/plain": [
       "<IPython.core.display.HTML object>"
      ]
     },
     "metadata": {},
     "output_type": "display_data"
    }
   ],
   "source": [
    "from IPython.core.display import HTML\n",
    "display(HTML(\"<style>pre { white-space: pre !important; }</style>\"))"
   ]
  },
  {
   "cell_type": "code",
   "execution_count": 2,
   "metadata": {
    "tags": []
   },
   "outputs": [],
   "source": [
    "import pandas as pd\n",
    "import numpy as np\n",
    "import os\n",
    "import pyspark\n",
    "from pyspark.sql import SparkSession\n",
    "from pyspark.sql.types import *\n",
    "from pyspark.sql.functions import *"
   ]
  },
  {
   "cell_type": "code",
   "execution_count": 3,
   "metadata": {
    "tags": []
   },
   "outputs": [
    {
     "name": "stderr",
     "output_type": "stream",
     "text": [
      "Setting default log level to \"WARN\".\n",
      "To adjust logging level use sc.setLogLevel(newLevel). For SparkR, use setLogLevel(newLevel).\n",
      "24/10/03 00:07:42 WARN NativeCodeLoader: Unable to load native-hadoop library for your platform... using builtin-java classes where applicable\n"
     ]
    }
   ],
   "source": [
    "spark = (SparkSession\n",
    "  .builder\n",
    "  .appName(\"US_Accidents\")\n",
    "  .getOrCreate())"
   ]
  },
  {
   "cell_type": "code",
   "execution_count": 4,
   "metadata": {
    "tags": []
   },
   "outputs": [],
   "source": [
    "schema = StructType([StructField('ID', StringType(), False),\n",
    "                StructField('Source', StringType(), False),\n",
    "                StructField('Severity', IntegerType(), False),\n",
    "                StructField('Start_Time', TimestampType(), False),                  \n",
    "                StructField('End_Time', TimestampType(), False),      \n",
    "                StructField('Start_Lat', DecimalType(), False),\n",
    "                StructField('Start_Lng', DecimalType(), False),\n",
    "                StructField('End_Lat', DecimalType(), True),\n",
    "                StructField('End_Lng', DecimalType(), True),       \n",
    "                StructField('Distance(mi)', DecimalType(), False),       \n",
    "                StructField('Description', StringType(), False),       \n",
    "                StructField('Street', StringType(), True),                 \n",
    "                StructField('City', StringType(), True),       \n",
    "                StructField('County', StringType(), True),       \n",
    "                StructField('State', StringType(), True),       \n",
    "                StructField('Zipcode', StringType(), True),       \n",
    "                StructField('Country', StringType(), True),       \n",
    "                StructField('Timezone', StringType(), True),       \n",
    "                StructField('Airport_Code', StringType(), True),\n",
    "                StructField('Weather_Timestamp', TimestampType(), True),\n",
    "                StructField('Temperature(F)', DecimalType(), True),\n",
    "                StructField('Wind_Chill(F)', DecimalType(), True),\n",
    "                StructField('Humidity(%)', DecimalType(), True),\n",
    "                StructField('Pressure(in)', DecimalType(), True),\n",
    "                StructField('Visibility(mi)', DecimalType(), True),\n",
    "                StructField('Wind_Direction', StringType(), True),\n",
    "                StructField('Wind_Speed(mph)', DecimalType(), True),\n",
    "                StructField('Precipitation(in)', DecimalType(), True),\n",
    "                StructField('Weather_Condition', StringType(), True),\n",
    "                StructField('Amenity', BooleanType(), False),\n",
    "                StructField('Bump', BooleanType(), False),\n",
    "                StructField('Crossing', BooleanType(), False),\n",
    "                StructField('Give_way', BooleanType(), False),\n",
    "                StructField('Junction', BooleanType(), False),\n",
    "                StructField('No_Exit', BooleanType(), False),\n",
    "                StructField('Railway', BooleanType(), False), \n",
    "                StructField('Roundabout', BooleanType(), False),\n",
    "                StructField('Station', BooleanType(), False),\n",
    "                StructField('Stop', BooleanType(), False),\n",
    "                StructField('Traffic_Calming', BooleanType(), False),\n",
    "                StructField('Traffic_Signal', BooleanType(), False),\n",
    "                StructField('Turning_Loop', BooleanType(), False),\n",
    "                StructField('Sunrise_Sunset', StringType(), True),\n",
    "                StructField('Civil_Twilight', StringType(), True),\n",
    "                StructField('Nautical_Twilight', StringType(), True),\n",
    "                StructField('Astronomical_Twilight', StringType(), True)])\n",
    "\n",
    "# Use the DataFrameReader interface to read a CSV file\n",
    "file = \"US_Accidents_March23.csv\"\n",
    "df = spark.read.csv(file, header=True, schema=schema)"
   ]
  },
  {
   "cell_type": "code",
   "execution_count": 5,
   "metadata": {},
   "outputs": [
    {
     "name": "stdout",
     "output_type": "stream",
     "text": [
      "+---+-------------------+-------------------+----------+-------------------+-----------------+\n",
      "| ID|         Start_Time|           End_Time|  Timezone|  Weather_Timestamp|Weather_Condition|\n",
      "+---+-------------------+-------------------+----------+-------------------+-----------------+\n",
      "|A-1|2016-02-08 05:46:00|2016-02-08 11:00:00|US/Eastern|2016-02-08 05:58:00|       Light Rain|\n",
      "|A-2|2016-02-08 06:07:59|2016-02-08 06:37:59|US/Eastern|2016-02-08 05:51:00|       Light Rain|\n",
      "|A-3|2016-02-08 06:49:27|2016-02-08 07:19:27|US/Eastern|2016-02-08 06:56:00|         Overcast|\n",
      "|A-4|2016-02-08 07:23:34|2016-02-08 07:53:34|US/Eastern|2016-02-08 07:38:00|    Mostly Cloudy|\n",
      "|A-5|2016-02-08 07:39:07|2016-02-08 08:09:07|US/Eastern|2016-02-08 07:53:00|    Mostly Cloudy|\n",
      "+---+-------------------+-------------------+----------+-------------------+-----------------+\n",
      "only showing top 5 rows\n",
      "\n"
     ]
    }
   ],
   "source": [
    "df = df.select('ID', 'Start_Time', 'End_Time', 'Timezone', 'Weather_Timestamp', 'Weather_Condition')\n",
    "df.show(5)"
   ]
  },
  {
   "cell_type": "code",
   "execution_count": 6,
   "metadata": {
    "tags": []
   },
   "outputs": [
    {
     "name": "stderr",
     "output_type": "stream",
     "text": [
      "[Stage 1:==========================================>              (17 + 6) / 23]\r"
     ]
    },
    {
     "name": "stdout",
     "output_type": "stream",
     "text": [
      "DataFrame Rows count : 7728394\n",
      "DataFrame Columns count : 6\n"
     ]
    },
    {
     "name": "stderr",
     "output_type": "stream",
     "text": [
      "                                                                                \r"
     ]
    }
   ],
   "source": [
    "# Get row count\n",
    "rows = df.count()\n",
    "print(f\"DataFrame Rows count : {rows}\")\n",
    "\n",
    "# Get columns count\n",
    "cols = len(df.columns)\n",
    "print(f\"DataFrame Columns count : {cols}\")"
   ]
  },
  {
   "cell_type": "code",
   "execution_count": 7,
   "metadata": {
    "tags": []
   },
   "outputs": [
    {
     "name": "stderr",
     "output_type": "stream",
     "text": [
      "                                                                                \r"
     ]
    },
    {
     "name": "stdout",
     "output_type": "stream",
     "text": [
      "+-----------+-------+\n",
      "|   Timezone|  count|\n",
      "+-----------+-------+\n",
      "| US/Eastern|3580167|\n",
      "| US/Pacific|2062984|\n",
      "| US/Central|1645616|\n",
      "|US/Mountain| 431819|\n",
      "|       null|   7808|\n",
      "+-----------+-------+\n",
      "\n"
     ]
    }
   ],
   "source": [
    "df.groupBy('Timezone').count().orderBy(desc(\"count\")).show()"
   ]
  },
  {
   "cell_type": "code",
   "execution_count": 8,
   "metadata": {
    "tags": []
   },
   "outputs": [
    {
     "name": "stderr",
     "output_type": "stream",
     "text": [
      "[Stage 7:=======================================>                 (16 + 7) / 23]\r"
     ]
    },
    {
     "name": "stdout",
     "output_type": "stream",
     "text": [
      "+-----------+-------+\n",
      "|   Timezone|  count|\n",
      "+-----------+-------+\n",
      "| US/Eastern|3580167|\n",
      "| US/Pacific|2062984|\n",
      "| US/Central|1645616|\n",
      "|US/Mountain| 431819|\n",
      "+-----------+-------+\n",
      "\n"
     ]
    },
    {
     "name": "stderr",
     "output_type": "stream",
     "text": [
      "                                                                                \r"
     ]
    }
   ],
   "source": [
    "#have to remove the ~8000 rows with null timezone if using date/time in any way\n",
    "df = df.dropna(subset=[\"Timezone\"])\n",
    "df.groupBy('Timezone').count().orderBy(desc(\"count\")).show()"
   ]
  },
  {
   "cell_type": "code",
   "execution_count": 10,
   "metadata": {},
   "outputs": [
    {
     "name": "stderr",
     "output_type": "stream",
     "text": [
      "[Stage 31:======================================>                 (16 + 7) / 23]\r"
     ]
    },
    {
     "name": "stdout",
     "output_type": "stream",
     "text": [
      "+---+----------+--------+--------+-----------------+-----------------+\n",
      "| ID|Start_Time|End_Time|Timezone|Weather_Timestamp|Weather_Condition|\n",
      "+---+----------+--------+--------+-----------------+-----------------+\n",
      "|  0|         0|       0|       0|           112420|           165651|\n",
      "+---+----------+--------+--------+-----------------+-----------------+\n",
      "\n"
     ]
    },
    {
     "name": "stderr",
     "output_type": "stream",
     "text": [
      "                                                                                \r"
     ]
    }
   ],
   "source": [
    "#Null counts (excluding time columns)\n",
    "df.agg(*[\n",
    "    (df.count()-count(c)).alias(c)    # vertical (column-wise) operations in SQL ignore NULLs\n",
    "    for c in df.columns \n",
    "]).show()"
   ]
  },
  {
   "cell_type": "code",
   "execution_count": 11,
   "metadata": {
    "tags": []
   },
   "outputs": [
    {
     "name": "stdout",
     "output_type": "stream",
     "text": [
      "+---+-------------------+-------------------+----------+-------------------+-----------------+-------------------+-------------------+---------------------+\n",
      "| ID|         Start_Time|           End_Time|  Timezone|  Weather_Timestamp|Weather_Condition|     UTC_Start_Time|       UTC_End_Time|UTC_Weather_Timestamp|\n",
      "+---+-------------------+-------------------+----------+-------------------+-----------------+-------------------+-------------------+---------------------+\n",
      "|A-1|2016-02-08 05:46:00|2016-02-08 11:00:00|US/Eastern|2016-02-08 05:58:00|       Light Rain|2016-02-08 10:46:00|2016-02-08 16:00:00|  2016-02-08 10:58:00|\n",
      "|A-2|2016-02-08 06:07:59|2016-02-08 06:37:59|US/Eastern|2016-02-08 05:51:00|       Light Rain|2016-02-08 11:07:59|2016-02-08 11:37:59|  2016-02-08 10:51:00|\n",
      "|A-3|2016-02-08 06:49:27|2016-02-08 07:19:27|US/Eastern|2016-02-08 06:56:00|         Overcast|2016-02-08 11:49:27|2016-02-08 12:19:27|  2016-02-08 11:56:00|\n",
      "|A-4|2016-02-08 07:23:34|2016-02-08 07:53:34|US/Eastern|2016-02-08 07:38:00|    Mostly Cloudy|2016-02-08 12:23:34|2016-02-08 12:53:34|  2016-02-08 12:38:00|\n",
      "|A-5|2016-02-08 07:39:07|2016-02-08 08:09:07|US/Eastern|2016-02-08 07:53:00|    Mostly Cloudy|2016-02-08 12:39:07|2016-02-08 13:09:07|  2016-02-08 12:53:00|\n",
      "+---+-------------------+-------------------+----------+-------------------+-----------------+-------------------+-------------------+---------------------+\n",
      "only showing top 5 rows\n",
      "\n"
     ]
    }
   ],
   "source": [
    "# Convert times to utc in new columns UTC_*\n",
    "df=df.withColumn(\"Start_Time\",col(\"Start_Time\").cast(\"Timestamp\"))\\\n",
    ".withColumn(\"UTC_Start_Time\",to_utc_timestamp(col(\"Start_Time\"), col(\"Timezone\")))\\\n",
    ".withColumn(\"End_Time\",col(\"End_Time\").cast(\"Timestamp\"))\\\n",
    ".withColumn(\"UTC_End_Time\",to_utc_timestamp(col(\"End_Time\"), col(\"Timezone\")))\\\n",
    ".withColumn(\"Weather_Timestamp\",col(\"Weather_Timestamp\").cast(\"Timestamp\"))\\\n",
    ".withColumn(\"UTC_Weather_Timestamp\",to_utc_timestamp(col(\"Weather_Timestamp\"), col(\"Timezone\")))\n",
    "df.show(5)"
   ]
  },
  {
   "cell_type": "code",
   "execution_count": 12,
   "metadata": {
    "tags": []
   },
   "outputs": [
    {
     "name": "stdout",
     "output_type": "stream",
     "text": [
      "+---+-------------------+-------------------+----------+-------------------+-----------------+-------------------+-------------------+---------------------+-----------+\n",
      "| ID|         Start_Time|           End_Time|  Timezone|  Weather_Timestamp|Weather_Condition|     UTC_Start_Time|       UTC_End_Time|UTC_Weather_Timestamp|Day_of_Week|\n",
      "+---+-------------------+-------------------+----------+-------------------+-----------------+-------------------+-------------------+---------------------+-----------+\n",
      "|A-1|2016-02-08 05:46:00|2016-02-08 11:00:00|US/Eastern|2016-02-08 05:58:00|       Light Rain|2016-02-08 10:46:00|2016-02-08 16:00:00|  2016-02-08 10:58:00|          2|\n",
      "|A-2|2016-02-08 06:07:59|2016-02-08 06:37:59|US/Eastern|2016-02-08 05:51:00|       Light Rain|2016-02-08 11:07:59|2016-02-08 11:37:59|  2016-02-08 10:51:00|          2|\n",
      "|A-3|2016-02-08 06:49:27|2016-02-08 07:19:27|US/Eastern|2016-02-08 06:56:00|         Overcast|2016-02-08 11:49:27|2016-02-08 12:19:27|  2016-02-08 11:56:00|          2|\n",
      "|A-4|2016-02-08 07:23:34|2016-02-08 07:53:34|US/Eastern|2016-02-08 07:38:00|    Mostly Cloudy|2016-02-08 12:23:34|2016-02-08 12:53:34|  2016-02-08 12:38:00|          2|\n",
      "|A-5|2016-02-08 07:39:07|2016-02-08 08:09:07|US/Eastern|2016-02-08 07:53:00|    Mostly Cloudy|2016-02-08 12:39:07|2016-02-08 13:09:07|  2016-02-08 12:53:00|          2|\n",
      "+---+-------------------+-------------------+----------+-------------------+-----------------+-------------------+-------------------+---------------------+-----------+\n",
      "only showing top 5 rows\n",
      "\n"
     ]
    }
   ],
   "source": [
    "# Create Day of the Week Column\n",
    "df = df.withColumn('Day_of_Week', dayofweek(col('Start_Time'))) #Ranges from 1 for a Sunday through to 7 for a Saturday\n",
    "df.show(5)"
   ]
  },
  {
   "cell_type": "code",
   "execution_count": 13,
   "metadata": {
    "tags": []
   },
   "outputs": [
    {
     "name": "stdout",
     "output_type": "stream",
     "text": [
      "+---+-------------------+-------------------+----------+-------------------+-----------------+-------------------+-------------------+---------------------+-----------+-----+\n",
      "| ID|         Start_Time|           End_Time|  Timezone|  Weather_Timestamp|Weather_Condition|     UTC_Start_Time|       UTC_End_Time|UTC_Weather_Timestamp|Day_of_Week|Month|\n",
      "+---+-------------------+-------------------+----------+-------------------+-----------------+-------------------+-------------------+---------------------+-----------+-----+\n",
      "|A-1|2016-02-08 05:46:00|2016-02-08 11:00:00|US/Eastern|2016-02-08 05:58:00|       Light Rain|2016-02-08 10:46:00|2016-02-08 16:00:00|  2016-02-08 10:58:00|          2|    2|\n",
      "|A-2|2016-02-08 06:07:59|2016-02-08 06:37:59|US/Eastern|2016-02-08 05:51:00|       Light Rain|2016-02-08 11:07:59|2016-02-08 11:37:59|  2016-02-08 10:51:00|          2|    2|\n",
      "|A-3|2016-02-08 06:49:27|2016-02-08 07:19:27|US/Eastern|2016-02-08 06:56:00|         Overcast|2016-02-08 11:49:27|2016-02-08 12:19:27|  2016-02-08 11:56:00|          2|    2|\n",
      "|A-4|2016-02-08 07:23:34|2016-02-08 07:53:34|US/Eastern|2016-02-08 07:38:00|    Mostly Cloudy|2016-02-08 12:23:34|2016-02-08 12:53:34|  2016-02-08 12:38:00|          2|    2|\n",
      "|A-5|2016-02-08 07:39:07|2016-02-08 08:09:07|US/Eastern|2016-02-08 07:53:00|    Mostly Cloudy|2016-02-08 12:39:07|2016-02-08 13:09:07|  2016-02-08 12:53:00|          2|    2|\n",
      "+---+-------------------+-------------------+----------+-------------------+-----------------+-------------------+-------------------+---------------------+-----------+-----+\n",
      "only showing top 5 rows\n",
      "\n"
     ]
    }
   ],
   "source": [
    "# Create Month Column\n",
    "df = df.withColumn('Month', month(df['Start_Time']))\n",
    "df.show(5)"
   ]
  },
  {
   "cell_type": "code",
   "execution_count": 14,
   "metadata": {
    "tags": []
   },
   "outputs": [
    {
     "name": "stdout",
     "output_type": "stream",
     "text": [
      "+---+-------------------+-------------------+----------+-------------------+-----------------+-------------------+-------------------+---------------------+-----------+-----+------+\n",
      "| ID|         Start_Time|           End_Time|  Timezone|  Weather_Timestamp|Weather_Condition|     UTC_Start_Time|       UTC_End_Time|UTC_Weather_Timestamp|Day_of_Week|Month|Season|\n",
      "+---+-------------------+-------------------+----------+-------------------+-----------------+-------------------+-------------------+---------------------+-----------+-----+------+\n",
      "|A-1|2016-02-08 05:46:00|2016-02-08 11:00:00|US/Eastern|2016-02-08 05:58:00|       Light Rain|2016-02-08 10:46:00|2016-02-08 16:00:00|  2016-02-08 10:58:00|          2|    2|Winter|\n",
      "|A-2|2016-02-08 06:07:59|2016-02-08 06:37:59|US/Eastern|2016-02-08 05:51:00|       Light Rain|2016-02-08 11:07:59|2016-02-08 11:37:59|  2016-02-08 10:51:00|          2|    2|Winter|\n",
      "|A-3|2016-02-08 06:49:27|2016-02-08 07:19:27|US/Eastern|2016-02-08 06:56:00|         Overcast|2016-02-08 11:49:27|2016-02-08 12:19:27|  2016-02-08 11:56:00|          2|    2|Winter|\n",
      "|A-4|2016-02-08 07:23:34|2016-02-08 07:53:34|US/Eastern|2016-02-08 07:38:00|    Mostly Cloudy|2016-02-08 12:23:34|2016-02-08 12:53:34|  2016-02-08 12:38:00|          2|    2|Winter|\n",
      "|A-5|2016-02-08 07:39:07|2016-02-08 08:09:07|US/Eastern|2016-02-08 07:53:00|    Mostly Cloudy|2016-02-08 12:39:07|2016-02-08 13:09:07|  2016-02-08 12:53:00|          2|    2|Winter|\n",
      "+---+-------------------+-------------------+----------+-------------------+-----------------+-------------------+-------------------+---------------------+-----------+-----+------+\n",
      "only showing top 5 rows\n",
      "\n"
     ]
    }
   ],
   "source": [
    "# Create Season Column\n",
    "import pyspark.sql.functions as F\n",
    "df = df.withColumn(\n",
    "    'Season',\n",
    "    F.when(F.col(\"Month\").between(3, 5), 'Spring')\\\n",
    "    .when(F.col(\"Month\").between(6, 8), 'Summer')\\\n",
    "    .when(F.col(\"Month\").between(9, 11), 'Fall')\\\n",
    "    .otherwise('Winter'))\n",
    "df.show(5)"
   ]
  },
  {
   "cell_type": "code",
   "execution_count": 15,
   "metadata": {
    "tags": []
   },
   "outputs": [
    {
     "name": "stdout",
     "output_type": "stream",
     "text": [
      "+---+-------------------+-------------------+----------+-------------------+-----------------+-------------------+-------------------+---------------------+-----------+-----+------+-------------------+\n",
      "| ID|         Start_Time|           End_Time|  Timezone|  Weather_Timestamp|Weather_Condition|     UTC_Start_Time|       UTC_End_Time|UTC_Weather_Timestamp|Day_of_Week|Month|Season|utc_start_time_Time|\n",
      "+---+-------------------+-------------------+----------+-------------------+-----------------+-------------------+-------------------+---------------------+-----------+-----+------+-------------------+\n",
      "|A-1|2016-02-08 05:46:00|2016-02-08 11:00:00|US/Eastern|2016-02-08 05:58:00|       Light Rain|2016-02-08 10:46:00|2016-02-08 16:00:00|  2016-02-08 10:58:00|          2|    2|Winter|           10:46:00|\n",
      "|A-2|2016-02-08 06:07:59|2016-02-08 06:37:59|US/Eastern|2016-02-08 05:51:00|       Light Rain|2016-02-08 11:07:59|2016-02-08 11:37:59|  2016-02-08 10:51:00|          2|    2|Winter|           11:07:59|\n",
      "|A-3|2016-02-08 06:49:27|2016-02-08 07:19:27|US/Eastern|2016-02-08 06:56:00|         Overcast|2016-02-08 11:49:27|2016-02-08 12:19:27|  2016-02-08 11:56:00|          2|    2|Winter|           11:49:27|\n",
      "|A-4|2016-02-08 07:23:34|2016-02-08 07:53:34|US/Eastern|2016-02-08 07:38:00|    Mostly Cloudy|2016-02-08 12:23:34|2016-02-08 12:53:34|  2016-02-08 12:38:00|          2|    2|Winter|           12:23:34|\n",
      "|A-5|2016-02-08 07:39:07|2016-02-08 08:09:07|US/Eastern|2016-02-08 07:53:00|    Mostly Cloudy|2016-02-08 12:39:07|2016-02-08 13:09:07|  2016-02-08 12:53:00|          2|    2|Winter|           12:39:07|\n",
      "+---+-------------------+-------------------+----------+-------------------+-----------------+-------------------+-------------------+---------------------+-----------+-----+------+-------------------+\n",
      "only showing top 5 rows\n",
      "\n",
      "+---+-------------------+-------------------+----------+-------------------+-----------------+-------------------+-------------------+---------------------+-----------+-----+------+-------------------+---------+\n",
      "| ID|         Start_Time|           End_Time|  Timezone|  Weather_Timestamp|Weather_Condition|     UTC_Start_Time|       UTC_End_Time|UTC_Weather_Timestamp|Day_of_Week|Month|Season|utc_start_time_Time|Rush Hour|\n",
      "+---+-------------------+-------------------+----------+-------------------+-----------------+-------------------+-------------------+---------------------+-----------+-----+------+-------------------+---------+\n",
      "|A-1|2016-02-08 05:46:00|2016-02-08 11:00:00|US/Eastern|2016-02-08 05:58:00|       Light Rain|2016-02-08 10:46:00|2016-02-08 16:00:00|  2016-02-08 10:58:00|          2|    2|Winter|           10:46:00|        0|\n",
      "|A-2|2016-02-08 06:07:59|2016-02-08 06:37:59|US/Eastern|2016-02-08 05:51:00|       Light Rain|2016-02-08 11:07:59|2016-02-08 11:37:59|  2016-02-08 10:51:00|          2|    2|Winter|           11:07:59|        0|\n",
      "|A-3|2016-02-08 06:49:27|2016-02-08 07:19:27|US/Eastern|2016-02-08 06:56:00|         Overcast|2016-02-08 11:49:27|2016-02-08 12:19:27|  2016-02-08 11:56:00|          2|    2|Winter|           11:49:27|        0|\n",
      "|A-4|2016-02-08 07:23:34|2016-02-08 07:53:34|US/Eastern|2016-02-08 07:38:00|    Mostly Cloudy|2016-02-08 12:23:34|2016-02-08 12:53:34|  2016-02-08 12:38:00|          2|    2|Winter|           12:23:34|        0|\n",
      "|A-5|2016-02-08 07:39:07|2016-02-08 08:09:07|US/Eastern|2016-02-08 07:53:00|    Mostly Cloudy|2016-02-08 12:39:07|2016-02-08 13:09:07|  2016-02-08 12:53:00|          2|    2|Winter|           12:39:07|        0|\n",
      "+---+-------------------+-------------------+----------+-------------------+-----------------+-------------------+-------------------+---------------------+-----------+-----+------+-------------------+---------+\n",
      "only showing top 5 rows\n",
      "\n"
     ]
    }
   ],
   "source": [
    "# Create Rush Hour Column\n",
    "# defined as 6-9am and 4-7pm (https://www.goldlaw.com/how-deadly-is-rush-hour/)\n",
    "df = df.withColumn('utc_start_time_Time', date_format('UTC_Start_Time', 'HH:mm:ss'))\n",
    "df.show(5)\n",
    "df = df.withColumn(\n",
    "    'Rush Hour',\n",
    "    F.when(F.col('utc_start_time_Time').between('06:00:00', '09:00:00'), 1)\\\n",
    "    .when(F.col('utc_start_time_Time').between('16:00:00', '19:00:00'), 1)\\\n",
    "    .otherwise(0))\n",
    "df.show(5)"
   ]
  },
  {
   "cell_type": "code",
   "execution_count": 16,
   "metadata": {
    "tags": []
   },
   "outputs": [
    {
     "name": "stdout",
     "output_type": "stream",
     "text": [
      "+---+-------------------+-------------------+----------+-------------------+-----------------+-------------------+-------------------+---------------------+-----------+-----+------+-------------------+---------+-------------------+-------+\n",
      "| ID|         Start_Time|           End_Time|  Timezone|  Weather_Timestamp|Weather_Condition|     UTC_Start_Time|       UTC_End_Time|UTC_Weather_Timestamp|Day_of_Week|Month|Season|utc_start_time_Time|Rush Hour|utc_start_time_Date|Holiday|\n",
      "+---+-------------------+-------------------+----------+-------------------+-----------------+-------------------+-------------------+---------------------+-----------+-----+------+-------------------+---------+-------------------+-------+\n",
      "|A-1|2016-02-08 05:46:00|2016-02-08 11:00:00|US/Eastern|2016-02-08 05:58:00|       Light Rain|2016-02-08 10:46:00|2016-02-08 16:00:00|  2016-02-08 10:58:00|          2|    2|Winter|           10:46:00|        0|         2016-02-08|      0|\n",
      "|A-2|2016-02-08 06:07:59|2016-02-08 06:37:59|US/Eastern|2016-02-08 05:51:00|       Light Rain|2016-02-08 11:07:59|2016-02-08 11:37:59|  2016-02-08 10:51:00|          2|    2|Winter|           11:07:59|        0|         2016-02-08|      0|\n",
      "|A-3|2016-02-08 06:49:27|2016-02-08 07:19:27|US/Eastern|2016-02-08 06:56:00|         Overcast|2016-02-08 11:49:27|2016-02-08 12:19:27|  2016-02-08 11:56:00|          2|    2|Winter|           11:49:27|        0|         2016-02-08|      0|\n",
      "|A-4|2016-02-08 07:23:34|2016-02-08 07:53:34|US/Eastern|2016-02-08 07:38:00|    Mostly Cloudy|2016-02-08 12:23:34|2016-02-08 12:53:34|  2016-02-08 12:38:00|          2|    2|Winter|           12:23:34|        0|         2016-02-08|      0|\n",
      "|A-5|2016-02-08 07:39:07|2016-02-08 08:09:07|US/Eastern|2016-02-08 07:53:00|    Mostly Cloudy|2016-02-08 12:39:07|2016-02-08 13:09:07|  2016-02-08 12:53:00|          2|    2|Winter|           12:39:07|        0|         2016-02-08|      0|\n",
      "+---+-------------------+-------------------+----------+-------------------+-----------------+-------------------+-------------------+---------------------+-----------+-----+------+-------------------+---------+-------------------+-------+\n",
      "only showing top 5 rows\n",
      "\n"
     ]
    }
   ],
   "source": [
    "# Create Date Column from UTC Start Date\n",
    "df = df.withColumn('utc_start_time_Date', date_format('UTC_Start_Time', 'yyyy-MM-dd'))\n",
    "\n",
    "#Create list of holiday dates for span of data (2016-2023)\n",
    "#!pip3 install holidays\n",
    "import holidays\n",
    "from datetime import datetime, timezone\n",
    "h = []\n",
    "for ptr in holidays.UnitedStates(years = [2016,2017,2018,2019,2020,2021,2022,2023]).items(): \n",
    "    h.append(ptr[0].strftime(\"%Y-%m-%d\"))\n",
    "\n",
    "# Create Holiday column    \n",
    "df = df.withColumn(\n",
    "    'Holiday',\n",
    "    F.when(array_contains(lit(h), F.col(\"utc_start_time_Date\")), 1)\\\n",
    "    .otherwise(0))\n",
    "df.show(5) "
   ]
  },
  {
   "cell_type": "code",
   "execution_count": null,
   "metadata": {},
   "outputs": [],
   "source": [
    "# Weather Condition"
   ]
  },
  {
   "cell_type": "code",
   "execution_count": 18,
   "metadata": {},
   "outputs": [
    {
     "name": "stderr",
     "output_type": "stream",
     "text": [
      "                                                                                \r"
     ]
    },
    {
     "data": {
      "text/plain": [
       "145"
      ]
     },
     "execution_count": 18,
     "metadata": {},
     "output_type": "execute_result"
    }
   ],
   "source": [
    "df.select('Weather_Condition').distinct().count()"
   ]
  },
  {
   "cell_type": "code",
   "execution_count": 20,
   "metadata": {},
   "outputs": [
    {
     "name": "stderr",
     "output_type": "stream",
     "text": [
      "[Stage 53:=====================================================>  (22 + 1) / 23]\r"
     ]
    },
    {
     "name": "stdout",
     "output_type": "stream",
     "text": [
      "+-----------------------------------+\n",
      "|Weather_Condition                  |\n",
      "+-----------------------------------+\n",
      "|Ice Pellets                        |\n",
      "|Shallow Fog                        |\n",
      "|Thunderstorm                       |\n",
      "|Volcanic Ash                       |\n",
      "|N/A Precipitation                  |\n",
      "|Showers in the Vicinity            |\n",
      "|Cloudy                             |\n",
      "|Light Freezing Rain                |\n",
      "|Blowing Snow                       |\n",
      "|Heavy Rain / Windy                 |\n",
      "|Low Drifting Snow                  |\n",
      "|Heavy Thunderstorms and Snow       |\n",
      "|null                               |\n",
      "|Widespread Dust                    |\n",
      "|Snow Grains                        |\n",
      "|Light Rain with Thunder            |\n",
      "|Squalls                            |\n",
      "|Scattered Clouds                   |\n",
      "|Heavy T-Storm                      |\n",
      "|Patches of Fog                     |\n",
      "|Rain Showers                       |\n",
      "|Thunderstorms and Rain             |\n",
      "|Drizzle                            |\n",
      "|Cloudy / Windy                     |\n",
      "|T-Storm                            |\n",
      "|Snow Showers                       |\n",
      "|Fog                                |\n",
      "|Partly Cloudy                      |\n",
      "|Clear                              |\n",
      "|Light Freezing Fog                 |\n",
      "|Fair                               |\n",
      "|Heavy Drizzle                      |\n",
      "|Heavy Thunderstorms and Rain       |\n",
      "|Mostly Cloudy                      |\n",
      "|Funnel Cloud                       |\n",
      "|Smoke                              |\n",
      "|Light Ice Pellets                  |\n",
      "|Light Freezing Drizzle             |\n",
      "|Light Haze                         |\n",
      "|Heavy T-Storm / Windy              |\n",
      "|Heavy Rain                         |\n",
      "|Sand                               |\n",
      "|Light Rain Showers                 |\n",
      "|Rain / Windy                       |\n",
      "|Thunder                            |\n",
      "|Light Fog                          |\n",
      "|Light Rain                         |\n",
      "|Blowing Sand                       |\n",
      "|Mist                               |\n",
      "|Light Thunderstorms and Rain       |\n",
      "|Hail                               |\n",
      "|Light Rain / Windy                 |\n",
      "|Partly Cloudy / Windy              |\n",
      "|Blowing Dust / Windy               |\n",
      "|Rain                               |\n",
      "|Snow                               |\n",
      "|Light Drizzle                      |\n",
      "|Thunder in the Vicinity            |\n",
      "|Haze                               |\n",
      "|Overcast                           |\n",
      "|Light Snow                         |\n",
      "|Heavy Snow                         |\n",
      "|Light Thunderstorms and Snow       |\n",
      "|Fair / Windy                       |\n",
      "|Mostly Cloudy / Windy              |\n",
      "|Light Rain Shower                  |\n",
      "|Light Snow with Thunder            |\n",
      "|Light Sleet                        |\n",
      "|Light Snow / Windy                 |\n",
      "|Heavy Ice Pellets                  |\n",
      "|Wintry Mix / Windy                 |\n",
      "|T-Storm / Windy                    |\n",
      "|Wintry Mix                         |\n",
      "|Sleet                              |\n",
      "|Thunder / Windy                    |\n",
      "|Widespread Dust / Windy            |\n",
      "|Rain Shower                        |\n",
      "|Sleet / Windy                      |\n",
      "|Tornado                            |\n",
      "|Light Drizzle / Windy              |\n",
      "|Freezing Drizzle                   |\n",
      "|Heavy Snow / Windy                 |\n",
      "|Smoke / Windy                      |\n",
      "|Haze / Windy                       |\n",
      "|Small Hail                         |\n",
      "|Drizzle and Fog                    |\n",
      "|Blowing Dust                       |\n",
      "|Thunder / Wintry Mix               |\n",
      "|Freezing Rain                      |\n",
      "|Light Snow and Sleet               |\n",
      "|Snow and Sleet                     |\n",
      "|Fog / Windy                        |\n",
      "|Snow / Windy                       |\n",
      "|Snow and Thunder                   |\n",
      "|Heavy Freezing Rain                |\n",
      "|Heavy Rain Showers                 |\n",
      "|Light Snow Shower                  |\n",
      "|Light Freezing Rain / Windy        |\n",
      "|Heavy Freezing Rain / Windy        |\n",
      "|Light Snow and Sleet / Windy       |\n",
      "|Snow and Sleet / Windy             |\n",
      "|Blowing Snow / Windy               |\n",
      "|Light Rain Shower / Windy          |\n",
      "|Duststorm                          |\n",
      "|Mist / Windy                       |\n",
      "|Light Sleet / Windy                |\n",
      "|Sand / Dust Whirls Nearby          |\n",
      "|Squalls / Windy                    |\n",
      "|Snow and Thunder / Windy           |\n",
      "|Drizzle / Windy                    |\n",
      "|Sand / Dust Whirlwinds             |\n",
      "|Freezing Rain / Windy              |\n",
      "|Thunder and Hail                   |\n",
      "|Partial Fog                        |\n",
      "|Heavy Sleet                        |\n",
      "|Light Snow Shower / Windy          |\n",
      "|Thunder / Wintry Mix / Windy       |\n",
      "|Rain and Sleet                     |\n",
      "|Patches of Fog / Windy             |\n",
      "|Light Snow Grains                  |\n",
      "|Sand / Dust Whirlwinds / Windy     |\n",
      "|Partial Fog / Windy                |\n",
      "|Heavy Smoke                        |\n",
      "|Light Hail                         |\n",
      "|Heavy Blowing Snow                 |\n",
      "|Light Snow Showers                 |\n",
      "|Heavy Snow with Thunder            |\n",
      "|Heavy Thunderstorms with Small Hail|\n",
      "|Light Thunderstorm                 |\n",
      "|Heavy Freezing Drizzle             |\n",
      "|Light Blowing Snow                 |\n",
      "|Thunderstorms and Snow             |\n",
      "|Dust Whirls                        |\n",
      "|Rain Shower / Windy                |\n",
      "|Heavy Sleet and Thunder            |\n",
      "|Drifting Snow / Windy              |\n",
      "|Sleet and Thunder                  |\n",
      "|Shallow Fog / Windy                |\n",
      "|Thunder and Hail / Windy           |\n",
      "|Heavy Sleet / Windy                |\n",
      "|Sand / Windy                       |\n",
      "|Heavy Rain Shower / Windy          |\n",
      "|Blowing Snow Nearby                |\n",
      "|Drifting Snow                      |\n",
      "|Heavy Rain Shower                  |\n",
      "+-----------------------------------+\n",
      "\n"
     ]
    },
    {
     "name": "stderr",
     "output_type": "stream",
     "text": [
      "                                                                                \r"
     ]
    }
   ],
   "source": [
    "df.select('Weather_Condition').distinct().show(150, truncate = False)\n",
    "#Could create Binary columns for a few features where words like Fog, Snow, etc. are included"
   ]
  },
  {
   "cell_type": "code",
   "execution_count": 14,
   "metadata": {
    "tags": []
   },
   "outputs": [
    {
     "name": "stderr",
     "output_type": "stream",
     "text": [
      "[Stage 31:===================================================>    (21 + 2) / 23]\r"
     ]
    },
    {
     "name": "stdout",
     "output_type": "stream",
     "text": [
      "+--------------------+-------+\n",
      "|   Weather_Condition|  count|\n",
      "+--------------------+-------+\n",
      "|                Fair|2560802|\n",
      "|       Mostly Cloudy|1016195|\n",
      "|              Cloudy| 817082|\n",
      "|               Clear| 808743|\n",
      "|       Partly Cloudy| 698972|\n",
      "|            Overcast| 382866|\n",
      "|          Light Rain| 352957|\n",
      "|    Scattered Clouds| 204829|\n",
      "|                null| 173459|\n",
      "|          Light Snow| 128680|\n",
      "|                 Fog|  99238|\n",
      "|                Rain|  84331|\n",
      "|                Haze|  76223|\n",
      "|        Fair / Windy|  35671|\n",
      "|          Heavy Rain|  32309|\n",
      "|       Light Drizzle|  22684|\n",
      "|Thunder in the Vi...|  17611|\n",
      "|      Cloudy / Windy|  17035|\n",
      "|             T-Storm|  16810|\n",
      "|Mostly Cloudy / W...|  16508|\n",
      "+--------------------+-------+\n",
      "only showing top 20 rows\n",
      "\n"
     ]
    },
    {
     "name": "stderr",
     "output_type": "stream",
     "text": [
      "                                                                                \r"
     ]
    }
   ],
   "source": [
    "df.groupBy('Weather_Condition').count().orderBy(desc(\"count\")).show()\n",
    "#Fog/Haze, Snow"
   ]
  },
  {
   "cell_type": "code",
   "execution_count": null,
   "metadata": {},
   "outputs": [],
   "source": []
  }
 ],
 "metadata": {
  "kernelspec": {
   "display_name": "Python 3 (ipykernel)",
   "language": "python",
   "name": "python3"
  },
  "language_info": {
   "codemirror_mode": {
    "name": "ipython",
    "version": 3
   },
   "file_extension": ".py",
   "mimetype": "text/x-python",
   "name": "python",
   "nbconvert_exporter": "python",
   "pygments_lexer": "ipython3",
   "version": "3.11.5"
  }
 },
 "nbformat": 4,
 "nbformat_minor": 4
}
