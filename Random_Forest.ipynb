{
 "cells": [
  {
   "cell_type": "markdown",
   "metadata": {},
   "source": [
    "# Research Question:\n",
    "### What are the most influential variables on the severity of accidents?"
   ]
  },
  {
   "cell_type": "markdown",
   "metadata": {},
   "source": [
    "Useful Paper:\n",
    "    https://www.sciencedirect.com/science/article/pii/S2590198223000611"
   ]
  },
  {
   "cell_type": "code",
   "execution_count": 1,
   "metadata": {
    "tags": []
   },
   "outputs": [
    {
     "data": {
      "text/html": [
       "<style>pre { white-space: pre !important; }</style>"
      ],
      "text/plain": [
       "<IPython.core.display.HTML object>"
      ]
     },
     "metadata": {},
     "output_type": "display_data"
    }
   ],
   "source": [
    "#Display Spark Output in scrollable format within jupyter notebook\n",
    "from IPython.core.display import HTML\n",
    "display(HTML(\"<style>pre { white-space: pre !important; }</style>\"))"
   ]
  },
  {
   "cell_type": "code",
   "execution_count": 2,
   "metadata": {
    "tags": []
   },
   "outputs": [],
   "source": [
    "#Supress Warnings\n",
    "import warnings\n",
    "warnings.filterwarnings(\"ignore\")"
   ]
  },
  {
   "cell_type": "code",
   "execution_count": 25,
   "metadata": {
    "tags": []
   },
   "outputs": [],
   "source": [
    "# Import Libraries\n",
    "import pandas as pd\n",
    "import numpy as np\n",
    "import os\n",
    "import pyspark\n",
    "from pyspark.sql import SparkSession\n",
    "from pyspark.sql.types import *\n",
    "from pyspark.sql.functions import *\n",
    "from pyspark.ml.feature import StringIndexer, OneHotEncoder, VectorAssembler\n",
    "from pyspark.ml.stat import Correlation\n",
    "import seaborn as sns\n",
    "import matplotlib.pyplot as plt\n",
    "import pyspark.sql.functions as F\n",
    "import holidays\n",
    "from datetime import datetime, timezone\n",
    "from pyspark.ml.classification import RandomForestClassifier, BinaryLogisticRegressionSummary\n",
    "from pyspark.ml import Pipeline\n",
    "from pyspark.mllib.evaluation import MulticlassMetrics, BinaryClassificationMetrics\n",
    "from pyspark.ml.pipeline import PipelineModel"
   ]
  },
  {
   "cell_type": "markdown",
   "metadata": {},
   "source": [
    "# Load Data"
   ]
  },
  {
   "cell_type": "code",
   "execution_count": 4,
   "metadata": {
    "tags": []
   },
   "outputs": [
    {
     "name": "stderr",
     "output_type": "stream",
     "text": [
      "Setting default log level to \"WARN\".\n",
      "To adjust logging level use sc.setLogLevel(newLevel). For SparkR, use setLogLevel(newLevel).\n",
      "24/11/06 12:18:28 WARN NativeCodeLoader: Unable to load native-hadoop library for your platform... using builtin-java classes where applicable\n"
     ]
    }
   ],
   "source": [
    "#Instantiate Spark Session\n",
    "spark = (SparkSession\n",
    "  .builder\n",
    "  .appName(\"US_Accidents\")\n",
    "  .getOrCreate())\n",
    "spark.sparkContext.setLogLevel(\"ERROR\") #supress warnings"
   ]
  },
  {
   "cell_type": "code",
   "execution_count": 5,
   "metadata": {
    "tags": []
   },
   "outputs": [
    {
     "name": "stderr",
     "output_type": "stream",
     "text": [
      "                                                                                \r"
     ]
    },
    {
     "name": "stdout",
     "output_type": "stream",
     "text": [
      "+--------+--------------+-----------+------------+--------------+---------------+-----------------+-------+---------+-------+----+----+-------------+--------------------------+--------------------+---------------------------------+-----------------+-----------------+-------------------+------------+--------------------------+-----------+--------------------+--------------------+-----------+\n",
      "|Severity|Temperature(F)|Humidity(%)|Pressure(in)|Visibility(mi)|Wind_Speed(mph)|Precipitation(in)|Weekday|Rush Hour|Holiday|Rain|Snow|    SeasonVec|Astronomical_TwilightIndex|Interstate Indicator|Sex ratio (males per 100 females)|Percent_Age_15-19|Percent_Age_20-24|Percent_Age_65_over|MedianIncome|MedianIncome_MarginOfError|Urban_Ratio|Traffic_Interference|Traffic_Intersection|Destination|\n",
      "+--------+--------------+-----------+------------+--------------+---------------+-----------------+-------+---------+-------+----+----+-------------+--------------------------+--------------------+---------------------------------+-----------------+-----------------+-------------------+------------+--------------------------+-----------+--------------------+--------------------+-----------+\n",
      "|       2|            21|         85|          30|             1|             10|                0|      1|        1|      0|   0|   1|(3,[0],[0.0])|                         0|                   0|                             97.6|              8.0|              4.0|               13.1|    104583.0|                    6161.0|        1.0|                   0|                   1|          0|\n",
      "|       2|            51|         29|          29|            10|              8|                0|      1|        0|      0|   0|   0|(3,[0],[0.0])|                         1|                   0|                             89.6|              7.7|              5.8|               12.7|    128378.0|                    7418.0|      0.982|                   0|                   0|          0|\n",
      "|       3|            55|         83|          30|            10|              0|                0|      1|        1|      0|   0|   0|(3,[0],[0.0])|                         0|                   1|                             94.6|              6.9|              5.4|               17.3|     52577.0|                    2897.0|     0.9968|                   0|                   0|          0|\n",
      "|       2|            52|         94|          30|            10|              9|                0|      1|        1|      0|   0|   0|(3,[0],[0.0])|                         0|                   0|                            106.8|              6.4|              8.2|               11.6|     48740.0|                    3484.0|        1.0|                   0|                   0|          0|\n",
      "|       2|            25|         96|          30|             0|              0|                0|      1|        1|      0|   0|   0|(3,[0],[0.0])|                         0|                   0|                             95.9|              5.6|              6.8|               14.4|     62956.0|                    2229.0|     0.9887|                   0|                   0|          0|\n",
      "+--------+--------------+-----------+------------+--------------+---------------+-----------------+-------+---------+-------+----+----+-------------+--------------------------+--------------------+---------------------------------+-----------------+-----------------+-------------------+------------+--------------------------+-----------+--------------------+--------------------+-----------+\n",
      "only showing top 5 rows\n",
      "\n"
     ]
    }
   ],
   "source": [
    "# Read in Dataset\n",
    "df = spark.read.parquet(\"final_dataset.parquet\")\n",
    "df.show(5)"
   ]
  },
  {
   "cell_type": "code",
   "execution_count": 6,
   "metadata": {
    "tags": []
   },
   "outputs": [
    {
     "name": "stdout",
     "output_type": "stream",
     "text": [
      "+--------+--------------+-----------+------------+--------------+---------------+-----------------+-------+---------+-------+----+----+-------------+--------------------------+--------------------+---------------------------------+-----------------+-----------------+-------------------+------------+-----------+--------------------+--------------------+-----------+\n",
      "|Severity|Temperature(F)|Humidity(%)|Pressure(in)|Visibility(mi)|Wind_Speed(mph)|Precipitation(in)|Weekday|Rush Hour|Holiday|Rain|Snow|    SeasonVec|Astronomical_TwilightIndex|Interstate Indicator|Sex ratio (males per 100 females)|Percent_Age_15-19|Percent_Age_20-24|Percent_Age_65_over|MedianIncome|Urban_Ratio|Traffic_Interference|Traffic_Intersection|Destination|\n",
      "+--------+--------------+-----------+------------+--------------+---------------+-----------------+-------+---------+-------+----+----+-------------+--------------------------+--------------------+---------------------------------+-----------------+-----------------+-------------------+------------+-----------+--------------------+--------------------+-----------+\n",
      "|       2|            21|         85|          30|             1|             10|                0|      1|        1|      0|   0|   1|(3,[0],[0.0])|                         0|                   0|                             97.6|              8.0|              4.0|               13.1|    104583.0|        1.0|                   0|                   1|          0|\n",
      "|       2|            51|         29|          29|            10|              8|                0|      1|        0|      0|   0|   0|(3,[0],[0.0])|                         1|                   0|                             89.6|              7.7|              5.8|               12.7|    128378.0|      0.982|                   0|                   0|          0|\n",
      "|       3|            55|         83|          30|            10|              0|                0|      1|        1|      0|   0|   0|(3,[0],[0.0])|                         0|                   1|                             94.6|              6.9|              5.4|               17.3|     52577.0|     0.9968|                   0|                   0|          0|\n",
      "|       2|            52|         94|          30|            10|              9|                0|      1|        1|      0|   0|   0|(3,[0],[0.0])|                         0|                   0|                            106.8|              6.4|              8.2|               11.6|     48740.0|        1.0|                   0|                   0|          0|\n",
      "|       2|            25|         96|          30|             0|              0|                0|      1|        1|      0|   0|   0|(3,[0],[0.0])|                         0|                   0|                             95.9|              5.6|              6.8|               14.4|     62956.0|     0.9887|                   0|                   0|          0|\n",
      "+--------+--------------+-----------+------------+--------------+---------------+-----------------+-------+---------+-------+----+----+-------------+--------------------------+--------------------+---------------------------------+-----------------+-----------------+-------------------+------------+-----------+--------------------+--------------------+-----------+\n",
      "only showing top 5 rows\n",
      "\n"
     ]
    }
   ],
   "source": [
    "# Remove MedianIncome_MarginOfError\n",
    "df = df.drop('MedianIncome_MarginOfError')\n",
    "df.show(5)"
   ]
  },
  {
   "cell_type": "code",
   "execution_count": 7,
   "metadata": {
    "tags": []
   },
   "outputs": [
    {
     "name": "stdout",
     "output_type": "stream",
     "text": [
      "DataFrame Rows count : 7026806\n",
      "DataFrame Columns count : 24\n"
     ]
    }
   ],
   "source": [
    "# Get row count\n",
    "rows = df.count()\n",
    "print(f\"DataFrame Rows count : {rows}\")\n",
    "\n",
    "# Get columns count\n",
    "cols = len(df.columns)\n",
    "print(f\"DataFrame Columns count : {cols}\")"
   ]
  },
  {
   "cell_type": "markdown",
   "metadata": {},
   "source": [
    "# Sampling"
   ]
  },
  {
   "cell_type": "code",
   "execution_count": 8,
   "metadata": {
    "tags": []
   },
   "outputs": [
    {
     "name": "stdout",
     "output_type": "stream",
     "text": [
      "+--------+-------+------------------+\n",
      "|Severity|  count|           percent|\n",
      "+--------+-------+------------------+\n",
      "|       1|  65142|0.9270499285165977|\n",
      "|       3|1123799|15.993027272988611|\n",
      "|       4| 178821|2.5448404296347444|\n",
      "|       2|5659044| 80.53508236886005|\n",
      "+--------+-------+------------------+\n",
      "\n"
     ]
    }
   ],
   "source": [
    "# Check Class Imbalance\n",
    "cts = df.groupBy(\"Severity\").count().withColumn('percent', (F.col('count') / rows)*100)\n",
    "cts.show()"
   ]
  },
  {
   "cell_type": "markdown",
   "metadata": {},
   "source": [
    "# Underperforming Tests Overview:\n",
    "\n",
    "## Tried Random split (80/20)\n",
    "- As predicted, model predicted severity = 2 for everything and they accuracy = the % of test samples with label = 2\n",
    "\n",
    "train_data, test_data = df.randomSplit([0.8, 0.2])\n",
    "\n",
    "## Undersampling (80/20) - undersampled each class by the smallest class for the training set - testing set everything else\n",
    "- This decreased the training set to about 3.5% of the original data set and the accuracy (~32% reflected that)\n",
    "- With undersampling, the performance might change with the sample taken\n",
    "\n",
    "sample = (cts.select(\"count\").rdd.min()[0])*0.8 #Undersample each class by 80% of the smallest class\n",
    "\n",
    "class1 = sample/(cts.select(\"count\").where(cts.Severity == '1').rdd.min()[0])\n",
    "\n",
    "class2 = sample/(cts.select(\"count\").where(cts.Severity == '2').rdd.min()[0])\n",
    "\n",
    "class3 = sample/(cts.select(\"count\").where(cts.Severity == '3').rdd.min()[0])\n",
    "\n",
    "class4 = sample/(cts.select(\"count\").where(cts.Severity == '4').rdd.min()[0])\n",
    "\n",
    "df.createOrReplaceTempView(\"data_view\") #Create a temporary view to use SQL\n",
    "\n",
    "fractions = {1: class1, 2: class2, 3: class3, 4: class4} #downsample each class to 80% of the smallest class\n",
    "\n",
    "train_data = df.sampleBy(\"Severity\", fractions, seed=42) #Use stratified sampling to maintain class distribution\n",
    "\n",
    "test_data = df.subtract(train_data)\n",
    "\n",
    "## Did not try full Oversampling\n",
    "- I'm always wary of oversampling amplyfying outliers especially with such high class imbalance and with regression trees that are already prone to overfitting\n",
    "## A combination of oversampling and undersampling may be a nice compramise\n",
    "- Did not check\n",
    "\n",
    "## Binary Classification (1|2 = 0, 3|4 = 1)\n",
    "- Best so far - model f1 score ~ 0.77 with base rf model - will obviously be better as half the options to guess from but still major improvement\n",
    "\n",
    "features = df.select([col for col in df.columns if col != \"Severity\" and col != \"Severity_Binary\"]).columns # Select all features except target variable\n",
    "\n",
    "assembler = VectorAssembler(inputCols=features, outputCol='features') # Vectorize Features\n",
    "\n",
    "model = RandomForestClassifier(featuresCol = 'features', labelCol = 'Severity_Binary') # Model\n",
    "  \n",
    "pipeline = Pipeline(stages=[assembler, model]) # Creating the pipeline \n",
    "\n",
    "fit_model = pipeline.fit(train_data) #train\n",
    "\n",
    "results = fit_model.transform(test_data) #predict"
   ]
  },
  {
   "cell_type": "markdown",
   "metadata": {},
   "source": [
    "## Binary Classification"
   ]
  },
  {
   "cell_type": "code",
   "execution_count": 9,
   "metadata": {
    "tags": []
   },
   "outputs": [
    {
     "name": "stdout",
     "output_type": "stream",
     "text": [
      "+--------------+-----------+------------+--------------+---------------+-----------------+-------+---------+-------+----+----+-------------+--------------------------+--------------------+---------------------------------+-----------------+-----------------+-------------------+------------+-----------+--------------------+--------------------+-----------+---------------+\n",
      "|Temperature(F)|Humidity(%)|Pressure(in)|Visibility(mi)|Wind_Speed(mph)|Precipitation(in)|Weekday|Rush Hour|Holiday|Rain|Snow|    SeasonVec|Astronomical_TwilightIndex|Interstate Indicator|Sex ratio (males per 100 females)|Percent_Age_15-19|Percent_Age_20-24|Percent_Age_65_over|MedianIncome|Urban_Ratio|Traffic_Interference|Traffic_Intersection|Destination|Severity_Binary|\n",
      "+--------------+-----------+------------+--------------+---------------+-----------------+-------+---------+-------+----+----+-------------+--------------------------+--------------------+---------------------------------+-----------------+-----------------+-------------------+------------+-----------+--------------------+--------------------+-----------+---------------+\n",
      "|            21|         85|          30|             1|             10|                0|      1|        1|      0|   0|   1|(3,[0],[0.0])|                         0|                   0|                             97.6|              8.0|              4.0|               13.1|    104583.0|        1.0|                   0|                   1|          0|              0|\n",
      "|            51|         29|          29|            10|              8|                0|      1|        0|      0|   0|   0|(3,[0],[0.0])|                         1|                   0|                             89.6|              7.7|              5.8|               12.7|    128378.0|      0.982|                   0|                   0|          0|              0|\n",
      "|            55|         83|          30|            10|              0|                0|      1|        1|      0|   0|   0|(3,[0],[0.0])|                         0|                   1|                             94.6|              6.9|              5.4|               17.3|     52577.0|     0.9968|                   0|                   0|          0|              1|\n",
      "|            52|         94|          30|            10|              9|                0|      1|        1|      0|   0|   0|(3,[0],[0.0])|                         0|                   0|                            106.8|              6.4|              8.2|               11.6|     48740.0|        1.0|                   0|                   0|          0|              0|\n",
      "|            25|         96|          30|             0|              0|                0|      1|        1|      0|   0|   0|(3,[0],[0.0])|                         0|                   0|                             95.9|              5.6|              6.8|               14.4|     62956.0|     0.9887|                   0|                   0|          0|              0|\n",
      "+--------------+-----------+------------+--------------+---------------+-----------------+-------+---------+-------+----+----+-------------+--------------------------+--------------------+---------------------------------+-----------------+-----------------+-------------------+------------+-----------+--------------------+--------------------+-----------+---------------+\n",
      "only showing top 5 rows\n",
      "\n"
     ]
    }
   ],
   "source": [
    "# Binary Classification (1 or 2 vs 3 or 4)\n",
    "df = df.withColumn('Severity_Binary', when((col(\"Severity\")==1) | (col(\"Severity\")==2), 0).otherwise(1))\n",
    "df = df.drop('Severity')\n",
    "df.show(5)"
   ]
  },
  {
   "cell_type": "code",
   "execution_count": 10,
   "metadata": {
    "tags": []
   },
   "outputs": [
    {
     "name": "stdout",
     "output_type": "stream",
     "text": [
      "+---------------+-------+------------------+\n",
      "|Severity_Binary|  count|           percent|\n",
      "+---------------+-------+------------------+\n",
      "|              1|1302620|18.537867702623352|\n",
      "|              0|5724186| 81.46213229737664|\n",
      "+---------------+-------+------------------+\n",
      "\n"
     ]
    }
   ],
   "source": [
    "# Check Class Imbalance\n",
    "cts = df.groupBy(\"Severity_Binary\").count().withColumn('percent', (F.col('count') / rows)*100)\n",
    "cts.show()"
   ]
  },
  {
   "cell_type": "code",
   "execution_count": 11,
   "metadata": {
    "tags": []
   },
   "outputs": [
    {
     "name": "stderr",
     "output_type": "stream",
     "text": [
      "                                                                                \r"
     ]
    }
   ],
   "source": [
    "# Undersample each class by 80% of the smallest class\n",
    "sample = (cts.select(\"count\").rdd.min()[0])*0.8\n",
    "\n",
    "class0 = sample/(cts.select(\"count\").where(cts.Severity_Binary == '0').rdd.min()[0])\n",
    "class1 = sample/(cts.select(\"count\").where(cts.Severity_Binary == '1').rdd.min()[0])\n",
    "\n",
    "# Split Data by Class - Downsampling\n",
    "\n",
    "# Create a temporary view to use SQL\n",
    "df.createOrReplaceTempView(\"data_view\")\n",
    "\n",
    "# Calculate fractions for each class\n",
    "#fractions = df.groupBy(\"Severity\").count().rdd.map(lambda row: (row[0], 0.8)).collectAsMap() #samples 80% of each class\n",
    "fractions = {0: class0, 1: class1} #downsample each class to 80% of the smallest class\n",
    "\n",
    "# Use stratified sampling to maintain class distribution\n",
    "train_data = df.sampleBy(\"Severity_Binary\", fractions, seed=42)\n",
    "test_data = df.subtract(train_data)"
   ]
  },
  {
   "cell_type": "code",
   "execution_count": 12,
   "metadata": {
    "tags": []
   },
   "outputs": [
    {
     "name": "stdout",
     "output_type": "stream",
     "text": [
      "29.67624266274037\n",
      "+---------------+-------+------------------+\n",
      "|Severity_Binary|  count|           percent|\n",
      "+---------------+-------+------------------+\n",
      "|              1|1041869|49.962739031272356|\n",
      "|              0|1043423| 50.03726096872764|\n",
      "+---------------+-------+------------------+\n",
      "\n"
     ]
    }
   ],
   "source": [
    "# Print Overall % Sampled from DF\n",
    "print(train_data.count()/df.count()*100)\n",
    "\n",
    "# Print % Sampled for each class within Train Data\n",
    "train_data.groupBy(\"Severity_Binary\").count().withColumn('percent', (F.col('count') / train_data.count())*100).show()"
   ]
  },
  {
   "cell_type": "code",
   "execution_count": 13,
   "metadata": {
    "tags": []
   },
   "outputs": [
    {
     "name": "stderr",
     "output_type": "stream",
     "text": [
      "                                                                                \r"
     ]
    },
    {
     "name": "stdout",
     "output_type": "stream",
     "text": [
      "54.54452563511786\n"
     ]
    },
    {
     "name": "stderr",
     "output_type": "stream",
     "text": [
      "[Stage 73:>                                                         (0 + 8) / 9]\r"
     ]
    },
    {
     "name": "stdout",
     "output_type": "stream",
     "text": [
      "+---------------+-------+-----------------+\n",
      "|Severity_Binary|  count|          percent|\n",
      "+---------------+-------+-----------------+\n",
      "|              1| 233625|6.095511876888011|\n",
      "|              0|3599113|93.90448812311199|\n",
      "+---------------+-------+-----------------+\n",
      "\n"
     ]
    },
    {
     "name": "stderr",
     "output_type": "stream",
     "text": [
      "                                                                                \r"
     ]
    }
   ],
   "source": [
    "# Print Overall % Sampled from DF\n",
    "print(test_data.count()/df.count()*100)\n",
    "\n",
    "# Print % Sampled for each class within Train Data\n",
    "test_data.groupBy(\"Severity_Binary\").count().withColumn('percent', (F.col('count') / test_data.count())*100).show()"
   ]
  },
  {
   "cell_type": "markdown",
   "metadata": {},
   "source": [
    "# Modeling"
   ]
  },
  {
   "cell_type": "code",
   "execution_count": 14,
   "metadata": {
    "tags": []
   },
   "outputs": [],
   "source": [
    "from pyspark.ml.evaluation import MulticlassClassificationEvaluator\n",
    "from pyspark.ml.tuning import CrossValidator, ParamGridBuilder\n",
    "\n",
    "# Select all features except target variable\n",
    "feature_list = []\n",
    "for col in df.columns:\n",
    "    if col == 'Severity_Binary':\n",
    "        continue\n",
    "    else:\n",
    "        feature_list.append(col)\n",
    "\n",
    "features_list = ['Temperature(F)',\n",
    " 'Humidity(%)',\n",
    " 'Pressure(in)',\n",
    " 'Visibility(mi)',\n",
    " 'Wind_Speed(mph)',\n",
    " 'Precipitation(in)',\n",
    " 'Weekday',\n",
    " 'Rush Hour',\n",
    " 'Holiday',\n",
    " 'Rain',\n",
    " 'Snow',\n",
    " 'SeasonVec',\n",
    " 'SeasonVec2',\n",
    " 'SeasonVec3',\n",
    " 'Astronomical_TwilightIndex',\n",
    " 'Interstate Indicator',\n",
    " 'Sex ratio (males per 100 females)',\n",
    " 'Percent_Age_15-19',\n",
    " 'Percent_Age_20-24',\n",
    " 'Percent_Age_65_over',\n",
    " 'MedianIncome',\n",
    " 'Urban_Ratio',\n",
    " 'Traffic_Interference',\n",
    " 'Traffic_Intersection',\n",
    " 'Destination']       \n",
    "        \n",
    "# Vectorize Features\n",
    "assembler = VectorAssembler(inputCols=feature_list, outputCol='features')"
   ]
  },
  {
   "cell_type": "markdown",
   "metadata": {},
   "source": [
    "### Check for Multicollinearity"
   ]
  },
  {
   "cell_type": "code",
   "execution_count": 36,
   "metadata": {
    "tags": []
   },
   "outputs": [
    {
     "name": "stderr",
     "output_type": "stream",
     "text": [
      "[Stage 125:==========================================>              (6 + 2) / 8]\r"
     ]
    },
    {
     "name": "stdout",
     "output_type": "stream",
     "text": [
      "[('Percent_Age_15-19', 'Percent_Age_20-24', 0.4658303264726788), ('Percent_Age_20-24', 'Percent_Age_15-19', 0.4658303264726788), ('Percent_Age_20-24', 'Percent_Age_65_over', -0.4000733034067075), ('Percent_Age_65_over', 'Percent_Age_20-24', -0.4000733034067075)]\n"
     ]
    },
    {
     "name": "stderr",
     "output_type": "stream",
     "text": [
      "                                                                                \r"
     ]
    }
   ],
   "source": [
    "# Assemble features into a vector\n",
    "df_vector = assembler.transform(df)\n",
    "\n",
    "# Calculate the correlation matrix\n",
    "correlation_matrix = Correlation.corr(df_vector, \"features\").head()[0]\n",
    "\n",
    "# Turn into a dataframe\n",
    "corr_matrix_pd = pd.DataFrame(correlation_matrix.toArray(), columns=features_list, index=features_list)\n",
    "\n",
    "# Get the pairs of columns with correlation greater than 0.5\n",
    "high_corr_pairs = []\n",
    "for col1 in corr_matrix_pd.columns:\n",
    "    for col2 in corr_matrix_pd.columns:\n",
    "        if col1 != col2 and ((corr_matrix_pd[col1][col2] > 0.4) | (corr_matrix_pd[col1][col2] < -0.4)):\n",
    "            high_corr_pairs.append((col1, col2, corr_matrix_pd[col1][col2]))\n",
    "\n",
    "print(high_corr_pairs)"
   ]
  },
  {
   "cell_type": "code",
   "execution_count": 44,
   "metadata": {
    "tags": []
   },
   "outputs": [
    {
     "name": "stderr",
     "output_type": "stream",
     "text": [
      "                                                                                \r"
     ]
    },
    {
     "name": "stdout",
     "output_type": "stream",
     "text": [
      "F1:  0.823740892500734\n",
      "{\n",
      "\tRandomForestClassifier_c69cc32e80fb-featuresCol: features,\n",
      "\tRandomForestClassifier_c69cc32e80fb-labelCol: Severity_Binary,\n",
      "\tRandomForestClassifier_c69cc32e80fb-maxDepth: 5,\n",
      "\tRandomForestClassifier_c69cc32e80fb-numTrees: 6\n",
      "}\n"
     ]
    }
   ],
   "source": [
    "# Create a RandomForestClassifier\n",
    "rf = RandomForestClassifier(labelCol=\"Severity_Binary\", featuresCol=\"features\")\n",
    "\n",
    "# Create a pipeline\n",
    "pipeline = Pipeline(stages=[assembler, rf])\n",
    "\n",
    "# Define the parameter grid\n",
    "paramGrid = ParamGridBuilder() \\\n",
    "    .addGrid(rf.numTrees, [3, 6, 8]) \\\n",
    "    .addGrid(rf.maxDepth, [3, 4, 5]) \\\n",
    "    .build()\n",
    "\n",
    "# Create a CrossValidator\n",
    "crossval = CrossValidator(estimator=pipeline,\n",
    "                          estimatorParamMaps=paramGrid,\n",
    "                          evaluator=MulticlassClassificationEvaluator(labelCol=\"Severity_Binary\", predictionCol=\"prediction\"),\n",
    "                          numFolds=5)\n",
    "\n",
    "# Fit the model\n",
    "cvModel = crossval.fit(train_data)\n",
    "\n",
    "# Make predictions on the test set\n",
    "predictions = cvModel.transform(test_data)\n",
    "\n",
    "# Evaluate the model\n",
    "evaluator = MulticlassClassificationEvaluator(labelCol=\"Severity_Binary\", predictionCol=\"prediction\", metricName=\"f1\")\n",
    "f1 = evaluator.evaluate(predictions)\n",
    "print(\"F1: \", f1)\n",
    "\n",
    "# Get and save the best model\n",
    "bestModel = cvModel.bestModel\n",
    "bestModel.save(\"best_rf_model\")\n",
    "print(bestModel.stages[-1]._java_obj.paramMap()) "
   ]
  },
  {
   "cell_type": "markdown",
   "metadata": {},
   "source": [
    "## Load Saved Best Model"
   ]
  },
  {
   "cell_type": "code",
   "execution_count": 49,
   "metadata": {
    "tags": []
   },
   "outputs": [],
   "source": [
    "# Load the saved best model\n",
    "loadedCvModel = PipelineModel.load(\"best_rf_model\")"
   ]
  },
  {
   "cell_type": "markdown",
   "metadata": {},
   "source": [
    "## Evaluation Metrics"
   ]
  },
  {
   "cell_type": "code",
   "execution_count": 48,
   "metadata": {
    "tags": []
   },
   "outputs": [
    {
     "name": "stderr",
     "output_type": "stream",
     "text": [
      "                                                                                \r"
     ]
    },
    {
     "name": "stdout",
     "output_type": "stream",
     "text": [
      "Weighted Precision: 0.9118824675836307\n",
      "Weighted Recall: 0.7670260790067048\n",
      "Weighted F1 Score: 0.823740892500734\n",
      "Accuracy: 0.7670260790067048\n"
     ]
    },
    {
     "data": {
      "image/png": "[encoded data removed]",
      "text/plain": [
       "<Figure size 640x480 with 2 Axes>"
      ]
     },
     "metadata": {},
     "output_type": "display_data"
    },
    {
     "name": "stderr",
     "output_type": "stream",
     "text": [
      "[Stage 2453:===========================================>            (7 + 2) / 9]\r"
     ]
    },
    {
     "name": "stdout",
     "output_type": "stream",
     "text": [
      "Area Under ROC: 0.6548025546756359\n"
     ]
    },
    {
     "name": "stderr",
     "output_type": "stream",
     "text": [
      "                                                                                \r"
     ]
    }
   ],
   "source": [
    "# Further Metrics on Best Model\n",
    "pred = loadedCvModel.transform(test_data)\n",
    "\n",
    "#Evaluate (Confusion Matrix, Accuracy, Weighted Precision, Recall, and F1 Score)\n",
    "predictionAndLabels = pred.select(\"prediction\", \"Severity_Binary\")\n",
    "rdd = predictionAndLabels.rdd.map(lambda x: tuple(map(float, x)))\n",
    "multi_metrics = MulticlassMetrics(rdd)\n",
    "\n",
    "# Get precision, recall, and F1-score for each class\n",
    "print(f'Weighted Precision: {multi_metrics.weightedPrecision}') #would expect to be good when test sample has high majority 0 class\n",
    "print(f'Weighted Recall: {multi_metrics.weightedRecall}')\n",
    "print(f'Weighted F1 Score: {multi_metrics.weightedFMeasure()}') #would like to optimize this (balance of precision and recall)\n",
    "print(f'Accuracy: {multi_metrics.accuracy}') #could be skewed with imbalanced test set\n",
    "\n",
    "# Plot confusion matrix\n",
    "cf = multi_metrics.confusionMatrix().toArray()\n",
    "cf_df = pd.DataFrame(cf, columns=['0', '1'])\n",
    "sns.heatmap(cf_df, annot=True, cmap=\"coolwarm\")\n",
    "plt.show()\n",
    "\n",
    "# AUC Score\n",
    "binary_metrics = BinaryClassificationMetrics(rdd)\n",
    "auc = binary_metrics.areaUnderROC\n",
    "print(\"Area Under ROC:\", auc)"
   ]
  },
  {
   "cell_type": "markdown",
   "metadata": {},
   "source": [
    "## Feature Importance"
   ]
  },
  {
   "cell_type": "code",
   "execution_count": 50,
   "metadata": {
    "tags": []
   },
   "outputs": [
    {
     "name": "stdout",
     "output_type": "stream",
     "text": [
      "Percent_Age_15-19: 0.6538633098522804\n",
      "Wind_Speed(mph): 0.11309523586636983\n",
      "Pressure(in): 0.021411067760803683\n",
      "Urban_Ratio: 0.020182736604989756\n",
      "Traffic_Intersection: 0.01307051332883975\n",
      "Sex ratio (males per 100 females): 0.006172481797186255\n",
      "Temperature(F): 0.00493695556091131\n",
      "Traffic_Interference: 0.004705629286118825\n",
      "Visibility(mi): 0.0035782185663899894\n",
      "Destination: 0.0030973008775653\n",
      "Weekday: 0.0026137961573831966\n",
      "Percent_Age_65_over: 0.0024557402387279104\n",
      "Snow: 0.0020169011529076507\n",
      "MedianIncome: 0.0013424964805030298\n",
      "Percent_Age_20-24: 0.0008952325602054058\n",
      "Humidity(%): 0.00013728881673452133\n",
      "Rush Hour: 3.356935485804044e-05\n",
      "Precipitation(in): 0.0\n",
      "Holiday: 0.0\n",
      "Rain: 0.0\n",
      "SeasonVec: 0.0\n",
      "Astronomical_TwilightIndex: 0.0\n",
      "Interstate Indicator: 0.0\n"
     ]
    }
   ],
   "source": [
    "feature_importances = cvModel.bestModel.stages[-1].featureImportances\n",
    "\n",
    "# Create a mapping between feature names and their importance scores\n",
    "feature_importance_dict = {}\n",
    "feature_names = assembler.getInputCols()\n",
    "for i, feature_name in enumerate(feature_names):\n",
    "    feature_importance_dict[feature_name] = feature_importances[i]\n",
    "\n",
    "# Sort the feature importance dictionary by score in descending order\n",
    "sorted_feature_importances = sorted(feature_importance_dict.items(), key=lambda x: x[1], reverse=True)\n",
    "\n",
    "# Print the feature importances\n",
    "for feature_name, importance_score in sorted_feature_importances:\n",
    "    print(f\"{feature_name}: {importance_score}\")"
   ]
  },
  {
   "cell_type": "markdown",
   "metadata": {},
   "source": [
    "# Questions/Wierd Things"
   ]
  },
  {
   "cell_type": "code",
   "execution_count": null,
   "metadata": {},
   "outputs": [],
   "source": [
    "#Why is my undersampling code not using all available data?\n",
    "\n",
    "#Can't figure out ROC Curve"
   ]
  },
  {
   "cell_type": "code",
   "execution_count": null,
   "metadata": {
    "tags": []
   },
   "outputs": [
    {
     "name": "stdout",
     "output_type": "stream",
     "text": [
      "Feature Importances:\n",
      "Temperature(F): 0.0009213015483506297\n",
      "Humidity(%): 0.002540609439652656\n",
      "Pressure(in): 0.020450333607135187\n",
      "Visibility(mi): 0.0013161062441105088\n",
      "Wind_Speed(mph): 0.0940699616214557\n",
      "Precipitation(in): 0.0\n",
      "Weekday: 0.0005017290970311592\n",
      "Rush Hour: 0.0\n",
      "Holiday: 0.0\n",
      "Rain: 0.0023240584289040468\n",
      "Snow: 0.0\n",
      "SeasonVec: 0.0\n",
      "Astronomical_TwilightIndex: 0.0\n",
      "Interstate Indicator: 0.0\n",
      "Sex ratio (males per 100 females): 0.0\n",
      "Percent_Age_15-19: 0.7070260166982979\n",
      "Percent_Age_20-24: 0.0002243347183741944\n",
      "Percent_Age_65_over: 0.0\n",
      "MedianIncome: 0.003956996597709727\n",
      "Urban_Ratio: 0.0\n",
      "Traffic_Interference: 0.01904514582410056\n",
      "Traffic_Intersection: 0.0169767010785899\n",
      "Destination: 0.0\n"
     ]
    }
   ],
   "source": [
    "#Feature Importances\n",
    "bestModel = cvModel.bestModel.stages[-1]  # Assuming the last stage in the pipeline is the model\n",
    "\n",
    "featureImportances = bestModel.featureImportances\n",
    "\n",
    "print(\"Feature Importances:\")\n",
    "for feature, importance in zip(test_data.columns[:-1], featureImportances):\n",
    "    print(f\"{feature}: {importance}\")"
   ]
  },
  {
   "cell_type": "code",
   "execution_count": 31,
   "metadata": {
    "tags": []
   },
   "outputs": [
    {
     "data": {
      "text/plain": [
       "SparseVector(25, {0: 0.0009, 1: 0.0025, 2: 0.0205, 3: 0.0013, 4: 0.0941, 6: 0.0005, 9: 0.0023, 15: 0.707, 16: 0.0002, 18: 0.004, 20: 0.019, 21: 0.017, 23: 0.1054, 24: 0.0253})"
      ]
     },
     "execution_count": 31,
     "metadata": {},
     "output_type": "execute_result"
    }
   ],
   "source": [
    "bestModel.featureImportances #why are there 25? when only 23 features? Onehotencoding?"
   ]
  },
  {
   "cell_type": "code",
   "execution_count": null,
   "metadata": {},
   "outputs": [],
   "source": []
  }
 ],
 "metadata": {
  "kernelspec": {
   "display_name": "Python 3 (ipykernel)",
   "language": "python",
   "name": "python3"
  },
  "language_info": {
   "codemirror_mode": {
    "name": "ipython",
    "version": 3
   },
   "file_extension": ".py",
   "mimetype": "text/x-python",
   "name": "python",
   "nbconvert_exporter": "python",
   "pygments_lexer": "ipython3",
   "version": "3.11.5"
  }
 },
 "nbformat": 4,
 "nbformat_minor": 4
}
