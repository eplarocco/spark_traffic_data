{
 "cells": [
  {
   "cell_type": "code",
   "execution_count": 1,
   "id": "1bf6ccc1-6317-482a-ac30-72c6eab49a0b",
   "metadata": {},
   "outputs": [],
   "source": [
    "# Import Libraries\n",
    "import pandas as pd\n",
    "import numpy as np\n",
    "import os\n",
    "import pyspark\n",
    "from pyspark.sql import SparkSession\n",
    "from pyspark.sql.types import *\n",
    "from pyspark.sql.functions import *\n",
    "from pyspark.ml.feature import StringIndexer, OneHotEncoder, VectorAssembler\n",
    "from pyspark.ml.stat import Correlation\n",
    "#import seaborn as sns\n",
    "import matplotlib.pyplot as plt\n",
    "import pyspark.sql.functions as F\n",
    "#import holidays\n",
    "from datetime import datetime, timezone\n",
    "from pyspark.ml.classification import RandomForestClassifier, BinaryLogisticRegressionSummary\n",
    "from pyspark.ml import Pipeline\n",
    "from pyspark.mllib.evaluation import MulticlassMetrics, BinaryClassificationMetrics\n",
    "from pyspark.ml.pipeline import PipelineModel"
   ]
  },
  {
   "cell_type": "code",
   "execution_count": 2,
   "id": "d0709727-12cd-4322-b2e8-5ceca8b3b502",
   "metadata": {},
   "outputs": [
    {
     "name": "stderr",
     "output_type": "stream",
     "text": [
      "/opt/conda/lib/python3.7/site-packages/pyspark/bin/load-spark-env.sh: line 68: ps: command not found\n",
      "Setting default log level to \"WARN\".\n",
      "To adjust logging level use sc.setLogLevel(newLevel). For SparkR, use setLogLevel(newLevel).\n"
     ]
    },
    {
     "name": "stdout",
     "output_type": "stream",
     "text": [
      "24/11/25 16:50:24 WARN NativeCodeLoader: Unable to load native-hadoop library for your platform... using builtin-java classes where applicable\n",
      "24/11/25 16:50:25 WARN Utils: Service 'SparkUI' could not bind on port 4040. Attempting port 4041.\n",
      "24/11/25 16:50:25 WARN Utils: Service 'SparkUI' could not bind on port 4041. Attempting port 4042.\n",
      "24/11/25 16:50:25 WARN Utils: Service 'SparkUI' could not bind on port 4042. Attempting port 4043.\n",
      "24/11/25 16:50:25 WARN Utils: Service 'SparkUI' could not bind on port 4043. Attempting port 4044.\n"
     ]
    }
   ],
   "source": [
    "# Instantiate Spark Session\n",
    "spark = (SparkSession\n",
    "  .builder\n",
    "  .appName(\"US_Accidents\")\n",
    "  .getOrCreate())\n",
    "spark.sparkContext.setLogLevel(\"ERROR\") #supress warnings"
   ]
  },
  {
   "cell_type": "code",
   "execution_count": 3,
   "id": "c5a537b4-0516-49a4-a9d3-9957ecf6972b",
   "metadata": {},
   "outputs": [
    {
     "name": "stderr",
     "output_type": "stream",
     "text": [
      "                                                                                \r"
     ]
    }
   ],
   "source": [
    "# Read in Data\n",
    "df = spark.read.parquet(\"updated_dataset.parquet\")"
   ]
  },
  {
   "cell_type": "code",
   "execution_count": 4,
   "id": "c6be913b-8a20-494f-af35-4cc44879acb7",
   "metadata": {},
   "outputs": [
    {
     "name": "stderr",
     "output_type": "stream",
     "text": [
      "                                                                                \r"
     ]
    }
   ],
   "source": [
    "# Use StringIndexer for encoding the 'Severity' column\n",
    "indexer = StringIndexer(inputCol=\"Severity\", outputCol=\"SeverityIndex\")\n",
    "df = indexer.fit(df).transform(df)"
   ]
  },
  {
   "cell_type": "code",
   "execution_count": 5,
   "id": "bb96fd0f-7581-467f-a0c3-948425bd9ed5",
   "metadata": {},
   "outputs": [],
   "source": [
    "# Create list of features\n",
    "feature_list = []\n",
    "for col in df.columns:\n",
    "    if col == 'Severity':\n",
    "        continue\n",
    "    elif col == 'SeverityIndex':\n",
    "        continue\n",
    "    elif col == 'Percent_Age_65_over':\n",
    "        continue\n",
    "    elif col == 'Severity_Binary':\n",
    "        continue\n",
    "    else:\n",
    "        feature_list.append(col)"
   ]
  },
  {
   "cell_type": "code",
   "execution_count": 6,
   "id": "8117f0e8-de44-4430-aa72-8899adcaeae8",
   "metadata": {},
   "outputs": [],
   "source": [
    "# Split the data into train and test\n",
    "splits = df.randomSplit([0.8, 0.2], 314)\n",
    "train = splits[0]\n",
    "test = splits[1]"
   ]
  },
  {
   "cell_type": "code",
   "execution_count": 7,
   "id": "827fa4c6-689b-4ea8-9b72-5fdbf8d7ecb4",
   "metadata": {},
   "outputs": [
    {
     "name": "stderr",
     "output_type": "stream",
     "text": [
      "                                                                                \r"
     ]
    },
    {
     "name": "stdout",
     "output_type": "stream",
     "text": [
      "+--------+-----------+--------+--------+----------+----------+-------------+-------+---------+----+----+-------------+--------------------------+--------------------+---------+-------------------+------------+-----------+--------------------+--------------------+-----------+-----------------+---------------+-------------+\n",
      "|Severity|Temperature|Humidity|Pressure|Visibility|Wind_Speed|Precipitation|Weekday|Rush_Hour|Rain|Snow|    SeasonVec|Astronomical_TwilightIndex|Interstate_Indicator|Sex_ratio|Percent_Age_65_over|MedianIncome|Urban_Ratio|Traffic_Interference|Traffic_Intersection|Destination|Percent_Age_15-24|Severity_Binary|SeverityIndex|\n",
      "+--------+-----------+--------+--------+----------+----------+-------------+-------+---------+----+----+-------------+--------------------------+--------------------+---------+-------------------+------------+-----------+--------------------+--------------------+-----------+-----------------+---------------+-------------+\n",
      "|       2|        -23|      82|      29|        10|         5|            0|      1|        0|   0|   0|(3,[0],[1.0])|                         1|                   0|     91.3|               18.6|     49744.0|      0.705|                   0|                   1|          0|             11.6|              0|          0.0|\n",
      "|       2|        -13|      78|      29|        10|         6|            0|      1|        1|   0|   0|(3,[0],[1.0])|                         0|                   0|    115.5|               12.3|     62057.0|        1.0|                   0|                   0|          0|             12.7|              0|          0.0|\n",
      "|       2|         -6|      65|      30|        10|         3|            0|      1|        1|   0|   0|(3,[0],[1.0])|                         0|                   0|    124.4|               18.9|     58902.0|     0.5367|                   0|                   1|          0|        13.700001|              0|          0.0|\n",
      "|       2|          3|      76|      30|         6|         8|            0|      1|        1|   0|   1|(3,[0],[1.0])|                         0|                   0|     92.5|               14.6|     55010.0|     0.6684|                   0|                   0|          0|             26.9|              0|          0.0|\n",
      "|       2|          5|      70|      29|        10|         7|            0|      1|        1|   0|   0|(3,[0],[1.0])|                         0|                   0|     88.0|               14.9|     37961.0|     0.6815|                   0|                   1|          0|             31.3|              0|          0.0|\n",
      "|       2|          9|      92|      29|         2|         5|            0|      1|        1|   0|   1|(3,[0],[1.0])|                         0|                   0|    109.8|               18.1|     68889.0|        0.0|                   0|                   0|          0|              9.5|              0|          0.0|\n",
      "|       2|         12|      79|      29|        10|         3|            0|      1|        0|   0|   0|(3,[0],[1.0])|                         1|                   0|     92.0|               13.9|     67000.0|        0.0|                   0|                   0|          0|             14.9|              0|          0.0|\n",
      "|       2|         14|      79|      29|         2|        15|            0|      1|        1|   0|   1|(3,[0],[1.0])|                         0|                   0|     99.6|               14.1|     84444.0|     0.8162|                   0|                   1|          0|             13.5|              0|          0.0|\n",
      "|       2|         15|      49|      30|        10|         5|            0|      1|        1|   0|   0|(3,[0],[1.0])|                         0|                   0|     83.5|               42.2|    101250.0|        1.0|                   0|                   1|          0|              7.6|              0|          0.0|\n",
      "|       2|         15|      49|      30|        10|        16|            0|      1|        0|   0|   0|(3,[0],[1.0])|                         0|                   1|     89.5|               21.1|    102621.0|     0.9205|                   0|                   1|          0|              9.2|              0|          0.0|\n",
      "|       2|         15|      61|      30|        10|         3|            0|      1|        1|   0|   0|(3,[0],[1.0])|                         0|                   0|    103.6|               14.1|     99318.0|     0.9538|                   0|                   1|          0|             10.0|              0|          0.0|\n",
      "|       2|         15|      84|      25|        10|         7|            0|      1|        1|   0|   0|(3,[0],[1.0])|                         0|                   0|    107.8|               10.4|     39822.0|     0.9986|                   0|                   1|          0|             22.4|              0|          0.0|\n",
      "|       2|         16|      37|      30|        10|         6|            0|      0|        0|   0|   0|(3,[0],[1.0])|                         1|                   0|     98.6|               18.0|     95128.0|        1.0|                   0|                   1|          0|             11.3|              0|          0.0|\n",
      "|       2|         16|      73|      29|         3|        13|            0|      1|        1|   0|   1|(3,[0],[1.0])|                         0|                   0|     93.2|               16.4|    109593.0|        1.0|                   0|                   1|          1|             12.5|              0|          0.0|\n",
      "|       2|         17|      71|      30|         6|         8|            0|      1|        1|   0|   0|(3,[0],[1.0])|                         0|                   0|    103.7|               16.7|     83158.0|      0.725|                   0|                   0|          0|             11.5|              0|          0.0|\n",
      "|       2|         18|      62|      29|        10|        14|            0|      1|        0|   0|   0|(3,[0],[1.0])|                         1|                   0|     84.5|               10.3|     31330.0|        1.0|                   0|                   0|          0|             17.9|              0|          0.0|\n",
      "|       2|         18|      81|      29|        10|         5|            0|      1|        1|   0|   0|(3,[0],[1.0])|                         0|                   0|    100.8|               13.2|     53017.0|     0.9842|                   0|                   0|          0|        13.799999|              0|          0.0|\n",
      "|       2|         18|      88|      30|        10|         0|            0|      1|        1|   0|   0|(3,[0],[1.0])|                         0|                   1|     96.4|               15.1|     49911.0|        1.0|                   0|                   0|          0|             13.4|              0|          0.0|\n",
      "|       2|         19|      62|      29|        10|         6|            0|      1|        0|   0|   0|(3,[1],[1.0])|                         0|                   1|     98.4|               15.9|     73561.0|     0.7687|                   0|                   0|          0|              8.2|              0|          0.0|\n",
      "|       2|         19|      77|      29|         9|         9|            0|      1|        1|   0|   1|(3,[0],[1.0])|                         0|                   1|     97.3|               15.3|    109916.0|        1.0|                   0|                   0|          0|             11.0|              0|          0.0|\n",
      "+--------+-----------+--------+--------+----------+----------+-------------+-------+---------+----+----+-------------+--------------------------+--------------------+---------+-------------------+------------+-----------+--------------------+--------------------+-----------+-----------------+---------------+-------------+\n",
      "only showing top 20 rows\n",
      "\n"
     ]
    },
    {
     "name": "stderr",
     "output_type": "stream",
     "text": [
      "[Stage 14:======================================================> (90 + 2) / 92]\r"
     ]
    },
    {
     "name": "stdout",
     "output_type": "stream",
     "text": [
      "+-------------+-----+\n",
      "|SeverityIndex|count|\n",
      "+-------------+-----+\n",
      "|          0.0|52342|\n",
      "|          1.0|52713|\n",
      "|          3.0|52151|\n",
      "|          2.0|52124|\n",
      "+-------------+-----+\n",
      "\n"
     ]
    },
    {
     "name": "stderr",
     "output_type": "stream",
     "text": [
      "                                                                                \r"
     ]
    }
   ],
   "source": [
    "# Undersampling\n",
    "from pyspark.sql import functions as F\n",
    "\n",
    "# Step 1: Group by 'Severity' and count occurrences\n",
    "class_counts = train.groupBy(\"SeverityIndex\").count()\n",
    "\n",
    "# Step 2: Use PySpark's min() function to find the minimum count\n",
    "min_class_size = class_counts.agg(F.min('count')).collect()[0][0]\n",
    "\n",
    "undersampled_train_list = []\n",
    "\n",
    "for row in class_counts.collect():\n",
    "    class_label = row['SeverityIndex']\n",
    "    class_size = row['count']\n",
    "\n",
    "    if class_size > min_class_size:\n",
    "        # Sample the data for this class to the size of the minimum class\n",
    "        class_data = train.filter(F.col(\"SeverityIndex\") == class_label)\n",
    "        class_data_undersampled = class_data.sample(withReplacement=False, fraction=min_class_size / class_size)\n",
    "    else:\n",
    "        # For classes that are already at the minimum size, keep all samples\n",
    "        class_data_undersampled = train.filter(F.col(\"SeverityIndex\") == class_label)\n",
    "\n",
    "    undersampled_train_list.append(class_data_undersampled)\n",
    "\n",
    "# Combine all the undersampled DataFrames\n",
    "undersampled_train = undersampled_train_list[0]  # start with the first one\n",
    "for df in undersampled_train_list[1:]:\n",
    "    undersampled_train = undersampled_train.union(df)\n",
    "\n",
    "# Show the result\n",
    "undersampled_train.show()\n",
    "\n",
    "# Step 4: Group by 'Severity' and count the occurrences in the undersampled DataFrame\n",
    "undersampled_class_counts = undersampled_train.groupBy(\"SeverityIndex\").count()\n",
    "\n",
    "# Show the result\n",
    "undersampled_class_counts.show()"
   ]
  },
  {
   "cell_type": "code",
   "execution_count": 8,
   "id": "2d79048b-55fa-4cac-9ce6-00d115340220",
   "metadata": {},
   "outputs": [],
   "source": [
    "# Assemble data for logistic regression model\n",
    "assembler = VectorAssembler(inputCols=feature_list,\n",
    "                            outputCol=\"features\")\n",
    "\n",
    "undersampled_train = assembler.transform(undersampled_train)\n",
    "test = assembler.transform(test)"
   ]
  },
  {
   "cell_type": "code",
   "execution_count": 9,
   "id": "2b5e00b4-277f-4dff-b480-5bcb8acdc8bc",
   "metadata": {},
   "outputs": [
    {
     "name": "stderr",
     "output_type": "stream",
     "text": [
      "                                                                                \r"
     ]
    }
   ],
   "source": [
    "# Standardize the predictors\n",
    "from pyspark.ml.feature import StandardScaler\n",
    "scaler = StandardScaler(inputCol=\"features\", outputCol=\"scaledFeatures\")\n",
    "scalerModel = scaler.fit(undersampled_train)\n",
    "scaledTrainData = scalerModel.transform(undersampled_train)\n",
    "scaledTestData = scalerModel.transform(test)"
   ]
  },
  {
   "cell_type": "code",
   "execution_count": 10,
   "id": "54cb60dc-688a-45e9-b2fe-bf00d4ec87f0",
   "metadata": {},
   "outputs": [
    {
     "name": "stderr",
     "output_type": "stream",
     "text": [
      "                                                                                \r"
     ]
    },
    {
     "name": "stdout",
     "output_type": "stream",
     "text": [
      "Detected number of classes: 4\n",
      "Coefficients: DenseMatrix([[-0.01535203, -0.07771077,  0.02900158, -0.0395356 , -0.01335747,\n",
      "               0.00127593, -0.03030915, -0.04204765, -0.00521594,  0.03744643,\n",
      "               0.53236912,  0.33755861,  0.0145898 , -0.00265437, -0.10387264,\n",
      "               0.01830614,  0.00832662,  0.03907761, -0.01406766, -0.02794902,\n",
      "               0.05597076, -0.00463153],\n",
      "             [-0.15203171, -0.08135302,  0.2372783 ,  0.00142537,  0.12656997,\n",
      "               0.01151765, -0.06536104, -0.02004108,  0.0460596 ,  0.03055869,\n",
      "               0.2162541 ,  0.14746512, -0.12588635, -0.12666493,  0.47611364,\n",
      "               0.05620413, -0.00227854,  0.31354131,  0.00372466, -0.25882526,\n",
      "              -0.09518667,  0.0120879 ],\n",
      "             [-0.23604786, -0.04465524,  0.01187624,  0.02312477,  0.06825389,\n",
      "              -0.01131506, -0.13759544, -0.16098133,  0.00753468,  0.04000024,\n",
      "               0.22535414,  0.14520307, -0.06086471,  0.17168724, -0.00900985,\n",
      "              -0.00420524, -0.02567264, -0.45618453,  0.00206498, -0.01817997,\n",
      "              -0.00410695, -0.02167564],\n",
      "             [ 0.4034316 ,  0.20371904, -0.27815613,  0.01498546, -0.1814664 ,\n",
      "              -0.00147851,  0.23326564,  0.22307006, -0.04837835, -0.10800537,\n",
      "              -0.97397736, -0.6302268 ,  0.17216127, -0.04236794, -0.36323115,\n",
      "              -0.07030504,  0.01962455,  0.10356562,  0.00827802,  0.30495424,\n",
      "               0.04332286,  0.01421926]])\n",
      "Intercept: [-0.46446014373395283,-6.544683799379801,2.225099583101191,4.784044360012563]\n"
     ]
    }
   ],
   "source": [
    "# Fit logistic regression model with intercept\n",
    "from pyspark.ml.classification import LogisticRegression\n",
    "\n",
    "# instantiate the model\n",
    "lr = LogisticRegression(labelCol='SeverityIndex',\n",
    "                        featuresCol='scaledFeatures',\n",
    "                        #maxIter=10, \n",
    "                        #regParam=0.3, \n",
    "                        #elasticNetParam=0.8,\n",
    "                        family=\"multinomial\")\n",
    "\n",
    "# Fit the model\n",
    "lrModel = lr.fit(scaledTrainData)\n",
    "print(f\"Detected number of classes: {lrModel.numClasses}\")\n",
    "\n",
    "# Print the coefficients and intercept for logistic regression\n",
    "print(\"Coefficients: \" + str(lrModel.coefficientMatrix))\n",
    "print(\"Intercept: \" + str(lrModel.interceptVector))"
   ]
  },
  {
   "cell_type": "code",
   "execution_count": 11,
   "id": "c9646a1f-7a43-4a74-8e3d-e64dd3a11062",
   "metadata": {},
   "outputs": [
    {
     "name": "stderr",
     "output_type": "stream",
     "text": [
      "                                                                                \r"
     ]
    },
    {
     "name": "stdout",
     "output_type": "stream",
     "text": [
      "+----------+\n",
      "|prediction|\n",
      "+----------+\n",
      "|       0.0|\n",
      "|       1.0|\n",
      "|       3.0|\n",
      "|       2.0|\n",
      "+----------+\n",
      "\n"
     ]
    },
    {
     "name": "stderr",
     "output_type": "stream",
     "text": [
      "[Stage 89:================================================>       (20 + 3) / 23]\r"
     ]
    },
    {
     "name": "stdout",
     "output_type": "stream",
     "text": [
      "Accuracy: 0.3916643192287884\n"
     ]
    },
    {
     "name": "stderr",
     "output_type": "stream",
     "text": [
      "                                                                                \r"
     ]
    }
   ],
   "source": [
    "from pyspark.ml.evaluation import MulticlassClassificationEvaluator\n",
    "\n",
    "# compute predictions. this will append column \"prediction\" to dataframe\n",
    "lrPred = lrModel.transform(scaledTestData)\n",
    "lrPred.select(\"prediction\").distinct().show()\n",
    "\n",
    "evaluator = MulticlassClassificationEvaluator(labelCol='SeverityIndex', predictionCol='prediction', metricName='accuracy')\n",
    "accuracy = evaluator.evaluate(lrPred, {evaluator.metricName: \"accuracy\"})\n",
    "print(f'Accuracy: {accuracy}')"
   ]
  },
  {
   "cell_type": "code",
   "execution_count": 12,
   "id": "e3e81050-0bf6-4e42-b0c8-f7ebe09b0971",
   "metadata": {},
   "outputs": [
    {
     "name": "stderr",
     "output_type": "stream",
     "text": [
      "[Stage 95:================================================>       (20 + 3) / 23]\r"
     ]
    },
    {
     "name": "stdout",
     "output_type": "stream",
     "text": [
      "Precision: 0.7672979863922509\n",
      "Recall: 0.3916643192287884\n",
      "F1 Score: 0.4826903931025241\n"
     ]
    },
    {
     "name": "stderr",
     "output_type": "stream",
     "text": [
      "                                                                                \r"
     ]
    }
   ],
   "source": [
    "precision = evaluator.evaluate(lrPred, {evaluator.metricName: 'weightedPrecision'})\n",
    "recall = evaluator.evaluate(lrPred, {evaluator.metricName: 'weightedRecall'})\n",
    "f1_score = evaluator.evaluate(lrPred, {evaluator.metricName: 'f1'})\n",
    "\n",
    "print(f'Precision: {precision}')\n",
    "print(f'Recall: {recall}')\n",
    "print(f'F1 Score: {f1_score}')"
   ]
  },
  {
   "cell_type": "code",
   "execution_count": 13,
   "id": "05e473cd-b658-4a72-ba3a-f5d2752719eb",
   "metadata": {},
   "outputs": [
    {
     "name": "stderr",
     "output_type": "stream",
     "text": [
      "[Stage 97:================================================>       (20 + 3) / 23]\r"
     ]
    },
    {
     "name": "stdout",
     "output_type": "stream",
     "text": [
      "+-------------+-------------------+\n",
      "|SeverityIndex|           accuracy|\n",
      "+-------------+-------------------+\n",
      "|          0.0|0.36541423681961704|\n",
      "|          1.0|0.49722700409959714|\n",
      "|          3.0| 0.7790778231083058|\n",
      "|          2.0|0.41619675060018985|\n",
      "+-------------+-------------------+\n",
      "\n"
     ]
    },
    {
     "name": "stderr",
     "output_type": "stream",
     "text": [
      "                                                                                \r"
     ]
    }
   ],
   "source": [
    "# Add a column to indicate correct or incorrect predictions\n",
    "predictions = lrPred.withColumn(\n",
    "    'is_correct', F.expr(\"CASE WHEN SeverityIndex = prediction THEN 1 ELSE 0 END\")\n",
    ")\n",
    "\n",
    "# Calculate accuracy by class\n",
    "accuracy_by_class = predictions.groupBy('SeverityIndex').agg(\n",
    "    (F.sum('is_correct') / F.count('SeverityIndex')).alias('accuracy')\n",
    ")\n",
    "\n",
    "# Show per-class accuracy\n",
    "accuracy_by_class.show()"
   ]
  },
  {
   "cell_type": "code",
   "execution_count": 14,
   "id": "3fce0c2c-f792-47cd-9e69-bdbbe886c5a5",
   "metadata": {},
   "outputs": [
    {
     "name": "stderr",
     "output_type": "stream",
     "text": [
      "[Stage 153:===============================================>       (20 + 3) / 23]\r"
     ]
    },
    {
     "name": "stdout",
     "output_type": "stream",
     "text": [
      "Class 0.0 - Precision: 0.8865, Recall: 0.3654, F1 Score: 0.5175\n",
      "Class 1.0 - Precision: 0.3233, Recall: 0.4972, F1 Score: 0.3918\n",
      "Class 2.0 - Precision: 0.0632, Recall: 0.4162, F1 Score: 0.1097\n",
      "Class 3.0 - Precision: 0.0284, Recall: 0.7791, F1 Score: 0.0548\n"
     ]
    },
    {
     "name": "stderr",
     "output_type": "stream",
     "text": [
      "                                                                                \r"
     ]
    }
   ],
   "source": [
    "# Calculate metrics by class\n",
    "labels = lrPred.select('SeverityIndex').distinct().orderBy('SeverityIndex').rdd.flatMap(lambda x: x).collect()\n",
    "\n",
    "metrics = {}\n",
    "for label in labels:\n",
    "    # Filter predictions for the current label\n",
    "    true_positive = lrPred.filter((F.col('SeverityIndex') == label) & (F.col('prediction') == label)).count()\n",
    "    false_positive = lrPred.filter((F.col('SeverityIndex') != label) & (F.col('prediction') == label)).count()\n",
    "    false_negative = lrPred.filter((F.col('SeverityIndex') == label) & (F.col('prediction') != label)).count()\n",
    "    true_negative = lrPred.filter((F.col('SeverityIndex') != label) & (F.col('prediction') != label)).count()\n",
    "\n",
    "    # Precision, Recall, and F1 Score\n",
    "    precision = true_positive / (true_positive + false_positive) if (true_positive + false_positive) > 0 else 0.0\n",
    "    recall = true_positive / (true_positive + false_negative) if (true_positive + false_negative) > 0 else 0.0\n",
    "    f1_score = 2 * precision * recall / (precision + recall) if (precision + recall) > 0 else 0.0\n",
    "\n",
    "    # Store metrics\n",
    "    metrics[label] = {'precision': precision, 'recall': recall, 'f1_score': f1_score}\n",
    "\n",
    "# Print metrics for each class\n",
    "for label, metric in metrics.items():\n",
    "    print(f\"Class {label} - Precision: {metric['precision']:.4f}, Recall: {metric['recall']:.4f}, F1 Score: {metric['f1_score']:.4f}\")"
   ]
  }
 ],
 "metadata": {
  "kernelspec": {
   "display_name": "DS7200 Spark 3.3",
   "language": "python",
   "name": "ds5110_spark3.3"
  },
  "language_info": {
   "codemirror_mode": {
    "name": "ipython",
    "version": 3
   },
   "file_extension": ".py",
   "mimetype": "text/x-python",
   "name": "python",
   "nbconvert_exporter": "python",
   "pygments_lexer": "ipython3",
   "version": "3.7.12"
  }
 },
 "nbformat": 4,
 "nbformat_minor": 5
}
