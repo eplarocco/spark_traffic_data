{
 "cells": [
  {
   "cell_type": "code",
   "execution_count": 1,
   "id": "1bf6ccc1-6317-482a-ac30-72c6eab49a0b",
   "metadata": {},
   "outputs": [],
   "source": [
    "# Import Libraries\n",
    "import pandas as pd\n",
    "import numpy as np\n",
    "import os\n",
    "import pyspark\n",
    "from pyspark.sql import SparkSession\n",
    "from pyspark.sql.types import *\n",
    "from pyspark.sql.functions import *\n",
    "from pyspark.ml.feature import StringIndexer, OneHotEncoder, VectorAssembler\n",
    "from pyspark.ml.stat import Correlation\n",
    "#import seaborn as sns\n",
    "import matplotlib.pyplot as plt\n",
    "import pyspark.sql.functions as F\n",
    "#import holidays\n",
    "from datetime import datetime, timezone\n",
    "from pyspark.ml.classification import RandomForestClassifier, BinaryLogisticRegressionSummary\n",
    "from pyspark.ml import Pipeline\n",
    "from pyspark.mllib.evaluation import MulticlassMetrics, BinaryClassificationMetrics\n",
    "from pyspark.ml.pipeline import PipelineModel"
   ]
  },
  {
   "cell_type": "code",
   "execution_count": 2,
   "id": "d0709727-12cd-4322-b2e8-5ceca8b3b502",
   "metadata": {},
   "outputs": [
    {
     "name": "stderr",
     "output_type": "stream",
     "text": [
      "/opt/conda/lib/python3.7/site-packages/pyspark/bin/load-spark-env.sh: line 68: ps: command not found\n",
      "Setting default log level to \"WARN\".\n",
      "To adjust logging level use sc.setLogLevel(newLevel). For SparkR, use setLogLevel(newLevel).\n"
     ]
    },
    {
     "name": "stdout",
     "output_type": "stream",
     "text": [
      "24/11/25 16:21:42 WARN NativeCodeLoader: Unable to load native-hadoop library for your platform... using builtin-java classes where applicable\n",
      "24/11/25 16:21:42 WARN Utils: Service 'SparkUI' could not bind on port 4040. Attempting port 4041.\n",
      "24/11/25 16:21:42 WARN Utils: Service 'SparkUI' could not bind on port 4041. Attempting port 4042.\n",
      "24/11/25 16:21:42 WARN Utils: Service 'SparkUI' could not bind on port 4042. Attempting port 4043.\n"
     ]
    }
   ],
   "source": [
    "# Instantiate Spark Session\n",
    "spark = (SparkSession\n",
    "  .builder\n",
    "  .appName(\"US_Accidents\")\n",
    "  .getOrCreate())\n",
    "spark.sparkContext.setLogLevel(\"ERROR\") #supress warnings"
   ]
  },
  {
   "cell_type": "code",
   "execution_count": 3,
   "id": "c5a537b4-0516-49a4-a9d3-9957ecf6972b",
   "metadata": {},
   "outputs": [],
   "source": [
    "# Read in Data\n",
    "df = spark.read.parquet(\"updated_dataset.parquet\")"
   ]
  },
  {
   "cell_type": "code",
   "execution_count": 4,
   "id": "c6be913b-8a20-494f-af35-4cc44879acb7",
   "metadata": {},
   "outputs": [
    {
     "name": "stderr",
     "output_type": "stream",
     "text": [
      "                                                                                \r"
     ]
    }
   ],
   "source": [
    "# Use StringIndexer for encoding the 'Severity' column\n",
    "indexer = StringIndexer(inputCol=\"Severity\", outputCol=\"SeverityIndex\")\n",
    "df = indexer.fit(df).transform(df)"
   ]
  },
  {
   "cell_type": "code",
   "execution_count": 5,
   "id": "bb96fd0f-7581-467f-a0c3-948425bd9ed5",
   "metadata": {},
   "outputs": [],
   "source": [
    "# Create list of features\n",
    "feature_list = []\n",
    "for col in df.columns:\n",
    "    if col == 'Severity':\n",
    "        continue\n",
    "    elif col == 'SeverityIndex':\n",
    "        continue\n",
    "    elif col == 'Interstate_Indicator':\n",
    "        continue\n",
    "    elif col == 'Severity_Binary':\n",
    "        continue\n",
    "    else:\n",
    "        feature_list.append(col)"
   ]
  },
  {
   "cell_type": "code",
   "execution_count": 6,
   "id": "8117f0e8-de44-4430-aa72-8899adcaeae8",
   "metadata": {},
   "outputs": [],
   "source": [
    "# Split the data into train and test\n",
    "splits = df.randomSplit([0.8, 0.2], 314)\n",
    "train = splits[0]\n",
    "test = splits[1]"
   ]
  },
  {
   "cell_type": "code",
   "execution_count": 7,
   "id": "827fa4c6-689b-4ea8-9b72-5fdbf8d7ecb4",
   "metadata": {},
   "outputs": [
    {
     "name": "stderr",
     "output_type": "stream",
     "text": [
      "                                                                                \r"
     ]
    },
    {
     "name": "stdout",
     "output_type": "stream",
     "text": [
      "+--------+-----------+--------+--------+----------+----------+-------------+-------+---------+----+----+-------------+--------------------------+--------------------+---------+-------------------+------------+-----------+--------------------+--------------------+-----------+-----------------+---------------+-------------+\n",
      "|Severity|Temperature|Humidity|Pressure|Visibility|Wind_Speed|Precipitation|Weekday|Rush_Hour|Rain|Snow|    SeasonVec|Astronomical_TwilightIndex|Interstate_Indicator|Sex_ratio|Percent_Age_65_over|MedianIncome|Urban_Ratio|Traffic_Interference|Traffic_Intersection|Destination|Percent_Age_15-24|Severity_Binary|SeverityIndex|\n",
      "+--------+-----------+--------+--------+----------+----------+-------------+-------+---------+----+----+-------------+--------------------------+--------------------+---------+-------------------+------------+-----------+--------------------+--------------------+-----------+-----------------+---------------+-------------+\n",
      "|       2|          4|      55|      30|        10|         6|            0|      1|        1|   0|   0|(3,[0],[1.0])|                         0|                   0|     98.3|               16.1|     89995.0|     0.9801|                   0|                   1|          0|             13.9|              0|          0.0|\n",
      "|       2|          5|      46|      30|        10|        12|            0|      1|        1|   0|   0|(3,[0],[1.0])|                         0|                   1|     93.3|               14.8|    151334.0|     0.9977|                   0|                   1|          0|             13.7|              0|          0.0|\n",
      "|       2|          7|      92|      30|        10|         0|            0|      1|        1|   0|   0|(3,[0],[1.0])|                         0|                   0|    100.0|               11.0|    242083.0|        1.0|                   0|                   1|          0|             15.5|              0|          0.0|\n",
      "|       2|         10|      80|      29|         1|         7|            0|      1|        1|   0|   1|(3,[0],[1.0])|                         0|                   1|     90.6|               12.6|    109008.0|        1.0|                   0|                   0|          0|              8.4|              0|          0.0|\n",
      "|       2|         10|      87|      30|         9|         3|            0|      1|        0|   0|   1|(3,[0],[1.0])|                         0|                   0|    112.0|               19.4|     30542.0|        1.0|                   0|                   1|          0|             12.1|              0|          0.0|\n",
      "|       2|         12|      44|      30|        10|        13|            0|      1|        1|   0|   0|(3,[0],[1.0])|                         0|                   0|     94.5|               16.2|    146380.0|        1.0|                   0|                   1|          0|        14.299999|              0|          0.0|\n",
      "|       2|         12|      73|      29|        10|        21|            0|      1|        0|   0|   0|(3,[0],[1.0])|                         0|                   0|    100.2|               19.3|     59097.0|        0.0|                   0|                   0|          0|             13.7|              0|          0.0|\n",
      "|       2|         13|      65|      30|        10|         3|            0|      1|        0|   0|   0|(3,[0],[1.0])|                         0|                   0|     92.8|               13.4|     78034.0|        1.0|                   0|                   0|          0|             12.4|              0|          0.0|\n",
      "|       2|         14|      71|      24|        10|         8|            0|      1|        1|   0|   0|(3,[1],[1.0])|                         0|                   0|    104.6|               12.9|     60674.0|        1.0|                   0|                   0|          0|             14.5|              0|          0.0|\n",
      "|       2|         15|      80|      30|         5|         3|            0|      1|        1|   0|   0|(3,[0],[1.0])|                         0|                   0|    133.5|                8.0|     54661.0|        1.0|                   0|                   1|          0|             11.5|              0|          0.0|\n",
      "|       2|         16|      58|      29|        20|        16|            0|      1|        1|   0|   0|(3,[0],[1.0])|                         0|                   1|     81.1|               24.8|     82961.0|        1.0|                   0|                   0|          0|              9.1|              0|          0.0|\n",
      "|       2|         16|      73|      29|         7|         0|            0|      1|        1|   0|   0|(3,[0],[1.0])|                         0|                   0|     90.5|               10.5|     24557.0|        1.0|                   0|                   1|          1|             13.6|              0|          0.0|\n",
      "|       2|         18|      68|      30|        10|         7|            0|      1|        1|   0|   0|(3,[0],[1.0])|                         0|                   0|     89.1|               15.2|    110575.0|        1.0|                   0|                   0|          0|             13.4|              0|          0.0|\n",
      "|       2|         19|      59|      29|        10|         7|            0|      1|        1|   0|   0|(3,[0],[1.0])|                         0|                   0|     97.3|               19.4|     45957.0|     0.9752|                   0|                   0|          0|        11.200001|              0|          0.0|\n",
      "|       2|         19|      93|      25|         4|         3|            0|      1|        1|   0|   0|(3,[0],[1.0])|                         0|                   1|    109.0|                6.6|     73488.0|     0.6908|                   0|                   0|          0|        15.400001|              0|          0.0|\n",
      "|       2|         20|      50|      30|        10|         5|            0|      1|        0|   0|   0|(3,[0],[1.0])|                         0|                   0|    111.8|               19.9|     82196.0|     0.9082|                   1|                   1|          0|             10.5|              0|          0.0|\n",
      "|       2|         20|      52|      30|        10|         6|            0|      1|        1|   0|   0|(3,[0],[1.0])|                         0|                   0|     97.8|               17.8|     96062.0|     0.9876|                   0|                   0|          0|             11.4|              0|          0.0|\n",
      "|       2|         21|      88|      29|         1|         7|            0|      1|        0|   0|   1|(3,[0],[1.0])|                         1|                   0|     93.5|               14.5|     31685.0|     0.9808|                   0|                   0|          0|             16.0|              0|          0.0|\n",
      "|       2|         22|      60|      29|        10|         8|            0|      1|        1|   0|   0|(3,[0],[1.0])|                         0|                   0|     82.3|               17.1|     35629.0|        1.0|                   0|                   1|          1|        11.299999|              0|          0.0|\n",
      "|       2|         22|      86|      29|         1|         7|            0|      1|        0|   0|   1|(3,[0],[1.0])|                         0|                   1|     82.9|               22.8|     48481.0|        1.0|                   0|                   0|          0|             11.5|              0|          0.0|\n",
      "+--------+-----------+--------+--------+----------+----------+-------------+-------+---------+----+----+-------------+--------------------------+--------------------+---------+-------------------+------------+-----------+--------------------+--------------------+-----------+-----------------+---------------+-------------+\n",
      "only showing top 20 rows\n",
      "\n"
     ]
    },
    {
     "name": "stderr",
     "output_type": "stream",
     "text": [
      "[Stage 14:======================================================> (90 + 2) / 92]\r"
     ]
    },
    {
     "name": "stdout",
     "output_type": "stream",
     "text": [
      "+-------------+-----+\n",
      "|SeverityIndex|count|\n",
      "+-------------+-----+\n",
      "|          0.0|52335|\n",
      "|          1.0|52323|\n",
      "|          3.0|52151|\n",
      "|          2.0|52457|\n",
      "+-------------+-----+\n",
      "\n"
     ]
    },
    {
     "name": "stderr",
     "output_type": "stream",
     "text": [
      "                                                                                \r"
     ]
    }
   ],
   "source": [
    "# Undersampling\n",
    "from pyspark.sql import functions as F\n",
    "\n",
    "# Step 1: Group by 'Severity' and count occurrences\n",
    "class_counts = train.groupBy(\"SeverityIndex\").count()\n",
    "\n",
    "# Step 2: Use PySpark's min() function to find the minimum count\n",
    "min_class_size = class_counts.agg(F.min('count')).collect()[0][0]\n",
    "\n",
    "undersampled_train_list = []\n",
    "\n",
    "for row in class_counts.collect():\n",
    "    class_label = row['SeverityIndex']\n",
    "    class_size = row['count']\n",
    "\n",
    "    if class_size > min_class_size:\n",
    "        # Sample the data for this class to the size of the minimum class\n",
    "        class_data = train.filter(F.col(\"SeverityIndex\") == class_label)\n",
    "        class_data_undersampled = class_data.sample(withReplacement=False, fraction=min_class_size / class_size)\n",
    "    else:\n",
    "        # For classes that are already at the minimum size, keep all samples\n",
    "        class_data_undersampled = train.filter(F.col(\"SeverityIndex\") == class_label)\n",
    "\n",
    "    undersampled_train_list.append(class_data_undersampled)\n",
    "\n",
    "# Combine all the undersampled DataFrames\n",
    "undersampled_train = undersampled_train_list[0]  # start with the first one\n",
    "for df in undersampled_train_list[1:]:\n",
    "    undersampled_train = undersampled_train.union(df)\n",
    "\n",
    "# Show the result\n",
    "undersampled_train.show()\n",
    "\n",
    "# Step 4: Group by 'Severity' and count the occurrences in the undersampled DataFrame\n",
    "undersampled_class_counts = undersampled_train.groupBy(\"SeverityIndex\").count()\n",
    "\n",
    "# Show the result\n",
    "undersampled_class_counts.show()"
   ]
  },
  {
   "cell_type": "code",
   "execution_count": 8,
   "id": "2d79048b-55fa-4cac-9ce6-00d115340220",
   "metadata": {},
   "outputs": [],
   "source": [
    "# Assemble data for logistic regression model\n",
    "assembler = VectorAssembler(inputCols=feature_list,\n",
    "                            outputCol=\"features\")\n",
    "\n",
    "undersampled_train = assembler.transform(undersampled_train)\n",
    "test = assembler.transform(test)"
   ]
  },
  {
   "cell_type": "code",
   "execution_count": 9,
   "id": "2b5e00b4-277f-4dff-b480-5bcb8acdc8bc",
   "metadata": {},
   "outputs": [
    {
     "name": "stderr",
     "output_type": "stream",
     "text": [
      "                                                                                \r"
     ]
    }
   ],
   "source": [
    "# Standardize the predictors\n",
    "from pyspark.ml.feature import StandardScaler\n",
    "scaler = StandardScaler(inputCol=\"features\", outputCol=\"scaledFeatures\")\n",
    "scalerModel = scaler.fit(undersampled_train)\n",
    "scaledTrainData = scalerModel.transform(undersampled_train)\n",
    "scaledTestData = scalerModel.transform(test)"
   ]
  },
  {
   "cell_type": "code",
   "execution_count": 10,
   "id": "54cb60dc-688a-45e9-b2fe-bf00d4ec87f0",
   "metadata": {},
   "outputs": [
    {
     "name": "stderr",
     "output_type": "stream",
     "text": [
      "                                                                                \r"
     ]
    },
    {
     "name": "stdout",
     "output_type": "stream",
     "text": [
      "Detected number of classes: 4\n",
      "Coefficients: DenseMatrix([[-3.99007013e-03, -7.39859697e-02,  3.23770159e-02,\n",
      "              -3.29849856e-02, -1.62496728e-02,  4.05501590e-03,\n",
      "              -3.88910850e-02, -4.53522175e-02, -1.23516505e-02,\n",
      "               3.51284387e-02,  5.37438651e-01,  3.42982298e-01,\n",
      "               1.70893482e-02,  1.05013094e-03,  2.31779576e-02,\n",
      "               2.82092092e-02,  1.54856188e-02,  3.20403582e-02,\n",
      "              -9.12837726e-03, -1.50836406e-02,  7.59515550e-02,\n",
      "               7.60567229e-03],\n",
      "             [-1.59204241e-01, -7.05487610e-02,  2.21185460e-01,\n",
      "              -5.89348667e-03,  1.38246073e-01,  9.52408525e-03,\n",
      "              -7.97341495e-02, -2.19843565e-02,  5.65759767e-02,\n",
      "               5.19873154e-02,  2.16740580e-01,  1.49972009e-01,\n",
      "              -1.15988794e-01, -1.21865734e-01,  6.03497644e-02,\n",
      "              -1.35477367e-01, -3.77457585e-03,  3.19994329e-01,\n",
      "               5.70012211e-04, -3.34243472e-01, -1.32094835e-01,\n",
      "              -3.47433862e-02],\n",
      "             [-2.49398971e-01, -5.00200015e-02,  1.56334057e-02,\n",
      "               2.81752810e-02,  6.82616436e-02, -4.73887743e-03,\n",
      "              -1.36628260e-01, -1.68683653e-01,  1.40021585e-02,\n",
      "               3.29080906e-02,  2.19326495e-01,  1.42656865e-01,\n",
      "              -6.78624723e-02,  1.65752064e-01,  7.11218559e-03,\n",
      "               9.58897510e-02, -1.91864910e-02, -4.38739363e-01,\n",
      "              -2.47126014e-03, -9.77731282e-03, -5.63402450e-03,\n",
      "               1.49902118e-02],\n",
      "             [ 4.12593283e-01,  1.94554732e-01, -2.69195882e-01,\n",
      "               1.07031913e-02, -1.90258043e-01, -8.84022372e-03,\n",
      "               2.55253494e-01,  2.36020227e-01, -5.82264847e-02,\n",
      "              -1.20023845e-01, -9.73505726e-01, -6.35611171e-01,\n",
      "               1.66761918e-01, -4.49364616e-02, -9.06399076e-02,\n",
      "               1.13784069e-02,  7.47544806e-03,  8.67046757e-02,\n",
      "               1.10296252e-02,  3.59104425e-01,  6.17773044e-02,\n",
      "               1.21475021e-02]])\n",
      "Intercept: [-0.8020439950629317,-5.235276623773238,1.7228961861176502,4.3144244327185195]\n"
     ]
    }
   ],
   "source": [
    "# Fit logistic regression model with intercept\n",
    "from pyspark.ml.classification import LogisticRegression\n",
    "\n",
    "# instantiate the model\n",
    "lr = LogisticRegression(labelCol='SeverityIndex',\n",
    "                        featuresCol='scaledFeatures',\n",
    "                        #maxIter=10, \n",
    "                        #regParam=0.3, \n",
    "                        #elasticNetParam=0.8,\n",
    "                        family=\"multinomial\")\n",
    "\n",
    "# Fit the model\n",
    "lrModel = lr.fit(scaledTrainData)\n",
    "print(f\"Detected number of classes: {lrModel.numClasses}\")\n",
    "\n",
    "# Print the coefficients and intercept for logistic regression\n",
    "print(\"Coefficients: \" + str(lrModel.coefficientMatrix))\n",
    "print(\"Intercept: \" + str(lrModel.interceptVector))"
   ]
  },
  {
   "cell_type": "code",
   "execution_count": 11,
   "id": "c9646a1f-7a43-4a74-8e3d-e64dd3a11062",
   "metadata": {},
   "outputs": [
    {
     "name": "stderr",
     "output_type": "stream",
     "text": [
      "                                                                                \r"
     ]
    },
    {
     "name": "stdout",
     "output_type": "stream",
     "text": [
      "+----------+\n",
      "|prediction|\n",
      "+----------+\n",
      "|       0.0|\n",
      "|       1.0|\n",
      "|       3.0|\n",
      "|       2.0|\n",
      "+----------+\n",
      "\n"
     ]
    },
    {
     "name": "stderr",
     "output_type": "stream",
     "text": [
      "[Stage 91:===================================================>    (21 + 2) / 23]\r"
     ]
    },
    {
     "name": "stdout",
     "output_type": "stream",
     "text": [
      "Accuracy: 0.3203121665571196\n"
     ]
    },
    {
     "name": "stderr",
     "output_type": "stream",
     "text": [
      "                                                                                \r"
     ]
    }
   ],
   "source": [
    "from pyspark.ml.evaluation import MulticlassClassificationEvaluator\n",
    "\n",
    "# compute predictions. this will append column \"prediction\" to dataframe\n",
    "lrPred = lrModel.transform(scaledTestData)\n",
    "lrPred.select(\"prediction\").distinct().show()\n",
    "\n",
    "evaluator = MulticlassClassificationEvaluator(labelCol='SeverityIndex', predictionCol='prediction', metricName='accuracy')\n",
    "accuracy = evaluator.evaluate(lrPred, {evaluator.metricName: \"accuracy\"})\n",
    "print(f'Accuracy: {accuracy}')"
   ]
  },
  {
   "cell_type": "code",
   "execution_count": 12,
   "id": "e3e81050-0bf6-4e42-b0c8-f7ebe09b0971",
   "metadata": {},
   "outputs": [
    {
     "name": "stderr",
     "output_type": "stream",
     "text": [
      "[Stage 97:================================================>       (20 + 3) / 23]\r"
     ]
    },
    {
     "name": "stdout",
     "output_type": "stream",
     "text": [
      "Precision: 0.7433925024619567\n",
      "Recall: 0.3203121665571196\n",
      "F1 Score: 0.39657064720704005\n"
     ]
    },
    {
     "name": "stderr",
     "output_type": "stream",
     "text": [
      "                                                                                \r"
     ]
    }
   ],
   "source": [
    "precision = evaluator.evaluate(lrPred, {evaluator.metricName: 'weightedPrecision'})\n",
    "recall = evaluator.evaluate(lrPred, {evaluator.metricName: 'weightedRecall'})\n",
    "f1_score = evaluator.evaluate(lrPred, {evaluator.metricName: 'f1'})\n",
    "\n",
    "print(f'Precision: {precision}')\n",
    "print(f'Recall: {recall}')\n",
    "print(f'F1 Score: {f1_score}')"
   ]
  },
  {
   "cell_type": "code",
   "execution_count": 13,
   "id": "05e473cd-b658-4a72-ba3a-f5d2752719eb",
   "metadata": {},
   "outputs": [
    {
     "name": "stderr",
     "output_type": "stream",
     "text": [
      "[Stage 99:===================================================>    (21 + 2) / 23]\r"
     ]
    },
    {
     "name": "stdout",
     "output_type": "stream",
     "text": [
      "+-------------+------------------+\n",
      "|SeverityIndex|          accuracy|\n",
      "+-------------+------------------+\n",
      "|          0.0|0.2816495770983583|\n",
      "|          1.0|0.4701137593838181|\n",
      "|          3.0|0.7451312447078747|\n",
      "|          2.0|0.4450337781251745|\n",
      "+-------------+------------------+\n",
      "\n"
     ]
    },
    {
     "name": "stderr",
     "output_type": "stream",
     "text": [
      "                                                                                \r"
     ]
    }
   ],
   "source": [
    "# Add a column to indicate correct or incorrect predictions\n",
    "predictions = lrPred.withColumn(\n",
    "    'is_correct', F.expr(\"CASE WHEN SeverityIndex = prediction THEN 1 ELSE 0 END\")\n",
    ")\n",
    "\n",
    "# Calculate accuracy by class\n",
    "accuracy_by_class = predictions.groupBy('SeverityIndex').agg(\n",
    "    (F.sum('is_correct') / F.count('SeverityIndex')).alias('accuracy')\n",
    ")\n",
    "\n",
    "# Show per-class accuracy\n",
    "accuracy_by_class.show()"
   ]
  },
  {
   "cell_type": "code",
   "execution_count": 14,
   "id": "3fce0c2c-f792-47cd-9e69-bdbbe886c5a5",
   "metadata": {},
   "outputs": [
    {
     "name": "stderr",
     "output_type": "stream",
     "text": [
      "[Stage 155:==============================>                       (13 + 10) / 23]\r"
     ]
    },
    {
     "name": "stdout",
     "output_type": "stream",
     "text": [
      "Class 0.0 - Precision: 0.8743, Recall: 0.2816, F1 Score: 0.4260\n",
      "Class 1.0 - Precision: 0.2358, Recall: 0.4701, F1 Score: 0.3140\n",
      "Class 2.0 - Precision: 0.0616, Recall: 0.4450, F1 Score: 0.1082\n",
      "Class 3.0 - Precision: 0.0291, Recall: 0.7451, F1 Score: 0.0560\n"
     ]
    },
    {
     "name": "stderr",
     "output_type": "stream",
     "text": [
      "                                                                                \r"
     ]
    }
   ],
   "source": [
    "# Calculate metrics by class\n",
    "labels = lrPred.select('SeverityIndex').distinct().orderBy('SeverityIndex').rdd.flatMap(lambda x: x).collect()\n",
    "\n",
    "metrics = {}\n",
    "for label in labels:\n",
    "    # Filter predictions for the current label\n",
    "    true_positive = lrPred.filter((F.col('SeverityIndex') == label) & (F.col('prediction') == label)).count()\n",
    "    false_positive = lrPred.filter((F.col('SeverityIndex') != label) & (F.col('prediction') == label)).count()\n",
    "    false_negative = lrPred.filter((F.col('SeverityIndex') == label) & (F.col('prediction') != label)).count()\n",
    "    true_negative = lrPred.filter((F.col('SeverityIndex') != label) & (F.col('prediction') != label)).count()\n",
    "\n",
    "    # Precision, Recall, and F1 Score\n",
    "    precision = true_positive / (true_positive + false_positive) if (true_positive + false_positive) > 0 else 0.0\n",
    "    recall = true_positive / (true_positive + false_negative) if (true_positive + false_negative) > 0 else 0.0\n",
    "    f1_score = 2 * precision * recall / (precision + recall) if (precision + recall) > 0 else 0.0\n",
    "\n",
    "    # Store metrics\n",
    "    metrics[label] = {'precision': precision, 'recall': recall, 'f1_score': f1_score}\n",
    "\n",
    "# Print metrics for each class\n",
    "for label, metric in metrics.items():\n",
    "    print(f\"Class {label} - Precision: {metric['precision']:.4f}, Recall: {metric['recall']:.4f}, F1 Score: {metric['f1_score']:.4f}\")"
   ]
  }
 ],
 "metadata": {
  "kernelspec": {
   "display_name": "DS7200 Spark 3.3",
   "language": "python",
   "name": "ds5110_spark3.3"
  },
  "language_info": {
   "codemirror_mode": {
    "name": "ipython",
    "version": 3
   },
   "file_extension": ".py",
   "mimetype": "text/x-python",
   "name": "python",
   "nbconvert_exporter": "python",
   "pygments_lexer": "ipython3",
   "version": "3.7.12"
  }
 },
 "nbformat": 4,
 "nbformat_minor": 5
}
