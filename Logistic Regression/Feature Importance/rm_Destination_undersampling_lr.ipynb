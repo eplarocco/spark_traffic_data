{
 "cells": [
  {
   "cell_type": "code",
   "execution_count": 1,
   "id": "1bf6ccc1-6317-482a-ac30-72c6eab49a0b",
   "metadata": {},
   "outputs": [],
   "source": [
    "# Import Libraries\n",
    "import pandas as pd\n",
    "import numpy as np\n",
    "import os\n",
    "import pyspark\n",
    "from pyspark.sql import SparkSession\n",
    "from pyspark.sql.types import *\n",
    "from pyspark.sql.functions import *\n",
    "from pyspark.ml.feature import StringIndexer, OneHotEncoder, VectorAssembler\n",
    "from pyspark.ml.stat import Correlation\n",
    "import seaborn as sns\n",
    "import matplotlib.pyplot as plt\n",
    "import pyspark.sql.functions as F\n",
    "import holidays\n",
    "from datetime import datetime, timezone\n",
    "from pyspark.ml.classification import RandomForestClassifier, BinaryLogisticRegressionSummary\n",
    "from pyspark.ml import Pipeline\n",
    "from pyspark.mllib.evaluation import MulticlassMetrics, BinaryClassificationMetrics\n",
    "from pyspark.ml.pipeline import PipelineModel"
   ]
  },
  {
   "cell_type": "code",
   "execution_count": 2,
   "id": "d0709727-12cd-4322-b2e8-5ceca8b3b502",
   "metadata": {},
   "outputs": [
    {
     "name": "stderr",
     "output_type": "stream",
     "text": [
      "24/11/14 11:55:05 WARN NativeCodeLoader: Unable to load native-hadoop library for your platform... using builtin-java classes where applicable\n",
      "Using Spark's default log4j profile: org/apache/spark/log4j-defaults.properties\n",
      "Setting default log level to \"WARN\".\n",
      "To adjust logging level use sc.setLogLevel(newLevel). For SparkR, use setLogLevel(newLevel).\n",
      "24/11/14 11:55:06 WARN Utils: Service 'SparkUI' could not bind on port 4040. Attempting port 4041.\n",
      "24/11/14 11:55:06 WARN Utils: Service 'SparkUI' could not bind on port 4041. Attempting port 4042.\n",
      "24/11/14 11:55:06 WARN Utils: Service 'SparkUI' could not bind on port 4042. Attempting port 4043.\n",
      "24/11/14 11:55:06 WARN Utils: Service 'SparkUI' could not bind on port 4043. Attempting port 4044.\n"
     ]
    }
   ],
   "source": [
    "# Instantiate Spark Session\n",
    "spark = (SparkSession\n",
    "  .builder\n",
    "  .appName(\"US_Accidents\")\n",
    "  .getOrCreate())\n",
    "spark.sparkContext.setLogLevel(\"ERROR\") #supress warnings"
   ]
  },
  {
   "cell_type": "code",
   "execution_count": 3,
   "id": "c5a537b4-0516-49a4-a9d3-9957ecf6972b",
   "metadata": {},
   "outputs": [],
   "source": [
    "# Read in Data\n",
    "df = spark.read.parquet(\"final_dataset_revised.parquet\")"
   ]
  },
  {
   "cell_type": "code",
   "execution_count": 4,
   "id": "c6be913b-8a20-494f-af35-4cc44879acb7",
   "metadata": {},
   "outputs": [
    {
     "name": "stderr",
     "output_type": "stream",
     "text": [
      "                                                                                \r"
     ]
    }
   ],
   "source": [
    "# Use StringIndexer for encoding the 'Severity' column\n",
    "indexer = StringIndexer(inputCol=\"Severity\", outputCol=\"SeverityIndex\")\n",
    "df = indexer.fit(df).transform(df)"
   ]
  },
  {
   "cell_type": "code",
   "execution_count": 5,
   "id": "bb96fd0f-7581-467f-a0c3-948425bd9ed5",
   "metadata": {},
   "outputs": [],
   "source": [
    "# Create list of features\n",
    "feature_list = []\n",
    "for col in df.columns:\n",
    "    if col == 'Severity':\n",
    "        continue\n",
    "    elif col == 'SeverityIndex':\n",
    "        continue\n",
    "    elif col == 'Destination':\n",
    "        continue\n",
    "    else:\n",
    "        feature_list.append(col)"
   ]
  },
  {
   "cell_type": "code",
   "execution_count": 6,
   "id": "8117f0e8-de44-4430-aa72-8899adcaeae8",
   "metadata": {},
   "outputs": [],
   "source": [
    "# Split the data into train and test\n",
    "splits = df.randomSplit([0.8, 0.2], 314)\n",
    "train = splits[0]\n",
    "test = splits[1]"
   ]
  },
  {
   "cell_type": "code",
   "execution_count": 7,
   "id": "827fa4c6-689b-4ea8-9b72-5fdbf8d7ecb4",
   "metadata": {},
   "outputs": [
    {
     "name": "stderr",
     "output_type": "stream",
     "text": [
      "                                                                                \r"
     ]
    },
    {
     "name": "stdout",
     "output_type": "stream",
     "text": [
      "+--------+-----------+--------+--------+----------+----------+-------------+-------+---------+----+----+-------------+--------------------------+--------------------+---------+-----------------+-----------------+-------------------+------------+-----------+--------------------+--------------------+-----------+-------------+\n",
      "|Severity|Temperature|Humidity|Pressure|Visibility|Wind_Speed|Precipitation|Weekday|Rush_Hour|Rain|Snow|    SeasonVec|Astronomical_TwilightIndex|Interstate_Indicator|Sex_ratio|Percent_Age_15-19|Percent_Age_20-24|Percent_Age_65_over|MedianIncome|Urban_Ratio|Traffic_Interference|Traffic_Intersection|Destination|SeverityIndex|\n",
      "+--------+-----------+--------+--------+----------+----------+-------------+-------+---------+----+----+-------------+--------------------------+--------------------+---------+-----------------+-----------------+-------------------+------------+-----------+--------------------+--------------------+-----------+-------------+\n",
      "|       2|        -13|      75|      30|        10|         0|            0|      1|        1|   0|   0|(3,[0],[1.0])|                         0|                   0|     92.1|              6.6|              5.7|               18.5|    160329.0|     0.9893|                   0|                   0|          0|          0.0|\n",
      "|       2|         -4|      85|      28|        10|         3|            0|      1|        1|   0|   1|(3,[0],[1.0])|                         0|                   1|     97.8|              5.5|              4.3|               21.5|     65985.0|     0.1948|                   0|                   0|          0|          0.0|\n",
      "|       2|          3|      66|      30|        10|         6|            0|      1|        1|   0|   0|(3,[0],[1.0])|                         0|                   0|     90.8|              5.5|              5.5|               15.9|     61887.0|     0.9753|                   0|                   1|          0|          0.0|\n",
      "|       2|          5|      61|      30|        10|         9|            0|      1|        0|   0|   0|(3,[0],[1.0])|                         0|                   0|    100.5|             12.2|             10.7|               15.6|     81953.0|     0.9663|                   0|                   0|          0|          0.0|\n",
      "|       2|          5|      63|      30|        10|        12|            0|      1|        1|   0|   0|(3,[0],[1.0])|                         0|                   0|     93.7|              7.4|              8.1|               10.2|     76794.0|        1.0|                   0|                   0|          0|          0.0|\n",
      "|       2|          5|      73|      28|         7|         3|            0|      1|        1|   0|   0|(3,[0],[1.0])|                         0|                   0|     97.5|              6.4|              6.1|               27.3|     44580.0|        0.0|                   0|                   0|          0|          0.0|\n",
      "|       2|          7|      58|      30|        10|        15|            0|      1|        1|   0|   0|(3,[0],[1.0])|                         0|                   0|    153.5|              7.3|              6.0|               15.8|     93385.0|     0.6742|                   0|                   1|          0|          0.0|\n",
      "|       2|          7|      61|      30|        10|         8|            0|      1|        1|   0|   0|(3,[0],[1.0])|                         0|                   0|    101.5|              5.8|              7.9|               16.6|     69738.0|        1.0|                   0|                   1|          0|          0.0|\n",
      "|       2|          8|      87|      29|         2|         6|            0|      1|        1|   0|   1|(3,[0],[1.0])|                         0|                   1|    109.5|              5.7|              5.1|               14.2|     79583.0|        0.0|                   0|                   0|          0|          0.0|\n",
      "|       2|          8|      87|      30|        10|         0|            0|      1|        1|   0|   0|(3,[0],[1.0])|                         0|                   0|     91.6|             10.1|              5.5|               21.0|    207702.0|        1.0|                   0|                   0|          0|          0.0|\n",
      "|       2|          9|      71|      30|        10|         6|            0|      1|        1|   0|   0|(3,[0],[1.0])|                         0|                   0|     94.1|              6.2|              5.4|               17.3|     51920.0|     0.8509|                   0|                   0|          0|          0.0|\n",
      "|       2|          9|      79|      29|         3|         5|            0|      1|        1|   0|   1|(3,[0],[1.0])|                         0|                   1|     99.6|              6.9|              5.0|               11.6|     76082.0|     0.7395|                   0|                   0|          0|          0.0|\n",
      "|       2|         10|      92|      30|        10|         0|            0|      1|        1|   0|   0|(3,[0],[1.0])|                         0|                   0|     86.1|              8.5|              8.1|               20.1|     73943.0|     0.9763|                   0|                   0|          0|          0.0|\n",
      "|       2|         12|      61|      30|        10|         0|            0|      1|        1|   0|   0|(3,[0],[1.0])|                         0|                   0|     93.8|              5.8|              4.9|               17.2|     56268.0|        1.0|                   0|                   1|          0|          0.0|\n",
      "|       2|         13|      51|      30|        10|        18|            0|      1|        0|   0|   0|(3,[0],[1.0])|                         0|                   1|     98.5|              7.6|              7.3|               10.3|     61470.0|     0.9986|                   0|                   0|          0|          0.0|\n",
      "|       2|         13|      81|      30|        10|         0|            0|      1|        1|   0|   0|(3,[0],[1.0])|                         0|                   0|     98.2|              4.9|              6.2|               19.1|     68639.0|     0.9987|                   0|                   1|          0|          0.0|\n",
      "|       2|         15|      84|      29|         4|        13|            0|      0|        1|   0|   1|(3,[0],[1.0])|                         0|                   0|     94.0|              8.8|              3.2|               12.8|    132261.0|     0.5033|                   0|                   0|          0|          0.0|\n",
      "|       2|         16|      65|      30|        10|         0|            0|      1|        1|   0|   1|(3,[0],[1.0])|                         0|                   0|     87.5|              1.7|              7.8|               21.5|    106906.0|        1.0|                   0|                   1|          1|          0.0|\n",
      "|       2|         16|      88|      30|         6|         0|            0|      1|        0|   0|   0|(3,[0],[1.0])|                         0|                   0|     87.7|              4.2|              2.7|               20.5|    103337.0|        1.0|                   0|                   1|          0|          0.0|\n",
      "|       2|         17|      51|      29|        10|        30|            0|      1|        0|   0|   0|(3,[0],[1.0])|                         0|                   0|    104.6|              4.9|              1.9|               21.1|     54205.0|        0.0|                   0|                   0|          0|          0.0|\n",
      "+--------+-----------+--------+--------+----------+----------+-------------+-------+---------+----+----+-------------+--------------------------+--------------------+---------+-----------------+-----------------+-------------------+------------+-----------+--------------------+--------------------+-----------+-------------+\n",
      "only showing top 20 rows\n",
      "\n"
     ]
    },
    {
     "name": "stderr",
     "output_type": "stream",
     "text": [
      "[Stage 9:========================================================>(91 + 1) / 92]\r"
     ]
    },
    {
     "name": "stdout",
     "output_type": "stream",
     "text": [
      "+-------------+-----+\n",
      "|SeverityIndex|count|\n",
      "+-------------+-----+\n",
      "|          0.0|51813|\n",
      "|          1.0|52045|\n",
      "|          3.0|52136|\n",
      "|          2.0|51891|\n",
      "+-------------+-----+\n",
      "\n"
     ]
    },
    {
     "name": "stderr",
     "output_type": "stream",
     "text": [
      "                                                                                \r"
     ]
    }
   ],
   "source": [
    "# Undersampling\n",
    "from pyspark.sql import functions as F\n",
    "\n",
    "# Step 1: Group by 'Severity' and count occurrences\n",
    "class_counts = train.groupBy(\"SeverityIndex\").count()\n",
    "\n",
    "# Step 2: Use PySpark's min() function to find the minimum count\n",
    "min_class_size = class_counts.agg(F.min('count')).collect()[0][0]\n",
    "\n",
    "undersampled_train_list = []\n",
    "\n",
    "for row in class_counts.collect():\n",
    "    class_label = row['SeverityIndex']\n",
    "    class_size = row['count']\n",
    "\n",
    "    if class_size > min_class_size:\n",
    "        # Sample the data for this class to the size of the minimum class\n",
    "        class_data = train.filter(F.col(\"SeverityIndex\") == class_label)\n",
    "        class_data_undersampled = class_data.sample(withReplacement=False, fraction=min_class_size / class_size)\n",
    "    else:\n",
    "        # For classes that are already at the minimum size, keep all samples\n",
    "        class_data_undersampled = train.filter(F.col(\"SeverityIndex\") == class_label)\n",
    "\n",
    "    undersampled_train_list.append(class_data_undersampled)\n",
    "\n",
    "# Combine all the undersampled DataFrames\n",
    "undersampled_train = undersampled_train_list[0]  # start with the first one\n",
    "for df in undersampled_train_list[1:]:\n",
    "    undersampled_train = undersampled_train.union(df)\n",
    "\n",
    "# Show the result\n",
    "undersampled_train.show()\n",
    "\n",
    "# Step 4: Group by 'Severity' and count the occurrences in the undersampled DataFrame\n",
    "undersampled_class_counts = undersampled_train.groupBy(\"SeverityIndex\").count()\n",
    "\n",
    "# Show the result\n",
    "undersampled_class_counts.show()"
   ]
  },
  {
   "cell_type": "code",
   "execution_count": 8,
   "id": "2d79048b-55fa-4cac-9ce6-00d115340220",
   "metadata": {},
   "outputs": [],
   "source": [
    "# Assemble data for logistic regression model\n",
    "assembler = VectorAssembler(inputCols=feature_list,\n",
    "                            outputCol=\"features\")\n",
    "\n",
    "undersampled_train = assembler.transform(undersampled_train)\n",
    "test = assembler.transform(test)"
   ]
  },
  {
   "cell_type": "code",
   "execution_count": 9,
   "id": "2b5e00b4-277f-4dff-b480-5bcb8acdc8bc",
   "metadata": {},
   "outputs": [
    {
     "name": "stderr",
     "output_type": "stream",
     "text": [
      "                                                                                \r"
     ]
    }
   ],
   "source": [
    "# Standardize the predictors\n",
    "from pyspark.ml.feature import StandardScaler\n",
    "scaler = StandardScaler(inputCol=\"features\", outputCol=\"scaledFeatures\")\n",
    "scalerModel = scaler.fit(undersampled_train)\n",
    "scaledTrainData = scalerModel.transform(undersampled_train)\n",
    "scaledTestData = scalerModel.transform(test)"
   ]
  },
  {
   "cell_type": "code",
   "execution_count": 10,
   "id": "54cb60dc-688a-45e9-b2fe-bf00d4ec87f0",
   "metadata": {},
   "outputs": [
    {
     "name": "stderr",
     "output_type": "stream",
     "text": [
      "                                                                                \r"
     ]
    },
    {
     "name": "stdout",
     "output_type": "stream",
     "text": [
      "Detected number of classes: 4\n",
      "Coefficients: DenseMatrix([[-1.80533739e-02, -6.93742195e-02,  1.26999624e-02,\n",
      "              -4.47549718e-02, -1.21154485e-02,  4.51595229e-03,\n",
      "              -3.70361649e-02, -4.31412082e-02, -1.14581656e-02,\n",
      "               2.21220813e-02,  5.33507966e-01,  3.43531796e-01,\n",
      "               2.60866563e-02, -8.12855301e-03, -1.14864788e-01,\n",
      "              -6.65088851e-04, -6.45290991e-03,  4.79284027e-03,\n",
      "               1.80294115e-02,  6.11321874e-03,  4.46740910e-02,\n",
      "              -4.16207144e-03, -2.72018408e-02],\n",
      "             [-1.95135524e-01, -9.36431449e-02,  4.00076123e-02,\n",
      "              -3.96252844e-02,  1.20758022e-01,  4.21196142e-03,\n",
      "              -8.05798878e-02, -1.46840606e-02,  2.88095376e-02,\n",
      "              -1.40329353e-02,  1.62303273e-01,  1.31299464e-01,\n",
      "              -1.52897025e-01, -1.32135205e-01,  4.66810544e-01,\n",
      "               1.35251496e-02, -8.02149914e-02,  8.20396432e-03,\n",
      "              -1.56732120e-01,  4.61517247e-03,  2.61640442e-01,\n",
      "              -2.37496618e-03, -2.80551195e-01],\n",
      "             [-2.52338037e-01, -4.99255157e-02,  7.86572146e-02,\n",
      "               3.15843669e-02,  7.15096662e-02, -6.08872730e-03,\n",
      "              -1.34914752e-01, -1.71962372e-01,  1.97811155e-02,\n",
      "               3.81976615e-02,  2.03016324e-01,  1.43627012e-01,\n",
      "              -7.24758364e-02,  1.65171519e-01,  1.22547549e-03,\n",
      "               1.80268474e-03,  6.12563586e-02, -3.14776784e-02,\n",
      "               1.06135838e-01, -3.09128380e-02, -4.28475583e-01,\n",
      "              -6.32549754e-03, -1.44146289e-02],\n",
      "             [ 4.65526935e-01,  2.12942880e-01, -1.31364789e-01,\n",
      "               5.27958892e-02, -1.80152240e-01, -2.63918641e-03,\n",
      "               2.52530805e-01,  2.29787641e-01, -3.71324875e-02,\n",
      "              -4.62868075e-02, -8.98827563e-01, -6.18458272e-01,\n",
      "               1.99286205e-01, -2.49077606e-02, -3.53171231e-01,\n",
      "              -1.46627455e-02,  2.54115427e-02,  1.84808738e-02,\n",
      "               3.25668698e-02,  2.01844468e-02,  1.22161051e-01,\n",
      "               1.28625352e-02,  3.22167664e-01]])\n",
      "Intercept: [-0.012880306136345195,-0.08956457128381008,0.03609597892260002,0.06634889849755525]\n"
     ]
    }
   ],
   "source": [
    "# Fit logistic regression model with intercept\n",
    "from pyspark.ml.classification import LogisticRegression\n",
    "\n",
    "# instantiate the model\n",
    "lr = LogisticRegression(labelCol='SeverityIndex',\n",
    "                        featuresCol='scaledFeatures',\n",
    "                        #maxIter=10, \n",
    "                        #regParam=0.3, \n",
    "                        #elasticNetParam=0.8,\n",
    "                        family=\"multinomial\")\n",
    "\n",
    "# Fit the model\n",
    "lrModel = lr.fit(scaledTrainData)\n",
    "print(f\"Detected number of classes: {lrModel.numClasses}\")\n",
    "\n",
    "# Print the coefficients and intercept for logistic regression\n",
    "print(\"Coefficients: \" + str(lrModel.coefficientMatrix))\n",
    "print(\"Intercept: \" + str(lrModel.interceptVector))"
   ]
  },
  {
   "cell_type": "code",
   "execution_count": 11,
   "id": "c9646a1f-7a43-4a74-8e3d-e64dd3a11062",
   "metadata": {},
   "outputs": [
    {
     "name": "stderr",
     "output_type": "stream",
     "text": [
      "                                                                                \r"
     ]
    },
    {
     "name": "stdout",
     "output_type": "stream",
     "text": [
      "+----------+\n",
      "|prediction|\n",
      "+----------+\n",
      "|       0.0|\n",
      "|       1.0|\n",
      "|       3.0|\n",
      "|       2.0|\n",
      "+----------+\n",
      "\n"
     ]
    },
    {
     "name": "stderr",
     "output_type": "stream",
     "text": [
      "[Stage 255:==================================================>    (21 + 2) / 23]\r"
     ]
    },
    {
     "name": "stdout",
     "output_type": "stream",
     "text": [
      "Accuracy: 0.38914103760699326\n"
     ]
    },
    {
     "name": "stderr",
     "output_type": "stream",
     "text": [
      "                                                                                \r"
     ]
    }
   ],
   "source": [
    "from pyspark.ml.evaluation import MulticlassClassificationEvaluator\n",
    "\n",
    "# compute predictions. this will append column \"prediction\" to dataframe\n",
    "lrPred = lrModel.transform(scaledTestData)\n",
    "lrPred.select(\"prediction\").distinct().show()\n",
    "\n",
    "evaluator = MulticlassClassificationEvaluator(labelCol='SeverityIndex', predictionCol='prediction', metricName='accuracy')\n",
    "accuracy = evaluator.evaluate(lrPred, {evaluator.metricName: \"accuracy\"})\n",
    "print(f'Accuracy: {accuracy}')"
   ]
  },
  {
   "cell_type": "code",
   "execution_count": 12,
   "id": "e3e81050-0bf6-4e42-b0c8-f7ebe09b0971",
   "metadata": {},
   "outputs": [
    {
     "name": "stderr",
     "output_type": "stream",
     "text": [
      "[Stage 261:================>                                      (7 + 16) / 23]\r"
     ]
    },
    {
     "name": "stdout",
     "output_type": "stream",
     "text": [
      "Precision: 0.7673174744879679\n",
      "Recall: 0.38914103760699326\n",
      "F1 Score: 0.48061858294280857\n"
     ]
    },
    {
     "name": "stderr",
     "output_type": "stream",
     "text": [
      "                                                                                \r"
     ]
    }
   ],
   "source": [
    "precision = evaluator.evaluate(lrPred, {evaluator.metricName: 'weightedPrecision'})\n",
    "recall = evaluator.evaluate(lrPred, {evaluator.metricName: 'weightedRecall'})\n",
    "f1_score = evaluator.evaluate(lrPred, {evaluator.metricName: 'f1'})\n",
    "\n",
    "print(f'Precision: {precision}')\n",
    "print(f'Recall: {recall}')\n",
    "print(f'F1 Score: {f1_score}')"
   ]
  },
  {
   "cell_type": "code",
   "execution_count": 13,
   "id": "05e473cd-b658-4a72-ba3a-f5d2752719eb",
   "metadata": {},
   "outputs": [
    {
     "name": "stderr",
     "output_type": "stream",
     "text": [
      "[Stage 263:==================================================>    (21 + 2) / 23]\r"
     ]
    },
    {
     "name": "stdout",
     "output_type": "stream",
     "text": [
      "+-------------+------------------+\n",
      "|SeverityIndex|          accuracy|\n",
      "+-------------+------------------+\n",
      "|          0.0|0.3633819222400741|\n",
      "|          1.0|0.4902124299699697|\n",
      "|          3.0|0.7792557281254805|\n",
      "|          2.0|0.4252036845199765|\n",
      "+-------------+------------------+\n",
      "\n"
     ]
    },
    {
     "name": "stderr",
     "output_type": "stream",
     "text": [
      "                                                                                \r"
     ]
    }
   ],
   "source": [
    "# Add a column to indicate correct or incorrect predictions\n",
    "predictions = lrPred.withColumn(\n",
    "    'is_correct', F.expr(\"CASE WHEN SeverityIndex = prediction THEN 1 ELSE 0 END\")\n",
    ")\n",
    "\n",
    "# Calculate accuracy by class\n",
    "accuracy_by_class = predictions.groupBy('SeverityIndex').agg(\n",
    "    (F.sum('is_correct') / F.count('SeverityIndex')).alias('accuracy')\n",
    ")\n",
    "\n",
    "# Show per-class accuracy\n",
    "accuracy_by_class.show()"
   ]
  },
  {
   "cell_type": "code",
   "execution_count": null,
   "id": "3fce0c2c-f792-47cd-9e69-bdbbe886c5a5",
   "metadata": {},
   "outputs": [],
   "source": []
  }
 ],
 "metadata": {
  "kernelspec": {
   "display_name": "Python 3 (ipykernel)",
   "language": "python",
   "name": "python3"
  },
  "language_info": {
   "codemirror_mode": {
    "name": "ipython",
    "version": 3
   },
   "file_extension": ".py",
   "mimetype": "text/x-python",
   "name": "python",
   "nbconvert_exporter": "python",
   "pygments_lexer": "ipython3",
   "version": "3.11.5"
  }
 },
 "nbformat": 4,
 "nbformat_minor": 5
}
