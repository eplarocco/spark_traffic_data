{
 "cells": [
  {
   "cell_type": "code",
   "execution_count": 1,
   "id": "1bf6ccc1-6317-482a-ac30-72c6eab49a0b",
   "metadata": {},
   "outputs": [],
   "source": [
    "# Import Libraries\n",
    "import pandas as pd\n",
    "import numpy as np\n",
    "import os\n",
    "import pyspark\n",
    "from pyspark.sql import SparkSession\n",
    "from pyspark.sql.types import *\n",
    "from pyspark.sql.functions import *\n",
    "from pyspark.ml.feature import StringIndexer, OneHotEncoder, VectorAssembler\n",
    "from pyspark.ml.stat import Correlation\n",
    "import seaborn as sns\n",
    "import matplotlib.pyplot as plt\n",
    "import pyspark.sql.functions as F\n",
    "import holidays\n",
    "from datetime import datetime, timezone\n",
    "from pyspark.ml.classification import RandomForestClassifier, BinaryLogisticRegressionSummary\n",
    "from pyspark.ml import Pipeline\n",
    "from pyspark.mllib.evaluation import MulticlassMetrics, BinaryClassificationMetrics\n",
    "from pyspark.ml.pipeline import PipelineModel"
   ]
  },
  {
   "cell_type": "code",
   "execution_count": 2,
   "id": "d0709727-12cd-4322-b2e8-5ceca8b3b502",
   "metadata": {},
   "outputs": [
    {
     "name": "stderr",
     "output_type": "stream",
     "text": [
      "24/11/14 19:47:31 WARN NativeCodeLoader: Unable to load native-hadoop library for your platform... using builtin-java classes where applicable\n",
      "Using Spark's default log4j profile: org/apache/spark/log4j-defaults.properties\n",
      "Setting default log level to \"WARN\".\n",
      "To adjust logging level use sc.setLogLevel(newLevel). For SparkR, use setLogLevel(newLevel).\n",
      "24/11/14 19:47:32 WARN Utils: Service 'SparkUI' could not bind on port 4040. Attempting port 4041.\n",
      "24/11/14 19:47:32 WARN Utils: Service 'SparkUI' could not bind on port 4041. Attempting port 4042.\n",
      "24/11/14 19:47:32 WARN Utils: Service 'SparkUI' could not bind on port 4042. Attempting port 4043.\n",
      "24/11/14 19:47:32 WARN Utils: Service 'SparkUI' could not bind on port 4043. Attempting port 4044.\n",
      "24/11/14 19:47:32 WARN Utils: Service 'SparkUI' could not bind on port 4044. Attempting port 4045.\n",
      "24/11/14 19:47:32 WARN Utils: Service 'SparkUI' could not bind on port 4045. Attempting port 4046.\n",
      "24/11/14 19:47:32 WARN Utils: Service 'SparkUI' could not bind on port 4046. Attempting port 4047.\n",
      "24/11/14 19:47:32 WARN Utils: Service 'SparkUI' could not bind on port 4047. Attempting port 4048.\n"
     ]
    }
   ],
   "source": [
    "# Instantiate Spark Session\n",
    "spark = (SparkSession\n",
    "  .builder\n",
    "  .appName(\"US_Accidents\")\n",
    "  .getOrCreate())\n",
    "spark.sparkContext.setLogLevel(\"ERROR\") #supress warnings"
   ]
  },
  {
   "cell_type": "code",
   "execution_count": 3,
   "id": "c5a537b4-0516-49a4-a9d3-9957ecf6972b",
   "metadata": {},
   "outputs": [],
   "source": [
    "# Read in Data\n",
    "df = spark.read.parquet(\"final_dataset_revised.parquet\")"
   ]
  },
  {
   "cell_type": "code",
   "execution_count": 4,
   "id": "c6be913b-8a20-494f-af35-4cc44879acb7",
   "metadata": {},
   "outputs": [
    {
     "name": "stderr",
     "output_type": "stream",
     "text": [
      "                                                                                \r"
     ]
    }
   ],
   "source": [
    "# Use StringIndexer for encoding the 'Severity' column\n",
    "indexer = StringIndexer(inputCol=\"Severity\", outputCol=\"SeverityIndex\")\n",
    "df = indexer.fit(df).transform(df)"
   ]
  },
  {
   "cell_type": "code",
   "execution_count": 5,
   "id": "bb96fd0f-7581-467f-a0c3-948425bd9ed5",
   "metadata": {},
   "outputs": [],
   "source": [
    "# Create list of features\n",
    "feature_list = []\n",
    "for col in df.columns:\n",
    "    if col == 'Severity':\n",
    "        continue\n",
    "    elif col == 'SeverityIndex':\n",
    "        continue\n",
    "    elif col == 'Sex_ratio':\n",
    "        continue\n",
    "    else:\n",
    "        feature_list.append(col)"
   ]
  },
  {
   "cell_type": "code",
   "execution_count": 6,
   "id": "8117f0e8-de44-4430-aa72-8899adcaeae8",
   "metadata": {},
   "outputs": [],
   "source": [
    "# Split the data into train and test\n",
    "splits = df.randomSplit([0.8, 0.2], 314)\n",
    "train = splits[0]\n",
    "test = splits[1]"
   ]
  },
  {
   "cell_type": "code",
   "execution_count": 7,
   "id": "827fa4c6-689b-4ea8-9b72-5fdbf8d7ecb4",
   "metadata": {},
   "outputs": [
    {
     "name": "stderr",
     "output_type": "stream",
     "text": [
      "                                                                                \r"
     ]
    },
    {
     "name": "stdout",
     "output_type": "stream",
     "text": [
      "+--------+-----------+--------+--------+----------+----------+-------------+-------+---------+----+----+-------------+--------------------------+--------------------+---------+-----------------+-----------------+-------------------+------------+-----------+--------------------+--------------------+-----------+-------------+\n",
      "|Severity|Temperature|Humidity|Pressure|Visibility|Wind_Speed|Precipitation|Weekday|Rush_Hour|Rain|Snow|    SeasonVec|Astronomical_TwilightIndex|Interstate_Indicator|Sex_ratio|Percent_Age_15-19|Percent_Age_20-24|Percent_Age_65_over|MedianIncome|Urban_Ratio|Traffic_Interference|Traffic_Intersection|Destination|SeverityIndex|\n",
      "+--------+-----------+--------+--------+----------+----------+-------------+-------+---------+----+----+-------------+--------------------------+--------------------+---------+-----------------+-----------------+-------------------+------------+-----------+--------------------+--------------------+-----------+-------------+\n",
      "|       2|          1|      85|      29|         1|         0|            0|      1|        1|   0|   0|(3,[0],[1.0])|                         0|                   1|     99.4|              6.3|              5.9|               17.2|     64267.0|      0.885|                   0|                   0|          0|          0.0|\n",
      "|       2|          7|      55|      30|        10|         6|            0|      1|        1|   0|   0|(3,[0],[1.0])|                         0|                   1|    100.5|              7.8|              5.7|               15.3|     64429.0|        1.0|                   0|                   0|          0|          0.0|\n",
      "|       2|          7|      77|      29|        10|        14|            0|      1|        0|   0|   0|(3,[0],[1.0])|                         1|                   0|     98.5|              6.0|             12.6|               21.4|     68000.0|     0.7817|                   0|                   1|          0|          0.0|\n",
      "|       2|          9|      70|      30|        10|        16|            0|      1|        1|   0|   0|(3,[0],[1.0])|                         0|                   0|     90.9|              6.0|              5.2|               27.2|     77682.0|        1.0|                   0|                   1|          0|          0.0|\n",
      "|       2|          9|      70|      30|        10|        16|            0|      1|        1|   0|   0|(3,[0],[1.0])|                         0|                   0|     91.4|              5.0|              7.1|               21.4|     39216.0|        1.0|                   0|                   1|          0|          0.0|\n",
      "|       2|         11|      88|      29|         3|         0|            0|      1|        0|   0|   0|(3,[0],[1.0])|                         1|                   0|    102.9|              7.2|              6.8|               11.0|     85185.0|     0.9943|                   0|                   0|          0|          0.0|\n",
      "|       2|         12|      84|      30|         2|         6|            0|      1|        1|   0|   1|(3,[0],[1.0])|                         0|                   0|    100.8|              7.2|              7.3|               14.7|     75799.0|     0.7105|                   0|                   0|          0|          0.0|\n",
      "|       2|         14|      64|      29|        10|        15|            0|      1|        0|   0|   0|(3,[0],[1.0])|                         1|                   0|     94.4|              5.5|              8.4|               16.6|     70504.0|     0.9921|                   0|                   0|          0|          0.0|\n",
      "|       2|         14|      86|      24|        10|         0|            0|      1|        1|   0|   0|(3,[0],[1.0])|                         0|                   1|    110.3|              6.6|              9.7|               15.6|     89904.0|     0.8499|                   0|                   0|          0|          0.0|\n",
      "|       2|         15|      64|      30|        10|         5|            0|      1|        1|   0|   0|(3,[0],[1.0])|                         0|                   0|     92.8|              5.5|              6.9|               13.4|     78034.0|        1.0|                   0|                   0|          0|          0.0|\n",
      "|       2|         15|      74|      29|         5|         8|            0|      1|        1|   0|   1|(3,[0],[1.0])|                         0|                   0|     93.6|              5.8|              5.8|               17.8|     52247.0|     0.4667|                   0|                   0|          0|          0.0|\n",
      "|       2|         15|      80|      30|         1|        10|            0|      1|        1|   0|   1|(3,[0],[1.0])|                         0|                   0|     93.6|              4.2|              5.1|               19.2|     82234.0|        1.0|                   0|                   1|          1|          0.0|\n",
      "|       2|         16|      81|      29|        10|         6|            0|      1|        1|   0|   0|(3,[0],[1.0])|                         0|                   0|     94.4|              5.5|              8.4|               16.6|     70504.0|     0.9921|                   0|                   1|          0|          0.0|\n",
      "|       2|         16|      88|      30|        10|         0|            0|      1|        0|   0|   0|(3,[0],[1.0])|                         1|                   0|     96.3|              7.5|              6.3|               11.2|     88562.0|     0.9309|                   0|                   0|          0|          0.0|\n",
      "|       2|         17|      41|      29|        10|        13|            0|      1|        0|   0|   0|(3,[0],[1.0])|                         0|                   0|     84.5|              6.4|              5.8|               18.0|     62281.0|     0.9692|                   0|                   1|          0|          0.0|\n",
      "|       2|         17|      41|      30|        10|        16|            0|      0|        0|   0|   0|(3,[0],[1.0])|                         0|                   0|     95.9|              4.9|              6.8|               18.7|    116893.0|        1.0|                   0|                   0|          0|          0.0|\n",
      "|       2|         17|      47|      30|        10|        15|            0|      1|        1|   0|   0|(3,[0],[1.0])|                         0|                   0|     93.1|              5.7|              7.0|               17.8|    106959.0|        1.0|                   0|                   0|          0|          0.0|\n",
      "|       2|         18|      60|      30|        10|         5|            0|      1|        0|   0|   0|(3,[0],[1.0])|                         0|                   0|     94.7|              6.9|              7.2|                7.4|     41089.0|        1.0|                   0|                   1|          0|          0.0|\n",
      "|       2|         19|      68|      29|        10|        20|            0|      1|        1|   0|   0|(3,[0],[1.0])|                         0|                   0|     99.1|              5.7|              7.3|               15.5|     86032.0|        1.0|                   0|                   1|          0|          0.0|\n",
      "|       2|         19|      77|      26|        10|         3|            0|      1|        1|   0|   0|(3,[0],[1.0])|                         0|                   0|    103.6|              6.9|              8.2|                9.0|     54007.0|      0.965|                   0|                   1|          0|          0.0|\n",
      "+--------+-----------+--------+--------+----------+----------+-------------+-------+---------+----+----+-------------+--------------------------+--------------------+---------+-----------------+-----------------+-------------------+------------+-----------+--------------------+--------------------+-----------+-------------+\n",
      "only showing top 20 rows\n",
      "\n"
     ]
    },
    {
     "name": "stderr",
     "output_type": "stream",
     "text": [
      "[Stage 9:================================================>       (80 + 12) / 92]\r"
     ]
    },
    {
     "name": "stdout",
     "output_type": "stream",
     "text": [
      "+-------------+-----+\n",
      "|SeverityIndex|count|\n",
      "+-------------+-----+\n",
      "|          0.0|51742|\n",
      "|          1.0|52226|\n",
      "|          3.0|52136|\n",
      "|          2.0|52223|\n",
      "+-------------+-----+\n",
      "\n"
     ]
    },
    {
     "name": "stderr",
     "output_type": "stream",
     "text": [
      "                                                                                \r"
     ]
    }
   ],
   "source": [
    "# Undersampling\n",
    "from pyspark.sql import functions as F\n",
    "\n",
    "# Step 1: Group by 'Severity' and count occurrences\n",
    "class_counts = train.groupBy(\"SeverityIndex\").count()\n",
    "\n",
    "# Step 2: Use PySpark's min() function to find the minimum count\n",
    "min_class_size = class_counts.agg(F.min('count')).collect()[0][0]\n",
    "\n",
    "undersampled_train_list = []\n",
    "\n",
    "for row in class_counts.collect():\n",
    "    class_label = row['SeverityIndex']\n",
    "    class_size = row['count']\n",
    "\n",
    "    if class_size > min_class_size:\n",
    "        # Sample the data for this class to the size of the minimum class\n",
    "        class_data = train.filter(F.col(\"SeverityIndex\") == class_label)\n",
    "        class_data_undersampled = class_data.sample(withReplacement=False, fraction=min_class_size / class_size)\n",
    "    else:\n",
    "        # For classes that are already at the minimum size, keep all samples\n",
    "        class_data_undersampled = train.filter(F.col(\"SeverityIndex\") == class_label)\n",
    "\n",
    "    undersampled_train_list.append(class_data_undersampled)\n",
    "\n",
    "# Combine all the undersampled DataFrames\n",
    "undersampled_train = undersampled_train_list[0]  # start with the first one\n",
    "for df in undersampled_train_list[1:]:\n",
    "    undersampled_train = undersampled_train.union(df)\n",
    "\n",
    "# Show the result\n",
    "undersampled_train.show()\n",
    "\n",
    "# Step 4: Group by 'Severity' and count the occurrences in the undersampled DataFrame\n",
    "undersampled_class_counts = undersampled_train.groupBy(\"SeverityIndex\").count()\n",
    "\n",
    "# Show the result\n",
    "undersampled_class_counts.show()"
   ]
  },
  {
   "cell_type": "code",
   "execution_count": 8,
   "id": "2d79048b-55fa-4cac-9ce6-00d115340220",
   "metadata": {},
   "outputs": [],
   "source": [
    "# Assemble data for logistic regression model\n",
    "assembler = VectorAssembler(inputCols=feature_list,\n",
    "                            outputCol=\"features\")\n",
    "\n",
    "undersampled_train = assembler.transform(undersampled_train)\n",
    "test = assembler.transform(test)"
   ]
  },
  {
   "cell_type": "code",
   "execution_count": 9,
   "id": "2b5e00b4-277f-4dff-b480-5bcb8acdc8bc",
   "metadata": {},
   "outputs": [
    {
     "name": "stderr",
     "output_type": "stream",
     "text": [
      "                                                                                \r"
     ]
    }
   ],
   "source": [
    "# Standardize the predictors\n",
    "from pyspark.ml.feature import StandardScaler\n",
    "scaler = StandardScaler(inputCol=\"features\", outputCol=\"scaledFeatures\")\n",
    "scalerModel = scaler.fit(undersampled_train)\n",
    "scaledTrainData = scalerModel.transform(undersampled_train)\n",
    "scaledTestData = scalerModel.transform(test)"
   ]
  },
  {
   "cell_type": "code",
   "execution_count": 10,
   "id": "54cb60dc-688a-45e9-b2fe-bf00d4ec87f0",
   "metadata": {},
   "outputs": [
    {
     "name": "stderr",
     "output_type": "stream",
     "text": [
      "                                                                                \r"
     ]
    },
    {
     "name": "stdout",
     "output_type": "stream",
     "text": [
      "Detected number of classes: 4\n",
      "Coefficients: DenseMatrix([[-1.59879672e-02, -7.01587791e-02,  1.26931658e-02,\n",
      "              -4.60260799e-02, -1.23342616e-02, -6.69523435e-04,\n",
      "              -3.42404856e-02, -4.51200800e-02, -1.76165898e-02,\n",
      "               2.20015397e-02,  5.24642131e-01,  3.43756097e-01,\n",
      "               2.71485545e-02, -8.11901540e-03, -1.00808793e-01,\n",
      "              -1.28034872e-02,  2.04976741e-03,  2.01021456e-02,\n",
      "               5.69543529e-03,  4.38178128e-02, -1.39708346e-02,\n",
      "              -3.58207061e-02,  5.77420019e-02],\n",
      "             [-2.03335917e-01, -1.00223376e-01,  4.54056177e-02,\n",
      "              -3.70357655e-02,  1.11694174e-01,  8.68618061e-03,\n",
      "              -8.09616581e-02, -2.40165401e-02,  4.04372008e-02,\n",
      "              -1.25740216e-02,  1.70734852e-01,  1.27766621e-01,\n",
      "              -1.51002376e-01, -1.32281146e-01,  4.56825117e-01,\n",
      "              -8.41381328e-02,  1.48632181e-02, -1.59061119e-01,\n",
      "              -2.63500406e-03,  2.57329825e-01,  1.11857879e-02,\n",
      "              -2.56528328e-01, -9.35360646e-02],\n",
      "             [-2.52946450e-01, -5.67954253e-02,  7.91061770e-02,\n",
      "               3.75307832e-02,  7.47291813e-02, -5.50012281e-03,\n",
      "              -1.33556712e-01, -1.67784302e-01,  1.19802867e-02,\n",
      "               3.15457481e-02,  2.00254306e-01,  1.46587055e-01,\n",
      "              -7.48059720e-02,  1.58537456e-01, -7.95852286e-03,\n",
      "               5.05337302e-02, -2.75331086e-02,  1.08475501e-01,\n",
      "              -2.74486019e-02, -4.27496886e-01, -1.35874722e-03,\n",
      "              -1.97212527e-02, -7.54043934e-03],\n",
      "             [ 4.72270334e-01,  2.27177580e-01, -1.37204960e-01,\n",
      "               4.55310621e-02, -1.74089094e-01, -2.51653437e-03,\n",
      "               2.48758856e-01,  2.36920922e-01, -3.48008976e-02,\n",
      "              -4.09732662e-02, -8.95631289e-01, -6.18109773e-01,\n",
      "               1.98659793e-01, -1.81372954e-02, -3.48057801e-01,\n",
      "               4.64078898e-02,  1.06201231e-02,  3.04834720e-02,\n",
      "               2.43881707e-02,  1.26349248e-01,  4.14379392e-03,\n",
      "               3.12070287e-01,  4.33345020e-02]])\n",
      "Intercept: [-0.013336388439199293,-0.08235132640224636,0.0357915838864127,0.05989613095503296]\n"
     ]
    }
   ],
   "source": [
    "# Fit logistic regression model with intercept\n",
    "from pyspark.ml.classification import LogisticRegression\n",
    "\n",
    "# instantiate the model\n",
    "lr = LogisticRegression(labelCol='SeverityIndex',\n",
    "                        featuresCol='scaledFeatures',\n",
    "                        #maxIter=10, \n",
    "                        #regParam=0.3, \n",
    "                        #elasticNetParam=0.8,\n",
    "                        family=\"multinomial\")\n",
    "\n",
    "# Fit the model\n",
    "lrModel = lr.fit(scaledTrainData)\n",
    "print(f\"Detected number of classes: {lrModel.numClasses}\")\n",
    "\n",
    "# Print the coefficients and intercept for logistic regression\n",
    "print(\"Coefficients: \" + str(lrModel.coefficientMatrix))\n",
    "print(\"Intercept: \" + str(lrModel.interceptVector))"
   ]
  },
  {
   "cell_type": "code",
   "execution_count": 11,
   "id": "c9646a1f-7a43-4a74-8e3d-e64dd3a11062",
   "metadata": {},
   "outputs": [
    {
     "name": "stderr",
     "output_type": "stream",
     "text": [
      "                                                                                \r"
     ]
    },
    {
     "name": "stdout",
     "output_type": "stream",
     "text": [
      "+----------+\n",
      "|prediction|\n",
      "+----------+\n",
      "|       0.0|\n",
      "|       1.0|\n",
      "|       3.0|\n",
      "|       2.0|\n",
      "+----------+\n",
      "\n"
     ]
    },
    {
     "name": "stderr",
     "output_type": "stream",
     "text": [
      "[Stage 253:===================================>                   (15 + 8) / 23]\r"
     ]
    },
    {
     "name": "stdout",
     "output_type": "stream",
     "text": [
      "Accuracy: 0.3857071514751411\n"
     ]
    },
    {
     "name": "stderr",
     "output_type": "stream",
     "text": [
      "                                                                                \r"
     ]
    }
   ],
   "source": [
    "from pyspark.ml.evaluation import MulticlassClassificationEvaluator\n",
    "\n",
    "# compute predictions. this will append column \"prediction\" to dataframe\n",
    "lrPred = lrModel.transform(scaledTestData)\n",
    "lrPred.select(\"prediction\").distinct().show()\n",
    "\n",
    "evaluator = MulticlassClassificationEvaluator(labelCol='SeverityIndex', predictionCol='prediction', metricName='accuracy')\n",
    "accuracy = evaluator.evaluate(lrPred, {evaluator.metricName: \"accuracy\"})\n",
    "print(f'Accuracy: {accuracy}')"
   ]
  },
  {
   "cell_type": "code",
   "execution_count": 12,
   "id": "e3e81050-0bf6-4e42-b0c8-f7ebe09b0971",
   "metadata": {},
   "outputs": [
    {
     "name": "stderr",
     "output_type": "stream",
     "text": [
      "[Stage 259:================>                                      (7 + 16) / 23]\r"
     ]
    },
    {
     "name": "stdout",
     "output_type": "stream",
     "text": [
      "Precision: 0.7681432631018352\n",
      "Recall: 0.3857071514751412\n",
      "F1 Score: 0.47630572338400046\n"
     ]
    },
    {
     "name": "stderr",
     "output_type": "stream",
     "text": [
      "                                                                                \r"
     ]
    }
   ],
   "source": [
    "precision = evaluator.evaluate(lrPred, {evaluator.metricName: 'weightedPrecision'})\n",
    "recall = evaluator.evaluate(lrPred, {evaluator.metricName: 'weightedRecall'})\n",
    "f1_score = evaluator.evaluate(lrPred, {evaluator.metricName: 'f1'})\n",
    "\n",
    "print(f'Precision: {precision}')\n",
    "print(f'Recall: {recall}')\n",
    "print(f'F1 Score: {f1_score}')"
   ]
  },
  {
   "cell_type": "code",
   "execution_count": 13,
   "id": "05e473cd-b658-4a72-ba3a-f5d2752719eb",
   "metadata": {},
   "outputs": [
    {
     "name": "stderr",
     "output_type": "stream",
     "text": [
      "[Stage 261:=============================================>         (19 + 4) / 23]\r"
     ]
    },
    {
     "name": "stdout",
     "output_type": "stream",
     "text": [
      "+-------------+-------------------+\n",
      "|SeverityIndex|           accuracy|\n",
      "+-------------+-------------------+\n",
      "|          0.0|0.35771527855106433|\n",
      "|          1.0|0.49706128930664173|\n",
      "|          3.0| 0.7791788405351376|\n",
      "|          2.0|0.42637959515076856|\n",
      "+-------------+-------------------+\n",
      "\n"
     ]
    },
    {
     "name": "stderr",
     "output_type": "stream",
     "text": [
      "                                                                                \r"
     ]
    }
   ],
   "source": [
    "# Add a column to indicate correct or incorrect predictions\n",
    "predictions = lrPred.withColumn(\n",
    "    'is_correct', F.expr(\"CASE WHEN SeverityIndex = prediction THEN 1 ELSE 0 END\")\n",
    ")\n",
    "\n",
    "# Calculate accuracy by class\n",
    "accuracy_by_class = predictions.groupBy('SeverityIndex').agg(\n",
    "    (F.sum('is_correct') / F.count('SeverityIndex')).alias('accuracy')\n",
    ")\n",
    "\n",
    "# Show per-class accuracy\n",
    "accuracy_by_class.show()"
   ]
  },
  {
   "cell_type": "code",
   "execution_count": null,
   "id": "3fce0c2c-f792-47cd-9e69-bdbbe886c5a5",
   "metadata": {},
   "outputs": [],
   "source": []
  }
 ],
 "metadata": {
  "kernelspec": {
   "display_name": "Python 3 (ipykernel)",
   "language": "python",
   "name": "python3"
  },
  "language_info": {
   "codemirror_mode": {
    "name": "ipython",
    "version": 3
   },
   "file_extension": ".py",
   "mimetype": "text/x-python",
   "name": "python",
   "nbconvert_exporter": "python",
   "pygments_lexer": "ipython3",
   "version": "3.11.5"
  }
 },
 "nbformat": 4,
 "nbformat_minor": 5
}
