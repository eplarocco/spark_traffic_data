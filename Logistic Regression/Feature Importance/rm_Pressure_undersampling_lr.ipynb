{
 "cells": [
  {
   "cell_type": "code",
   "execution_count": 1,
   "id": "1bf6ccc1-6317-482a-ac30-72c6eab49a0b",
   "metadata": {},
   "outputs": [],
   "source": [
    "# Import Libraries\n",
    "import pandas as pd\n",
    "import numpy as np\n",
    "import os\n",
    "import pyspark\n",
    "from pyspark.sql import SparkSession\n",
    "from pyspark.sql.types import *\n",
    "from pyspark.sql.functions import *\n",
    "from pyspark.ml.feature import StringIndexer, OneHotEncoder, VectorAssembler\n",
    "from pyspark.ml.stat import Correlation\n",
    "import seaborn as sns\n",
    "import matplotlib.pyplot as plt\n",
    "import pyspark.sql.functions as F\n",
    "import holidays\n",
    "from datetime import datetime, timezone\n",
    "from pyspark.ml.classification import RandomForestClassifier, BinaryLogisticRegressionSummary\n",
    "from pyspark.ml import Pipeline\n",
    "from pyspark.mllib.evaluation import MulticlassMetrics, BinaryClassificationMetrics\n",
    "from pyspark.ml.pipeline import PipelineModel"
   ]
  },
  {
   "cell_type": "code",
   "execution_count": 2,
   "id": "d0709727-12cd-4322-b2e8-5ceca8b3b502",
   "metadata": {},
   "outputs": [
    {
     "name": "stderr",
     "output_type": "stream",
     "text": [
      "24/11/14 11:31:50 WARN NativeCodeLoader: Unable to load native-hadoop library for your platform... using builtin-java classes where applicable\n",
      "Using Spark's default log4j profile: org/apache/spark/log4j-defaults.properties\n",
      "Setting default log level to \"WARN\".\n",
      "To adjust logging level use sc.setLogLevel(newLevel). For SparkR, use setLogLevel(newLevel).\n"
     ]
    }
   ],
   "source": [
    "# Instantiate Spark Session\n",
    "spark = (SparkSession\n",
    "  .builder\n",
    "  .appName(\"US_Accidents\")\n",
    "  .getOrCreate())\n",
    "spark.sparkContext.setLogLevel(\"ERROR\") #supress warnings"
   ]
  },
  {
   "cell_type": "code",
   "execution_count": 3,
   "id": "c5a537b4-0516-49a4-a9d3-9957ecf6972b",
   "metadata": {},
   "outputs": [
    {
     "name": "stderr",
     "output_type": "stream",
     "text": [
      "                                                                                \r"
     ]
    }
   ],
   "source": [
    "# Read in Data\n",
    "df = spark.read.parquet(\"final_dataset_revised.parquet\")"
   ]
  },
  {
   "cell_type": "code",
   "execution_count": 4,
   "id": "c6be913b-8a20-494f-af35-4cc44879acb7",
   "metadata": {},
   "outputs": [
    {
     "name": "stderr",
     "output_type": "stream",
     "text": [
      "                                                                                \r"
     ]
    }
   ],
   "source": [
    "# Use StringIndexer for encoding the 'Severity' column\n",
    "indexer = StringIndexer(inputCol=\"Severity\", outputCol=\"SeverityIndex\")\n",
    "df = indexer.fit(df).transform(df)"
   ]
  },
  {
   "cell_type": "code",
   "execution_count": 5,
   "id": "bb96fd0f-7581-467f-a0c3-948425bd9ed5",
   "metadata": {},
   "outputs": [],
   "source": [
    "# Create list of features\n",
    "feature_list = []\n",
    "for col in df.columns:\n",
    "    if col == 'Severity':\n",
    "        continue\n",
    "    elif col == 'SeverityIndex':\n",
    "        continue\n",
    "    elif col == 'Pressure':\n",
    "        continue\n",
    "    else:\n",
    "        feature_list.append(col)"
   ]
  },
  {
   "cell_type": "code",
   "execution_count": 6,
   "id": "8117f0e8-de44-4430-aa72-8899adcaeae8",
   "metadata": {},
   "outputs": [],
   "source": [
    "# Split the data into train and test\n",
    "splits = df.randomSplit([0.8, 0.2], 314)\n",
    "train = splits[0]\n",
    "test = splits[1]"
   ]
  },
  {
   "cell_type": "code",
   "execution_count": 7,
   "id": "827fa4c6-689b-4ea8-9b72-5fdbf8d7ecb4",
   "metadata": {},
   "outputs": [
    {
     "name": "stderr",
     "output_type": "stream",
     "text": [
      "                                                                                \r"
     ]
    },
    {
     "name": "stdout",
     "output_type": "stream",
     "text": [
      "+--------+-----------+--------+--------+----------+----------+-------------+-------+---------+----+----+-------------+--------------------------+--------------------+---------+-----------------+-----------------+-------------------+------------+-----------+--------------------+--------------------+-----------+-------------+\n",
      "|Severity|Temperature|Humidity|Pressure|Visibility|Wind_Speed|Precipitation|Weekday|Rush_Hour|Rain|Snow|    SeasonVec|Astronomical_TwilightIndex|Interstate_Indicator|Sex_ratio|Percent_Age_15-19|Percent_Age_20-24|Percent_Age_65_over|MedianIncome|Urban_Ratio|Traffic_Interference|Traffic_Intersection|Destination|SeverityIndex|\n",
      "+--------+-----------+--------+--------+----------+----------+-------------+-------+---------+----+----+-------------+--------------------------+--------------------+---------+-----------------+-----------------+-------------------+------------+-----------+--------------------+--------------------+-----------+-------------+\n",
      "|       2|        -13|      75|      29|        10|         8|            0|      1|        1|   0|   0|(3,[0],[1.0])|                         0|                   1|     97.7|              5.5|              7.6|               14.7|     78803.0|     0.0024|                   0|                   0|          0|          0.0|\n",
      "|       2|        -10|      73|      29|        10|         6|            0|      1|        1|   0|   0|(3,[0],[1.0])|                         0|                   0|    103.5|              7.7|              5.4|               11.1|    101473.0|     0.9676|                   0|                   0|          0|          0.0|\n",
      "|       2|         -8|      71|      29|         5|        13|            0|      1|        1|   0|   0|(3,[0],[1.0])|                         0|                   0|    103.0|              7.3|              1.3|               28.5|     52625.0|        0.0|                   0|                   0|          0|          0.0|\n",
      "|       2|          1|      86|      30|        10|         0|            0|      1|        1|   0|   0|(3,[0],[1.0])|                         0|                   0|     94.4|              5.6|              4.8|               20.8|     58497.0|        0.0|                   0|                   0|          0|          0.0|\n",
      "|       2|          3|      63|      29|        10|         9|            0|      1|        1|   0|   0|(3,[0],[1.0])|                         0|                   0|     98.3|              6.7|              7.2|               16.1|     89995.0|     0.9801|                   0|                   1|          0|          0.0|\n",
      "|       2|          3|      85|      30|        10|         0|            0|      1|        1|   0|   0|(3,[0],[1.0])|                         0|                   0|    106.0|              5.2|              4.5|               18.2|    108750.0|     0.4196|                   0|                   0|          0|          0.0|\n",
      "|       2|          4|      90|      29|        10|         8|            0|      1|        1|   0|   0|(3,[1],[1.0])|                         0|                   1|     98.6|              4.0|              2.9|               26.1|     56750.0|        0.0|                   0|                   0|          0|          0.0|\n",
      "|       2|          8|      75|      29|        10|         5|            0|      1|        0|   0|   0|(3,[0],[1.0])|                         1|                   0|     98.2|              6.9|              5.3|               12.3|     91316.0|     0.9519|                   0|                   0|          0|          0.0|\n",
      "|       2|         11|      56|      30|        10|        16|            0|      1|        0|   0|   0|(3,[0],[1.0])|                         1|                   0|     88.8|              6.0|              7.4|               13.9|     26900.0|        1.0|                   0|                   1|          1|          0.0|\n",
      "|       2|         12|      85|      25|        10|         6|            0|      1|        1|   0|   0|(3,[0],[1.0])|                         0|                   0|     97.4|              7.5|              2.9|               31.8|     69219.0|        0.0|                   0|                   0|          0|          0.0|\n",
      "|       2|         13|      65|      28|        10|         0|            0|      1|        0|   0|   0|(3,[0],[1.0])|                         0|                   0|     95.7|              3.9|              5.7|               15.3|     64455.0|     0.6487|                   0|                   0|          0|          0.0|\n",
      "|       2|         14|      52|      30|        10|         6|            0|      1|        0|   0|   0|(3,[0],[1.0])|                         0|                   0|     83.0|              6.3|              6.4|               17.8|     33177.0|        1.0|                   0|                   0|          0|          0.0|\n",
      "|       2|         15|      29|      30|        10|        16|            0|      0|        0|   0|   0|(3,[0],[1.0])|                         0|                   0|     97.7|              5.1|              7.5|               13.2|     76970.0|     0.9998|                   0|                   0|          0|          0.0|\n",
      "|       2|         16|      41|      30|        10|        16|            0|      1|        0|   0|   0|(3,[0],[1.0])|                         0|                   0|     96.4|              5.4|              5.3|               18.5|    128545.0|     0.9449|                   0|                   0|          0|          0.0|\n",
      "|       2|         16|      79|      30|        10|        14|            0|      1|        0|   0|   0|(3,[0],[1.0])|                         0|                   0|     99.7|              5.5|              5.4|               19.5|     60655.0|     0.4288|                   0|                   0|          0|          0.0|\n",
      "|       2|         17|      46|      30|        10|         8|            0|      1|        1|   0|   0|(3,[0],[1.0])|                         0|                   0|     83.0|              6.7|              4.2|               14.4|    100861.0|      0.976|                   0|                   0|          0|          0.0|\n",
      "|       2|         19|      62|      30|        10|         5|            0|      1|        1|   0|   0|(3,[0],[1.0])|                         0|                   0|     98.2|              6.5|              5.8|               23.4|    128306.0|        1.0|                   0|                   0|          0|          0.0|\n",
      "|       2|         20|      71|      29|        10|        21|            0|      1|        0|   0|   0|(3,[0],[1.0])|                         0|                   1|     97.5|              7.2|              9.1|               13.5|     40390.0|        1.0|                   0|                   0|          0|          0.0|\n",
      "|       2|         21|      93|      29|         3|         0|            0|      1|        0|   0|   1|(3,[0],[1.0])|                         1|                   0|     98.5|              6.0|              6.0|               18.4|     61818.0|        0.0|                   0|                   0|          0|          0.0|\n",
      "|       2|         22|      63|      30|        10|         0|            0|      1|        1|   0|   0|(3,[0],[1.0])|                         0|                   0|     84.6|              1.4|              5.6|               19.0|    116250.0|        1.0|                   0|                   0|          0|          0.0|\n",
      "+--------+-----------+--------+--------+----------+----------+-------------+-------+---------+----+----+-------------+--------------------------+--------------------+---------+-----------------+-----------------+-------------------+------------+-----------+--------------------+--------------------+-----------+-------------+\n",
      "only showing top 20 rows\n",
      "\n"
     ]
    },
    {
     "name": "stderr",
     "output_type": "stream",
     "text": [
      "                                                                                \r"
     ]
    },
    {
     "name": "stdout",
     "output_type": "stream",
     "text": [
      "+-------------+-----+\n",
      "|SeverityIndex|count|\n",
      "+-------------+-----+\n",
      "|          0.0|52013|\n",
      "|          1.0|52033|\n",
      "|          3.0|52136|\n",
      "|          2.0|51917|\n",
      "+-------------+-----+\n",
      "\n"
     ]
    }
   ],
   "source": [
    "# Undersampling\n",
    "from pyspark.sql import functions as F\n",
    "\n",
    "# Step 1: Group by 'Severity' and count occurrences\n",
    "class_counts = train.groupBy(\"SeverityIndex\").count()\n",
    "\n",
    "# Step 2: Use PySpark's min() function to find the minimum count\n",
    "min_class_size = class_counts.agg(F.min('count')).collect()[0][0]\n",
    "\n",
    "undersampled_train_list = []\n",
    "\n",
    "for row in class_counts.collect():\n",
    "    class_label = row['SeverityIndex']\n",
    "    class_size = row['count']\n",
    "\n",
    "    if class_size > min_class_size:\n",
    "        # Sample the data for this class to the size of the minimum class\n",
    "        class_data = train.filter(F.col(\"SeverityIndex\") == class_label)\n",
    "        class_data_undersampled = class_data.sample(withReplacement=False, fraction=min_class_size / class_size)\n",
    "    else:\n",
    "        # For classes that are already at the minimum size, keep all samples\n",
    "        class_data_undersampled = train.filter(F.col(\"SeverityIndex\") == class_label)\n",
    "\n",
    "    undersampled_train_list.append(class_data_undersampled)\n",
    "\n",
    "# Combine all the undersampled DataFrames\n",
    "undersampled_train = undersampled_train_list[0]  # start with the first one\n",
    "for df in undersampled_train_list[1:]:\n",
    "    undersampled_train = undersampled_train.union(df)\n",
    "\n",
    "# Show the result\n",
    "undersampled_train.show()\n",
    "\n",
    "# Step 4: Group by 'Severity' and count the occurrences in the undersampled DataFrame\n",
    "undersampled_class_counts = undersampled_train.groupBy(\"SeverityIndex\").count()\n",
    "\n",
    "# Show the result\n",
    "undersampled_class_counts.show()"
   ]
  },
  {
   "cell_type": "code",
   "execution_count": 8,
   "id": "2d79048b-55fa-4cac-9ce6-00d115340220",
   "metadata": {},
   "outputs": [],
   "source": [
    "# Assemble data for logistic regression model\n",
    "assembler = VectorAssembler(inputCols=feature_list,\n",
    "                            outputCol=\"features\")\n",
    "\n",
    "undersampled_train = assembler.transform(undersampled_train)\n",
    "test = assembler.transform(test)"
   ]
  },
  {
   "cell_type": "code",
   "execution_count": 9,
   "id": "2b5e00b4-277f-4dff-b480-5bcb8acdc8bc",
   "metadata": {},
   "outputs": [
    {
     "name": "stderr",
     "output_type": "stream",
     "text": [
      "                                                                                \r"
     ]
    }
   ],
   "source": [
    "# Standardize the predictors\n",
    "from pyspark.ml.feature import StandardScaler\n",
    "scaler = StandardScaler(inputCol=\"features\", outputCol=\"scaledFeatures\")\n",
    "scalerModel = scaler.fit(undersampled_train)\n",
    "scaledTrainData = scalerModel.transform(undersampled_train)\n",
    "scaledTestData = scalerModel.transform(test)"
   ]
  },
  {
   "cell_type": "code",
   "execution_count": 10,
   "id": "54cb60dc-688a-45e9-b2fe-bf00d4ec87f0",
   "metadata": {},
   "outputs": [
    {
     "name": "stderr",
     "output_type": "stream",
     "text": [
      "                                                                                \r"
     ]
    },
    {
     "name": "stdout",
     "output_type": "stream",
     "text": [
      "Detected number of classes: 4\n",
      "Coefficients: DenseMatrix([[ 1.91871157e-02, -4.02781108e-02, -2.70214009e-02,\n",
      "              -1.22833097e-02,  3.83132713e-03, -2.28228460e-02,\n",
      "              -4.01736476e-02, -1.73075605e-02,  2.84849749e-02,\n",
      "               5.68267723e-01,  3.39517152e-01,  3.58680183e-02,\n",
      "              -6.62630062e-04, -9.70670909e-02,  3.69846428e-02,\n",
      "               2.48567735e-03,  8.72968793e-03,  3.24171011e-02,\n",
      "               1.76982534e-02,  4.31443552e-02, -1.12012623e-02,\n",
      "              -2.80695095e-02,  6.09037047e-02],\n",
      "             [-9.73216137e-02, -1.55326221e-02,  1.65491585e-02,\n",
      "               1.36743147e-01,  8.65755620e-03, -6.86590590e-02,\n",
      "              -1.31489041e-02,  3.69207290e-02,  1.35833930e-02,\n",
      "               2.53954779e-01,  1.69335045e-01, -1.05557941e-01,\n",
      "              -1.22902272e-01,  4.61701196e-01,  3.91153681e-02,\n",
      "              -4.56987149e-02,  2.02497648e-02, -1.08955286e-01,\n",
      "               2.22743910e-02,  3.15300607e-01,  8.01846265e-03,\n",
      "              -2.59984413e-01, -9.64940904e-02],\n",
      "             [-2.18090297e-01, -2.62700263e-02,  2.55905345e-02,\n",
      "               6.55220566e-02, -7.52710116e-03, -1.31867691e-01,\n",
      "              -1.68497168e-01,  1.54735412e-02,  3.01449819e-02,\n",
      "               2.41755312e-01,  1.51037941e-01, -5.76076822e-02,\n",
      "               1.69026662e-01, -6.81805507e-03,  2.53997098e-02,\n",
      "               4.50501449e-02, -3.55135725e-02,  8.84163008e-02,\n",
      "              -2.27996338e-02, -4.26817248e-01, -2.93636416e-03,\n",
      "              -2.74780284e-02, -6.78216210e-03],\n",
      "             [ 2.96224795e-01,  8.20807592e-02, -1.51182921e-02,\n",
      "              -1.89981894e-01, -4.96178216e-03,  2.23349596e-01,\n",
      "               2.21819719e-01, -3.50867098e-02, -7.22133498e-02,\n",
      "              -1.06397781e+00, -6.59890138e-01,  1.27297604e-01,\n",
      "              -4.54617601e-02, -3.57816050e-01, -1.01499721e-01,\n",
      "              -1.83710736e-03,  6.53411981e-03, -1.18781159e-02,\n",
      "              -1.71730105e-02,  6.83722862e-02,  6.11916379e-03,\n",
      "               3.15531950e-01,  4.23725478e-02]])\n",
      "Intercept: [-0.2414339886679141,-0.4569860558210932,1.8950281857487843,-1.1966081412597767]\n"
     ]
    }
   ],
   "source": [
    "# Fit logistic regression model with intercept\n",
    "from pyspark.ml.classification import LogisticRegression\n",
    "\n",
    "# instantiate the model\n",
    "lr = LogisticRegression(labelCol='SeverityIndex',\n",
    "                        featuresCol='scaledFeatures',\n",
    "                        #maxIter=10, \n",
    "                        #regParam=0.3, \n",
    "                        #elasticNetParam=0.8,\n",
    "                        family=\"multinomial\")\n",
    "\n",
    "# Fit the model\n",
    "lrModel = lr.fit(scaledTrainData)\n",
    "print(f\"Detected number of classes: {lrModel.numClasses}\")\n",
    "\n",
    "# Print the coefficients and intercept for logistic regression\n",
    "print(\"Coefficients: \" + str(lrModel.coefficientMatrix))\n",
    "print(\"Intercept: \" + str(lrModel.interceptVector))"
   ]
  },
  {
   "cell_type": "code",
   "execution_count": 11,
   "id": "c9646a1f-7a43-4a74-8e3d-e64dd3a11062",
   "metadata": {},
   "outputs": [
    {
     "name": "stderr",
     "output_type": "stream",
     "text": [
      "                                                                                \r"
     ]
    },
    {
     "name": "stdout",
     "output_type": "stream",
     "text": [
      "+----------+\n",
      "|prediction|\n",
      "+----------+\n",
      "|       0.0|\n",
      "|       1.0|\n",
      "|       3.0|\n",
      "|       2.0|\n",
      "+----------+\n",
      "\n"
     ]
    },
    {
     "name": "stderr",
     "output_type": "stream",
     "text": [
      "[Stage 259:=============================================>         (19 + 4) / 23]\r"
     ]
    },
    {
     "name": "stdout",
     "output_type": "stream",
     "text": [
      "Accuracy: 0.38381627321981426\n"
     ]
    },
    {
     "name": "stderr",
     "output_type": "stream",
     "text": [
      "                                                                                \r"
     ]
    }
   ],
   "source": [
    "from pyspark.ml.evaluation import MulticlassClassificationEvaluator\n",
    "\n",
    "# compute predictions. this will append column \"prediction\" to dataframe\n",
    "lrPred = lrModel.transform(scaledTestData)\n",
    "lrPred.select(\"prediction\").distinct().show()\n",
    "\n",
    "evaluator = MulticlassClassificationEvaluator(labelCol='SeverityIndex', predictionCol='prediction', metricName='accuracy')\n",
    "accuracy = evaluator.evaluate(lrPred, {evaluator.metricName: \"accuracy\"})\n",
    "print(f'Accuracy: {accuracy}')"
   ]
  },
  {
   "cell_type": "code",
   "execution_count": 12,
   "id": "e3e81050-0bf6-4e42-b0c8-f7ebe09b0971",
   "metadata": {},
   "outputs": [
    {
     "name": "stderr",
     "output_type": "stream",
     "text": [
      "[Stage 265:===============================================>       (20 + 3) / 23]\r"
     ]
    },
    {
     "name": "stdout",
     "output_type": "stream",
     "text": [
      "Precision: 0.7683471785319564\n",
      "Recall: 0.38381627321981426\n",
      "F1 Score: 0.4759965390602527\n"
     ]
    },
    {
     "name": "stderr",
     "output_type": "stream",
     "text": [
      "                                                                                \r"
     ]
    }
   ],
   "source": [
    "precision = evaluator.evaluate(lrPred, {evaluator.metricName: 'weightedPrecision'})\n",
    "recall = evaluator.evaluate(lrPred, {evaluator.metricName: 'weightedRecall'})\n",
    "f1_score = evaluator.evaluate(lrPred, {evaluator.metricName: 'f1'})\n",
    "\n",
    "print(f'Precision: {precision}')\n",
    "print(f'Recall: {recall}')\n",
    "print(f'F1 Score: {f1_score}')"
   ]
  },
  {
   "cell_type": "code",
   "execution_count": 13,
   "id": "05e473cd-b658-4a72-ba3a-f5d2752719eb",
   "metadata": {},
   "outputs": [
    {
     "name": "stderr",
     "output_type": "stream",
     "text": [
      "                                                                                \r"
     ]
    },
    {
     "name": "stdout",
     "output_type": "stream",
     "text": [
      "+-------------+-------------------+\n",
      "|SeverityIndex|           accuracy|\n",
      "+-------------+-------------------+\n",
      "|          0.0| 0.3574280578400649|\n",
      "|          1.0|0.48669041292766557|\n",
      "|          3.0| 0.7928648316161772|\n",
      "|          2.0| 0.4215359632667917|\n",
      "+-------------+-------------------+\n",
      "\n"
     ]
    }
   ],
   "source": [
    "# Add a column to indicate correct or incorrect predictions\n",
    "predictions = lrPred.withColumn(\n",
    "    'is_correct', F.expr(\"CASE WHEN SeverityIndex = prediction THEN 1 ELSE 0 END\")\n",
    ")\n",
    "\n",
    "# Calculate accuracy by class\n",
    "accuracy_by_class = predictions.groupBy('SeverityIndex').agg(\n",
    "    (F.sum('is_correct') / F.count('SeverityIndex')).alias('accuracy')\n",
    ")\n",
    "\n",
    "# Show per-class accuracy\n",
    "accuracy_by_class.show()"
   ]
  },
  {
   "cell_type": "code",
   "execution_count": 14,
   "id": "b538d82c-2069-44f5-84ef-1d2adcf26a5d",
   "metadata": {
    "tags": []
   },
   "outputs": [
    {
     "name": "stdout",
     "output_type": "stream",
     "text": [
      "23\n"
     ]
    }
   ],
   "source": [
    "print(len([-9.73216137e-02, -1.55326221e-02,  1.65491585e-02,\n",
    "               1.36743147e-01,  8.65755620e-03, -6.86590590e-02,\n",
    "              -1.31489041e-02,  3.69207290e-02,  1.35833930e-02,\n",
    "               2.53954779e-01,  1.69335045e-01, -1.05557941e-01,\n",
    "              -1.22902272e-01,  4.61701196e-01,  3.91153681e-02,\n",
    "              -4.56987149e-02,  2.02497648e-02, -1.08955286e-01,\n",
    "               2.22743910e-02,  3.15300607e-01,  8.01846265e-03,\n",
    "              -2.59984413e-01, -9.64940904e-02]))"
   ]
  },
  {
   "cell_type": "code",
   "execution_count": null,
   "id": "50e0e926-2b77-4166-8dbc-bd64ea26ccbe",
   "metadata": {},
   "outputs": [],
   "source": []
  }
 ],
 "metadata": {
  "kernelspec": {
   "display_name": "Python 3 (ipykernel)",
   "language": "python",
   "name": "python3"
  },
  "language_info": {
   "codemirror_mode": {
    "name": "ipython",
    "version": 3
   },
   "file_extension": ".py",
   "mimetype": "text/x-python",
   "name": "python",
   "nbconvert_exporter": "python",
   "pygments_lexer": "ipython3",
   "version": "3.11.5"
  }
 },
 "nbformat": 4,
 "nbformat_minor": 5
}
