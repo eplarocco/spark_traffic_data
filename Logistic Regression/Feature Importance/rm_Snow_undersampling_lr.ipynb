{
 "cells": [
  {
   "cell_type": "code",
   "execution_count": 1,
   "id": "1bf6ccc1-6317-482a-ac30-72c6eab49a0b",
   "metadata": {},
   "outputs": [],
   "source": [
    "# Import Libraries\n",
    "import pandas as pd\n",
    "import numpy as np\n",
    "import os\n",
    "import pyspark\n",
    "from pyspark.sql import SparkSession\n",
    "from pyspark.sql.types import *\n",
    "from pyspark.sql.functions import *\n",
    "from pyspark.ml.feature import StringIndexer, OneHotEncoder, VectorAssembler\n",
    "from pyspark.ml.stat import Correlation\n",
    "import seaborn as sns\n",
    "import matplotlib.pyplot as plt\n",
    "import pyspark.sql.functions as F\n",
    "import holidays\n",
    "from datetime import datetime, timezone\n",
    "from pyspark.ml.classification import RandomForestClassifier, BinaryLogisticRegressionSummary\n",
    "from pyspark.ml import Pipeline\n",
    "from pyspark.mllib.evaluation import MulticlassMetrics, BinaryClassificationMetrics\n",
    "from pyspark.ml.pipeline import PipelineModel"
   ]
  },
  {
   "cell_type": "code",
   "execution_count": 2,
   "id": "d0709727-12cd-4322-b2e8-5ceca8b3b502",
   "metadata": {},
   "outputs": [
    {
     "name": "stderr",
     "output_type": "stream",
     "text": [
      "24/11/14 19:52:54 WARN NativeCodeLoader: Unable to load native-hadoop library for your platform... using builtin-java classes where applicable\n",
      "Using Spark's default log4j profile: org/apache/spark/log4j-defaults.properties\n",
      "Setting default log level to \"WARN\".\n",
      "To adjust logging level use sc.setLogLevel(newLevel). For SparkR, use setLogLevel(newLevel).\n"
     ]
    }
   ],
   "source": [
    "# Instantiate Spark Session\n",
    "spark = (SparkSession\n",
    "  .builder\n",
    "  .appName(\"US_Accidents\")\n",
    "  .getOrCreate())\n",
    "spark.sparkContext.setLogLevel(\"ERROR\") #supress warnings"
   ]
  },
  {
   "cell_type": "code",
   "execution_count": 3,
   "id": "c5a537b4-0516-49a4-a9d3-9957ecf6972b",
   "metadata": {},
   "outputs": [],
   "source": [
    "# Read in Data\n",
    "df = spark.read.parquet(\"final_dataset_revised.parquet\")"
   ]
  },
  {
   "cell_type": "code",
   "execution_count": 4,
   "id": "c6be913b-8a20-494f-af35-4cc44879acb7",
   "metadata": {},
   "outputs": [
    {
     "name": "stderr",
     "output_type": "stream",
     "text": [
      "                                                                                \r"
     ]
    }
   ],
   "source": [
    "# Use StringIndexer for encoding the 'Severity' column\n",
    "indexer = StringIndexer(inputCol=\"Severity\", outputCol=\"SeverityIndex\")\n",
    "df = indexer.fit(df).transform(df)"
   ]
  },
  {
   "cell_type": "code",
   "execution_count": 5,
   "id": "bb96fd0f-7581-467f-a0c3-948425bd9ed5",
   "metadata": {},
   "outputs": [],
   "source": [
    "# Create list of features\n",
    "feature_list = []\n",
    "for col in df.columns:\n",
    "    if col == 'Severity':\n",
    "        continue\n",
    "    elif col == 'SeverityIndex':\n",
    "        continue\n",
    "    elif col == 'Snow':\n",
    "        continue\n",
    "    else:\n",
    "        feature_list.append(col)"
   ]
  },
  {
   "cell_type": "code",
   "execution_count": 6,
   "id": "8117f0e8-de44-4430-aa72-8899adcaeae8",
   "metadata": {},
   "outputs": [],
   "source": [
    "# Split the data into train and test\n",
    "splits = df.randomSplit([0.8, 0.2], 314)\n",
    "train = splits[0]\n",
    "test = splits[1]"
   ]
  },
  {
   "cell_type": "code",
   "execution_count": 7,
   "id": "827fa4c6-689b-4ea8-9b72-5fdbf8d7ecb4",
   "metadata": {},
   "outputs": [
    {
     "name": "stderr",
     "output_type": "stream",
     "text": [
      "                                                                                \r"
     ]
    },
    {
     "name": "stdout",
     "output_type": "stream",
     "text": [
      "+--------+-----------+--------+--------+----------+----------+-------------+-------+---------+----+----+-------------+--------------------------+--------------------+---------+-----------------+-----------------+-------------------+------------+-----------+--------------------+--------------------+-----------+-------------+\n",
      "|Severity|Temperature|Humidity|Pressure|Visibility|Wind_Speed|Precipitation|Weekday|Rush_Hour|Rain|Snow|    SeasonVec|Astronomical_TwilightIndex|Interstate_Indicator|Sex_ratio|Percent_Age_15-19|Percent_Age_20-24|Percent_Age_65_over|MedianIncome|Urban_Ratio|Traffic_Interference|Traffic_Intersection|Destination|SeverityIndex|\n",
      "+--------+-----------+--------+--------+----------+----------+-------------+-------+---------+----+----+-------------+--------------------------+--------------------+---------+-----------------+-----------------+-------------------+------------+-----------+--------------------+--------------------+-----------+-------------+\n",
      "|       2|         -6|      71|      29|        10|        14|            0|      1|        1|   0|   0|(3,[0],[1.0])|                         0|                   0|     91.9|              5.0|              4.7|               25.7|     50257.0|        0.0|                   0|                   0|          0|          0.0|\n",
      "|       2|         -4|      83|      30|        10|         0|            0|      1|        1|   0|   0|(3,[0],[1.0])|                         0|                   0|    100.5|             12.2|             10.7|               15.6|     81953.0|     0.9663|                   0|                   0|          0|          0.0|\n",
      "|       2|         -4|      87|      29|        10|         0|            0|      1|        0|   0|   0|(3,[0],[1.0])|                         1|                   1|     93.9|              6.0|              1.1|               25.8|     70673.0|        0.0|                   0|                   0|          0|          0.0|\n",
      "|       2|          0|      72|      31|        10|         0|            0|      1|        1|   0|   0|(3,[0],[1.0])|                         0|                   1|     91.7|              3.5|              5.5|               16.2|     72537.0|     0.9993|                   0|                   0|          0|          0.0|\n",
      "|       2|          6|      48|      30|        10|        16|            0|      1|        1|   0|   0|(3,[0],[1.0])|                         0|                   1|     92.5|              4.8|              6.4|               22.5|     73290.0|        1.0|                   0|                   0|          0|          0.0|\n",
      "|       2|         10|      58|      30|        10|         6|            0|      1|        0|   0|   0|(3,[0],[1.0])|                         1|                   0|     91.6|              6.8|              7.6|               15.1|     25730.0|        1.0|                   0|                   0|          0|          0.0|\n",
      "|       2|         10|      73|      29|        10|         3|            0|      1|        1|   0|   0|(3,[0],[1.0])|                         0|                   0|     90.0|              8.6|              2.4|               10.9|    127570.0|     0.9978|                   0|                   0|          0|          0.0|\n",
      "|       2|         10|      92|      29|         1|         7|            0|      1|        1|   0|   1|(3,[0],[1.0])|                         0|                   0|    120.5|              6.8|              5.9|               17.3|     52813.0|        0.0|                   1|                   1|          0|          0.0|\n",
      "|       2|         12|      80|      29|         1|        13|            0|      1|        1|   0|   1|(3,[0],[1.0])|                         0|                   0|     98.2|              7.4|              6.1|                9.8|     88812.0|     0.9397|                   0|                   0|          0|          0.0|\n",
      "|       2|         12|      84|      28|         4|         5|            0|      1|        1|   0|   0|(3,[0],[1.0])|                         0|                   1|    102.2|              4.3|              5.0|               16.5|     54518.0|     0.9857|                   0|                   0|          0|          0.0|\n",
      "|       2|         13|      84|      29|         6|         0|            0|      1|        1|   0|   0|(3,[0],[1.0])|                         0|                   0|     91.0|              5.5|              7.8|               15.2|     37731.0|     0.7421|                   0|                   0|          0|          0.0|\n",
      "|       2|         13|      84|      29|        10|        13|            0|      1|        0|   0|   0|(3,[0],[1.0])|                         1|                   0|     97.4|              5.3|              5.2|               15.4|     70245.0|     0.9397|                   0|                   1|          0|          0.0|\n",
      "|       2|         15|      54|      30|        10|        14|            0|      1|        1|   0|   0|(3,[0],[1.0])|                         0|                   0|     93.6|              9.3|              7.2|               17.9|    168019.0|        1.0|                   0|                   1|          0|          0.0|\n",
      "|       2|         15|      56|      29|        10|        12|            0|      1|        1|   0|   0|(3,[0],[1.0])|                         0|                   1|     97.8|              6.6|              5.9|               12.0|     50609.0|      0.957|                   0|                   0|          0|          0.0|\n",
      "|       2|         15|      61|      30|        10|         0|            0|      1|        1|   0|   1|(3,[0],[1.0])|                         0|                   0|     83.5|              4.7|              2.9|               42.2|    101250.0|        1.0|                   0|                   1|          0|          0.0|\n",
      "|       2|         15|      70|      30|         2|         6|            0|      1|        1|   0|   1|(3,[0],[1.0])|                         0|                   0|     99.8|              7.8|              5.9|               12.5|    141285.0|        1.0|                   0|                   0|          0|          0.0|\n",
      "|       2|         16|      45|      30|        10|         7|            0|      0|        0|   0|   0|(3,[0],[1.0])|                         0|                   0|     99.0|              7.9|              5.2|               18.3|    122494.0|        1.0|                   0|                   0|          0|          0.0|\n",
      "|       2|         16|      54|      30|        10|        14|            0|      0|        1|   0|   0|(3,[0],[1.0])|                         0|                   0|     98.9|              2.7|              4.3|               38.2|     69954.0|       0.96|                   0|                   0|          0|          0.0|\n",
      "|       2|         16|      73|      30|        10|         7|            0|      1|        1|   0|   0|(3,[0],[1.0])|                         0|                   0|     89.8|              6.0|              7.2|               22.0|     22412.0|        1.0|                   0|                   1|          1|          0.0|\n",
      "|       2|         17|      47|      30|        10|         6|            0|      1|        0|   0|   0|(3,[0],[1.0])|                         0|                   0|     83.3|              5.5|              5.5|               21.1|     89250.0|     0.9994|                   0|                   0|          0|          0.0|\n",
      "+--------+-----------+--------+--------+----------+----------+-------------+-------+---------+----+----+-------------+--------------------------+--------------------+---------+-----------------+-----------------+-------------------+------------+-----------+--------------------+--------------------+-----------+-------------+\n",
      "only showing top 20 rows\n",
      "\n"
     ]
    },
    {
     "name": "stderr",
     "output_type": "stream",
     "text": [
      "                                                                                \r"
     ]
    },
    {
     "name": "stdout",
     "output_type": "stream",
     "text": [
      "+-------------+-----+\n",
      "|SeverityIndex|count|\n",
      "+-------------+-----+\n",
      "|          0.0|52109|\n",
      "|          1.0|52198|\n",
      "|          3.0|52136|\n",
      "|          2.0|52165|\n",
      "+-------------+-----+\n",
      "\n"
     ]
    }
   ],
   "source": [
    "# Undersampling\n",
    "from pyspark.sql import functions as F\n",
    "\n",
    "# Step 1: Group by 'Severity' and count occurrences\n",
    "class_counts = train.groupBy(\"SeverityIndex\").count()\n",
    "\n",
    "# Step 2: Use PySpark's min() function to find the minimum count\n",
    "min_class_size = class_counts.agg(F.min('count')).collect()[0][0]\n",
    "\n",
    "undersampled_train_list = []\n",
    "\n",
    "for row in class_counts.collect():\n",
    "    class_label = row['SeverityIndex']\n",
    "    class_size = row['count']\n",
    "\n",
    "    if class_size > min_class_size:\n",
    "        # Sample the data for this class to the size of the minimum class\n",
    "        class_data = train.filter(F.col(\"SeverityIndex\") == class_label)\n",
    "        class_data_undersampled = class_data.sample(withReplacement=False, fraction=min_class_size / class_size)\n",
    "    else:\n",
    "        # For classes that are already at the minimum size, keep all samples\n",
    "        class_data_undersampled = train.filter(F.col(\"SeverityIndex\") == class_label)\n",
    "\n",
    "    undersampled_train_list.append(class_data_undersampled)\n",
    "\n",
    "# Combine all the undersampled DataFrames\n",
    "undersampled_train = undersampled_train_list[0]  # start with the first one\n",
    "for df in undersampled_train_list[1:]:\n",
    "    undersampled_train = undersampled_train.union(df)\n",
    "\n",
    "# Show the result\n",
    "undersampled_train.show()\n",
    "\n",
    "# Step 4: Group by 'Severity' and count the occurrences in the undersampled DataFrame\n",
    "undersampled_class_counts = undersampled_train.groupBy(\"SeverityIndex\").count()\n",
    "\n",
    "# Show the result\n",
    "undersampled_class_counts.show()"
   ]
  },
  {
   "cell_type": "code",
   "execution_count": 8,
   "id": "2d79048b-55fa-4cac-9ce6-00d115340220",
   "metadata": {},
   "outputs": [],
   "source": [
    "# Assemble data for logistic regression model\n",
    "assembler = VectorAssembler(inputCols=feature_list,\n",
    "                            outputCol=\"features\")\n",
    "\n",
    "undersampled_train = assembler.transform(undersampled_train)\n",
    "test = assembler.transform(test)"
   ]
  },
  {
   "cell_type": "code",
   "execution_count": 9,
   "id": "2b5e00b4-277f-4dff-b480-5bcb8acdc8bc",
   "metadata": {},
   "outputs": [
    {
     "name": "stderr",
     "output_type": "stream",
     "text": [
      "                                                                                \r"
     ]
    }
   ],
   "source": [
    "# Standardize the predictors\n",
    "from pyspark.ml.feature import StandardScaler\n",
    "scaler = StandardScaler(inputCol=\"features\", outputCol=\"scaledFeatures\")\n",
    "scalerModel = scaler.fit(undersampled_train)\n",
    "scaledTrainData = scalerModel.transform(undersampled_train)\n",
    "scaledTestData = scalerModel.transform(test)"
   ]
  },
  {
   "cell_type": "code",
   "execution_count": 10,
   "id": "54cb60dc-688a-45e9-b2fe-bf00d4ec87f0",
   "metadata": {},
   "outputs": [
    {
     "name": "stderr",
     "output_type": "stream",
     "text": [
      "                                                                                \r"
     ]
    },
    {
     "name": "stdout",
     "output_type": "stream",
     "text": [
      "Detected number of classes: 4\n",
      "Coefficients: DenseMatrix([[-7.88077197e-03, -6.71547125e-02,  1.05015928e-02,\n",
      "              -4.44873349e-02, -1.87248593e-02, -1.10587772e-04,\n",
      "              -2.83252415e-02, -4.94241705e-02, -1.24925819e-02,\n",
      "               5.45622674e-01,  3.42134785e-01,  3.20186006e-02,\n",
      "              -7.57992143e-03, -1.03421299e-01,  1.01023136e-02,\n",
      "              -6.91651287e-03,  5.70942865e-03,  1.87265148e-02,\n",
      "               6.36156031e-03,  3.40729417e-02, -6.92345800e-03,\n",
      "              -3.56914599e-02,  6.26004074e-02],\n",
      "             [-1.82606311e-01, -8.79693387e-02,  3.76830663e-02,\n",
      "              -2.54759719e-02,  1.23789343e-01,  7.08938387e-03,\n",
      "              -7.67893218e-02, -1.83940308e-02,  3.60117577e-02,\n",
      "               1.88745053e-01,  1.33958007e-01, -1.45930746e-01,\n",
      "              -1.29636192e-01,  4.59299641e-01,  6.85958882e-03,\n",
      "              -8.16567261e-02,  2.06685188e-03, -1.64365292e-01,\n",
      "              -1.39407083e-04,  2.71427462e-01,  1.16818611e-03,\n",
      "              -2.69962046e-01, -9.78403466e-02],\n",
      "             [-2.66590833e-01, -5.10818560e-02,  8.08262147e-02,\n",
      "               2.46646388e-02,  8.29763425e-02, -1.27749536e-04,\n",
      "              -1.45859034e-01, -1.64896682e-01,  1.05029677e-02,\n",
      "               2.02694127e-01,  1.40491155e-01, -8.09760861e-02,\n",
      "               1.66496150e-01, -3.01071336e-03,  8.42952994e-03,\n",
      "               5.88166680e-02, -2.42932980e-02,  1.11854374e-01,\n",
      "              -2.62740271e-02, -4.32661066e-01, -5.04235438e-03,\n",
      "              -1.49324904e-02, -4.55021903e-03],\n",
      "             [ 4.57077916e-01,  2.06205907e-01, -1.29010874e-01,\n",
      "               4.52986681e-02, -1.88040826e-01, -6.85104656e-03,\n",
      "               2.50973598e-01,  2.32714884e-01, -3.40221435e-02,\n",
      "              -9.37061853e-01, -6.16583948e-01,  1.94888232e-01,\n",
      "              -2.92800367e-02, -3.52867629e-01, -2.53914324e-02,\n",
      "               2.97565710e-02,  1.65170175e-02,  3.37844031e-02,\n",
      "               2.00518738e-02,  1.27160663e-01,  1.07976263e-02,\n",
      "               3.20585997e-01,  3.97901583e-02]])\n",
      "Intercept: [-0.013814461138174527,-0.09934323713997559,0.04579746505548321,0.06736023322266693]\n"
     ]
    }
   ],
   "source": [
    "# Fit logistic regression model with intercept\n",
    "from pyspark.ml.classification import LogisticRegression\n",
    "\n",
    "# instantiate the model\n",
    "lr = LogisticRegression(labelCol='SeverityIndex',\n",
    "                        featuresCol='scaledFeatures',\n",
    "                        #maxIter=10, \n",
    "                        #regParam=0.3, \n",
    "                        #elasticNetParam=0.8,\n",
    "                        family=\"multinomial\")\n",
    "\n",
    "# Fit the model\n",
    "lrModel = lr.fit(scaledTrainData)\n",
    "print(f\"Detected number of classes: {lrModel.numClasses}\")\n",
    "\n",
    "# Print the coefficients and intercept for logistic regression\n",
    "print(\"Coefficients: \" + str(lrModel.coefficientMatrix))\n",
    "print(\"Intercept: \" + str(lrModel.interceptVector))"
   ]
  },
  {
   "cell_type": "code",
   "execution_count": 11,
   "id": "c9646a1f-7a43-4a74-8e3d-e64dd3a11062",
   "metadata": {},
   "outputs": [
    {
     "name": "stderr",
     "output_type": "stream",
     "text": [
      "                                                                                \r"
     ]
    },
    {
     "name": "stdout",
     "output_type": "stream",
     "text": [
      "+----------+\n",
      "|prediction|\n",
      "+----------+\n",
      "|       0.0|\n",
      "|       1.0|\n",
      "|       3.0|\n",
      "|       2.0|\n",
      "+----------+\n",
      "\n"
     ]
    },
    {
     "name": "stderr",
     "output_type": "stream",
     "text": [
      "[Stage 247:====================================================>  (22 + 1) / 23]\r"
     ]
    },
    {
     "name": "stdout",
     "output_type": "stream",
     "text": [
      "Accuracy: 0.38504769167729014\n"
     ]
    },
    {
     "name": "stderr",
     "output_type": "stream",
     "text": [
      "                                                                                \r"
     ]
    }
   ],
   "source": [
    "from pyspark.ml.evaluation import MulticlassClassificationEvaluator\n",
    "\n",
    "# compute predictions. this will append column \"prediction\" to dataframe\n",
    "lrPred = lrModel.transform(scaledTestData)\n",
    "lrPred.select(\"prediction\").distinct().show()\n",
    "\n",
    "evaluator = MulticlassClassificationEvaluator(labelCol='SeverityIndex', predictionCol='prediction', metricName='accuracy')\n",
    "accuracy = evaluator.evaluate(lrPred, {evaluator.metricName: \"accuracy\"})\n",
    "print(f'Accuracy: {accuracy}')"
   ]
  },
  {
   "cell_type": "code",
   "execution_count": 12,
   "id": "e3e81050-0bf6-4e42-b0c8-f7ebe09b0971",
   "metadata": {},
   "outputs": [
    {
     "name": "stderr",
     "output_type": "stream",
     "text": [
      "[Stage 253:============================>                         (12 + 11) / 23]\r"
     ]
    },
    {
     "name": "stdout",
     "output_type": "stream",
     "text": [
      "Precision: 0.7681639300950616\n",
      "Recall: 0.3850476916772901\n",
      "F1 Score: 0.4757600239207536\n"
     ]
    },
    {
     "name": "stderr",
     "output_type": "stream",
     "text": [
      "                                                                                \r"
     ]
    }
   ],
   "source": [
    "precision = evaluator.evaluate(lrPred, {evaluator.metricName: 'weightedPrecision'})\n",
    "recall = evaluator.evaluate(lrPred, {evaluator.metricName: 'weightedRecall'})\n",
    "f1_score = evaluator.evaluate(lrPred, {evaluator.metricName: 'f1'})\n",
    "\n",
    "print(f'Precision: {precision}')\n",
    "print(f'Recall: {recall}')\n",
    "print(f'F1 Score: {f1_score}')"
   ]
  },
  {
   "cell_type": "code",
   "execution_count": 13,
   "id": "05e473cd-b658-4a72-ba3a-f5d2752719eb",
   "metadata": {},
   "outputs": [
    {
     "name": "stderr",
     "output_type": "stream",
     "text": [
      "[Stage 255:===============================================>       (20 + 3) / 23]\r"
     ]
    },
    {
     "name": "stdout",
     "output_type": "stream",
     "text": [
      "+-------------+-------------------+\n",
      "|SeverityIndex|           accuracy|\n",
      "+-------------+-------------------+\n",
      "|          0.0|0.35717176859025007|\n",
      "|          1.0|0.49559747869711984|\n",
      "|          3.0|  0.777871751499308|\n",
      "|          2.0| 0.4273595206764286|\n",
      "+-------------+-------------------+\n",
      "\n"
     ]
    },
    {
     "name": "stderr",
     "output_type": "stream",
     "text": [
      "                                                                                \r"
     ]
    }
   ],
   "source": [
    "# Add a column to indicate correct or incorrect predictions\n",
    "predictions = lrPred.withColumn(\n",
    "    'is_correct', F.expr(\"CASE WHEN SeverityIndex = prediction THEN 1 ELSE 0 END\")\n",
    ")\n",
    "\n",
    "# Calculate accuracy by class\n",
    "accuracy_by_class = predictions.groupBy('SeverityIndex').agg(\n",
    "    (F.sum('is_correct') / F.count('SeverityIndex')).alias('accuracy')\n",
    ")\n",
    "\n",
    "# Show per-class accuracy\n",
    "accuracy_by_class.show()"
   ]
  },
  {
   "cell_type": "code",
   "execution_count": null,
   "id": "3fce0c2c-f792-47cd-9e69-bdbbe886c5a5",
   "metadata": {},
   "outputs": [],
   "source": []
  }
 ],
 "metadata": {
  "kernelspec": {
   "display_name": "Python 3 (ipykernel)",
   "language": "python",
   "name": "python3"
  },
  "language_info": {
   "codemirror_mode": {
    "name": "ipython",
    "version": 3
   },
   "file_extension": ".py",
   "mimetype": "text/x-python",
   "name": "python",
   "nbconvert_exporter": "python",
   "pygments_lexer": "ipython3",
   "version": "3.11.5"
  }
 },
 "nbformat": 4,
 "nbformat_minor": 5
}
