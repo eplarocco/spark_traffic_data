{
 "cells": [
  {
   "cell_type": "code",
   "execution_count": 1,
   "id": "1bf6ccc1-6317-482a-ac30-72c6eab49a0b",
   "metadata": {},
   "outputs": [],
   "source": [
    "# Import Libraries\n",
    "import pandas as pd\n",
    "import numpy as np\n",
    "import os\n",
    "import pyspark\n",
    "from pyspark.sql import SparkSession\n",
    "from pyspark.sql.types import *\n",
    "from pyspark.sql.functions import *\n",
    "from pyspark.ml.feature import StringIndexer, OneHotEncoder, VectorAssembler\n",
    "from pyspark.ml.stat import Correlation\n",
    "import seaborn as sns\n",
    "import matplotlib.pyplot as plt\n",
    "import pyspark.sql.functions as F\n",
    "import holidays\n",
    "from datetime import datetime, timezone\n",
    "from pyspark.ml.classification import RandomForestClassifier, BinaryLogisticRegressionSummary\n",
    "from pyspark.ml import Pipeline\n",
    "from pyspark.mllib.evaluation import MulticlassMetrics, BinaryClassificationMetrics\n",
    "from pyspark.ml.pipeline import PipelineModel"
   ]
  },
  {
   "cell_type": "code",
   "execution_count": 2,
   "id": "d0709727-12cd-4322-b2e8-5ceca8b3b502",
   "metadata": {},
   "outputs": [
    {
     "name": "stderr",
     "output_type": "stream",
     "text": [
      "24/11/14 20:01:18 WARN NativeCodeLoader: Unable to load native-hadoop library for your platform... using builtin-java classes where applicable\n",
      "Using Spark's default log4j profile: org/apache/spark/log4j-defaults.properties\n",
      "Setting default log level to \"WARN\".\n",
      "To adjust logging level use sc.setLogLevel(newLevel). For SparkR, use setLogLevel(newLevel).\n",
      "24/11/14 20:01:18 WARN Utils: Service 'SparkUI' could not bind on port 4040. Attempting port 4041.\n",
      "24/11/14 20:01:18 WARN Utils: Service 'SparkUI' could not bind on port 4041. Attempting port 4042.\n"
     ]
    }
   ],
   "source": [
    "# Instantiate Spark Session\n",
    "spark = (SparkSession\n",
    "  .builder\n",
    "  .appName(\"US_Accidents\")\n",
    "  .getOrCreate())\n",
    "spark.sparkContext.setLogLevel(\"ERROR\") #supress warnings"
   ]
  },
  {
   "cell_type": "code",
   "execution_count": 3,
   "id": "c5a537b4-0516-49a4-a9d3-9957ecf6972b",
   "metadata": {},
   "outputs": [],
   "source": [
    "# Read in Data\n",
    "df = spark.read.parquet(\"final_dataset_revised.parquet\")"
   ]
  },
  {
   "cell_type": "code",
   "execution_count": 4,
   "id": "c6be913b-8a20-494f-af35-4cc44879acb7",
   "metadata": {},
   "outputs": [
    {
     "name": "stderr",
     "output_type": "stream",
     "text": [
      "                                                                                \r"
     ]
    }
   ],
   "source": [
    "# Use StringIndexer for encoding the 'Severity' column\n",
    "indexer = StringIndexer(inputCol=\"Severity\", outputCol=\"SeverityIndex\")\n",
    "df = indexer.fit(df).transform(df)"
   ]
  },
  {
   "cell_type": "code",
   "execution_count": 5,
   "id": "bb96fd0f-7581-467f-a0c3-948425bd9ed5",
   "metadata": {},
   "outputs": [],
   "source": [
    "# Create list of features\n",
    "feature_list = []\n",
    "for col in df.columns:\n",
    "    if col == 'Severity':\n",
    "        continue\n",
    "    elif col == 'SeverityIndex':\n",
    "        continue\n",
    "    elif col == 'Traffic_Intersection':\n",
    "        continue\n",
    "    else:\n",
    "        feature_list.append(col)"
   ]
  },
  {
   "cell_type": "code",
   "execution_count": 6,
   "id": "8117f0e8-de44-4430-aa72-8899adcaeae8",
   "metadata": {},
   "outputs": [],
   "source": [
    "# Split the data into train and test\n",
    "splits = df.randomSplit([0.8, 0.2], 314)\n",
    "train = splits[0]\n",
    "test = splits[1]"
   ]
  },
  {
   "cell_type": "code",
   "execution_count": 7,
   "id": "827fa4c6-689b-4ea8-9b72-5fdbf8d7ecb4",
   "metadata": {},
   "outputs": [
    {
     "name": "stderr",
     "output_type": "stream",
     "text": [
      "                                                                                \r"
     ]
    },
    {
     "name": "stdout",
     "output_type": "stream",
     "text": [
      "+--------+-----------+--------+--------+----------+----------+-------------+-------+---------+----+----+-------------+--------------------------+--------------------+---------+-----------------+-----------------+-------------------+------------+-----------+--------------------+--------------------+-----------+-------------+\n",
      "|Severity|Temperature|Humidity|Pressure|Visibility|Wind_Speed|Precipitation|Weekday|Rush_Hour|Rain|Snow|    SeasonVec|Astronomical_TwilightIndex|Interstate_Indicator|Sex_ratio|Percent_Age_15-19|Percent_Age_20-24|Percent_Age_65_over|MedianIncome|Urban_Ratio|Traffic_Interference|Traffic_Intersection|Destination|SeverityIndex|\n",
      "+--------+-----------+--------+--------+----------+----------+-------------+-------+---------+----+----+-------------+--------------------------+--------------------+---------+-----------------+-----------------+-------------------+------------+-----------+--------------------+--------------------+-----------+-------------+\n",
      "|       2|         -1|      72|      29|        10|         8|            0|      1|        1|   0|   0|(3,[0],[1.0])|                         0|                   0|     99.1|              5.7|              7.3|               15.5|     86032.0|        1.0|                   0|                   0|          0|          0.0|\n",
      "|       2|          3|      76|      30|         6|         8|            0|      1|        1|   0|   1|(3,[0],[1.0])|                         0|                   1|     92.8|              6.1|              5.6|               18.2|     71959.0|     0.9985|                   0|                   0|          0|          0.0|\n",
      "|       2|          3|      87|      29|        10|         0|            0|      1|        1|   0|   0|(3,[0],[1.0])|                         0|                   0|     94.7|              6.9|              7.2|                7.4|     41089.0|        1.0|                   0|                   1|          0|          0.0|\n",
      "|       2|          5|      84|      31|        10|         0|            0|      1|        1|   0|   0|(3,[0],[1.0])|                         0|                   0|     93.1|              7.4|              4.3|               16.1|    141596.0|     0.9082|                   0|                   1|          1|          0.0|\n",
      "|       2|          8|      50|      30|        10|         8|            0|      1|        1|   0|   0|(3,[0],[1.0])|                         0|                   0|    104.9|              5.0|              7.7|               14.2|     64700.0|        1.0|                   0|                   0|          0|          0.0|\n",
      "|       2|          8|      87|      30|        10|         0|            0|      1|        1|   0|   0|(3,[0],[1.0])|                         0|                   1|     93.7|              7.9|              3.6|               18.9|    195494.0|        1.0|                   0|                   0|          0|          0.0|\n",
      "|       2|         11|      88|      29|         3|         0|            0|      1|        0|   0|   0|(3,[0],[1.0])|                         0|                   0|     98.5|              6.3|              4.4|               18.0|    115870.0|        1.0|                   0|                   0|          0|          0.0|\n",
      "|       2|         13|      56|      29|        10|         9|            0|      0|        0|   0|   0|(3,[0],[1.0])|                         0|                   0|     96.8|              5.7|              6.0|               18.6|     56163.0|      0.719|                   0|                   0|          0|          0.0|\n",
      "|       2|         14|      86|      29|         2|         9|            0|      0|        0|   0|   1|(3,[0],[1.0])|                         0|                   1|    103.7|              6.5|              7.1|               14.6|     84267.0|     0.9256|                   0|                   0|          0|          0.0|\n",
      "|       2|         15|      68|      29|        10|        14|            0|      1|        0|   0|   0|(3,[0],[1.0])|                         1|                   0|    103.5|              7.2|              5.6|               13.3|     85410.0|     0.8353|                   0|                   0|          0|          0.0|\n",
      "|       2|         15|      80|      30|         1|         9|            0|      1|        1|   0|   1|(3,[0],[1.0])|                         0|                   0|     94.8|              7.6|              6.3|               15.3|    117258.0|        1.0|                   0|                   0|          0|          0.0|\n",
      "|       2|         16|      62|      30|        10|         5|            0|      1|        0|   0|   0|(3,[0],[1.0])|                         0|                   0|     98.2|              5.7|              5.7|               19.5|     68450.0|     0.9707|                   0|                   0|          0|          0.0|\n",
      "|       2|         16|      81|      29|         2|         9|            0|      1|        0|   0|   1|(3,[0],[1.0])|                         1|                   1|    101.2|              4.2|              5.6|                9.2|     78704.0|        1.0|                   0|                   0|          0|          0.0|\n",
      "|       2|         17|      41|      30|        10|        16|            0|      0|        0|   0|   0|(3,[0],[1.0])|                         0|                   0|     95.9|              4.9|              6.8|               18.7|    116893.0|        1.0|                   0|                   0|          0|          0.0|\n",
      "|       2|         17|      43|      29|        10|        20|            0|      0|        0|   0|   1|(3,[0],[1.0])|                         0|                   0|     90.0|              6.5|              4.3|               17.5|     72206.0|        0.0|                   0|                   1|          0|          0.0|\n",
      "|       2|         17|      81|      24|        10|         3|            0|      0|        1|   0|   0|(3,[0],[1.0])|                         0|                   1|     98.5|              3.5|              6.0|               21.6|     55813.0|        0.0|                   0|                   0|          0|          0.0|\n",
      "|       2|         18|      53|      30|        15|        15|            0|      1|        1|   0|   0|(3,[0],[1.0])|                         0|                   1|     93.9|              6.1|              5.9|               18.8|     49036.0|       0.68|                   0|                   0|          0|          0.0|\n",
      "|       2|         19|      62|      30|        10|         8|            0|      1|        1|   0|   0|(3,[0],[1.0])|                         0|                   0|     99.4|              5.8|              6.6|               11.3|     68469.0|        1.0|                   0|                   1|          0|          0.0|\n",
      "|       2|         20|      48|      30|        10|         3|            0|      1|        1|   0|   0|(3,[0],[1.0])|                         0|                   0|     95.5|              6.2|              5.1|               17.4|    174881.0|     0.9881|                   0|                   1|          0|          0.0|\n",
      "|       2|         20|      57|      30|        10|         3|            0|      1|        0|   0|   0|(3,[0],[1.0])|                         0|                   0|     93.4|              6.3|              5.8|                9.7|     50787.0|        1.0|                   0|                   0|          0|          0.0|\n",
      "+--------+-----------+--------+--------+----------+----------+-------------+-------+---------+----+----+-------------+--------------------------+--------------------+---------+-----------------+-----------------+-------------------+------------+-----------+--------------------+--------------------+-----------+-------------+\n",
      "only showing top 20 rows\n",
      "\n"
     ]
    },
    {
     "name": "stderr",
     "output_type": "stream",
     "text": [
      "[Stage 9:=======================================================> (89 + 3) / 92]\r"
     ]
    },
    {
     "name": "stdout",
     "output_type": "stream",
     "text": [
      "+-------------+-----+\n",
      "|SeverityIndex|count|\n",
      "+-------------+-----+\n",
      "|          0.0|51912|\n",
      "|          1.0|52487|\n",
      "|          3.0|52136|\n",
      "|          2.0|52015|\n",
      "+-------------+-----+\n",
      "\n"
     ]
    },
    {
     "name": "stderr",
     "output_type": "stream",
     "text": [
      "                                                                                \r"
     ]
    }
   ],
   "source": [
    "# Undersampling\n",
    "from pyspark.sql import functions as F\n",
    "\n",
    "# Step 1: Group by 'Severity' and count occurrences\n",
    "class_counts = train.groupBy(\"SeverityIndex\").count()\n",
    "\n",
    "# Step 2: Use PySpark's min() function to find the minimum count\n",
    "min_class_size = class_counts.agg(F.min('count')).collect()[0][0]\n",
    "\n",
    "undersampled_train_list = []\n",
    "\n",
    "for row in class_counts.collect():\n",
    "    class_label = row['SeverityIndex']\n",
    "    class_size = row['count']\n",
    "\n",
    "    if class_size > min_class_size:\n",
    "        # Sample the data for this class to the size of the minimum class\n",
    "        class_data = train.filter(F.col(\"SeverityIndex\") == class_label)\n",
    "        class_data_undersampled = class_data.sample(withReplacement=False, fraction=min_class_size / class_size)\n",
    "    else:\n",
    "        # For classes that are already at the minimum size, keep all samples\n",
    "        class_data_undersampled = train.filter(F.col(\"SeverityIndex\") == class_label)\n",
    "\n",
    "    undersampled_train_list.append(class_data_undersampled)\n",
    "\n",
    "# Combine all the undersampled DataFrames\n",
    "undersampled_train = undersampled_train_list[0]  # start with the first one\n",
    "for df in undersampled_train_list[1:]:\n",
    "    undersampled_train = undersampled_train.union(df)\n",
    "\n",
    "# Show the result\n",
    "undersampled_train.show()\n",
    "\n",
    "# Step 4: Group by 'Severity' and count the occurrences in the undersampled DataFrame\n",
    "undersampled_class_counts = undersampled_train.groupBy(\"SeverityIndex\").count()\n",
    "\n",
    "# Show the result\n",
    "undersampled_class_counts.show()"
   ]
  },
  {
   "cell_type": "code",
   "execution_count": 8,
   "id": "2d79048b-55fa-4cac-9ce6-00d115340220",
   "metadata": {},
   "outputs": [],
   "source": [
    "# Assemble data for logistic regression model\n",
    "assembler = VectorAssembler(inputCols=feature_list,\n",
    "                            outputCol=\"features\")\n",
    "\n",
    "undersampled_train = assembler.transform(undersampled_train)\n",
    "test = assembler.transform(test)"
   ]
  },
  {
   "cell_type": "code",
   "execution_count": 9,
   "id": "2b5e00b4-277f-4dff-b480-5bcb8acdc8bc",
   "metadata": {},
   "outputs": [
    {
     "name": "stderr",
     "output_type": "stream",
     "text": [
      "                                                                                \r"
     ]
    }
   ],
   "source": [
    "# Standardize the predictors\n",
    "from pyspark.ml.feature import StandardScaler\n",
    "scaler = StandardScaler(inputCol=\"features\", outputCol=\"scaledFeatures\")\n",
    "scalerModel = scaler.fit(undersampled_train)\n",
    "scaledTrainData = scalerModel.transform(undersampled_train)\n",
    "scaledTestData = scalerModel.transform(test)"
   ]
  },
  {
   "cell_type": "code",
   "execution_count": 10,
   "id": "54cb60dc-688a-45e9-b2fe-bf00d4ec87f0",
   "metadata": {},
   "outputs": [
    {
     "name": "stderr",
     "output_type": "stream",
     "text": [
      "                                                                                \r"
     ]
    },
    {
     "name": "stdout",
     "output_type": "stream",
     "text": [
      "Detected number of classes: 4\n",
      "Coefficients: DenseMatrix([[-1.11400465e-02, -6.21258761e-02,  9.12460089e-03,\n",
      "              -4.44672797e-02, -8.64798246e-03,  1.70618239e-03,\n",
      "              -4.00579534e-02, -4.03395724e-02, -1.12922830e-02,\n",
      "               2.56776993e-02,  5.30089898e-01,  3.45687806e-01,\n",
      "               2.59415621e-02,  1.51263742e-03, -8.57334309e-02,\n",
      "               6.97358800e-03,  3.41631698e-03, -2.33122721e-03,\n",
      "               1.83347363e-02,  1.39487678e-02,  2.23553406e-02,\n",
      "              -3.94855919e-03,  5.52504196e-02],\n",
      "             [-1.98312751e-01, -7.17774915e-02,  4.14482299e-02,\n",
      "              -3.87991875e-02,  1.18572599e-01,  1.26977964e-02,\n",
      "              -7.90305211e-02, -2.37896471e-02,  3.39175436e-02,\n",
      "              -1.88412061e-02,  1.72840478e-01,  1.29477599e-01,\n",
      "              -1.60628674e-01, -1.37144994e-01,  4.85294616e-01,\n",
      "               1.75639746e-04, -8.39861575e-02, -4.88613519e-03,\n",
      "              -1.62633586e-01, -4.56038500e-03,  2.22261974e-01,\n",
      "              -2.11197703e-02, -1.21602971e-01],\n",
      "             [-2.52700689e-01, -4.46952178e-02,  7.84632572e-02,\n",
      "               3.20195926e-02,  7.52506777e-02, -1.24969832e-02,\n",
      "              -1.38217814e-01, -1.69485708e-01,  1.22257082e-02,\n",
      "               3.10206560e-02,  2.02552809e-01,  1.43340460e-01,\n",
      "              -7.62328476e-02,  1.61647730e-01,  7.62901930e-03,\n",
      "               3.93535049e-03,  5.22571282e-02, -3.13741759e-02,\n",
      "               1.01994274e-01, -2.59376770e-02, -4.34130899e-01,\n",
      "              -9.46390093e-03, -7.71307461e-03],\n",
      "             [ 4.62153486e-01,  1.78598585e-01, -1.29036088e-01,\n",
      "               5.12468746e-02, -1.85175294e-01, -1.90699557e-03,\n",
      "               2.57306289e-01,  2.33614928e-01, -3.48509689e-02,\n",
      "              -3.78571492e-02, -9.05483185e-01, -6.18505865e-01,\n",
      "               2.10919960e-01, -2.60153734e-02, -4.07190204e-01,\n",
      "              -1.10845782e-02,  2.83127122e-02,  3.85915383e-02,\n",
      "               4.23045761e-02,  1.65492942e-02,  1.89513584e-01,\n",
      "               3.45322305e-02,  7.40656265e-02]])\n",
      "Intercept: [-0.020192800591265356,-0.09648849518845219,0.035431346376384634,0.08124994940333291]\n"
     ]
    }
   ],
   "source": [
    "# Fit logistic regression model with intercept\n",
    "from pyspark.ml.classification import LogisticRegression\n",
    "\n",
    "# instantiate the model\n",
    "lr = LogisticRegression(labelCol='SeverityIndex',\n",
    "                        featuresCol='scaledFeatures',\n",
    "                        #maxIter=10, \n",
    "                        #regParam=0.3, \n",
    "                        #elasticNetParam=0.8,\n",
    "                        family=\"multinomial\")\n",
    "\n",
    "# Fit the model\n",
    "lrModel = lr.fit(scaledTrainData)\n",
    "print(f\"Detected number of classes: {lrModel.numClasses}\")\n",
    "\n",
    "# Print the coefficients and intercept for logistic regression\n",
    "print(\"Coefficients: \" + str(lrModel.coefficientMatrix))\n",
    "print(\"Intercept: \" + str(lrModel.interceptVector))"
   ]
  },
  {
   "cell_type": "code",
   "execution_count": 11,
   "id": "c9646a1f-7a43-4a74-8e3d-e64dd3a11062",
   "metadata": {},
   "outputs": [
    {
     "name": "stderr",
     "output_type": "stream",
     "text": [
      "                                                                                \r"
     ]
    },
    {
     "name": "stdout",
     "output_type": "stream",
     "text": [
      "+----------+\n",
      "|prediction|\n",
      "+----------+\n",
      "|       0.0|\n",
      "|       1.0|\n",
      "|       3.0|\n",
      "|       2.0|\n",
      "+----------+\n",
      "\n"
     ]
    },
    {
     "name": "stderr",
     "output_type": "stream",
     "text": [
      "[Stage 259:===================================>                   (15 + 8) / 23]\r"
     ]
    },
    {
     "name": "stdout",
     "output_type": "stream",
     "text": [
      "Accuracy: 0.3849566335822255\n"
     ]
    },
    {
     "name": "stderr",
     "output_type": "stream",
     "text": [
      "                                                                                \r"
     ]
    }
   ],
   "source": [
    "from pyspark.ml.evaluation import MulticlassClassificationEvaluator\n",
    "\n",
    "# compute predictions. this will append column \"prediction\" to dataframe\n",
    "lrPred = lrModel.transform(scaledTestData)\n",
    "lrPred.select(\"prediction\").distinct().show()\n",
    "\n",
    "evaluator = MulticlassClassificationEvaluator(labelCol='SeverityIndex', predictionCol='prediction', metricName='accuracy')\n",
    "accuracy = evaluator.evaluate(lrPred, {evaluator.metricName: \"accuracy\"})\n",
    "print(f'Accuracy: {accuracy}')"
   ]
  },
  {
   "cell_type": "code",
   "execution_count": 12,
   "id": "e3e81050-0bf6-4e42-b0c8-f7ebe09b0971",
   "metadata": {},
   "outputs": [
    {
     "name": "stderr",
     "output_type": "stream",
     "text": [
      "[Stage 265:===========>                                           (5 + 18) / 23]\r"
     ]
    },
    {
     "name": "stdout",
     "output_type": "stream",
     "text": [
      "Precision: 0.7676617470645537\n",
      "Recall: 0.3849566335822254\n",
      "F1 Score: 0.4782810816799485\n"
     ]
    },
    {
     "name": "stderr",
     "output_type": "stream",
     "text": [
      "                                                                                \r"
     ]
    }
   ],
   "source": [
    "precision = evaluator.evaluate(lrPred, {evaluator.metricName: 'weightedPrecision'})\n",
    "recall = evaluator.evaluate(lrPred, {evaluator.metricName: 'weightedRecall'})\n",
    "f1_score = evaluator.evaluate(lrPred, {evaluator.metricName: 'f1'})\n",
    "\n",
    "print(f'Precision: {precision}')\n",
    "print(f'Recall: {recall}')\n",
    "print(f'F1 Score: {f1_score}')"
   ]
  },
  {
   "cell_type": "code",
   "execution_count": 13,
   "id": "05e473cd-b658-4a72-ba3a-f5d2752719eb",
   "metadata": {},
   "outputs": [
    {
     "name": "stderr",
     "output_type": "stream",
     "text": [
      "[Stage 267:===============================================>       (20 + 3) / 23]\r"
     ]
    },
    {
     "name": "stdout",
     "output_type": "stream",
     "text": [
      "+-------------+-------------------+\n",
      "|SeverityIndex|           accuracy|\n",
      "+-------------+-------------------+\n",
      "|          0.0| 0.3607854470126395|\n",
      "|          1.0|0.47806723770066406|\n",
      "|          3.0| 0.7839458711363986|\n",
      "|          2.0| 0.4177282526527984|\n",
      "+-------------+-------------------+\n",
      "\n"
     ]
    },
    {
     "name": "stderr",
     "output_type": "stream",
     "text": [
      "                                                                                \r"
     ]
    }
   ],
   "source": [
    "# Add a column to indicate correct or incorrect predictions\n",
    "predictions = lrPred.withColumn(\n",
    "    'is_correct', F.expr(\"CASE WHEN SeverityIndex = prediction THEN 1 ELSE 0 END\")\n",
    ")\n",
    "\n",
    "# Calculate accuracy by class\n",
    "accuracy_by_class = predictions.groupBy('SeverityIndex').agg(\n",
    "    (F.sum('is_correct') / F.count('SeverityIndex')).alias('accuracy')\n",
    ")\n",
    "\n",
    "# Show per-class accuracy\n",
    "accuracy_by_class.show()"
   ]
  },
  {
   "cell_type": "code",
   "execution_count": null,
   "id": "3fce0c2c-f792-47cd-9e69-bdbbe886c5a5",
   "metadata": {},
   "outputs": [],
   "source": []
  }
 ],
 "metadata": {
  "kernelspec": {
   "display_name": "Python 3 (ipykernel)",
   "language": "python",
   "name": "python3"
  },
  "language_info": {
   "codemirror_mode": {
    "name": "ipython",
    "version": 3
   },
   "file_extension": ".py",
   "mimetype": "text/x-python",
   "name": "python",
   "nbconvert_exporter": "python",
   "pygments_lexer": "ipython3",
   "version": "3.11.5"
  }
 },
 "nbformat": 4,
 "nbformat_minor": 5
}
