{
 "cells": [
  {
   "cell_type": "code",
   "execution_count": 1,
   "id": "1bf6ccc1-6317-482a-ac30-72c6eab49a0b",
   "metadata": {},
   "outputs": [],
   "source": [
    "# Import Libraries\n",
    "import pandas as pd\n",
    "import numpy as np\n",
    "import os\n",
    "import pyspark\n",
    "from pyspark.sql import SparkSession\n",
    "from pyspark.sql.types import *\n",
    "from pyspark.sql.functions import *\n",
    "from pyspark.ml.feature import StringIndexer, OneHotEncoder, VectorAssembler\n",
    "from pyspark.ml.stat import Correlation\n",
    "import seaborn as sns\n",
    "import matplotlib.pyplot as plt\n",
    "import pyspark.sql.functions as F\n",
    "import holidays\n",
    "from datetime import datetime, timezone\n",
    "from pyspark.ml.classification import RandomForestClassifier, BinaryLogisticRegressionSummary\n",
    "from pyspark.ml import Pipeline\n",
    "from pyspark.mllib.evaluation import MulticlassMetrics, BinaryClassificationMetrics\n",
    "from pyspark.ml.pipeline import PipelineModel"
   ]
  },
  {
   "cell_type": "code",
   "execution_count": 2,
   "id": "d0709727-12cd-4322-b2e8-5ceca8b3b502",
   "metadata": {},
   "outputs": [
    {
     "name": "stderr",
     "output_type": "stream",
     "text": [
      "24/11/14 20:06:47 WARN NativeCodeLoader: Unable to load native-hadoop library for your platform... using builtin-java classes where applicable\n",
      "Using Spark's default log4j profile: org/apache/spark/log4j-defaults.properties\n",
      "Setting default log level to \"WARN\".\n",
      "To adjust logging level use sc.setLogLevel(newLevel). For SparkR, use setLogLevel(newLevel).\n",
      "24/11/14 20:06:48 WARN Utils: Service 'SparkUI' could not bind on port 4040. Attempting port 4041.\n",
      "24/11/14 20:06:48 WARN Utils: Service 'SparkUI' could not bind on port 4041. Attempting port 4042.\n",
      "24/11/14 20:06:48 WARN Utils: Service 'SparkUI' could not bind on port 4042. Attempting port 4043.\n"
     ]
    }
   ],
   "source": [
    "# Instantiate Spark Session\n",
    "spark = (SparkSession\n",
    "  .builder\n",
    "  .appName(\"US_Accidents\")\n",
    "  .getOrCreate())\n",
    "spark.sparkContext.setLogLevel(\"ERROR\") #supress warnings"
   ]
  },
  {
   "cell_type": "code",
   "execution_count": 3,
   "id": "c5a537b4-0516-49a4-a9d3-9957ecf6972b",
   "metadata": {},
   "outputs": [],
   "source": [
    "# Read in Data\n",
    "df = spark.read.parquet(\"final_dataset_revised.parquet\")"
   ]
  },
  {
   "cell_type": "code",
   "execution_count": 4,
   "id": "c6be913b-8a20-494f-af35-4cc44879acb7",
   "metadata": {},
   "outputs": [
    {
     "name": "stderr",
     "output_type": "stream",
     "text": [
      "                                                                                \r"
     ]
    }
   ],
   "source": [
    "# Use StringIndexer for encoding the 'Severity' column\n",
    "indexer = StringIndexer(inputCol=\"Severity\", outputCol=\"SeverityIndex\")\n",
    "df = indexer.fit(df).transform(df)"
   ]
  },
  {
   "cell_type": "code",
   "execution_count": 5,
   "id": "bb96fd0f-7581-467f-a0c3-948425bd9ed5",
   "metadata": {},
   "outputs": [],
   "source": [
    "# Create list of features\n",
    "feature_list = []\n",
    "for col in df.columns:\n",
    "    if col == 'Severity':\n",
    "        continue\n",
    "    elif col == 'SeverityIndex':\n",
    "        continue\n",
    "    elif col == 'Urban_Ratio':\n",
    "        continue\n",
    "    else:\n",
    "        feature_list.append(col)"
   ]
  },
  {
   "cell_type": "code",
   "execution_count": 6,
   "id": "8117f0e8-de44-4430-aa72-8899adcaeae8",
   "metadata": {},
   "outputs": [],
   "source": [
    "# Split the data into train and test\n",
    "splits = df.randomSplit([0.8, 0.2], 314)\n",
    "train = splits[0]\n",
    "test = splits[1]"
   ]
  },
  {
   "cell_type": "code",
   "execution_count": 7,
   "id": "827fa4c6-689b-4ea8-9b72-5fdbf8d7ecb4",
   "metadata": {},
   "outputs": [
    {
     "name": "stderr",
     "output_type": "stream",
     "text": [
      "                                                                                \r"
     ]
    },
    {
     "name": "stdout",
     "output_type": "stream",
     "text": [
      "+--------+-----------+--------+--------+----------+----------+-------------+-------+---------+----+----+-------------+--------------------------+--------------------+---------+-----------------+-----------------+-------------------+------------+-----------+--------------------+--------------------+-----------+-------------+\n",
      "|Severity|Temperature|Humidity|Pressure|Visibility|Wind_Speed|Precipitation|Weekday|Rush_Hour|Rain|Snow|    SeasonVec|Astronomical_TwilightIndex|Interstate_Indicator|Sex_ratio|Percent_Age_15-19|Percent_Age_20-24|Percent_Age_65_over|MedianIncome|Urban_Ratio|Traffic_Interference|Traffic_Intersection|Destination|SeverityIndex|\n",
      "+--------+-----------+--------+--------+----------+----------+-------------+-------+---------+----+----+-------------+--------------------------+--------------------+---------+-----------------+-----------------+-------------------+------------+-----------+--------------------+--------------------+-----------+-------------+\n",
      "|       2|         -2|      72|      29|        10|        14|            0|      1|        1|   0|   0|(3,[0],[1.0])|                         0|                   0|     92.7|              7.4|              5.2|               11.0|    119886.0|     0.9761|                   0|                   1|          0|          0.0|\n",
      "|       2|          1|      74|      28|         1|        21|            0|      1|        0|   0|   1|(3,[0],[1.0])|                         0|                   0|     93.2|              7.9|              2.5|               28.4|     60769.0|        0.0|                   1|                   1|          0|          0.0|\n",
      "|       2|          6|      82|      30|        10|         6|            0|      1|        1|   0|   0|(3,[0],[1.0])|                         0|                   1|     82.9|              3.1|              8.4|               22.8|     48481.0|        1.0|                   0|                   0|          0|          0.0|\n",
      "|       2|          7|      84|      30|        10|         0|            0|      1|        0|   0|   0|(3,[0],[1.0])|                         0|                   0|     93.7|              5.3|              4.9|               17.0|     96522.0|        1.0|                   0|                   0|          0|          0.0|\n",
      "|       2|         11|      88|      29|         3|         0|            0|      1|        0|   0|   0|(3,[0],[1.0])|                         1|                   0|    102.9|              7.2|              6.8|               11.0|     85185.0|     0.9943|                   0|                   0|          0|          0.0|\n",
      "|       2|         14|      62|      29|        10|        22|            0|      1|        0|   0|   0|(3,[0],[1.0])|                         0|                   1|     90.6|              4.4|              5.4|               21.5|     55951.0|        1.0|                   0|                   0|          0|          0.0|\n",
      "|       2|         17|      81|      29|        10|        12|            0|      1|        1|   0|   0|(3,[0],[1.0])|                         1|                   0|     94.6|              6.5|              6.8|               18.3|     53867.0|     0.7807|                   0|                   0|          0|          0.0|\n",
      "|       2|         18|      45|      30|        10|         6|            0|      1|        0|   0|   0|(3,[0],[1.0])|                         0|                   0|     94.2|              8.2|              5.4|               16.7|    127981.0|     0.9856|                   0|                   1|          0|          0.0|\n",
      "|       2|         18|      52|      30|        10|         9|            0|      1|        0|   0|   0|(3,[0],[1.0])|                         0|                   0|    113.6|              4.3|              7.5|               17.3|     69728.0|     0.9593|                   0|                   1|          0|          0.0|\n",
      "|       2|         18|      52|      30|        10|        15|            0|      1|        1|   0|   0|(3,[0],[1.0])|                         0|                   0|     99.8|              9.8|             10.0|                9.2|     35436.0|        1.0|                   0|                   0|          0|          0.0|\n",
      "|       2|         19|      52|      30|        10|        12|            0|      1|        1|   0|   0|(3,[0],[1.0])|                         0|                   1|     82.4|              6.6|              5.6|               11.7|     42973.0|     0.9963|                   0|                   0|          0|          0.0|\n",
      "|       2|         19|      57|      30|        10|         5|            0|      1|        1|   0|   0|(3,[0],[1.0])|                         0|                   0|    108.5|              5.6|              7.1|                8.6|     37482.0|        1.0|                   0|                   0|          0|          0.0|\n",
      "|       2|         19|      59|      30|        10|         6|            0|      1|        1|   0|   0|(3,[1],[1.0])|                         0|                   1|    109.1|              1.6|              5.1|                6.0|    112241.0|        1.0|                   0|                   0|          0|          0.0|\n",
      "|       2|         20|      57|      30|        10|         6|            0|      0|        1|   0|   0|(3,[0],[1.0])|                         0|                   0|     85.9|              6.1|              6.3|               15.3|     93938.0|        1.0|                   0|                   0|          0|          0.0|\n",
      "|       2|         20|      92|      27|         3|         0|            0|      1|        1|   0|   1|(3,[0],[1.0])|                         0|                   0|     96.8|              3.1|              3.6|               28.9|     49183.0|        0.0|                   1|                   1|          0|          0.0|\n",
      "|       2|         21|      88|      29|         1|         7|            0|      1|        0|   0|   1|(3,[0],[1.0])|                         1|                   0|     96.5|              6.3|              4.2|               18.9|     77307.0|     0.6482|                   0|                   0|          0|          0.0|\n",
      "|       2|         21|     100|      29|        10|         0|            0|      1|        1|   0|   0|(3,[0],[1.0])|                         0|                   0|    100.3|              4.9|              1.9|               30.1|     61000.0|        0.0|                   0|                   0|          0|          0.0|\n",
      "|       2|         22|      42|      30|        10|         7|            0|      1|        0|   0|   0|(3,[0],[1.0])|                         0|                   0|     96.2|              6.5|              7.0|               10.8|     56680.0|        1.0|                   0|                   0|          0|          0.0|\n",
      "|       2|         22|      44|      30|        10|         3|            0|      1|        1|   0|   0|(3,[0],[1.0])|                         0|                   0|     81.0|              1.4|              5.2|               21.6|    148441.0|        1.0|                   0|                   0|          0|          0.0|\n",
      "|       2|         22|      89|      29|        10|         6|            0|      1|        1|   0|   0|(3,[0],[1.0])|                         0|                   0|    108.9|              4.4|              5.9|               11.4|     62533.0|     0.9371|                   0|                   0|          0|          0.0|\n",
      "+--------+-----------+--------+--------+----------+----------+-------------+-------+---------+----+----+-------------+--------------------------+--------------------+---------+-----------------+-----------------+-------------------+------------+-----------+--------------------+--------------------+-----------+-------------+\n",
      "only showing top 20 rows\n",
      "\n"
     ]
    },
    {
     "name": "stderr",
     "output_type": "stream",
     "text": [
      "[Stage 9:==============================================>         (77 + 15) / 92]\r"
     ]
    },
    {
     "name": "stdout",
     "output_type": "stream",
     "text": [
      "+-------------+-----+\n",
      "|SeverityIndex|count|\n",
      "+-------------+-----+\n",
      "|          0.0|52059|\n",
      "|          1.0|51972|\n",
      "|          3.0|52136|\n",
      "|          2.0|52094|\n",
      "+-------------+-----+\n",
      "\n"
     ]
    },
    {
     "name": "stderr",
     "output_type": "stream",
     "text": [
      "                                                                                \r"
     ]
    }
   ],
   "source": [
    "# Undersampling\n",
    "from pyspark.sql import functions as F\n",
    "\n",
    "# Step 1: Group by 'Severity' and count occurrences\n",
    "class_counts = train.groupBy(\"SeverityIndex\").count()\n",
    "\n",
    "# Step 2: Use PySpark's min() function to find the minimum count\n",
    "min_class_size = class_counts.agg(F.min('count')).collect()[0][0]\n",
    "\n",
    "undersampled_train_list = []\n",
    "\n",
    "for row in class_counts.collect():\n",
    "    class_label = row['SeverityIndex']\n",
    "    class_size = row['count']\n",
    "\n",
    "    if class_size > min_class_size:\n",
    "        # Sample the data for this class to the size of the minimum class\n",
    "        class_data = train.filter(F.col(\"SeverityIndex\") == class_label)\n",
    "        class_data_undersampled = class_data.sample(withReplacement=False, fraction=min_class_size / class_size)\n",
    "    else:\n",
    "        # For classes that are already at the minimum size, keep all samples\n",
    "        class_data_undersampled = train.filter(F.col(\"SeverityIndex\") == class_label)\n",
    "\n",
    "    undersampled_train_list.append(class_data_undersampled)\n",
    "\n",
    "# Combine all the undersampled DataFrames\n",
    "undersampled_train = undersampled_train_list[0]  # start with the first one\n",
    "for df in undersampled_train_list[1:]:\n",
    "    undersampled_train = undersampled_train.union(df)\n",
    "\n",
    "# Show the result\n",
    "undersampled_train.show()\n",
    "\n",
    "# Step 4: Group by 'Severity' and count the occurrences in the undersampled DataFrame\n",
    "undersampled_class_counts = undersampled_train.groupBy(\"SeverityIndex\").count()\n",
    "\n",
    "# Show the result\n",
    "undersampled_class_counts.show()"
   ]
  },
  {
   "cell_type": "code",
   "execution_count": 8,
   "id": "2d79048b-55fa-4cac-9ce6-00d115340220",
   "metadata": {},
   "outputs": [],
   "source": [
    "# Assemble data for logistic regression model\n",
    "assembler = VectorAssembler(inputCols=feature_list,\n",
    "                            outputCol=\"features\")\n",
    "\n",
    "undersampled_train = assembler.transform(undersampled_train)\n",
    "test = assembler.transform(test)"
   ]
  },
  {
   "cell_type": "code",
   "execution_count": 9,
   "id": "2b5e00b4-277f-4dff-b480-5bcb8acdc8bc",
   "metadata": {},
   "outputs": [
    {
     "name": "stderr",
     "output_type": "stream",
     "text": [
      "                                                                                \r"
     ]
    }
   ],
   "source": [
    "# Standardize the predictors\n",
    "from pyspark.ml.feature import StandardScaler\n",
    "scaler = StandardScaler(inputCol=\"features\", outputCol=\"scaledFeatures\")\n",
    "scalerModel = scaler.fit(undersampled_train)\n",
    "scaledTrainData = scalerModel.transform(undersampled_train)\n",
    "scaledTestData = scalerModel.transform(test)"
   ]
  },
  {
   "cell_type": "code",
   "execution_count": 10,
   "id": "54cb60dc-688a-45e9-b2fe-bf00d4ec87f0",
   "metadata": {},
   "outputs": [
    {
     "name": "stderr",
     "output_type": "stream",
     "text": [
      "                                                                                \r"
     ]
    },
    {
     "name": "stdout",
     "output_type": "stream",
     "text": [
      "Detected number of classes: 4\n",
      "Coefficients: DenseMatrix([[-0.00923187, -0.07199709,  0.01438788, -0.04320059, -0.01534368,\n",
      "               0.00302999, -0.03432823, -0.04736659, -0.0138767 ,  0.03029426,\n",
      "               0.52826296,  0.33179217,  0.0183007 , -0.00145394, -0.09335825,\n",
      "              -0.00573069, -0.02370393,  0.03758728,  0.00824797,  0.02196864,\n",
      "              -0.00690898, -0.0196078 ,  0.06611173],\n",
      "             [-0.18016949, -0.09786044,  0.07621179, -0.03298921,  0.12951302,\n",
      "               0.01321225, -0.0821807 , -0.01797804,  0.04366664, -0.00834438,\n",
      "               0.17238091,  0.14460287, -0.14363077, -0.12440248,  0.46563001,\n",
      "              -0.04677383, -0.11948853,  0.05256658, -0.24633585,  0.03882893,\n",
      "               0.00504029, -0.23601621, -0.08813812],\n",
      "             [-0.30599639, -0.0408223 ,  0.03182231,  0.02842345,  0.05683253,\n",
      "              -0.01716936, -0.14092849, -0.17640384,  0.00843438,  0.03109514,\n",
      "               0.16463467,  0.13386521, -0.09617285,  0.14976096, -0.02584898,\n",
      "               0.10402711,  0.12935536, -0.13955525,  0.22987303, -0.10075125,\n",
      "              -0.00105121, -0.08754816, -0.02792366],\n",
      "             [ 0.49539775,  0.21067983, -0.12242197,  0.04776635, -0.17100188,\n",
      "               0.00092711,  0.25743742,  0.24174846, -0.03822432, -0.05304501,\n",
      "              -0.86527855, -0.61026024,  0.22150293, -0.02390454, -0.34642278,\n",
      "              -0.05152259,  0.01383711,  0.0494014 ,  0.00821485,  0.03995368,\n",
      "               0.00291991,  0.34317216,  0.04995005]])\n",
      "Intercept: [-0.015142446160861134,-0.07867181513760517,0.03390088063170163,0.05991338066676466]\n"
     ]
    }
   ],
   "source": [
    "# Fit logistic regression model with intercept\n",
    "from pyspark.ml.classification import LogisticRegression\n",
    "\n",
    "# instantiate the model\n",
    "lr = LogisticRegression(labelCol='SeverityIndex',\n",
    "                        featuresCol='scaledFeatures',\n",
    "                        #maxIter=10, \n",
    "                        #regParam=0.3, \n",
    "                        #elasticNetParam=0.8,\n",
    "                        family=\"multinomial\")\n",
    "\n",
    "# Fit the model\n",
    "lrModel = lr.fit(scaledTrainData)\n",
    "print(f\"Detected number of classes: {lrModel.numClasses}\")\n",
    "\n",
    "# Print the coefficients and intercept for logistic regression\n",
    "print(\"Coefficients: \" + str(lrModel.coefficientMatrix))\n",
    "print(\"Intercept: \" + str(lrModel.interceptVector))"
   ]
  },
  {
   "cell_type": "code",
   "execution_count": null,
   "id": "c9646a1f-7a43-4a74-8e3d-e64dd3a11062",
   "metadata": {},
   "outputs": [],
   "source": [
    "from pyspark.ml.evaluation import MulticlassClassificationEvaluator\n",
    "\n",
    "# compute predictions. this will append column \"prediction\" to dataframe\n",
    "lrPred = lrModel.transform(scaledTestData)\n",
    "lrPred.select(\"prediction\").distinct().show()\n",
    "\n",
    "evaluator = MulticlassClassificationEvaluator(labelCol='SeverityIndex', predictionCol='prediction', metricName='accuracy')\n",
    "accuracy = evaluator.evaluate(lrPred, {evaluator.metricName: \"accuracy\"})\n",
    "print(f'Accuracy: {accuracy}')"
   ]
  },
  {
   "cell_type": "code",
   "execution_count": null,
   "id": "e3e81050-0bf6-4e42-b0c8-f7ebe09b0971",
   "metadata": {},
   "outputs": [],
   "source": [
    "precision = evaluator.evaluate(lrPred, {evaluator.metricName: 'weightedPrecision'})\n",
    "recall = evaluator.evaluate(lrPred, {evaluator.metricName: 'weightedRecall'})\n",
    "f1_score = evaluator.evaluate(lrPred, {evaluator.metricName: 'f1'})\n",
    "\n",
    "print(f'Precision: {precision}')\n",
    "print(f'Recall: {recall}')\n",
    "print(f'F1 Score: {f1_score}')"
   ]
  },
  {
   "cell_type": "code",
   "execution_count": null,
   "id": "05e473cd-b658-4a72-ba3a-f5d2752719eb",
   "metadata": {},
   "outputs": [],
   "source": [
    "# Add a column to indicate correct or incorrect predictions\n",
    "predictions = lrPred.withColumn(\n",
    "    'is_correct', F.expr(\"CASE WHEN SeverityIndex = prediction THEN 1 ELSE 0 END\")\n",
    ")\n",
    "\n",
    "# Calculate accuracy by class\n",
    "accuracy_by_class = predictions.groupBy('SeverityIndex').agg(\n",
    "    (F.sum('is_correct') / F.count('SeverityIndex')).alias('accuracy')\n",
    ")\n",
    "\n",
    "# Show per-class accuracy\n",
    "accuracy_by_class.show()"
   ]
  },
  {
   "cell_type": "code",
   "execution_count": null,
   "id": "3fce0c2c-f792-47cd-9e69-bdbbe886c5a5",
   "metadata": {},
   "outputs": [],
   "source": []
  }
 ],
 "metadata": {
  "kernelspec": {
   "display_name": "Python 3 (ipykernel)",
   "language": "python",
   "name": "python3"
  },
  "language_info": {
   "codemirror_mode": {
    "name": "ipython",
    "version": 3
   },
   "file_extension": ".py",
   "mimetype": "text/x-python",
   "name": "python",
   "nbconvert_exporter": "python",
   "pygments_lexer": "ipython3",
   "version": "3.11.5"
  }
 },
 "nbformat": 4,
 "nbformat_minor": 5
}
