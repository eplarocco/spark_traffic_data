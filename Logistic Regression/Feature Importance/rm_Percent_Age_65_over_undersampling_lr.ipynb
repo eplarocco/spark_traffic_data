{
 "cells": [
  {
   "cell_type": "code",
   "execution_count": 1,
   "id": "1bf6ccc1-6317-482a-ac30-72c6eab49a0b",
   "metadata": {},
   "outputs": [],
   "source": [
    "# Import Libraries\n",
    "import pandas as pd\n",
    "import numpy as np\n",
    "import os\n",
    "import pyspark\n",
    "from pyspark.sql import SparkSession\n",
    "from pyspark.sql.types import *\n",
    "from pyspark.sql.functions import *\n",
    "from pyspark.ml.feature import StringIndexer, OneHotEncoder, VectorAssembler\n",
    "from pyspark.ml.stat import Correlation\n",
    "import seaborn as sns\n",
    "import matplotlib.pyplot as plt\n",
    "import pyspark.sql.functions as F\n",
    "import holidays\n",
    "from datetime import datetime, timezone\n",
    "from pyspark.ml.classification import RandomForestClassifier, BinaryLogisticRegressionSummary\n",
    "from pyspark.ml import Pipeline\n",
    "from pyspark.mllib.evaluation import MulticlassMetrics, BinaryClassificationMetrics\n",
    "from pyspark.ml.pipeline import PipelineModel"
   ]
  },
  {
   "cell_type": "code",
   "execution_count": 2,
   "id": "d0709727-12cd-4322-b2e8-5ceca8b3b502",
   "metadata": {},
   "outputs": [
    {
     "name": "stderr",
     "output_type": "stream",
     "text": [
      "24/11/14 19:11:03 WARN NativeCodeLoader: Unable to load native-hadoop library for your platform... using builtin-java classes where applicable\n",
      "Using Spark's default log4j profile: org/apache/spark/log4j-defaults.properties\n",
      "Setting default log level to \"WARN\".\n",
      "To adjust logging level use sc.setLogLevel(newLevel). For SparkR, use setLogLevel(newLevel).\n",
      "24/11/14 19:11:04 WARN Utils: Service 'SparkUI' could not bind on port 4040. Attempting port 4041.\n",
      "24/11/14 19:11:04 WARN Utils: Service 'SparkUI' could not bind on port 4041. Attempting port 4042.\n",
      "24/11/14 19:11:04 WARN Utils: Service 'SparkUI' could not bind on port 4042. Attempting port 4043.\n"
     ]
    }
   ],
   "source": [
    "# Instantiate Spark Session\n",
    "spark = (SparkSession\n",
    "  .builder\n",
    "  .appName(\"US_Accidents\")\n",
    "  .getOrCreate())\n",
    "spark.sparkContext.setLogLevel(\"ERROR\") #supress warnings"
   ]
  },
  {
   "cell_type": "code",
   "execution_count": 3,
   "id": "c5a537b4-0516-49a4-a9d3-9957ecf6972b",
   "metadata": {},
   "outputs": [],
   "source": [
    "# Read in Data\n",
    "df = spark.read.parquet(\"final_dataset_revised.parquet\")"
   ]
  },
  {
   "cell_type": "code",
   "execution_count": 4,
   "id": "c6be913b-8a20-494f-af35-4cc44879acb7",
   "metadata": {},
   "outputs": [
    {
     "name": "stderr",
     "output_type": "stream",
     "text": [
      "                                                                                \r"
     ]
    }
   ],
   "source": [
    "# Use StringIndexer for encoding the 'Severity' column\n",
    "indexer = StringIndexer(inputCol=\"Severity\", outputCol=\"SeverityIndex\")\n",
    "df = indexer.fit(df).transform(df)"
   ]
  },
  {
   "cell_type": "code",
   "execution_count": 5,
   "id": "bb96fd0f-7581-467f-a0c3-948425bd9ed5",
   "metadata": {},
   "outputs": [],
   "source": [
    "# Create list of features\n",
    "feature_list = []\n",
    "for col in df.columns:\n",
    "    if col == 'Severity':\n",
    "        continue\n",
    "    elif col == 'SeverityIndex':\n",
    "        continue\n",
    "    elif col == 'Percent_Age_65_over':\n",
    "        continue\n",
    "    else:\n",
    "        feature_list.append(col)"
   ]
  },
  {
   "cell_type": "code",
   "execution_count": 6,
   "id": "8117f0e8-de44-4430-aa72-8899adcaeae8",
   "metadata": {},
   "outputs": [],
   "source": [
    "# Split the data into train and test\n",
    "splits = df.randomSplit([0.8, 0.2], 314)\n",
    "train = splits[0]\n",
    "test = splits[1]"
   ]
  },
  {
   "cell_type": "code",
   "execution_count": 7,
   "id": "827fa4c6-689b-4ea8-9b72-5fdbf8d7ecb4",
   "metadata": {},
   "outputs": [
    {
     "name": "stderr",
     "output_type": "stream",
     "text": [
      "                                                                                \r"
     ]
    },
    {
     "name": "stdout",
     "output_type": "stream",
     "text": [
      "+--------+-----------+--------+--------+----------+----------+-------------+-------+---------+----+----+-------------+--------------------------+--------------------+---------+-----------------+-----------------+-------------------+------------+-----------+--------------------+--------------------+-----------+-------------+\n",
      "|Severity|Temperature|Humidity|Pressure|Visibility|Wind_Speed|Precipitation|Weekday|Rush_Hour|Rain|Snow|    SeasonVec|Astronomical_TwilightIndex|Interstate_Indicator|Sex_ratio|Percent_Age_15-19|Percent_Age_20-24|Percent_Age_65_over|MedianIncome|Urban_Ratio|Traffic_Interference|Traffic_Intersection|Destination|SeverityIndex|\n",
      "+--------+-----------+--------+--------+----------+----------+-------------+-------+---------+----+----+-------------+--------------------------+--------------------+---------+-----------------+-----------------+-------------------+------------+-----------+--------------------+--------------------+-----------+-------------+\n",
      "|       2|          3|      73|      30|        10|         0|            0|      1|        1|   0|   0|(3,[0],[1.0])|                         0|                   0|     91.4|              5.9|              7.9|               15.6|     82902.0|     0.9962|                   0|                   0|          0|          0.0|\n",
      "|       2|         10|      67|      29|        10|        12|            0|      1|        1|   0|   0|(3,[0],[1.0])|                         0|                   0|    102.5|              4.1|              6.2|               16.4|     63480.0|        1.0|                   0|                   1|          0|          0.0|\n",
      "|       2|         11|      73|      30|        10|         0|            0|      1|        1|   0|   0|(3,[0],[1.0])|                         0|                   0|     95.5|              5.5|              7.1|               13.1|     75730.0|        1.0|                   0|                   1|          0|          0.0|\n",
      "|       2|         11|      88|      29|         3|         0|            0|      1|        0|   0|   0|(3,[0],[1.0])|                         0|                   0|     98.5|              6.3|              4.4|               18.0|    115870.0|        1.0|                   0|                   0|          0|          0.0|\n",
      "|       2|         12|      85|      29|         5|         9|            0|      1|        1|   0|   1|(3,[0],[1.0])|                         0|                   1|     97.2|              6.6|              5.5|               16.5|     64777.0|     0.9313|                   0|                   0|          0|          0.0|\n",
      "|       2|         13|      88|      29|         9|         5|            0|      1|        0|   0|   0|(3,[0],[1.0])|                         1|                   0|     98.4|              6.3|              9.7|               15.6|     37255.0|      0.847|                   0|                   0|          0|          0.0|\n",
      "|       2|         14|      67|      30|        10|         7|            0|      1|        1|   0|   0|(3,[0],[1.0])|                         0|                   0|     95.1|              6.3|              6.6|               16.4|     83008.0|        1.0|                   0|                   0|          0|          0.0|\n",
      "|       2|         15|      77|      29|         1|        16|            0|      0|        0|   0|   1|(3,[0],[1.0])|                         0|                   0|     90.8|              6.5|              5.4|               14.7|     82763.0|     0.9986|                   0|                   0|          0|          0.0|\n",
      "|       2|         15|      80|      30|         1|         9|            0|      1|        1|   0|   1|(3,[0],[1.0])|                         0|                   0|    104.9|              5.0|              7.7|               14.2|     64700.0|        1.0|                   0|                   1|          0|          0.0|\n",
      "|       2|         16|      49|      30|        10|         7|            0|      1|        1|   0|   0|(3,[0],[1.0])|                         0|                   1|     89.1|              5.6|              4.5|               17.8|     97635.0|        1.0|                   0|                   0|          0|          0.0|\n",
      "|       2|         17|      71|      29|         9|        15|            0|      1|        0|   0|   1|(3,[0],[1.0])|                         1|                   1|     92.6|              7.3|              6.1|               13.0|    102539.0|        1.0|                   0|                   0|          0|          0.0|\n",
      "|       2|         17|      71|      30|        10|         3|            0|      1|        1|   0|   0|(3,[0],[1.0])|                         0|                   0|     93.8|             10.0|              9.6|               17.0|     59133.0|     0.8743|                   0|                   0|          0|          0.0|\n",
      "|       2|         18|      60|      30|        10|         3|            0|      1|        0|   0|   0|(3,[0],[1.0])|                         1|                   1|    107.0|              3.4|              7.2|               13.9|     62770.0|        1.0|                   0|                   0|          0|          0.0|\n",
      "|       2|         18|      73|      28|        10|        24|            0|      1|        1|   0|   0|(3,[0],[1.0])|                         0|                   0|     96.2|              5.0|              4.8|               14.9|     67917.0|        0.0|                   0|                   0|          0|          0.0|\n",
      "|       2|         19|      59|      30|        10|         9|            0|      1|        1|   0|   0|(3,[0],[1.0])|                         0|                   0|     88.1|              6.5|              5.3|               22.7|    100714.0|        1.0|                   0|                   1|          0|          0.0|\n",
      "|       2|         19|      69|      30|        10|         3|            0|      1|        1|   0|   0|(3,[0],[1.0])|                         0|                   0|    105.2|              6.5|              6.1|               17.0|     82881.0|     0.9699|                   0|                   1|          0|          0.0|\n",
      "|       2|         19|      88|      29|        10|         0|            0|      1|        1|   0|   0|(3,[1],[1.0])|                         0|                   0|    110.4|              7.7|              4.6|               14.7|     66659.0|     0.4099|                   0|                   1|          0|          0.0|\n",
      "|       2|         20|      75|      29|        10|         6|            0|      1|        1|   0|   0|(3,[0],[1.0])|                         0|                   0|     94.3|              6.8|              7.2|               13.1|     26550.0|        1.0|                   0|                   0|          0|          0.0|\n",
      "|       2|         20|      85|      29|        10|         0|            0|      1|        0|   0|   0|(3,[1],[1.0])|                         1|                   0|     94.6|              6.5|              6.8|               18.3|     53867.0|     0.7807|                   0|                   0|          0|          0.0|\n",
      "|       2|         20|      89|      30|        10|         6|            0|      1|        1|   0|   0|(3,[0],[1.0])|                         0|                   0|     85.4|              5.8|              5.1|               15.0|     93555.0|        1.0|                   0|                   0|          0|          0.0|\n",
      "+--------+-----------+--------+--------+----------+----------+-------------+-------+---------+----+----+-------------+--------------------------+--------------------+---------+-----------------+-----------------+-------------------+------------+-----------+--------------------+--------------------+-----------+-------------+\n",
      "only showing top 20 rows\n",
      "\n"
     ]
    },
    {
     "name": "stderr",
     "output_type": "stream",
     "text": [
      "                                                                                \r"
     ]
    },
    {
     "name": "stdout",
     "output_type": "stream",
     "text": [
      "+-------------+-----+\n",
      "|SeverityIndex|count|\n",
      "+-------------+-----+\n",
      "|          0.0|51899|\n",
      "|          1.0|51806|\n",
      "|          3.0|52136|\n",
      "|          2.0|52056|\n",
      "+-------------+-----+\n",
      "\n"
     ]
    }
   ],
   "source": [
    "# Undersampling\n",
    "from pyspark.sql import functions as F\n",
    "\n",
    "# Step 1: Group by 'Severity' and count occurrences\n",
    "class_counts = train.groupBy(\"SeverityIndex\").count()\n",
    "\n",
    "# Step 2: Use PySpark's min() function to find the minimum count\n",
    "min_class_size = class_counts.agg(F.min('count')).collect()[0][0]\n",
    "\n",
    "undersampled_train_list = []\n",
    "\n",
    "for row in class_counts.collect():\n",
    "    class_label = row['SeverityIndex']\n",
    "    class_size = row['count']\n",
    "\n",
    "    if class_size > min_class_size:\n",
    "        # Sample the data for this class to the size of the minimum class\n",
    "        class_data = train.filter(F.col(\"SeverityIndex\") == class_label)\n",
    "        class_data_undersampled = class_data.sample(withReplacement=False, fraction=min_class_size / class_size)\n",
    "    else:\n",
    "        # For classes that are already at the minimum size, keep all samples\n",
    "        class_data_undersampled = train.filter(F.col(\"SeverityIndex\") == class_label)\n",
    "\n",
    "    undersampled_train_list.append(class_data_undersampled)\n",
    "\n",
    "# Combine all the undersampled DataFrames\n",
    "undersampled_train = undersampled_train_list[0]  # start with the first one\n",
    "for df in undersampled_train_list[1:]:\n",
    "    undersampled_train = undersampled_train.union(df)\n",
    "\n",
    "# Show the result\n",
    "undersampled_train.show()\n",
    "\n",
    "# Step 4: Group by 'Severity' and count the occurrences in the undersampled DataFrame\n",
    "undersampled_class_counts = undersampled_train.groupBy(\"SeverityIndex\").count()\n",
    "\n",
    "# Show the result\n",
    "undersampled_class_counts.show()"
   ]
  },
  {
   "cell_type": "code",
   "execution_count": 8,
   "id": "2d79048b-55fa-4cac-9ce6-00d115340220",
   "metadata": {},
   "outputs": [],
   "source": [
    "# Assemble data for logistic regression model\n",
    "assembler = VectorAssembler(inputCols=feature_list,\n",
    "                            outputCol=\"features\")\n",
    "\n",
    "undersampled_train = assembler.transform(undersampled_train)\n",
    "test = assembler.transform(test)"
   ]
  },
  {
   "cell_type": "code",
   "execution_count": 9,
   "id": "2b5e00b4-277f-4dff-b480-5bcb8acdc8bc",
   "metadata": {},
   "outputs": [
    {
     "name": "stderr",
     "output_type": "stream",
     "text": [
      "                                                                                \r"
     ]
    }
   ],
   "source": [
    "# Standardize the predictors\n",
    "from pyspark.ml.feature import StandardScaler\n",
    "scaler = StandardScaler(inputCol=\"features\", outputCol=\"scaledFeatures\")\n",
    "scalerModel = scaler.fit(undersampled_train)\n",
    "scaledTrainData = scalerModel.transform(undersampled_train)\n",
    "scaledTestData = scalerModel.transform(test)"
   ]
  },
  {
   "cell_type": "code",
   "execution_count": 10,
   "id": "54cb60dc-688a-45e9-b2fe-bf00d4ec87f0",
   "metadata": {},
   "outputs": [
    {
     "name": "stderr",
     "output_type": "stream",
     "text": [
      "                                                                                \r"
     ]
    },
    {
     "name": "stdout",
     "output_type": "stream",
     "text": [
      "Detected number of classes: 4\n",
      "Coefficients: DenseMatrix([[-1.54481745e-02, -6.81997581e-02,  1.26231942e-02,\n",
      "              -4.27771205e-02, -2.00912228e-02,  8.74958329e-03,\n",
      "              -2.93272979e-02, -3.88900999e-02, -1.40710647e-02,\n",
      "               2.61526247e-02,  5.35834651e-01,  3.37992312e-01,\n",
      "               3.14710649e-02, -1.62980015e-04, -1.00998327e-01,\n",
      "               1.25777859e-02, -1.99140991e-03, -2.06617843e-03,\n",
      "               1.24030671e-02,  2.71978324e-02, -1.10968390e-02,\n",
      "              -3.10272388e-02,  5.60785671e-02],\n",
      "             [-1.90683896e-01, -9.29411703e-02,  1.66770800e-02,\n",
      "              -4.16103963e-02,  1.19064641e-01,  7.65155457e-03,\n",
      "              -8.38479732e-02, -2.76637252e-02,  3.14926283e-02,\n",
      "              -2.06660406e-02,  1.85455218e-01,  1.33934171e-01,\n",
      "              -1.47159502e-01, -1.30766077e-01,  4.55811794e-01,\n",
      "               1.45599963e-02, -6.14489816e-02,  5.09849877e-02,\n",
      "               1.20018687e-03,  3.21654510e-01,  9.71518987e-03,\n",
      "              -2.72857079e-01, -8.39149283e-02],\n",
      "             [-2.45600901e-01, -3.27126769e-02,  9.10891603e-02,\n",
      "               3.88799501e-02,  9.58305967e-02, -1.52410623e-02,\n",
      "              -1.36678193e-01, -1.69787859e-01,  1.86922961e-02,\n",
      "               3.35453500e-02,  2.07870017e-01,  1.44573858e-01,\n",
      "              -7.98336589e-02,  1.65360625e-01,  8.24106130e-04,\n",
      "               1.99986081e-03,  3.78889766e-02, -5.80856962e-02,\n",
      "              -3.00767816e-02, -4.65134297e-01, -4.68964066e-03,\n",
      "              -1.70909790e-02, -9.28041602e-03],\n",
      "             [ 4.51732971e-01,  1.93853605e-01, -1.20389434e-01,\n",
      "               4.55075667e-02, -1.94804015e-01, -1.16007559e-03,\n",
      "               2.49853464e-01,  2.36341684e-01, -3.61138597e-02,\n",
      "              -3.90319341e-02, -9.29159886e-01, -6.16500341e-01,\n",
      "               1.95522096e-01, -3.44315684e-02, -3.55637573e-01,\n",
      "              -2.91376430e-02,  2.55514150e-02,  9.16688691e-03,\n",
      "               1.64735277e-02,  1.16281954e-01,  6.07128979e-03,\n",
      "               3.20975297e-01,  3.71167772e-02]])\n",
      "Intercept: [-0.013746299204605173,-0.11962145079953473,0.05387711822789718,0.07949063177624273]\n"
     ]
    }
   ],
   "source": [
    "# Fit logistic regression model with intercept\n",
    "from pyspark.ml.classification import LogisticRegression\n",
    "\n",
    "# instantiate the model\n",
    "lr = LogisticRegression(labelCol='SeverityIndex',\n",
    "                        featuresCol='scaledFeatures',\n",
    "                        #maxIter=10, \n",
    "                        #regParam=0.3, \n",
    "                        #elasticNetParam=0.8,\n",
    "                        family=\"multinomial\")\n",
    "\n",
    "# Fit the model\n",
    "lrModel = lr.fit(scaledTrainData)\n",
    "print(f\"Detected number of classes: {lrModel.numClasses}\")\n",
    "\n",
    "# Print the coefficients and intercept for logistic regression\n",
    "print(\"Coefficients: \" + str(lrModel.coefficientMatrix))\n",
    "print(\"Intercept: \" + str(lrModel.interceptVector))"
   ]
  },
  {
   "cell_type": "code",
   "execution_count": 11,
   "id": "c9646a1f-7a43-4a74-8e3d-e64dd3a11062",
   "metadata": {},
   "outputs": [
    {
     "name": "stderr",
     "output_type": "stream",
     "text": [
      "                                                                                \r"
     ]
    },
    {
     "name": "stdout",
     "output_type": "stream",
     "text": [
      "+----------+\n",
      "|prediction|\n",
      "+----------+\n",
      "|       0.0|\n",
      "|       1.0|\n",
      "|       3.0|\n",
      "|       2.0|\n",
      "+----------+\n",
      "\n"
     ]
    },
    {
     "name": "stderr",
     "output_type": "stream",
     "text": [
      "[Stage 255:====================================================>  (22 + 1) / 23]\r"
     ]
    },
    {
     "name": "stdout",
     "output_type": "stream",
     "text": [
      "Accuracy: 0.38797435576397743\n"
     ]
    },
    {
     "name": "stderr",
     "output_type": "stream",
     "text": [
      "                                                                                \r"
     ]
    }
   ],
   "source": [
    "from pyspark.ml.evaluation import MulticlassClassificationEvaluator\n",
    "\n",
    "# compute predictions. this will append column \"prediction\" to dataframe\n",
    "lrPred = lrModel.transform(scaledTestData)\n",
    "lrPred.select(\"prediction\").distinct().show()\n",
    "\n",
    "evaluator = MulticlassClassificationEvaluator(labelCol='SeverityIndex', predictionCol='prediction', metricName='accuracy')\n",
    "accuracy = evaluator.evaluate(lrPred, {evaluator.metricName: \"accuracy\"})\n",
    "print(f'Accuracy: {accuracy}')"
   ]
  },
  {
   "cell_type": "code",
   "execution_count": 12,
   "id": "e3e81050-0bf6-4e42-b0c8-f7ebe09b0971",
   "metadata": {},
   "outputs": [
    {
     "name": "stderr",
     "output_type": "stream",
     "text": [
      "[Stage 261:================>                                      (7 + 16) / 23]\r"
     ]
    },
    {
     "name": "stdout",
     "output_type": "stream",
     "text": [
      "Precision: 0.767812183703774\n",
      "Recall: 0.38797435576397743\n",
      "F1 Score: 0.47908194810399657\n"
     ]
    },
    {
     "name": "stderr",
     "output_type": "stream",
     "text": [
      "                                                                                \r"
     ]
    }
   ],
   "source": [
    "precision = evaluator.evaluate(lrPred, {evaluator.metricName: 'weightedPrecision'})\n",
    "recall = evaluator.evaluate(lrPred, {evaluator.metricName: 'weightedRecall'})\n",
    "f1_score = evaluator.evaluate(lrPred, {evaluator.metricName: 'f1'})\n",
    "\n",
    "print(f'Precision: {precision}')\n",
    "print(f'Recall: {recall}')\n",
    "print(f'F1 Score: {f1_score}')"
   ]
  },
  {
   "cell_type": "code",
   "execution_count": 13,
   "id": "05e473cd-b658-4a72-ba3a-f5d2752719eb",
   "metadata": {},
   "outputs": [
    {
     "name": "stderr",
     "output_type": "stream",
     "text": [
      "[Stage 263:=================================>                     (14 + 9) / 23]\r"
     ]
    },
    {
     "name": "stdout",
     "output_type": "stream",
     "text": [
      "+-------------+-------------------+\n",
      "|SeverityIndex|           accuracy|\n",
      "+-------------+-------------------+\n",
      "|          0.0|0.36151808076469644|\n",
      "|          1.0|  0.493024720656142|\n",
      "|          3.0| 0.7802552667999385|\n",
      "|          2.0|0.42022006327519107|\n",
      "+-------------+-------------------+\n",
      "\n"
     ]
    },
    {
     "name": "stderr",
     "output_type": "stream",
     "text": [
      "                                                                                \r"
     ]
    }
   ],
   "source": [
    "# Add a column to indicate correct or incorrect predictions\n",
    "predictions = lrPred.withColumn(\n",
    "    'is_correct', F.expr(\"CASE WHEN SeverityIndex = prediction THEN 1 ELSE 0 END\")\n",
    ")\n",
    "\n",
    "# Calculate accuracy by class\n",
    "accuracy_by_class = predictions.groupBy('SeverityIndex').agg(\n",
    "    (F.sum('is_correct') / F.count('SeverityIndex')).alias('accuracy')\n",
    ")\n",
    "\n",
    "# Show per-class accuracy\n",
    "accuracy_by_class.show()"
   ]
  },
  {
   "cell_type": "code",
   "execution_count": null,
   "id": "3fce0c2c-f792-47cd-9e69-bdbbe886c5a5",
   "metadata": {},
   "outputs": [],
   "source": []
  }
 ],
 "metadata": {
  "kernelspec": {
   "display_name": "Python 3 (ipykernel)",
   "language": "python",
   "name": "python3"
  },
  "language_info": {
   "codemirror_mode": {
    "name": "ipython",
    "version": 3
   },
   "file_extension": ".py",
   "mimetype": "text/x-python",
   "name": "python",
   "nbconvert_exporter": "python",
   "pygments_lexer": "ipython3",
   "version": "3.11.5"
  }
 },
 "nbformat": 4,
 "nbformat_minor": 5
}
