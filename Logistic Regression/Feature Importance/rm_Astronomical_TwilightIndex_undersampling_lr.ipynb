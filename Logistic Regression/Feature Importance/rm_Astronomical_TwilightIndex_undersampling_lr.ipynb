{
 "cells": [
  {
   "cell_type": "code",
   "execution_count": 1,
   "id": "1bf6ccc1-6317-482a-ac30-72c6eab49a0b",
   "metadata": {},
   "outputs": [],
   "source": [
    "# Import Libraries\n",
    "import pandas as pd\n",
    "import numpy as np\n",
    "import os\n",
    "import pyspark\n",
    "from pyspark.sql import SparkSession\n",
    "from pyspark.sql.types import *\n",
    "from pyspark.sql.functions import *\n",
    "from pyspark.ml.feature import StringIndexer, OneHotEncoder, VectorAssembler\n",
    "from pyspark.ml.stat import Correlation\n",
    "import seaborn as sns\n",
    "import matplotlib.pyplot as plt\n",
    "import pyspark.sql.functions as F\n",
    "import holidays\n",
    "from datetime import datetime, timezone\n",
    "from pyspark.ml.classification import RandomForestClassifier, BinaryLogisticRegressionSummary\n",
    "from pyspark.ml import Pipeline\n",
    "from pyspark.mllib.evaluation import MulticlassMetrics, BinaryClassificationMetrics\n",
    "from pyspark.ml.pipeline import PipelineModel"
   ]
  },
  {
   "cell_type": "code",
   "execution_count": 2,
   "id": "d0709727-12cd-4322-b2e8-5ceca8b3b502",
   "metadata": {},
   "outputs": [
    {
     "name": "stderr",
     "output_type": "stream",
     "text": [
      "24/11/14 11:50:26 WARN NativeCodeLoader: Unable to load native-hadoop library for your platform... using builtin-java classes where applicable\n",
      "Using Spark's default log4j profile: org/apache/spark/log4j-defaults.properties\n",
      "Setting default log level to \"WARN\".\n",
      "To adjust logging level use sc.setLogLevel(newLevel). For SparkR, use setLogLevel(newLevel).\n",
      "24/11/14 11:50:27 WARN Utils: Service 'SparkUI' could not bind on port 4040. Attempting port 4041.\n",
      "24/11/14 11:50:27 WARN Utils: Service 'SparkUI' could not bind on port 4041. Attempting port 4042.\n",
      "24/11/14 11:50:27 WARN Utils: Service 'SparkUI' could not bind on port 4042. Attempting port 4043.\n"
     ]
    }
   ],
   "source": [
    "# Instantiate Spark Session\n",
    "spark = (SparkSession\n",
    "  .builder\n",
    "  .appName(\"US_Accidents\")\n",
    "  .getOrCreate())\n",
    "spark.sparkContext.setLogLevel(\"ERROR\") #supress warnings"
   ]
  },
  {
   "cell_type": "code",
   "execution_count": 3,
   "id": "c5a537b4-0516-49a4-a9d3-9957ecf6972b",
   "metadata": {},
   "outputs": [
    {
     "name": "stderr",
     "output_type": "stream",
     "text": [
      "                                                                                \r"
     ]
    }
   ],
   "source": [
    "# Read in Data\n",
    "df = spark.read.parquet(\"final_dataset_revised.parquet\")"
   ]
  },
  {
   "cell_type": "code",
   "execution_count": 4,
   "id": "c6be913b-8a20-494f-af35-4cc44879acb7",
   "metadata": {},
   "outputs": [
    {
     "name": "stderr",
     "output_type": "stream",
     "text": [
      "                                                                                \r"
     ]
    }
   ],
   "source": [
    "# Use StringIndexer for encoding the 'Severity' column\n",
    "indexer = StringIndexer(inputCol=\"Severity\", outputCol=\"SeverityIndex\")\n",
    "df = indexer.fit(df).transform(df)"
   ]
  },
  {
   "cell_type": "code",
   "execution_count": 5,
   "id": "bb96fd0f-7581-467f-a0c3-948425bd9ed5",
   "metadata": {},
   "outputs": [],
   "source": [
    "# Create list of features\n",
    "feature_list = []\n",
    "for col in df.columns:\n",
    "    if col == 'Severity':\n",
    "        continue\n",
    "    elif col == 'SeverityIndex':\n",
    "        continue\n",
    "    elif col == 'Astronomical_TwilightIndex':\n",
    "        continue\n",
    "    else:\n",
    "        feature_list.append(col)"
   ]
  },
  {
   "cell_type": "code",
   "execution_count": 6,
   "id": "8117f0e8-de44-4430-aa72-8899adcaeae8",
   "metadata": {},
   "outputs": [],
   "source": [
    "# Split the data into train and test\n",
    "splits = df.randomSplit([0.8, 0.2], 314)\n",
    "train = splits[0]\n",
    "test = splits[1]"
   ]
  },
  {
   "cell_type": "code",
   "execution_count": 7,
   "id": "827fa4c6-689b-4ea8-9b72-5fdbf8d7ecb4",
   "metadata": {},
   "outputs": [
    {
     "name": "stderr",
     "output_type": "stream",
     "text": [
      "                                                                                \r"
     ]
    },
    {
     "name": "stdout",
     "output_type": "stream",
     "text": [
      "+--------+-----------+--------+--------+----------+----------+-------------+-------+---------+----+----+-------------+--------------------------+--------------------+---------+-----------------+-----------------+-------------------+------------+-----------+--------------------+--------------------+-----------+-------------+\n",
      "|Severity|Temperature|Humidity|Pressure|Visibility|Wind_Speed|Precipitation|Weekday|Rush_Hour|Rain|Snow|    SeasonVec|Astronomical_TwilightIndex|Interstate_Indicator|Sex_ratio|Percent_Age_15-19|Percent_Age_20-24|Percent_Age_65_over|MedianIncome|Urban_Ratio|Traffic_Interference|Traffic_Intersection|Destination|SeverityIndex|\n",
      "+--------+-----------+--------+--------+----------+----------+-------------+-------+---------+----+----+-------------+--------------------------+--------------------+---------+-----------------+-----------------+-------------------+------------+-----------+--------------------+--------------------+-----------+-------------+\n",
      "|       2|        -13|      70|      29|        10|         5|            0|      1|        1|   0|   0|(3,[0],[1.0])|                         0|                   0|     99.6|              6.9|              5.0|               11.6|     76082.0|     0.7395|                   0|                   1|          0|          0.0|\n",
      "|       2|        -10|      71|      30|        10|         5|            0|      1|        1|   0|   0|(3,[0],[1.0])|                         0|                   0|     90.0|              5.7|              6.8|               20.7|     69720.0|        1.0|                   0|                   1|          1|          0.0|\n",
      "|       2|          0|      76|      29|         8|         3|            0|      1|        1|   0|   0|(3,[0],[1.0])|                         0|                   0|     93.6|              5.8|              5.8|               17.8|     52247.0|     0.4667|                   0|                   0|          0|          0.0|\n",
      "|       2|          1|      66|      29|        10|        20|            0|      1|        1|   0|   0|(3,[0],[1.0])|                         0|                   1|     92.9|              5.0|              6.4|                7.6|    117349.0|        0.0|                   0|                   0|          0|          0.0|\n",
      "|       2|          2|      80|      30|        10|         0|            0|      1|        0|   0|   0|(3,[0],[1.0])|                         0|                   0|    102.4|              5.7|              5.6|               16.3|     90969.0|        1.0|                   0|                   0|          0|          0.0|\n",
      "|       2|          7|      58|      30|        10|        10|            0|      1|        0|   0|   0|(3,[0],[1.0])|                         0|                   0|     93.7|              7.4|              8.1|               10.2|     76794.0|        1.0|                   0|                   1|          0|          0.0|\n",
      "|       2|          7|      72|      30|        10|        10|            0|      1|        0|   0|   0|(3,[0],[1.0])|                         1|                   0|    102.3|              5.3|              7.3|               12.2|     85574.0|     0.9991|                   0|                   1|          0|          0.0|\n",
      "|       2|          7|      73|      30|        10|         8|            0|      1|        0|   0|   0|(3,[0],[1.0])|                         1|                   0|    102.3|              5.3|              7.3|               12.2|     85574.0|     0.9991|                   0|                   1|          0|          0.0|\n",
      "|       2|         10|      37|      30|        10|         9|            0|      1|        1|   0|   0|(3,[0],[1.0])|                         0|                   1|     93.3|              8.4|              5.3|               14.8|    151334.0|     0.9977|                   0|                   0|          0|          0.0|\n",
      "|       2|         10|      61|      30|        10|        15|            0|      1|        1|   0|   0|(3,[0],[1.0])|                         0|                   0|     90.0|              5.7|              7.8|               14.7|     30028.0|        1.0|                   0|                   1|          1|          0.0|\n",
      "|       2|         11|      84|      29|         1|         7|            0|      1|        1|   0|   1|(3,[0],[1.0])|                         0|                   0|     91.8|              4.8|              4.2|               22.4|     89390.0|     0.9919|                   0|                   0|          0|          0.0|\n",
      "|       2|         11|      84|      29|         1|         7|            0|      1|        1|   0|   1|(3,[0],[1.0])|                         0|                   0|     94.0|              7.6|              2.6|               23.5|    138106.0|        1.0|                   0|                   0|          0|          0.0|\n",
      "|       2|         11|      84|      29|         1|         8|            0|      1|        1|   0|   1|(3,[0],[1.0])|                         0|                   0|     91.8|              4.8|              4.2|               22.4|     89390.0|     0.9919|                   0|                   0|          0|          0.0|\n",
      "|       2|         12|      61|      29|        10|         3|            0|      1|        1|   0|   0|(3,[0],[1.0])|                         0|                   0|     88.6|              4.5|              6.2|               20.7|     87545.0|        1.0|                   0|                   0|          0|          0.0|\n",
      "|       2|         12|      62|      30|        10|         9|            0|      1|        1|   0|   0|(3,[0],[1.0])|                         0|                   0|     94.6|              8.0|              4.8|               18.8|     80022.0|        1.0|                   0|                   1|          0|          0.0|\n",
      "|       2|         12|      80|      30|        10|         3|            0|      1|        1|   0|   0|(3,[0],[1.0])|                         0|                   0|    103.8|              6.7|              5.2|               14.8|    116560.0|        1.0|                   0|                   1|          0|          0.0|\n",
      "|       2|         13|      92|      30|         7|         0|            0|      1|        1|   0|   0|(3,[0],[1.0])|                         0|                   0|     97.0|              6.1|              3.9|               19.8|     69728.0|     0.7811|                   0|                   0|          0|          0.0|\n",
      "|       2|         15|      56|      29|        10|         7|            0|      1|        1|   0|   0|(3,[0],[1.0])|                         0|                   0|     94.5|              7.6|              5.6|               17.2|     60204.0|     0.5473|                   0|                   1|          0|          0.0|\n",
      "|       2|         16|      74|      30|        10|         0|            0|      1|        1|   0|   0|(3,[0],[1.0])|                         0|                   0|    109.9|              7.6|              6.0|               12.6|     72841.0|     0.7263|                   0|                   0|          0|          0.0|\n",
      "|       2|         16|      77|      29|         5|         5|            0|      1|        0|   0|   0|(3,[0],[1.0])|                         0|                   0|     89.8|              5.5|              5.3|               17.7|     80813.0|        1.0|                   0|                   0|          0|          0.0|\n",
      "+--------+-----------+--------+--------+----------+----------+-------------+-------+---------+----+----+-------------+--------------------------+--------------------+---------+-----------------+-----------------+-------------------+------------+-----------+--------------------+--------------------+-----------+-------------+\n",
      "only showing top 20 rows\n",
      "\n"
     ]
    },
    {
     "name": "stderr",
     "output_type": "stream",
     "text": [
      "                                                                                \r"
     ]
    },
    {
     "name": "stdout",
     "output_type": "stream",
     "text": [
      "+-------------+-----+\n",
      "|SeverityIndex|count|\n",
      "+-------------+-----+\n",
      "|          0.0|52173|\n",
      "|          1.0|51749|\n",
      "|          3.0|52136|\n",
      "|          2.0|52216|\n",
      "+-------------+-----+\n",
      "\n"
     ]
    }
   ],
   "source": [
    "# Undersampling\n",
    "from pyspark.sql import functions as F\n",
    "\n",
    "# Step 1: Group by 'Severity' and count occurrences\n",
    "class_counts = train.groupBy(\"SeverityIndex\").count()\n",
    "\n",
    "# Step 2: Use PySpark's min() function to find the minimum count\n",
    "min_class_size = class_counts.agg(F.min('count')).collect()[0][0]\n",
    "\n",
    "undersampled_train_list = []\n",
    "\n",
    "for row in class_counts.collect():\n",
    "    class_label = row['SeverityIndex']\n",
    "    class_size = row['count']\n",
    "\n",
    "    if class_size > min_class_size:\n",
    "        # Sample the data for this class to the size of the minimum class\n",
    "        class_data = train.filter(F.col(\"SeverityIndex\") == class_label)\n",
    "        class_data_undersampled = class_data.sample(withReplacement=False, fraction=min_class_size / class_size)\n",
    "    else:\n",
    "        # For classes that are already at the minimum size, keep all samples\n",
    "        class_data_undersampled = train.filter(F.col(\"SeverityIndex\") == class_label)\n",
    "\n",
    "    undersampled_train_list.append(class_data_undersampled)\n",
    "\n",
    "# Combine all the undersampled DataFrames\n",
    "undersampled_train = undersampled_train_list[0]  # start with the first one\n",
    "for df in undersampled_train_list[1:]:\n",
    "    undersampled_train = undersampled_train.union(df)\n",
    "\n",
    "# Show the result\n",
    "undersampled_train.show()\n",
    "\n",
    "# Step 4: Group by 'Severity' and count the occurrences in the undersampled DataFrame\n",
    "undersampled_class_counts = undersampled_train.groupBy(\"SeverityIndex\").count()\n",
    "\n",
    "# Show the result\n",
    "undersampled_class_counts.show()"
   ]
  },
  {
   "cell_type": "code",
   "execution_count": 8,
   "id": "2d79048b-55fa-4cac-9ce6-00d115340220",
   "metadata": {},
   "outputs": [],
   "source": [
    "# Assemble data for logistic regression model\n",
    "assembler = VectorAssembler(inputCols=feature_list,\n",
    "                            outputCol=\"features\")\n",
    "\n",
    "undersampled_train = assembler.transform(undersampled_train)\n",
    "test = assembler.transform(test)"
   ]
  },
  {
   "cell_type": "code",
   "execution_count": 9,
   "id": "2b5e00b4-277f-4dff-b480-5bcb8acdc8bc",
   "metadata": {},
   "outputs": [
    {
     "name": "stderr",
     "output_type": "stream",
     "text": [
      "                                                                                \r"
     ]
    }
   ],
   "source": [
    "# Standardize the predictors\n",
    "from pyspark.ml.feature import StandardScaler\n",
    "scaler = StandardScaler(inputCol=\"features\", outputCol=\"scaledFeatures\")\n",
    "scalerModel = scaler.fit(undersampled_train)\n",
    "scaledTrainData = scalerModel.transform(undersampled_train)\n",
    "scaledTestData = scalerModel.transform(test)"
   ]
  },
  {
   "cell_type": "code",
   "execution_count": 10,
   "id": "54cb60dc-688a-45e9-b2fe-bf00d4ec87f0",
   "metadata": {},
   "outputs": [
    {
     "name": "stderr",
     "output_type": "stream",
     "text": [
      "                                                                                \r"
     ]
    },
    {
     "name": "stdout",
     "output_type": "stream",
     "text": [
      "Detected number of classes: 4\n",
      "Coefficients: DenseMatrix([[-1.17510751e-02, -7.80355625e-02,  1.48610692e-02,\n",
      "              -4.52636794e-02, -9.52157624e-03,  3.26522339e-03,\n",
      "              -4.49890616e-02, -3.61252232e-02, -1.55010546e-02,\n",
      "               2.42275424e-02,  5.42992832e-01,  3.31886080e-01,\n",
      "               2.47532285e-02, -1.05112714e-01,  3.93714605e-03,\n",
      "              -1.36739867e-02,  3.38963303e-03,  1.66656322e-02,\n",
      "               5.97359774e-03,  3.18671551e-02, -1.17720002e-02,\n",
      "              -3.07125425e-02,  6.13917757e-02],\n",
      "             [-1.71890702e-01, -1.09939653e-01,  3.85295188e-02,\n",
      "              -4.41290516e-02,  1.33931290e-01,  6.77688936e-03,\n",
      "              -7.07021708e-02,  1.88693444e-02,  3.51155013e-02,\n",
      "              -1.47550326e-02,  1.67008331e-01,  1.31423698e-01,\n",
      "              -1.56417793e-01,  4.58513660e-01,  3.83018606e-03,\n",
      "              -7.98622689e-02,  1.20725457e-02, -1.56697318e-01,\n",
      "               1.93233768e-03,  2.58800497e-01,  8.66076428e-03,\n",
      "              -2.67794685e-01, -1.00295283e-01],\n",
      "             [-2.72591796e-01,  1.31443535e-03,  7.62441295e-02,\n",
      "               5.18521383e-02,  5.96766131e-02, -9.67269070e-03,\n",
      "              -1.46708319e-01, -2.25630922e-01,  4.41958076e-03,\n",
      "               2.27038628e-02,  2.34559935e-01,  1.57466015e-01,\n",
      "              -7.08009374e-02,  3.73242500e-04,  1.60783268e-02,\n",
      "               5.65086410e-02, -3.36290803e-02,  1.05718024e-01,\n",
      "              -3.19262545e-02, -4.19683178e-01, -8.54965438e-03,\n",
      "              -1.45181103e-02, -9.31464747e-03],\n",
      "             [ 4.56233573e-01,  1.86660780e-01, -1.29634717e-01,\n",
      "               3.75405928e-02, -1.84086327e-01, -3.69422046e-04,\n",
      "               2.62399551e-01,  2.42886801e-01, -2.40340275e-02,\n",
      "              -3.21763726e-02, -9.44561098e-01, -6.20775793e-01,\n",
      "               2.02465502e-01, -3.53774188e-01, -2.38456589e-02,\n",
      "               3.70276147e-02,  1.81669016e-02,  3.43136614e-02,\n",
      "               2.40203191e-02,  1.29015526e-01,  1.16608903e-02,\n",
      "               3.13025338e-01,  4.82181551e-02]])\n",
      "Intercept: [-0.016072789218390345,-0.13615370816941305,0.05780298558471228,0.0944235118030911]\n"
     ]
    }
   ],
   "source": [
    "# Fit logistic regression model with intercept\n",
    "from pyspark.ml.classification import LogisticRegression\n",
    "\n",
    "# instantiate the model\n",
    "lr = LogisticRegression(labelCol='SeverityIndex',\n",
    "                        featuresCol='scaledFeatures',\n",
    "                        #maxIter=10, \n",
    "                        #regParam=0.3, \n",
    "                        #elasticNetParam=0.8,\n",
    "                        family=\"multinomial\")\n",
    "\n",
    "# Fit the model\n",
    "lrModel = lr.fit(scaledTrainData)\n",
    "print(f\"Detected number of classes: {lrModel.numClasses}\")\n",
    "\n",
    "# Print the coefficients and intercept for logistic regression\n",
    "print(\"Coefficients: \" + str(lrModel.coefficientMatrix))\n",
    "print(\"Intercept: \" + str(lrModel.interceptVector))"
   ]
  },
  {
   "cell_type": "code",
   "execution_count": 11,
   "id": "c9646a1f-7a43-4a74-8e3d-e64dd3a11062",
   "metadata": {},
   "outputs": [
    {
     "name": "stderr",
     "output_type": "stream",
     "text": [
      "                                                                                \r"
     ]
    },
    {
     "name": "stdout",
     "output_type": "stream",
     "text": [
      "+----------+\n",
      "|prediction|\n",
      "+----------+\n",
      "|       0.0|\n",
      "|       1.0|\n",
      "|       3.0|\n",
      "|       2.0|\n",
      "+----------+\n",
      "\n"
     ]
    },
    {
     "name": "stderr",
     "output_type": "stream",
     "text": [
      "[Stage 267:====================================================>  (22 + 1) / 23]\r"
     ]
    },
    {
     "name": "stdout",
     "output_type": "stream",
     "text": [
      "Accuracy: 0.3935929247860135\n"
     ]
    },
    {
     "name": "stderr",
     "output_type": "stream",
     "text": [
      "                                                                                \r"
     ]
    }
   ],
   "source": [
    "from pyspark.ml.evaluation import MulticlassClassificationEvaluator\n",
    "\n",
    "# compute predictions. this will append column \"prediction\" to dataframe\n",
    "lrPred = lrModel.transform(scaledTestData)\n",
    "lrPred.select(\"prediction\").distinct().show()\n",
    "\n",
    "evaluator = MulticlassClassificationEvaluator(labelCol='SeverityIndex', predictionCol='prediction', metricName='accuracy')\n",
    "accuracy = evaluator.evaluate(lrPred, {evaluator.metricName: \"accuracy\"})\n",
    "print(f'Accuracy: {accuracy}')"
   ]
  },
  {
   "cell_type": "code",
   "execution_count": 12,
   "id": "e3e81050-0bf6-4e42-b0c8-f7ebe09b0971",
   "metadata": {},
   "outputs": [
    {
     "name": "stderr",
     "output_type": "stream",
     "text": [
      "[Stage 273:===================>                                   (8 + 15) / 23]\r"
     ]
    },
    {
     "name": "stdout",
     "output_type": "stream",
     "text": [
      "Precision: 0.7671504092749686\n",
      "Recall: 0.3935929247860135\n",
      "F1 Score: 0.4856942762542528\n"
     ]
    },
    {
     "name": "stderr",
     "output_type": "stream",
     "text": [
      "                                                                                \r"
     ]
    }
   ],
   "source": [
    "precision = evaluator.evaluate(lrPred, {evaluator.metricName: 'weightedPrecision'})\n",
    "recall = evaluator.evaluate(lrPred, {evaluator.metricName: 'weightedRecall'})\n",
    "f1_score = evaluator.evaluate(lrPred, {evaluator.metricName: 'f1'})\n",
    "\n",
    "print(f'Precision: {precision}')\n",
    "print(f'Recall: {recall}')\n",
    "print(f'F1 Score: {f1_score}')"
   ]
  },
  {
   "cell_type": "code",
   "execution_count": 13,
   "id": "05e473cd-b658-4a72-ba3a-f5d2752719eb",
   "metadata": {},
   "outputs": [
    {
     "name": "stderr",
     "output_type": "stream",
     "text": [
      "                                                                                \r"
     ]
    },
    {
     "name": "stdout",
     "output_type": "stream",
     "text": [
      "+-------------+-------------------+\n",
      "|SeverityIndex|           accuracy|\n",
      "+-------------+-------------------+\n",
      "|          0.0| 0.3701161432179678|\n",
      "|          1.0| 0.4869166382036826|\n",
      "|          3.0| 0.7797939412578809|\n",
      "|          2.0|0.40767701654674243|\n",
      "+-------------+-------------------+\n",
      "\n"
     ]
    }
   ],
   "source": [
    "# Add a column to indicate correct or incorrect predictions\n",
    "predictions = lrPred.withColumn(\n",
    "    'is_correct', F.expr(\"CASE WHEN SeverityIndex = prediction THEN 1 ELSE 0 END\")\n",
    ")\n",
    "\n",
    "# Calculate accuracy by class\n",
    "accuracy_by_class = predictions.groupBy('SeverityIndex').agg(\n",
    "    (F.sum('is_correct') / F.count('SeverityIndex')).alias('accuracy')\n",
    ")\n",
    "\n",
    "# Show per-class accuracy\n",
    "accuracy_by_class.show()"
   ]
  },
  {
   "cell_type": "code",
   "execution_count": null,
   "id": "3fce0c2c-f792-47cd-9e69-bdbbe886c5a5",
   "metadata": {},
   "outputs": [],
   "source": []
  }
 ],
 "metadata": {
  "kernelspec": {
   "display_name": "Python 3 (ipykernel)",
   "language": "python",
   "name": "python3"
  },
  "language_info": {
   "codemirror_mode": {
    "name": "ipython",
    "version": 3
   },
   "file_extension": ".py",
   "mimetype": "text/x-python",
   "name": "python",
   "nbconvert_exporter": "python",
   "pygments_lexer": "ipython3",
   "version": "3.11.5"
  }
 },
 "nbformat": 4,
 "nbformat_minor": 5
}
