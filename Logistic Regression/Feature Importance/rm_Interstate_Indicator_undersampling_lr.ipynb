{
 "cells": [
  {
   "cell_type": "code",
   "execution_count": 1,
   "id": "1bf6ccc1-6317-482a-ac30-72c6eab49a0b",
   "metadata": {},
   "outputs": [],
   "source": [
    "# Import Libraries\n",
    "import pandas as pd\n",
    "import numpy as np\n",
    "import os\n",
    "import pyspark\n",
    "from pyspark.sql import SparkSession\n",
    "from pyspark.sql.types import *\n",
    "from pyspark.sql.functions import *\n",
    "from pyspark.ml.feature import StringIndexer, OneHotEncoder, VectorAssembler\n",
    "from pyspark.ml.stat import Correlation\n",
    "import seaborn as sns\n",
    "import matplotlib.pyplot as plt\n",
    "import pyspark.sql.functions as F\n",
    "import holidays\n",
    "from datetime import datetime, timezone\n",
    "from pyspark.ml.classification import RandomForestClassifier, BinaryLogisticRegressionSummary\n",
    "from pyspark.ml import Pipeline\n",
    "from pyspark.mllib.evaluation import MulticlassMetrics, BinaryClassificationMetrics\n",
    "from pyspark.ml.pipeline import PipelineModel"
   ]
  },
  {
   "cell_type": "code",
   "execution_count": 2,
   "id": "d0709727-12cd-4322-b2e8-5ceca8b3b502",
   "metadata": {},
   "outputs": [
    {
     "name": "stderr",
     "output_type": "stream",
     "text": [
      "24/11/14 18:52:53 WARN NativeCodeLoader: Unable to load native-hadoop library for your platform... using builtin-java classes where applicable\n",
      "Using Spark's default log4j profile: org/apache/spark/log4j-defaults.properties\n",
      "Setting default log level to \"WARN\".\n",
      "To adjust logging level use sc.setLogLevel(newLevel). For SparkR, use setLogLevel(newLevel).\n"
     ]
    }
   ],
   "source": [
    "# Instantiate Spark Session\n",
    "spark = (SparkSession\n",
    "  .builder\n",
    "  .appName(\"US_Accidents\")\n",
    "  .getOrCreate())\n",
    "spark.sparkContext.setLogLevel(\"ERROR\") #supress warnings"
   ]
  },
  {
   "cell_type": "code",
   "execution_count": 3,
   "id": "c5a537b4-0516-49a4-a9d3-9957ecf6972b",
   "metadata": {},
   "outputs": [],
   "source": [
    "# Read in Data\n",
    "df = spark.read.parquet(\"final_dataset_revised.parquet\")"
   ]
  },
  {
   "cell_type": "code",
   "execution_count": 4,
   "id": "c6be913b-8a20-494f-af35-4cc44879acb7",
   "metadata": {},
   "outputs": [
    {
     "name": "stderr",
     "output_type": "stream",
     "text": [
      "                                                                                \r"
     ]
    }
   ],
   "source": [
    "# Use StringIndexer for encoding the 'Severity' column\n",
    "indexer = StringIndexer(inputCol=\"Severity\", outputCol=\"SeverityIndex\")\n",
    "df = indexer.fit(df).transform(df)"
   ]
  },
  {
   "cell_type": "code",
   "execution_count": 5,
   "id": "bb96fd0f-7581-467f-a0c3-948425bd9ed5",
   "metadata": {},
   "outputs": [],
   "source": [
    "# Create list of features\n",
    "feature_list = []\n",
    "for col in df.columns:\n",
    "    if col == 'Severity':\n",
    "        continue\n",
    "    elif col == 'SeverityIndex':\n",
    "        continue\n",
    "    elif col == 'Interstate_Indicator':\n",
    "        continue\n",
    "    else:\n",
    "        feature_list.append(col)"
   ]
  },
  {
   "cell_type": "code",
   "execution_count": 6,
   "id": "8117f0e8-de44-4430-aa72-8899adcaeae8",
   "metadata": {},
   "outputs": [],
   "source": [
    "# Split the data into train and test\n",
    "splits = df.randomSplit([0.8, 0.2], 314)\n",
    "train = splits[0]\n",
    "test = splits[1]"
   ]
  },
  {
   "cell_type": "code",
   "execution_count": 7,
   "id": "827fa4c6-689b-4ea8-9b72-5fdbf8d7ecb4",
   "metadata": {},
   "outputs": [
    {
     "name": "stderr",
     "output_type": "stream",
     "text": [
      "                                                                                \r"
     ]
    },
    {
     "name": "stdout",
     "output_type": "stream",
     "text": [
      "+--------+-----------+--------+--------+----------+----------+-------------+-------+---------+----+----+-------------+--------------------------+--------------------+---------+-----------------+-----------------+-------------------+------------+-----------+--------------------+--------------------+-----------+-------------+\n",
      "|Severity|Temperature|Humidity|Pressure|Visibility|Wind_Speed|Precipitation|Weekday|Rush_Hour|Rain|Snow|    SeasonVec|Astronomical_TwilightIndex|Interstate_Indicator|Sex_ratio|Percent_Age_15-19|Percent_Age_20-24|Percent_Age_65_over|MedianIncome|Urban_Ratio|Traffic_Interference|Traffic_Intersection|Destination|SeverityIndex|\n",
      "+--------+-----------+--------+--------+----------+----------+-------------+-------+---------+----+----+-------------+--------------------------+--------------------+---------+-----------------+-----------------+-------------------+------------+-----------+--------------------+--------------------+-----------+-------------+\n",
      "|       2|        -10|      71|      30|        10|         5|            0|      1|        1|   0|   0|(3,[0],[1.0])|                         0|                   0|     90.0|              5.7|              6.8|               20.7|     69720.0|        1.0|                   0|                   1|          1|          0.0|\n",
      "|       2|         -6|      71|      29|        10|        14|            0|      1|        1|   0|   0|(3,[0],[1.0])|                         0|                   0|     91.9|              5.0|              4.7|               25.7|     50257.0|        0.0|                   0|                   0|          0|          0.0|\n",
      "|       2|          1|      66|      29|        10|         9|            0|      1|        1|   0|   0|(3,[0],[1.0])|                         0|                   0|    101.3|              7.9|              9.1|                8.4|     45114.0|        1.0|                   0|                   1|          0|          0.0|\n",
      "|       2|          3|      76|      30|         6|         8|            0|      1|        1|   0|   1|(3,[0],[1.0])|                         0|                   0|     83.9|              6.3|              3.5|               21.0|     77771.0|     0.9465|                   0|                   1|          0|          0.0|\n",
      "|       2|          5|      66|      30|        10|         8|            0|      1|        1|   0|   0|(3,[0],[1.0])|                         0|                   0|     93.7|              7.4|              8.1|               10.2|     76794.0|        1.0|                   0|                   0|          0|          0.0|\n",
      "|       2|          6|      48|      30|        10|        16|            0|      1|        1|   0|   0|(3,[0],[1.0])|                         0|                   1|     92.5|              4.8|              6.4|               22.5|     73290.0|        1.0|                   0|                   0|          0|          0.0|\n",
      "|       2|          7|      61|      29|        10|         0|            0|      1|        1|   0|   0|(3,[0],[1.0])|                         0|                   0|    111.0|              4.5|              2.1|               15.9|     98770.0|        0.0|                   0|                   0|          0|          0.0|\n",
      "|       2|          8|      76|      30|        10|         7|            0|      1|        1|   0|   0|(3,[0],[1.0])|                         0|                   0|     97.6|              4.8|              4.1|               18.6|     63034.0|     0.9897|                   0|                   1|          0|          0.0|\n",
      "|       2|          9|      71|      30|        10|         6|            0|      1|        1|   0|   0|(3,[0],[1.0])|                         0|                   0|     94.1|              6.2|              5.4|               17.3|     51920.0|     0.8509|                   0|                   0|          0|          0.0|\n",
      "|       2|          9|      79|      29|         2|         7|            0|      1|        0|   0|   1|(3,[0],[1.0])|                         1|                   0|    101.6|              4.3|              3.5|               33.6|     50819.0|        0.0|                   0|                   0|          0|          0.0|\n",
      "|       2|         11|      56|      29|        10|        10|            0|      1|        0|   0|   0|(3,[0],[1.0])|                         0|                   1|     99.0|              5.9|             16.4|               12.9|     58031.0|     0.8977|                   0|                   0|          0|          0.0|\n",
      "|       2|         11|      64|      29|        10|        20|            0|      1|        1|   0|   0|(3,[0],[1.0])|                         0|                   0|     89.8|              8.0|              8.5|               15.6|     25949.0|     0.9915|                   0|                   0|          1|          0.0|\n",
      "|       2|         11|      67|      30|        10|         0|            0|      1|        1|   0|   0|(3,[0],[1.0])|                         0|                   0|    105.6|              6.3|              7.7|               10.9|    100816.0|        1.0|                   0|                   0|          0|          0.0|\n",
      "|       2|         11|      84|      29|         1|         9|            0|      1|        1|   0|   1|(3,[0],[1.0])|                         0|                   0|     94.9|              3.7|              5.8|               15.5|     65803.0|        1.0|                   0|                   0|          0|          0.0|\n",
      "|       2|         12|      64|      29|        10|         3|            0|      1|        0|   0|   0|(3,[0],[1.0])|                         1|                   0|     97.7|              5.5|              4.5|               19.7|     74752.0|      0.935|                   0|                   1|          0|          0.0|\n",
      "|       2|         12|      79|      29|        10|        23|            0|      0|        0|   0|   1|(3,[0],[1.0])|                         1|                   0|     96.6|              6.7|              5.2|               12.7|     74392.0|     0.9269|                   0|                   0|          0|          0.0|\n",
      "|       2|         17|      85|      29|         1|         9|            0|      1|        0|   0|   1|(3,[0],[1.0])|                         0|                   1|     98.1|              4.8|              5.1|               21.3|     58750.0|     0.5215|                   0|                   0|          0|          0.0|\n",
      "|       2|         17|      88|      29|         1|         5|            0|      1|        0|   0|   1|(3,[0],[1.0])|                         1|                   0|     93.8|             10.0|              9.6|               17.0|     59133.0|     0.8743|                   0|                   1|          0|          0.0|\n",
      "|       2|         17|      92|      30|        10|         0|            0|      1|        1|   0|   0|(3,[0],[1.0])|                         0|                   0|     90.1|              3.7|              5.8|               14.8|     48603.0|        1.0|                   0|                   0|          0|          0.0|\n",
      "|       2|         18|      68|      30|        10|         6|            0|      1|        0|   0|   0|(3,[0],[1.0])|                         0|                   0|    113.9|              4.8|              6.2|                8.8|     44785.0|        1.0|                   0|                   0|          0|          0.0|\n",
      "+--------+-----------+--------+--------+----------+----------+-------------+-------+---------+----+----+-------------+--------------------------+--------------------+---------+-----------------+-----------------+-------------------+------------+-----------+--------------------+--------------------+-----------+-------------+\n",
      "only showing top 20 rows\n",
      "\n"
     ]
    },
    {
     "name": "stderr",
     "output_type": "stream",
     "text": [
      "[Stage 9:=====================================================>   (87 + 5) / 92]\r"
     ]
    },
    {
     "name": "stdout",
     "output_type": "stream",
     "text": [
      "+-------------+-----+\n",
      "|SeverityIndex|count|\n",
      "+-------------+-----+\n",
      "|          0.0|51942|\n",
      "|          1.0|52679|\n",
      "|          3.0|52136|\n",
      "|          2.0|52134|\n",
      "+-------------+-----+\n",
      "\n"
     ]
    },
    {
     "name": "stderr",
     "output_type": "stream",
     "text": [
      "                                                                                \r"
     ]
    }
   ],
   "source": [
    "# Undersampling\n",
    "from pyspark.sql import functions as F\n",
    "\n",
    "# Step 1: Group by 'Severity' and count occurrences\n",
    "class_counts = train.groupBy(\"SeverityIndex\").count()\n",
    "\n",
    "# Step 2: Use PySpark's min() function to find the minimum count\n",
    "min_class_size = class_counts.agg(F.min('count')).collect()[0][0]\n",
    "\n",
    "undersampled_train_list = []\n",
    "\n",
    "for row in class_counts.collect():\n",
    "    class_label = row['SeverityIndex']\n",
    "    class_size = row['count']\n",
    "\n",
    "    if class_size > min_class_size:\n",
    "        # Sample the data for this class to the size of the minimum class\n",
    "        class_data = train.filter(F.col(\"SeverityIndex\") == class_label)\n",
    "        class_data_undersampled = class_data.sample(withReplacement=False, fraction=min_class_size / class_size)\n",
    "    else:\n",
    "        # For classes that are already at the minimum size, keep all samples\n",
    "        class_data_undersampled = train.filter(F.col(\"SeverityIndex\") == class_label)\n",
    "\n",
    "    undersampled_train_list.append(class_data_undersampled)\n",
    "\n",
    "# Combine all the undersampled DataFrames\n",
    "undersampled_train = undersampled_train_list[0]  # start with the first one\n",
    "for df in undersampled_train_list[1:]:\n",
    "    undersampled_train = undersampled_train.union(df)\n",
    "\n",
    "# Show the result\n",
    "undersampled_train.show()\n",
    "\n",
    "# Step 4: Group by 'Severity' and count the occurrences in the undersampled DataFrame\n",
    "undersampled_class_counts = undersampled_train.groupBy(\"SeverityIndex\").count()\n",
    "\n",
    "# Show the result\n",
    "undersampled_class_counts.show()"
   ]
  },
  {
   "cell_type": "code",
   "execution_count": 8,
   "id": "2d79048b-55fa-4cac-9ce6-00d115340220",
   "metadata": {},
   "outputs": [],
   "source": [
    "# Assemble data for logistic regression model\n",
    "assembler = VectorAssembler(inputCols=feature_list,\n",
    "                            outputCol=\"features\")\n",
    "\n",
    "undersampled_train = assembler.transform(undersampled_train)\n",
    "test = assembler.transform(test)"
   ]
  },
  {
   "cell_type": "code",
   "execution_count": 9,
   "id": "2b5e00b4-277f-4dff-b480-5bcb8acdc8bc",
   "metadata": {},
   "outputs": [
    {
     "name": "stderr",
     "output_type": "stream",
     "text": [
      "                                                                                \r"
     ]
    }
   ],
   "source": [
    "# Standardize the predictors\n",
    "from pyspark.ml.feature import StandardScaler\n",
    "scaler = StandardScaler(inputCol=\"features\", outputCol=\"scaledFeatures\")\n",
    "scalerModel = scaler.fit(undersampled_train)\n",
    "scaledTrainData = scalerModel.transform(undersampled_train)\n",
    "scaledTestData = scalerModel.transform(test)"
   ]
  },
  {
   "cell_type": "code",
   "execution_count": 10,
   "id": "54cb60dc-688a-45e9-b2fe-bf00d4ec87f0",
   "metadata": {},
   "outputs": [
    {
     "name": "stderr",
     "output_type": "stream",
     "text": [
      "                                                                                \r"
     ]
    },
    {
     "name": "stdout",
     "output_type": "stream",
     "text": [
      "Detected number of classes: 4\n",
      "Coefficients: DenseMatrix([[-1.60184002e-02, -7.30447664e-02,  9.29077731e-03,\n",
      "              -4.58680415e-02, -1.99486394e-02,  1.46032174e-03,\n",
      "              -3.68211565e-02, -4.35820879e-02, -1.02238170e-02,\n",
      "               2.45513433e-02,  5.21857475e-01,  3.35476040e-01,\n",
      "               1.92274696e-02, -2.46429000e-03,  4.89230359e-03,\n",
      "              -3.85025289e-03,  2.17610772e-03,  2.83498780e-02,\n",
      "               8.28849118e-03,  3.03462689e-02, -1.00902986e-03,\n",
      "              -1.51717769e-02,  6.95482508e-02],\n",
      "             [-2.11197762e-01, -8.37046469e-02,  5.36734966e-02,\n",
      "              -3.98293946e-02,  1.31109856e-01,  1.00399254e-02,\n",
      "              -8.78642045e-02, -2.52697434e-02,  4.39347016e-02,\n",
      "               5.38838596e-03,  1.71376829e-01,  1.34193384e-01,\n",
      "              -1.47165928e-01, -1.37407158e-01,  8.98194574e-03,\n",
      "              -8.30808693e-02,  8.92072014e-03, -1.71795585e-01,\n",
      "              -6.84940677e-04,  2.99872888e-01, -1.02348497e-02,\n",
      "              -3.29230458e-01, -1.35827264e-01],\n",
      "             [-2.51181680e-01, -4.18598694e-02,  7.47826939e-02,\n",
      "               4.15040902e-02,  6.50753905e-02, -1.06853280e-02,\n",
      "              -1.39924967e-01, -1.70570091e-01,  1.62861803e-02,\n",
      "               2.91070184e-02,  2.05476165e-01,  1.50475444e-01,\n",
      "              -7.54696054e-02,  1.68290769e-01,  7.83182436e-03,\n",
      "               5.65511591e-02, -2.50137273e-02,  1.03624667e-01,\n",
      "              -2.91362410e-02, -4.32078575e-01, -1.86950224e-03,\n",
      "              -1.68495801e-02, -1.92259002e-03],\n",
      "             [ 4.78397843e-01,  1.98609283e-01, -1.37746968e-01,\n",
      "               4.41933458e-02, -1.76236607e-01, -8.14919152e-04,\n",
      "               2.64610328e-01,  2.39421922e-01, -4.99970649e-02,\n",
      "              -5.90467477e-02, -8.98710468e-01, -6.20144869e-01,\n",
      "               2.03408064e-01, -2.84193209e-02, -2.17060737e-02,\n",
      "               3.03799631e-02,  1.39168994e-02,  3.98210401e-02,\n",
      "               2.15326905e-02,  1.01859418e-01,  1.31133818e-02,\n",
      "               3.61251815e-01,  6.82016029e-02]])\n",
      "Intercept: [-0.02364208882482023,-0.07000947843325277,0.03279628456504445,0.06085528269302855]\n"
     ]
    }
   ],
   "source": [
    "# Fit logistic regression model with intercept\n",
    "from pyspark.ml.classification import LogisticRegression\n",
    "\n",
    "# instantiate the model\n",
    "lr = LogisticRegression(labelCol='SeverityIndex',\n",
    "                        featuresCol='scaledFeatures',\n",
    "                        #maxIter=10, \n",
    "                        #regParam=0.3, \n",
    "                        #elasticNetParam=0.8,\n",
    "                        family=\"multinomial\")\n",
    "\n",
    "# Fit the model\n",
    "lrModel = lr.fit(scaledTrainData)\n",
    "print(f\"Detected number of classes: {lrModel.numClasses}\")\n",
    "\n",
    "# Print the coefficients and intercept for logistic regression\n",
    "print(\"Coefficients: \" + str(lrModel.coefficientMatrix))\n",
    "print(\"Intercept: \" + str(lrModel.interceptVector))"
   ]
  },
  {
   "cell_type": "code",
   "execution_count": 11,
   "id": "c9646a1f-7a43-4a74-8e3d-e64dd3a11062",
   "metadata": {},
   "outputs": [
    {
     "name": "stderr",
     "output_type": "stream",
     "text": [
      "                                                                                \r"
     ]
    },
    {
     "name": "stdout",
     "output_type": "stream",
     "text": [
      "+----------+\n",
      "|prediction|\n",
      "+----------+\n",
      "|       0.0|\n",
      "|       1.0|\n",
      "|       3.0|\n",
      "|       2.0|\n",
      "+----------+\n",
      "\n"
     ]
    },
    {
     "name": "stderr",
     "output_type": "stream",
     "text": [
      "[Stage 259:====================================================>  (22 + 1) / 23]\r"
     ]
    },
    {
     "name": "stdout",
     "output_type": "stream",
     "text": [
      "Accuracy: 0.31471171576215623\n"
     ]
    },
    {
     "name": "stderr",
     "output_type": "stream",
     "text": [
      "                                                                                \r"
     ]
    }
   ],
   "source": [
    "from pyspark.ml.evaluation import MulticlassClassificationEvaluator\n",
    "\n",
    "# compute predictions. this will append column \"prediction\" to dataframe\n",
    "lrPred = lrModel.transform(scaledTestData)\n",
    "lrPred.select(\"prediction\").distinct().show()\n",
    "\n",
    "evaluator = MulticlassClassificationEvaluator(labelCol='SeverityIndex', predictionCol='prediction', metricName='accuracy')\n",
    "accuracy = evaluator.evaluate(lrPred, {evaluator.metricName: \"accuracy\"})\n",
    "print(f'Accuracy: {accuracy}')"
   ]
  },
  {
   "cell_type": "code",
   "execution_count": 12,
   "id": "e3e81050-0bf6-4e42-b0c8-f7ebe09b0971",
   "metadata": {},
   "outputs": [
    {
     "name": "stderr",
     "output_type": "stream",
     "text": [
      "[Stage 265:======================================>                (16 + 7) / 23]\r"
     ]
    },
    {
     "name": "stdout",
     "output_type": "stream",
     "text": [
      "Precision: 0.7425594647738046\n",
      "Recall: 0.3147117157621563\n",
      "F1 Score: 0.3917180717962576\n"
     ]
    },
    {
     "name": "stderr",
     "output_type": "stream",
     "text": [
      "                                                                                \r"
     ]
    }
   ],
   "source": [
    "precision = evaluator.evaluate(lrPred, {evaluator.metricName: 'weightedPrecision'})\n",
    "recall = evaluator.evaluate(lrPred, {evaluator.metricName: 'weightedRecall'})\n",
    "f1_score = evaluator.evaluate(lrPred, {evaluator.metricName: 'f1'})\n",
    "\n",
    "print(f'Precision: {precision}')\n",
    "print(f'Recall: {recall}')\n",
    "print(f'F1 Score: {f1_score}')"
   ]
  },
  {
   "cell_type": "code",
   "execution_count": 13,
   "id": "05e473cd-b658-4a72-ba3a-f5d2752719eb",
   "metadata": {},
   "outputs": [
    {
     "name": "stderr",
     "output_type": "stream",
     "text": [
      "                                                                                \r"
     ]
    },
    {
     "name": "stdout",
     "output_type": "stream",
     "text": [
      "+-------------+------------------+\n",
      "|SeverityIndex|          accuracy|\n",
      "+-------------+------------------+\n",
      "|          0.0|0.2775586062813844|\n",
      "|          1.0|0.4550987185003482|\n",
      "|          3.0|0.7431185606643088|\n",
      "|          2.0|0.4496458269171543|\n",
      "+-------------+------------------+\n",
      "\n"
     ]
    }
   ],
   "source": [
    "# Add a column to indicate correct or incorrect predictions\n",
    "predictions = lrPred.withColumn(\n",
    "    'is_correct', F.expr(\"CASE WHEN SeverityIndex = prediction THEN 1 ELSE 0 END\")\n",
    ")\n",
    "\n",
    "# Calculate accuracy by class\n",
    "accuracy_by_class = predictions.groupBy('SeverityIndex').agg(\n",
    "    (F.sum('is_correct') / F.count('SeverityIndex')).alias('accuracy')\n",
    ")\n",
    "\n",
    "# Show per-class accuracy\n",
    "accuracy_by_class.show()"
   ]
  },
  {
   "cell_type": "code",
   "execution_count": null,
   "id": "3fce0c2c-f792-47cd-9e69-bdbbe886c5a5",
   "metadata": {},
   "outputs": [],
   "source": []
  }
 ],
 "metadata": {
  "kernelspec": {
   "display_name": "Python 3 (ipykernel)",
   "language": "python",
   "name": "python3"
  },
  "language_info": {
   "codemirror_mode": {
    "name": "ipython",
    "version": 3
   },
   "file_extension": ".py",
   "mimetype": "text/x-python",
   "name": "python",
   "nbconvert_exporter": "python",
   "pygments_lexer": "ipython3",
   "version": "3.11.5"
  }
 },
 "nbformat": 4,
 "nbformat_minor": 5
}
