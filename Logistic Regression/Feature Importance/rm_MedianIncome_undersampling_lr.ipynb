{
 "cells": [
  {
   "cell_type": "code",
   "execution_count": 1,
   "id": "1bf6ccc1-6317-482a-ac30-72c6eab49a0b",
   "metadata": {},
   "outputs": [],
   "source": [
    "# Import Libraries\n",
    "import pandas as pd\n",
    "import numpy as np\n",
    "import os\n",
    "import pyspark\n",
    "from pyspark.sql import SparkSession\n",
    "from pyspark.sql.types import *\n",
    "from pyspark.sql.functions import *\n",
    "from pyspark.ml.feature import StringIndexer, OneHotEncoder, VectorAssembler\n",
    "from pyspark.ml.stat import Correlation\n",
    "import seaborn as sns\n",
    "import matplotlib.pyplot as plt\n",
    "import pyspark.sql.functions as F\n",
    "import holidays\n",
    "from datetime import datetime, timezone\n",
    "from pyspark.ml.classification import RandomForestClassifier, BinaryLogisticRegressionSummary\n",
    "from pyspark.ml import Pipeline\n",
    "from pyspark.mllib.evaluation import MulticlassMetrics, BinaryClassificationMetrics\n",
    "from pyspark.ml.pipeline import PipelineModel"
   ]
  },
  {
   "cell_type": "code",
   "execution_count": 2,
   "id": "d0709727-12cd-4322-b2e8-5ceca8b3b502",
   "metadata": {},
   "outputs": [
    {
     "name": "stderr",
     "output_type": "stream",
     "text": [
      "24/11/14 12:08:51 WARN NativeCodeLoader: Unable to load native-hadoop library for your platform... using builtin-java classes where applicable\n",
      "Using Spark's default log4j profile: org/apache/spark/log4j-defaults.properties\n",
      "Setting default log level to \"WARN\".\n",
      "To adjust logging level use sc.setLogLevel(newLevel). For SparkR, use setLogLevel(newLevel).\n",
      "24/11/14 12:08:52 WARN Utils: Service 'SparkUI' could not bind on port 4040. Attempting port 4041.\n",
      "24/11/14 12:08:52 WARN Utils: Service 'SparkUI' could not bind on port 4041. Attempting port 4042.\n",
      "24/11/14 12:08:52 WARN Utils: Service 'SparkUI' could not bind on port 4042. Attempting port 4043.\n",
      "24/11/14 12:08:52 WARN Utils: Service 'SparkUI' could not bind on port 4043. Attempting port 4044.\n",
      "24/11/14 12:08:52 WARN Utils: Service 'SparkUI' could not bind on port 4044. Attempting port 4045.\n"
     ]
    }
   ],
   "source": [
    "# Instantiate Spark Session\n",
    "spark = (SparkSession\n",
    "  .builder\n",
    "  .appName(\"US_Accidents\")\n",
    "  .getOrCreate())\n",
    "spark.sparkContext.setLogLevel(\"ERROR\") #supress warnings"
   ]
  },
  {
   "cell_type": "code",
   "execution_count": 3,
   "id": "c5a537b4-0516-49a4-a9d3-9957ecf6972b",
   "metadata": {},
   "outputs": [
    {
     "name": "stderr",
     "output_type": "stream",
     "text": [
      "                                                                                \r"
     ]
    }
   ],
   "source": [
    "# Read in Data\n",
    "df = spark.read.parquet(\"final_dataset_revised.parquet\")"
   ]
  },
  {
   "cell_type": "code",
   "execution_count": 4,
   "id": "c6be913b-8a20-494f-af35-4cc44879acb7",
   "metadata": {},
   "outputs": [
    {
     "name": "stderr",
     "output_type": "stream",
     "text": [
      "                                                                                \r"
     ]
    }
   ],
   "source": [
    "# Use StringIndexer for encoding the 'Severity' column\n",
    "indexer = StringIndexer(inputCol=\"Severity\", outputCol=\"SeverityIndex\")\n",
    "df = indexer.fit(df).transform(df)"
   ]
  },
  {
   "cell_type": "code",
   "execution_count": 5,
   "id": "bb96fd0f-7581-467f-a0c3-948425bd9ed5",
   "metadata": {},
   "outputs": [],
   "source": [
    "# Create list of features\n",
    "feature_list = []\n",
    "for col in df.columns:\n",
    "    if col == 'Severity':\n",
    "        continue\n",
    "    elif col == 'SeverityIndex':\n",
    "        continue\n",
    "    elif col == 'MedianIncome':\n",
    "        continue\n",
    "    else:\n",
    "        feature_list.append(col)"
   ]
  },
  {
   "cell_type": "code",
   "execution_count": 6,
   "id": "8117f0e8-de44-4430-aa72-8899adcaeae8",
   "metadata": {},
   "outputs": [],
   "source": [
    "# Split the data into train and test\n",
    "splits = df.randomSplit([0.8, 0.2], 314)\n",
    "train = splits[0]\n",
    "test = splits[1]"
   ]
  },
  {
   "cell_type": "code",
   "execution_count": 7,
   "id": "827fa4c6-689b-4ea8-9b72-5fdbf8d7ecb4",
   "metadata": {},
   "outputs": [
    {
     "name": "stderr",
     "output_type": "stream",
     "text": [
      "                                                                                \r"
     ]
    },
    {
     "name": "stdout",
     "output_type": "stream",
     "text": [
      "+--------+-----------+--------+--------+----------+----------+-------------+-------+---------+----+----+-------------+--------------------------+--------------------+---------+-----------------+-----------------+-------------------+------------+-----------+--------------------+--------------------+-----------+-------------+\n",
      "|Severity|Temperature|Humidity|Pressure|Visibility|Wind_Speed|Precipitation|Weekday|Rush_Hour|Rain|Snow|    SeasonVec|Astronomical_TwilightIndex|Interstate_Indicator|Sex_ratio|Percent_Age_15-19|Percent_Age_20-24|Percent_Age_65_over|MedianIncome|Urban_Ratio|Traffic_Interference|Traffic_Intersection|Destination|SeverityIndex|\n",
      "+--------+-----------+--------+--------+----------+----------+-------------+-------+---------+----+----+-------------+--------------------------+--------------------+---------+-----------------+-----------------+-------------------+------------+-----------+--------------------+--------------------+-----------+-------------+\n",
      "|       2|        -17|      84|      29|        10|         0|            0|      1|        0|   0|   1|(3,[0],[1.0])|                         1|                   0|     95.3|              6.7|              7.6|               10.2|     72697.0|        0.0|                   0|                   0|          0|          0.0|\n",
      "|       2|          0|      72|      30|        15|         0|            0|      1|        1|   0|   0|(3,[0],[1.0])|                         0|                   0|     99.2|              6.6|              6.8|               16.1|     82933.0|     0.7161|                   0|                   1|          0|          0.0|\n",
      "|       2|          0|      78|      30|        10|         5|            0|      1|        1|   0|   0|(3,[0],[1.0])|                         0|                   0|     91.8|              5.1|              5.1|               16.1|     40497.0|        1.0|                   0|                   0|          0|          0.0|\n",
      "|       2|          4|      73|      30|         8|        13|            0|      1|        0|   0|   1|(3,[0],[1.0])|                         1|                   0|     89.5|              5.9|              9.2|                8.6|     23574.0|        1.0|                   0|                   0|          0|          0.0|\n",
      "|       2|          8|      87|      30|        10|         0|            0|      1|        1|   0|   0|(3,[0],[1.0])|                         0|                   1|     96.7|              8.1|              3.3|               15.4|    123413.0|     0.9151|                   0|                   0|          0|          0.0|\n",
      "|       2|          9|      85|      30|        10|         0|            0|      1|        1|   1|   0|(3,[0],[1.0])|                         0|                   0|     87.2|              5.9|              8.7|               15.9|     83136.0|      0.307|                   0|                   0|          0|          0.0|\n",
      "|       2|         10|      61|      30|        10|         6|            0|      0|        0|   0|   0|(3,[0],[1.0])|                         1|                   0|     65.8|              3.9|              5.8|               32.8|     29172.0|        1.0|                   0|                   0|          0|          0.0|\n",
      "|       2|         11|      56|      30|        10|        16|            0|      1|        0|   0|   0|(3,[0],[1.0])|                         1|                   0|     88.8|              6.0|              7.4|               13.9|     26900.0|        1.0|                   0|                   1|          1|          0.0|\n",
      "|       2|         11|      83|      28|         3|        24|            0|      1|        1|   0|   0|(3,[0],[1.0])|                         0|                   1|    103.6|              7.7|              4.3|               18.5|     60634.0|        0.0|                   0|                   0|          0|          0.0|\n",
      "|       2|         11|      84|      29|        10|         5|            0|      1|        0|   0|   0|(3,[0],[1.0])|                         1|                   0|    104.3|              4.5|              5.4|               21.1|     48558.0|        0.0|                   0|                   0|          0|          0.0|\n",
      "|       2|         14|      52|      31|        10|         9|            0|      1|        0|   0|   0|(3,[0],[1.0])|                         0|                   1|     91.1|              5.1|              4.8|               18.7|    105919.0|     0.9789|                   0|                   0|          0|          0.0|\n",
      "|       2|         14|      71|      30|        10|         0|            0|      1|        1|   0|   0|(3,[0],[1.0])|                         0|                   0|    104.9|              5.6|              4.3|               17.5|     91973.0|        0.0|                   0|                   0|          0|          0.0|\n",
      "|       2|         14|      79|      30|        10|        12|            0|      1|        1|   0|   0|(3,[0],[1.0])|                         0|                   0|     91.8|              5.1|              5.1|               16.1|     40497.0|        1.0|                   0|                   0|          0|          0.0|\n",
      "|       2|         15|      91|      30|        10|         7|            0|      1|        0|   0|   0|(3,[0],[1.0])|                         1|                   0|     92.1|              5.9|              3.9|               20.7|    115669.0|     0.9477|                   0|                   0|          0|          0.0|\n",
      "|       2|         18|      33|      31|        10|        10|            0|      1|        1|   0|   0|(3,[0],[1.0])|                         0|                   0|     94.4|              6.2|              6.9|               16.7|     90971.0|        1.0|                   0|                   0|          0|          0.0|\n",
      "|       2|         18|      71|      30|         9|         3|            0|      1|        1|   0|   0|(3,[0],[1.0])|                         0|                   0|     95.4|              5.0|              6.2|               21.0|     74925.0|     0.9851|                   0|                   0|          0|          0.0|\n",
      "|       2|         18|      78|      29|         1|        10|            0|      1|        1|   0|   1|(3,[0],[1.0])|                         0|                   0|    101.5|              4.3|              6.0|               16.5|     56185.0|        1.0|                   0|                   0|          0|          0.0|\n",
      "|       2|         18|      78|      29|         4|        12|            0|      0|        1|   0|   1|(3,[0],[1.0])|                         0|                   0|    101.2|              8.6|              3.4|               14.5|     84013.0|     0.5611|                   0|                   0|          0|          0.0|\n",
      "|       2|         20|      71|      30|        10|         0|            0|      1|        1|   0|   0|(3,[0],[1.0])|                         0|                   0|     93.8|              6.4|              5.0|               20.9|     72813.0|     0.8412|                   0|                   0|          0|          0.0|\n",
      "|       2|         20|      81|      30|        10|         0|            0|      1|        1|   0|   0|(3,[0],[1.0])|                         0|                   0|    103.8|              5.9|              4.3|               20.7|     81117.0|        1.0|                   0|                   0|          0|          0.0|\n",
      "+--------+-----------+--------+--------+----------+----------+-------------+-------+---------+----+----+-------------+--------------------------+--------------------+---------+-----------------+-----------------+-------------------+------------+-----------+--------------------+--------------------+-----------+-------------+\n",
      "only showing top 20 rows\n",
      "\n"
     ]
    },
    {
     "name": "stderr",
     "output_type": "stream",
     "text": [
      "[Stage 9:=======================================================> (89 + 3) / 92]\r"
     ]
    },
    {
     "name": "stdout",
     "output_type": "stream",
     "text": [
      "+-------------+-----+\n",
      "|SeverityIndex|count|\n",
      "+-------------+-----+\n",
      "|          0.0|51909|\n",
      "|          1.0|52471|\n",
      "|          3.0|52136|\n",
      "|          2.0|52330|\n",
      "+-------------+-----+\n",
      "\n"
     ]
    },
    {
     "name": "stderr",
     "output_type": "stream",
     "text": [
      "                                                                                \r"
     ]
    }
   ],
   "source": [
    "# Undersampling\n",
    "from pyspark.sql import functions as F\n",
    "\n",
    "# Step 1: Group by 'Severity' and count occurrences\n",
    "class_counts = train.groupBy(\"SeverityIndex\").count()\n",
    "\n",
    "# Step 2: Use PySpark's min() function to find the minimum count\n",
    "min_class_size = class_counts.agg(F.min('count')).collect()[0][0]\n",
    "\n",
    "undersampled_train_list = []\n",
    "\n",
    "for row in class_counts.collect():\n",
    "    class_label = row['SeverityIndex']\n",
    "    class_size = row['count']\n",
    "\n",
    "    if class_size > min_class_size:\n",
    "        # Sample the data for this class to the size of the minimum class\n",
    "        class_data = train.filter(F.col(\"SeverityIndex\") == class_label)\n",
    "        class_data_undersampled = class_data.sample(withReplacement=False, fraction=min_class_size / class_size)\n",
    "    else:\n",
    "        # For classes that are already at the minimum size, keep all samples\n",
    "        class_data_undersampled = train.filter(F.col(\"SeverityIndex\") == class_label)\n",
    "\n",
    "    undersampled_train_list.append(class_data_undersampled)\n",
    "\n",
    "# Combine all the undersampled DataFrames\n",
    "undersampled_train = undersampled_train_list[0]  # start with the first one\n",
    "for df in undersampled_train_list[1:]:\n",
    "    undersampled_train = undersampled_train.union(df)\n",
    "\n",
    "# Show the result\n",
    "undersampled_train.show()\n",
    "\n",
    "# Step 4: Group by 'Severity' and count the occurrences in the undersampled DataFrame\n",
    "undersampled_class_counts = undersampled_train.groupBy(\"SeverityIndex\").count()\n",
    "\n",
    "# Show the result\n",
    "undersampled_class_counts.show()"
   ]
  },
  {
   "cell_type": "code",
   "execution_count": 8,
   "id": "2d79048b-55fa-4cac-9ce6-00d115340220",
   "metadata": {},
   "outputs": [],
   "source": [
    "# Assemble data for logistic regression model\n",
    "assembler = VectorAssembler(inputCols=feature_list,\n",
    "                            outputCol=\"features\")\n",
    "\n",
    "undersampled_train = assembler.transform(undersampled_train)\n",
    "test = assembler.transform(test)"
   ]
  },
  {
   "cell_type": "code",
   "execution_count": 9,
   "id": "2b5e00b4-277f-4dff-b480-5bcb8acdc8bc",
   "metadata": {},
   "outputs": [
    {
     "name": "stderr",
     "output_type": "stream",
     "text": [
      "                                                                                \r"
     ]
    }
   ],
   "source": [
    "# Standardize the predictors\n",
    "from pyspark.ml.feature import StandardScaler\n",
    "scaler = StandardScaler(inputCol=\"features\", outputCol=\"scaledFeatures\")\n",
    "scalerModel = scaler.fit(undersampled_train)\n",
    "scaledTrainData = scalerModel.transform(undersampled_train)\n",
    "scaledTestData = scalerModel.transform(test)"
   ]
  },
  {
   "cell_type": "code",
   "execution_count": 10,
   "id": "54cb60dc-688a-45e9-b2fe-bf00d4ec87f0",
   "metadata": {},
   "outputs": [
    {
     "name": "stderr",
     "output_type": "stream",
     "text": [
      "                                                                                \r"
     ]
    },
    {
     "name": "stdout",
     "output_type": "stream",
     "text": [
      "Detected number of classes: 4\n",
      "Coefficients: DenseMatrix([[-1.04308391e-02, -6.47539625e-02,  1.02876383e-02,\n",
      "              -3.66904862e-02, -1.44303350e-02, -3.24264322e-03,\n",
      "              -3.49967795e-02, -3.55395746e-02, -8.82837754e-03,\n",
      "               2.41038984e-02,  5.30748522e-01,  3.39371720e-01,\n",
      "               3.27270334e-02,  3.93129838e-05, -1.10739569e-01,\n",
      "               5.00048259e-03, -7.40418674e-03,  6.16646712e-03,\n",
      "               1.46529414e-02,  3.78715489e-02, -1.54459675e-02,\n",
      "              -2.94921043e-02,  5.82874573e-02],\n",
      "             [-1.86729172e-01, -9.38463850e-02,  4.15791295e-02,\n",
      "              -3.75296567e-02,  1.15943958e-01,  1.16196943e-02,\n",
      "              -7.72023545e-02, -2.57469410e-02,  3.58526557e-02,\n",
      "              -1.67831006e-02,  1.69453437e-01,  1.30975208e-01,\n",
      "              -1.56568066e-01, -1.32437616e-01,  4.55404459e-01,\n",
      "               6.77501932e-03, -7.42229888e-02, -7.65494923e-04,\n",
      "              -1.61475612e-01,  2.59953633e-01,  3.19984582e-04,\n",
      "              -2.66067376e-01, -9.46788344e-02],\n",
      "             [-2.54792503e-01, -4.43456764e-02,  7.70426483e-02,\n",
      "               2.81209060e-02,  7.55932751e-02, -2.71956214e-03,\n",
      "              -1.43998154e-01, -1.78006088e-01,  1.02751268e-02,\n",
      "               3.22667473e-02,  2.02582067e-01,  1.42869065e-01,\n",
      "              -7.41011484e-02,  1.59979959e-01,  2.98716700e-03,\n",
      "               1.29901369e-03,  4.38464291e-02, -1.39816665e-02,\n",
      "               1.08782638e-01, -4.28510875e-01,  4.80386273e-03,\n",
      "              -2.10513662e-02, -9.86751444e-03],\n",
      "             [ 4.51952515e-01,  2.02946024e-01, -1.28909416e-01,\n",
      "               4.60992369e-02, -1.77106898e-01, -5.65748893e-03,\n",
      "               2.56197288e-01,  2.39292603e-01, -3.72994050e-02,\n",
      "              -3.95875451e-02, -9.02784026e-01, -6.13215993e-01,\n",
      "               1.97942181e-01, -2.75816559e-02, -3.47652057e-01,\n",
      "              -1.30745156e-02,  3.77807464e-02,  8.58069429e-03,\n",
      "               3.80400326e-02,  1.30685694e-01,  1.03221202e-02,\n",
      "               3.16610847e-01,  4.62588916e-02]])\n",
      "Intercept: [-0.02015284336147355,-0.08791820839968167,0.03967598460545524,0.06839506715569996]\n"
     ]
    }
   ],
   "source": [
    "# Fit logistic regression model with intercept\n",
    "from pyspark.ml.classification import LogisticRegression\n",
    "\n",
    "# instantiate the model\n",
    "lr = LogisticRegression(labelCol='SeverityIndex',\n",
    "                        featuresCol='scaledFeatures',\n",
    "                        #maxIter=10, \n",
    "                        #regParam=0.3, \n",
    "                        #elasticNetParam=0.8,\n",
    "                        family=\"multinomial\")\n",
    "\n",
    "# Fit the model\n",
    "lrModel = lr.fit(scaledTrainData)\n",
    "print(f\"Detected number of classes: {lrModel.numClasses}\")\n",
    "\n",
    "# Print the coefficients and intercept for logistic regression\n",
    "print(\"Coefficients: \" + str(lrModel.coefficientMatrix))\n",
    "print(\"Intercept: \" + str(lrModel.interceptVector))"
   ]
  },
  {
   "cell_type": "code",
   "execution_count": 11,
   "id": "c9646a1f-7a43-4a74-8e3d-e64dd3a11062",
   "metadata": {},
   "outputs": [
    {
     "name": "stderr",
     "output_type": "stream",
     "text": [
      "                                                                                \r"
     ]
    },
    {
     "name": "stdout",
     "output_type": "stream",
     "text": [
      "+----------+\n",
      "|prediction|\n",
      "+----------+\n",
      "|       0.0|\n",
      "|       1.0|\n",
      "|       3.0|\n",
      "|       2.0|\n",
      "+----------+\n",
      "\n"
     ]
    },
    {
     "name": "stderr",
     "output_type": "stream",
     "text": [
      "[Stage 247:===============================================>       (20 + 3) / 23]\r"
     ]
    },
    {
     "name": "stdout",
     "output_type": "stream",
     "text": [
      "Accuracy: 0.38475175286833\n"
     ]
    },
    {
     "name": "stderr",
     "output_type": "stream",
     "text": [
      "                                                                                \r"
     ]
    }
   ],
   "source": [
    "from pyspark.ml.evaluation import MulticlassClassificationEvaluator\n",
    "\n",
    "# compute predictions. this will append column \"prediction\" to dataframe\n",
    "lrPred = lrModel.transform(scaledTestData)\n",
    "lrPred.select(\"prediction\").distinct().show()\n",
    "\n",
    "evaluator = MulticlassClassificationEvaluator(labelCol='SeverityIndex', predictionCol='prediction', metricName='accuracy')\n",
    "accuracy = evaluator.evaluate(lrPred, {evaluator.metricName: \"accuracy\"})\n",
    "print(f'Accuracy: {accuracy}')"
   ]
  },
  {
   "cell_type": "code",
   "execution_count": 12,
   "id": "e3e81050-0bf6-4e42-b0c8-f7ebe09b0971",
   "metadata": {},
   "outputs": [
    {
     "name": "stderr",
     "output_type": "stream",
     "text": [
      "[Stage 253:==================================================>    (21 + 2) / 23]\r"
     ]
    },
    {
     "name": "stdout",
     "output_type": "stream",
     "text": [
      "Precision: 0.76815053252491\n",
      "Recall: 0.38475175286832997\n",
      "F1 Score: 0.47545544552190067\n"
     ]
    },
    {
     "name": "stderr",
     "output_type": "stream",
     "text": [
      "                                                                                \r"
     ]
    }
   ],
   "source": [
    "precision = evaluator.evaluate(lrPred, {evaluator.metricName: 'weightedPrecision'})\n",
    "recall = evaluator.evaluate(lrPred, {evaluator.metricName: 'weightedRecall'})\n",
    "f1_score = evaluator.evaluate(lrPred, {evaluator.metricName: 'f1'})\n",
    "\n",
    "print(f'Precision: {precision}')\n",
    "print(f'Recall: {recall}')\n",
    "print(f'F1 Score: {f1_score}')"
   ]
  },
  {
   "cell_type": "code",
   "execution_count": 13,
   "id": "05e473cd-b658-4a72-ba3a-f5d2752719eb",
   "metadata": {},
   "outputs": [
    {
     "name": "stderr",
     "output_type": "stream",
     "text": [
      "[Stage 255:===============================================>       (20 + 3) / 23]\r"
     ]
    },
    {
     "name": "stdout",
     "output_type": "stream",
     "text": [
      "+-------------+------------------+\n",
      "|SeverityIndex|          accuracy|\n",
      "+-------------+------------------+\n",
      "|          0.0|0.3568438951016938|\n",
      "|          1.0| 0.494914367079343|\n",
      "|          3.0|0.7765646624634784|\n",
      "|          2.0|0.4308872525688048|\n",
      "+-------------+------------------+\n",
      "\n"
     ]
    },
    {
     "name": "stderr",
     "output_type": "stream",
     "text": [
      "                                                                                \r"
     ]
    }
   ],
   "source": [
    "# Add a column to indicate correct or incorrect predictions\n",
    "predictions = lrPred.withColumn(\n",
    "    'is_correct', F.expr(\"CASE WHEN SeverityIndex = prediction THEN 1 ELSE 0 END\")\n",
    ")\n",
    "\n",
    "# Calculate accuracy by class\n",
    "accuracy_by_class = predictions.groupBy('SeverityIndex').agg(\n",
    "    (F.sum('is_correct') / F.count('SeverityIndex')).alias('accuracy')\n",
    ")\n",
    "\n",
    "# Show per-class accuracy\n",
    "accuracy_by_class.show()"
   ]
  },
  {
   "cell_type": "code",
   "execution_count": null,
   "id": "3fce0c2c-f792-47cd-9e69-bdbbe886c5a5",
   "metadata": {},
   "outputs": [],
   "source": []
  }
 ],
 "metadata": {
  "kernelspec": {
   "display_name": "Python 3 (ipykernel)",
   "language": "python",
   "name": "python3"
  },
  "language_info": {
   "codemirror_mode": {
    "name": "ipython",
    "version": 3
   },
   "file_extension": ".py",
   "mimetype": "text/x-python",
   "name": "python",
   "nbconvert_exporter": "python",
   "pygments_lexer": "ipython3",
   "version": "3.11.5"
  }
 },
 "nbformat": 4,
 "nbformat_minor": 5
}
