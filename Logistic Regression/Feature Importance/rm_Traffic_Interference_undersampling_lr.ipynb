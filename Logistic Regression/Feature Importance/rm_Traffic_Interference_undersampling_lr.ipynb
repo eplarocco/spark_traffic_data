{
 "cells": [
  {
   "cell_type": "code",
   "execution_count": 1,
   "id": "1bf6ccc1-6317-482a-ac30-72c6eab49a0b",
   "metadata": {},
   "outputs": [],
   "source": [
    "# Import Libraries\n",
    "import pandas as pd\n",
    "import numpy as np\n",
    "import os\n",
    "import pyspark\n",
    "from pyspark.sql import SparkSession\n",
    "from pyspark.sql.types import *\n",
    "from pyspark.sql.functions import *\n",
    "from pyspark.ml.feature import StringIndexer, OneHotEncoder, VectorAssembler\n",
    "from pyspark.ml.stat import Correlation\n",
    "import seaborn as sns\n",
    "import matplotlib.pyplot as plt\n",
    "import pyspark.sql.functions as F\n",
    "import holidays\n",
    "from datetime import datetime, timezone\n",
    "from pyspark.ml.classification import RandomForestClassifier, BinaryLogisticRegressionSummary\n",
    "from pyspark.ml import Pipeline\n",
    "from pyspark.mllib.evaluation import MulticlassMetrics, BinaryClassificationMetrics\n",
    "from pyspark.ml.pipeline import PipelineModel"
   ]
  },
  {
   "cell_type": "code",
   "execution_count": 2,
   "id": "d0709727-12cd-4322-b2e8-5ceca8b3b502",
   "metadata": {},
   "outputs": [
    {
     "name": "stderr",
     "output_type": "stream",
     "text": [
      "24/11/14 19:57:18 WARN NativeCodeLoader: Unable to load native-hadoop library for your platform... using builtin-java classes where applicable\n",
      "Using Spark's default log4j profile: org/apache/spark/log4j-defaults.properties\n",
      "Setting default log level to \"WARN\".\n",
      "To adjust logging level use sc.setLogLevel(newLevel). For SparkR, use setLogLevel(newLevel).\n",
      "24/11/14 19:57:18 WARN Utils: Service 'SparkUI' could not bind on port 4040. Attempting port 4041.\n"
     ]
    }
   ],
   "source": [
    "# Instantiate Spark Session\n",
    "spark = (SparkSession\n",
    "  .builder\n",
    "  .appName(\"US_Accidents\")\n",
    "  .getOrCreate())\n",
    "spark.sparkContext.setLogLevel(\"ERROR\") #supress warnings"
   ]
  },
  {
   "cell_type": "code",
   "execution_count": 3,
   "id": "c5a537b4-0516-49a4-a9d3-9957ecf6972b",
   "metadata": {},
   "outputs": [],
   "source": [
    "# Read in Data\n",
    "df = spark.read.parquet(\"final_dataset_revised.parquet\")"
   ]
  },
  {
   "cell_type": "code",
   "execution_count": 4,
   "id": "c6be913b-8a20-494f-af35-4cc44879acb7",
   "metadata": {},
   "outputs": [
    {
     "name": "stderr",
     "output_type": "stream",
     "text": [
      "                                                                                \r"
     ]
    }
   ],
   "source": [
    "# Use StringIndexer for encoding the 'Severity' column\n",
    "indexer = StringIndexer(inputCol=\"Severity\", outputCol=\"SeverityIndex\")\n",
    "df = indexer.fit(df).transform(df)"
   ]
  },
  {
   "cell_type": "code",
   "execution_count": 5,
   "id": "bb96fd0f-7581-467f-a0c3-948425bd9ed5",
   "metadata": {},
   "outputs": [],
   "source": [
    "# Create list of features\n",
    "feature_list = []\n",
    "for col in df.columns:\n",
    "    if col == 'Severity':\n",
    "        continue\n",
    "    elif col == 'SeverityIndex':\n",
    "        continue\n",
    "    elif col == 'Traffic_Interference':\n",
    "        continue\n",
    "    else:\n",
    "        feature_list.append(col)"
   ]
  },
  {
   "cell_type": "code",
   "execution_count": 6,
   "id": "8117f0e8-de44-4430-aa72-8899adcaeae8",
   "metadata": {},
   "outputs": [],
   "source": [
    "# Split the data into train and test\n",
    "splits = df.randomSplit([0.8, 0.2], 314)\n",
    "train = splits[0]\n",
    "test = splits[1]"
   ]
  },
  {
   "cell_type": "code",
   "execution_count": 7,
   "id": "827fa4c6-689b-4ea8-9b72-5fdbf8d7ecb4",
   "metadata": {},
   "outputs": [
    {
     "name": "stderr",
     "output_type": "stream",
     "text": [
      "                                                                                \r"
     ]
    },
    {
     "name": "stdout",
     "output_type": "stream",
     "text": [
      "+--------+-----------+--------+--------+----------+----------+-------------+-------+---------+----+----+-------------+--------------------------+--------------------+---------+-----------------+-----------------+-------------------+------------+-----------+--------------------+--------------------+-----------+-------------+\n",
      "|Severity|Temperature|Humidity|Pressure|Visibility|Wind_Speed|Precipitation|Weekday|Rush_Hour|Rain|Snow|    SeasonVec|Astronomical_TwilightIndex|Interstate_Indicator|Sex_ratio|Percent_Age_15-19|Percent_Age_20-24|Percent_Age_65_over|MedianIncome|Urban_Ratio|Traffic_Interference|Traffic_Intersection|Destination|SeverityIndex|\n",
      "+--------+-----------+--------+--------+----------+----------+-------------+-------+---------+----+----+-------------+--------------------------+--------------------+---------+-----------------+-----------------+-------------------+------------+-----------+--------------------+--------------------+-----------+-------------+\n",
      "|       2|         -4|      65|      30|        10|         6|            0|      1|        1|   0|   0|(3,[0],[1.0])|                         0|                   0|    101.0|              1.6|             11.8|                8.0|     95173.0|        1.0|                   0|                   1|          0|          0.0|\n",
      "|       2|         -1|      79|      28|        10|        10|            0|      1|        0|   0|   0|(3,[0],[1.0])|                         1|                   1|    109.1|              3.5|              2.5|               21.6|     70526.0|        0.0|                   0|                   0|          0|          0.0|\n",
      "|       2|          5|      46|      30|        10|        12|            0|      1|        1|   0|   0|(3,[0],[1.0])|                         0|                   1|     92.6|              8.1|              7.0|               16.0|     77484.0|        1.0|                   0|                   0|          0|          0.0|\n",
      "|       2|          5|      73|      30|        10|         0|            0|      1|        1|   0|   0|(3,[0],[1.0])|                         0|                   0|    104.5|              5.6|              7.3|               12.3|     43586.0|        1.0|                   0|                   0|          0|          0.0|\n",
      "|       2|          6|      60|      28|        10|        15|            0|      0|        0|   0|   0|(3,[0],[1.0])|                         0|                   0|    110.6|              4.0|              4.3|               28.2|     51181.0|        0.0|                   0|                   0|          0|          0.0|\n",
      "|       2|         10|      73|      30|        10|         8|            0|      1|        0|   0|   0|(3,[0],[1.0])|                         1|                   0|     92.6|              7.6|              5.8|               13.8|     57404.0|        1.0|                   0|                   1|          0|          0.0|\n",
      "|       2|         11|      84|      29|         1|         8|            0|      1|        1|   0|   1|(3,[0],[1.0])|                         0|                   0|     91.8|              4.8|              4.2|               22.4|     89390.0|     0.9919|                   0|                   0|          0|          0.0|\n",
      "|       2|         11|      92|      29|         5|         0|            0|      1|        1|   0|   0|(3,[0],[1.0])|                         0|                   0|     93.2|              7.5|              5.0|               16.4|    109593.0|        1.0|                   0|                   1|          0|          0.0|\n",
      "|       2|         13|      71|      30|        10|         0|            0|      1|        1|   0|   0|(3,[0],[1.0])|                         0|                   0|     90.8|              6.5|              5.4|               14.7|     82763.0|     0.9986|                   0|                   0|          0|          0.0|\n",
      "|       2|         14|      62|      29|        10|        22|            0|      1|        0|   0|   0|(3,[0],[1.0])|                         0|                   1|     90.6|              4.4|              5.4|               21.5|     55951.0|        1.0|                   0|                   0|          0|          0.0|\n",
      "|       2|         14|      67|      30|        10|         7|            0|      1|        1|   0|   0|(3,[0],[1.0])|                         0|                   0|     95.1|              6.3|              6.6|               16.4|     83008.0|        1.0|                   0|                   0|          0|          0.0|\n",
      "|       2|         15|      51|      30|        10|         5|            0|      1|        0|   0|   0|(3,[0],[1.0])|                         1|                   0|     99.0|              7.6|              6.4|               16.9|     67507.0|     0.7653|                   0|                   0|          0|          0.0|\n",
      "|       2|         16|      66|      26|        10|        20|            0|      1|        0|   0|   0|(3,[0],[1.0])|                         1|                   1|    106.5|              9.5|              4.2|                8.8|    106535.0|     0.9758|                   0|                   0|          0|          0.0|\n",
      "|       2|         17|      56|      30|        10|         7|            0|      1|        1|   0|   0|(3,[0],[1.0])|                         0|                   0|    102.5|              9.6|              2.9|               14.7|    196964.0|        1.0|                   0|                   0|          0|          0.0|\n",
      "|       2|         17|      77|      30|        10|         0|            0|      1|        1|   0|   0|(3,[0],[1.0])|                         0|                   0|     98.2|              4.9|              6.2|               19.1|     68639.0|     0.9987|                   0|                   1|          0|          0.0|\n",
      "|       2|         17|      88|      26|         1|         0|            0|      1|        1|   0|   1|(3,[0],[1.0])|                         0|                   0|     99.4|              6.4|              7.5|               13.9|     59792.0|        0.0|                   0|                   0|          0|          0.0|\n",
      "|       2|         18|      53|      29|        10|        10|            0|      1|        0|   0|   0|(3,[0],[1.0])|                         1|                   0|     91.7|              6.2|              6.0|               12.1|     72201.0|     0.9209|                   0|                   1|          0|          0.0|\n",
      "|       2|         18|      79|      29|        10|         3|            0|      1|        1|   0|   0|(3,[1],[1.0])|                         0|                   1|    100.8|              9.5|              4.7|                7.4|    114409.0|     0.8218|                   0|                   0|          0|          0.0|\n",
      "|       2|         19|      63|      30|        10|         0|            0|      1|        1|   0|   0|(3,[0],[1.0])|                         0|                   0|     93.3|              5.2|              5.4|               16.8|     79859.0|      0.858|                   0|                   1|          1|          0.0|\n",
      "|       2|         19|      77|      26|        10|         3|            0|      1|        1|   0|   0|(3,[0],[1.0])|                         0|                   0|     97.6|              8.1|              8.3|                8.0|     69808.0|     0.9853|                   0|                   0|          0|          0.0|\n",
      "+--------+-----------+--------+--------+----------+----------+-------------+-------+---------+----+----+-------------+--------------------------+--------------------+---------+-----------------+-----------------+-------------------+------------+-----------+--------------------+--------------------+-----------+-------------+\n",
      "only showing top 20 rows\n",
      "\n"
     ]
    },
    {
     "name": "stderr",
     "output_type": "stream",
     "text": [
      "[Stage 9:=====================================================>   (86 + 6) / 92]\r"
     ]
    },
    {
     "name": "stdout",
     "output_type": "stream",
     "text": [
      "+-------------+-----+\n",
      "|SeverityIndex|count|\n",
      "+-------------+-----+\n",
      "|          0.0|51786|\n",
      "|          1.0|51891|\n",
      "|          3.0|52136|\n",
      "|          2.0|52408|\n",
      "+-------------+-----+\n",
      "\n"
     ]
    },
    {
     "name": "stderr",
     "output_type": "stream",
     "text": [
      "                                                                                \r"
     ]
    }
   ],
   "source": [
    "# Undersampling\n",
    "from pyspark.sql import functions as F\n",
    "\n",
    "# Step 1: Group by 'Severity' and count occurrences\n",
    "class_counts = train.groupBy(\"SeverityIndex\").count()\n",
    "\n",
    "# Step 2: Use PySpark's min() function to find the minimum count\n",
    "min_class_size = class_counts.agg(F.min('count')).collect()[0][0]\n",
    "\n",
    "undersampled_train_list = []\n",
    "\n",
    "for row in class_counts.collect():\n",
    "    class_label = row['SeverityIndex']\n",
    "    class_size = row['count']\n",
    "\n",
    "    if class_size > min_class_size:\n",
    "        # Sample the data for this class to the size of the minimum class\n",
    "        class_data = train.filter(F.col(\"SeverityIndex\") == class_label)\n",
    "        class_data_undersampled = class_data.sample(withReplacement=False, fraction=min_class_size / class_size)\n",
    "    else:\n",
    "        # For classes that are already at the minimum size, keep all samples\n",
    "        class_data_undersampled = train.filter(F.col(\"SeverityIndex\") == class_label)\n",
    "\n",
    "    undersampled_train_list.append(class_data_undersampled)\n",
    "\n",
    "# Combine all the undersampled DataFrames\n",
    "undersampled_train = undersampled_train_list[0]  # start with the first one\n",
    "for df in undersampled_train_list[1:]:\n",
    "    undersampled_train = undersampled_train.union(df)\n",
    "\n",
    "# Show the result\n",
    "undersampled_train.show()\n",
    "\n",
    "# Step 4: Group by 'Severity' and count the occurrences in the undersampled DataFrame\n",
    "undersampled_class_counts = undersampled_train.groupBy(\"SeverityIndex\").count()\n",
    "\n",
    "# Show the result\n",
    "undersampled_class_counts.show()"
   ]
  },
  {
   "cell_type": "code",
   "execution_count": 8,
   "id": "2d79048b-55fa-4cac-9ce6-00d115340220",
   "metadata": {},
   "outputs": [],
   "source": [
    "# Assemble data for logistic regression model\n",
    "assembler = VectorAssembler(inputCols=feature_list,\n",
    "                            outputCol=\"features\")\n",
    "\n",
    "undersampled_train = assembler.transform(undersampled_train)\n",
    "test = assembler.transform(test)"
   ]
  },
  {
   "cell_type": "code",
   "execution_count": 9,
   "id": "2b5e00b4-277f-4dff-b480-5bcb8acdc8bc",
   "metadata": {},
   "outputs": [
    {
     "name": "stderr",
     "output_type": "stream",
     "text": [
      "                                                                                \r"
     ]
    }
   ],
   "source": [
    "# Standardize the predictors\n",
    "from pyspark.ml.feature import StandardScaler\n",
    "scaler = StandardScaler(inputCol=\"features\", outputCol=\"scaledFeatures\")\n",
    "scalerModel = scaler.fit(undersampled_train)\n",
    "scaledTrainData = scalerModel.transform(undersampled_train)\n",
    "scaledTestData = scalerModel.transform(test)"
   ]
  },
  {
   "cell_type": "code",
   "execution_count": 10,
   "id": "54cb60dc-688a-45e9-b2fe-bf00d4ec87f0",
   "metadata": {},
   "outputs": [
    {
     "name": "stderr",
     "output_type": "stream",
     "text": [
      "                                                                                \r"
     ]
    },
    {
     "name": "stdout",
     "output_type": "stream",
     "text": [
      "Detected number of classes: 4\n",
      "Coefficients: DenseMatrix([[-0.00882838, -0.06431493,  0.01014083, -0.04302874, -0.01572743,\n",
      "              -0.00449518, -0.03880588, -0.04593437, -0.01632393,  0.02441107,\n",
      "               0.52928637,  0.33232215,  0.02275358, -0.00361506, -0.10016536,\n",
      "               0.00681993, -0.01233588,  0.00816329,  0.02536879,  0.0093203 ,\n",
      "               0.04095083, -0.03396142,  0.0611355 ],\n",
      "             [-0.17719627, -0.09234281,  0.04120436, -0.03954321,  0.11957259,\n",
      "               0.01278229, -0.07723321, -0.02675306,  0.03686952, -0.00949381,\n",
      "               0.1965872 ,  0.13099493, -0.14500578, -0.12696621,  0.45291333,\n",
      "               0.00653246, -0.08140201, -0.00150283, -0.16171172, -0.00118425,\n",
      "               0.2608522 , -0.27116869, -0.09645304],\n",
      "             [-0.25890291, -0.04357063,  0.07523631,  0.03311305,  0.08120119,\n",
      "              -0.00162636, -0.1382224 , -0.167665  ,  0.01420061,  0.02077155,\n",
      "               0.19826185,  0.14321321, -0.07472197,  0.16366335, -0.00676301,\n",
      "               0.01542068,  0.06148285, -0.02108924,  0.10418385, -0.02261093,\n",
      "              -0.42356745, -0.020742  , -0.00890999],\n",
      "             [ 0.44492756,  0.20022837, -0.12658151,  0.04945891, -0.18504635,\n",
      "              -0.00666075,  0.2542615 ,  0.24035243, -0.03474619, -0.03568881,\n",
      "              -0.92413542, -0.6065303 ,  0.19697416, -0.03308208, -0.34598495,\n",
      "              -0.02877307,  0.03225504,  0.01442878,  0.03215908,  0.01447488,\n",
      "               0.12176442,  0.32587211,  0.04422754]])\n",
      "Intercept: [-0.017861983917658395,-0.10345578632264095,0.04742634646088435,0.073891423779415]\n"
     ]
    }
   ],
   "source": [
    "# Fit logistic regression model with intercept\n",
    "from pyspark.ml.classification import LogisticRegression\n",
    "\n",
    "# instantiate the model\n",
    "lr = LogisticRegression(labelCol='SeverityIndex',\n",
    "                        featuresCol='scaledFeatures',\n",
    "                        #maxIter=10, \n",
    "                        #regParam=0.3, \n",
    "                        #elasticNetParam=0.8,\n",
    "                        family=\"multinomial\")\n",
    "\n",
    "# Fit the model\n",
    "lrModel = lr.fit(scaledTrainData)\n",
    "print(f\"Detected number of classes: {lrModel.numClasses}\")\n",
    "\n",
    "# Print the coefficients and intercept for logistic regression\n",
    "print(\"Coefficients: \" + str(lrModel.coefficientMatrix))\n",
    "print(\"Intercept: \" + str(lrModel.interceptVector))"
   ]
  },
  {
   "cell_type": "code",
   "execution_count": 11,
   "id": "c9646a1f-7a43-4a74-8e3d-e64dd3a11062",
   "metadata": {},
   "outputs": [
    {
     "name": "stderr",
     "output_type": "stream",
     "text": [
      "                                                                                \r"
     ]
    },
    {
     "name": "stdout",
     "output_type": "stream",
     "text": [
      "+----------+\n",
      "|prediction|\n",
      "+----------+\n",
      "|       0.0|\n",
      "|       1.0|\n",
      "|       3.0|\n",
      "|       2.0|\n",
      "+----------+\n",
      "\n"
     ]
    },
    {
     "name": "stderr",
     "output_type": "stream",
     "text": [
      "[Stage 251:=============================================>         (19 + 4) / 23]\r"
     ]
    },
    {
     "name": "stdout",
     "output_type": "stream",
     "text": [
      "Accuracy: 0.384386097705336\n"
     ]
    },
    {
     "name": "stderr",
     "output_type": "stream",
     "text": [
      "                                                                                \r"
     ]
    }
   ],
   "source": [
    "from pyspark.ml.evaluation import MulticlassClassificationEvaluator\n",
    "\n",
    "# compute predictions. this will append column \"prediction\" to dataframe\n",
    "lrPred = lrModel.transform(scaledTestData)\n",
    "lrPred.select(\"prediction\").distinct().show()\n",
    "\n",
    "evaluator = MulticlassClassificationEvaluator(labelCol='SeverityIndex', predictionCol='prediction', metricName='accuracy')\n",
    "accuracy = evaluator.evaluate(lrPred, {evaluator.metricName: \"accuracy\"})\n",
    "print(f'Accuracy: {accuracy}')"
   ]
  },
  {
   "cell_type": "code",
   "execution_count": 12,
   "id": "e3e81050-0bf6-4e42-b0c8-f7ebe09b0971",
   "metadata": {},
   "outputs": [
    {
     "name": "stderr",
     "output_type": "stream",
     "text": [
      "[Stage 257:=====================>                                 (9 + 14) / 23]\r"
     ]
    },
    {
     "name": "stdout",
     "output_type": "stream",
     "text": [
      "Precision: 0.7680917893539155\n",
      "Recall: 0.38438609770533605\n",
      "F1 Score: 0.4750534369148092\n"
     ]
    },
    {
     "name": "stderr",
     "output_type": "stream",
     "text": [
      "                                                                                \r"
     ]
    }
   ],
   "source": [
    "precision = evaluator.evaluate(lrPred, {evaluator.metricName: 'weightedPrecision'})\n",
    "recall = evaluator.evaluate(lrPred, {evaluator.metricName: 'weightedRecall'})\n",
    "f1_score = evaluator.evaluate(lrPred, {evaluator.metricName: 'f1'})\n",
    "\n",
    "print(f'Precision: {precision}')\n",
    "print(f'Recall: {recall}')\n",
    "print(f'F1 Score: {f1_score}')"
   ]
  },
  {
   "cell_type": "code",
   "execution_count": 13,
   "id": "05e473cd-b658-4a72-ba3a-f5d2752719eb",
   "metadata": {},
   "outputs": [
    {
     "name": "stderr",
     "output_type": "stream",
     "text": [
      "[Stage 259:===============================================>       (20 + 3) / 23]\r"
     ]
    },
    {
     "name": "stdout",
     "output_type": "stream",
     "text": [
      "+-------------+-------------------+\n",
      "|SeverityIndex|           accuracy|\n",
      "+-------------+-------------------+\n",
      "|          0.0|0.35640024957270394|\n",
      "|          1.0|  0.494914367079343|\n",
      "|          3.0| 0.7773335383669076|\n",
      "|          2.0|0.43027129938124703|\n",
      "+-------------+-------------------+\n",
      "\n"
     ]
    },
    {
     "name": "stderr",
     "output_type": "stream",
     "text": [
      "                                                                                \r"
     ]
    }
   ],
   "source": [
    "# Add a column to indicate correct or incorrect predictions\n",
    "predictions = lrPred.withColumn(\n",
    "    'is_correct', F.expr(\"CASE WHEN SeverityIndex = prediction THEN 1 ELSE 0 END\")\n",
    ")\n",
    "\n",
    "# Calculate accuracy by class\n",
    "accuracy_by_class = predictions.groupBy('SeverityIndex').agg(\n",
    "    (F.sum('is_correct') / F.count('SeverityIndex')).alias('accuracy')\n",
    ")\n",
    "\n",
    "# Show per-class accuracy\n",
    "accuracy_by_class.show()"
   ]
  },
  {
   "cell_type": "code",
   "execution_count": null,
   "id": "3fce0c2c-f792-47cd-9e69-bdbbe886c5a5",
   "metadata": {},
   "outputs": [],
   "source": []
  }
 ],
 "metadata": {
  "kernelspec": {
   "display_name": "Python 3 (ipykernel)",
   "language": "python",
   "name": "python3"
  },
  "language_info": {
   "codemirror_mode": {
    "name": "ipython",
    "version": 3
   },
   "file_extension": ".py",
   "mimetype": "text/x-python",
   "name": "python",
   "nbconvert_exporter": "python",
   "pygments_lexer": "ipython3",
   "version": "3.11.5"
  }
 },
 "nbformat": 4,
 "nbformat_minor": 5
}
