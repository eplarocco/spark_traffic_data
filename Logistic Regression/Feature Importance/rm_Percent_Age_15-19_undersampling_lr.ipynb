{
 "cells": [
  {
   "cell_type": "code",
   "execution_count": 1,
   "id": "1bf6ccc1-6317-482a-ac30-72c6eab49a0b",
   "metadata": {},
   "outputs": [],
   "source": [
    "# Import Libraries\n",
    "import pandas as pd\n",
    "import numpy as np\n",
    "import os\n",
    "import pyspark\n",
    "from pyspark.sql import SparkSession\n",
    "from pyspark.sql.types import *\n",
    "from pyspark.sql.functions import *\n",
    "from pyspark.ml.feature import StringIndexer, OneHotEncoder, VectorAssembler\n",
    "from pyspark.ml.stat import Correlation\n",
    "import seaborn as sns\n",
    "import matplotlib.pyplot as plt\n",
    "import pyspark.sql.functions as F\n",
    "import holidays\n",
    "from datetime import datetime, timezone\n",
    "from pyspark.ml.classification import RandomForestClassifier, BinaryLogisticRegressionSummary\n",
    "from pyspark.ml import Pipeline\n",
    "from pyspark.mllib.evaluation import MulticlassMetrics, BinaryClassificationMetrics\n",
    "from pyspark.ml.pipeline import PipelineModel"
   ]
  },
  {
   "cell_type": "code",
   "execution_count": 2,
   "id": "d0709727-12cd-4322-b2e8-5ceca8b3b502",
   "metadata": {},
   "outputs": [
    {
     "name": "stderr",
     "output_type": "stream",
     "text": [
      "24/11/14 19:05:54 WARN NativeCodeLoader: Unable to load native-hadoop library for your platform... using builtin-java classes where applicable\n",
      "Using Spark's default log4j profile: org/apache/spark/log4j-defaults.properties\n",
      "Setting default log level to \"WARN\".\n",
      "To adjust logging level use sc.setLogLevel(newLevel). For SparkR, use setLogLevel(newLevel).\n",
      "24/11/14 19:05:55 WARN Utils: Service 'SparkUI' could not bind on port 4040. Attempting port 4041.\n",
      "24/11/14 19:05:55 WARN Utils: Service 'SparkUI' could not bind on port 4041. Attempting port 4042.\n"
     ]
    }
   ],
   "source": [
    "# Instantiate Spark Session\n",
    "spark = (SparkSession\n",
    "  .builder\n",
    "  .appName(\"US_Accidents\")\n",
    "  .getOrCreate())\n",
    "spark.sparkContext.setLogLevel(\"ERROR\") #supress warnings"
   ]
  },
  {
   "cell_type": "code",
   "execution_count": 3,
   "id": "c5a537b4-0516-49a4-a9d3-9957ecf6972b",
   "metadata": {},
   "outputs": [],
   "source": [
    "# Read in Data\n",
    "df = spark.read.parquet(\"final_dataset_revised.parquet\")"
   ]
  },
  {
   "cell_type": "code",
   "execution_count": 4,
   "id": "c6be913b-8a20-494f-af35-4cc44879acb7",
   "metadata": {},
   "outputs": [
    {
     "name": "stderr",
     "output_type": "stream",
     "text": [
      "                                                                                \r"
     ]
    }
   ],
   "source": [
    "# Use StringIndexer for encoding the 'Severity' column\n",
    "indexer = StringIndexer(inputCol=\"Severity\", outputCol=\"SeverityIndex\")\n",
    "df = indexer.fit(df).transform(df)"
   ]
  },
  {
   "cell_type": "code",
   "execution_count": 5,
   "id": "bb96fd0f-7581-467f-a0c3-948425bd9ed5",
   "metadata": {},
   "outputs": [],
   "source": [
    "# Create list of features\n",
    "feature_list = []\n",
    "for col in df.columns:\n",
    "    if col == 'Severity':\n",
    "        continue\n",
    "    elif col == 'SeverityIndex':\n",
    "        continue\n",
    "    elif col == 'Percent_Age_15-19':\n",
    "        continue\n",
    "    else:\n",
    "        feature_list.append(col)"
   ]
  },
  {
   "cell_type": "code",
   "execution_count": 6,
   "id": "8117f0e8-de44-4430-aa72-8899adcaeae8",
   "metadata": {},
   "outputs": [],
   "source": [
    "# Split the data into train and test\n",
    "splits = df.randomSplit([0.8, 0.2], 314)\n",
    "train = splits[0]\n",
    "test = splits[1]"
   ]
  },
  {
   "cell_type": "code",
   "execution_count": 7,
   "id": "827fa4c6-689b-4ea8-9b72-5fdbf8d7ecb4",
   "metadata": {},
   "outputs": [
    {
     "name": "stderr",
     "output_type": "stream",
     "text": [
      "                                                                                \r"
     ]
    },
    {
     "name": "stdout",
     "output_type": "stream",
     "text": [
      "+--------+-----------+--------+--------+----------+----------+-------------+-------+---------+----+----+-------------+--------------------------+--------------------+---------+-----------------+-----------------+-------------------+------------+-----------+--------------------+--------------------+-----------+-------------+\n",
      "|Severity|Temperature|Humidity|Pressure|Visibility|Wind_Speed|Precipitation|Weekday|Rush_Hour|Rain|Snow|    SeasonVec|Astronomical_TwilightIndex|Interstate_Indicator|Sex_ratio|Percent_Age_15-19|Percent_Age_20-24|Percent_Age_65_over|MedianIncome|Urban_Ratio|Traffic_Interference|Traffic_Intersection|Destination|SeverityIndex|\n",
      "+--------+-----------+--------+--------+----------+----------+-------------+-------+---------+----+----+-------------+--------------------------+--------------------+---------+-----------------+-----------------+-------------------+------------+-----------+--------------------+--------------------+-----------+-------------+\n",
      "|       2|          1|      60|      30|        10|         7|            0|      1|        0|   0|   0|(3,[0],[1.0])|                         0|                   0|     96.9|              5.3|              4.4|               25.7|     85360.0|        1.0|                   0|                   1|          0|          0.0|\n",
      "|       2|          1|      66|      29|        10|        13|            0|      1|        1|   0|   0|(3,[0],[1.0])|                         0|                   0|     96.4|              5.7|              5.1|               20.1|     52621.0|      0.625|                   0|                   0|          0|          0.0|\n",
      "|       2|          2|      76|      24|        10|         0|            0|      1|        1|   0|   0|(3,[0],[1.0])|                         0|                   0|     98.5|              3.5|              6.0|               21.6|     55813.0|        0.0|                   0|                   0|          0|          0.0|\n",
      "|       2|          3|      85|      29|        10|         0|            0|      1|        1|   0|   0|(3,[0],[1.0])|                         0|                   0|    103.6|              7.5|              6.1|               15.9|     68448.0|        0.0|                   0|                   0|          0|          0.0|\n",
      "|       2|          4|      80|      30|        10|         3|            0|      1|        1|   0|   0|(3,[0],[1.0])|                         0|                   0|     98.5|              7.6|              7.3|               10.3|     61470.0|     0.9986|                   0|                   1|          0|          0.0|\n",
      "|       2|          5|      63|      30|        10|        12|            0|      1|        1|   0|   0|(3,[0],[1.0])|                         0|                   0|     93.7|              7.4|              8.1|               10.2|     76794.0|        1.0|                   0|                   0|          0|          0.0|\n",
      "|       2|          5|      84|      29|        10|         3|            0|      1|        1|   0|   0|(3,[0],[1.0])|                         0|                   1|    112.6|              2.5|              6.7|               10.2|     58939.0|        1.0|                   0|                   0|          0|          0.0|\n",
      "|       2|         10|      67|      29|         3|        14|            0|      1|        0|   0|   0|(3,[0],[1.0])|                         0|                   0|     91.8|              7.8|              3.7|               21.0|     64421.0|        0.0|                   0|                   0|          0|          0.0|\n",
      "|       2|         12|      85|      29|         5|         3|            0|      1|        1|   0|   0|(3,[0],[1.0])|                         0|                   0|     91.7|              5.2|              5.7|               20.0|     78641.0|     0.5748|                   0|                   1|          0|          0.0|\n",
      "|       2|         12|      92|      28|         5|        16|            0|      1|        1|   0|   1|(3,[0],[1.0])|                         0|                   1|    102.5|              7.7|              4.4|               10.4|     73056.0|        0.0|                   0|                   0|          0|          0.0|\n",
      "|       2|         14|      64|      30|        10|         7|            0|      1|        1|   0|   0|(3,[0],[1.0])|                         0|                   0|     97.2|              5.1|              7.3|               15.6|     44303.0|        1.0|                   0|                   1|          0|          0.0|\n",
      "|       2|         15|      70|      29|        10|         7|            0|      1|        1|   0|   0|(3,[0],[1.0])|                         0|                   0|     78.4|              7.3|              6.3|               18.4|     27374.0|     0.9091|                   0|                   1|          0|          0.0|\n",
      "|       2|         15|      80|      30|         5|         3|            0|      1|        1|   0|   0|(3,[0],[1.0])|                         0|                   0|     84.2|              7.7|              6.8|               14.9|     27470.0|        1.0|                   0|                   0|          0|          0.0|\n",
      "|       2|         16|      65|      30|        10|        13|            0|      1|        1|   0|   0|(3,[0],[1.0])|                         0|                   0|     94.8|              4.2|              8.6|               12.1|    103738.0|        1.0|                   0|                   1|          0|          0.0|\n",
      "|       2|         18|      54|      28|        10|         5|            0|      0|        0|   0|   0|(3,[0],[1.0])|                         1|                   0|     92.7|              6.2|              6.5|               21.0|     31642.0|     0.9124|                   0|                   1|          0|          0.0|\n",
      "|       2|         19|      85|      29|         1|         6|            0|      1|        1|   0|   1|(3,[0],[1.0])|                         0|                   0|     95.4|              6.0|              6.7|               12.8|     85686.0|        1.0|                   0|                   1|          0|          0.0|\n",
      "|       2|         19|      88|      29|        10|         0|            0|      1|        1|   0|   0|(3,[1],[1.0])|                         0|                   0|     92.2|              7.6|              5.5|               15.6|     70666.0|     0.9847|                   0|                   0|          0|          0.0|\n",
      "|       2|         19|      88|      29|        10|         0|            0|      1|        1|   0|   0|(3,[1],[1.0])|                         0|                   0|     93.4|              6.3|              5.8|                9.7|     50787.0|        1.0|                   0|                   1|          0|          0.0|\n",
      "|       2|         20|      71|      29|         4|         0|            0|      1|        1|   0|   0|(3,[0],[1.0])|                         0|                   0|     89.9|              6.1|              7.4|               13.7|     30675.0|        1.0|                   0|                   0|          0|          0.0|\n",
      "|       2|         21|      44|      28|        10|        12|            0|      1|        0|   0|   0|(3,[0],[1.0])|                         0|                   0|     84.4|              4.8|              4.7|               24.5|     48491.0|        0.0|                   0|                   0|          0|          0.0|\n",
      "+--------+-----------+--------+--------+----------+----------+-------------+-------+---------+----+----+-------------+--------------------------+--------------------+---------+-----------------+-----------------+-------------------+------------+-----------+--------------------+--------------------+-----------+-------------+\n",
      "only showing top 20 rows\n",
      "\n"
     ]
    },
    {
     "name": "stderr",
     "output_type": "stream",
     "text": [
      "[Stage 9:========================================================>(91 + 1) / 92]\r"
     ]
    },
    {
     "name": "stdout",
     "output_type": "stream",
     "text": [
      "+-------------+-----+\n",
      "|SeverityIndex|count|\n",
      "+-------------+-----+\n",
      "|          0.0|51821|\n",
      "|          1.0|51806|\n",
      "|          3.0|52136|\n",
      "|          2.0|51795|\n",
      "+-------------+-----+\n",
      "\n"
     ]
    },
    {
     "name": "stderr",
     "output_type": "stream",
     "text": [
      "                                                                                \r"
     ]
    }
   ],
   "source": [
    "# Undersampling\n",
    "from pyspark.sql import functions as F\n",
    "\n",
    "# Step 1: Group by 'Severity' and count occurrences\n",
    "class_counts = train.groupBy(\"SeverityIndex\").count()\n",
    "\n",
    "# Step 2: Use PySpark's min() function to find the minimum count\n",
    "min_class_size = class_counts.agg(F.min('count')).collect()[0][0]\n",
    "\n",
    "undersampled_train_list = []\n",
    "\n",
    "for row in class_counts.collect():\n",
    "    class_label = row['SeverityIndex']\n",
    "    class_size = row['count']\n",
    "\n",
    "    if class_size > min_class_size:\n",
    "        # Sample the data for this class to the size of the minimum class\n",
    "        class_data = train.filter(F.col(\"SeverityIndex\") == class_label)\n",
    "        class_data_undersampled = class_data.sample(withReplacement=False, fraction=min_class_size / class_size)\n",
    "    else:\n",
    "        # For classes that are already at the minimum size, keep all samples\n",
    "        class_data_undersampled = train.filter(F.col(\"SeverityIndex\") == class_label)\n",
    "\n",
    "    undersampled_train_list.append(class_data_undersampled)\n",
    "\n",
    "# Combine all the undersampled DataFrames\n",
    "undersampled_train = undersampled_train_list[0]  # start with the first one\n",
    "for df in undersampled_train_list[1:]:\n",
    "    undersampled_train = undersampled_train.union(df)\n",
    "\n",
    "# Show the result\n",
    "undersampled_train.show()\n",
    "\n",
    "# Step 4: Group by 'Severity' and count the occurrences in the undersampled DataFrame\n",
    "undersampled_class_counts = undersampled_train.groupBy(\"SeverityIndex\").count()\n",
    "\n",
    "# Show the result\n",
    "undersampled_class_counts.show()"
   ]
  },
  {
   "cell_type": "code",
   "execution_count": 8,
   "id": "2d79048b-55fa-4cac-9ce6-00d115340220",
   "metadata": {},
   "outputs": [],
   "source": [
    "# Assemble data for logistic regression model\n",
    "assembler = VectorAssembler(inputCols=feature_list,\n",
    "                            outputCol=\"features\")\n",
    "\n",
    "undersampled_train = assembler.transform(undersampled_train)\n",
    "test = assembler.transform(test)"
   ]
  },
  {
   "cell_type": "code",
   "execution_count": 9,
   "id": "2b5e00b4-277f-4dff-b480-5bcb8acdc8bc",
   "metadata": {},
   "outputs": [
    {
     "name": "stderr",
     "output_type": "stream",
     "text": [
      "                                                                                \r"
     ]
    }
   ],
   "source": [
    "# Standardize the predictors\n",
    "from pyspark.ml.feature import StandardScaler\n",
    "scaler = StandardScaler(inputCol=\"features\", outputCol=\"scaledFeatures\")\n",
    "scalerModel = scaler.fit(undersampled_train)\n",
    "scaledTrainData = scalerModel.transform(undersampled_train)\n",
    "scaledTestData = scalerModel.transform(test)"
   ]
  },
  {
   "cell_type": "code",
   "execution_count": 10,
   "id": "54cb60dc-688a-45e9-b2fe-bf00d4ec87f0",
   "metadata": {},
   "outputs": [
    {
     "name": "stderr",
     "output_type": "stream",
     "text": [
      "                                                                                \r"
     ]
    },
    {
     "name": "stdout",
     "output_type": "stream",
     "text": [
      "Detected number of classes: 4\n",
      "Coefficients: DenseMatrix([[-2.51127627e-02, -6.00374150e-02,  1.17406921e-02,\n",
      "              -4.44194084e-02, -1.18030703e-02, -2.28091451e-03,\n",
      "              -3.35697888e-02, -4.47796736e-02, -1.09007093e-02,\n",
      "               1.99238163e-02,  5.16124396e-01,  3.18941040e-01,\n",
      "               1.64800919e-02, -3.32685807e-03, -1.08702318e-01,\n",
      "               1.30959595e-02, -5.66268698e-04,  1.72881143e-02,\n",
      "               9.66530494e-03,  4.02506845e-02, -9.96365846e-03,\n",
      "              -3.62133643e-02,  5.80618081e-02],\n",
      "             [-1.89165027e-01, -9.23504976e-02,  3.21587575e-02,\n",
      "              -3.74779277e-02,  1.22305428e-01,  5.97345211e-03,\n",
      "              -7.76075447e-02, -2.66794380e-02,  3.36079574e-02,\n",
      "              -1.10403070e-02,  1.72009605e-01,  1.35055809e-01,\n",
      "              -1.48837623e-01, -1.35867042e-01,  4.57997018e-01,\n",
      "               1.75536205e-02, -2.25299104e-02, -1.40241590e-01,\n",
      "              -4.31694186e-03,  2.69602760e-01,  7.54945142e-03,\n",
      "              -2.66851329e-01, -9.18994428e-02],\n",
      "             [-2.41968243e-01, -4.23442528e-02,  7.89994822e-02,\n",
      "               4.27210726e-02,  7.23288582e-02, -9.54027848e-04,\n",
      "              -1.40713565e-01, -1.64015219e-01,  1.25661288e-02,\n",
      "               3.16497646e-02,  2.03356526e-01,  1.47255599e-01,\n",
      "              -7.03216351e-02,  1.66923584e-01,  1.76586084e-03,\n",
      "               9.13602524e-03, -1.28531030e-02,  9.74345141e-02,\n",
      "              -2.18074926e-02, -4.35641916e-01, -4.51401193e-03,\n",
      "              -1.13721679e-02, -1.21055121e-02],\n",
      "             [ 4.56246033e-01,  1.94732165e-01, -1.22898932e-01,\n",
      "               3.91762635e-02, -1.82831216e-01, -2.73850976e-03,\n",
      "               2.51890899e-01,  2.35474331e-01, -3.52733769e-02,\n",
      "              -4.05332739e-02, -8.91490527e-01, -6.01252448e-01,\n",
      "               2.02679166e-01, -2.77296838e-02, -3.51060561e-01,\n",
      "              -3.97856052e-02,  3.59492822e-02,  2.55189616e-02,\n",
      "               1.64591296e-02,  1.25788471e-01,  6.92821898e-03,\n",
      "               3.14436861e-01,  4.59431468e-02]])\n",
      "Intercept: [-0.01537287793354102,-0.10420771998917645,0.04480852856824866,0.07477206935446881]\n"
     ]
    }
   ],
   "source": [
    "# Fit logistic regression model with intercept\n",
    "from pyspark.ml.classification import LogisticRegression\n",
    "\n",
    "# instantiate the model\n",
    "lr = LogisticRegression(labelCol='SeverityIndex',\n",
    "                        featuresCol='scaledFeatures',\n",
    "                        #maxIter=10, \n",
    "                        #regParam=0.3, \n",
    "                        #elasticNetParam=0.8,\n",
    "                        family=\"multinomial\")\n",
    "\n",
    "# Fit the model\n",
    "lrModel = lr.fit(scaledTrainData)\n",
    "print(f\"Detected number of classes: {lrModel.numClasses}\")\n",
    "\n",
    "# Print the coefficients and intercept for logistic regression\n",
    "print(\"Coefficients: \" + str(lrModel.coefficientMatrix))\n",
    "print(\"Intercept: \" + str(lrModel.interceptVector))"
   ]
  },
  {
   "cell_type": "code",
   "execution_count": 11,
   "id": "c9646a1f-7a43-4a74-8e3d-e64dd3a11062",
   "metadata": {},
   "outputs": [
    {
     "name": "stderr",
     "output_type": "stream",
     "text": [
      "                                                                                \r"
     ]
    },
    {
     "name": "stdout",
     "output_type": "stream",
     "text": [
      "+----------+\n",
      "|prediction|\n",
      "+----------+\n",
      "|       0.0|\n",
      "|       1.0|\n",
      "|       3.0|\n",
      "|       2.0|\n",
      "+----------+\n",
      "\n"
     ]
    },
    {
     "name": "stderr",
     "output_type": "stream",
     "text": [
      "[Stage 249:========================================>              (17 + 6) / 23]\r"
     ]
    },
    {
     "name": "stdout",
     "output_type": "stream",
     "text": [
      "Accuracy: 0.3886942838280823\n"
     ]
    },
    {
     "name": "stderr",
     "output_type": "stream",
     "text": [
      "                                                                                \r"
     ]
    }
   ],
   "source": [
    "from pyspark.ml.evaluation import MulticlassClassificationEvaluator\n",
    "\n",
    "# compute predictions. this will append column \"prediction\" to dataframe\n",
    "lrPred = lrModel.transform(scaledTestData)\n",
    "lrPred.select(\"prediction\").distinct().show()\n",
    "\n",
    "evaluator = MulticlassClassificationEvaluator(labelCol='SeverityIndex', predictionCol='prediction', metricName='accuracy')\n",
    "accuracy = evaluator.evaluate(lrPred, {evaluator.metricName: \"accuracy\"})\n",
    "print(f'Accuracy: {accuracy}')"
   ]
  },
  {
   "cell_type": "code",
   "execution_count": 12,
   "id": "e3e81050-0bf6-4e42-b0c8-f7ebe09b0971",
   "metadata": {},
   "outputs": [
    {
     "name": "stderr",
     "output_type": "stream",
     "text": [
      "[Stage 255:===========================================>           (18 + 5) / 23]\r"
     ]
    },
    {
     "name": "stdout",
     "output_type": "stream",
     "text": [
      "Precision: 0.7671199833409839\n",
      "Recall: 0.3886942838280823\n",
      "F1 Score: 0.4798379285682915\n"
     ]
    },
    {
     "name": "stderr",
     "output_type": "stream",
     "text": [
      "                                                                                \r"
     ]
    }
   ],
   "source": [
    "precision = evaluator.evaluate(lrPred, {evaluator.metricName: 'weightedPrecision'})\n",
    "recall = evaluator.evaluate(lrPred, {evaluator.metricName: 'weightedRecall'})\n",
    "f1_score = evaluator.evaluate(lrPred, {evaluator.metricName: 'f1'})\n",
    "\n",
    "print(f'Precision: {precision}')\n",
    "print(f'Recall: {recall}')\n",
    "print(f'F1 Score: {f1_score}')"
   ]
  },
  {
   "cell_type": "code",
   "execution_count": 13,
   "id": "05e473cd-b658-4a72-ba3a-f5d2752719eb",
   "metadata": {},
   "outputs": [
    {
     "name": "stderr",
     "output_type": "stream",
     "text": [
      "[Stage 257:=============================================>         (19 + 4) / 23]\r"
     ]
    },
    {
     "name": "stdout",
     "output_type": "stream",
     "text": [
      "+-------------+-------------------+\n",
      "|SeverityIndex|           accuracy|\n",
      "+-------------+-------------------+\n",
      "|          0.0| 0.3625158413269067|\n",
      "|          1.0|0.49212425534179977|\n",
      "|          3.0| 0.7794863908965093|\n",
      "|          2.0|0.42290785900271577|\n",
      "+-------------+-------------------+\n",
      "\n"
     ]
    },
    {
     "name": "stderr",
     "output_type": "stream",
     "text": [
      "                                                                                \r"
     ]
    }
   ],
   "source": [
    "# Add a column to indicate correct or incorrect predictions\n",
    "predictions = lrPred.withColumn(\n",
    "    'is_correct', F.expr(\"CASE WHEN SeverityIndex = prediction THEN 1 ELSE 0 END\")\n",
    ")\n",
    "\n",
    "# Calculate accuracy by class\n",
    "accuracy_by_class = predictions.groupBy('SeverityIndex').agg(\n",
    "    (F.sum('is_correct') / F.count('SeverityIndex')).alias('accuracy')\n",
    ")\n",
    "\n",
    "# Show per-class accuracy\n",
    "accuracy_by_class.show()"
   ]
  },
  {
   "cell_type": "code",
   "execution_count": null,
   "id": "3fce0c2c-f792-47cd-9e69-bdbbe886c5a5",
   "metadata": {},
   "outputs": [],
   "source": []
  }
 ],
 "metadata": {
  "kernelspec": {
   "display_name": "Python 3 (ipykernel)",
   "language": "python",
   "name": "python3"
  },
  "language_info": {
   "codemirror_mode": {
    "name": "ipython",
    "version": 3
   },
   "file_extension": ".py",
   "mimetype": "text/x-python",
   "name": "python",
   "nbconvert_exporter": "python",
   "pygments_lexer": "ipython3",
   "version": "3.11.5"
  }
 },
 "nbformat": 4,
 "nbformat_minor": 5
}
