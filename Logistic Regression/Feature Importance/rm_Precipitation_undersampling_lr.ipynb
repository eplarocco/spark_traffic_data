{
 "cells": [
  {
   "cell_type": "code",
   "execution_count": 1,
   "id": "1bf6ccc1-6317-482a-ac30-72c6eab49a0b",
   "metadata": {},
   "outputs": [],
   "source": [
    "# Import Libraries\n",
    "import pandas as pd\n",
    "import numpy as np\n",
    "import os\n",
    "import pyspark\n",
    "from pyspark.sql import SparkSession\n",
    "from pyspark.sql.types import *\n",
    "from pyspark.sql.functions import *\n",
    "from pyspark.ml.feature import StringIndexer, OneHotEncoder, VectorAssembler\n",
    "from pyspark.ml.stat import Correlation\n",
    "import seaborn as sns\n",
    "import matplotlib.pyplot as plt\n",
    "import pyspark.sql.functions as F\n",
    "import holidays\n",
    "from datetime import datetime, timezone\n",
    "from pyspark.ml.classification import RandomForestClassifier, BinaryLogisticRegressionSummary\n",
    "from pyspark.ml import Pipeline\n",
    "from pyspark.mllib.evaluation import MulticlassMetrics, BinaryClassificationMetrics\n",
    "from pyspark.ml.pipeline import PipelineModel"
   ]
  },
  {
   "cell_type": "code",
   "execution_count": 2,
   "id": "d0709727-12cd-4322-b2e8-5ceca8b3b502",
   "metadata": {},
   "outputs": [
    {
     "name": "stderr",
     "output_type": "stream",
     "text": [
      "24/11/14 19:21:07 WARN NativeCodeLoader: Unable to load native-hadoop library for your platform... using builtin-java classes where applicable\n",
      "Using Spark's default log4j profile: org/apache/spark/log4j-defaults.properties\n",
      "Setting default log level to \"WARN\".\n",
      "To adjust logging level use sc.setLogLevel(newLevel). For SparkR, use setLogLevel(newLevel).\n",
      "24/11/14 19:21:07 WARN Utils: Service 'SparkUI' could not bind on port 4040. Attempting port 4041.\n",
      "24/11/14 19:21:07 WARN Utils: Service 'SparkUI' could not bind on port 4041. Attempting port 4042.\n",
      "24/11/14 19:21:07 WARN Utils: Service 'SparkUI' could not bind on port 4042. Attempting port 4043.\n",
      "24/11/14 19:21:07 WARN Utils: Service 'SparkUI' could not bind on port 4043. Attempting port 4044.\n"
     ]
    }
   ],
   "source": [
    "# Instantiate Spark Session\n",
    "spark = (SparkSession\n",
    "  .builder\n",
    "  .appName(\"US_Accidents\")\n",
    "  .getOrCreate())\n",
    "spark.sparkContext.setLogLevel(\"ERROR\") #supress warnings"
   ]
  },
  {
   "cell_type": "code",
   "execution_count": 3,
   "id": "c5a537b4-0516-49a4-a9d3-9957ecf6972b",
   "metadata": {},
   "outputs": [],
   "source": [
    "# Read in Data\n",
    "df = spark.read.parquet(\"final_dataset_revised.parquet\")"
   ]
  },
  {
   "cell_type": "code",
   "execution_count": 4,
   "id": "c6be913b-8a20-494f-af35-4cc44879acb7",
   "metadata": {},
   "outputs": [
    {
     "name": "stderr",
     "output_type": "stream",
     "text": [
      "                                                                                \r"
     ]
    }
   ],
   "source": [
    "# Use StringIndexer for encoding the 'Severity' column\n",
    "indexer = StringIndexer(inputCol=\"Severity\", outputCol=\"SeverityIndex\")\n",
    "df = indexer.fit(df).transform(df)"
   ]
  },
  {
   "cell_type": "code",
   "execution_count": 5,
   "id": "bb96fd0f-7581-467f-a0c3-948425bd9ed5",
   "metadata": {},
   "outputs": [],
   "source": [
    "# Create list of features\n",
    "feature_list = []\n",
    "for col in df.columns:\n",
    "    if col == 'Severity':\n",
    "        continue\n",
    "    elif col == 'SeverityIndex':\n",
    "        continue\n",
    "    elif col == 'Precipitation':\n",
    "        continue\n",
    "    else:\n",
    "        feature_list.append(col)"
   ]
  },
  {
   "cell_type": "code",
   "execution_count": 6,
   "id": "8117f0e8-de44-4430-aa72-8899adcaeae8",
   "metadata": {},
   "outputs": [],
   "source": [
    "# Split the data into train and test\n",
    "splits = df.randomSplit([0.8, 0.2], 314)\n",
    "train = splits[0]\n",
    "test = splits[1]"
   ]
  },
  {
   "cell_type": "code",
   "execution_count": 7,
   "id": "827fa4c6-689b-4ea8-9b72-5fdbf8d7ecb4",
   "metadata": {},
   "outputs": [
    {
     "name": "stderr",
     "output_type": "stream",
     "text": [
      "                                                                                \r"
     ]
    },
    {
     "name": "stdout",
     "output_type": "stream",
     "text": [
      "+--------+-----------+--------+--------+----------+----------+-------------+-------+---------+----+----+-------------+--------------------------+--------------------+---------+-----------------+-----------------+-------------------+------------+-----------+--------------------+--------------------+-----------+-------------+\n",
      "|Severity|Temperature|Humidity|Pressure|Visibility|Wind_Speed|Precipitation|Weekday|Rush_Hour|Rain|Snow|    SeasonVec|Astronomical_TwilightIndex|Interstate_Indicator|Sex_ratio|Percent_Age_15-19|Percent_Age_20-24|Percent_Age_65_over|MedianIncome|Urban_Ratio|Traffic_Interference|Traffic_Intersection|Destination|SeverityIndex|\n",
      "+--------+-----------+--------+--------+----------+----------+-------------+-------+---------+----+----+-------------+--------------------------+--------------------+---------+-----------------+-----------------+-------------------+------------+-----------+--------------------+--------------------+-----------+-------------+\n",
      "|       2|         -5|      72|      29|        10|        10|            0|      1|        1|   0|   0|(3,[0],[1.0])|                         0|                   0|     92.0|             11.3|              9.8|               13.0|     92932.0|        1.0|                   0|                   0|          0|          0.0|\n",
      "|       2|          1|      72|      29|        10|         7|            0|      1|        1|   0|   0|(3,[0],[1.0])|                         0|                   0|    101.3|              7.9|              9.1|                8.4|     45114.0|        1.0|                   0|                   0|          0|          0.0|\n",
      "|       2|          1|      85|      29|         1|         0|            0|      1|        1|   0|   0|(3,[0],[1.0])|                         0|                   1|     99.4|              6.3|              5.9|               17.2|     64267.0|      0.885|                   0|                   0|          0|          0.0|\n",
      "|       2|          3|      73|      30|         7|         8|            0|      1|        1|   0|   1|(3,[0],[1.0])|                         0|                   0|    100.3|              4.3|              6.8|               18.0|     68354.0|     0.9576|                   0|                   1|          0|          0.0|\n",
      "|       2|          7|      72|      30|        10|        10|            0|      1|        0|   0|   0|(3,[0],[1.0])|                         1|                   0|    102.3|              5.3|              7.3|               12.2|     85574.0|     0.9991|                   0|                   1|          0|          0.0|\n",
      "|       2|          8|      76|      30|        10|         7|            0|      1|        1|   0|   0|(3,[0],[1.0])|                         0|                   0|     84.7|              6.2|              7.1|               14.3|     27675.0|        1.0|                   0|                   0|          0|          0.0|\n",
      "|       2|         10|      79|      30|        10|         9|            0|      1|        1|   0|   1|(3,[0],[1.0])|                         0|                   0|     94.0|              8.8|              3.2|               12.8|    132261.0|     0.5033|                   0|                   1|          0|          0.0|\n",
      "|       2|         11|      54|      28|        10|         9|            0|      1|        1|   0|   0|(3,[0],[1.0])|                         0|                   1|     89.5|             11.5|             20.8|               10.3|     50945.0|      0.827|                   0|                   0|          0|          0.0|\n",
      "|       2|         14|      47|      30|        10|         3|            0|      1|        1|   0|   0|(3,[0],[1.0])|                         1|                   0|     94.2|              6.9|              4.3|               17.9|    208212.0|        1.0|                   0|                   0|          0|          0.0|\n",
      "|       2|         14|      59|      30|        10|        14|            0|      1|        1|   0|   0|(3,[0],[1.0])|                         0|                   0|     95.5|              5.5|              7.1|               13.1|     75730.0|        1.0|                   0|                   0|          0|          0.0|\n",
      "|       2|         14|      95|      30|        10|         7|            0|      1|        1|   0|   0|(3,[0],[1.0])|                         0|                   0|    101.3|              6.8|              7.4|               12.1|     85808.0|     0.9654|                   0|                   0|          0|          0.0|\n",
      "|       2|         16|      73|      30|        10|         0|            0|      1|        1|   0|   0|(3,[0],[1.0])|                         0|                   0|     94.7|              5.1|              5.8|               15.8|     75143.0|     0.8048|                   0|                   1|          0|          0.0|\n",
      "|       2|         16|      74|      30|        10|         5|            0|      1|        0|   0|   0|(3,[0],[1.0])|                         0|                   0|     88.8|              4.7|              6.0|               17.7|     51378.0|        1.0|                   0|                   0|          0|          0.0|\n",
      "|       2|         16|      86|      25|        10|         0|            0|      1|        1|   0|   0|(3,[0],[1.0])|                         0|                   0|    101.2|              6.1|              4.8|               25.3|     99203.0|     0.9359|                   0|                   1|          0|          0.0|\n",
      "|       2|         17|      50|      30|        10|         6|            0|      1|        1|   0|   0|(3,[0],[1.0])|                         0|                   0|    100.5|              7.7|              8.8|               10.5|     57649.0|     0.9995|                   0|                   1|          0|          0.0|\n",
      "|       2|         18|      60|      30|        10|         5|            0|      1|        0|   0|   0|(3,[0],[1.0])|                         0|                   0|     94.7|              6.9|              7.2|                7.4|     41089.0|        1.0|                   0|                   1|          0|          0.0|\n",
      "|       2|         18|      84|      29|         1|        15|            0|      1|        1|   0|   1|(3,[0],[1.0])|                         0|                   0|     98.2|              7.4|              6.1|                9.8|     88812.0|     0.9397|                   0|                   1|          0|          0.0|\n",
      "|       2|         19|      68|      30|        10|         0|            0|      1|        1|   0|   0|(3,[0],[1.0])|                         0|                   0|     99.5|              6.8|             11.7|               15.2|    100207.0|     0.9232|                   0|                   0|          0|          0.0|\n",
      "|       2|         19|      88|      26|        10|         5|            0|      1|        1|   0|   0|(3,[0],[1.0])|                         1|                   0|     91.2|             11.5|             29.9|                9.6|     58781.0|     0.9836|                   0|                   1|          0|          0.0|\n",
      "|       2|         21|      63|      30|        10|         0|            0|      1|        1|   0|   0|(3,[0],[1.0])|                         0|                   0|     90.0|              6.4|              7.0|               16.1|     83565.0|     0.9148|                   0|                   0|          0|          0.0|\n",
      "+--------+-----------+--------+--------+----------+----------+-------------+-------+---------+----+----+-------------+--------------------------+--------------------+---------+-----------------+-----------------+-------------------+------------+-----------+--------------------+--------------------+-----------+-------------+\n",
      "only showing top 20 rows\n",
      "\n"
     ]
    },
    {
     "name": "stderr",
     "output_type": "stream",
     "text": [
      "                                                                                \r"
     ]
    },
    {
     "name": "stdout",
     "output_type": "stream",
     "text": [
      "+-------------+-----+\n",
      "|SeverityIndex|count|\n",
      "+-------------+-----+\n",
      "|          0.0|52272|\n",
      "|          1.0|52291|\n",
      "|          3.0|52136|\n",
      "|          2.0|51946|\n",
      "+-------------+-----+\n",
      "\n"
     ]
    }
   ],
   "source": [
    "# Undersampling\n",
    "from pyspark.sql import functions as F\n",
    "\n",
    "# Step 1: Group by 'Severity' and count occurrences\n",
    "class_counts = train.groupBy(\"SeverityIndex\").count()\n",
    "\n",
    "# Step 2: Use PySpark's min() function to find the minimum count\n",
    "min_class_size = class_counts.agg(F.min('count')).collect()[0][0]\n",
    "\n",
    "undersampled_train_list = []\n",
    "\n",
    "for row in class_counts.collect():\n",
    "    class_label = row['SeverityIndex']\n",
    "    class_size = row['count']\n",
    "\n",
    "    if class_size > min_class_size:\n",
    "        # Sample the data for this class to the size of the minimum class\n",
    "        class_data = train.filter(F.col(\"SeverityIndex\") == class_label)\n",
    "        class_data_undersampled = class_data.sample(withReplacement=False, fraction=min_class_size / class_size)\n",
    "    else:\n",
    "        # For classes that are already at the minimum size, keep all samples\n",
    "        class_data_undersampled = train.filter(F.col(\"SeverityIndex\") == class_label)\n",
    "\n",
    "    undersampled_train_list.append(class_data_undersampled)\n",
    "\n",
    "# Combine all the undersampled DataFrames\n",
    "undersampled_train = undersampled_train_list[0]  # start with the first one\n",
    "for df in undersampled_train_list[1:]:\n",
    "    undersampled_train = undersampled_train.union(df)\n",
    "\n",
    "# Show the result\n",
    "undersampled_train.show()\n",
    "\n",
    "# Step 4: Group by 'Severity' and count the occurrences in the undersampled DataFrame\n",
    "undersampled_class_counts = undersampled_train.groupBy(\"SeverityIndex\").count()\n",
    "\n",
    "# Show the result\n",
    "undersampled_class_counts.show()"
   ]
  },
  {
   "cell_type": "code",
   "execution_count": 8,
   "id": "2d79048b-55fa-4cac-9ce6-00d115340220",
   "metadata": {},
   "outputs": [],
   "source": [
    "# Assemble data for logistic regression model\n",
    "assembler = VectorAssembler(inputCols=feature_list,\n",
    "                            outputCol=\"features\")\n",
    "\n",
    "undersampled_train = assembler.transform(undersampled_train)\n",
    "test = assembler.transform(test)"
   ]
  },
  {
   "cell_type": "code",
   "execution_count": 9,
   "id": "2b5e00b4-277f-4dff-b480-5bcb8acdc8bc",
   "metadata": {},
   "outputs": [
    {
     "name": "stderr",
     "output_type": "stream",
     "text": [
      "                                                                                \r"
     ]
    }
   ],
   "source": [
    "# Standardize the predictors\n",
    "from pyspark.ml.feature import StandardScaler\n",
    "scaler = StandardScaler(inputCol=\"features\", outputCol=\"scaledFeatures\")\n",
    "scalerModel = scaler.fit(undersampled_train)\n",
    "scaledTrainData = scalerModel.transform(undersampled_train)\n",
    "scaledTestData = scalerModel.transform(test)"
   ]
  },
  {
   "cell_type": "code",
   "execution_count": 10,
   "id": "54cb60dc-688a-45e9-b2fe-bf00d4ec87f0",
   "metadata": {},
   "outputs": [
    {
     "name": "stderr",
     "output_type": "stream",
     "text": [
      "                                                                                \r"
     ]
    },
    {
     "name": "stdout",
     "output_type": "stream",
     "text": [
      "Detected number of classes: 4\n",
      "Coefficients: DenseMatrix([[-0.01244002, -0.06353889,  0.00986275, -0.04188364, -0.01172403,\n",
      "              -0.03800864, -0.03931307, -0.00886902,  0.01584484,  0.53348698,\n",
      "               0.3433455 ,  0.0284301 , -0.00755267, -0.10391084,  0.01290595,\n",
      "              -0.00940671,  0.00549702,  0.02237236,  0.00426669,  0.03521623,\n",
      "              -0.01388549, -0.0224905 ,  0.06333688],\n",
      "             [-0.18496784, -0.0872044 ,  0.04175972, -0.03707325,  0.12293805,\n",
      "              -0.07819457, -0.02424191,  0.03094227, -0.00619298,  0.19716205,\n",
      "               0.13110178, -0.14181464, -0.13923619,  0.44818779,  0.00436637,\n",
      "              -0.07797772,  0.01041838, -0.17213901,  0.00356875,  0.25661786,\n",
      "               0.00420021, -0.27804453, -0.09793902],\n",
      "             [-0.25922589, -0.04986986,  0.07803524,  0.0309861 ,  0.07349623,\n",
      "              -0.14068385, -0.16662583,  0.01197005,  0.02829416,  0.20151468,\n",
      "               0.13559648, -0.08398319,  0.16910711,  0.00362119,  0.01171591,\n",
      "               0.05591343, -0.02708544,  0.11293236, -0.02971771, -0.41961495,\n",
      "              -0.00177762, -0.01468722, -0.01025542],\n",
      "             [ 0.45663375,  0.20061316, -0.12965772,  0.0479708 , -0.18471024,\n",
      "               0.25688705,  0.23018082, -0.0340433 , -0.03794603, -0.93216371,\n",
      "              -0.61004376,  0.19736773, -0.02231825, -0.34789814, -0.02898823,\n",
      "               0.031471  ,  0.01117004,  0.03683429,  0.02188227,  0.12778087,\n",
      "               0.0114629 ,  0.31522225,  0.04485756]])\n",
      "Intercept: [-0.009244826726432492,-0.10721852829412397,0.039924346074877715,0.07653900894567876]\n"
     ]
    }
   ],
   "source": [
    "# Fit logistic regression model with intercept\n",
    "from pyspark.ml.classification import LogisticRegression\n",
    "\n",
    "# instantiate the model\n",
    "lr = LogisticRegression(labelCol='SeverityIndex',\n",
    "                        featuresCol='scaledFeatures',\n",
    "                        #maxIter=10, \n",
    "                        #regParam=0.3, \n",
    "                        #elasticNetParam=0.8,\n",
    "                        family=\"multinomial\")\n",
    "\n",
    "# Fit the model\n",
    "lrModel = lr.fit(scaledTrainData)\n",
    "print(f\"Detected number of classes: {lrModel.numClasses}\")\n",
    "\n",
    "# Print the coefficients and intercept for logistic regression\n",
    "print(\"Coefficients: \" + str(lrModel.coefficientMatrix))\n",
    "print(\"Intercept: \" + str(lrModel.interceptVector))"
   ]
  },
  {
   "cell_type": "code",
   "execution_count": 11,
   "id": "c9646a1f-7a43-4a74-8e3d-e64dd3a11062",
   "metadata": {},
   "outputs": [
    {
     "name": "stderr",
     "output_type": "stream",
     "text": [
      "                                                                                \r"
     ]
    },
    {
     "name": "stdout",
     "output_type": "stream",
     "text": [
      "+----------+\n",
      "|prediction|\n",
      "+----------+\n",
      "|       0.0|\n",
      "|       1.0|\n",
      "|       3.0|\n",
      "|       2.0|\n",
      "+----------+\n",
      "\n"
     ]
    },
    {
     "name": "stderr",
     "output_type": "stream",
     "text": [
      "[Stage 253:==================================================>    (21 + 2) / 23]\r"
     ]
    },
    {
     "name": "stdout",
     "output_type": "stream",
     "text": [
      "Accuracy: 0.38530877230923327\n"
     ]
    },
    {
     "name": "stderr",
     "output_type": "stream",
     "text": [
      "                                                                                \r"
     ]
    }
   ],
   "source": [
    "from pyspark.ml.evaluation import MulticlassClassificationEvaluator\n",
    "\n",
    "# compute predictions. this will append column \"prediction\" to dataframe\n",
    "lrPred = lrModel.transform(scaledTestData)\n",
    "lrPred.select(\"prediction\").distinct().show()\n",
    "\n",
    "evaluator = MulticlassClassificationEvaluator(labelCol='SeverityIndex', predictionCol='prediction', metricName='accuracy')\n",
    "accuracy = evaluator.evaluate(lrPred, {evaluator.metricName: \"accuracy\"})\n",
    "print(f'Accuracy: {accuracy}')"
   ]
  },
  {
   "cell_type": "code",
   "execution_count": 12,
   "id": "e3e81050-0bf6-4e42-b0c8-f7ebe09b0971",
   "metadata": {},
   "outputs": [
    {
     "name": "stderr",
     "output_type": "stream",
     "text": [
      "[Stage 259:=======================>                              (10 + 13) / 23]\r"
     ]
    },
    {
     "name": "stdout",
     "output_type": "stream",
     "text": [
      "Precision: 0.7681204170275111\n",
      "Recall: 0.38530877230923327\n",
      "F1 Score: 0.4761844271526681\n"
     ]
    },
    {
     "name": "stderr",
     "output_type": "stream",
     "text": [
      "                                                                                \r"
     ]
    }
   ],
   "source": [
    "precision = evaluator.evaluate(lrPred, {evaluator.metricName: 'weightedPrecision'})\n",
    "recall = evaluator.evaluate(lrPred, {evaluator.metricName: 'weightedRecall'})\n",
    "f1_score = evaluator.evaluate(lrPred, {evaluator.metricName: 'f1'})\n",
    "\n",
    "print(f'Precision: {precision}')\n",
    "print(f'Recall: {recall}')\n",
    "print(f'F1 Score: {f1_score}')"
   ]
  },
  {
   "cell_type": "code",
   "execution_count": 13,
   "id": "05e473cd-b658-4a72-ba3a-f5d2752719eb",
   "metadata": {},
   "outputs": [
    {
     "name": "stderr",
     "output_type": "stream",
     "text": [
      "                                                                                \r"
     ]
    },
    {
     "name": "stdout",
     "output_type": "stream",
     "text": [
      "+-------------+------------------+\n",
      "|SeverityIndex|          accuracy|\n",
      "+-------------+------------------+\n",
      "|          0.0|0.3577806764975688|\n",
      "|          1.0|0.4940405165033557|\n",
      "|          3.0|0.7781024142703368|\n",
      "|          2.0|0.4280874653526332|\n",
      "+-------------+------------------+\n",
      "\n"
     ]
    }
   ],
   "source": [
    "# Add a column to indicate correct or incorrect predictions\n",
    "predictions = lrPred.withColumn(\n",
    "    'is_correct', F.expr(\"CASE WHEN SeverityIndex = prediction THEN 1 ELSE 0 END\")\n",
    ")\n",
    "\n",
    "# Calculate accuracy by class\n",
    "accuracy_by_class = predictions.groupBy('SeverityIndex').agg(\n",
    "    (F.sum('is_correct') / F.count('SeverityIndex')).alias('accuracy')\n",
    ")\n",
    "\n",
    "# Show per-class accuracy\n",
    "accuracy_by_class.show()"
   ]
  },
  {
   "cell_type": "code",
   "execution_count": null,
   "id": "3fce0c2c-f792-47cd-9e69-bdbbe886c5a5",
   "metadata": {},
   "outputs": [],
   "source": []
  }
 ],
 "metadata": {
  "kernelspec": {
   "display_name": "Python 3 (ipykernel)",
   "language": "python",
   "name": "python3"
  },
  "language_info": {
   "codemirror_mode": {
    "name": "ipython",
    "version": 3
   },
   "file_extension": ".py",
   "mimetype": "text/x-python",
   "name": "python",
   "nbconvert_exporter": "python",
   "pygments_lexer": "ipython3",
   "version": "3.11.5"
  }
 },
 "nbformat": 4,
 "nbformat_minor": 5
}
