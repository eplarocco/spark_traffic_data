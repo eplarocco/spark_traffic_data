{
 "cells": [
  {
   "cell_type": "code",
   "execution_count": 1,
   "id": "1bf6ccc1-6317-482a-ac30-72c6eab49a0b",
   "metadata": {},
   "outputs": [],
   "source": [
    "# Import Libraries\n",
    "import pandas as pd\n",
    "import numpy as np\n",
    "import os\n",
    "import pyspark\n",
    "from pyspark.sql import SparkSession\n",
    "from pyspark.sql.types import *\n",
    "from pyspark.sql.functions import *\n",
    "from pyspark.ml.feature import StringIndexer, OneHotEncoder, VectorAssembler\n",
    "from pyspark.ml.stat import Correlation\n",
    "import seaborn as sns\n",
    "import matplotlib.pyplot as plt\n",
    "import pyspark.sql.functions as F\n",
    "import holidays\n",
    "from datetime import datetime, timezone\n",
    "from pyspark.ml.classification import RandomForestClassifier, BinaryLogisticRegressionSummary\n",
    "from pyspark.ml import Pipeline\n",
    "from pyspark.mllib.evaluation import MulticlassMetrics, BinaryClassificationMetrics\n",
    "from pyspark.ml.pipeline import PipelineModel"
   ]
  },
  {
   "cell_type": "code",
   "execution_count": 2,
   "id": "d0709727-12cd-4322-b2e8-5ceca8b3b502",
   "metadata": {},
   "outputs": [
    {
     "name": "stderr",
     "output_type": "stream",
     "text": [
      "24/11/14 20:17:38 WARN NativeCodeLoader: Unable to load native-hadoop library for your platform... using builtin-java classes where applicable\n",
      "Using Spark's default log4j profile: org/apache/spark/log4j-defaults.properties\n",
      "Setting default log level to \"WARN\".\n",
      "To adjust logging level use sc.setLogLevel(newLevel). For SparkR, use setLogLevel(newLevel).\n",
      "24/11/14 20:17:39 WARN Utils: Service 'SparkUI' could not bind on port 4040. Attempting port 4041.\n",
      "24/11/14 20:17:39 WARN Utils: Service 'SparkUI' could not bind on port 4041. Attempting port 4042.\n",
      "24/11/14 20:17:39 WARN Utils: Service 'SparkUI' could not bind on port 4042. Attempting port 4043.\n",
      "24/11/14 20:17:39 WARN Utils: Service 'SparkUI' could not bind on port 4043. Attempting port 4044.\n",
      "24/11/14 20:17:39 WARN Utils: Service 'SparkUI' could not bind on port 4044. Attempting port 4045.\n"
     ]
    }
   ],
   "source": [
    "# Instantiate Spark Session\n",
    "spark = (SparkSession\n",
    "  .builder\n",
    "  .appName(\"US_Accidents\")\n",
    "  .getOrCreate())\n",
    "spark.sparkContext.setLogLevel(\"ERROR\") #supress warnings"
   ]
  },
  {
   "cell_type": "code",
   "execution_count": 3,
   "id": "c5a537b4-0516-49a4-a9d3-9957ecf6972b",
   "metadata": {},
   "outputs": [],
   "source": [
    "# Read in Data\n",
    "df = spark.read.parquet(\"final_dataset_revised.parquet\")"
   ]
  },
  {
   "cell_type": "code",
   "execution_count": 4,
   "id": "c6be913b-8a20-494f-af35-4cc44879acb7",
   "metadata": {},
   "outputs": [
    {
     "name": "stderr",
     "output_type": "stream",
     "text": [
      "                                                                                \r"
     ]
    }
   ],
   "source": [
    "# Use StringIndexer for encoding the 'Severity' column\n",
    "indexer = StringIndexer(inputCol=\"Severity\", outputCol=\"SeverityIndex\")\n",
    "df = indexer.fit(df).transform(df)"
   ]
  },
  {
   "cell_type": "code",
   "execution_count": 5,
   "id": "bb96fd0f-7581-467f-a0c3-948425bd9ed5",
   "metadata": {},
   "outputs": [],
   "source": [
    "# Create list of features\n",
    "feature_list = []\n",
    "for col in df.columns:\n",
    "    if col == 'Severity':\n",
    "        continue\n",
    "    elif col == 'SeverityIndex':\n",
    "        continue\n",
    "    elif col == 'Weekday':\n",
    "        continue\n",
    "    else:\n",
    "        feature_list.append(col)"
   ]
  },
  {
   "cell_type": "code",
   "execution_count": 6,
   "id": "8117f0e8-de44-4430-aa72-8899adcaeae8",
   "metadata": {},
   "outputs": [],
   "source": [
    "# Split the data into train and test\n",
    "splits = df.randomSplit([0.8, 0.2], 314)\n",
    "train = splits[0]\n",
    "test = splits[1]"
   ]
  },
  {
   "cell_type": "code",
   "execution_count": 7,
   "id": "827fa4c6-689b-4ea8-9b72-5fdbf8d7ecb4",
   "metadata": {},
   "outputs": [
    {
     "name": "stderr",
     "output_type": "stream",
     "text": [
      "                                                                                \r"
     ]
    },
    {
     "name": "stdout",
     "output_type": "stream",
     "text": [
      "+--------+-----------+--------+--------+----------+----------+-------------+-------+---------+----+----+-------------+--------------------------+--------------------+---------+-----------------+-----------------+-------------------+------------+-----------+--------------------+--------------------+-----------+-------------+\n",
      "|Severity|Temperature|Humidity|Pressure|Visibility|Wind_Speed|Precipitation|Weekday|Rush_Hour|Rain|Snow|    SeasonVec|Astronomical_TwilightIndex|Interstate_Indicator|Sex_ratio|Percent_Age_15-19|Percent_Age_20-24|Percent_Age_65_over|MedianIncome|Urban_Ratio|Traffic_Interference|Traffic_Intersection|Destination|SeverityIndex|\n",
      "+--------+-----------+--------+--------+----------+----------+-------------+-------+---------+----+----+-------------+--------------------------+--------------------+---------+-----------------+-----------------+-------------------+------------+-----------+--------------------+--------------------+-----------+-------------+\n",
      "|       2|        -13|      75|      29|        10|         8|            0|      1|        1|   0|   0|(3,[0],[1.0])|                         0|                   1|     97.7|              5.5|              7.6|               14.7|     78803.0|     0.0024|                   0|                   0|          0|          0.0|\n",
      "|       2|         -1|      79|      30|        10|         0|            0|      1|        1|   0|   0|(3,[0],[1.0])|                         0|                   0|    102.3|              6.8|              2.9|               17.1|     83080.0|     0.0826|                   0|                   0|          0|          0.0|\n",
      "|       2|          2|      88|      30|         9|         0|            0|      1|        1|   0|   0|(3,[0],[1.0])|                         0|                   0|    100.7|              7.3|              5.7|               19.6|     51286.0|        0.0|                   0|                   0|          0|          0.0|\n",
      "|       2|          4|      73|      30|         8|        13|            0|      1|        0|   0|   1|(3,[0],[1.0])|                         1|                   0|     89.5|              5.9|              9.2|                8.6|     23574.0|        1.0|                   0|                   0|          0|          0.0|\n",
      "|       2|          8|      73|      29|         5|         0|            0|      1|        1|   0|   0|(3,[0],[1.0])|                         0|                   0|     85.8|              7.0|              7.5|                9.8|     31264.0|        1.0|                   0|                   0|          0|          0.0|\n",
      "|       2|         10|      67|      30|        10|         3|            0|      1|        0|   0|   0|(3,[0],[1.0])|                         0|                   1|     93.7|              3.6|              6.3|               25.6|     56671.0|        1.0|                   0|                   0|          0|          0.0|\n",
      "|       2|         13|      81|      28|         7|         0|            0|      1|        0|   0|   1|(3,[0],[1.0])|                         1|                   0|    101.4|              5.7|              8.9|               11.8|     41401.0|        1.0|                   0|                   1|          1|          0.0|\n",
      "|       2|         13|      84|      29|        10|        13|            0|      1|        0|   0|   0|(3,[0],[1.0])|                         1|                   0|     97.4|              5.3|              5.2|               15.4|     70245.0|     0.9397|                   0|                   1|          0|          0.0|\n",
      "|       2|         15|      59|      30|        10|        12|            0|      1|        1|   0|   0|(3,[0],[1.0])|                         0|                   0|    102.0|              6.3|              5.9|               12.2|     44035.0|        1.0|                   0|                   0|          0|          0.0|\n",
      "|       2|         15|      70|      30|        10|         5|            0|      1|        1|   0|   0|(3,[0],[1.0])|                         0|                   0|     93.8|              6.4|              5.0|               20.9|     72813.0|     0.8412|                   0|                   0|          0|          0.0|\n",
      "|       2|         16|      49|      29|        10|        24|            0|      1|        1|   0|   0|(3,[0],[1.0])|                         0|                   0|     88.0|              4.3|              7.7|               14.3|     76748.0|     0.9946|                   0|                   0|          0|          0.0|\n",
      "|       2|         16|      88|      30|         2|         7|            0|      1|        1|   0|   1|(3,[0],[1.0])|                         0|                   0|    119.4|              8.7|              4.9|               15.7|    103459.0|        0.0|                   0|                   0|          0|          0.0|\n",
      "|       2|         18|      45|      30|        10|         5|            0|      1|        1|   0|   0|(3,[0],[1.0])|                         0|                   0|     80.6|              6.5|              6.5|               13.2|     58105.0|        1.0|                   0|                   1|          1|          0.0|\n",
      "|       2|         19|      50|      30|        10|        14|            0|      1|        0|   0|   0|(3,[0],[1.0])|                         0|                   0|     92.1|              6.3|              6.1|               17.3|     66100.0|     0.7137|                   0|                   0|          0|          0.0|\n",
      "|       2|         19|      54|      30|        10|        13|            0|      1|        0|   0|   0|(3,[0],[1.0])|                         1|                   0|     90.1|              5.4|              7.0|               12.0|     45176.0|        1.0|                   0|                   1|          0|          0.0|\n",
      "|       2|         19|      72|      29|        10|         5|            0|      1|        1|   0|   0|(3,[0],[1.0])|                         0|                   0|     94.0|              6.0|              4.1|               14.3|     73391.0|     0.9121|                   0|                   0|          0|          0.0|\n",
      "|       2|         20|      37|      31|        10|        13|            0|      1|        1|   0|   0|(3,[0],[1.0])|                         0|                   0|    174.8|              3.1|              5.9|                8.3|     29682.0|        1.0|                   0|                   0|          0|          0.0|\n",
      "|       2|         20|      78|      30|        10|         8|            0|      1|        1|   0|   0|(3,[0],[1.0])|                         0|                   0|     91.0|              4.8|              4.6|               18.6|    100693.0|        1.0|                   0|                   0|          1|          0.0|\n",
      "|       2|         21|      54|      29|        20|        10|            0|      0|        0|   0|   0|(3,[0],[1.0])|                         0|                   0|    111.2|              5.6|              5.6|               21.3|     48398.0|     0.6204|                   0|                   0|          0|          0.0|\n",
      "|       2|         21|      54|      30|        10|         9|            0|      1|        1|   0|   0|(3,[0],[1.0])|                         0|                   1|     83.6|              4.6|              7.2|               16.7|     63164.0|        1.0|                   0|                   0|          0|          0.0|\n",
      "+--------+-----------+--------+--------+----------+----------+-------------+-------+---------+----+----+-------------+--------------------------+--------------------+---------+-----------------+-----------------+-------------------+------------+-----------+--------------------+--------------------+-----------+-------------+\n",
      "only showing top 20 rows\n",
      "\n"
     ]
    },
    {
     "name": "stderr",
     "output_type": "stream",
     "text": [
      "[Stage 9:=====================================================>   (87 + 5) / 92]\r"
     ]
    },
    {
     "name": "stdout",
     "output_type": "stream",
     "text": [
      "+-------------+-----+\n",
      "|SeverityIndex|count|\n",
      "+-------------+-----+\n",
      "|          0.0|52681|\n",
      "|          1.0|52114|\n",
      "|          3.0|52136|\n",
      "|          2.0|52234|\n",
      "+-------------+-----+\n",
      "\n"
     ]
    },
    {
     "name": "stderr",
     "output_type": "stream",
     "text": [
      "                                                                                \r"
     ]
    }
   ],
   "source": [
    "# Undersampling\n",
    "from pyspark.sql import functions as F\n",
    "\n",
    "# Step 1: Group by 'Severity' and count occurrences\n",
    "class_counts = train.groupBy(\"SeverityIndex\").count()\n",
    "\n",
    "# Step 2: Use PySpark's min() function to find the minimum count\n",
    "min_class_size = class_counts.agg(F.min('count')).collect()[0][0]\n",
    "\n",
    "undersampled_train_list = []\n",
    "\n",
    "for row in class_counts.collect():\n",
    "    class_label = row['SeverityIndex']\n",
    "    class_size = row['count']\n",
    "\n",
    "    if class_size > min_class_size:\n",
    "        # Sample the data for this class to the size of the minimum class\n",
    "        class_data = train.filter(F.col(\"SeverityIndex\") == class_label)\n",
    "        class_data_undersampled = class_data.sample(withReplacement=False, fraction=min_class_size / class_size)\n",
    "    else:\n",
    "        # For classes that are already at the minimum size, keep all samples\n",
    "        class_data_undersampled = train.filter(F.col(\"SeverityIndex\") == class_label)\n",
    "\n",
    "    undersampled_train_list.append(class_data_undersampled)\n",
    "\n",
    "# Combine all the undersampled DataFrames\n",
    "undersampled_train = undersampled_train_list[0]  # start with the first one\n",
    "for df in undersampled_train_list[1:]:\n",
    "    undersampled_train = undersampled_train.union(df)\n",
    "\n",
    "# Show the result\n",
    "undersampled_train.show()\n",
    "\n",
    "# Step 4: Group by 'Severity' and count the occurrences in the undersampled DataFrame\n",
    "undersampled_class_counts = undersampled_train.groupBy(\"SeverityIndex\").count()\n",
    "\n",
    "# Show the result\n",
    "undersampled_class_counts.show()"
   ]
  },
  {
   "cell_type": "code",
   "execution_count": 8,
   "id": "2d79048b-55fa-4cac-9ce6-00d115340220",
   "metadata": {},
   "outputs": [],
   "source": [
    "# Assemble data for logistic regression model\n",
    "assembler = VectorAssembler(inputCols=feature_list,\n",
    "                            outputCol=\"features\")\n",
    "\n",
    "undersampled_train = assembler.transform(undersampled_train)\n",
    "test = assembler.transform(test)"
   ]
  },
  {
   "cell_type": "code",
   "execution_count": 9,
   "id": "2b5e00b4-277f-4dff-b480-5bcb8acdc8bc",
   "metadata": {},
   "outputs": [
    {
     "name": "stderr",
     "output_type": "stream",
     "text": [
      "                                                                                \r"
     ]
    }
   ],
   "source": [
    "# Standardize the predictors\n",
    "from pyspark.ml.feature import StandardScaler\n",
    "scaler = StandardScaler(inputCol=\"features\", outputCol=\"scaledFeatures\")\n",
    "scalerModel = scaler.fit(undersampled_train)\n",
    "scaledTrainData = scalerModel.transform(undersampled_train)\n",
    "scaledTestData = scalerModel.transform(test)"
   ]
  },
  {
   "cell_type": "code",
   "execution_count": 10,
   "id": "54cb60dc-688a-45e9-b2fe-bf00d4ec87f0",
   "metadata": {},
   "outputs": [
    {
     "name": "stderr",
     "output_type": "stream",
     "text": [
      "                                                                                \r"
     ]
    },
    {
     "name": "stdout",
     "output_type": "stream",
     "text": [
      "Detected number of classes: 4\n",
      "Coefficients: DenseMatrix([[-2.44000104e-02, -7.40358497e-02,  9.20988714e-03,\n",
      "              -3.38459575e-02, -1.10211594e-02,  4.75818432e-03,\n",
      "              -4.71309584e-02, -9.38436297e-03,  2.26742324e-02,\n",
      "               5.16962215e-01,  3.39692127e-01,  1.80445185e-02,\n",
      "              -6.52768986e-03, -1.12230034e-01,  1.01823150e-02,\n",
      "              -5.47136979e-03,  2.05900969e-04,  1.62006526e-02,\n",
      "               8.30211125e-03,  3.34477093e-02, -9.58479008e-03,\n",
      "              -2.94600257e-02,  5.88054836e-02],\n",
      "             [-1.98023926e-01, -1.01503710e-01,  3.48973064e-02,\n",
      "              -3.70873267e-02,  1.12726876e-01,  8.24451137e-03,\n",
      "              -3.10054088e-02,  2.77961589e-02, -1.66775696e-02,\n",
      "               1.71693431e-01,  1.31315160e-01, -1.46429705e-01,\n",
      "              -1.26769627e-01,  4.65350838e-01,  1.24882941e-02,\n",
      "              -7.53631720e-02,  2.86133572e-03, -1.62550312e-01,\n",
      "               5.34278485e-03,  2.65471259e-01,  9.91043519e-03,\n",
      "              -2.62296481e-01, -1.01324739e-01],\n",
      "             [-2.58867086e-01, -5.51776508e-02,  6.88414137e-02,\n",
      "               2.51270948e-02,  6.76125977e-02, -1.10904512e-02,\n",
      "              -1.87395540e-01,  1.71223742e-02,  2.85275939e-02,\n",
      "               1.97844019e-01,  1.39649091e-01, -7.06804587e-02,\n",
      "               1.74191049e-01,  1.66159062e-03,  3.26821897e-03,\n",
      "               5.27947962e-02, -1.54776417e-02,  1.09060261e-01,\n",
      "              -2.77259027e-02, -4.25773649e-01, -4.14293762e-04,\n",
      "              -2.47217261e-02, -3.55722690e-03],\n",
      "             [ 4.81291022e-01,  2.30717210e-01, -1.12948607e-01,\n",
      "               4.58061895e-02, -1.69318315e-01, -1.91224446e-03,\n",
      "               2.65531907e-01, -3.55341701e-02, -3.45242567e-02,\n",
      "              -8.86499665e-01, -6.10656378e-01,  1.99065645e-01,\n",
      "              -4.08937324e-02, -3.54782395e-01, -2.59388281e-02,\n",
      "               2.80397455e-02,  1.24104051e-02,  3.72893985e-02,\n",
      "               1.40810066e-02,  1.26854681e-01,  8.86486485e-05,\n",
      "               3.16478233e-01,  4.60764820e-02]])\n",
      "Intercept: [-0.0011735063003807688,-0.09440406790940192,0.029263589159585244,0.06631398505019745]\n"
     ]
    }
   ],
   "source": [
    "# Fit logistic regression model with intercept\n",
    "from pyspark.ml.classification import LogisticRegression\n",
    "\n",
    "# instantiate the model\n",
    "lr = LogisticRegression(labelCol='SeverityIndex',\n",
    "                        featuresCol='scaledFeatures',\n",
    "                        #maxIter=10, \n",
    "                        #regParam=0.3, \n",
    "                        #elasticNetParam=0.8,\n",
    "                        family=\"multinomial\")\n",
    "\n",
    "# Fit the model\n",
    "lrModel = lr.fit(scaledTrainData)\n",
    "print(f\"Detected number of classes: {lrModel.numClasses}\")\n",
    "\n",
    "# Print the coefficients and intercept for logistic regression\n",
    "print(\"Coefficients: \" + str(lrModel.coefficientMatrix))\n",
    "print(\"Intercept: \" + str(lrModel.interceptVector))"
   ]
  },
  {
   "cell_type": "code",
   "execution_count": 11,
   "id": "c9646a1f-7a43-4a74-8e3d-e64dd3a11062",
   "metadata": {},
   "outputs": [
    {
     "name": "stderr",
     "output_type": "stream",
     "text": [
      "                                                                                \r"
     ]
    },
    {
     "name": "stdout",
     "output_type": "stream",
     "text": [
      "+----------+\n",
      "|prediction|\n",
      "+----------+\n",
      "|       0.0|\n",
      "|       1.0|\n",
      "|       3.0|\n",
      "|       2.0|\n",
      "+----------+\n",
      "\n"
     ]
    },
    {
     "name": "stderr",
     "output_type": "stream",
     "text": [
      "[Stage 261:========================================>              (17 + 6) / 23]\r"
     ]
    },
    {
     "name": "stdout",
     "output_type": "stream",
     "text": [
      "Accuracy: 0.38995984907120745\n"
     ]
    },
    {
     "name": "stderr",
     "output_type": "stream",
     "text": [
      "                                                                                \r"
     ]
    }
   ],
   "source": [
    "from pyspark.ml.evaluation import MulticlassClassificationEvaluator\n",
    "\n",
    "# compute predictions. this will append column \"prediction\" to dataframe\n",
    "lrPred = lrModel.transform(scaledTestData)\n",
    "lrPred.select(\"prediction\").distinct().show()\n",
    "\n",
    "evaluator = MulticlassClassificationEvaluator(labelCol='SeverityIndex', predictionCol='prediction', metricName='accuracy')\n",
    "accuracy = evaluator.evaluate(lrPred, {evaluator.metricName: \"accuracy\"})\n",
    "print(f'Accuracy: {accuracy}')"
   ]
  },
  {
   "cell_type": "code",
   "execution_count": 12,
   "id": "e3e81050-0bf6-4e42-b0c8-f7ebe09b0971",
   "metadata": {},
   "outputs": [
    {
     "name": "stderr",
     "output_type": "stream",
     "text": [
      "[Stage 267:===============================================>       (20 + 3) / 23]\r"
     ]
    },
    {
     "name": "stdout",
     "output_type": "stream",
     "text": [
      "Precision: 0.7675909905721983\n",
      "Recall: 0.3899598490712074\n",
      "F1 Score: 0.4820606447649289\n"
     ]
    },
    {
     "name": "stderr",
     "output_type": "stream",
     "text": [
      "                                                                                \r"
     ]
    }
   ],
   "source": [
    "precision = evaluator.evaluate(lrPred, {evaluator.metricName: 'weightedPrecision'})\n",
    "recall = evaluator.evaluate(lrPred, {evaluator.metricName: 'weightedRecall'})\n",
    "f1_score = evaluator.evaluate(lrPred, {evaluator.metricName: 'f1'})\n",
    "\n",
    "print(f'Precision: {precision}')\n",
    "print(f'Recall: {recall}')\n",
    "print(f'F1 Score: {f1_score}')"
   ]
  },
  {
   "cell_type": "code",
   "execution_count": 13,
   "id": "05e473cd-b658-4a72-ba3a-f5d2752719eb",
   "metadata": {},
   "outputs": [
    {
     "name": "stderr",
     "output_type": "stream",
     "text": [
      "[Stage 269:=================================>                     (14 + 9) / 23]\r"
     ]
    },
    {
     "name": "stdout",
     "output_type": "stream",
     "text": [
      "+-------------+-------------------+\n",
      "|SeverityIndex|           accuracy|\n",
      "+-------------+-------------------+\n",
      "|          0.0|0.36519804088962415|\n",
      "|          1.0| 0.4878614614152831|\n",
      "|          3.0| 0.7702598800553591|\n",
      "|          2.0|0.41800823137441556|\n",
      "+-------------+-------------------+\n",
      "\n"
     ]
    },
    {
     "name": "stderr",
     "output_type": "stream",
     "text": [
      "                                                                                \r"
     ]
    }
   ],
   "source": [
    "# Add a column to indicate correct or incorrect predictions\n",
    "predictions = lrPred.withColumn(\n",
    "    'is_correct', F.expr(\"CASE WHEN SeverityIndex = prediction THEN 1 ELSE 0 END\")\n",
    ")\n",
    "\n",
    "# Calculate accuracy by class\n",
    "accuracy_by_class = predictions.groupBy('SeverityIndex').agg(\n",
    "    (F.sum('is_correct') / F.count('SeverityIndex')).alias('accuracy')\n",
    ")\n",
    "\n",
    "# Show per-class accuracy\n",
    "accuracy_by_class.show()"
   ]
  },
  {
   "cell_type": "code",
   "execution_count": null,
   "id": "3fce0c2c-f792-47cd-9e69-bdbbe886c5a5",
   "metadata": {},
   "outputs": [],
   "source": []
  }
 ],
 "metadata": {
  "kernelspec": {
   "display_name": "Python 3 (ipykernel)",
   "language": "python",
   "name": "python3"
  },
  "language_info": {
   "codemirror_mode": {
    "name": "ipython",
    "version": 3
   },
   "file_extension": ".py",
   "mimetype": "text/x-python",
   "name": "python",
   "nbconvert_exporter": "python",
   "pygments_lexer": "ipython3",
   "version": "3.11.5"
  }
 },
 "nbformat": 4,
 "nbformat_minor": 5
}
