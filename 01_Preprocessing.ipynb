{
 "cells": [
  {
   "cell_type": "markdown",
   "metadata": {},
   "source": [
    "# Research Question:\n",
    "### What are the most influential variables on the severity of accidents?"
   ]
  },
  {
   "cell_type": "markdown",
   "metadata": {},
   "source": [
    "Useful Paper:\n",
    "    https://www.sciencedirect.com/science/article/pii/S2590198223000611"
   ]
  },
  {
   "cell_type": "code",
   "execution_count": 1,
   "metadata": {
    "tags": []
   },
   "outputs": [
    {
     "data": {
      "text/html": [
       "<style>pre { white-space: pre !important; }</style>"
      ],
      "text/plain": [
       "<IPython.core.display.HTML object>"
      ]
     },
     "metadata": {},
     "output_type": "display_data"
    }
   ],
   "source": [
    "#Display Spark Output in scrollable format within jupyter notebook\n",
    "from IPython.core.display import HTML\n",
    "display(HTML(\"<style>pre { white-space: pre !important; }</style>\"))"
   ]
  },
  {
   "cell_type": "code",
   "execution_count": 2,
   "metadata": {
    "tags": []
   },
   "outputs": [],
   "source": [
    "# Import Libraries\n",
    "import pandas as pd\n",
    "import numpy as np\n",
    "import os\n",
    "import pyspark\n",
    "from pyspark.sql import SparkSession\n",
    "from pyspark.sql.types import *\n",
    "from pyspark.sql.functions import *\n",
    "from pyspark.ml.feature import StringIndexer, OneHotEncoder, VectorAssembler\n",
    "from pyspark.ml.stat import Correlation\n",
    "import seaborn as sns\n",
    "import matplotlib.pyplot as plt\n",
    "import pyspark.sql.functions as F\n",
    "import holidays\n",
    "from datetime import datetime, timezone"
   ]
  },
  {
   "cell_type": "markdown",
   "metadata": {},
   "source": [
    "# Load Data"
   ]
  },
  {
   "cell_type": "code",
   "execution_count": 3,
   "metadata": {
    "tags": []
   },
   "outputs": [
    {
     "name": "stderr",
     "output_type": "stream",
     "text": [
      "Setting default log level to \"WARN\".\n",
      "To adjust logging level use sc.setLogLevel(newLevel). For SparkR, use setLogLevel(newLevel).\n",
      "24/11/25 14:29:53 WARN NativeCodeLoader: Unable to load native-hadoop library for your platform... using builtin-java classes where applicable\n"
     ]
    }
   ],
   "source": [
    "#Instantiate Spark Session\n",
    "spark = (SparkSession\n",
    "  .builder\n",
    "  .appName(\"US_Accidents\")\n",
    "  .getOrCreate())"
   ]
  },
  {
   "cell_type": "code",
   "execution_count": 4,
   "metadata": {
    "tags": []
   },
   "outputs": [],
   "source": [
    "#Define Spark Schema\n",
    "schema = StructType([StructField('ID', StringType(), False),\n",
    "                StructField('Source', StringType(), False),\n",
    "                StructField('Severity', IntegerType(), False),\n",
    "                StructField('Start_Time', TimestampType(), False),                  \n",
    "                StructField('End_Time', TimestampType(), False),      \n",
    "                StructField('Start_Lat', DecimalType(), False),\n",
    "                StructField('Start_Lng', DecimalType(), False),\n",
    "                StructField('End_Lat', DecimalType(), True),\n",
    "                StructField('End_Lng', DecimalType(), True),       \n",
    "                StructField('Distance(mi)', DecimalType(), False),       \n",
    "                StructField('Description', StringType(), False),       \n",
    "                StructField('Street', StringType(), True),                 \n",
    "                StructField('City', StringType(), True),       \n",
    "                StructField('County', StringType(), True),       \n",
    "                StructField('State', StringType(), True),       \n",
    "                StructField('Zipcode', StringType(), True),       \n",
    "                StructField('Country', StringType(), True),       \n",
    "                StructField('Timezone', StringType(), True),       \n",
    "                StructField('Airport_Code', StringType(), True),\n",
    "                StructField('Weather_Timestamp', TimestampType(), True),\n",
    "                StructField('Temperature(F)', DecimalType(), True),\n",
    "                StructField('Wind_Chill(F)', DecimalType(), True),\n",
    "                StructField('Humidity(%)', DecimalType(), True),\n",
    "                StructField('Pressure(in)', DecimalType(), True),\n",
    "                StructField('Visibility(mi)', DecimalType(), True),\n",
    "                StructField('Wind_Direction', StringType(), True),\n",
    "                StructField('Wind_Speed(mph)', DecimalType(), True),\n",
    "                StructField('Precipitation(in)', DecimalType(), True),\n",
    "                StructField('Weather_Condition', StringType(), True),\n",
    "                StructField('Amenity', BooleanType(), False),\n",
    "                StructField('Bump', BooleanType(), False),\n",
    "                StructField('Crossing', BooleanType(), False),\n",
    "                StructField('Give_way', BooleanType(), False),\n",
    "                StructField('Junction', BooleanType(), False),\n",
    "                StructField('No_Exit', BooleanType(), False),\n",
    "                StructField('Railway', BooleanType(), False), \n",
    "                StructField('Roundabout', BooleanType(), False),\n",
    "                StructField('Station', BooleanType(), False),\n",
    "                StructField('Stop', BooleanType(), False),\n",
    "                StructField('Traffic_Calming', BooleanType(), False),\n",
    "                StructField('Traffic_Signal', BooleanType(), False),\n",
    "                StructField('Turning_Loop', BooleanType(), False),\n",
    "                StructField('Sunrise_Sunset', StringType(), True),\n",
    "                StructField('Civil_Twilight', StringType(), True),\n",
    "                StructField('Nautical_Twilight', StringType(), True),\n",
    "                StructField('Astronomical_Twilight', StringType(), True)])\n",
    "\n",
    "# Use the DataFrameReader interface to read a CSV file\n",
    "file = \"data/US_Accidents_March23.csv\"\n",
    "df = spark.read.csv(file, header=True, schema=schema)"
   ]
  },
  {
   "cell_type": "code",
   "execution_count": 5,
   "metadata": {
    "tags": []
   },
   "outputs": [
    {
     "name": "stderr",
     "output_type": "stream",
     "text": [
      "[Stage 0:=======================================>                 (16 + 7) / 23]\r"
     ]
    },
    {
     "name": "stdout",
     "output_type": "stream",
     "text": [
      "DataFrame Rows count : 7728394\n",
      "DataFrame Columns count : 46\n"
     ]
    },
    {
     "name": "stderr",
     "output_type": "stream",
     "text": [
      "                                                                                \r"
     ]
    }
   ],
   "source": [
    "# Get row count\n",
    "rows = df.count()\n",
    "print(f\"DataFrame Rows count : {rows}\")\n",
    "\n",
    "# Get columns count\n",
    "cols = len(df.columns)\n",
    "print(f\"DataFrame Columns count : {cols}\")"
   ]
  },
  {
   "cell_type": "markdown",
   "metadata": {},
   "source": [
    "# Nulls"
   ]
  },
  {
   "cell_type": "code",
   "execution_count": 6,
   "metadata": {
    "tags": []
   },
   "outputs": [
    {
     "name": "stderr",
     "output_type": "stream",
     "text": [
      "24/11/25 14:29:59 WARN SparkStringUtils: Truncated the string representation of a plan since it was too large. This behavior can be adjusted by setting 'spark.sql.debug.maxToStringFields'.\n",
      "                                                                                \r"
     ]
    },
    {
     "name": "stdout",
     "output_type": "stream",
     "text": [
      "+---+------+--------+----------+--------+---------+---------+-------+-------+------------+-----------+------+----+------+-----+-------+-------+--------+------------+-----------------+--------------+-------------+-----------+------------+--------------+--------------+---------------+-----------------+-----------------+-------+----+--------+--------+--------+-------+-------+----------+-------+----+---------------+--------------+------------+--------------+--------------+-----------------+---------------------+\n",
      "| ID|Source|Severity|Start_Time|End_Time|Start_Lat|Start_Lng|End_Lat|End_Lng|Distance(mi)|Description|Street|City|County|State|Zipcode|Country|Timezone|Airport_Code|Weather_Timestamp|Temperature(F)|Wind_Chill(F)|Humidity(%)|Pressure(in)|Visibility(mi)|Wind_Direction|Wind_Speed(mph)|Precipitation(in)|Weather_Condition|Amenity|Bump|Crossing|Give_way|Junction|No_Exit|Railway|Roundabout|Station|Stop|Traffic_Calming|Traffic_Signal|Turning_Loop|Sunrise_Sunset|Civil_Twilight|Nautical_Twilight|Astronomical_Twilight|\n",
      "+---+------+--------+----------+--------+---------+---------+-------+-------+------------+-----------+------+----+------+-----+-------+-------+--------+------------+-----------------+--------------+-------------+-----------+------------+--------------+--------------+---------------+-----------------+-----------------+-------+----+--------+--------+--------+-------+-------+----------+-------+----+---------------+--------------+------------+--------------+--------------+-----------------+---------------------+\n",
      "|  0|     0|       0|         0|       0|        0|        0|3402762|3402762|           0|          5| 10869| 253|     0|    0|   1915|      0|    7808|       22635|           120228|        163853|      1999019|     174144|      140679|        177098|        175206|         571233|          2203586|           173459|      0|   0|       0|       0|       0|      0|      0|         0|      0|   0|              0|             0|           0|         23246|         23246|            23246|                23246|\n",
      "+---+------+--------+----------+--------+---------+---------+-------+-------+------------+-----------+------+----+------+-----+-------+-------+--------+------------+-----------------+--------------+-------------+-----------+------------+--------------+--------------+---------------+-----------------+-----------------+-------+----+--------+--------+--------+-------+-------+----------+-------+----+---------------+--------------+------------+--------------+--------------+-----------------+---------------------+\n",
      "\n"
     ]
    }
   ],
   "source": [
    "#Null counts (excluding time columns)\n",
    "df.agg(*[\n",
    "    (rows-count(c)).alias(c) # column-wise operations in SQL ignore NULLs so returns count of null values\n",
    "    for c in df.columns \n",
    "]).show()"
   ]
  },
  {
   "cell_type": "code",
   "execution_count": 7,
   "metadata": {
    "tags": []
   },
   "outputs": [
    {
     "name": "stderr",
     "output_type": "stream",
     "text": [
      "[Stage 6:============================================>            (18 + 5) / 23]\r"
     ]
    },
    {
     "name": "stdout",
     "output_type": "stream",
     "text": [
      "+-----------+-------+\n",
      "|   Timezone|  count|\n",
      "+-----------+-------+\n",
      "| US/Eastern|3580167|\n",
      "| US/Pacific|2062984|\n",
      "| US/Central|1645616|\n",
      "|US/Mountain| 431819|\n",
      "+-----------+-------+\n",
      "\n"
     ]
    },
    {
     "name": "stderr",
     "output_type": "stream",
     "text": [
      "                                                                                \r"
     ]
    }
   ],
   "source": [
    "#have to remove the ~8000 rows with null timezone if using date/time in any way\n",
    "df = df.dropna(subset=[\"Timezone\"])\n",
    "df.groupBy('Timezone').count().orderBy(desc(\"count\")).show()"
   ]
  },
  {
   "cell_type": "markdown",
   "metadata": {},
   "source": [
    "# Engineer Weather and Time Columns"
   ]
  },
  {
   "cell_type": "code",
   "execution_count": 8,
   "metadata": {
    "tags": []
   },
   "outputs": [
    {
     "name": "stdout",
     "output_type": "stream",
     "text": [
      "+---+-------+--------+-------------------+-------------------+---------+---------+-------+-------+------------+--------------------+--------------------+------------+----------+-----+----------+-------+----------+------------+-------------------+--------------+-------------+-----------+------------+--------------+--------------+---------------+-----------------+-----------------+-------+-----+--------+--------+--------+-------+-------+----------+-------+-----+---------------+--------------+------------+--------------+--------------+-----------------+---------------------+-----------+-------+\n",
      "| ID| Source|Severity|         Start_Time|           End_Time|Start_Lat|Start_Lng|End_Lat|End_Lng|Distance(mi)|         Description|              Street|        City|    County|State|   Zipcode|Country|  Timezone|Airport_Code|  Weather_Timestamp|Temperature(F)|Wind_Chill(F)|Humidity(%)|Pressure(in)|Visibility(mi)|Wind_Direction|Wind_Speed(mph)|Precipitation(in)|Weather_Condition|Amenity| Bump|Crossing|Give_way|Junction|No_Exit|Railway|Roundabout|Station| Stop|Traffic_Calming|Traffic_Signal|Turning_Loop|Sunrise_Sunset|Civil_Twilight|Nautical_Twilight|Astronomical_Twilight|Day_of_Week|Weekday|\n",
      "+---+-------+--------+-------------------+-------------------+---------+---------+-------+-------+------------+--------------------+--------------------+------------+----------+-----+----------+-------+----------+------------+-------------------+--------------+-------------+-----------+------------+--------------+--------------+---------------+-----------------+-----------------+-------+-----+--------+--------+--------+-------+-------+----------+-------+-----+---------------+--------------+------------+--------------+--------------+-----------------+---------------------+-----------+-------+\n",
      "|A-1|Source2|       3|2016-02-08 05:46:00|2016-02-08 11:00:00|       40|      -84|   NULL|   NULL|           0|Right lane blocke...|              I-70 E|      Dayton|Montgomery|   OH|     45424|     US|US/Eastern|        KFFO|2016-02-08 05:58:00|            37|         NULL|         91|          30|            10|          Calm|           NULL|                0|       Light Rain|  false|false|   false|   false|   false|  false|  false|     false|  false|false|          false|         false|       false|         Night|         Night|            Night|                Night|          2|      1|\n",
      "|A-2|Source2|       2|2016-02-08 06:07:59|2016-02-08 06:37:59|       40|      -83|   NULL|   NULL|           0|Accident on Brice...|            Brice Rd|Reynoldsburg|  Franklin|   OH|43068-3402|     US|US/Eastern|        KCMH|2016-02-08 05:51:00|            38|         NULL|        100|          30|            10|          Calm|           NULL|                0|       Light Rain|  false|false|   false|   false|   false|  false|  false|     false|  false|false|          false|         false|       false|         Night|         Night|            Night|                  Day|          2|      1|\n",
      "|A-3|Source2|       2|2016-02-08 06:49:27|2016-02-08 07:19:27|       39|      -84|   NULL|   NULL|           0|Accident on OH-32...|      State Route 32|Williamsburg|  Clermont|   OH|     45176|     US|US/Eastern|        KI69|2016-02-08 06:56:00|            36|           33|        100|          30|            10|            SW|              4|             NULL|         Overcast|  false|false|   false|   false|   false|  false|  false|     false|  false|false|          false|          true|       false|         Night|         Night|              Day|                  Day|          2|      1|\n",
      "|A-4|Source2|       3|2016-02-08 07:23:34|2016-02-08 07:53:34|       40|      -84|   NULL|   NULL|           0|Accident on I-75 ...|              I-75 S|      Dayton|Montgomery|   OH|     45417|     US|US/Eastern|        KDAY|2016-02-08 07:38:00|            35|           31|         96|          30|             9|            SW|              5|             NULL|    Mostly Cloudy|  false|false|   false|   false|   false|  false|  false|     false|  false|false|          false|         false|       false|         Night|           Day|              Day|                  Day|          2|      1|\n",
      "|A-5|Source2|       2|2016-02-08 07:39:07|2016-02-08 08:09:07|       40|      -84|   NULL|   NULL|           0|Accident on McEwe...|Miamisburg Center...|      Dayton|Montgomery|   OH|     45459|     US|US/Eastern|        KMGY|2016-02-08 07:53:00|            36|           33|         89|          30|             6|            SW|              4|             NULL|    Mostly Cloudy|  false|false|   false|   false|   false|  false|  false|     false|  false|false|          false|          true|       false|           Day|           Day|              Day|                  Day|          2|      1|\n",
      "+---+-------+--------+-------------------+-------------------+---------+---------+-------+-------+------------+--------------------+--------------------+------------+----------+-----+----------+-------+----------+------------+-------------------+--------------+-------------+-----------+------------+--------------+--------------+---------------+-----------------+-----------------+-------+-----+--------+--------+--------+-------+-------+----------+-------+-----+---------------+--------------+------------+--------------+--------------+-----------------+---------------------+-----------+-------+\n",
      "only showing top 5 rows\n",
      "\n"
     ]
    }
   ],
   "source": [
    "# Create Day of the Week Column\n",
    "df = df.withColumn('Day_of_Week', dayofweek(col('Start_Time'))) #Ranges from 1 for a Sunday through to 7 for a Saturday\n",
    "\n",
    "# Create Weekday Column (1 = Weekday, 0 = Weekend)\n",
    "df = df.withColumn(\n",
    "    'Weekday',\n",
    "    F.when(F.col(\"Day_of_Week\").between(2, 6), 1)\\\n",
    "    .otherwise(0))\n",
    "\n",
    "df.show(5)"
   ]
  },
  {
   "cell_type": "code",
   "execution_count": 9,
   "metadata": {
    "tags": []
   },
   "outputs": [
    {
     "name": "stdout",
     "output_type": "stream",
     "text": [
      "+---+-------+--------+-------------------+-------------------+---------+---------+-------+-------+------------+--------------------+--------------------+------------+----------+-----+----------+-------+----------+------------+-------------------+--------------+-------------+-----------+------------+--------------+--------------+---------------+-----------------+-----------------+-------+-----+--------+--------+--------+-------+-------+----------+-------+-----+---------------+--------------+------------+--------------+--------------+-----------------+---------------------+-----------+-------+-----+\n",
      "| ID| Source|Severity|         Start_Time|           End_Time|Start_Lat|Start_Lng|End_Lat|End_Lng|Distance(mi)|         Description|              Street|        City|    County|State|   Zipcode|Country|  Timezone|Airport_Code|  Weather_Timestamp|Temperature(F)|Wind_Chill(F)|Humidity(%)|Pressure(in)|Visibility(mi)|Wind_Direction|Wind_Speed(mph)|Precipitation(in)|Weather_Condition|Amenity| Bump|Crossing|Give_way|Junction|No_Exit|Railway|Roundabout|Station| Stop|Traffic_Calming|Traffic_Signal|Turning_Loop|Sunrise_Sunset|Civil_Twilight|Nautical_Twilight|Astronomical_Twilight|Day_of_Week|Weekday|Month|\n",
      "+---+-------+--------+-------------------+-------------------+---------+---------+-------+-------+------------+--------------------+--------------------+------------+----------+-----+----------+-------+----------+------------+-------------------+--------------+-------------+-----------+------------+--------------+--------------+---------------+-----------------+-----------------+-------+-----+--------+--------+--------+-------+-------+----------+-------+-----+---------------+--------------+------------+--------------+--------------+-----------------+---------------------+-----------+-------+-----+\n",
      "|A-1|Source2|       3|2016-02-08 05:46:00|2016-02-08 11:00:00|       40|      -84|   NULL|   NULL|           0|Right lane blocke...|              I-70 E|      Dayton|Montgomery|   OH|     45424|     US|US/Eastern|        KFFO|2016-02-08 05:58:00|            37|         NULL|         91|          30|            10|          Calm|           NULL|                0|       Light Rain|  false|false|   false|   false|   false|  false|  false|     false|  false|false|          false|         false|       false|         Night|         Night|            Night|                Night|          2|      1|    2|\n",
      "|A-2|Source2|       2|2016-02-08 06:07:59|2016-02-08 06:37:59|       40|      -83|   NULL|   NULL|           0|Accident on Brice...|            Brice Rd|Reynoldsburg|  Franklin|   OH|43068-3402|     US|US/Eastern|        KCMH|2016-02-08 05:51:00|            38|         NULL|        100|          30|            10|          Calm|           NULL|                0|       Light Rain|  false|false|   false|   false|   false|  false|  false|     false|  false|false|          false|         false|       false|         Night|         Night|            Night|                  Day|          2|      1|    2|\n",
      "|A-3|Source2|       2|2016-02-08 06:49:27|2016-02-08 07:19:27|       39|      -84|   NULL|   NULL|           0|Accident on OH-32...|      State Route 32|Williamsburg|  Clermont|   OH|     45176|     US|US/Eastern|        KI69|2016-02-08 06:56:00|            36|           33|        100|          30|            10|            SW|              4|             NULL|         Overcast|  false|false|   false|   false|   false|  false|  false|     false|  false|false|          false|          true|       false|         Night|         Night|              Day|                  Day|          2|      1|    2|\n",
      "|A-4|Source2|       3|2016-02-08 07:23:34|2016-02-08 07:53:34|       40|      -84|   NULL|   NULL|           0|Accident on I-75 ...|              I-75 S|      Dayton|Montgomery|   OH|     45417|     US|US/Eastern|        KDAY|2016-02-08 07:38:00|            35|           31|         96|          30|             9|            SW|              5|             NULL|    Mostly Cloudy|  false|false|   false|   false|   false|  false|  false|     false|  false|false|          false|         false|       false|         Night|           Day|              Day|                  Day|          2|      1|    2|\n",
      "|A-5|Source2|       2|2016-02-08 07:39:07|2016-02-08 08:09:07|       40|      -84|   NULL|   NULL|           0|Accident on McEwe...|Miamisburg Center...|      Dayton|Montgomery|   OH|     45459|     US|US/Eastern|        KMGY|2016-02-08 07:53:00|            36|           33|         89|          30|             6|            SW|              4|             NULL|    Mostly Cloudy|  false|false|   false|   false|   false|  false|  false|     false|  false|false|          false|          true|       false|           Day|           Day|              Day|                  Day|          2|      1|    2|\n",
      "+---+-------+--------+-------------------+-------------------+---------+---------+-------+-------+------------+--------------------+--------------------+------------+----------+-----+----------+-------+----------+------------+-------------------+--------------+-------------+-----------+------------+--------------+--------------+---------------+-----------------+-----------------+-------+-----+--------+--------+--------+-------+-------+----------+-------+-----+---------------+--------------+------------+--------------+--------------+-----------------+---------------------+-----------+-------+-----+\n",
      "only showing top 5 rows\n",
      "\n"
     ]
    }
   ],
   "source": [
    "# Create Month Column\n",
    "df = df.withColumn('Month', month(df['Start_Time']))\n",
    "df.show(5)"
   ]
  },
  {
   "cell_type": "code",
   "execution_count": 10,
   "metadata": {
    "tags": []
   },
   "outputs": [
    {
     "name": "stdout",
     "output_type": "stream",
     "text": [
      "+---+-------+--------+-------------------+-------------------+---------+---------+-------+-------+------------+--------------------+--------------------+------------+----------+-----+----------+-------+----------+------------+-------------------+--------------+-------------+-----------+------------+--------------+--------------+---------------+-----------------+-----------------+-------+-----+--------+--------+--------+-------+-------+----------+-------+-----+---------------+--------------+------------+--------------+--------------+-----------------+---------------------+-----------+-------+-----+------+\n",
      "| ID| Source|Severity|         Start_Time|           End_Time|Start_Lat|Start_Lng|End_Lat|End_Lng|Distance(mi)|         Description|              Street|        City|    County|State|   Zipcode|Country|  Timezone|Airport_Code|  Weather_Timestamp|Temperature(F)|Wind_Chill(F)|Humidity(%)|Pressure(in)|Visibility(mi)|Wind_Direction|Wind_Speed(mph)|Precipitation(in)|Weather_Condition|Amenity| Bump|Crossing|Give_way|Junction|No_Exit|Railway|Roundabout|Station| Stop|Traffic_Calming|Traffic_Signal|Turning_Loop|Sunrise_Sunset|Civil_Twilight|Nautical_Twilight|Astronomical_Twilight|Day_of_Week|Weekday|Month|Season|\n",
      "+---+-------+--------+-------------------+-------------------+---------+---------+-------+-------+------------+--------------------+--------------------+------------+----------+-----+----------+-------+----------+------------+-------------------+--------------+-------------+-----------+------------+--------------+--------------+---------------+-----------------+-----------------+-------+-----+--------+--------+--------+-------+-------+----------+-------+-----+---------------+--------------+------------+--------------+--------------+-----------------+---------------------+-----------+-------+-----+------+\n",
      "|A-1|Source2|       3|2016-02-08 05:46:00|2016-02-08 11:00:00|       40|      -84|   NULL|   NULL|           0|Right lane blocke...|              I-70 E|      Dayton|Montgomery|   OH|     45424|     US|US/Eastern|        KFFO|2016-02-08 05:58:00|            37|         NULL|         91|          30|            10|          Calm|           NULL|                0|       Light Rain|  false|false|   false|   false|   false|  false|  false|     false|  false|false|          false|         false|       false|         Night|         Night|            Night|                Night|          2|      1|    2|Winter|\n",
      "|A-2|Source2|       2|2016-02-08 06:07:59|2016-02-08 06:37:59|       40|      -83|   NULL|   NULL|           0|Accident on Brice...|            Brice Rd|Reynoldsburg|  Franklin|   OH|43068-3402|     US|US/Eastern|        KCMH|2016-02-08 05:51:00|            38|         NULL|        100|          30|            10|          Calm|           NULL|                0|       Light Rain|  false|false|   false|   false|   false|  false|  false|     false|  false|false|          false|         false|       false|         Night|         Night|            Night|                  Day|          2|      1|    2|Winter|\n",
      "|A-3|Source2|       2|2016-02-08 06:49:27|2016-02-08 07:19:27|       39|      -84|   NULL|   NULL|           0|Accident on OH-32...|      State Route 32|Williamsburg|  Clermont|   OH|     45176|     US|US/Eastern|        KI69|2016-02-08 06:56:00|            36|           33|        100|          30|            10|            SW|              4|             NULL|         Overcast|  false|false|   false|   false|   false|  false|  false|     false|  false|false|          false|          true|       false|         Night|         Night|              Day|                  Day|          2|      1|    2|Winter|\n",
      "|A-4|Source2|       3|2016-02-08 07:23:34|2016-02-08 07:53:34|       40|      -84|   NULL|   NULL|           0|Accident on I-75 ...|              I-75 S|      Dayton|Montgomery|   OH|     45417|     US|US/Eastern|        KDAY|2016-02-08 07:38:00|            35|           31|         96|          30|             9|            SW|              5|             NULL|    Mostly Cloudy|  false|false|   false|   false|   false|  false|  false|     false|  false|false|          false|         false|       false|         Night|           Day|              Day|                  Day|          2|      1|    2|Winter|\n",
      "|A-5|Source2|       2|2016-02-08 07:39:07|2016-02-08 08:09:07|       40|      -84|   NULL|   NULL|           0|Accident on McEwe...|Miamisburg Center...|      Dayton|Montgomery|   OH|     45459|     US|US/Eastern|        KMGY|2016-02-08 07:53:00|            36|           33|         89|          30|             6|            SW|              4|             NULL|    Mostly Cloudy|  false|false|   false|   false|   false|  false|  false|     false|  false|false|          false|          true|       false|           Day|           Day|              Day|                  Day|          2|      1|    2|Winter|\n",
      "+---+-------+--------+-------------------+-------------------+---------+---------+-------+-------+------------+--------------------+--------------------+------------+----------+-----+----------+-------+----------+------------+-------------------+--------------+-------------+-----------+------------+--------------+--------------+---------------+-----------------+-----------------+-------+-----+--------+--------+--------+-------+-------+----------+-------+-----+---------------+--------------+------------+--------------+--------------+-----------------+---------------------+-----------+-------+-----+------+\n",
      "only showing top 5 rows\n",
      "\n"
     ]
    }
   ],
   "source": [
    "# Create Season Column\n",
    "df = df.withColumn(\n",
    "    'Season',\n",
    "    F.when(F.col(\"Month\").between(3, 5), 'Spring')\\\n",
    "    .when(F.col(\"Month\").between(6, 8), 'Summer')\\\n",
    "    .when(F.col(\"Month\").between(9, 11), 'Fall')\\\n",
    "    .otherwise('Winter'))\n",
    "df.show(5)"
   ]
  },
  {
   "cell_type": "code",
   "execution_count": 11,
   "metadata": {
    "tags": []
   },
   "outputs": [
    {
     "name": "stdout",
     "output_type": "stream",
     "text": [
      "+---+-------+--------+-------------------+-------------------+---------+---------+-------+-------+------------+--------------------+--------------------+------------+----------+-----+----------+-------+----------+------------+-------------------+--------------+-------------+-----------+------------+--------------+--------------+---------------+-----------------+-----------------+-------+-----+--------+--------+--------+-------+-------+----------+-------+-----+---------------+--------------+------------+--------------+--------------+-----------------+---------------------+-----------+-------+-----+------+---------------+\n",
      "| ID| Source|Severity|         Start_Time|           End_Time|Start_Lat|Start_Lng|End_Lat|End_Lng|Distance(mi)|         Description|              Street|        City|    County|State|   Zipcode|Country|  Timezone|Airport_Code|  Weather_Timestamp|Temperature(F)|Wind_Chill(F)|Humidity(%)|Pressure(in)|Visibility(mi)|Wind_Direction|Wind_Speed(mph)|Precipitation(in)|Weather_Condition|Amenity| Bump|Crossing|Give_way|Junction|No_Exit|Railway|Roundabout|Station| Stop|Traffic_Calming|Traffic_Signal|Turning_Loop|Sunrise_Sunset|Civil_Twilight|Nautical_Twilight|Astronomical_Twilight|Day_of_Week|Weekday|Month|Season|Start_Time_Time|\n",
      "+---+-------+--------+-------------------+-------------------+---------+---------+-------+-------+------------+--------------------+--------------------+------------+----------+-----+----------+-------+----------+------------+-------------------+--------------+-------------+-----------+------------+--------------+--------------+---------------+-----------------+-----------------+-------+-----+--------+--------+--------+-------+-------+----------+-------+-----+---------------+--------------+------------+--------------+--------------+-----------------+---------------------+-----------+-------+-----+------+---------------+\n",
      "|A-1|Source2|       3|2016-02-08 05:46:00|2016-02-08 11:00:00|       40|      -84|   NULL|   NULL|           0|Right lane blocke...|              I-70 E|      Dayton|Montgomery|   OH|     45424|     US|US/Eastern|        KFFO|2016-02-08 05:58:00|            37|         NULL|         91|          30|            10|          Calm|           NULL|                0|       Light Rain|  false|false|   false|   false|   false|  false|  false|     false|  false|false|          false|         false|       false|         Night|         Night|            Night|                Night|          2|      1|    2|Winter|       05:46:00|\n",
      "|A-2|Source2|       2|2016-02-08 06:07:59|2016-02-08 06:37:59|       40|      -83|   NULL|   NULL|           0|Accident on Brice...|            Brice Rd|Reynoldsburg|  Franklin|   OH|43068-3402|     US|US/Eastern|        KCMH|2016-02-08 05:51:00|            38|         NULL|        100|          30|            10|          Calm|           NULL|                0|       Light Rain|  false|false|   false|   false|   false|  false|  false|     false|  false|false|          false|         false|       false|         Night|         Night|            Night|                  Day|          2|      1|    2|Winter|       06:07:59|\n",
      "|A-3|Source2|       2|2016-02-08 06:49:27|2016-02-08 07:19:27|       39|      -84|   NULL|   NULL|           0|Accident on OH-32...|      State Route 32|Williamsburg|  Clermont|   OH|     45176|     US|US/Eastern|        KI69|2016-02-08 06:56:00|            36|           33|        100|          30|            10|            SW|              4|             NULL|         Overcast|  false|false|   false|   false|   false|  false|  false|     false|  false|false|          false|          true|       false|         Night|         Night|              Day|                  Day|          2|      1|    2|Winter|       06:49:27|\n",
      "|A-4|Source2|       3|2016-02-08 07:23:34|2016-02-08 07:53:34|       40|      -84|   NULL|   NULL|           0|Accident on I-75 ...|              I-75 S|      Dayton|Montgomery|   OH|     45417|     US|US/Eastern|        KDAY|2016-02-08 07:38:00|            35|           31|         96|          30|             9|            SW|              5|             NULL|    Mostly Cloudy|  false|false|   false|   false|   false|  false|  false|     false|  false|false|          false|         false|       false|         Night|           Day|              Day|                  Day|          2|      1|    2|Winter|       07:23:34|\n",
      "|A-5|Source2|       2|2016-02-08 07:39:07|2016-02-08 08:09:07|       40|      -84|   NULL|   NULL|           0|Accident on McEwe...|Miamisburg Center...|      Dayton|Montgomery|   OH|     45459|     US|US/Eastern|        KMGY|2016-02-08 07:53:00|            36|           33|         89|          30|             6|            SW|              4|             NULL|    Mostly Cloudy|  false|false|   false|   false|   false|  false|  false|     false|  false|false|          false|          true|       false|           Day|           Day|              Day|                  Day|          2|      1|    2|Winter|       07:39:07|\n",
      "+---+-------+--------+-------------------+-------------------+---------+---------+-------+-------+------------+--------------------+--------------------+------------+----------+-----+----------+-------+----------+------------+-------------------+--------------+-------------+-----------+------------+--------------+--------------+---------------+-----------------+-----------------+-------+-----+--------+--------+--------+-------+-------+----------+-------+-----+---------------+--------------+------------+--------------+--------------+-----------------+---------------------+-----------+-------+-----+------+---------------+\n",
      "only showing top 5 rows\n",
      "\n",
      "+---+-------+--------+-------------------+-------------------+---------+---------+-------+-------+------------+--------------------+--------------------+------------+----------+-----+----------+-------+----------+------------+-------------------+--------------+-------------+-----------+------------+--------------+--------------+---------------+-----------------+-----------------+-------+-----+--------+--------+--------+-------+-------+----------+-------+-----+---------------+--------------+------------+--------------+--------------+-----------------+---------------------+-----------+-------+-----+------+---------------+---------+\n",
      "| ID| Source|Severity|         Start_Time|           End_Time|Start_Lat|Start_Lng|End_Lat|End_Lng|Distance(mi)|         Description|              Street|        City|    County|State|   Zipcode|Country|  Timezone|Airport_Code|  Weather_Timestamp|Temperature(F)|Wind_Chill(F)|Humidity(%)|Pressure(in)|Visibility(mi)|Wind_Direction|Wind_Speed(mph)|Precipitation(in)|Weather_Condition|Amenity| Bump|Crossing|Give_way|Junction|No_Exit|Railway|Roundabout|Station| Stop|Traffic_Calming|Traffic_Signal|Turning_Loop|Sunrise_Sunset|Civil_Twilight|Nautical_Twilight|Astronomical_Twilight|Day_of_Week|Weekday|Month|Season|Start_Time_Time|Rush Hour|\n",
      "+---+-------+--------+-------------------+-------------------+---------+---------+-------+-------+------------+--------------------+--------------------+------------+----------+-----+----------+-------+----------+------------+-------------------+--------------+-------------+-----------+------------+--------------+--------------+---------------+-----------------+-----------------+-------+-----+--------+--------+--------+-------+-------+----------+-------+-----+---------------+--------------+------------+--------------+--------------+-----------------+---------------------+-----------+-------+-----+------+---------------+---------+\n",
      "|A-1|Source2|       3|2016-02-08 05:46:00|2016-02-08 11:00:00|       40|      -84|   NULL|   NULL|           0|Right lane blocke...|              I-70 E|      Dayton|Montgomery|   OH|     45424|     US|US/Eastern|        KFFO|2016-02-08 05:58:00|            37|         NULL|         91|          30|            10|          Calm|           NULL|                0|       Light Rain|  false|false|   false|   false|   false|  false|  false|     false|  false|false|          false|         false|       false|         Night|         Night|            Night|                Night|          2|      1|    2|Winter|       05:46:00|        0|\n",
      "|A-2|Source2|       2|2016-02-08 06:07:59|2016-02-08 06:37:59|       40|      -83|   NULL|   NULL|           0|Accident on Brice...|            Brice Rd|Reynoldsburg|  Franklin|   OH|43068-3402|     US|US/Eastern|        KCMH|2016-02-08 05:51:00|            38|         NULL|        100|          30|            10|          Calm|           NULL|                0|       Light Rain|  false|false|   false|   false|   false|  false|  false|     false|  false|false|          false|         false|       false|         Night|         Night|            Night|                  Day|          2|      1|    2|Winter|       06:07:59|        1|\n",
      "|A-3|Source2|       2|2016-02-08 06:49:27|2016-02-08 07:19:27|       39|      -84|   NULL|   NULL|           0|Accident on OH-32...|      State Route 32|Williamsburg|  Clermont|   OH|     45176|     US|US/Eastern|        KI69|2016-02-08 06:56:00|            36|           33|        100|          30|            10|            SW|              4|             NULL|         Overcast|  false|false|   false|   false|   false|  false|  false|     false|  false|false|          false|          true|       false|         Night|         Night|              Day|                  Day|          2|      1|    2|Winter|       06:49:27|        1|\n",
      "|A-4|Source2|       3|2016-02-08 07:23:34|2016-02-08 07:53:34|       40|      -84|   NULL|   NULL|           0|Accident on I-75 ...|              I-75 S|      Dayton|Montgomery|   OH|     45417|     US|US/Eastern|        KDAY|2016-02-08 07:38:00|            35|           31|         96|          30|             9|            SW|              5|             NULL|    Mostly Cloudy|  false|false|   false|   false|   false|  false|  false|     false|  false|false|          false|         false|       false|         Night|           Day|              Day|                  Day|          2|      1|    2|Winter|       07:23:34|        1|\n",
      "|A-5|Source2|       2|2016-02-08 07:39:07|2016-02-08 08:09:07|       40|      -84|   NULL|   NULL|           0|Accident on McEwe...|Miamisburg Center...|      Dayton|Montgomery|   OH|     45459|     US|US/Eastern|        KMGY|2016-02-08 07:53:00|            36|           33|         89|          30|             6|            SW|              4|             NULL|    Mostly Cloudy|  false|false|   false|   false|   false|  false|  false|     false|  false|false|          false|          true|       false|           Day|           Day|              Day|                  Day|          2|      1|    2|Winter|       07:39:07|        1|\n",
      "+---+-------+--------+-------------------+-------------------+---------+---------+-------+-------+------------+--------------------+--------------------+------------+----------+-----+----------+-------+----------+------------+-------------------+--------------+-------------+-----------+------------+--------------+--------------+---------------+-----------------+-----------------+-------+-----+--------+--------+--------+-------+-------+----------+-------+-----+---------------+--------------+------------+--------------+--------------+-----------------+---------------------+-----------+-------+-----+------+---------------+---------+\n",
      "only showing top 5 rows\n",
      "\n"
     ]
    }
   ],
   "source": [
    "# Create Rush Hour Column\n",
    "# defined as 6-9am and 4-7pm (https://www.goldlaw.com/how-deadly-is-rush-hour/)\n",
    "df = df.withColumn('Start_Time_Time', date_format('Start_Time', 'HH:mm:ss'))\n",
    "df.show(5)\n",
    "df = df.withColumn(\n",
    "    'Rush Hour',\n",
    "    F.when(F.col('Start_Time_Time').between('06:00:00', '09:00:00'), 1)\\\n",
    "    .when(F.col('Start_Time_Time').between('16:00:00', '19:00:00'), 1)\\\n",
    "    .otherwise(0))\n",
    "df.show(5)"
   ]
  },
  {
   "cell_type": "raw",
   "metadata": {
    "tags": []
   },
   "source": [
    "#Create list of holiday dates for span of data (2016-2023)\n",
    "df = df.withColumn('Start_Date_Date', date_format('Start_Time', 'yyyy-MM-dd')) # Create Date Column from Start Date\n",
    "\n",
    "h = []\n",
    "for ptr in holidays.UnitedStates(years = [2016,2017,2018,2019,2020,2021,2022,2023]).items(): \n",
    "    h.append(ptr[0].strftime(\"%Y-%m-%d\"))\n",
    "\n",
    "# Create Holiday column    \n",
    "df = df.withColumn(\n",
    "    'Holiday',\n",
    "    F.when(array_contains(lit(h), F.col(\"Start_Date_Date\")), 1)\\\n",
    "    .otherwise(0))\n",
    "df.show(5) "
   ]
  },
  {
   "cell_type": "code",
   "execution_count": 12,
   "metadata": {
    "tags": []
   },
   "outputs": [
    {
     "name": "stdout",
     "output_type": "stream",
     "text": [
      "+---+-------+--------+-------------------+-------------------+---------+---------+-------+-------+------------+--------------------+--------------------+------------+----------+-----+----------+-------+----------+------------+-------------------+--------------+-------------+-----------+------------+--------------+--------------+---------------+-----------------+-----------------+-------+-----+--------+--------+--------+-------+-------+----------+-------+-----+---------------+--------------+------------+--------------+--------------+-----------------+---------------------+-----------+-------+-----+------+---------------+---------+----+----+\n",
      "| ID| Source|Severity|         Start_Time|           End_Time|Start_Lat|Start_Lng|End_Lat|End_Lng|Distance(mi)|         Description|              Street|        City|    County|State|   Zipcode|Country|  Timezone|Airport_Code|  Weather_Timestamp|Temperature(F)|Wind_Chill(F)|Humidity(%)|Pressure(in)|Visibility(mi)|Wind_Direction|Wind_Speed(mph)|Precipitation(in)|Weather_Condition|Amenity| Bump|Crossing|Give_way|Junction|No_Exit|Railway|Roundabout|Station| Stop|Traffic_Calming|Traffic_Signal|Turning_Loop|Sunrise_Sunset|Civil_Twilight|Nautical_Twilight|Astronomical_Twilight|Day_of_Week|Weekday|Month|Season|Start_Time_Time|Rush Hour|Rain|Snow|\n",
      "+---+-------+--------+-------------------+-------------------+---------+---------+-------+-------+------------+--------------------+--------------------+------------+----------+-----+----------+-------+----------+------------+-------------------+--------------+-------------+-----------+------------+--------------+--------------+---------------+-----------------+-----------------+-------+-----+--------+--------+--------+-------+-------+----------+-------+-----+---------------+--------------+------------+--------------+--------------+-----------------+---------------------+-----------+-------+-----+------+---------------+---------+----+----+\n",
      "|A-1|Source2|       3|2016-02-08 05:46:00|2016-02-08 11:00:00|       40|      -84|   NULL|   NULL|           0|Right lane blocke...|              I-70 E|      Dayton|Montgomery|   OH|     45424|     US|US/Eastern|        KFFO|2016-02-08 05:58:00|            37|         NULL|         91|          30|            10|          Calm|           NULL|                0|       Light Rain|  false|false|   false|   false|   false|  false|  false|     false|  false|false|          false|         false|       false|         Night|         Night|            Night|                Night|          2|      1|    2|Winter|       05:46:00|        0|   1|   0|\n",
      "|A-2|Source2|       2|2016-02-08 06:07:59|2016-02-08 06:37:59|       40|      -83|   NULL|   NULL|           0|Accident on Brice...|            Brice Rd|Reynoldsburg|  Franklin|   OH|43068-3402|     US|US/Eastern|        KCMH|2016-02-08 05:51:00|            38|         NULL|        100|          30|            10|          Calm|           NULL|                0|       Light Rain|  false|false|   false|   false|   false|  false|  false|     false|  false|false|          false|         false|       false|         Night|         Night|            Night|                  Day|          2|      1|    2|Winter|       06:07:59|        1|   1|   0|\n",
      "|A-3|Source2|       2|2016-02-08 06:49:27|2016-02-08 07:19:27|       39|      -84|   NULL|   NULL|           0|Accident on OH-32...|      State Route 32|Williamsburg|  Clermont|   OH|     45176|     US|US/Eastern|        KI69|2016-02-08 06:56:00|            36|           33|        100|          30|            10|            SW|              4|             NULL|         Overcast|  false|false|   false|   false|   false|  false|  false|     false|  false|false|          false|          true|       false|         Night|         Night|              Day|                  Day|          2|      1|    2|Winter|       06:49:27|        1|   0|   0|\n",
      "|A-4|Source2|       3|2016-02-08 07:23:34|2016-02-08 07:53:34|       40|      -84|   NULL|   NULL|           0|Accident on I-75 ...|              I-75 S|      Dayton|Montgomery|   OH|     45417|     US|US/Eastern|        KDAY|2016-02-08 07:38:00|            35|           31|         96|          30|             9|            SW|              5|             NULL|    Mostly Cloudy|  false|false|   false|   false|   false|  false|  false|     false|  false|false|          false|         false|       false|         Night|           Day|              Day|                  Day|          2|      1|    2|Winter|       07:23:34|        1|   0|   0|\n",
      "|A-5|Source2|       2|2016-02-08 07:39:07|2016-02-08 08:09:07|       40|      -84|   NULL|   NULL|           0|Accident on McEwe...|Miamisburg Center...|      Dayton|Montgomery|   OH|     45459|     US|US/Eastern|        KMGY|2016-02-08 07:53:00|            36|           33|         89|          30|             6|            SW|              4|             NULL|    Mostly Cloudy|  false|false|   false|   false|   false|  false|  false|     false|  false|false|          false|          true|       false|           Day|           Day|              Day|                  Day|          2|      1|    2|Winter|       07:39:07|        1|   0|   0|\n",
      "+---+-------+--------+-------------------+-------------------+---------+---------+-------+-------+------------+--------------------+--------------------+------------+----------+-----+----------+-------+----------+------------+-------------------+--------------+-------------+-----------+------------+--------------+--------------+---------------+-----------------+-----------------+-------+-----+--------+--------+--------+-------+-------+----------+-------+-----+---------------+--------------+------------+--------------+--------------+-----------------+---------------------+-----------+-------+-----+------+---------------+---------+----+----+\n",
      "only showing top 5 rows\n",
      "\n"
     ]
    }
   ],
   "source": [
    "# Create columns for rain and snow from weather_condition column\n",
    "\n",
    "rain_values = ['Rain', 'Drizzle', 'Mist', 'N/A Precipitation']\n",
    "snow_values = ['Ice', 'Snow', 'Hail', 'Sleet', 'Wintry Mix', 'Freezing Rain', 'Freezing Drizzle']\n",
    "\n",
    "condition = F.when(F.col('Weather_Condition').rlike(\"|\".join(rain_values)), 1).otherwise(0)\n",
    "df = df.withColumn(\"Rain\", condition)\n",
    "\n",
    "condition = F.when(F.col('Weather_Condition').rlike(\"|\".join(snow_values)), 1).otherwise(0)\n",
    "df = df.withColumn(\"Snow\", condition)\n",
    "\n",
    "df.show(5)"
   ]
  },
  {
   "cell_type": "markdown",
   "metadata": {},
   "source": [
    "# Encoding Categorical Variables"
   ]
  },
  {
   "cell_type": "code",
   "execution_count": 13,
   "metadata": {
    "tags": []
   },
   "outputs": [
    {
     "name": "stderr",
     "output_type": "stream",
     "text": [
      "                                                                                \r"
     ]
    },
    {
     "name": "stdout",
     "output_type": "stream",
     "text": [
      "+---+-------+--------+-------------------+-------------------+---------+---------+-------+-------+------------+--------------------+--------------------+------------+----------+-----+----------+-------+----------+------------+-------------------+--------------+-------------+-----------+------------+--------------+--------------+---------------+-----------------+-----------------+-------+-----+--------+--------+--------+-------+-------+----------+-------+-----+---------------+--------------+------------+--------------+--------------+-----------------+---------------------+-----------+-------+-----+------+---------------+---------+----+----+-----------+-------------+\n",
      "| ID| Source|Severity|         Start_Time|           End_Time|Start_Lat|Start_Lng|End_Lat|End_Lng|Distance(mi)|         Description|              Street|        City|    County|State|   Zipcode|Country|  Timezone|Airport_Code|  Weather_Timestamp|Temperature(F)|Wind_Chill(F)|Humidity(%)|Pressure(in)|Visibility(mi)|Wind_Direction|Wind_Speed(mph)|Precipitation(in)|Weather_Condition|Amenity| Bump|Crossing|Give_way|Junction|No_Exit|Railway|Roundabout|Station| Stop|Traffic_Calming|Traffic_Signal|Turning_Loop|Sunrise_Sunset|Civil_Twilight|Nautical_Twilight|Astronomical_Twilight|Day_of_Week|Weekday|Month|Season|Start_Time_Time|Rush Hour|Rain|Snow|SeasonIndex|    SeasonVec|\n",
      "+---+-------+--------+-------------------+-------------------+---------+---------+-------+-------+------------+--------------------+--------------------+------------+----------+-----+----------+-------+----------+------------+-------------------+--------------+-------------+-----------+------------+--------------+--------------+---------------+-----------------+-----------------+-------+-----+--------+--------+--------+-------+-------+----------+-------+-----+---------------+--------------+------------+--------------+--------------+-----------------+---------------------+-----------+-------+-----+------+---------------+---------+----+----+-----------+-------------+\n",
      "|A-1|Source2|       3|2016-02-08 05:46:00|2016-02-08 11:00:00|       40|      -84|   NULL|   NULL|           0|Right lane blocke...|              I-70 E|      Dayton|Montgomery|   OH|     45424|     US|US/Eastern|        KFFO|2016-02-08 05:58:00|            37|         NULL|         91|          30|            10|          Calm|           NULL|                0|       Light Rain|  false|false|   false|   false|   false|  false|  false|     false|  false|false|          false|         false|       false|         Night|         Night|            Night|                Night|          2|      1|    2|Winter|       05:46:00|        0|   1|   0|        0.0|(3,[0],[1.0])|\n",
      "|A-2|Source2|       2|2016-02-08 06:07:59|2016-02-08 06:37:59|       40|      -83|   NULL|   NULL|           0|Accident on Brice...|            Brice Rd|Reynoldsburg|  Franklin|   OH|43068-3402|     US|US/Eastern|        KCMH|2016-02-08 05:51:00|            38|         NULL|        100|          30|            10|          Calm|           NULL|                0|       Light Rain|  false|false|   false|   false|   false|  false|  false|     false|  false|false|          false|         false|       false|         Night|         Night|            Night|                  Day|          2|      1|    2|Winter|       06:07:59|        1|   1|   0|        0.0|(3,[0],[1.0])|\n",
      "|A-3|Source2|       2|2016-02-08 06:49:27|2016-02-08 07:19:27|       39|      -84|   NULL|   NULL|           0|Accident on OH-32...|      State Route 32|Williamsburg|  Clermont|   OH|     45176|     US|US/Eastern|        KI69|2016-02-08 06:56:00|            36|           33|        100|          30|            10|            SW|              4|             NULL|         Overcast|  false|false|   false|   false|   false|  false|  false|     false|  false|false|          false|          true|       false|         Night|         Night|              Day|                  Day|          2|      1|    2|Winter|       06:49:27|        1|   0|   0|        0.0|(3,[0],[1.0])|\n",
      "|A-4|Source2|       3|2016-02-08 07:23:34|2016-02-08 07:53:34|       40|      -84|   NULL|   NULL|           0|Accident on I-75 ...|              I-75 S|      Dayton|Montgomery|   OH|     45417|     US|US/Eastern|        KDAY|2016-02-08 07:38:00|            35|           31|         96|          30|             9|            SW|              5|             NULL|    Mostly Cloudy|  false|false|   false|   false|   false|  false|  false|     false|  false|false|          false|         false|       false|         Night|           Day|              Day|                  Day|          2|      1|    2|Winter|       07:23:34|        1|   0|   0|        0.0|(3,[0],[1.0])|\n",
      "|A-5|Source2|       2|2016-02-08 07:39:07|2016-02-08 08:09:07|       40|      -84|   NULL|   NULL|           0|Accident on McEwe...|Miamisburg Center...|      Dayton|Montgomery|   OH|     45459|     US|US/Eastern|        KMGY|2016-02-08 07:53:00|            36|           33|         89|          30|             6|            SW|              4|             NULL|    Mostly Cloudy|  false|false|   false|   false|   false|  false|  false|     false|  false|false|          false|          true|       false|           Day|           Day|              Day|                  Day|          2|      1|    2|Winter|       07:39:07|        1|   0|   0|        0.0|(3,[0],[1.0])|\n",
      "+---+-------+--------+-------------------+-------------------+---------+---------+-------+-------+------------+--------------------+--------------------+------------+----------+-----+----------+-------+----------+------------+-------------------+--------------+-------------+-----------+------------+--------------+--------------+---------------+-----------------+-----------------+-------+-----+--------+--------+--------+-------+-------+----------+-------+-----+---------------+--------------+------------+--------------+--------------+-----------------+---------------------+-----------+-------+-----+------+---------------+---------+----+----+-----------+-------------+\n",
      "only showing top 5 rows\n",
      "\n"
     ]
    }
   ],
   "source": [
    "# Encode Season\n",
    "\n",
    "# StringIndexer\n",
    "indexer = StringIndexer(inputCol=\"Season\", outputCol=\"SeasonIndex\")\n",
    "indexed = indexer.fit(df).transform(df)\n",
    "\n",
    "# OneHotEncoder\n",
    "encoder = OneHotEncoder(inputCols=[\"SeasonIndex\"], outputCols=[\"SeasonVec\"])\n",
    "df = encoder.fit(indexed).transform(indexed)\n",
    "\n",
    "# Show the result\n",
    "df.show(5)"
   ]
  },
  {
   "cell_type": "code",
   "execution_count": 14,
   "metadata": {
    "tags": []
   },
   "outputs": [
    {
     "name": "stderr",
     "output_type": "stream",
     "text": [
      "                                                                                \r"
     ]
    },
    {
     "name": "stdout",
     "output_type": "stream",
     "text": [
      "+----+-------+--------+-------------------+-------------------+---------+---------+-------+-------+------------+--------------------+--------------------+------------+----------+-----+----------+-------+----------+------------+-------------------+--------------+-------------+-----------+------------+--------------+--------------+---------------+-----------------+-----------------+-------+-----+--------+--------+--------+-------+-------+----------+-------+-----+---------------+--------------+------------+--------------+--------------+-----------------+---------------------+-----------+-------+-----+------+---------------+---------+----+----+-----------+-------------+-------------------+-------------------+----------------------+--------------------------+\n",
      "|  ID| Source|Severity|         Start_Time|           End_Time|Start_Lat|Start_Lng|End_Lat|End_Lng|Distance(mi)|         Description|              Street|        City|    County|State|   Zipcode|Country|  Timezone|Airport_Code|  Weather_Timestamp|Temperature(F)|Wind_Chill(F)|Humidity(%)|Pressure(in)|Visibility(mi)|Wind_Direction|Wind_Speed(mph)|Precipitation(in)|Weather_Condition|Amenity| Bump|Crossing|Give_way|Junction|No_Exit|Railway|Roundabout|Station| Stop|Traffic_Calming|Traffic_Signal|Turning_Loop|Sunrise_Sunset|Civil_Twilight|Nautical_Twilight|Astronomical_Twilight|Day_of_Week|Weekday|Month|Season|Start_Time_Time|Rush Hour|Rain|Snow|SeasonIndex|    SeasonVec|Sunrise_SunsetIndex|Civil_TwilightIndex|Nautical_TwilightIndex|Astronomical_TwilightIndex|\n",
      "+----+-------+--------+-------------------+-------------------+---------+---------+-------+-------+------------+--------------------+--------------------+------------+----------+-----+----------+-------+----------+------------+-------------------+--------------+-------------+-----------+------------+--------------+--------------+---------------+-----------------+-----------------+-------+-----+--------+--------+--------+-------+-------+----------+-------+-----+---------------+--------------+------------+--------------+--------------+-----------------+---------------------+-----------+-------+-----+------+---------------+---------+----+----+-----------+-------------+-------------------+-------------------+----------------------+--------------------------+\n",
      "| A-1|Source2|       3|2016-02-08 05:46:00|2016-02-08 11:00:00|       40|      -84|   NULL|   NULL|           0|Right lane blocke...|              I-70 E|      Dayton|Montgomery|   OH|     45424|     US|US/Eastern|        KFFO|2016-02-08 05:58:00|            37|         NULL|         91|          30|            10|          Calm|           NULL|                0|       Light Rain|  false|false|   false|   false|   false|  false|  false|     false|  false|false|          false|         false|       false|         Night|         Night|            Night|                Night|          2|      1|    2|Winter|       05:46:00|        0|   1|   0|        0.0|(3,[0],[1.0])|                  1|                  1|                     1|                         1|\n",
      "| A-2|Source2|       2|2016-02-08 06:07:59|2016-02-08 06:37:59|       40|      -83|   NULL|   NULL|           0|Accident on Brice...|            Brice Rd|Reynoldsburg|  Franklin|   OH|43068-3402|     US|US/Eastern|        KCMH|2016-02-08 05:51:00|            38|         NULL|        100|          30|            10|          Calm|           NULL|                0|       Light Rain|  false|false|   false|   false|   false|  false|  false|     false|  false|false|          false|         false|       false|         Night|         Night|            Night|                  Day|          2|      1|    2|Winter|       06:07:59|        1|   1|   0|        0.0|(3,[0],[1.0])|                  1|                  1|                     1|                         0|\n",
      "| A-3|Source2|       2|2016-02-08 06:49:27|2016-02-08 07:19:27|       39|      -84|   NULL|   NULL|           0|Accident on OH-32...|      State Route 32|Williamsburg|  Clermont|   OH|     45176|     US|US/Eastern|        KI69|2016-02-08 06:56:00|            36|           33|        100|          30|            10|            SW|              4|             NULL|         Overcast|  false|false|   false|   false|   false|  false|  false|     false|  false|false|          false|          true|       false|         Night|         Night|              Day|                  Day|          2|      1|    2|Winter|       06:49:27|        1|   0|   0|        0.0|(3,[0],[1.0])|                  1|                  1|                     0|                         0|\n",
      "| A-4|Source2|       3|2016-02-08 07:23:34|2016-02-08 07:53:34|       40|      -84|   NULL|   NULL|           0|Accident on I-75 ...|              I-75 S|      Dayton|Montgomery|   OH|     45417|     US|US/Eastern|        KDAY|2016-02-08 07:38:00|            35|           31|         96|          30|             9|            SW|              5|             NULL|    Mostly Cloudy|  false|false|   false|   false|   false|  false|  false|     false|  false|false|          false|         false|       false|         Night|           Day|              Day|                  Day|          2|      1|    2|Winter|       07:23:34|        1|   0|   0|        0.0|(3,[0],[1.0])|                  1|                  0|                     0|                         0|\n",
      "| A-5|Source2|       2|2016-02-08 07:39:07|2016-02-08 08:09:07|       40|      -84|   NULL|   NULL|           0|Accident on McEwe...|Miamisburg Center...|      Dayton|Montgomery|   OH|     45459|     US|US/Eastern|        KMGY|2016-02-08 07:53:00|            36|           33|         89|          30|             6|            SW|              4|             NULL|    Mostly Cloudy|  false|false|   false|   false|   false|  false|  false|     false|  false|false|          false|          true|       false|           Day|           Day|              Day|                  Day|          2|      1|    2|Winter|       07:39:07|        1|   0|   0|        0.0|(3,[0],[1.0])|                  0|                  0|                     0|                         0|\n",
      "| A-6|Source2|       3|2016-02-08 07:44:26|2016-02-08 08:14:26|       40|      -83|   NULL|   NULL|           0|Accident on I-270...|      Westerville Rd| Westerville|  Franklin|   OH|     43081|     US|US/Eastern|        KCMH|2016-02-08 07:51:00|            38|           36|         97|          30|             7|           SSW|              4|                0|       Light Rain|  false|false|   false|   false|   false|  false|  false|     false|  false|false|          false|         false|       false|           Day|           Day|              Day|                  Day|          2|      1|    2|Winter|       07:44:26|        1|   1|   0|        0.0|(3,[0],[1.0])|                  0|                  0|                     0|                         0|\n",
      "| A-7|Source2|       2|2016-02-08 07:59:35|2016-02-08 08:29:35|       40|      -84|   NULL|   NULL|           0|Accident on Oakri...|      N Woodward Ave|      Dayton|Montgomery|   OH|45417-2476|     US|US/Eastern|        KDAY|2016-02-08 07:56:00|            34|           31|        100|          30|             7|           WSW|              4|             NULL|         Overcast|  false|false|   false|   false|   false|  false|  false|     false|  false|false|          false|         false|       false|           Day|           Day|              Day|                  Day|          2|      1|    2|Winter|       07:59:35|        1|   0|   0|        0.0|(3,[0],[1.0])|                  0|                  0|                     0|                         0|\n",
      "| A-8|Source2|       3|2016-02-08 07:59:58|2016-02-08 08:29:58|       40|      -84|   NULL|   NULL|           0|Accident on I-75 ...|           N Main St|      Dayton|Montgomery|   OH|     45405|     US|US/Eastern|        KDAY|2016-02-08 07:56:00|            34|           31|        100|          30|             7|           WSW|              4|             NULL|         Overcast|  false|false|   false|   false|   false|  false|  false|     false|  false|false|          false|         false|       false|           Day|           Day|              Day|                  Day|          2|      1|    2|Winter|       07:59:58|        1|   0|   0|        0.0|(3,[0],[1.0])|                  0|                  0|                     0|                         0|\n",
      "| A-9|Source2|       2|2016-02-08 08:00:40|2016-02-08 08:30:40|       40|      -84|   NULL|   NULL|           0|Accident on Notre...|      Notre Dame Ave|      Dayton|Montgomery|   OH|45404-1923|     US|US/Eastern|        KFFO|2016-02-08 07:58:00|            33|         NULL|         99|          30|             5|            SW|              1|             NULL|    Mostly Cloudy|  false|false|   false|   false|   false|  false|  false|     false|  false|false|          false|         false|       false|           Day|           Day|              Day|                  Day|          2|      1|    2|Winter|       08:00:40|        1|   0|   0|        0.0|(3,[0],[1.0])|                  0|                  0|                     0|                         0|\n",
      "|A-10|Source2|       3|2016-02-08 08:10:04|2016-02-08 08:40:04|       40|      -83|   NULL|   NULL|           0|Right hand should...|      Westerville Rd| Westerville|  Franklin|   OH|     43081|     US|US/Eastern|        KCMH|2016-02-08 08:28:00|            37|           34|        100|          30|             3|           SSW|              5|                0|       Light Rain|  false|false|   false|   false|   false|  false|  false|     false|  false|false|          false|         false|       false|           Day|           Day|              Day|                  Day|          2|      1|    2|Winter|       08:10:04|        1|   1|   0|        0.0|(3,[0],[1.0])|                  0|                  0|                     0|                         0|\n",
      "+----+-------+--------+-------------------+-------------------+---------+---------+-------+-------+------------+--------------------+--------------------+------------+----------+-----+----------+-------+----------+------------+-------------------+--------------+-------------+-----------+------------+--------------+--------------+---------------+-----------------+-----------------+-------+-----+--------+--------+--------+-------+-------+----------+-------+-----+---------------+--------------+------------+--------------+--------------+-----------------+---------------------+-----------+-------+-----+------+---------------+---------+----+----+-----------+-------------+-------------------+-------------------+----------------------+--------------------------+\n",
      "only showing top 10 rows\n",
      "\n"
     ]
    }
   ],
   "source": [
    "#Encode Day/Night to 1/0\n",
    "for x in enumerate(['Sunrise_Sunset'\n",
    "               , 'Civil_Twilight'\n",
    "               , 'Nautical_Twilight'\n",
    "               , 'Astronomical_Twilight']):\n",
    "    # Create a StringIndexer instance\n",
    "    indexer = StringIndexer(inputCol=x[1], outputCol=f\"{x[1]}Index\").setHandleInvalid(\"keep\")\n",
    "\n",
    "    # Fit the indexer to the data\n",
    "    model = indexer.fit(df)\n",
    "\n",
    "    # Transform the data to include the indexed column\n",
    "    df = model.transform(df)\n",
    "    \n",
    "# Change Data Type \n",
    "for x in enumerate(['Sunrise_SunsetIndex'\n",
    "               , 'Civil_TwilightIndex'\n",
    "               , 'Nautical_TwilightIndex'\n",
    "               , 'Astronomical_TwilightIndex']):\n",
    "    df = df.withColumn(x[1], col(x[1]).cast(\"int\"))\n",
    "df.show(10)"
   ]
  },
  {
   "cell_type": "markdown",
   "metadata": {},
   "source": [
    "# Engineering Other Columns"
   ]
  },
  {
   "cell_type": "code",
   "execution_count": 15,
   "metadata": {
    "tags": []
   },
   "outputs": [],
   "source": [
    "pattern = r\"(I-|Freeway|freeway|Interstate|interstate)\"\n",
    "df = df.withColumn(\"Interstate Indicator\", F.when(F.col(\"Street\").rlike(pattern), 1).otherwise(0)) #create the \"Interstate Indicator\" column"
   ]
  },
  {
   "cell_type": "markdown",
   "metadata": {},
   "source": [
    "# Correlations"
   ]
  },
  {
   "cell_type": "code",
   "execution_count": 16,
   "metadata": {
    "tags": []
   },
   "outputs": [
    {
     "name": "stderr",
     "output_type": "stream",
     "text": [
      "24/11/25 14:30:56 WARN InstanceBuilder: Failed to load implementation from:dev.ludovic.netlib.blas.JNIBLAS\n",
      "                                                                                \r"
     ]
    },
    {
     "data": {
      "image/png": "[encoded data removed]",
      "text/plain": [
       "<Figure size 640x480 with 2 Axes>"
      ]
     },
     "metadata": {},
     "output_type": "display_data"
    }
   ],
   "source": [
    "# Correlations - Day/Night Columns\n",
    "# Select Relevant Columns\n",
    "df1 = df.select('Sunrise_SunsetIndex'\n",
    "               , 'Civil_TwilightIndex'\n",
    "               , 'Nautical_TwilightIndex'\n",
    "               , 'Astronomical_TwilightIndex')\n",
    "df1 = df1.na.drop()\n",
    "\n",
    "# Assemble features into a vector column\n",
    "assembler = VectorAssembler(inputCols=['Sunrise_SunsetIndex'\n",
    "               , 'Civil_TwilightIndex'\n",
    "               , 'Nautical_TwilightIndex'\n",
    "               , 'Astronomical_TwilightIndex'], outputCol=\"features\")\n",
    "df_vector = assembler.transform(df1)\n",
    "\n",
    "# Calculate the correlation matrix\n",
    "correlation_matrix = Correlation.corr(df_vector, \"features\").head()[0]\n",
    "\n",
    "# Turn into a dataframe\n",
    "corr_matrix_pd = pd.DataFrame(correlation_matrix.toArray(), columns=df1.columns, index=df1.columns)\n",
    "\n",
    "#Plot\n",
    "sns.heatmap(corr_matrix_pd, annot=True, cmap=\"coolwarm\")\n",
    "plt.show()"
   ]
  },
  {
   "cell_type": "code",
   "execution_count": 17,
   "metadata": {
    "tags": []
   },
   "outputs": [
    {
     "name": "stderr",
     "output_type": "stream",
     "text": [
      "                                                                                \r"
     ]
    },
    {
     "data": {
      "image/png": "[encoded data removed]",
      "text/plain": [
       "<Figure size 640x480 with 2 Axes>"
      ]
     },
     "metadata": {},
     "output_type": "display_data"
    }
   ],
   "source": [
    "# Correlations - Weather Columns\n",
    "# Select Relevant Columns\n",
    "df1 = df.select('Temperature(F)'\n",
    "               , 'Wind_Chill(F)'\n",
    "               , 'Humidity(%)'\n",
    "               , 'Pressure(in)'\n",
    "               , 'Visibility(mi)'\n",
    "               #, 'Wind_Direction'\n",
    "               , 'Wind_Speed(mph)'\n",
    "               , 'Precipitation(in)')\n",
    "df1 = df1.na.drop()\n",
    "\n",
    "# Assemble features into a vector column\n",
    "assembler = VectorAssembler(inputCols=['Temperature(F)'\n",
    "               , 'Wind_Chill(F)'\n",
    "               , 'Humidity(%)'\n",
    "               , 'Pressure(in)'\n",
    "               , 'Visibility(mi)'\n",
    "               #, 'Wind_Direction'\n",
    "               , 'Wind_Speed(mph)'\n",
    "               , 'Precipitation(in)'], outputCol=\"features\")\n",
    "df_vector = assembler.transform(df1)\n",
    "\n",
    "# Calculate the correlation matrix\n",
    "correlation_matrix = Correlation.corr(df_vector, \"features\").head()[0]\n",
    "\n",
    "# Turn into a dataframe\n",
    "corr_matrix_pd = pd.DataFrame(correlation_matrix.toArray(), columns=df1.columns, index=df1.columns)\n",
    "\n",
    "#Plot\n",
    "sns.heatmap(corr_matrix_pd, annot=True, cmap=\"coolwarm\")\n",
    "plt.show()"
   ]
  },
  {
   "cell_type": "markdown",
   "metadata": {},
   "source": [
    "# Add Demographic Columns based on Zipcode"
   ]
  },
  {
   "cell_type": "code",
   "execution_count": 18,
   "metadata": {
    "tags": []
   },
   "outputs": [],
   "source": [
    "file = \"data/median_income_subset.csv\"\n",
    "df_income = spark.read.csv(file, header=True, inferSchema=True)\n",
    "df_income = df_income.withColumnRenamed(\"Estimate!!Households!!Median income (dollars)\", \"MedianIncome\")\n",
    "df_income = df_income.withColumnRenamed(\"Margin of Error!!Households!!Median income (dollars)\", \"MedianIncome_MarginOfError\")\n",
    "median_income_df= df_income.select(\"zip_code\", \"MedianIncome\", \"MedianIncome_MarginOfError\")\n",
    "median_income_df = median_income_df.withColumn(\n",
    "    \"zip_code\",\n",
    "    F.lpad(F.col(\"zip_code\"), 5, '0')  # Pad with '0' to a total length of 5\n",
    ")"
   ]
  },
  {
   "cell_type": "code",
   "execution_count": 19,
   "metadata": {
    "tags": []
   },
   "outputs": [
    {
     "name": "stdout",
     "output_type": "stream",
     "text": [
      "+--------+------------+--------------------------+\n",
      "|zip_code|MedianIncome|MedianIncome_MarginOfError|\n",
      "+--------+------------+--------------------------+\n",
      "|   00913|        6493|                      2064|\n",
      "|   02468|      241190|                     18167|\n",
      "|   06820|      232523|                     21420|\n",
      "|   07046|      242083|                     39943|\n",
      "|   07970|      243219|                    153219|\n",
      "|   10546|      237708|                     36761|\n",
      "|   10597|      237667|                     91547|\n",
      "|   19319|      244097|                    160162|\n",
      "|   21723|      231172|                    124625|\n",
      "|   40997|        8219|                      5837|\n",
      "|   41843|        9643|                      9051|\n",
      "|   44503|        9583|                      1039|\n",
      "|   60022|      248243|                     34164|\n",
      "|   60029|      235000|                     52008|\n",
      "|   63073|      244205|                    195057|\n",
      "|   64147|        7784|                      3479|\n",
      "|   70082|        9732|                      5655|\n",
      "|   71659|        7171|                      2481|\n",
      "|   76092|      240507|                     13803|\n",
      "|   87005|        9076|                       712|\n",
      "+--------+------------+--------------------------+\n",
      "only showing top 20 rows\n",
      "\n"
     ]
    }
   ],
   "source": [
    "# Define bounds for outliers\n",
    "lower_bound = 10000\n",
    "upper_bound = 230000\n",
    "outliers_df = median_income_df.filter(\n",
    "    (F.col(\"MedianIncome\") < lower_bound) |\n",
    "    (F.col(\"MedianIncome\") > upper_bound)\n",
    ")\n",
    "\n",
    "# Show outliers\n",
    "outliers_df.show()\n",
    "##########Use the median_income_df ###########"
   ]
  },
  {
   "cell_type": "code",
   "execution_count": 20,
   "metadata": {
    "tags": []
   },
   "outputs": [],
   "source": [
    "# Add code from Layla here\n",
    "# Use the DataFrameReader interface to read a CSV file\n",
    "file = \"data/gender_age_subset.csv\"\n",
    "df_gender = spark.read.csv(file, header=True, inferSchema=True)\n",
    "# Use the DataFrameReader interface to read a CSV file\n",
    "file = \"data/population_subset.csv\"\n",
    "df_population = spark.read.csv(file, header=True, inferSchema=True)"
   ]
  },
  {
   "cell_type": "code",
   "execution_count": 21,
   "metadata": {
    "tags": []
   },
   "outputs": [
    {
     "name": "stdout",
     "output_type": "stream",
     "text": [
      "+--------+---------------------------------+-----------------+-----------------+-------------------+\n",
      "|zip_code|Sex ratio (males per 100 females)|Percent_Age_15-19|Percent_Age_20-24|Percent_Age_65_over|\n",
      "+--------+---------------------------------+-----------------+-----------------+-------------------+\n",
      "|   00601|                             99.5|              6.6|              6.7|               18.2|\n",
      "|   00602|                             96.0|              6.3|              6.8|               18.2|\n",
      "|   00603|                             96.5|              6.6|              6.5|               21.1|\n",
      "|   00606|                            100.3|              6.4|              7.4|               19.9|\n",
      "|   00610|                             93.9|              6.4|              6.9|               20.0|\n",
      "|   00612|                             89.3|              6.6|              6.5|               21.6|\n",
      "|   00616|                             85.0|              6.3|              8.5|               20.5|\n",
      "|   00617|                             90.1|              6.9|              6.4|               19.0|\n",
      "|   00622|                             71.9|              5.3|              5.0|               31.1|\n",
      "|   00623|                             93.2|              6.6|              6.8|               21.1|\n",
      "|   00624|                             95.4|              7.1|              6.6|               16.1|\n",
      "|   00627|                             91.6|              6.6|              7.1|               19.2|\n",
      "|   00631|                             98.5|              3.4|              5.9|               30.6|\n",
      "|   00637|                             88.3|              7.4|              6.9|               22.0|\n",
      "|   00638|                             92.9|              5.9|              6.2|               20.3|\n",
      "|   00641|                             94.5|              6.7|              6.6|               20.8|\n",
      "|   00646|                             90.5|              7.2|              6.6|               16.8|\n",
      "|   00647|                            101.8|              5.7|              8.2|               25.5|\n",
      "|   00650|                             92.9|              7.4|              7.5|               18.1|\n",
      "|   00652|                             92.2|              6.6|              6.9|               22.5|\n",
      "+--------+---------------------------------+-----------------+-----------------+-------------------+\n",
      "only showing top 20 rows\n",
      "\n"
     ]
    }
   ],
   "source": [
    "# Define a dictionary for renaming\n",
    "new_column_names = {\n",
    "    \"Estimate!!SEX AND AGE!!Total population!!Sex ratio (males per 100 females)\": \"Sex ratio (males per 100 females)\",\n",
    "    \"Percent!!SEX AND AGE!!Total population!!15 to 19 years\": \"Percent_Age_15-19\",\n",
    "    \"Percent!!SEX AND AGE!!Total population!!20 to 24 years\": \"Percent_Age_20-24\",\n",
    "    \"Percent!!SEX AND AGE!!Total population!!65 years and over\": \"Percent_Age_65_over\",\n",
    "    # Add more mappings as needed\n",
    "}\n",
    "\n",
    "# Start with the original DataFrame\n",
    "gender_df = df_gender\n",
    "\n",
    "gender_df = gender_df.withColumn(\n",
    "    \"zip_code\",\n",
    "    F.lpad(F.col(\"zip_code\"), 5, '0')  # Pad with '0' to a total length of 5\n",
    ")\n",
    "# Rename columns\n",
    "for old_name, new_name in new_column_names.items():\n",
    "    gender_df = gender_df.withColumnRenamed(old_name, new_name)\n",
    "\n",
    "# Show the renamed DataFrame\n",
    "gender_df.show()"
   ]
  },
  {
   "cell_type": "code",
   "execution_count": 22,
   "metadata": {
    "tags": []
   },
   "outputs": [
    {
     "name": "stdout",
     "output_type": "stream",
     "text": [
      "+---+--------+---------+----------------+----------------+-----------+\n",
      "|_c0|zip_code| !!Total:| !!Total:!!Urban| !!Total:!!Rural|Urban_Ratio|\n",
      "+---+--------+---------+----------------+----------------+-----------+\n",
      "|  1|   00601|    17242|            7899|            9343|     0.4581|\n",
      "|  2|   00602|    37548|           37321|             227|      0.994|\n",
      "|  3|   00603|    49804|           49678|             126|     0.9975|\n",
      "|  4|   00606|     5009|               0|            5009|        0.0|\n",
      "|  5|   00610|    25731|           21805|            3926|     0.8474|\n",
      "|  6|   00611|     1671|               0|            1671|        0.0|\n",
      "|  7|   00612|    62425|           57085|            5340|     0.9145|\n",
      "|  8|   00616|     9828|            9363|             465|     0.9527|\n",
      "|  9|   00617|    22541|           21364|            1177|     0.9478|\n",
      "| 10|   00622|     7838|            6792|            1046|     0.8665|\n",
      "| 11|   00623|    39320|           38452|             868|     0.9779|\n",
      "| 12|   00624|    21709|           16737|            4972|      0.771|\n",
      "| 13|   00627|    32873|           26711|            6162|     0.8126|\n",
      "| 14|   00631|     1414|               0|            1414|        0.0|\n",
      "| 15|   00636|      555|             555|               0|        1.0|\n",
      "| 16|   00637|    23124|           20107|            3017|     0.8695|\n",
      "| 17|   00638|    18109|           10579|            7530|     0.5842|\n",
      "| 18|   00641|    24292|           12990|           11302|     0.5347|\n",
      "| 19|   00646|    36272|           35663|             609|     0.9832|\n",
      "| 20|   00647|     4611|            3218|            1393|     0.6979|\n",
      "+---+--------+---------+----------------+----------------+-----------+\n",
      "only showing top 20 rows\n",
      "\n"
     ]
    },
    {
     "name": "stderr",
     "output_type": "stream",
     "text": [
      "24/11/25 14:31:20 WARN CSVHeaderChecker: CSV header does not conform to the schema.\n",
      " Header: , zip_code,  !!Total:,  !!Total:!!Urban,  !!Total:!!Rural\n",
      " Schema: _c0, zip_code,  !!Total:,  !!Total:!!Urban,  !!Total:!!Rural\n",
      "Expected: _c0 but found: \n",
      "CSV file: file:///sfs/gpfs/tardis/home/ejh2wy/spark_traffic_data/population_subset.csv\n"
     ]
    }
   ],
   "source": [
    "df_population = df_population.withColumn(\n",
    "    \"zip_code\",\n",
    "    F.lpad(F.col(\"zip_code\"), 5, '0')  # Pad with '0' to a total length of 5\n",
    ")\n",
    "df_population = df_population.withColumn(\n",
    "    \"Urban_Ratio\",\n",
    "    F.round(\n",
    "        F.when(F.col(\" !!Total:\") != 0, F.col(\" !!Total:!!Urban\") / F.col(\" !!Total:\")).otherwise(None), \n",
    "        4  # Number of decimal places\n",
    "    )\n",
    ")\n",
    "df_population.show() \n",
    "#### Use Urban_Ratio column #####"
   ]
  },
  {
   "cell_type": "code",
   "execution_count": 23,
   "metadata": {
    "tags": []
   },
   "outputs": [
    {
     "name": "stdout",
     "output_type": "stream",
     "text": [
      "+----+-------+--------+-------------------+-------------------+---------+---------+-------+-------+------------+--------------------+--------------------+------------+----------+-----+----------+-------+----------+------------+-------------------+--------------+-------------+-----------+------------+--------------+--------------+---------------+-----------------+-----------------+-------+-----+--------+--------+--------+-------+-------+----------+-------+-----+---------------+--------------+------------+--------------+--------------+-----------------+---------------------+-----------+-------+-----+------+---------------+---------+----+----+-----------+-------------+-------------------+-------------------+----------------------+--------------------------+--------------------+----------+---------------------------------+-----------------+-----------------+-------------------+------------+--------------------------+-----------+\n",
      "|  ID| Source|Severity|         Start_Time|           End_Time|Start_Lat|Start_Lng|End_Lat|End_Lng|Distance(mi)|         Description|              Street|        City|    County|State|   Zipcode|Country|  Timezone|Airport_Code|  Weather_Timestamp|Temperature(F)|Wind_Chill(F)|Humidity(%)|Pressure(in)|Visibility(mi)|Wind_Direction|Wind_Speed(mph)|Precipitation(in)|Weather_Condition|Amenity| Bump|Crossing|Give_way|Junction|No_Exit|Railway|Roundabout|Station| Stop|Traffic_Calming|Traffic_Signal|Turning_Loop|Sunrise_Sunset|Civil_Twilight|Nautical_Twilight|Astronomical_Twilight|Day_of_Week|Weekday|Month|Season|Start_Time_Time|Rush Hour|Rain|Snow|SeasonIndex|    SeasonVec|Sunrise_SunsetIndex|Civil_TwilightIndex|Nautical_TwilightIndex|Astronomical_TwilightIndex|Interstate Indicator|zip_code_5|Sex ratio (males per 100 females)|Percent_Age_15-19|Percent_Age_20-24|Percent_Age_65_over|MedianIncome|MedianIncome_MarginOfError|Urban_Ratio|\n",
      "+----+-------+--------+-------------------+-------------------+---------+---------+-------+-------+------------+--------------------+--------------------+------------+----------+-----+----------+-------+----------+------------+-------------------+--------------+-------------+-----------+------------+--------------+--------------+---------------+-----------------+-----------------+-------+-----+--------+--------+--------+-------+-------+----------+-------+-----+---------------+--------------+------------+--------------+--------------+-----------------+---------------------+-----------+-------+-----+------+---------------+---------+----+----+-----------+-------------+-------------------+-------------------+----------------------+--------------------------+--------------------+----------+---------------------------------+-----------------+-----------------+-------------------+------------+--------------------------+-----------+\n",
      "| A-1|Source2|       3|2016-02-08 05:46:00|2016-02-08 11:00:00|       40|      -84|   NULL|   NULL|           0|Right lane blocke...|              I-70 E|      Dayton|Montgomery|   OH|     45424|     US|US/Eastern|        KFFO|2016-02-08 05:58:00|            37|         NULL|         91|          30|            10|          Calm|           NULL|                0|       Light Rain|  false|false|   false|   false|   false|  false|  false|     false|  false|false|          false|         false|       false|         Night|         Night|            Night|                Night|          2|      1|    2|Winter|       05:46:00|        0|   1|   0|        0.0|(3,[0],[1.0])|                  1|                  1|                     1|                         1|                   1|     45424|                             94.7|              6.4|              6.3|               15.6|       66080|                      2959|     0.9612|\n",
      "| A-2|Source2|       2|2016-02-08 06:07:59|2016-02-08 06:37:59|       40|      -83|   NULL|   NULL|           0|Accident on Brice...|            Brice Rd|Reynoldsburg|  Franklin|   OH|43068-3402|     US|US/Eastern|        KCMH|2016-02-08 05:51:00|            38|         NULL|        100|          30|            10|          Calm|           NULL|                0|       Light Rain|  false|false|   false|   false|   false|  false|  false|     false|  false|false|          false|         false|       false|         Night|         Night|            Night|                  Day|          2|      1|    2|Winter|       06:07:59|        1|   1|   0|        0.0|(3,[0],[1.0])|                  1|                  1|                     1|                         0|                   0|     43068|                             94.8|              7.3|              6.8|               11.6|       64626|                      2506|     0.9902|\n",
      "| A-3|Source2|       2|2016-02-08 06:49:27|2016-02-08 07:19:27|       39|      -84|   NULL|   NULL|           0|Accident on OH-32...|      State Route 32|Williamsburg|  Clermont|   OH|     45176|     US|US/Eastern|        KI69|2016-02-08 06:56:00|            36|           33|        100|          30|            10|            SW|              4|             NULL|         Overcast|  false|false|   false|   false|   false|  false|  false|     false|  false|false|          false|          true|       false|         Night|         Night|              Day|                  Day|          2|      1|    2|Winter|       06:49:27|        1|   0|   0|        0.0|(3,[0],[1.0])|                  1|                  1|                     0|                         0|                   0|     45176|                             92.9|              6.2|              3.9|               16.0|       60625|                      7291|        0.0|\n",
      "| A-4|Source2|       3|2016-02-08 07:23:34|2016-02-08 07:53:34|       40|      -84|   NULL|   NULL|           0|Accident on I-75 ...|              I-75 S|      Dayton|Montgomery|   OH|     45417|     US|US/Eastern|        KDAY|2016-02-08 07:38:00|            35|           31|         96|          30|             9|            SW|              5|             NULL|    Mostly Cloudy|  false|false|   false|   false|   false|  false|  false|     false|  false|false|          false|         false|       false|         Night|           Day|              Day|                  Day|          2|      1|    2|Winter|       07:23:34|        1|   0|   0|        0.0|(3,[0],[1.0])|                  1|                  0|                     0|                         0|                   1|     45417|                             78.4|              7.3|              6.3|               18.4|       27374|                      1372|     0.9091|\n",
      "| A-5|Source2|       2|2016-02-08 07:39:07|2016-02-08 08:09:07|       40|      -84|   NULL|   NULL|           0|Accident on McEwe...|Miamisburg Center...|      Dayton|Montgomery|   OH|     45459|     US|US/Eastern|        KMGY|2016-02-08 07:53:00|            36|           33|         89|          30|             6|            SW|              4|             NULL|    Mostly Cloudy|  false|false|   false|   false|   false|  false|  false|     false|  false|false|          false|          true|       false|           Day|           Day|              Day|                  Day|          2|      1|    2|Winter|       07:39:07|        1|   0|   0|        0.0|(3,[0],[1.0])|                  0|                  0|                     0|                         0|                   0|     45459|                             83.2|              4.5|              4.2|               28.2|       75065|                      3739|        1.0|\n",
      "| A-6|Source2|       3|2016-02-08 07:44:26|2016-02-08 08:14:26|       40|      -83|   NULL|   NULL|           0|Accident on I-270...|      Westerville Rd| Westerville|  Franklin|   OH|     43081|     US|US/Eastern|        KCMH|2016-02-08 07:51:00|            38|           36|         97|          30|             7|           SSW|              4|                0|       Light Rain|  false|false|   false|   false|   false|  false|  false|     false|  false|false|          false|         false|       false|           Day|           Day|              Day|                  Day|          2|      1|    2|Winter|       07:44:26|        1|   1|   0|        0.0|(3,[0],[1.0])|                  0|                  0|                     0|                         0|                   0|     43081|                             89.9|              6.2|              5.4|               14.5|       82999|                      2739|     0.9838|\n",
      "| A-7|Source2|       2|2016-02-08 07:59:35|2016-02-08 08:29:35|       40|      -84|   NULL|   NULL|           0|Accident on Oakri...|      N Woodward Ave|      Dayton|Montgomery|   OH|45417-2476|     US|US/Eastern|        KDAY|2016-02-08 07:56:00|            34|           31|        100|          30|             7|           WSW|              4|             NULL|         Overcast|  false|false|   false|   false|   false|  false|  false|     false|  false|false|          false|         false|       false|           Day|           Day|              Day|                  Day|          2|      1|    2|Winter|       07:59:35|        1|   0|   0|        0.0|(3,[0],[1.0])|                  0|                  0|                     0|                         0|                   0|     45417|                             78.4|              7.3|              6.3|               18.4|       27374|                      1372|     0.9091|\n",
      "| A-8|Source2|       3|2016-02-08 07:59:58|2016-02-08 08:29:58|       40|      -84|   NULL|   NULL|           0|Accident on I-75 ...|           N Main St|      Dayton|Montgomery|   OH|     45405|     US|US/Eastern|        KDAY|2016-02-08 07:56:00|            34|           31|        100|          30|             7|           WSW|              4|             NULL|         Overcast|  false|false|   false|   false|   false|  false|  false|     false|  false|false|          false|         false|       false|           Day|           Day|              Day|                  Day|          2|      1|    2|Winter|       07:59:58|        1|   0|   0|        0.0|(3,[0],[1.0])|                  0|                  0|                     0|                         0|                   0|     45405|                             89.9|              6.1|              7.4|               13.7|       30675|                      2271|        1.0|\n",
      "| A-9|Source2|       2|2016-02-08 08:00:40|2016-02-08 08:30:40|       40|      -84|   NULL|   NULL|           0|Accident on Notre...|      Notre Dame Ave|      Dayton|Montgomery|   OH|45404-1923|     US|US/Eastern|        KFFO|2016-02-08 07:58:00|            33|         NULL|         99|          30|             5|            SW|              1|             NULL|    Mostly Cloudy|  false|false|   false|   false|   false|  false|  false|     false|  false|false|          false|         false|       false|           Day|           Day|              Day|                  Day|          2|      1|    2|Winter|       08:00:40|        1|   0|   0|        0.0|(3,[0],[1.0])|                  0|                  0|                     0|                         0|                   0|     45404|                            117.0|              6.1|              6.2|               13.0|       31303|                      5253|        1.0|\n",
      "|A-10|Source2|       3|2016-02-08 08:10:04|2016-02-08 08:40:04|       40|      -83|   NULL|   NULL|           0|Right hand should...|      Westerville Rd| Westerville|  Franklin|   OH|     43081|     US|US/Eastern|        KCMH|2016-02-08 08:28:00|            37|           34|        100|          30|             3|           SSW|              5|                0|       Light Rain|  false|false|   false|   false|   false|  false|  false|     false|  false|false|          false|         false|       false|           Day|           Day|              Day|                  Day|          2|      1|    2|Winter|       08:10:04|        1|   1|   0|        0.0|(3,[0],[1.0])|                  0|                  0|                     0|                         0|                   0|     43081|                             89.9|              6.2|              5.4|               14.5|       82999|                      2739|     0.9838|\n",
      "|A-11|Source2|       3|2016-02-08 08:14:42|2016-02-08 08:44:42|       40|      -83|   NULL|   NULL|           0|Accident on I-270...|         Outerbelt S|    Columbus|  Franklin|   OH|     43228|     US|US/Eastern|        KTZR|2016-02-08 07:50:00|            36|           31|         93|          30|             5|           WNW|              6|             NULL|             Rain|  false|false|    true|   false|    true|  false|  false|     false|  false|false|          false|         false|       false|           Day|           Day|              Day|                  Day|          2|      1|    2|Winter|       08:14:42|        1|   1|   0|        0.0|(3,[0],[1.0])|                  0|                  0|                     0|                         0|                   0|     43228|                             91.9|              5.5|              6.1|                9.8|       49336|                      2235|     0.9975|\n",
      "|A-12|Source2|       3|2016-02-08 08:21:27|2016-02-08 08:51:27|       40|      -83|   NULL|   NULL|           0|One lane blocked ...|              I-70 E|Reynoldsburg|  Franklin|   OH|     43068|     US|US/Eastern|        KCMH|2016-02-08 08:28:00|            37|           34|        100|          30|             3|           SSW|              5|                0|       Light Rain|  false|false|   false|   false|   false|  false|  false|     false|  false|false|          false|         false|       false|           Day|           Day|              Day|                  Day|          2|      1|    2|Winter|       08:21:27|        1|   1|   0|        0.0|(3,[0],[1.0])|                  0|                  0|                     0|                         0|                   1|     43068|                             94.8|              7.3|              6.8|               11.6|       64626|                      2506|     0.9902|\n",
      "|A-13|Source2|       2|2016-02-08 08:36:34|2016-02-08 09:06:34|       40|      -84|   NULL|   NULL|           0|Accident on Rever...|      Watervliet Ave|      Dayton|Montgomery|   OH|45420-1863|     US|US/Eastern|        KFFO|2016-02-08 08:28:00|            34|         NULL|        100|          30|             3|            SW|              2|             NULL|         Overcast|  false|false|   false|   false|   false|  false|  false|     false|  false|false|          false|         false|       false|           Day|           Day|              Day|                  Day|          2|      1|    2|Winter|       08:36:34|        1|   0|   0|        0.0|(3,[0],[1.0])|                  0|                  0|                     0|                         0|                   0|     45420|                             97.5|              5.2|              4.5|               14.6|       43501|                      3326|        1.0|\n",
      "|A-14|Source2|       2|2016-02-08 08:37:07|2016-02-08 09:07:07|       40|      -84|   NULL|   NULL|           0|Accident on Salem...|           Salem Ave|      Dayton|Montgomery|   OH|45406-2708|     US|US/Eastern|        KDAY|2016-02-08 08:56:00|            36|           31|         89|          30|            10|            NW|              6|             NULL|    Mostly Cloudy|  false|false|   false|   false|   false|  false|  false|     false|  false|false|          false|          true|       false|           Day|           Day|              Day|                  Day|          2|      1|    2|Winter|       08:37:07|        1|   0|   0|        0.0|(3,[0],[1.0])|                  0|                  0|                     0|                         0|                   0|     45406|                             86.4|              5.3|              6.5|               16.6|       28701|                      2082|        1.0|\n",
      "|A-15|Source2|       2|2016-02-08 08:39:43|2016-02-08 09:09:43|       40|      -83|   NULL|   NULL|           0|Accident on OH-16...|          E Broad St|    Columbus|  Franklin|   OH|43213-1006|     US|US/Eastern|        KCMH|2016-02-08 08:28:00|            37|           34|        100|          30|             3|           SSW|              5|                0|       Light Rain|  false|false|   false|   false|   false|  false|  false|     false|  false|false|          false|          true|       false|           Day|           Day|              Day|                  Day|          2|      1|    2|Winter|       08:39:43|        1|   1|   0|        0.0|(3,[0],[1.0])|                  0|                  0|                     0|                         0|                   0|     43213|                             93.6|              5.4|              6.2|               14.0|       43706|                      2172|        1.0|\n",
      "|A-16|Source2|       2|2016-02-08 08:43:20|2016-02-08 09:13:20|       40|      -84|   NULL|   NULL|           0|Accident on Wayne...|         Glencoe Ave|      Dayton|Montgomery|   OH|45410-1721|     US|US/Eastern|        KFFO|2016-02-08 08:28:00|            34|         NULL|        100|          30|             3|            SW|              2|             NULL|         Overcast|  false|false|   false|   false|   false|  false|  false|     false|  false|false|          false|         false|       false|           Day|           Day|              Day|                  Day|          2|      1|    2|Winter|       08:43:20|        1|   0|   0|        0.0|(3,[0],[1.0])|                  0|                  0|                     0|                         0|                   0|     45410|                            105.4|              5.4|              7.9|               10.9|       36596|                      2174|        1.0|\n",
      "|A-17|Source2|       2|2016-02-08 08:53:17|2016-02-08 09:23:17|       40|      -84|   NULL|   NULL|           0|Accident on James...|S James H McGee Blvd|      Dayton|Montgomery|   OH|     45402|     US|US/Eastern|        KFFO|2016-02-08 08:58:00|            36|         NULL|         99|          30|             7|           WSW|              2|             NULL|    Mostly Cloudy|  false|false|   false|   false|   false|  false|  false|     false|  false|false|          false|         false|       false|           Day|           Day|              Day|                  Day|          2|      1|    2|Winter|       08:53:17|        1|   0|   0|        0.0|(3,[0],[1.0])|                  0|                  0|                     0|                         0|                   0|     45402|                             94.3|              6.8|              7.2|               13.1|       26550|                      2659|        1.0|\n",
      "|A-18|Source2|       2|2016-02-08 09:24:37|2016-02-08 09:54:37|       40|      -84|   NULL|   NULL|           0|Accident on Delph...|         Delphos Ave|      Dayton|Montgomery|   OH|45417-1727|     US|US/Eastern|        KDAY|2016-02-08 08:56:00|            36|           31|         89|          30|            10|            NW|              6|             NULL|    Mostly Cloudy|  false|false|   false|   false|   false|  false|  false|     false|  false|false|          false|         false|       false|           Day|           Day|              Day|                  Day|          2|      1|    2|Winter|       09:24:37|        0|   0|   0|        0.0|(3,[0],[1.0])|                  0|                  0|                     0|                         0|                   0|     45417|                             78.4|              7.3|              6.3|               18.4|       27374|                      1372|     0.9091|\n",
      "|A-19|Source2|       2|2016-02-08 09:25:17|2016-02-08 09:55:17|       40|      -84|   NULL|   NULL|           0|Accident on Stewa...|          Rubicon St|      Dayton|Montgomery|   OH|45409-2659|     US|US/Eastern|        KFFO|2016-02-08 09:38:00|            37|           32|         93|          30|            10|           WSW|              7|             NULL|         Overcast|  false|false|    true|   false|   false|  false|  false|     false|  false|false|          false|          true|       false|           Day|           Day|              Day|                  Day|          2|      1|    2|Winter|       09:25:17|        0|   0|   0|        0.0|(3,[0],[1.0])|                  0|                  0|                     0|                         0|                   0|     45409|                            110.1|             28.1|             36.6|                7.0|       64111|                      5349|        1.0|\n",
      "|A-20|Source2|       2|2016-02-08 09:35:35|2016-02-08 10:05:35|       40|      -84|   NULL|   NULL|           0|Accident on Hillc...|     W Hillcrest Ave|      Dayton|Montgomery|   OH|45406-2640|     US|US/Eastern|        KDAY|2016-02-08 09:56:00|            36|           30|         89|          30|            10|          West|              7|             NULL|    Mostly Cloudy|  false|false|   false|   false|   false|  false|  false|     false|  false|false|          false|         false|       false|           Day|           Day|              Day|                  Day|          2|      1|    2|Winter|       09:35:35|        0|   0|   0|        0.0|(3,[0],[1.0])|                  0|                  0|                     0|                         0|                   0|     45406|                             86.4|              5.3|              6.5|               16.6|       28701|                      2082|        1.0|\n",
      "+----+-------+--------+-------------------+-------------------+---------+---------+-------+-------+------------+--------------------+--------------------+------------+----------+-----+----------+-------+----------+------------+-------------------+--------------+-------------+-----------+------------+--------------+--------------+---------------+-----------------+-----------------+-------+-----+--------+--------+--------+-------+-------+----------+-------+-----+---------------+--------------+------------+--------------+--------------+-----------------+---------------------+-----------+-------+-----+------+---------------+---------+----+----+-----------+-------------+-------------------+-------------------+----------------------+--------------------------+--------------------+----------+---------------------------------+-----------------+-----------------+-------------------+------------+--------------------------+-----------+\n",
      "only showing top 20 rows\n",
      "\n"
     ]
    }
   ],
   "source": [
    "df = df.withColumn('zip_code_5', F.substring(df.Zipcode, 1, 5))\n",
    " \n",
    "# Step 2: Join with gender_df on zip_code_5\n",
    "joined_gender_df = df.join(gender_df, df.zip_code_5 == gender_df.zip_code, \"left\")\n",
    " \n",
    "# Step 3: Select columns from joined_gender_df, keeping zip_code_5 and the needed columns from gender_df\n",
    "joined_gender_df = joined_gender_df.select(\n",
    "    df['*'],  # All columns from df\n",
    "    gender_df['Sex ratio (males per 100 females)'],\n",
    "    gender_df['Percent_Age_15-19'],\n",
    "    gender_df['Percent_Age_20-24'],\n",
    "    gender_df['Percent_Age_65_over']\n",
    ")\n",
    " \n",
    "# Step 4: Join with df_population on zip_code_5\n",
    "final_joined_df = joined_gender_df.join(median_income_df, joined_gender_df.zip_code_5 == median_income_df.zip_code, \"left\")\n",
    " \n",
    "# Step 5: Select desired columns, keeping only zip_code_5 and avoiding duplicate zip_code columns\n",
    "final_joined_df = final_joined_df.select(\n",
    "    joined_gender_df['*'],  # All columns from the previous joined DataFrame\n",
    "    median_income_df['MedianIncome'],\n",
    "    median_income_df['MedianIncome_MarginOfError']\n",
    ")\n",
    " \n",
    "# Step 6: Join with df_urban_population\n",
    "result_final_df = final_joined_df.join(df_population, final_joined_df.zip_code_5 == df_population.zip_code, \"left\")\n",
    " \n",
    "# Step 7: Final selection to keep only zip_code_5 and relevant columns\n",
    "result_final_df = result_final_df.select(\n",
    "    final_joined_df['*'],  # All columns from the previous joined DataFrame\n",
    "    df_population['Urban_Ratio']  # Only the Urban_Ratio column\n",
    ")\n",
    " \n",
    "# Show the final result\n",
    "result_final_df.show()"
   ]
  },
  {
   "cell_type": "code",
   "execution_count": 24,
   "metadata": {
    "tags": []
   },
   "outputs": [
    {
     "name": "stdout",
     "output_type": "stream",
     "text": [
      "+----+-------+--------+-------------------+-------------------+---------+---------+-------+-------+------------+--------------------+--------------------+------------+----------+-----+----------+-------+----------+------------+-------------------+--------------+-------------+-----------+------------+--------------+--------------+---------------+-----------------+-----------------+-------+-----+--------+--------+--------+-------+-------+----------+-------+-----+---------------+--------------+------------+--------------+--------------+-----------------+---------------------+-----------+-------+-----+------+---------------+---------+----+----+-----------+-------------+-------------------+-------------------+----------------------+--------------------------+--------------------+----------+---------------------------------+-----------------+-----------------+-------------------+------------+--------------------------+-----------+\n",
      "|  ID| Source|Severity|         Start_Time|           End_Time|Start_Lat|Start_Lng|End_Lat|End_Lng|Distance(mi)|         Description|              Street|        City|    County|State|   Zipcode|Country|  Timezone|Airport_Code|  Weather_Timestamp|Temperature(F)|Wind_Chill(F)|Humidity(%)|Pressure(in)|Visibility(mi)|Wind_Direction|Wind_Speed(mph)|Precipitation(in)|Weather_Condition|Amenity| Bump|Crossing|Give_way|Junction|No_Exit|Railway|Roundabout|Station| Stop|Traffic_Calming|Traffic_Signal|Turning_Loop|Sunrise_Sunset|Civil_Twilight|Nautical_Twilight|Astronomical_Twilight|Day_of_Week|Weekday|Month|Season|Start_Time_Time|Rush Hour|Rain|Snow|SeasonIndex|    SeasonVec|Sunrise_SunsetIndex|Civil_TwilightIndex|Nautical_TwilightIndex|Astronomical_TwilightIndex|Interstate Indicator|zip_code_5|Sex ratio (males per 100 females)|Percent_Age_15-19|Percent_Age_20-24|Percent_Age_65_over|MedianIncome|MedianIncome_MarginOfError|Urban_Ratio|\n",
      "+----+-------+--------+-------------------+-------------------+---------+---------+-------+-------+------------+--------------------+--------------------+------------+----------+-----+----------+-------+----------+------------+-------------------+--------------+-------------+-----------+------------+--------------+--------------+---------------+-----------------+-----------------+-------+-----+--------+--------+--------+-------+-------+----------+-------+-----+---------------+--------------+------------+--------------+--------------+-----------------+---------------------+-----------+-------+-----+------+---------------+---------+----+----+-----------+-------------+-------------------+-------------------+----------------------+--------------------------+--------------------+----------+---------------------------------+-----------------+-----------------+-------------------+------------+--------------------------+-----------+\n",
      "| A-1|Source2|       3|2016-02-08 05:46:00|2016-02-08 11:00:00|       40|      -84|   NULL|   NULL|           0|Right lane blocke...|              I-70 E|      Dayton|Montgomery|   OH|     45424|     US|US/Eastern|        KFFO|2016-02-08 05:58:00|            37|         NULL|         91|          30|            10|          Calm|           NULL|                0|       Light Rain|  false|false|   false|   false|   false|  false|  false|     false|  false|false|          false|         false|       false|         Night|         Night|            Night|                Night|          2|      1|    2|Winter|       05:46:00|        0|   1|   0|        0.0|(3,[0],[1.0])|                  1|                  1|                     1|                         1|                   1|     45424|                             94.7|              6.4|              6.3|               15.6|     66080.0|                    2959.0|     0.9612|\n",
      "| A-2|Source2|       2|2016-02-08 06:07:59|2016-02-08 06:37:59|       40|      -83|   NULL|   NULL|           0|Accident on Brice...|            Brice Rd|Reynoldsburg|  Franklin|   OH|43068-3402|     US|US/Eastern|        KCMH|2016-02-08 05:51:00|            38|         NULL|        100|          30|            10|          Calm|           NULL|                0|       Light Rain|  false|false|   false|   false|   false|  false|  false|     false|  false|false|          false|         false|       false|         Night|         Night|            Night|                  Day|          2|      1|    2|Winter|       06:07:59|        1|   1|   0|        0.0|(3,[0],[1.0])|                  1|                  1|                     1|                         0|                   0|     43068|                             94.8|              7.3|              6.8|               11.6|     64626.0|                    2506.0|     0.9902|\n",
      "| A-3|Source2|       2|2016-02-08 06:49:27|2016-02-08 07:19:27|       39|      -84|   NULL|   NULL|           0|Accident on OH-32...|      State Route 32|Williamsburg|  Clermont|   OH|     45176|     US|US/Eastern|        KI69|2016-02-08 06:56:00|            36|           33|        100|          30|            10|            SW|              4|             NULL|         Overcast|  false|false|   false|   false|   false|  false|  false|     false|  false|false|          false|          true|       false|         Night|         Night|              Day|                  Day|          2|      1|    2|Winter|       06:49:27|        1|   0|   0|        0.0|(3,[0],[1.0])|                  1|                  1|                     0|                         0|                   0|     45176|                             92.9|              6.2|              3.9|               16.0|     60625.0|                    7291.0|        0.0|\n",
      "| A-4|Source2|       3|2016-02-08 07:23:34|2016-02-08 07:53:34|       40|      -84|   NULL|   NULL|           0|Accident on I-75 ...|              I-75 S|      Dayton|Montgomery|   OH|     45417|     US|US/Eastern|        KDAY|2016-02-08 07:38:00|            35|           31|         96|          30|             9|            SW|              5|             NULL|    Mostly Cloudy|  false|false|   false|   false|   false|  false|  false|     false|  false|false|          false|         false|       false|         Night|           Day|              Day|                  Day|          2|      1|    2|Winter|       07:23:34|        1|   0|   0|        0.0|(3,[0],[1.0])|                  1|                  0|                     0|                         0|                   1|     45417|                             78.4|              7.3|              6.3|               18.4|     27374.0|                    1372.0|     0.9091|\n",
      "| A-5|Source2|       2|2016-02-08 07:39:07|2016-02-08 08:09:07|       40|      -84|   NULL|   NULL|           0|Accident on McEwe...|Miamisburg Center...|      Dayton|Montgomery|   OH|     45459|     US|US/Eastern|        KMGY|2016-02-08 07:53:00|            36|           33|         89|          30|             6|            SW|              4|             NULL|    Mostly Cloudy|  false|false|   false|   false|   false|  false|  false|     false|  false|false|          false|          true|       false|           Day|           Day|              Day|                  Day|          2|      1|    2|Winter|       07:39:07|        1|   0|   0|        0.0|(3,[0],[1.0])|                  0|                  0|                     0|                         0|                   0|     45459|                             83.2|              4.5|              4.2|               28.2|     75065.0|                    3739.0|        1.0|\n",
      "| A-6|Source2|       3|2016-02-08 07:44:26|2016-02-08 08:14:26|       40|      -83|   NULL|   NULL|           0|Accident on I-270...|      Westerville Rd| Westerville|  Franklin|   OH|     43081|     US|US/Eastern|        KCMH|2016-02-08 07:51:00|            38|           36|         97|          30|             7|           SSW|              4|                0|       Light Rain|  false|false|   false|   false|   false|  false|  false|     false|  false|false|          false|         false|       false|           Day|           Day|              Day|                  Day|          2|      1|    2|Winter|       07:44:26|        1|   1|   0|        0.0|(3,[0],[1.0])|                  0|                  0|                     0|                         0|                   0|     43081|                             89.9|              6.2|              5.4|               14.5|     82999.0|                    2739.0|     0.9838|\n",
      "| A-7|Source2|       2|2016-02-08 07:59:35|2016-02-08 08:29:35|       40|      -84|   NULL|   NULL|           0|Accident on Oakri...|      N Woodward Ave|      Dayton|Montgomery|   OH|45417-2476|     US|US/Eastern|        KDAY|2016-02-08 07:56:00|            34|           31|        100|          30|             7|           WSW|              4|             NULL|         Overcast|  false|false|   false|   false|   false|  false|  false|     false|  false|false|          false|         false|       false|           Day|           Day|              Day|                  Day|          2|      1|    2|Winter|       07:59:35|        1|   0|   0|        0.0|(3,[0],[1.0])|                  0|                  0|                     0|                         0|                   0|     45417|                             78.4|              7.3|              6.3|               18.4|     27374.0|                    1372.0|     0.9091|\n",
      "| A-8|Source2|       3|2016-02-08 07:59:58|2016-02-08 08:29:58|       40|      -84|   NULL|   NULL|           0|Accident on I-75 ...|           N Main St|      Dayton|Montgomery|   OH|     45405|     US|US/Eastern|        KDAY|2016-02-08 07:56:00|            34|           31|        100|          30|             7|           WSW|              4|             NULL|         Overcast|  false|false|   false|   false|   false|  false|  false|     false|  false|false|          false|         false|       false|           Day|           Day|              Day|                  Day|          2|      1|    2|Winter|       07:59:58|        1|   0|   0|        0.0|(3,[0],[1.0])|                  0|                  0|                     0|                         0|                   0|     45405|                             89.9|              6.1|              7.4|               13.7|     30675.0|                    2271.0|        1.0|\n",
      "| A-9|Source2|       2|2016-02-08 08:00:40|2016-02-08 08:30:40|       40|      -84|   NULL|   NULL|           0|Accident on Notre...|      Notre Dame Ave|      Dayton|Montgomery|   OH|45404-1923|     US|US/Eastern|        KFFO|2016-02-08 07:58:00|            33|         NULL|         99|          30|             5|            SW|              1|             NULL|    Mostly Cloudy|  false|false|   false|   false|   false|  false|  false|     false|  false|false|          false|         false|       false|           Day|           Day|              Day|                  Day|          2|      1|    2|Winter|       08:00:40|        1|   0|   0|        0.0|(3,[0],[1.0])|                  0|                  0|                     0|                         0|                   0|     45404|                            117.0|              6.1|              6.2|               13.0|     31303.0|                    5253.0|        1.0|\n",
      "|A-10|Source2|       3|2016-02-08 08:10:04|2016-02-08 08:40:04|       40|      -83|   NULL|   NULL|           0|Right hand should...|      Westerville Rd| Westerville|  Franklin|   OH|     43081|     US|US/Eastern|        KCMH|2016-02-08 08:28:00|            37|           34|        100|          30|             3|           SSW|              5|                0|       Light Rain|  false|false|   false|   false|   false|  false|  false|     false|  false|false|          false|         false|       false|           Day|           Day|              Day|                  Day|          2|      1|    2|Winter|       08:10:04|        1|   1|   0|        0.0|(3,[0],[1.0])|                  0|                  0|                     0|                         0|                   0|     43081|                             89.9|              6.2|              5.4|               14.5|     82999.0|                    2739.0|     0.9838|\n",
      "|A-11|Source2|       3|2016-02-08 08:14:42|2016-02-08 08:44:42|       40|      -83|   NULL|   NULL|           0|Accident on I-270...|         Outerbelt S|    Columbus|  Franklin|   OH|     43228|     US|US/Eastern|        KTZR|2016-02-08 07:50:00|            36|           31|         93|          30|             5|           WNW|              6|             NULL|             Rain|  false|false|    true|   false|    true|  false|  false|     false|  false|false|          false|         false|       false|           Day|           Day|              Day|                  Day|          2|      1|    2|Winter|       08:14:42|        1|   1|   0|        0.0|(3,[0],[1.0])|                  0|                  0|                     0|                         0|                   0|     43228|                             91.9|              5.5|              6.1|                9.8|     49336.0|                    2235.0|     0.9975|\n",
      "|A-12|Source2|       3|2016-02-08 08:21:27|2016-02-08 08:51:27|       40|      -83|   NULL|   NULL|           0|One lane blocked ...|              I-70 E|Reynoldsburg|  Franklin|   OH|     43068|     US|US/Eastern|        KCMH|2016-02-08 08:28:00|            37|           34|        100|          30|             3|           SSW|              5|                0|       Light Rain|  false|false|   false|   false|   false|  false|  false|     false|  false|false|          false|         false|       false|           Day|           Day|              Day|                  Day|          2|      1|    2|Winter|       08:21:27|        1|   1|   0|        0.0|(3,[0],[1.0])|                  0|                  0|                     0|                         0|                   1|     43068|                             94.8|              7.3|              6.8|               11.6|     64626.0|                    2506.0|     0.9902|\n",
      "|A-13|Source2|       2|2016-02-08 08:36:34|2016-02-08 09:06:34|       40|      -84|   NULL|   NULL|           0|Accident on Rever...|      Watervliet Ave|      Dayton|Montgomery|   OH|45420-1863|     US|US/Eastern|        KFFO|2016-02-08 08:28:00|            34|         NULL|        100|          30|             3|            SW|              2|             NULL|         Overcast|  false|false|   false|   false|   false|  false|  false|     false|  false|false|          false|         false|       false|           Day|           Day|              Day|                  Day|          2|      1|    2|Winter|       08:36:34|        1|   0|   0|        0.0|(3,[0],[1.0])|                  0|                  0|                     0|                         0|                   0|     45420|                             97.5|              5.2|              4.5|               14.6|     43501.0|                    3326.0|        1.0|\n",
      "|A-14|Source2|       2|2016-02-08 08:37:07|2016-02-08 09:07:07|       40|      -84|   NULL|   NULL|           0|Accident on Salem...|           Salem Ave|      Dayton|Montgomery|   OH|45406-2708|     US|US/Eastern|        KDAY|2016-02-08 08:56:00|            36|           31|         89|          30|            10|            NW|              6|             NULL|    Mostly Cloudy|  false|false|   false|   false|   false|  false|  false|     false|  false|false|          false|          true|       false|           Day|           Day|              Day|                  Day|          2|      1|    2|Winter|       08:37:07|        1|   0|   0|        0.0|(3,[0],[1.0])|                  0|                  0|                     0|                         0|                   0|     45406|                             86.4|              5.3|              6.5|               16.6|     28701.0|                    2082.0|        1.0|\n",
      "|A-15|Source2|       2|2016-02-08 08:39:43|2016-02-08 09:09:43|       40|      -83|   NULL|   NULL|           0|Accident on OH-16...|          E Broad St|    Columbus|  Franklin|   OH|43213-1006|     US|US/Eastern|        KCMH|2016-02-08 08:28:00|            37|           34|        100|          30|             3|           SSW|              5|                0|       Light Rain|  false|false|   false|   false|   false|  false|  false|     false|  false|false|          false|          true|       false|           Day|           Day|              Day|                  Day|          2|      1|    2|Winter|       08:39:43|        1|   1|   0|        0.0|(3,[0],[1.0])|                  0|                  0|                     0|                         0|                   0|     43213|                             93.6|              5.4|              6.2|               14.0|     43706.0|                    2172.0|        1.0|\n",
      "|A-16|Source2|       2|2016-02-08 08:43:20|2016-02-08 09:13:20|       40|      -84|   NULL|   NULL|           0|Accident on Wayne...|         Glencoe Ave|      Dayton|Montgomery|   OH|45410-1721|     US|US/Eastern|        KFFO|2016-02-08 08:28:00|            34|         NULL|        100|          30|             3|            SW|              2|             NULL|         Overcast|  false|false|   false|   false|   false|  false|  false|     false|  false|false|          false|         false|       false|           Day|           Day|              Day|                  Day|          2|      1|    2|Winter|       08:43:20|        1|   0|   0|        0.0|(3,[0],[1.0])|                  0|                  0|                     0|                         0|                   0|     45410|                            105.4|              5.4|              7.9|               10.9|     36596.0|                    2174.0|        1.0|\n",
      "|A-17|Source2|       2|2016-02-08 08:53:17|2016-02-08 09:23:17|       40|      -84|   NULL|   NULL|           0|Accident on James...|S James H McGee Blvd|      Dayton|Montgomery|   OH|     45402|     US|US/Eastern|        KFFO|2016-02-08 08:58:00|            36|         NULL|         99|          30|             7|           WSW|              2|             NULL|    Mostly Cloudy|  false|false|   false|   false|   false|  false|  false|     false|  false|false|          false|         false|       false|           Day|           Day|              Day|                  Day|          2|      1|    2|Winter|       08:53:17|        1|   0|   0|        0.0|(3,[0],[1.0])|                  0|                  0|                     0|                         0|                   0|     45402|                             94.3|              6.8|              7.2|               13.1|     26550.0|                    2659.0|        1.0|\n",
      "|A-18|Source2|       2|2016-02-08 09:24:37|2016-02-08 09:54:37|       40|      -84|   NULL|   NULL|           0|Accident on Delph...|         Delphos Ave|      Dayton|Montgomery|   OH|45417-1727|     US|US/Eastern|        KDAY|2016-02-08 08:56:00|            36|           31|         89|          30|            10|            NW|              6|             NULL|    Mostly Cloudy|  false|false|   false|   false|   false|  false|  false|     false|  false|false|          false|         false|       false|           Day|           Day|              Day|                  Day|          2|      1|    2|Winter|       09:24:37|        0|   0|   0|        0.0|(3,[0],[1.0])|                  0|                  0|                     0|                         0|                   0|     45417|                             78.4|              7.3|              6.3|               18.4|     27374.0|                    1372.0|     0.9091|\n",
      "|A-19|Source2|       2|2016-02-08 09:25:17|2016-02-08 09:55:17|       40|      -84|   NULL|   NULL|           0|Accident on Stewa...|          Rubicon St|      Dayton|Montgomery|   OH|45409-2659|     US|US/Eastern|        KFFO|2016-02-08 09:38:00|            37|           32|         93|          30|            10|           WSW|              7|             NULL|         Overcast|  false|false|    true|   false|   false|  false|  false|     false|  false|false|          false|          true|       false|           Day|           Day|              Day|                  Day|          2|      1|    2|Winter|       09:25:17|        0|   0|   0|        0.0|(3,[0],[1.0])|                  0|                  0|                     0|                         0|                   0|     45409|                            110.1|             28.1|             36.6|                7.0|     64111.0|                    5349.0|        1.0|\n",
      "|A-20|Source2|       2|2016-02-08 09:35:35|2016-02-08 10:05:35|       40|      -84|   NULL|   NULL|           0|Accident on Hillc...|     W Hillcrest Ave|      Dayton|Montgomery|   OH|45406-2640|     US|US/Eastern|        KDAY|2016-02-08 09:56:00|            36|           30|         89|          30|            10|          West|              7|             NULL|    Mostly Cloudy|  false|false|   false|   false|   false|  false|  false|     false|  false|false|          false|         false|       false|           Day|           Day|              Day|                  Day|          2|      1|    2|Winter|       09:35:35|        0|   0|   0|        0.0|(3,[0],[1.0])|                  0|                  0|                     0|                         0|                   0|     45406|                             86.4|              5.3|              6.5|               16.6|     28701.0|                    2082.0|        1.0|\n",
      "+----+-------+--------+-------------------+-------------------+---------+---------+-------+-------+------------+--------------------+--------------------+------------+----------+-----+----------+-------+----------+------------+-------------------+--------------+-------------+-----------+------------+--------------+--------------+---------------+-----------------+-----------------+-------+-----+--------+--------+--------+-------+-------+----------+-------+-----+---------------+--------------+------------+--------------+--------------+-----------------+---------------------+-----------+-------+-----+------+---------------+---------+----+----+-----------+-------------+-------------------+-------------------+----------------------+--------------------------+--------------------+----------+---------------------------------+-----------------+-----------------+-------------------+------------+--------------------------+-----------+\n",
      "only showing top 20 rows\n",
      "\n"
     ]
    }
   ],
   "source": [
    "# Step 8: Convert added columns to float\n",
    "result_final_df = result_final_df.select(\n",
    "    *[F.col(col).cast(\"float\").alias(col) if col in ['Sex ratio (males per 100 females)', 'Percent_Age_15-19', 'Percent_Age_20-24',\n",
    "                                                       'Percent_Age_65_over', 'MedianIncome',\n",
    "                                                       'MedianIncome_MarginOfError', 'Urban_Ratio']\n",
    "      else F.col(col) for col in result_final_df.columns]\n",
    ")\n",
    " \n",
    "# Show the final result\n",
    "result_final_df.show()"
   ]
  },
  {
   "cell_type": "markdown",
   "metadata": {},
   "source": [
    "# Initial Column Removal"
   ]
  },
  {
   "cell_type": "code",
   "execution_count": 25,
   "metadata": {
    "tags": []
   },
   "outputs": [
    {
     "name": "stdout",
     "output_type": "stream",
     "text": [
      "['ID', 'Source', 'Severity', 'Start_Time', 'End_Time', 'Start_Lat', 'Start_Lng', 'End_Lat', 'End_Lng', 'Distance(mi)', 'Description', 'Street', 'City', 'County', 'State', 'Zipcode', 'Country', 'Timezone', 'Airport_Code', 'Weather_Timestamp', 'Temperature(F)', 'Wind_Chill(F)', 'Humidity(%)', 'Pressure(in)', 'Visibility(mi)', 'Wind_Direction', 'Wind_Speed(mph)', 'Precipitation(in)', 'Weather_Condition', 'Amenity', 'Bump', 'Crossing', 'Give_way', 'Junction', 'No_Exit', 'Railway', 'Roundabout', 'Station', 'Stop', 'Traffic_Calming', 'Traffic_Signal', 'Turning_Loop', 'Sunrise_Sunset', 'Civil_Twilight', 'Nautical_Twilight', 'Astronomical_Twilight', 'Day_of_Week', 'Weekday', 'Month', 'Season', 'Start_Time_Time', 'Rush Hour', 'Rain', 'Snow', 'SeasonIndex', 'SeasonVec', 'Sunrise_SunsetIndex', 'Civil_TwilightIndex', 'Nautical_TwilightIndex', 'Astronomical_TwilightIndex', 'Interstate Indicator', 'zip_code_5', 'Sex ratio (males per 100 females)', 'Percent_Age_15-19', 'Percent_Age_20-24', 'Percent_Age_65_over', 'MedianIncome', 'MedianIncome_MarginOfError', 'Urban_Ratio']\n"
     ]
    }
   ],
   "source": [
    "#List all columns\n",
    "df = result_final_df\n",
    "print(df.columns)"
   ]
  },
  {
   "cell_type": "code",
   "execution_count": 26,
   "metadata": {
    "tags": []
   },
   "outputs": [
    {
     "name": "stdout",
     "output_type": "stream",
     "text": [
      "+--------+--------------+-----------+------------+--------------+---------------+-----------------+-------+-----+--------+--------+--------+-------+-------+----------+-------+-----+---------------+--------------+-------+---------+----+----+-------------+--------------------------+--------------------+---------------------------------+-----------------+-----------------+-------------------+------------+--------------------------+-----------+\n",
      "|Severity|Temperature(F)|Humidity(%)|Pressure(in)|Visibility(mi)|Wind_Speed(mph)|Precipitation(in)|Amenity| Bump|Crossing|Give_way|Junction|No_Exit|Railway|Roundabout|Station| Stop|Traffic_Calming|Traffic_Signal|Weekday|Rush Hour|Rain|Snow|    SeasonVec|Astronomical_TwilightIndex|Interstate Indicator|Sex ratio (males per 100 females)|Percent_Age_15-19|Percent_Age_20-24|Percent_Age_65_over|MedianIncome|MedianIncome_MarginOfError|Urban_Ratio|\n",
      "+--------+--------------+-----------+------------+--------------+---------------+-----------------+-------+-----+--------+--------+--------+-------+-------+----------+-------+-----+---------------+--------------+-------+---------+----+----+-------------+--------------------------+--------------------+---------------------------------+-----------------+-----------------+-------------------+------------+--------------------------+-----------+\n",
      "|       3|            37|         91|          30|            10|           NULL|                0|  false|false|   false|   false|   false|  false|  false|     false|  false|false|          false|         false|      1|        0|   1|   0|(3,[0],[1.0])|                         1|                   1|                             94.7|              6.4|              6.3|               15.6|     66080.0|                    2959.0|     0.9612|\n",
      "|       2|            38|        100|          30|            10|           NULL|                0|  false|false|   false|   false|   false|  false|  false|     false|  false|false|          false|         false|      1|        1|   1|   0|(3,[0],[1.0])|                         0|                   0|                             94.8|              7.3|              6.8|               11.6|     64626.0|                    2506.0|     0.9902|\n",
      "|       2|            36|        100|          30|            10|              4|             NULL|  false|false|   false|   false|   false|  false|  false|     false|  false|false|          false|          true|      1|        1|   0|   0|(3,[0],[1.0])|                         0|                   0|                             92.9|              6.2|              3.9|               16.0|     60625.0|                    7291.0|        0.0|\n",
      "|       3|            35|         96|          30|             9|              5|             NULL|  false|false|   false|   false|   false|  false|  false|     false|  false|false|          false|         false|      1|        1|   0|   0|(3,[0],[1.0])|                         0|                   1|                             78.4|              7.3|              6.3|               18.4|     27374.0|                    1372.0|     0.9091|\n",
      "|       2|            36|         89|          30|             6|              4|             NULL|  false|false|   false|   false|   false|  false|  false|     false|  false|false|          false|          true|      1|        1|   0|   0|(3,[0],[1.0])|                         0|                   0|                             83.2|              4.5|              4.2|               28.2|     75065.0|                    3739.0|        1.0|\n",
      "+--------+--------------+-----------+------------+--------------+---------------+-----------------+-------+-----+--------+--------+--------+-------+-------+----------+-------+-----+---------------+--------------+-------+---------+----+----+-------------+--------------------------+--------------------+---------------------------------+-----------------+-----------------+-------------------+------------+--------------------------+-----------+\n",
      "only showing top 5 rows\n",
      "\n"
     ]
    }
   ],
   "source": [
    "# Initial Column Removal\n",
    "df = df.drop(\n",
    "            'ID'\n",
    "             , 'Source' # Not useful?\n",
    "             , 'Start_Time' # Used to calculate Rush Hour and Holiday Columns\n",
    "             , 'End_Time'\n",
    "             , 'Start_Lat'\n",
    "             , 'Start_Lng'\n",
    "             , 'End_Lat'\n",
    "             , 'End_Lng'\n",
    "             , 'Distance(mi)' # Data leakage issue - captured after accident occured\n",
    "             , 'Description' # Captures little new data\n",
    "             , 'Street' # Not useful for prediction\n",
    "             , 'City'\n",
    "             , 'County'\n",
    "             , 'State'\n",
    "             , 'Zipcode'\n",
    "             , 'Country' # 100% US\n",
    "             , 'Timezone' # Not for prediction\n",
    "             , 'Airport_Code' # Not for prediction\n",
    "             , 'Weather_Timestamp' # Not for prediction\n",
    "             , 'Wind_Chill(F)' # 99% correlated with Temperature(F)\n",
    "             , 'Wind_Direction' # Not useful?\n",
    "             , 'Weather_Condition' # Turning into binary columns for rain and snow\n",
    "             , 'Turning_Loop' # 100% False (not a single true value)\n",
    "             , 'Sunrise_Sunset' # Highly correlated with other day/night variables\n",
    "             , 'Civil_Twilight' # Highly correlated with other day/night variables\n",
    "             , 'Nautical_Twilight' # Highly correlated with other day/night variables\n",
    "             , 'Astronomical_Twilight' # True Night - removing to keep index column\n",
    "             , 'Day_of_Week' # Used to create Weekday column\n",
    "             , 'Month' # Use Season instead\n",
    "             , 'Season' #Used to create SeasonVec\n",
    "             , 'Start_Time_Time' #Used to calculate Rush Hour Column\n",
    "             , 'Start_Date_Date' #Used to calculate Holiday Column\n",
    "             , 'Sunrise_SunsetIndex' # Highly correlated with other day/night variables\n",
    "             , 'Civil_TwilightIndex' # Highly correlated with other day/night variables\n",
    "             , 'Nautical_TwilightIndex' # Highly correlated with other day/night variables\n",
    "             , 'SeasonIndex'\n",
    "             , 'zip_code_5'\n",
    "            )\n",
    "df.show(5)"
   ]
  },
  {
   "cell_type": "markdown",
   "metadata": {},
   "source": [
    "# Further Column Removal and Preprocessing"
   ]
  },
  {
   "cell_type": "markdown",
   "metadata": {},
   "source": [
    "### Nulls"
   ]
  },
  {
   "cell_type": "code",
   "execution_count": 27,
   "metadata": {
    "tags": []
   },
   "outputs": [
    {
     "name": "stderr",
     "output_type": "stream",
     "text": [
      "                                                                                \r"
     ]
    },
    {
     "name": "stdout",
     "output_type": "stream",
     "text": [
      "7720586\n"
     ]
    },
    {
     "name": "stderr",
     "output_type": "stream",
     "text": [
      "[Stage 74:================================================>       (20 + 3) / 23]\r"
     ]
    },
    {
     "name": "stdout",
     "output_type": "stream",
     "text": [
      "+--------+--------------+-----------+------------+--------------+---------------+-----------------+-------+----+--------+--------+--------+-------+-------+----------+-------+----+---------------+--------------+-------+---------+----+----+---------+--------------------------+--------------------+---------------------------------+-----------------+-----------------+-------------------+------------+--------------------------+-----------+\n",
      "|Severity|Temperature(F)|Humidity(%)|Pressure(in)|Visibility(mi)|Wind_Speed(mph)|Precipitation(in)|Amenity|Bump|Crossing|Give_way|Junction|No_Exit|Railway|Roundabout|Station|Stop|Traffic_Calming|Traffic_Signal|Weekday|Rush Hour|Rain|Snow|SeasonVec|Astronomical_TwilightIndex|Interstate Indicator|Sex ratio (males per 100 females)|Percent_Age_15-19|Percent_Age_20-24|Percent_Age_65_over|MedianIncome|MedianIncome_MarginOfError|Urban_Ratio|\n",
      "+--------+--------------+-----------+------------+--------------+---------------+-----------------+-------+----+--------+--------+--------+-------+-------+----------+-------+----+---------------+--------------+-------+---------+----+----+---------+--------------------------+--------------------+---------------------------------+-----------------+-----------------+-------------------+------------+--------------------------+-----------+\n",
      "|       0|        156045|     166336|      132871|        169290|         563425|          2195778|      0|   0|       0|       0|       0|      0|      0|         0|      0|   0|              0|             0|      0|        0|   0|   0|        0|                         0|                   0|                            17575|            14705|            14705|              14705|       43426|                     43426|       4179|\n",
      "+--------+--------------+-----------+------------+--------------+---------------+-----------------+-------+----+--------+--------+--------+-------+-------+----------+-------+----+---------------+--------------+-------+---------+----+----+---------+--------------------------+--------------------+---------------------------------+-----------------+-----------------+-------------------+------------+--------------------------+-----------+\n",
      "\n"
     ]
    },
    {
     "name": "stderr",
     "output_type": "stream",
     "text": [
      "                                                                                \r"
     ]
    }
   ],
   "source": [
    "rows = df.count()\n",
    "print(rows)\n",
    "\n",
    "#Null counts\n",
    "df.agg(*[\n",
    "    (rows-count(c)).alias(c)    # vertical (column-wise) operations in SQL ignore NULLs\n",
    "    for c in df.columns \n",
    "]).show()"
   ]
  },
  {
   "cell_type": "code",
   "execution_count": 28,
   "metadata": {
    "tags": []
   },
   "outputs": [],
   "source": [
    "# Impute with 0 in 'Precipitation(in)' if 'Rain'=0 AND 'Snow'=0\n",
    "df = df.withColumn(\"Precipitation(in)\", when((col(\"Rain\")==0) & (col(\"Snow\")==0), 0).otherwise(col(\"Precipitation(in)\")))"
   ]
  },
  {
   "cell_type": "code",
   "execution_count": 29,
   "metadata": {
    "tags": []
   },
   "outputs": [
    {
     "name": "stderr",
     "output_type": "stream",
     "text": [
      "[Stage 80:==============================================>         (19 + 4) / 23]\r"
     ]
    },
    {
     "name": "stdout",
     "output_type": "stream",
     "text": [
      "+-----------------+\n",
      "|Precipitation(in)|\n",
      "+-----------------+\n",
      "|            38354|\n",
      "+-----------------+\n",
      "\n"
     ]
    },
    {
     "name": "stderr",
     "output_type": "stream",
     "text": [
      "                                                                                \r"
     ]
    }
   ],
   "source": [
    "#Null counts check for Precipitation\n",
    "df.agg(*[\n",
    "    (rows-count('Precipitation(in)')).alias('Precipitation(in)')\n",
    "]).show()"
   ]
  },
  {
   "cell_type": "code",
   "execution_count": 30,
   "metadata": {
    "tags": []
   },
   "outputs": [
    {
     "name": "stderr",
     "output_type": "stream",
     "text": [
      "                                                                                \r"
     ]
    },
    {
     "name": "stdout",
     "output_type": "stream",
     "text": [
      "7026946\n",
      "+--------+--------------+-----------+------------+--------------+---------------+-----------------+-------+-----+--------+--------+--------+-------+-------+----------+-------+-----+---------------+--------------+-------+---------+----+----+-------------+--------------------------+--------------------+---------------------------------+-----------------+-----------------+-------------------+------------+--------------------------+-----------+\n",
      "|Severity|Temperature(F)|Humidity(%)|Pressure(in)|Visibility(mi)|Wind_Speed(mph)|Precipitation(in)|Amenity| Bump|Crossing|Give_way|Junction|No_Exit|Railway|Roundabout|Station| Stop|Traffic_Calming|Traffic_Signal|Weekday|Rush Hour|Rain|Snow|    SeasonVec|Astronomical_TwilightIndex|Interstate Indicator|Sex ratio (males per 100 females)|Percent_Age_15-19|Percent_Age_20-24|Percent_Age_65_over|MedianIncome|MedianIncome_MarginOfError|Urban_Ratio|\n",
      "+--------+--------------+-----------+------------+--------------+---------------+-----------------+-------+-----+--------+--------+--------+-------+-------+----------+-------+-----+---------------+--------------+-------+---------+----+----+-------------+--------------------------+--------------------+---------------------------------+-----------------+-----------------+-------------------+------------+--------------------------+-----------+\n",
      "|       2|            36|        100|          30|            10|              4|                0|  false|false|   false|   false|   false|  false|  false|     false|  false|false|          false|          true|      1|        1|   0|   0|(3,[0],[1.0])|                         0|                   0|                             92.9|              6.2|              3.9|               16.0|     60625.0|                    7291.0|        0.0|\n",
      "|       3|            35|         96|          30|             9|              5|                0|  false|false|   false|   false|   false|  false|  false|     false|  false|false|          false|         false|      1|        1|   0|   0|(3,[0],[1.0])|                         0|                   1|                             78.4|              7.3|              6.3|               18.4|     27374.0|                    1372.0|     0.9091|\n",
      "|       2|            36|         89|          30|             6|              4|                0|  false|false|   false|   false|   false|  false|  false|     false|  false|false|          false|          true|      1|        1|   0|   0|(3,[0],[1.0])|                         0|                   0|                             83.2|              4.5|              4.2|               28.2|     75065.0|                    3739.0|        1.0|\n",
      "|       3|            38|         97|          30|             7|              4|                0|  false|false|   false|   false|   false|  false|  false|     false|  false|false|          false|         false|      1|        1|   1|   0|(3,[0],[1.0])|                         0|                   0|                             89.9|              6.2|              5.4|               14.5|     82999.0|                    2739.0|     0.9838|\n",
      "|       2|            34|        100|          30|             7|              4|                0|  false|false|   false|   false|   false|  false|  false|     false|  false|false|          false|         false|      1|        1|   0|   0|(3,[0],[1.0])|                         0|                   0|                             78.4|              7.3|              6.3|               18.4|     27374.0|                    1372.0|     0.9091|\n",
      "+--------+--------------+-----------+------------+--------------+---------------+-----------------+-------+-----+--------+--------+--------+-------+-------+----------+-------+-----+---------------+--------------+-------+---------+----+----+-------------+--------------------------+--------------------+---------------------------------+-----------------+-----------------+-------------------+------------+--------------------------+-----------+\n",
      "only showing top 5 rows\n",
      "\n"
     ]
    }
   ],
   "source": [
    "# Remove Nulls\n",
    "df = df.dropna()\n",
    "rows = df.count()\n",
    "print(rows)\n",
    "df.show(5)"
   ]
  },
  {
   "cell_type": "markdown",
   "metadata": {},
   "source": [
    "### Too few data points (POIs)"
   ]
  },
  {
   "cell_type": "code",
   "execution_count": 31,
   "metadata": {
    "tags": []
   },
   "outputs": [
    {
     "name": "stderr",
     "output_type": "stream",
     "text": [
      "[Stage 96:===================================================>    (21 + 2) / 23]\r"
     ]
    },
    {
     "name": "stdout",
     "output_type": "stream",
     "text": [
      "+-----------------+-------------------+------------------+------------------+-----------------+------------------+------------------+--------------------+------------------+------------------+----------------------+---------------------+\n",
      "|   Amenity % True|        Bump % True|   Crossing % True|   Give Way % True|  Junction % True|    No Exit % True|    Railway % True|   Roundabout % True|    Station % True|       Stop % True|Traffic Calming % True|Traffic Signal % True|\n",
      "+-----------------+-------------------+------------------+------------------+-----------------+------------------+------------------+--------------------+------------------+------------------+----------------------+---------------------+\n",
      "|1.246131676549101|0.04669169223728203|11.457139417322972|0.4639853501079986|7.312650474331239|0.2575941241045541|0.8586802858596039|0.003315807464579...|2.6502978676654125|2.7679307625247156|    0.0993888383374513|   14.763796391775315|\n",
      "+-----------------+-------------------+------------------+------------------+-----------------+------------------+------------------+--------------------+------------------+------------------+----------------------+---------------------+\n",
      "\n"
     ]
    },
    {
     "name": "stderr",
     "output_type": "stream",
     "text": [
      "                                                                                \r"
     ]
    }
   ],
   "source": [
    "from pyspark.sql.functions import sum\n",
    "df.select(((sum(df.Amenity.cast(\"long\"))/rows)*100).alias('Amenity % True'), \n",
    "          ((sum(df.Bump.cast(\"long\"))/rows)*100).alias('Bump % True'),\n",
    "          ((sum(df.Crossing.cast(\"long\"))/rows)*100).alias('Crossing % True'), \n",
    "          ((sum(df.Give_way.cast(\"long\"))/rows)*100).alias('Give Way % True'),\n",
    "          ((sum(df.Junction.cast(\"long\"))/rows)*100).alias('Junction % True'), \n",
    "          ((sum(df.No_Exit.cast(\"long\"))/rows)*100).alias('No Exit % True'),\n",
    "          ((sum(df.Railway.cast(\"long\"))/rows)*100).alias('Railway % True'), \n",
    "          ((sum(df.Roundabout.cast(\"long\"))/rows)*100).alias('Roundabout % True'),\n",
    "          ((sum(df.Station.cast(\"long\"))/rows)*100).alias('Station % True'), \n",
    "          ((sum(df.Stop.cast(\"long\"))/rows)*100).alias('Stop % True'),\n",
    "          ((sum(df.Traffic_Calming.cast(\"long\"))/rows)*100).alias('Traffic Calming % True'), \n",
    "          ((sum(df.Traffic_Signal.cast(\"long\"))/rows)*100).alias('Traffic Signal % True')\n",
    "    ).show()"
   ]
  },
  {
   "cell_type": "markdown",
   "metadata": {},
   "source": [
    "### Outliers"
   ]
  },
  {
   "cell_type": "code",
   "execution_count": 32,
   "metadata": {
    "tags": []
   },
   "outputs": [],
   "source": [
    "def outliers(df, col):\n",
    "    \n",
    "    # Calculate quantiles\n",
    "    q1, q3 = df.approxQuantile(col, [0.25, 0.75], 0.01) #arguably not quartiles anymore but changed to only pick up more extreme outliers\n",
    "    iqr = q3 - q1\n",
    "\n",
    "    # Define outlier boundaries\n",
    "    lower_bound = q1 - 1.5 * iqr\n",
    "    upper_bound = q3 + 1.5 * iqr\n",
    "\n",
    "    # Identify outliers\n",
    "    outliers = df.filter((df[col] < lower_bound) | (df[col] > upper_bound))\n",
    "\n",
    "    #outliers_df[col] = outliers\n",
    "    outliers.select(col).sort(desc(col)).show()"
   ]
  },
  {
   "cell_type": "code",
   "execution_count": 33,
   "metadata": {
    "tags": []
   },
   "outputs": [
    {
     "name": "stderr",
     "output_type": "stream",
     "text": [
      "[Stage 107:=============================================>         (19 + 4) / 23]\r"
     ]
    },
    {
     "name": "stdout",
     "output_type": "stream",
     "text": [
      "+--------------+\n",
      "|Temperature(F)|\n",
      "+--------------+\n",
      "|           196|\n",
      "|           196|\n",
      "|           196|\n",
      "|           196|\n",
      "|           196|\n",
      "|           189|\n",
      "|           174|\n",
      "|           174|\n",
      "|           172|\n",
      "|           172|\n",
      "|           171|\n",
      "|           169|\n",
      "|           167|\n",
      "|           162|\n",
      "|           162|\n",
      "|           162|\n",
      "|           144|\n",
      "|           140|\n",
      "|           140|\n",
      "|           140|\n",
      "+--------------+\n",
      "only showing top 20 rows\n",
      "\n",
      "None\n"
     ]
    },
    {
     "name": "stderr",
     "output_type": "stream",
     "text": [
      "                                                                                \r"
     ]
    }
   ],
   "source": [
    "col = 'Temperature(F)'\n",
    " #'Humidity(%)',\n",
    " #'Pressure(in)',\n",
    " #'Visibility(mi)',\n",
    " #'Wind_Speed(mph)',\n",
    " #'Precipitation(in)'\n",
    "\n",
    "out = outliers(df, col)\n",
    "print(out)"
   ]
  },
  {
   "cell_type": "markdown",
   "metadata": {},
   "source": [
    "### Correlation between Features and Target"
   ]
  },
  {
   "cell_type": "code",
   "execution_count": 34,
   "metadata": {
    "tags": []
   },
   "outputs": [
    {
     "name": "stderr",
     "output_type": "stream",
     "text": [
      "                                                                                \r"
     ]
    },
    {
     "data": {
      "image/png": "[encoded data removed]",
      "text/plain": [
       "<Figure size 640x480 with 2 Axes>"
      ]
     },
     "metadata": {},
     "output_type": "display_data"
    }
   ],
   "source": [
    "# Correlations - Day/Night Columns\n",
    "\n",
    "cols = ['Severity', \n",
    " 'Temperature(F)',\n",
    " 'Humidity(%)',\n",
    " 'Pressure(in)',\n",
    " 'Visibility(mi)',\n",
    " 'Wind_Speed(mph)',\n",
    " 'Precipitation(in)',\n",
    " 'Amenity',\n",
    " 'Bump',\n",
    " 'Crossing',\n",
    " 'Give_way',\n",
    " 'Junction',\n",
    " 'No_Exit',\n",
    " 'Railway',\n",
    " 'Roundabout',\n",
    " 'Station',\n",
    " 'Stop',\n",
    " 'Traffic_Calming',\n",
    " 'Traffic_Signal',\n",
    " 'Weekday',\n",
    " 'Rush Hour',\n",
    " #'Holiday',\n",
    " 'Rain',\n",
    " 'Snow',\n",
    " 'Astronomical_TwilightIndex',\n",
    "'Interstate Indicator',\n",
    " 'Sex ratio (males per 100 females)',\n",
    " 'Percent_Age_15-19',\n",
    " 'Percent_Age_20-24',\n",
    " 'Percent_Age_65_over',\n",
    " 'MedianIncome',\n",
    " 'MedianIncome_MarginOfError',\n",
    " 'Urban_Ratio']\n",
    "        \n",
    "# Select Relevant Columns\n",
    "df1 = df.select(cols)\n",
    "df1 = df1.na.drop()\n",
    "\n",
    "# Assemble features into a vector column\n",
    "assembler = VectorAssembler(inputCols=cols, outputCol=\"features\")\n",
    "df_vector = assembler.transform(df1)\n",
    "\n",
    "# Calculate the correlation matrix\n",
    "correlation_matrix = Correlation.corr(df_vector, \"features\").head()[0]\n",
    "\n",
    "# Turn into a dataframe\n",
    "corr_matrix_pd = pd.DataFrame(correlation_matrix.toArray(), columns=df1.columns, index=df1.columns)\n",
    "corr_matrix_pd = corr_matrix_pd.drop(['Temperature(F)',\n",
    " 'Humidity(%)',\n",
    " 'Pressure(in)',\n",
    " 'Visibility(mi)',\n",
    " 'Wind_Speed(mph)',\n",
    " 'Precipitation(in)',\n",
    " 'Amenity',\n",
    " 'Bump',\n",
    " 'Crossing',\n",
    " 'Give_way',\n",
    " 'Junction',\n",
    " 'No_Exit',\n",
    " 'Railway',\n",
    " 'Roundabout',\n",
    " 'Station',\n",
    " 'Stop',\n",
    " 'Traffic_Calming',\n",
    " 'Traffic_Signal',\n",
    " 'Weekday',\n",
    " 'Rush Hour',\n",
    " #'Holiday',\n",
    " 'Rain',\n",
    " 'Snow',\n",
    " 'Astronomical_TwilightIndex',\n",
    " 'Interstate Indicator',\n",
    " 'Sex ratio (males per 100 females)',\n",
    " 'Percent_Age_15-19',\n",
    " 'Percent_Age_20-24',\n",
    " 'Percent_Age_65_over',\n",
    " 'MedianIncome',\n",
    " 'MedianIncome_MarginOfError',\n",
    " 'Urban_Ratio'])\n",
    "\n",
    "#Plot\n",
    "ax = sns.heatmap(corr_matrix_pd.T, annot=True, cmap=\"coolwarm\")\n",
    "# Rotate the value labels by 90 degrees\n",
    "#for t in ax.texts:\n",
    "    #t.set_rotation(90)\n",
    "plt.show()"
   ]
  },
  {
   "cell_type": "code",
   "execution_count": 35,
   "metadata": {
    "tags": []
   },
   "outputs": [
    {
     "name": "stdout",
     "output_type": "stream",
     "text": [
      "+--------+--------------+-----------+------------+--------------+---------------+-----------------+-------+-----+--------+--------+--------+-------+-------+----------+-------+-----+---------------+--------------+-------+---------+----+----+-------------+--------------------------+--------------------+---------------------------------+-----------------+-----------------+-------------------+------------+--------------------------+-----------+\n",
      "|Severity|Temperature(F)|Humidity(%)|Pressure(in)|Visibility(mi)|Wind_Speed(mph)|Precipitation(in)|Amenity| Bump|Crossing|Give_way|Junction|No_Exit|Railway|Roundabout|Station| Stop|Traffic_Calming|Traffic_Signal|Weekday|Rush Hour|Rain|Snow|    SeasonVec|Astronomical_TwilightIndex|Interstate Indicator|Sex ratio (males per 100 females)|Percent_Age_15-19|Percent_Age_20-24|Percent_Age_65_over|MedianIncome|MedianIncome_MarginOfError|Urban_Ratio|\n",
      "+--------+--------------+-----------+------------+--------------+---------------+-----------------+-------+-----+--------+--------+--------+-------+-------+----------+-------+-----+---------------+--------------+-------+---------+----+----+-------------+--------------------------+--------------------+---------------------------------+-----------------+-----------------+-------------------+------------+--------------------------+-----------+\n",
      "|       2|            36|        100|          30|            10|              4|                0|  false|false|   false|   false|   false|  false|  false|     false|  false|false|          false|          true|      1|        1|   0|   0|(3,[0],[1.0])|                         0|                   0|                             92.9|              6.2|              3.9|               16.0|     60625.0|                    7291.0|        0.0|\n",
      "|       3|            35|         96|          30|             9|              5|                0|  false|false|   false|   false|   false|  false|  false|     false|  false|false|          false|         false|      1|        1|   0|   0|(3,[0],[1.0])|                         0|                   1|                             78.4|              7.3|              6.3|               18.4|     27374.0|                    1372.0|     0.9091|\n",
      "|       2|            36|         89|          30|             6|              4|                0|  false|false|   false|   false|   false|  false|  false|     false|  false|false|          false|          true|      1|        1|   0|   0|(3,[0],[1.0])|                         0|                   0|                             83.2|              4.5|              4.2|               28.2|     75065.0|                    3739.0|        1.0|\n",
      "|       3|            38|         97|          30|             7|              4|                0|  false|false|   false|   false|   false|  false|  false|     false|  false|false|          false|         false|      1|        1|   1|   0|(3,[0],[1.0])|                         0|                   0|                             89.9|              6.2|              5.4|               14.5|     82999.0|                    2739.0|     0.9838|\n",
      "|       2|            34|        100|          30|             7|              4|                0|  false|false|   false|   false|   false|  false|  false|     false|  false|false|          false|         false|      1|        1|   0|   0|(3,[0],[1.0])|                         0|                   0|                             78.4|              7.3|              6.3|               18.4|     27374.0|                    1372.0|     0.9091|\n",
      "+--------+--------------+-----------+------------+--------------+---------------+-----------------+-------+-----+--------+--------+--------+-------+-------+----------+-------+-----+---------------+--------------+-------+---------+----+----+-------------+--------------------------+--------------------+---------------------------------+-----------------+-----------------+-------------------+------------+--------------------------+-----------+\n",
      "only showing top 5 rows\n",
      "\n"
     ]
    }
   ],
   "source": [
    "df.show(5)"
   ]
  },
  {
   "cell_type": "markdown",
   "metadata": {},
   "source": [
    "### Combine Similar, Sparse Binary Columns"
   ]
  },
  {
   "cell_type": "code",
   "execution_count": 36,
   "metadata": {
    "tags": []
   },
   "outputs": [],
   "source": [
    "# Combine POIs\n",
    "# Traffic interference, intersection, destination\n",
    "columns_to_binary = [\"Amenity\", \"Bump\", \"Crossing\", \"Give_Way\", \"Junction\", \"No_Exit\", \"Railway\", \n",
    "                     \"Roundabout\", \"Station\", \"Stop\", \"Traffic_Calming\", \"Traffic_Signal\"]\n",
    "\n",
    "for col in columns_to_binary:\n",
    "    df = df.withColumn(col, F.col(col).cast(IntegerType()))\n",
    "\n",
    "df = df.withColumn(\n",
    "    \"Traffic_Interference\",\n",
    "    F.when((F.col(\"Bump\") + F.col(\"Railway\") + F.col(\"Traffic_calming\")) > 1, 1).otherwise(\n",
    "        F.col(\"Bump\") + F.col(\"Railway\") + F.col(\"Traffic_calming\")\n",
    "    )\n",
    ")\n",
    "\n",
    "df = df.withColumn(\n",
    "    \"Traffic_Intersection\",\n",
    "    F.when((F.col(\"Crossing\") + F.col(\"Give_way\") + F.col(\"Junction\") + F.col(\"Roundabout\") + F.col(\"Stop\") + F.col(\"Traffic_signal\")) > 1, 1).otherwise(\n",
    "        (F.col(\"Crossing\") + F.col(\"Give_way\") + F.col(\"Junction\") + F.col(\"Roundabout\") + F.col(\"Stop\") + F.col(\"Traffic_signal\"))\n",
    "    )\n",
    ")\n",
    "\n",
    "df = df.withColumn(\n",
    "    \"Destination\",\n",
    "    F.when((F.col(\"Amenity\") + F.col(\"Station\")) > 1, 1).otherwise(\n",
    "        (F.col(\"Amenity\") + F.col(\"Station\"))\n",
    "    )\n",
    ")"
   ]
  },
  {
   "cell_type": "code",
   "execution_count": 37,
   "metadata": {
    "tags": []
   },
   "outputs": [
    {
     "name": "stderr",
     "output_type": "stream",
     "text": [
      "[Stage 124:==================================================>    (21 + 2) / 23]\r"
     ]
    },
    {
     "name": "stdout",
     "output_type": "stream",
     "text": [
      "+---------------------------+---------------------------+------------------+\n",
      "|Traffic_Interference % True|Traffic_Intersection % True|Destination % True|\n",
      "+---------------------------+---------------------------+------------------+\n",
      "|         0.9555929417986134|          28.18081994653154|3.5977222537358333|\n",
      "+---------------------------+---------------------------+------------------+\n",
      "\n"
     ]
    },
    {
     "name": "stderr",
     "output_type": "stream",
     "text": [
      "                                                                                \r"
     ]
    }
   ],
   "source": [
    "# Check Sparsity now\n",
    "df.select(((sum(df.Traffic_Interference)/rows)*100).alias('Traffic_Interference % True'), \n",
    "          ((sum(df.Traffic_Intersection)/rows)*100).alias('Traffic_Intersection % True'),\n",
    "          ((sum(df.Destination)/rows)*100).alias('Destination % True')\n",
    "    ).show()"
   ]
  },
  {
   "cell_type": "code",
   "execution_count": 38,
   "metadata": {
    "tags": []
   },
   "outputs": [
    {
     "name": "stdout",
     "output_type": "stream",
     "text": [
      "+--------+--------------+-----------+------------+--------------+---------------+-----------------+-------+---------+----+----+-------------+--------------------------+--------------------+---------------------------------+-----------------+-----------------+-------------------+------------+--------------------------+-----------+--------------------+--------------------+-----------+\n",
      "|Severity|Temperature(F)|Humidity(%)|Pressure(in)|Visibility(mi)|Wind_Speed(mph)|Precipitation(in)|Weekday|Rush Hour|Rain|Snow|    SeasonVec|Astronomical_TwilightIndex|Interstate Indicator|Sex ratio (males per 100 females)|Percent_Age_15-19|Percent_Age_20-24|Percent_Age_65_over|MedianIncome|MedianIncome_MarginOfError|Urban_Ratio|Traffic_Interference|Traffic_Intersection|Destination|\n",
      "+--------+--------------+-----------+------------+--------------+---------------+-----------------+-------+---------+----+----+-------------+--------------------------+--------------------+---------------------------------+-----------------+-----------------+-------------------+------------+--------------------------+-----------+--------------------+--------------------+-----------+\n",
      "|       2|            36|        100|          30|            10|              4|                0|      1|        1|   0|   0|(3,[0],[1.0])|                         0|                   0|                             92.9|              6.2|              3.9|               16.0|     60625.0|                    7291.0|        0.0|                   0|                   1|          0|\n",
      "|       3|            35|         96|          30|             9|              5|                0|      1|        1|   0|   0|(3,[0],[1.0])|                         0|                   1|                             78.4|              7.3|              6.3|               18.4|     27374.0|                    1372.0|     0.9091|                   0|                   0|          0|\n",
      "|       2|            36|         89|          30|             6|              4|                0|      1|        1|   0|   0|(3,[0],[1.0])|                         0|                   0|                             83.2|              4.5|              4.2|               28.2|     75065.0|                    3739.0|        1.0|                   0|                   1|          0|\n",
      "|       3|            38|         97|          30|             7|              4|                0|      1|        1|   1|   0|(3,[0],[1.0])|                         0|                   0|                             89.9|              6.2|              5.4|               14.5|     82999.0|                    2739.0|     0.9838|                   0|                   0|          0|\n",
      "|       2|            34|        100|          30|             7|              4|                0|      1|        1|   0|   0|(3,[0],[1.0])|                         0|                   0|                             78.4|              7.3|              6.3|               18.4|     27374.0|                    1372.0|     0.9091|                   0|                   0|          0|\n",
      "+--------+--------------+-----------+------------+--------------+---------------+-----------------+-------+---------+----+----+-------------+--------------------------+--------------------+---------------------------------+-----------------+-----------------+-------------------+------------+--------------------------+-----------+--------------------+--------------------+-----------+\n",
      "only showing top 5 rows\n",
      "\n"
     ]
    }
   ],
   "source": [
    "#Remove combined POIs\n",
    "df = df.drop('Amenity',\n",
    " 'Bump',\n",
    " 'Crossing',\n",
    " 'Give_Way',\n",
    " 'Junction',\n",
    " 'No_Exit',\n",
    " 'Railway', \n",
    " 'Roundabout',\n",
    " 'Station',\n",
    " 'Stop',\n",
    " 'Traffic_Calming',\n",
    " 'Traffic_Signal')\n",
    "df.show(5)"
   ]
  },
  {
   "cell_type": "markdown",
   "metadata": {},
   "source": [
    "### Remove Nonsensical Outliers"
   ]
  },
  {
   "cell_type": "code",
   "execution_count": 39,
   "metadata": {
    "tags": []
   },
   "outputs": [],
   "source": [
    "# Remove outliers that are almost guaranteed to be data collection errors\n",
    "df = df.filter(F.col(\"Wind_Speed(mph)\") <= 318)\n",
    "df = df.filter(F.col(\"Pressure(in)\") <= 31.42)\n",
    "df = df.filter(F.col(\"Temperature(F)\") <= 130)\n",
    "\n",
    "# Force all \"Visibility(mi)\" values over 40 to be 40 to retain data but not have extremely influential outliers\n",
    "df = df.withColumn(\"Visibility(mi)\", F.when(F.col(\"Visibility(mi)\") > 40, 40).otherwise(F.col(\"Visibility(mi)\")))"
   ]
  },
  {
   "cell_type": "markdown",
   "metadata": {},
   "source": [
    "### Look into Margin of Error for Median Income"
   ]
  },
  {
   "cell_type": "code",
   "execution_count": 40,
   "metadata": {
    "tags": []
   },
   "outputs": [
    {
     "name": "stderr",
     "output_type": "stream",
     "text": [
      "                                                                                \r"
     ]
    },
    {
     "data": {
      "text/plain": [
       "42343"
      ]
     },
     "execution_count": 40,
     "metadata": {},
     "output_type": "execute_result"
    }
   ],
   "source": [
    "df.select('MedianIncome').where(df.MedianIncome_MarginOfError/df.MedianIncome > 0.5).count()"
   ]
  },
  {
   "cell_type": "markdown",
   "metadata": {},
   "source": [
    "# Create Binary Target Column"
   ]
  },
  {
   "cell_type": "code",
   "execution_count": 41,
   "metadata": {
    "tags": []
   },
   "outputs": [
    {
     "name": "stderr",
     "output_type": "stream",
     "text": [
      "[Stage 140:==================================================>    (21 + 2) / 23]\r"
     ]
    },
    {
     "name": "stdout",
     "output_type": "stream",
     "text": [
      "+--------+-------+------------------+\n",
      "|Severity|  count|           percent|\n",
      "+--------+-------+------------------+\n",
      "|       1|  65142|0.9270314586165882|\n",
      "|       3|1123799| 15.99270863900192|\n",
      "|       4| 178821| 2.544789727998479|\n",
      "|       2|5659044| 80.53347784371759|\n",
      "+--------+-------+------------------+\n",
      "\n"
     ]
    },
    {
     "name": "stderr",
     "output_type": "stream",
     "text": [
      "                                                                                \r"
     ]
    }
   ],
   "source": [
    "# Check Class Imbalance\n",
    "cts = df.groupBy(\"Severity\").count().withColumn('percent', (F.col('count') / rows)*100)\n",
    "cts.show()"
   ]
  },
  {
   "cell_type": "code",
   "execution_count": 42,
   "metadata": {
    "tags": []
   },
   "outputs": [
    {
     "name": "stderr",
     "output_type": "stream",
     "text": [
      "                                                                                \r"
     ]
    },
    {
     "data": {
      "image/png": "[encoded data removed]",
      "text/plain": [
       "<Figure size 640x480 with 1 Axes>"
      ]
     },
     "metadata": {},
     "output_type": "display_data"
    }
   ],
   "source": [
    "# Plot Class Imbalance\n",
    "cts = cts.toPandas()\n",
    "cts['Severity'] = cts['Severity'].astype(str)\n",
    "plt.bar(cts.Severity, cts['count'])\n",
    "plt.xlabel('Severity')\n",
    "plt.ylabel('Counts')\n",
    "plt.title('Bar Plot of MultiClass Target Imbalance')\n",
    "plt.show()"
   ]
  },
  {
   "cell_type": "code",
   "execution_count": 44,
   "metadata": {},
   "outputs": [],
   "source": [
    "# Add Severity Binary Column\n",
    "df = df.withColumn('Severity_Binary', when((F.col(\"Severity\")==1) | (F.col(\"Severity\")==2), 0).otherwise(1))"
   ]
  },
  {
   "cell_type": "code",
   "execution_count": 45,
   "metadata": {
    "tags": []
   },
   "outputs": [
    {
     "name": "stderr",
     "output_type": "stream",
     "text": [
      "[Stage 152:==================================================>    (21 + 2) / 23]\r"
     ]
    },
    {
     "name": "stdout",
     "output_type": "stream",
     "text": [
      "+---------------+-------+------------------+\n",
      "|Severity_Binary|  count|           percent|\n",
      "+---------------+-------+------------------+\n",
      "|              1|1302620|18.537498367000403|\n",
      "|              0|5724186| 81.46050930233419|\n",
      "+---------------+-------+------------------+\n",
      "\n"
     ]
    },
    {
     "name": "stderr",
     "output_type": "stream",
     "text": [
      "                                                                                \r"
     ]
    }
   ],
   "source": [
    "# Check Class Imbalance\n",
    "cts = df.groupBy(\"Severity_Binary\").count().withColumn('percent', (F.col('count') / rows)*100)\n",
    "cts.show()"
   ]
  },
  {
   "cell_type": "code",
   "execution_count": 46,
   "metadata": {
    "tags": []
   },
   "outputs": [
    {
     "name": "stderr",
     "output_type": "stream",
     "text": [
      "                                                                                \r"
     ]
    },
    {
     "data": {
      "image/png": "[encoded data removed]",
      "text/plain": [
       "<Figure size 640x480 with 1 Axes>"
      ]
     },
     "metadata": {},
     "output_type": "display_data"
    }
   ],
   "source": [
    "# Plot Class Imbalance\n",
    "cts = cts.toPandas()\n",
    "cts['Severity_Binary'] = cts['Severity_Binary'].astype(str)\n",
    "plt.bar(cts.Severity_Binary, cts['count'])\n",
    "plt.xlabel('Severity')\n",
    "plt.ylabel('Counts')\n",
    "plt.title('Bar Plot of Binary Target Imbalance')\n",
    "plt.show()"
   ]
  },
  {
   "cell_type": "markdown",
   "metadata": {},
   "source": [
    "# Final Data Frame"
   ]
  },
  {
   "cell_type": "code",
   "execution_count": 47,
   "metadata": {},
   "outputs": [
    {
     "name": "stdout",
     "output_type": "stream",
     "text": [
      "+-----------+--------+--------+----------+----------+-------------+-------+---------+----+----+-------------+--------------------------+--------------------+---------+-----------------+-----------------+-------------------+------------+-----------+--------------------+--------------------+-----------+---------------+\n",
      "|Temperature|Humidity|Pressure|Visibility|Wind_Speed|Precipitation|Weekday|Rush_Hour|Rain|Snow|    SeasonVec|Astronomical_TwilightIndex|Interstate_Indicator|Sex_ratio|Percent_Age_15-19|Percent_Age_20-24|Percent_Age_65_over|MedianIncome|Urban_Ratio|Traffic_Interference|Traffic_Intersection|Destination|Severity_Binary|\n",
      "+-----------+--------+--------+----------+----------+-------------+-------+---------+----+----+-------------+--------------------------+--------------------+---------+-----------------+-----------------+-------------------+------------+-----------+--------------------+--------------------+-----------+---------------+\n",
      "|         36|     100|      30|        10|         4|            0|      1|        1|   0|   0|(3,[0],[1.0])|                         0|                   0|     92.9|              6.2|              3.9|               16.0|     60625.0|        0.0|                   0|                   1|          0|              0|\n",
      "|         35|      96|      30|         9|         5|            0|      1|        1|   0|   0|(3,[0],[1.0])|                         0|                   1|     78.4|              7.3|              6.3|               18.4|     27374.0|     0.9091|                   0|                   0|          0|              1|\n",
      "|         36|      89|      30|         6|         4|            0|      1|        1|   0|   0|(3,[0],[1.0])|                         0|                   0|     83.2|              4.5|              4.2|               28.2|     75065.0|        1.0|                   0|                   1|          0|              0|\n",
      "|         38|      97|      30|         7|         4|            0|      1|        1|   1|   0|(3,[0],[1.0])|                         0|                   0|     89.9|              6.2|              5.4|               14.5|     82999.0|     0.9838|                   0|                   0|          0|              1|\n",
      "|         34|     100|      30|         7|         4|            0|      1|        1|   0|   0|(3,[0],[1.0])|                         0|                   0|     78.4|              7.3|              6.3|               18.4|     27374.0|     0.9091|                   0|                   0|          0|              0|\n",
      "|         34|     100|      30|         7|         4|            0|      1|        1|   0|   0|(3,[0],[1.0])|                         0|                   0|     89.9|              6.1|              7.4|               13.7|     30675.0|        1.0|                   0|                   0|          0|              1|\n",
      "|         33|      99|      30|         5|         1|            0|      1|        1|   0|   0|(3,[0],[1.0])|                         0|                   0|    117.0|              6.1|              6.2|               13.0|     31303.0|        1.0|                   0|                   0|          0|              0|\n",
      "|         37|     100|      30|         3|         5|            0|      1|        1|   1|   0|(3,[0],[1.0])|                         0|                   0|     89.9|              6.2|              5.4|               14.5|     82999.0|     0.9838|                   0|                   0|          0|              1|\n",
      "|         37|     100|      30|         3|         5|            0|      1|        1|   1|   0|(3,[0],[1.0])|                         0|                   1|     94.8|              7.3|              6.8|               11.6|     64626.0|     0.9902|                   0|                   0|          0|              1|\n",
      "|         34|     100|      30|         3|         2|            0|      1|        1|   0|   0|(3,[0],[1.0])|                         0|                   0|     97.5|              5.2|              4.5|               14.6|     43501.0|        1.0|                   0|                   0|          0|              0|\n",
      "+-----------+--------+--------+----------+----------+-------------+-------+---------+----+----+-------------+--------------------------+--------------------+---------+-----------------+-----------------+-------------------+------------+-----------+--------------------+--------------------+-----------+---------------+\n",
      "only showing top 10 rows\n",
      "\n"
     ]
    }
   ],
   "source": [
    "# Rename Columns\n",
    "df = df.withColumnRenamed(\"Temperature(F)\", \"Temperature\")\n",
    "df = df.withColumnRenamed(\"Humidity(%)\", \"Humidity\")\n",
    "df = df.withColumnRenamed(\"Pressure(in)\", \"Pressure\")\n",
    "df = df.withColumnRenamed(\"Visibility(mi)\", \"Visibility\")\n",
    "df = df.withColumnRenamed(\"Wind_Speed(mph)\", \"Wind_Speed\")\n",
    "df = df.withColumnRenamed(\"Precipitation(in)\", \"Precipitation\")\n",
    "df = df.withColumnRenamed(\"Rush Hour\", \"Rush_Hour\")\n",
    "df = df.withColumnRenamed(\"Interstate Indicator\", \"Interstate_Indicator\")\n",
    "df = df.withColumnRenamed(\"Sex ratio (males per 100 females)\", \"Sex_ratio\")\n",
    "\n",
    "# Remove MedianIncome_MarginOfError\n",
    "df = df.drop('MedianIncome_MarginOfError')\n",
    "\n",
    "#Drop multiclass severity column\n",
    "df = df.drop('Severity')\n",
    "\n",
    "#Show\n",
    "df.show(10)"
   ]
  },
  {
   "cell_type": "code",
   "execution_count": 48,
   "metadata": {
    "tags": []
   },
   "outputs": [
    {
     "name": "stderr",
     "output_type": "stream",
     "text": [
      "[Stage 168:====================================================>  (22 + 1) / 23]\r"
     ]
    },
    {
     "name": "stdout",
     "output_type": "stream",
     "text": [
      "DataFrame Rows count : 7026806\n",
      "DataFrame Columns count : 23\n"
     ]
    },
    {
     "name": "stderr",
     "output_type": "stream",
     "text": [
      "                                                                                \r"
     ]
    }
   ],
   "source": [
    "# Get row count\n",
    "rows = df.count()\n",
    "print(f\"DataFrame Rows count : {rows}\")\n",
    "\n",
    "# Get columns count\n",
    "cols = len(df.columns)\n",
    "print(f\"DataFrame Columns count : {cols}\")"
   ]
  },
  {
   "cell_type": "markdown",
   "metadata": {},
   "source": [
    "# Check for Multicollinearity"
   ]
  },
  {
   "cell_type": "code",
   "execution_count": 49,
   "metadata": {
    "tags": []
   },
   "outputs": [],
   "source": [
    "# Select all features except target variable\n",
    "feature_list = []\n",
    "for col in df.columns:\n",
    "    if col == 'Severity_Binary':\n",
    "        continue\n",
    "    else:\n",
    "        feature_list.append(col)      \n",
    "        \n",
    "# Vectorize Features\n",
    "assembler = VectorAssembler(inputCols=feature_list, outputCol='features')"
   ]
  },
  {
   "cell_type": "code",
   "execution_count": 51,
   "metadata": {
    "tags": []
   },
   "outputs": [],
   "source": [
    "feature_list = ['Temperature',\n",
    " 'Humidity',\n",
    " 'Pressure',\n",
    " 'Visibility',\n",
    " 'Wind_Speed',\n",
    " 'Precipitation',\n",
    " 'Weekday',\n",
    " 'Rush_Hour',\n",
    " 'Rain',\n",
    " 'Snow',\n",
    " 'SeasonVec',\n",
    " 'SeasonVec1',\n",
    " 'SeasonnVec2',\n",
    " 'Astronomical_TwilightIndex',\n",
    " 'Interstate_Indicator',\n",
    " 'Sex_ratio',\n",
    " 'Percent_Age_65_over',\n",
    " 'MedianIncome',\n",
    " 'Urban_Ratio',\n",
    " 'Traffic_Interference',\n",
    " 'Traffic_Intersection',\n",
    " 'Destination',\n",
    " 'Percent_Age_15-19',\n",
    " 'Percent_Age_20-24']"
   ]
  },
  {
   "cell_type": "code",
   "execution_count": 52,
   "metadata": {
    "tags": []
   },
   "outputs": [
    {
     "name": "stderr",
     "output_type": "stream",
     "text": [
      "[Stage 178:==================================================>    (21 + 2) / 23]\r"
     ]
    },
    {
     "name": "stdout",
     "output_type": "stream",
     "text": [
      "[('Temperature', 'SeasonVec', -0.517578216843998), ('SeasonVec', 'Temperature', -0.517578216843998), ('Percent_Age_65_over', 'MedianIncome', 0.46583032647448935), ('MedianIncome', 'Percent_Age_65_over', 0.46583032647448935), ('MedianIncome', 'Urban_Ratio', -0.4000733034075923), ('Urban_Ratio', 'MedianIncome', -0.4000733034075923)]\n"
     ]
    },
    {
     "name": "stderr",
     "output_type": "stream",
     "text": [
      "                                                                                \r"
     ]
    }
   ],
   "source": [
    "# Assemble features into a vector\n",
    "df_vector = assembler.transform(df)\n",
    "\n",
    "# Calculate the correlation matrix\n",
    "correlation_matrix = Correlation.corr(df_vector, \"features\").head()[0]\n",
    "\n",
    "# Turn into a dataframe\n",
    "corr_matrix_pd = pd.DataFrame(correlation_matrix.toArray(), columns=feature_list, index=feature_list)\n",
    "\n",
    "# Get the pairs of columns with correlation greater than 0.5\n",
    "high_corr_pairs = []\n",
    "for col1 in corr_matrix_pd.columns:\n",
    "    for col2 in corr_matrix_pd.columns:\n",
    "        if col1 != col2 and ((corr_matrix_pd[col1][col2] > 0.4) | (corr_matrix_pd[col1][col2] < -0.4)):\n",
    "            high_corr_pairs.append((col1, col2, corr_matrix_pd[col1][col2]))\n",
    "\n",
    "print(high_corr_pairs)"
   ]
  },
  {
   "cell_type": "markdown",
   "metadata": {},
   "source": [
    "### Combine younger age columns"
   ]
  },
  {
   "cell_type": "code",
   "execution_count": 53,
   "metadata": {
    "tags": []
   },
   "outputs": [],
   "source": [
    "# Combine Columns Percent_Age_15-19 and Percent_Age_20-24\n",
    "df = df.withColumn(\n",
    "    'Percent_Age_15-24',\n",
    "    F.col('Percent_Age_15-19') + F.col('Percent_Age_20-24')\n",
    ")\n",
    "\n",
    "df = df.drop('Percent_Age_15-19')\n",
    "df = df.drop('Percent_Age_20-24')"
   ]
  },
  {
   "cell_type": "markdown",
   "metadata": {},
   "source": [
    "# Save Final Dataset"
   ]
  },
  {
   "cell_type": "code",
   "execution_count": 54,
   "metadata": {
    "tags": []
   },
   "outputs": [
    {
     "name": "stderr",
     "output_type": "stream",
     "text": [
      "24/11/25 14:40:40 WARN MemoryManager: Total allocation exceeds 95.00% (982,699,200 bytes) of heap memory\n",
      "Scaling row group sizes to 91.52% for 8 writers\n",
      "24/11/25 14:40:52 WARN MemoryManager: Total allocation exceeds 95.00% (982,699,200 bytes) of heap memory\n",
      "Scaling row group sizes to 91.52% for 8 writers\n",
      "24/11/25 14:40:53 WARN MemoryManager: Total allocation exceeds 95.00% (982,699,200 bytes) of heap memory\n",
      "Scaling row group sizes to 91.52% for 8 writers\n",
      "24/11/25 14:40:53 WARN MemoryManager: Total allocation exceeds 95.00% (982,699,200 bytes) of heap memory\n",
      "Scaling row group sizes to 91.52% for 8 writers\n",
      "24/11/25 14:40:53 WARN MemoryManager: Total allocation exceeds 95.00% (982,699,200 bytes) of heap memory\n",
      "Scaling row group sizes to 91.52% for 8 writers\n",
      "24/11/25 14:40:59 WARN MemoryManager: Total allocation exceeds 95.00% (982,699,200 bytes) of heap memory\n",
      "Scaling row group sizes to 91.52% for 8 writers\n",
      "24/11/25 14:40:59 WARN MemoryManager: Total allocation exceeds 95.00% (982,699,200 bytes) of heap memory\n",
      "Scaling row group sizes to 91.52% for 8 writers\n",
      "24/11/25 14:40:59 WARN MemoryManager: Total allocation exceeds 95.00% (982,699,200 bytes) of heap memory\n",
      "Scaling row group sizes to 91.52% for 8 writers\n",
      "                                                                                \r"
     ]
    }
   ],
   "source": [
    "#Write to parquet\n",
    "df.write.parquet(\"final_dataset_binary.parquet\")"
   ]
  },
  {
   "cell_type": "code",
   "execution_count": null,
   "metadata": {},
   "outputs": [],
   "source": []
  }
 ],
 "metadata": {
  "kernelspec": {
   "display_name": "Python 3 (ipykernel)",
   "language": "python",
   "name": "python3"
  },
  "language_info": {
   "codemirror_mode": {
    "name": "ipython",
    "version": 3
   },
   "file_extension": ".py",
   "mimetype": "text/x-python",
   "name": "python",
   "nbconvert_exporter": "python",
   "pygments_lexer": "ipython3",
   "version": "3.11.5"
  }
 },
 "nbformat": 4,
 "nbformat_minor": 4
}
