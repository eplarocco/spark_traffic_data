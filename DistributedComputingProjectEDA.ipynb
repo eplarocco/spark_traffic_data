{
 "cells": [
  {
   "cell_type": "code",
   "execution_count": 10,
   "metadata": {
    "tags": []
   },
   "outputs": [],
   "source": [
    "import pandas as pd\n",
    "import numpy as np\n",
    "import os\n",
    "import pyspark\n",
    "from pyspark.sql import SparkSession\n",
    "from pyspark.sql.types import *\n",
    "from pyspark.sql.functions import *"
   ]
  },
  {
   "cell_type": "code",
   "execution_count": 2,
   "metadata": {
    "tags": []
   },
   "outputs": [
    {
     "name": "stderr",
     "output_type": "stream",
     "text": [
      "24/09/13 17:44:55 WARN Utils: Your hostname, Eileanors-Laptop.local resolves to a loopback address: 127.0.0.1; using 192.168.0.110 instead (on interface en0)\n",
      "24/09/13 17:44:55 WARN Utils: Set SPARK_LOCAL_IP if you need to bind to another address\n",
      "Setting default log level to \"WARN\".\n",
      "To adjust logging level use sc.setLogLevel(newLevel). For SparkR, use setLogLevel(newLevel).\n",
      "24/09/13 17:44:56 WARN NativeCodeLoader: Unable to load native-hadoop library for your platform... using builtin-java classes where applicable\n"
     ]
    }
   ],
   "source": [
    "spark = (SparkSession\n",
    "  .builder\n",
    "  .appName(\"US_Accidents\")\n",
    "  .getOrCreate())"
   ]
  },
  {
   "cell_type": "code",
   "execution_count": 3,
   "metadata": {
    "tags": []
   },
   "outputs": [],
   "source": [
    "schema = StructType([StructField('ID', StringType(), True),\n",
    "                StructField('Source', StringType(), True),\n",
    "                StructField('Severity', IntegerType(), True),\n",
    "                StructField('Start_Time', TimestampType(), True),                  \n",
    "                StructField('End_Time', TimestampType(), True),      \n",
    "                StructField('Start_Lat', DecimalType(), True),\n",
    "                StructField('Start_Lng', DecimalType(), True),\n",
    "                StructField('End_Lat', DecimalType(), True),\n",
    "                StructField('End_Lng', DecimalType(), True),       \n",
    "                StructField('Distance(mi)', DecimalType(), True),       \n",
    "                StructField('Description', StringType(), True),       \n",
    "                StructField('Street', StringType(), True),                 \n",
    "                StructField('City', StringType(), True),       \n",
    "                StructField('County', StringType(), True),       \n",
    "                StructField('State', StringType(), True),       \n",
    "                StructField('Zipcode', StringType(), True),       \n",
    "                StructField('Country', StringType(), True),       \n",
    "                StructField('Timezone', StringType(), True),       \n",
    "                StructField('Airport_Code', StringType(), True),\n",
    "                StructField('Weather_Timestamp', TimestampType(), True),\n",
    "                StructField('Temperature(F)', DecimalType(), True),\n",
    "                StructField('Wind_Chill(F)', DecimalType(), True),\n",
    "                StructField('Humidity(%)', DecimalType(), True),\n",
    "                StructField('Pressure(in)', DecimalType(), True),\n",
    "                StructField('Visibility(mi)', DecimalType(), True),\n",
    "                StructField('Wind_Direction', StringType(), True),\n",
    "                StructField('Wind_Speed(mph)', DecimalType(), True),\n",
    "                StructField('Precipitation(in)', DecimalType(), True),\n",
    "                StructField('Weather_Condition', StringType(), True),\n",
    "                StructField('Amenity', BooleanType(), True),\n",
    "                StructField('Bump', BooleanType(), True),\n",
    "                StructField('Crossing', BooleanType(), True),\n",
    "                StructField('Give_way', BooleanType(), True),\n",
    "                StructField('Junction', BooleanType(), True),\n",
    "                StructField('No_Exit', BooleanType(), True),\n",
    "                StructField('Railway', BooleanType(), True), \n",
    "                StructField('Roundabout', BooleanType(), True),\n",
    "                StructField('Station', BooleanType(), True),\n",
    "                StructField('Stop', BooleanType(), True),\n",
    "                StructField('Traffic_Calming', BooleanType(), True),\n",
    "                StructField('Traffic_Signal', BooleanType(), True),\n",
    "                StructField('Turning_Loop', BooleanType(), True),\n",
    "                StructField('Sunrise_Sunset', StringType(), True),\n",
    "                StructField('Civil_Twilight', StringType(), True),\n",
    "                StructField('Nautical_Twilight', StringType(), True),\n",
    "                StructField('Astronomical_Twilight', StringType(), True)])\n",
    "\n",
    "# Use the DataFrameReader interface to read a CSV file\n",
    "file = \"US_Accidents_March23.csv\"\n",
    "df = spark.read.csv(file, header=True, schema=schema)"
   ]
  },
  {
   "cell_type": "code",
   "execution_count": 4,
   "metadata": {
    "tags": []
   },
   "outputs": [
    {
     "name": "stderr",
     "output_type": "stream",
     "text": [
      "[Stage 0:==========================================>              (17 + 6) / 23]\r"
     ]
    },
    {
     "name": "stdout",
     "output_type": "stream",
     "text": [
      "DataFrame Rows count : 7728394\n",
      "DataFrame Columns count : 46\n"
     ]
    },
    {
     "name": "stderr",
     "output_type": "stream",
     "text": [
      "                                                                                \r"
     ]
    }
   ],
   "source": [
    "# Get row count\n",
    "rows = df.count()\n",
    "print(f\"DataFrame Rows count : {rows}\")\n",
    "\n",
    "# Get columns count\n",
    "cols = len(df.columns)\n",
    "print(f\"DataFrame Columns count : {cols}\")"
   ]
  },
  {
   "cell_type": "code",
   "execution_count": 5,
   "metadata": {
    "tags": []
   },
   "outputs": [
    {
     "name": "stderr",
     "output_type": "stream",
     "text": [
      "24/09/13 17:45:15 WARN SparkStringUtils: Truncated the string representation of a plan since it was too large. This behavior can be adjusted by setting 'spark.sql.debug.maxToStringFields'.\n",
      "[Stage 3:=================================================>       (20 + 3) / 23]\r"
     ]
    },
    {
     "name": "stdout",
     "output_type": "stream",
     "text": [
      "DataFrame Rows count : 3554549\n",
      "DataFrame Columns count : 46\n"
     ]
    },
    {
     "name": "stderr",
     "output_type": "stream",
     "text": [
      "                                                                                \r"
     ]
    }
   ],
   "source": [
    "#Cleaning\n",
    "#Might want to drop everything after - in zipcode if want to transform into an integer  (if closer zipcode values mean closer together)\n",
    "#Might want to drop all NA's after determining that NA's are random\n",
    "df_nona = df.na.drop()\n",
    "\n",
    "# Get row count\n",
    "rows = df_nona.count()\n",
    "print(f\"DataFrame Rows count : {rows}\")\n",
    "\n",
    "# Get columns count\n",
    "cols = len(df_nona.columns)\n",
    "print(f\"DataFrame Columns count : {cols}\")"
   ]
  },
  {
   "cell_type": "code",
   "execution_count": 14,
   "metadata": {},
   "outputs": [
    {
     "name": "stderr",
     "output_type": "stream",
     "text": [
      "                                                                                \r"
     ]
    },
    {
     "name": "stdout",
     "output_type": "stream",
     "text": [
      "+-------+--------+-------+------------------+------------------+------------------+-----------------+-----------------+-----------------+--------------------+------------------+----------+---------+-------+------------------+-------+----------+------------+------------------+------------------+------------------+------------------+------------------+--------------+-----------------+-------------------+------------------+--------------+--------------+-----------------+---------------------+\n",
      "|summary|      ID| Source|          Severity|         Start_Lat|         Start_Lng|          End_Lat|          End_Lng|     Distance(mi)|         Description|            Street|      City|   County|  State|           Zipcode|Country|  Timezone|Airport_Code|    Temperature(F)|     Wind_Chill(F)|       Humidity(%)|      Pressure(in)|    Visibility(mi)|Wind_Direction|  Wind_Speed(mph)|  Precipitation(in)| Weather_Condition|Sunrise_Sunset|Civil_Twilight|Nautical_Twilight|Astronomical_Twilight|\n",
      "+-------+--------+-------+------------------+------------------+------------------+-----------------+-----------------+-----------------+--------------------+------------------+----------+---------+-------+------------------+-------+----------+------------+------------------+------------------+------------------+------------------+------------------+--------------+-----------------+-------------------+------------------+--------------+--------------+-----------------+---------------------+\n",
      "|  count| 7728394|7728394|           7728394|           7728394|           7728394|          4325632|          4325632|          7728394|             7728389|           7717525|   7728141|  7728394|7728394|           7726479|7728394|   7720586|     7705759|           7564541|           5729375|           7554250|           7587715|           7551296|       7553188|          7157161|            5524808|           7554935|       7705148|       7705148|          7705148|              7705148|\n",
      "|   mean|    NULL|   NULL| 2.212384487643875|           36.2204|          -94.6772|          36.2857|         -95.6874|           0.5314|  1096.6666666666667|59.833333333333336|      NULL|     NULL|   NULL| 56844.61091225678|   NULL|      NULL|        NULL|           61.6643|           58.2551|           64.8310|           29.5411|            9.0944|          NULL|           7.7185|             0.0029|              NULL|          NULL|          NULL|             NULL|                 NULL|\n",
      "| stddev|    NULL|   NULL|0.4875313339360398|5.0888890551407915|17.376677146731613|5.280869999494844|18.10164358352402|1.795123392611662|  171.95146900305244|113.85139982862685|      NULL|     NULL|   NULL|30960.037231397473|   NULL|      NULL|        NULL|19.013672493779517|22.384891358538813|22.820967660113475|1.0240713684470288|2.6773162596279803|          NULL|5.411197550591262|0.10958610348010919|              NULL|          NULL|          NULL|             NULL|                 NULL|\n",
      "|    min|     A-1|Source1|                 1|                25|              -125|               25|             -125|                0| 1039 GOLDEN BEAR...|         1 1/2 Ave|Aaronsburg|Abbeville|     AL|             01001|     US|US/Central|        K01M|               -89|               -89|                 1|                 0|                 0|          CALM|                0|                  0|      Blowing Dust|           Day|           Day|              Day|                  Day|\n",
      "|    25%|    NULL|   NULL|                 2|              33.0|            -117.0|             33.0|           -118.0|              0.0|              1125.0|               1.0|      NULL|     NULL|   NULL|           29708.0|   NULL|      NULL|        NULL|              49.0|              43.0|              48.0|              29.0|              10.0|          NULL|              5.0|                0.0|              NULL|          NULL|          NULL|             NULL|                 NULL|\n",
      "|    50%|    NULL|   NULL|                 2|              36.0|             -88.0|             36.0|            -88.0|              0.0|              1125.0|               1.0|      NULL|     NULL|   NULL|           55431.0|   NULL|      NULL|        NULL|              64.0|              62.0|              67.0|              30.0|              10.0|          NULL|              7.0|                0.0|              NULL|          NULL|          NULL|             NULL|                 NULL|\n",
      "|    75%|    NULL|   NULL|                 2|              40.0|             -80.0|             40.0|            -80.0|              0.0|              1125.0|              50.0|      NULL|     NULL|   NULL|           90706.0|   NULL|      NULL|        NULL|              76.0|              75.0|              84.0|              30.0|              10.0|          NULL|             10.0|                0.0|              NULL|          NULL|          NULL|             NULL|                 NULL|\n",
      "|    max|A-999999|Source3|                 4|                49|               -67|               49|              -67|              442| VEHICLE CRASH I7...|  william Carey Dr|   Zwingle|  Ziebach|     WY|             99403|     US|US/Pacific|        KZZV|               207|               207|               100|                59|               140|          West|             1087|                 36|Wintry Mix / Windy|         Night|         Night|            Night|                Night|\n",
      "+-------+--------+-------+------------------+------------------+------------------+-----------------+-----------------+-----------------+--------------------+------------------+----------+---------+-------+------------------+-------+----------+------------+------------------+------------------+------------------+------------------+------------------+--------------+-----------------+-------------------+------------------+--------------+--------------+-----------------+---------------------+\n",
      "\n"
     ]
    }
   ],
   "source": [
    "df.summary().show()"
   ]
  },
  {
   "cell_type": "code",
   "execution_count": 36,
   "metadata": {},
   "outputs": [
    {
     "name": "stderr",
     "output_type": "stream",
     "text": [
      "[Stage 21:===================================================>    (21 + 2) / 23]\r"
     ]
    },
    {
     "name": "stdout",
     "output_type": "stream",
     "text": [
      "+---+------+--------+----------+--------+---------+---------+-------+-------+------------+-----------+------+----+------+-----+-------+-------+--------+------------+-----------------+--------------+-------------+-----------+------------+--------------+--------------+---------------+-----------------+-----------------+-------+----+--------+--------+--------+-------+-------+----------+-------+----+---------------+--------------+------------+--------------+--------------+-----------------+---------------------+\n",
      "| ID|Source|Severity|Start_Time|End_Time|Start_Lat|Start_Lng|End_Lat|End_Lng|Distance(mi)|Description|Street|City|County|State|Zipcode|Country|Timezone|Airport_Code|Weather_Timestamp|Temperature(F)|Wind_Chill(F)|Humidity(%)|Pressure(in)|Visibility(mi)|Wind_Direction|Wind_Speed(mph)|Precipitation(in)|Weather_Condition|Amenity|Bump|Crossing|Give_way|Junction|No_Exit|Railway|Roundabout|Station|Stop|Traffic_Calming|Traffic_Signal|Turning_Loop|Sunrise_Sunset|Civil_Twilight|Nautical_Twilight|Astronomical_Twilight|\n",
      "+---+------+--------+----------+--------+---------+---------+-------+-------+------------+-----------+------+----+------+-----+-------+-------+--------+------------+-----------------+--------------+-------------+-----------+------------+--------------+--------------+---------------+-----------------+-----------------+-------+----+--------+--------+--------+-------+-------+----------+-------+----+---------------+--------------+------------+--------------+--------------+-----------------+---------------------+\n",
      "|  0|     0|       0|         0|       0|        0|        0|3402762|3402762|           0|          5| 10869| 253|     0|    0|   1915|      0|    7808|       22635|           120228|        163853|      1999019|     174144|      140679|        177098|        175206|         571233|          2203586|           173459|      0|   0|       0|       0|       0|      0|      0|         0|      0|   0|              0|             0|           0|         23246|         23246|            23246|                23246|\n",
      "+---+------+--------+----------+--------+---------+---------+-------+-------+------------+-----------+------+----+------+-----+-------+-------+--------+------------+-----------------+--------------+-------------+-----------+------------+--------------+--------------+---------------+-----------------+-----------------+-------+----+--------+--------+--------+-------+-------+----------+-------+----+---------------+--------------+------------+--------------+--------------+-----------------+---------------------+\n",
      "\n"
     ]
    },
    {
     "name": "stderr",
     "output_type": "stream",
     "text": [
      "                                                                                \r"
     ]
    }
   ],
   "source": [
    "#Null counts (excluding time columns)\n",
    "df.agg(*[\n",
    "    (7728394-count(c)).alias(c)    # vertical (column-wise) operations in SQL ignore NULLs\n",
    "    for c in df.columns \n",
    "]).show()"
   ]
  }
 ],
 "metadata": {
  "kernelspec": {
   "display_name": "Python 3 (ipykernel)",
   "language": "python",
   "name": "python3"
  },
  "language_info": {
   "codemirror_mode": {
    "name": "ipython",
    "version": 3
   },
   "file_extension": ".py",
   "mimetype": "text/x-python",
   "name": "python",
   "nbconvert_exporter": "python",
   "pygments_lexer": "ipython3",
   "version": "3.12.5"
  }
 },
 "nbformat": 4,
 "nbformat_minor": 4
}
